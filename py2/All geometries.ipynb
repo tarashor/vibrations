{
 "cells": [
  {
   "cell_type": "markdown",
   "metadata": {},
   "source": [
    "# 2D shells"
   ]
  },
  {
   "cell_type": "markdown",
   "metadata": {},
   "source": [
    "Init sympy"
   ]
  },
  {
   "cell_type": "code",
   "execution_count": 2,
   "metadata": {
    "collapsed": true
   },
   "outputs": [],
   "source": [
    "from sympy import *\n",
    "from sympy.vector import CoordSys3D\n",
    "N = CoordSys3D('N')\n",
    "alpha1, alpha2, R, L, ga, gv = symbols(\"alpha_1 alpha_2 R L g_a g_v\")\n",
    "init_printing()"
   ]
  },
  {
   "cell_type": "markdown",
   "metadata": {},
   "source": [
    "## Cylindrical coordinates"
   ]
  },
  {
   "cell_type": "code",
   "execution_count": 3,
   "metadata": {
    "collapsed": true
   },
   "outputs": [],
   "source": [
    "a1 = pi / 2 + (L / 2 - alpha1)/R\n",
    "\n",
    "x = R * cos(a1)\n",
    "y = R * sin(a1)\n",
    "\n",
    "r = x*N.i + y*N.j"
   ]
  },
  {
   "cell_type": "markdown",
   "metadata": {},
   "source": [
    "#### Curve in 2D coordinates system will be defined with the following vector $\\vec{r}=\\vec{r(\\alpha_1)}$"
   ]
  },
  {
   "cell_type": "code",
   "execution_count": 4,
   "metadata": {},
   "outputs": [
    {
     "data": {
      "image/png": "[encoded data removed]",
      "text/latex": [
       "$$(- R \\sin{\\left (\\frac{1}{R} \\left(\\frac{L}{2} - \\alpha_{1}\\right) \\right )})\\mathbf{\\hat{i}_{N}} + (R \\cos{\\left (\\frac{1}{R} \\left(\\frac{L}{2} - \\alpha_{1}\\right) \\right )})\\mathbf{\\hat{j}_{N}}$$"
      ],
      "text/plain": [
       "⎛      ⎛L     ⎞ N_i⎞ N_i + ⎛     ⎛L     ⎞ N_j⎞ N_j\n",
       "⎜      ⎜─ - α₁⎟⎟           ⎜     ⎜─ - α₁⎟⎟        \n",
       "⎜      ⎜2     ⎟⎟           ⎜     ⎜2     ⎟⎟        \n",
       "⎜-R⋅sin⎜──────⎟⎟           ⎜R⋅cos⎜──────⎟⎟        \n",
       "⎝      ⎝  R   ⎠⎠           ⎝     ⎝  R   ⎠⎠        "
      ]
     },
     "execution_count": 4,
     "metadata": {},
     "output_type": "execute_result"
    }
   ],
   "source": [
    "r"
   ]
  },
  {
   "cell_type": "markdown",
   "metadata": {},
   "source": [
    "#### Tangent to curve"
   ]
  },
  {
   "cell_type": "code",
   "execution_count": 24,
   "metadata": {},
   "outputs": [
    {
     "data": {
      "image/png": "[encoded data removed]",
      "text/latex": [
       "$$(\\cos{\\left (\\frac{1}{R} \\left(\\frac{L}{2} - \\alpha_{1}\\right) \\right )})\\mathbf{\\hat{i}_{N}} + (\\sin{\\left (\\frac{1}{R} \\left(\\frac{L}{2} - \\alpha_{1}\\right) \\right )})\\mathbf{\\hat{j}_{N}}$$"
      ],
      "text/plain": [
       "⎛   ⎛L     ⎞ N_i⎞ N_i + ⎛   ⎛L     ⎞ N_j⎞ N_j\n",
       "⎜   ⎜─ - α₁⎟⎟           ⎜   ⎜─ - α₁⎟⎟        \n",
       "⎜   ⎜2     ⎟⎟           ⎜   ⎜2     ⎟⎟        \n",
       "⎜cos⎜──────⎟⎟           ⎜sin⎜──────⎟⎟        \n",
       "⎝   ⎝  R   ⎠⎠           ⎝   ⎝  R   ⎠⎠        "
      ]
     },
     "execution_count": 24,
     "metadata": {},
     "output_type": "execute_result"
    }
   ],
   "source": [
    "v_temp = r.diff(alpha1)\n",
    "dr_len = v_temp.magnitude()\n",
    "v = v_temp / dr_len\n",
    "v = trigsimp(v)\n",
    "v"
   ]
  },
  {
   "cell_type": "code",
   "execution_count": 26,
   "metadata": {},
   "outputs": [
    {
     "data": {
      "image/png": "[encoded data removed]",
      "text/latex": [
       "$$1$$"
      ],
      "text/plain": [
       "1"
      ]
     },
     "execution_count": 26,
     "metadata": {},
     "output_type": "execute_result"
    }
   ],
   "source": [
    "trigsimp(dr_len)"
   ]
  },
  {
   "cell_type": "markdown",
   "metadata": {},
   "source": [
    "#### Normal to curve"
   ]
  },
  {
   "cell_type": "code",
   "execution_count": 21,
   "metadata": {},
   "outputs": [
    {
     "data": {
      "image/png": "[encoded data removed]",
      "text/latex": [
       "$$(\\sin{\\left (\\frac{1}{R} \\left(\\frac{L}{2} - \\alpha_{1}\\right) \\right )})\\mathbf{\\hat{i}_{N}} + (- \\cos{\\left (\\frac{1}{R} \\left(\\frac{L}{2} - \\alpha_{1}\\right) \\right )})\\mathbf{\\hat{j}_{N}}$$"
      ],
      "text/plain": [
       "⎛   ⎛L     ⎞ N_i⎞ N_i + ⎛    ⎛L     ⎞ N_j⎞ N_j\n",
       "⎜   ⎜─ - α₁⎟⎟           ⎜    ⎜─ - α₁⎟⎟        \n",
       "⎜   ⎜2     ⎟⎟           ⎜    ⎜2     ⎟⎟        \n",
       "⎜sin⎜──────⎟⎟           ⎜-cos⎜──────⎟⎟        \n",
       "⎝   ⎝  R   ⎠⎠           ⎝    ⎝  R   ⎠⎠        "
      ]
     },
     "execution_count": 21,
     "metadata": {},
     "output_type": "execute_result"
    }
   ],
   "source": [
    "n_temp = v.diff(alpha1)\n",
    "k=trigsimp(n_temp.magnitude())\n",
    "n = n_temp/k\n",
    "q=1/(R*sqrt(1/R**2))\n",
    "n = trigsimp(n).subs(q, 1)\n",
    "n"
   ]
  },
  {
   "cell_type": "code",
   "execution_count": 11,
   "metadata": {},
   "outputs": [
    {
     "data": {
      "image/png": "[encoded data removed]",
      "text/latex": [
       "$$0$$"
      ],
      "text/plain": [
       "0"
      ]
     },
     "execution_count": 11,
     "metadata": {},
     "output_type": "execute_result"
    }
   ],
   "source": [
    "v.dot(n)"
   ]
  },
  {
   "cell_type": "code",
   "execution_count": 12,
   "metadata": {
    "scrolled": true
   },
   "outputs": [
    {
     "data": {
      "image/png": "[encoded data removed]",
      "text/latex": [
       "$$0$$"
      ],
      "text/plain": [
       "0"
      ]
     },
     "execution_count": 12,
     "metadata": {},
     "output_type": "execute_result"
    }
   ],
   "source": [
    "n.dot(v)"
   ]
  },
  {
   "cell_type": "markdown",
   "metadata": {},
   "source": [
    "#### Curvature"
   ]
  },
  {
   "cell_type": "code",
   "execution_count": 14,
   "metadata": {},
   "outputs": [
    {
     "data": {
      "image/png": "[encoded data removed]",
      "text/latex": [
       "$$\\sqrt{\\frac{1}{R^{2}}}$$"
      ],
      "text/plain": [
       "     ____\n",
       "    ╱ 1  \n",
       "   ╱  ── \n",
       "  ╱    2 \n",
       "╲╱    R  "
      ]
     },
     "execution_count": 14,
     "metadata": {},
     "output_type": "execute_result"
    }
   ],
   "source": [
    "sympify(k)"
   ]
  },
  {
   "cell_type": "markdown",
   "metadata": {},
   "source": [
    "#### Derivative of base vectors"
   ]
  },
  {
   "cell_type": "code",
   "execution_count": 18,
   "metadata": {},
   "outputs": [
    {
     "data": {
      "image/png": "[encoded data removed]",
      "text/latex": [
       "$$(- \\frac{1}{R} \\cos{\\left (\\frac{1}{R} \\left(\\frac{L}{2} - \\alpha_{1}\\right) \\right )})\\mathbf{\\hat{i}_{N}} + (- \\frac{1}{R} \\sin{\\left (\\frac{1}{R} \\left(\\frac{L}{2} - \\alpha_{1}\\right) \\right )})\\mathbf{\\hat{j}_{N}}$$"
      ],
      "text/plain": [
       "⎛    ⎛L     ⎞ N_i ⎞ N_i + ⎛    ⎛L     ⎞ N_j ⎞ N_j\n",
       "⎜    ⎜─ - α₁⎟ ⎟           ⎜    ⎜─ - α₁⎟ ⎟        \n",
       "⎜    ⎜2     ⎟ ⎟           ⎜    ⎜2     ⎟ ⎟        \n",
       "⎜-cos⎜──────⎟ ⎟           ⎜-sin⎜──────⎟ ⎟        \n",
       "⎜    ⎝  R   ⎠ ⎟           ⎜    ⎝  R   ⎠ ⎟        \n",
       "⎜─────────────⎟           ⎜─────────────⎟        \n",
       "⎝      R      ⎠           ⎝      R      ⎠        "
      ]
     },
     "execution_count": 18,
     "metadata": {},
     "output_type": "execute_result"
    }
   ],
   "source": [
    "n.diff(alpha1)"
   ]
  },
  {
   "cell_type": "markdown",
   "metadata": {},
   "source": [
    "$ \\frac { d\\vec{n} } { d\\alpha_1} = -\\frac {1}{R} \\vec{v} = -k \\vec{v} $"
   ]
  },
  {
   "cell_type": "code",
   "execution_count": 20,
   "metadata": {},
   "outputs": [
    {
     "data": {
      "image/png": "[encoded data removed]",
      "text/latex": [
       "$$(\\frac{1}{R} \\sin{\\left (\\frac{1}{R} \\left(\\frac{L}{2} - \\alpha_{1}\\right) \\right )})\\mathbf{\\hat{i}_{N}} + (- \\frac{1}{R} \\cos{\\left (\\frac{1}{R} \\left(\\frac{L}{2} - \\alpha_{1}\\right) \\right )})\\mathbf{\\hat{j}_{N}}$$"
      ],
      "text/plain": [
       "⎛   ⎛L     ⎞ N_i⎞ N_i + ⎛    ⎛L     ⎞ N_j ⎞ N_j\n",
       "⎜   ⎜─ - α₁⎟⎟           ⎜    ⎜─ - α₁⎟ ⎟        \n",
       "⎜   ⎜2     ⎟⎟           ⎜    ⎜2     ⎟ ⎟        \n",
       "⎜sin⎜──────⎟⎟           ⎜-cos⎜──────⎟ ⎟        \n",
       "⎜   ⎝  R   ⎠⎟           ⎜    ⎝  R   ⎠ ⎟        \n",
       "⎜───────────⎟           ⎜─────────────⎟        \n",
       "⎝     R     ⎠           ⎝      R      ⎠        "
      ]
     },
     "execution_count": 20,
     "metadata": {},
     "output_type": "execute_result"
    }
   ],
   "source": [
    "v.diff(alpha1)"
   ]
  },
  {
   "cell_type": "markdown",
   "metadata": {},
   "source": [
    "$ \\frac { d\\vec{v} } { d\\alpha_1} = \\frac {1}{R} \\vec{n} = k \\vec{n} $"
   ]
  },
  {
   "cell_type": "markdown",
   "metadata": {},
   "source": [
    "#### Derivative of vectors\n",
    "\n",
    "$ \\vec{u} = u_v \\vec{v} + u_n\\vec{n} $\n",
    "\n",
    "$ \\frac { d\\vec{u} } { d\\alpha_1} =  \\frac { d(u_v\\vec{v}) } { d\\alpha_1} + \\frac { d(u_n\\vec{n}) } { d\\alpha_1} = \n",
    " \\frac { du_n } { d\\alpha_1} \\vec{n} + u_n \\frac { d\\vec{n} } { d\\alpha_1} + \\frac { du_v } { d\\alpha_1} \\vec{v} + u_v \\frac { d\\vec{v} } { d\\alpha_1} = \\frac { du_n } { d\\alpha_1} \\vec{n} - u_n k \\vec{v} + \\frac { du_v } { d\\alpha_1} \\vec{v} + u_v k \\vec{n} = $\n",
    "\n",
    "$ \\frac { d\\vec{u} } { d\\alpha_1} = \\left( \\frac { du_v } { d\\alpha_1} - u_n k \\right) \\vec{v} + \\left( \\frac { du_n } { d\\alpha_1} + u_v k \\right) \\vec{n}$\n",
    "\n",
    "$ \\frac { d\\vec{u} } { d\\alpha_2} = \\frac { d(u_n\\vec{n}) } { d\\alpha_2} + \\frac { d(u_v\\vec{v}) } { d\\alpha_2} = \n",
    " \\frac { du_n } { d\\alpha_2} \\vec{n} + u_n \\frac { d\\vec{n} } { d\\alpha_2} + \\frac { du_v } { d\\alpha_2} \\vec{v} + u_v \\frac { d\\vec{v} } { d\\alpha_2} = \\frac { du_n } { d\\alpha_2} \\vec{n} + \\frac { du_v } { d\\alpha_2} \\vec{v} $"
   ]
  },
  {
   "cell_type": "code",
   "execution_count": 36,
   "metadata": {},
   "outputs": [
    {
     "data": {
      "image/png": "[encoded data removed]",
      "text/latex": [
       "$$\\left[\\begin{matrix}\\cos{\\left (\\frac{1}{R} \\left(\\frac{L}{2} - \\alpha_{1}\\right) \\right )} & \\sin{\\left (\\frac{1}{R} \\left(\\frac{L}{2} - \\alpha_{1}\\right) \\right )}\\\\\\sin{\\left (\\frac{1}{R} \\left(\\frac{L}{2} - \\alpha_{1}\\right) \\right )} & - \\cos{\\left (\\frac{1}{R} \\left(\\frac{L}{2} - \\alpha_{1}\\right) \\right )}\\end{matrix}\\right]$$"
      ],
      "text/plain": [
       "⎡   ⎛L     ⎞     ⎛L     ⎞ ⎤\n",
       "⎢   ⎜─ - α₁⎟     ⎜─ - α₁⎟ ⎥\n",
       "⎢   ⎜2     ⎟     ⎜2     ⎟ ⎥\n",
       "⎢cos⎜──────⎟  sin⎜──────⎟ ⎥\n",
       "⎢   ⎝  R   ⎠     ⎝  R   ⎠ ⎥\n",
       "⎢                         ⎥\n",
       "⎢   ⎛L     ⎞      ⎛L     ⎞⎥\n",
       "⎢   ⎜─ - α₁⎟      ⎜─ - α₁⎟⎥\n",
       "⎢   ⎜2     ⎟      ⎜2     ⎟⎥\n",
       "⎢sin⎜──────⎟  -cos⎜──────⎟⎥\n",
       "⎣   ⎝  R   ⎠      ⎝  R   ⎠⎦"
      ]
     },
     "execution_count": 36,
     "metadata": {},
     "output_type": "execute_result"
    }
   ],
   "source": [
    "m11=v.dot(N.i)\n",
    "m12=n.dot(N.i)\n",
    "m21=v.dot(N.j)\n",
    "m22=n.dot(N.j)\n",
    "m=Matrix([[m11, m12], [m21, m22]])\n",
    "m"
   ]
  },
  {
   "cell_type": "code",
   "execution_count": 39,
   "metadata": {},
   "outputs": [
    {
     "data": {
      "image/png": "[encoded data removed]",
      "text/latex": [
       "$$\\left[\\begin{matrix}- \\frac{\\sin^{2}{\\left (\\frac{1}{R} \\left(\\frac{L}{2} - \\alpha_{1}\\right) \\right )} - 1}{\\cos{\\left (\\frac{1}{R} \\left(\\frac{L}{2} - \\alpha_{1}\\right) \\right )}} & \\sin{\\left (\\frac{1}{R} \\left(\\frac{L}{2} - \\alpha_{1}\\right) \\right )}\\\\\\sin{\\left (\\frac{1}{R} \\left(\\frac{L}{2} - \\alpha_{1}\\right) \\right )} & - \\cos{\\left (\\frac{1}{R} \\left(\\frac{L}{2} - \\alpha_{1}\\right) \\right )}\\end{matrix}\\right]$$"
      ],
      "text/plain": [
       "⎡ ⎛    ⎛L     ⎞    ⎞               ⎤\n",
       "⎢ ⎜    ⎜─ - α₁⎟    ⎟               ⎥\n",
       "⎢ ⎜   2⎜2     ⎟    ⎟      ⎛L     ⎞ ⎥\n",
       "⎢-⎜sin ⎜──────⎟ - 1⎟      ⎜─ - α₁⎟ ⎥\n",
       "⎢ ⎝    ⎝  R   ⎠    ⎠      ⎜2     ⎟ ⎥\n",
       "⎢────────────────────  sin⎜──────⎟ ⎥\n",
       "⎢       ⎛L     ⎞          ⎝  R   ⎠ ⎥\n",
       "⎢       ⎜─ - α₁⎟                   ⎥\n",
       "⎢       ⎜2     ⎟                   ⎥\n",
       "⎢    cos⎜──────⎟                   ⎥\n",
       "⎢       ⎝  R   ⎠                   ⎥\n",
       "⎢                                  ⎥\n",
       "⎢       ⎛L     ⎞           ⎛L     ⎞⎥\n",
       "⎢       ⎜─ - α₁⎟           ⎜─ - α₁⎟⎥\n",
       "⎢       ⎜2     ⎟           ⎜2     ⎟⎥\n",
       "⎢    sin⎜──────⎟       -cos⎜──────⎟⎥\n",
       "⎣       ⎝  R   ⎠           ⎝  R   ⎠⎦"
      ]
     },
     "execution_count": 39,
     "metadata": {},
     "output_type": "execute_result"
    }
   ],
   "source": [
    "m_inv = m**-1\n",
    "m_inv"
   ]
  },
  {
   "cell_type": "code",
   "execution_count": 42,
   "metadata": {},
   "outputs": [
    {
     "data": {
      "image/png": "[encoded data removed]",
      "text/latex": [
       "$$\\left[\\begin{matrix}1 & 0\\\\0 & 1\\end{matrix}\\right]$$"
      ],
      "text/plain": [
       "⎡1  0⎤\n",
       "⎢    ⎥\n",
       "⎣0  1⎦"
      ]
     },
     "execution_count": 42,
     "metadata": {},
     "output_type": "execute_result"
    }
   ],
   "source": [
    "trigsimp(m*m_inv)"
   ]
  },
  {
   "cell_type": "code",
   "execution_count": 46,
   "metadata": {},
   "outputs": [
    {
     "data": {
      "image/png": "[encoded data removed]",
      "text/latex": [
       "$$\\left[\\begin{matrix}1 & 0\\\\0 & 1\\end{matrix}\\right]$$"
      ],
      "text/plain": [
       "⎡1  0⎤\n",
       "⎢    ⎥\n",
       "⎣0  1⎦"
      ]
     },
     "execution_count": 46,
     "metadata": {},
     "output_type": "execute_result"
    }
   ],
   "source": [
    "trigsimp(m*m)"
   ]
  },
  {
   "cell_type": "code",
   "execution_count": 60,
   "metadata": {},
   "outputs": [
    {
     "data": {
      "image/png": "[encoded data removed]",
      "text/latex": [
       "$$\\left[\\begin{matrix}\\operatorname{u_{1}}{\\left (\\alpha_{1},\\alpha_{2} \\right )}\\\\\\operatorname{u_{2}}{\\left (\\alpha_{1},\\alpha_{2} \\right )}\\end{matrix}\\right]$$"
      ],
      "text/plain": [
       "⎡u₁(α₁, α₂)⎤\n",
       "⎢          ⎥\n",
       "⎣u₂(α₁, α₂)⎦"
      ]
     },
     "execution_count": 60,
     "metadata": {},
     "output_type": "execute_result"
    }
   ],
   "source": [
    "u1 = Function(\"u_1\")\n",
    "u2 = Function(\"u_2\")\n",
    "u=Matrix([u1(alpha1,alpha2), u2(alpha1,alpha2)])\n",
    "u"
   ]
  },
  {
   "cell_type": "code",
   "execution_count": 61,
   "metadata": {},
   "outputs": [
    {
     "data": {
      "image/png": "[encoded data removed]",
      "text/latex": [
       "$$\\left[\\begin{matrix}\\operatorname{u_{1}}{\\left (\\alpha_{1},\\alpha_{2} \\right )} \\cos{\\left (\\frac{1}{R} \\left(\\frac{L}{2} - \\alpha_{1}\\right) \\right )} + \\operatorname{u_{2}}{\\left (\\alpha_{1},\\alpha_{2} \\right )} \\sin{\\left (\\frac{1}{R} \\left(\\frac{L}{2} - \\alpha_{1}\\right) \\right )}\\\\\\operatorname{u_{1}}{\\left (\\alpha_{1},\\alpha_{2} \\right )} \\sin{\\left (\\frac{1}{R} \\left(\\frac{L}{2} - \\alpha_{1}\\right) \\right )} - \\operatorname{u_{2}}{\\left (\\alpha_{1},\\alpha_{2} \\right )} \\cos{\\left (\\frac{1}{R} \\left(\\frac{L}{2} - \\alpha_{1}\\right) \\right )}\\end{matrix}\\right]$$"
      ],
      "text/plain": [
       "⎡              ⎛L     ⎞                 ⎛L     ⎞⎤\n",
       "⎢              ⎜─ - α₁⎟                 ⎜─ - α₁⎟⎥\n",
       "⎢              ⎜2     ⎟                 ⎜2     ⎟⎥\n",
       "⎢u₁(α₁, α₂)⋅cos⎜──────⎟ + u₂(α₁, α₂)⋅sin⎜──────⎟⎥\n",
       "⎢              ⎝  R   ⎠                 ⎝  R   ⎠⎥\n",
       "⎢                                               ⎥\n",
       "⎢              ⎛L     ⎞                 ⎛L     ⎞⎥\n",
       "⎢              ⎜─ - α₁⎟                 ⎜─ - α₁⎟⎥\n",
       "⎢              ⎜2     ⎟                 ⎜2     ⎟⎥\n",
       "⎢u₁(α₁, α₂)⋅sin⎜──────⎟ - u₂(α₁, α₂)⋅cos⎜──────⎟⎥\n",
       "⎣              ⎝  R   ⎠                 ⎝  R   ⎠⎦"
      ]
     },
     "execution_count": 61,
     "metadata": {},
     "output_type": "execute_result"
    }
   ],
   "source": [
    "u_alpha = m*u\n",
    "u_alpha"
   ]
  },
  {
   "cell_type": "code",
   "execution_count": 65,
   "metadata": {},
   "outputs": [
    {
     "data": {
      "image/png": "[encoded data removed]",
      "text/latex": [
       "$$\\left[\\begin{matrix}\\sin{\\left (\\frac{1}{R} \\left(\\frac{L}{2} - \\alpha_{1}\\right) \\right )} \\frac{\\partial}{\\partial \\alpha_{1}} \\operatorname{u_{2}}{\\left (\\alpha_{1},\\alpha_{2} \\right )} + \\cos{\\left (\\frac{1}{R} \\left(\\frac{L}{2} - \\alpha_{1}\\right) \\right )} \\frac{\\partial}{\\partial \\alpha_{1}} \\operatorname{u_{1}}{\\left (\\alpha_{1},\\alpha_{2} \\right )} + \\frac{1}{R} \\operatorname{u_{1}}{\\left (\\alpha_{1},\\alpha_{2} \\right )} \\sin{\\left (\\frac{1}{R} \\left(\\frac{L}{2} - \\alpha_{1}\\right) \\right )} - \\frac{1}{R} \\operatorname{u_{2}}{\\left (\\alpha_{1},\\alpha_{2} \\right )} \\cos{\\left (\\frac{1}{R} \\left(\\frac{L}{2} - \\alpha_{1}\\right) \\right )}\\\\\\sin{\\left (\\frac{1}{R} \\left(\\frac{L}{2} - \\alpha_{1}\\right) \\right )} \\frac{\\partial}{\\partial \\alpha_{1}} \\operatorname{u_{1}}{\\left (\\alpha_{1},\\alpha_{2} \\right )} - \\cos{\\left (\\frac{1}{R} \\left(\\frac{L}{2} - \\alpha_{1}\\right) \\right )} \\frac{\\partial}{\\partial \\alpha_{1}} \\operatorname{u_{2}}{\\left (\\alpha_{1},\\alpha_{2} \\right )} - \\frac{1}{R} \\operatorname{u_{1}}{\\left (\\alpha_{1},\\alpha_{2} \\right )} \\cos{\\left (\\frac{1}{R} \\left(\\frac{L}{2} - \\alpha_{1}\\right) \\right )} - \\frac{1}{R} \\operatorname{u_{2}}{\\left (\\alpha_{1},\\alpha_{2} \\right )} \\sin{\\left (\\frac{1}{R} \\left(\\frac{L}{2} - \\alpha_{1}\\right) \\right )}\\end{matrix}\\right]$$"
      ],
      "text/plain": [
       "⎡                                                                          ⎛L \n",
       "⎢                                                                          ⎜─ \n",
       "⎢   ⎛L     ⎞                      ⎛L     ⎞                                 ⎜2 \n",
       "⎢   ⎜─ - α₁⎟                      ⎜─ - α₁⎟                   u₁(α₁, α₂)⋅sin⎜──\n",
       "⎢   ⎜2     ⎟  ∂                   ⎜2     ⎟  ∂                              ⎝  \n",
       "⎢sin⎜──────⎟⋅───(u₂(α₁, α₂)) + cos⎜──────⎟⋅───(u₁(α₁, α₂)) + ─────────────────\n",
       "⎢   ⎝  R   ⎠ ∂α₁                  ⎝  R   ⎠ ∂α₁                         R      \n",
       "⎢                                                                             \n",
       "⎢                                                                          ⎛L \n",
       "⎢                                                                          ⎜─ \n",
       "⎢   ⎛L     ⎞                      ⎛L     ⎞                                 ⎜2 \n",
       "⎢   ⎜─ - α₁⎟                      ⎜─ - α₁⎟                   u₁(α₁, α₂)⋅cos⎜──\n",
       "⎢   ⎜2     ⎟  ∂                   ⎜2     ⎟  ∂                              ⎝  \n",
       "⎢sin⎜──────⎟⋅───(u₁(α₁, α₂)) - cos⎜──────⎟⋅───(u₂(α₁, α₂)) - ─────────────────\n",
       "⎣   ⎝  R   ⎠ ∂α₁                  ⎝  R   ⎠ ∂α₁                         R      \n",
       "\n",
       "    ⎞                 ⎛L     ⎞⎤\n",
       "- α₁⎟                 ⎜─ - α₁⎟⎥\n",
       "    ⎟                 ⎜2     ⎟⎥\n",
       "────⎟   u₂(α₁, α₂)⋅cos⎜──────⎟⎥\n",
       "R   ⎠                 ⎝  R   ⎠⎥\n",
       "───── - ──────────────────────⎥\n",
       "                  R           ⎥\n",
       "                              ⎥\n",
       "    ⎞                 ⎛L     ⎞⎥\n",
       "- α₁⎟                 ⎜─ - α₁⎟⎥\n",
       "    ⎟                 ⎜2     ⎟⎥\n",
       "────⎟   u₂(α₁, α₂)⋅sin⎜──────⎟⎥\n",
       "R   ⎠                 ⎝  R   ⎠⎥\n",
       "───── - ──────────────────────⎥\n",
       "                  R           ⎦"
      ]
     },
     "execution_count": 65,
     "metadata": {},
     "output_type": "execute_result"
    }
   ],
   "source": [
    "trigsimp(u_alpha.diff(alpha1))"
   ]
  },
  {
   "cell_type": "code",
   "execution_count": 66,
   "metadata": {},
   "outputs": [
    {
     "data": {
      "image/png": "[encoded data removed]",
      "text/latex": [
       "$$\\left[\\begin{matrix}\\sin{\\left (\\frac{1}{R} \\left(\\frac{L}{2} - \\alpha_{1}\\right) \\right )} \\frac{\\partial}{\\partial \\alpha_{2}} \\operatorname{u_{2}}{\\left (\\alpha_{1},\\alpha_{2} \\right )} + \\cos{\\left (\\frac{1}{R} \\left(\\frac{L}{2} - \\alpha_{1}\\right) \\right )} \\frac{\\partial}{\\partial \\alpha_{2}} \\operatorname{u_{1}}{\\left (\\alpha_{1},\\alpha_{2} \\right )}\\\\\\sin{\\left (\\frac{1}{R} \\left(\\frac{L}{2} - \\alpha_{1}\\right) \\right )} \\frac{\\partial}{\\partial \\alpha_{2}} \\operatorname{u_{1}}{\\left (\\alpha_{1},\\alpha_{2} \\right )} - \\cos{\\left (\\frac{1}{R} \\left(\\frac{L}{2} - \\alpha_{1}\\right) \\right )} \\frac{\\partial}{\\partial \\alpha_{2}} \\operatorname{u_{2}}{\\left (\\alpha_{1},\\alpha_{2} \\right )}\\end{matrix}\\right]$$"
      ],
      "text/plain": [
       "⎡   ⎛L     ⎞                      ⎛L     ⎞                ⎤\n",
       "⎢   ⎜─ - α₁⎟                      ⎜─ - α₁⎟                ⎥\n",
       "⎢   ⎜2     ⎟  ∂                   ⎜2     ⎟  ∂             ⎥\n",
       "⎢sin⎜──────⎟⋅───(u₂(α₁, α₂)) + cos⎜──────⎟⋅───(u₁(α₁, α₂))⎥\n",
       "⎢   ⎝  R   ⎠ ∂α₂                  ⎝  R   ⎠ ∂α₂            ⎥\n",
       "⎢                                                         ⎥\n",
       "⎢   ⎛L     ⎞                      ⎛L     ⎞                ⎥\n",
       "⎢   ⎜─ - α₁⎟                      ⎜─ - α₁⎟                ⎥\n",
       "⎢   ⎜2     ⎟  ∂                   ⎜2     ⎟  ∂             ⎥\n",
       "⎢sin⎜──────⎟⋅───(u₁(α₁, α₂)) - cos⎜──────⎟⋅───(u₂(α₁, α₂))⎥\n",
       "⎣   ⎝  R   ⎠ ∂α₂                  ⎝  R   ⎠ ∂α₂            ⎦"
      ]
     },
     "execution_count": 66,
     "metadata": {},
     "output_type": "execute_result"
    }
   ],
   "source": [
    "trigsimp(u_alpha.diff(alpha2))"
   ]
  },
  {
   "cell_type": "code",
   "execution_count": 68,
   "metadata": {},
   "outputs": [
    {
     "data": {
      "image/png": "[encoded data removed]",
      "text/latex": [
       "$$\\left[\\begin{matrix}\\sin{\\left (\\frac{1}{R} \\left(\\frac{L}{2} - \\alpha_{1}\\right) \\right )} \\frac{\\partial}{\\partial \\alpha_{1}} \\operatorname{u_{2}}{\\left (\\alpha_{1},\\alpha_{2} \\right )} + \\cos{\\left (\\frac{1}{R} \\left(\\frac{L}{2} - \\alpha_{1}\\right) \\right )} \\frac{\\partial}{\\partial \\alpha_{1}} \\operatorname{u_{1}}{\\left (\\alpha_{1},\\alpha_{2} \\right )}\\\\\\sin{\\left (\\frac{1}{R} \\left(\\frac{L}{2} - \\alpha_{1}\\right) \\right )} \\frac{\\partial}{\\partial \\alpha_{1}} \\operatorname{u_{1}}{\\left (\\alpha_{1},\\alpha_{2} \\right )} - \\cos{\\left (\\frac{1}{R} \\left(\\frac{L}{2} - \\alpha_{1}\\right) \\right )} \\frac{\\partial}{\\partial \\alpha_{1}} \\operatorname{u_{2}}{\\left (\\alpha_{1},\\alpha_{2} \\right )}\\end{matrix}\\right]$$"
      ],
      "text/plain": [
       "⎡   ⎛L     ⎞                      ⎛L     ⎞                ⎤\n",
       "⎢   ⎜─ - α₁⎟                      ⎜─ - α₁⎟                ⎥\n",
       "⎢   ⎜2     ⎟  ∂                   ⎜2     ⎟  ∂             ⎥\n",
       "⎢sin⎜──────⎟⋅───(u₂(α₁, α₂)) + cos⎜──────⎟⋅───(u₁(α₁, α₂))⎥\n",
       "⎢   ⎝  R   ⎠ ∂α₁                  ⎝  R   ⎠ ∂α₁            ⎥\n",
       "⎢                                                         ⎥\n",
       "⎢   ⎛L     ⎞                      ⎛L     ⎞                ⎥\n",
       "⎢   ⎜─ - α₁⎟                      ⎜─ - α₁⎟                ⎥\n",
       "⎢   ⎜2     ⎟  ∂                   ⎜2     ⎟  ∂             ⎥\n",
       "⎢sin⎜──────⎟⋅───(u₁(α₁, α₂)) - cos⎜──────⎟⋅───(u₂(α₁, α₂))⎥\n",
       "⎣   ⎝  R   ⎠ ∂α₁                  ⎝  R   ⎠ ∂α₁            ⎦"
      ]
     },
     "execution_count": 68,
     "metadata": {},
     "output_type": "execute_result"
    }
   ],
   "source": [
    "m*u.diff(alpha1)"
   ]
  },
  {
   "cell_type": "code",
   "execution_count": 69,
   "metadata": {},
   "outputs": [
    {
     "data": {
      "image/png": "[encoded data removed]",
      "text/latex": [
       "$$\\left[\\begin{matrix}\\sin{\\left (\\frac{1}{R} \\left(\\frac{L}{2} - \\alpha_{1}\\right) \\right )} \\frac{\\partial}{\\partial \\alpha_{2}} \\operatorname{u_{2}}{\\left (\\alpha_{1},\\alpha_{2} \\right )} + \\cos{\\left (\\frac{1}{R} \\left(\\frac{L}{2} - \\alpha_{1}\\right) \\right )} \\frac{\\partial}{\\partial \\alpha_{2}} \\operatorname{u_{1}}{\\left (\\alpha_{1},\\alpha_{2} \\right )}\\\\\\sin{\\left (\\frac{1}{R} \\left(\\frac{L}{2} - \\alpha_{1}\\right) \\right )} \\frac{\\partial}{\\partial \\alpha_{2}} \\operatorname{u_{1}}{\\left (\\alpha_{1},\\alpha_{2} \\right )} - \\cos{\\left (\\frac{1}{R} \\left(\\frac{L}{2} - \\alpha_{1}\\right) \\right )} \\frac{\\partial}{\\partial \\alpha_{2}} \\operatorname{u_{2}}{\\left (\\alpha_{1},\\alpha_{2} \\right )}\\end{matrix}\\right]$$"
      ],
      "text/plain": [
       "⎡   ⎛L     ⎞                      ⎛L     ⎞                ⎤\n",
       "⎢   ⎜─ - α₁⎟                      ⎜─ - α₁⎟                ⎥\n",
       "⎢   ⎜2     ⎟  ∂                   ⎜2     ⎟  ∂             ⎥\n",
       "⎢sin⎜──────⎟⋅───(u₂(α₁, α₂)) + cos⎜──────⎟⋅───(u₁(α₁, α₂))⎥\n",
       "⎢   ⎝  R   ⎠ ∂α₂                  ⎝  R   ⎠ ∂α₂            ⎥\n",
       "⎢                                                         ⎥\n",
       "⎢   ⎛L     ⎞                      ⎛L     ⎞                ⎥\n",
       "⎢   ⎜─ - α₁⎟                      ⎜─ - α₁⎟                ⎥\n",
       "⎢   ⎜2     ⎟  ∂                   ⎜2     ⎟  ∂             ⎥\n",
       "⎢sin⎜──────⎟⋅───(u₁(α₁, α₂)) - cos⎜──────⎟⋅───(u₂(α₁, α₂))⎥\n",
       "⎣   ⎝  R   ⎠ ∂α₂                  ⎝  R   ⎠ ∂α₂            ⎦"
      ]
     },
     "execution_count": 69,
     "metadata": {},
     "output_type": "execute_result"
    }
   ],
   "source": [
    "m*u.diff(alpha2)"
   ]
  },
  {
   "cell_type": "code",
   "execution_count": null,
   "metadata": {
    "collapsed": true
   },
   "outputs": [],
   "source": []
  }
 ],
 "metadata": {
  "kernelspec": {
   "display_name": "Python 3",
   "language": "python",
   "name": "python3"
  },
  "language_info": {
   "codemirror_mode": {
    "name": "ipython",
    "version": 3
   },
   "file_extension": ".py",
   "mimetype": "text/x-python",
   "name": "python",
   "nbconvert_exporter": "python",
   "pygments_lexer": "ipython3",
   "version": "3.6.1"
  }
 },
 "nbformat": 4,
 "nbformat_minor": 2
}
