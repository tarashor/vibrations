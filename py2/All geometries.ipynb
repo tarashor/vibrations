{
 "cells": [
  {
   "cell_type": "markdown",
   "metadata": {},
   "source": [
    "# Shells 2D"
   ]
  },
  {
   "cell_type": "markdown",
   "metadata": {},
   "source": [
    "## Init symbols for *sympy*"
   ]
  },
  {
   "cell_type": "code",
   "execution_count": 1,
   "metadata": {
    "collapsed": true
   },
   "outputs": [],
   "source": [
    "from sympy import *\n",
    "from sympy.vector import CoordSys3D\n",
    "N = CoordSys3D('N')\n",
    "x1, x2 = symbols(\"x_1 x_2\")\n",
    "alpha1, alpha2 = symbols(\"alpha_1 alpha_2\")\n",
    "R, L, ga, gv = symbols(\"R L g_a g_v\")\n",
    "init_printing()"
   ]
  },
  {
   "cell_type": "markdown",
   "metadata": {},
   "source": [
    "## Cylindrical coordinates"
   ]
  },
  {
   "cell_type": "code",
   "execution_count": 2,
   "metadata": {
    "collapsed": true
   },
   "outputs": [],
   "source": [
    "a1 = pi / 2 + (L / 2 - alpha1)/R\n",
    "\n",
    "x = R * cos(a1)\n",
    "y = R * sin(a1)\n",
    "\n",
    "r = x*N.i + y*N.j"
   ]
  },
  {
   "cell_type": "markdown",
   "metadata": {},
   "source": [
    "#### Curve in 2D coordinates system will be defined with the following vector $\\vec{r}=\\vec{r(\\alpha_1)}$"
   ]
  },
  {
   "cell_type": "code",
   "execution_count": 3,
   "metadata": {},
   "outputs": [
    {
     "data": {
      "image/png": "[encoded data removed]",
      "text/latex": [
       "$$(- R \\sin{\\left (\\frac{1}{R} \\left(\\frac{L}{2} - \\alpha_{1}\\right) \\right )})\\mathbf{\\hat{i}_{N}} + (R \\cos{\\left (\\frac{1}{R} \\left(\\frac{L}{2} - \\alpha_{1}\\right) \\right )})\\mathbf{\\hat{j}_{N}}$$"
      ],
      "text/plain": [
       "⎛      ⎛L     ⎞ N_i⎞ N_i + ⎛     ⎛L     ⎞ N_j⎞ N_j\n",
       "⎜      ⎜─ - α₁⎟⎟           ⎜     ⎜─ - α₁⎟⎟        \n",
       "⎜      ⎜2     ⎟⎟           ⎜     ⎜2     ⎟⎟        \n",
       "⎜-R⋅sin⎜──────⎟⎟           ⎜R⋅cos⎜──────⎟⎟        \n",
       "⎝      ⎝  R   ⎠⎠           ⎝     ⎝  R   ⎠⎠        "
      ]
     },
     "execution_count": 3,
     "metadata": {},
     "output_type": "execute_result"
    }
   ],
   "source": [
    "r"
   ]
  },
  {
   "cell_type": "markdown",
   "metadata": {},
   "source": [
    "#### Tangent to curve"
   ]
  },
  {
   "cell_type": "code",
   "execution_count": 4,
   "metadata": {},
   "outputs": [
    {
     "data": {
      "image/png": "[encoded data removed]",
      "text/latex": [
       "$$(\\cos{\\left (\\frac{1}{R} \\left(\\frac{L}{2} - \\alpha_{1}\\right) \\right )})\\mathbf{\\hat{i}_{N}} + (\\sin{\\left (\\frac{1}{R} \\left(\\frac{L}{2} - \\alpha_{1}\\right) \\right )})\\mathbf{\\hat{j}_{N}}$$"
      ],
      "text/plain": [
       "⎛   ⎛L     ⎞ N_i⎞ N_i + ⎛   ⎛L     ⎞ N_j⎞ N_j\n",
       "⎜   ⎜─ - α₁⎟⎟           ⎜   ⎜─ - α₁⎟⎟        \n",
       "⎜   ⎜2     ⎟⎟           ⎜   ⎜2     ⎟⎟        \n",
       "⎜cos⎜──────⎟⎟           ⎜sin⎜──────⎟⎟        \n",
       "⎝   ⎝  R   ⎠⎠           ⎝   ⎝  R   ⎠⎠        "
      ]
     },
     "execution_count": 4,
     "metadata": {},
     "output_type": "execute_result"
    }
   ],
   "source": [
    "v_temp = r.diff(alpha1)\n",
    "dr_len = v_temp.magnitude()\n",
    "v = v_temp / dr_len\n",
    "v = trigsimp(v)\n",
    "v_temp"
   ]
  },
  {
   "cell_type": "code",
   "execution_count": 5,
   "metadata": {},
   "outputs": [
    {
     "data": {
      "image/png": "[encoded data removed]",
      "text/latex": [
       "$$1$$"
      ],
      "text/plain": [
       "1"
      ]
     },
     "execution_count": 5,
     "metadata": {},
     "output_type": "execute_result"
    }
   ],
   "source": [
    "trigsimp(dr_len)"
   ]
  },
  {
   "cell_type": "markdown",
   "metadata": {},
   "source": [
    "#### Normal to curve"
   ]
  },
  {
   "cell_type": "code",
   "execution_count": 6,
   "metadata": {},
   "outputs": [
    {
     "data": {
      "image/png": "[encoded data removed]",
      "text/latex": [
       "$$(\\sin{\\left (\\frac{1}{R} \\left(\\frac{L}{2} - \\alpha_{1}\\right) \\right )})\\mathbf{\\hat{i}_{N}} + (- \\cos{\\left (\\frac{1}{R} \\left(\\frac{L}{2} - \\alpha_{1}\\right) \\right )})\\mathbf{\\hat{j}_{N}}$$"
      ],
      "text/plain": [
       "⎛   ⎛L     ⎞ N_i⎞ N_i + ⎛    ⎛L     ⎞ N_j⎞ N_j\n",
       "⎜   ⎜─ - α₁⎟⎟           ⎜    ⎜─ - α₁⎟⎟        \n",
       "⎜   ⎜2     ⎟⎟           ⎜    ⎜2     ⎟⎟        \n",
       "⎜sin⎜──────⎟⎟           ⎜-cos⎜──────⎟⎟        \n",
       "⎝   ⎝  R   ⎠⎠           ⎝    ⎝  R   ⎠⎠        "
      ]
     },
     "execution_count": 6,
     "metadata": {},
     "output_type": "execute_result"
    }
   ],
   "source": [
    "n_temp = v.diff(alpha1)\n",
    "k=trigsimp(n_temp.magnitude())\n",
    "n = n_temp/k\n",
    "q=1/(R*sqrt(1/R**2))\n",
    "n = trigsimp(n).subs(q, 1)\n",
    "n"
   ]
  },
  {
   "cell_type": "code",
   "execution_count": 7,
   "metadata": {},
   "outputs": [
    {
     "data": {
      "image/png": "[encoded data removed]",
      "text/latex": [
       "$$0$$"
      ],
      "text/plain": [
       "0"
      ]
     },
     "execution_count": 7,
     "metadata": {},
     "output_type": "execute_result"
    }
   ],
   "source": [
    "v.dot(n)"
   ]
  },
  {
   "cell_type": "code",
   "execution_count": 8,
   "metadata": {
    "scrolled": true
   },
   "outputs": [
    {
     "data": {
      "image/png": "[encoded data removed]",
      "text/latex": [
       "$$0$$"
      ],
      "text/plain": [
       "0"
      ]
     },
     "execution_count": 8,
     "metadata": {},
     "output_type": "execute_result"
    }
   ],
   "source": [
    "n.dot(v)"
   ]
  },
  {
   "cell_type": "markdown",
   "metadata": {},
   "source": [
    "#### Curvature"
   ]
  },
  {
   "cell_type": "code",
   "execution_count": 9,
   "metadata": {},
   "outputs": [
    {
     "data": {
      "image/png": "[encoded data removed]",
      "text/latex": [
       "$$\\sqrt{\\frac{1}{R^{2}}}$$"
      ],
      "text/plain": [
       "     ____\n",
       "    ╱ 1  \n",
       "   ╱  ── \n",
       "  ╱    2 \n",
       "╲╱    R  "
      ]
     },
     "execution_count": 9,
     "metadata": {},
     "output_type": "execute_result"
    }
   ],
   "source": [
    "sympify(k)"
   ]
  },
  {
   "cell_type": "markdown",
   "metadata": {},
   "source": [
    "#### Derivative of base vectors\n",
    "Let's find \n",
    "$\\frac { d\\vec{n} } { d\\alpha_1}$\n",
    "$\\frac { d\\vec{v} } { d\\alpha_1}$\n",
    "$\\frac { d\\vec{n} } { d\\alpha_2}$\n",
    "$\\frac { d\\vec{v} } { d\\alpha_2}$"
   ]
  },
  {
   "cell_type": "code",
   "execution_count": 10,
   "metadata": {},
   "outputs": [
    {
     "data": {
      "image/png": "[encoded data removed]",
      "text/latex": [
       "$$(- \\frac{1}{R} \\cos{\\left (\\frac{1}{R} \\left(\\frac{L}{2} - \\alpha_{1}\\right) \\right )})\\mathbf{\\hat{i}_{N}} + (- \\frac{1}{R} \\sin{\\left (\\frac{1}{R} \\left(\\frac{L}{2} - \\alpha_{1}\\right) \\right )})\\mathbf{\\hat{j}_{N}}$$"
      ],
      "text/plain": [
       "⎛    ⎛L     ⎞ N_i ⎞ N_i + ⎛    ⎛L     ⎞ N_j ⎞ N_j\n",
       "⎜    ⎜─ - α₁⎟ ⎟           ⎜    ⎜─ - α₁⎟ ⎟        \n",
       "⎜    ⎜2     ⎟ ⎟           ⎜    ⎜2     ⎟ ⎟        \n",
       "⎜-cos⎜──────⎟ ⎟           ⎜-sin⎜──────⎟ ⎟        \n",
       "⎜    ⎝  R   ⎠ ⎟           ⎜    ⎝  R   ⎠ ⎟        \n",
       "⎜─────────────⎟           ⎜─────────────⎟        \n",
       "⎝      R      ⎠           ⎝      R      ⎠        "
      ]
     },
     "execution_count": 10,
     "metadata": {},
     "output_type": "execute_result"
    }
   ],
   "source": [
    "n.diff(alpha1)"
   ]
  },
  {
   "cell_type": "markdown",
   "metadata": {},
   "source": [
    "$ \\frac { d\\vec{n} } { d\\alpha_1} = -\\frac {1}{R} \\vec{v} = -k \\vec{v} $"
   ]
  },
  {
   "cell_type": "code",
   "execution_count": 11,
   "metadata": {},
   "outputs": [
    {
     "data": {
      "image/png": "[encoded data removed]",
      "text/latex": [
       "$$(\\frac{1}{R} \\sin{\\left (\\frac{1}{R} \\left(\\frac{L}{2} - \\alpha_{1}\\right) \\right )})\\mathbf{\\hat{i}_{N}} + (- \\frac{1}{R} \\cos{\\left (\\frac{1}{R} \\left(\\frac{L}{2} - \\alpha_{1}\\right) \\right )})\\mathbf{\\hat{j}_{N}}$$"
      ],
      "text/plain": [
       "⎛   ⎛L     ⎞ N_i⎞ N_i + ⎛    ⎛L     ⎞ N_j ⎞ N_j\n",
       "⎜   ⎜─ - α₁⎟⎟           ⎜    ⎜─ - α₁⎟ ⎟        \n",
       "⎜   ⎜2     ⎟⎟           ⎜    ⎜2     ⎟ ⎟        \n",
       "⎜sin⎜──────⎟⎟           ⎜-cos⎜──────⎟ ⎟        \n",
       "⎜   ⎝  R   ⎠⎟           ⎜    ⎝  R   ⎠ ⎟        \n",
       "⎜───────────⎟           ⎜─────────────⎟        \n",
       "⎝     R     ⎠           ⎝      R      ⎠        "
      ]
     },
     "execution_count": 11,
     "metadata": {},
     "output_type": "execute_result"
    }
   ],
   "source": [
    "v.diff(alpha1)"
   ]
  },
  {
   "cell_type": "markdown",
   "metadata": {},
   "source": [
    "$ \\frac { d\\vec{v} } { d\\alpha_1} = \\frac {1}{R} \\vec{n} = k \\vec{n} $"
   ]
  },
  {
   "cell_type": "markdown",
   "metadata": {},
   "source": [
    "#### Derivative of vectors\n",
    "\n",
    "$ \\vec{u} = u_v \\vec{v} + u_n\\vec{n} $\n",
    "\n",
    "$ \\frac { d\\vec{u} } { d\\alpha_1} =  \\frac { d(u_v\\vec{v}) } { d\\alpha_1} + \\frac { d(u_n\\vec{n}) } { d\\alpha_1} = \n",
    " \\frac { du_n } { d\\alpha_1} \\vec{n} + u_n \\frac { d\\vec{n} } { d\\alpha_1} + \\frac { du_v } { d\\alpha_1} \\vec{v} + u_v \\frac { d\\vec{v} } { d\\alpha_1} = \\frac { du_n } { d\\alpha_1} \\vec{n} - u_n k \\vec{v} + \\frac { du_v } { d\\alpha_1} \\vec{v} + u_v k \\vec{n}$\n",
    "\n",
    "Then\n",
    "$ \\frac { d\\vec{u} } { d\\alpha_1} = \\left( \\frac { du_v } { d\\alpha_1} - u_n k \\right) \\vec{v} + \\left( \\frac { du_n } { d\\alpha_1} + u_v k \\right) \\vec{n}$\n",
    "\n",
    "$ \\frac { d\\vec{u} } { d\\alpha_2} = \\frac { d(u_n\\vec{n}) } { d\\alpha_2} + \\frac { d(u_v\\vec{v}) } { d\\alpha_2} = \n",
    " \\frac { du_n } { d\\alpha_2} \\vec{n} + u_n \\frac { d\\vec{n} } { d\\alpha_2} + \\frac { du_v } { d\\alpha_2} \\vec{v} + u_v \\frac { d\\vec{v} } { d\\alpha_2} = \\frac { du_n } { d\\alpha_2} \\vec{n} + \\frac { du_v } { d\\alpha_2} \\vec{v} $"
   ]
  },
  {
   "cell_type": "markdown",
   "metadata": {},
   "source": [
    "#### Base Vectors $\\vec{R}_1, \\vec{R}_2$"
   ]
  },
  {
   "cell_type": "code",
   "execution_count": 12,
   "metadata": {},
   "outputs": [
    {
     "data": {
      "image/png": "[encoded data removed]",
      "text/latex": [
       "$$(- R \\sin{\\left (\\frac{1}{R} \\left(\\frac{L}{2} - \\alpha_{1}\\right) \\right )} + \\alpha_{2} \\sin{\\left (\\frac{1}{R} \\left(\\frac{L}{2} - \\alpha_{1}\\right) \\right )})\\mathbf{\\hat{i}_{N}} + (R \\cos{\\left (\\frac{1}{R} \\left(\\frac{L}{2} - \\alpha_{1}\\right) \\right )} - \\alpha_{2} \\cos{\\left (\\frac{1}{R} \\left(\\frac{L}{2} - \\alpha_{1}\\right) \\right )})\\mathbf{\\hat{j}_{N}}$$"
      ],
      "text/plain": [
       "⎛       ⎛L     ⎞ N_i         ⎛L     ⎞ N_i⎞ N_i + ⎛     ⎛L     ⎞ N_j         ⎛L\n",
       "⎜       ⎜─ - α₁⎟         ⎜─ - α₁⎟⎟               ⎜     ⎜─ - α₁⎟         ⎜─ - α\n",
       "⎜       ⎜2     ⎟         ⎜2     ⎟⎟               ⎜     ⎜2     ⎟         ⎜2    \n",
       "⎜- R⋅sin⎜──────⎟ + α₂⋅sin⎜──────⎟⎟               ⎜R⋅cos⎜──────⎟ - α₂⋅cos⎜─────\n",
       "⎝       ⎝  R   ⎠         ⎝  R   ⎠⎠               ⎝     ⎝  R   ⎠         ⎝  R  \n",
       "\n",
       "     ⎞ N_j⎞ N_j\n",
       "₁⎟⎟            \n",
       " ⎟⎟            \n",
       "─⎟⎟            \n",
       " ⎠⎠            "
      ]
     },
     "execution_count": 12,
     "metadata": {},
     "output_type": "execute_result"
    }
   ],
   "source": [
    "R_alpha=r+alpha2*n\n",
    "R_alpha"
   ]
  },
  {
   "cell_type": "code",
   "execution_count": 13,
   "metadata": {
    "collapsed": true
   },
   "outputs": [],
   "source": [
    "R1=R_alpha.diff(alpha1)\n",
    "R2=R_alpha.diff(alpha2)"
   ]
  },
  {
   "cell_type": "code",
   "execution_count": 14,
   "metadata": {},
   "outputs": [
    {
     "data": {
      "image/png": "[encoded data removed]",
      "text/latex": [
       "$$(\\left(1 - \\frac{\\alpha_{2}}{R}\\right) \\cos{\\left (\\frac{1}{R} \\left(\\frac{L}{2} - \\alpha_{1}\\right) \\right )})\\mathbf{\\hat{i}_{N}} + (\\left(1 - \\frac{\\alpha_{2}}{R}\\right) \\sin{\\left (\\frac{1}{R} \\left(\\frac{L}{2} - \\alpha_{1}\\right) \\right )})\\mathbf{\\hat{j}_{N}}$$"
      ],
      "text/plain": [
       "⎛            ⎛L     ⎞ N_i⎞ N_i + ⎛            ⎛L     ⎞ N_j⎞ N_j\n",
       "⎜            ⎜─ - α₁⎟⎟           ⎜            ⎜─ - α₁⎟⎟        \n",
       "⎜⎛    α₂⎞ N_i    ⎜2     ⎟⎟       ⎜⎛    α₂⎞ N_j    ⎜2     ⎟⎟    \n",
       "⎜⎜1 - ──⎟⋅cos⎜──────⎟⎟           ⎜⎜1 - ──⎟⋅sin⎜──────⎟⎟        \n",
       "⎝⎝    R ⎠    ⎝  R   ⎠⎠           ⎝⎝    R ⎠    ⎝  R   ⎠⎠        "
      ]
     },
     "execution_count": 14,
     "metadata": {},
     "output_type": "execute_result"
    }
   ],
   "source": [
    "trigsimp(R1)"
   ]
  },
  {
   "cell_type": "code",
   "execution_count": 15,
   "metadata": {},
   "outputs": [
    {
     "data": {
      "image/png": "[encoded data removed]",
      "text/latex": [
       "$$(\\sin{\\left (\\frac{1}{R} \\left(\\frac{L}{2} - \\alpha_{1}\\right) \\right )})\\mathbf{\\hat{i}_{N}} + (- \\cos{\\left (\\frac{1}{R} \\left(\\frac{L}{2} - \\alpha_{1}\\right) \\right )})\\mathbf{\\hat{j}_{N}}$$"
      ],
      "text/plain": [
       "⎛   ⎛L     ⎞ N_i⎞ N_i + ⎛    ⎛L     ⎞ N_j⎞ N_j\n",
       "⎜   ⎜─ - α₁⎟⎟           ⎜    ⎜─ - α₁⎟⎟        \n",
       "⎜   ⎜2     ⎟⎟           ⎜    ⎜2     ⎟⎟        \n",
       "⎜sin⎜──────⎟⎟           ⎜-cos⎜──────⎟⎟        \n",
       "⎝   ⎝  R   ⎠⎠           ⎝    ⎝  R   ⎠⎠        "
      ]
     },
     "execution_count": 15,
     "metadata": {},
     "output_type": "execute_result"
    }
   ],
   "source": [
    "R2"
   ]
  },
  {
   "cell_type": "markdown",
   "metadata": {},
   "source": [
    "#### Let's find Jacobi matrix:\n",
    "\n",
    "$ A = \\left( \n",
    "\\begin{array}{cc} \n",
    "\\frac{\\partial x_1}{\\partial \\alpha_1} & \\frac{\\partial x_1}{\\partial \\alpha_2} \\\\\n",
    "\\frac{\\partial x_2}{\\partial \\alpha_1} & \\frac{\\partial x_2}{\\partial \\alpha_2}\n",
    "\\end{array} \n",
    "\\right)$\n",
    "\n",
    "$ \\left[\n",
    "\\begin{array}{cc} \n",
    "\\vec{R}_1 & \\vec{R}_2\n",
    "\\end{array} \n",
    "\\right] = \\left[\n",
    "\\begin{array}{cc} \n",
    "\\vec{e}_1 & \\vec{e}_2\n",
    "\\end{array} \n",
    "\\right] \\cdot  \\left( \n",
    "\\begin{array}{cc} \n",
    "\\frac{\\partial x_1}{\\partial \\alpha_1} & \\frac{\\partial x_1}{\\partial \\alpha_2} \\\\\n",
    "\\frac{\\partial x_2}{\\partial \\alpha_1} & \\frac{\\partial x_2}{\\partial \\alpha_2}\n",
    "\\end{array} \n",
    "\\right) = \\left[\n",
    "\\begin{array}{cc} \n",
    "\\vec{e}_1 & \\vec{e}_2\n",
    "\\end{array} \n",
    "\\right] \\cdot A$\n",
    "\n",
    "$ \\left[\n",
    "\\begin{array}{cc} \n",
    "\\vec{e}_1 & \\vec{e}_2\n",
    "\\end{array} \n",
    "\\right] = \\left[\n",
    "\\begin{array}{cc} \n",
    "\\vec{R}_1 & \\vec{R}_2\n",
    "\\end{array} \n",
    "\\right] \\cdot A^{-1}$"
   ]
  },
  {
   "cell_type": "code",
   "execution_count": 16,
   "metadata": {},
   "outputs": [
    {
     "data": {
      "image/png": "[encoded data removed]",
      "text/latex": [
       "$$\\left[\\begin{matrix}\\cos{\\left (\\frac{1}{R} \\left(\\frac{L}{2} - \\alpha_{1}\\right) \\right )} - \\frac{\\alpha_{2}}{R} \\cos{\\left (\\frac{1}{R} \\left(\\frac{L}{2} - \\alpha_{1}\\right) \\right )} & \\sin{\\left (\\frac{1}{R} \\left(\\frac{L}{2} - \\alpha_{1}\\right) \\right )}\\\\\\sin{\\left (\\frac{1}{R} \\left(\\frac{L}{2} - \\alpha_{1}\\right) \\right )} - \\frac{\\alpha_{2}}{R} \\sin{\\left (\\frac{1}{R} \\left(\\frac{L}{2} - \\alpha_{1}\\right) \\right )} & - \\cos{\\left (\\frac{1}{R} \\left(\\frac{L}{2} - \\alpha_{1}\\right) \\right )}\\end{matrix}\\right]$$"
      ],
      "text/plain": [
       "⎡                    ⎛L     ⎞              ⎤\n",
       "⎢                    ⎜─ - α₁⎟              ⎥\n",
       "⎢   ⎛L     ⎞         ⎜2     ⎟     ⎛L     ⎞ ⎥\n",
       "⎢   ⎜─ - α₁⎟   α₂⋅cos⎜──────⎟     ⎜─ - α₁⎟ ⎥\n",
       "⎢   ⎜2     ⎟         ⎝  R   ⎠     ⎜2     ⎟ ⎥\n",
       "⎢cos⎜──────⎟ - ──────────────  sin⎜──────⎟ ⎥\n",
       "⎢   ⎝  R   ⎠         R            ⎝  R   ⎠ ⎥\n",
       "⎢                                          ⎥\n",
       "⎢                    ⎛L     ⎞              ⎥\n",
       "⎢                    ⎜─ - α₁⎟              ⎥\n",
       "⎢   ⎛L     ⎞         ⎜2     ⎟      ⎛L     ⎞⎥\n",
       "⎢   ⎜─ - α₁⎟   α₂⋅sin⎜──────⎟      ⎜─ - α₁⎟⎥\n",
       "⎢   ⎜2     ⎟         ⎝  R   ⎠      ⎜2     ⎟⎥\n",
       "⎢sin⎜──────⎟ - ──────────────  -cos⎜──────⎟⎥\n",
       "⎣   ⎝  R   ⎠         R             ⎝  R   ⎠⎦"
      ]
     },
     "execution_count": 16,
     "metadata": {},
     "output_type": "execute_result"
    }
   ],
   "source": [
    "m11=R1.dot(N.i)\n",
    "m12=R2.dot(N.i)\n",
    "m21=R1.dot(N.j)\n",
    "m22=R2.dot(N.j)\n",
    "A=Matrix([[m11, m12], [m21, m22]])\n",
    "A"
   ]
  },
  {
   "cell_type": "code",
   "execution_count": 17,
   "metadata": {},
   "outputs": [
    {
     "data": {
      "image/png": "[encoded data removed]",
      "text/latex": [
       "$$\\left[\\begin{matrix}(\\sin^{2}{\\left (\\frac{1}{R} \\left(\\frac{L}{2} - \\alpha_{1}\\right) \\right )})\\mathbf{\\hat{i}_{N}} + (\\cos^{2}{\\left (\\frac{1}{R} \\left(\\frac{L}{2} - \\alpha_{1}\\right) \\right )})\\mathbf{\\hat{i}_{N}} & (\\frac{1}{2} \\left(- \\cos{\\left (\\frac{1}{R} \\left(L - 2 \\alpha_{1}\\right) \\right )} + 1\\right))\\mathbf{\\hat{j}_{N}} + (\\frac{1}{2} \\left(\\cos{\\left (\\frac{1}{R} \\left(L - 2 \\alpha_{1}\\right) \\right )} + 1\\right))\\mathbf{\\hat{j}_{N}}\\end{matrix}\\right]$$"
      ],
      "text/plain": [
       "⎡⎛    ⎛L     ⎞ N_i⎞ N_i + ⎛    ⎛L     ⎞ N_i⎞ N_i  ⎛     ⎛L - 2⋅α₁⎞ N_j    ⎞ N_\n",
       "⎢⎜    ⎜─ - α₁⎟⎟           ⎜    ⎜─ - α₁⎟⎟          ⎜- cos⎜────────⎟ + 1⎟       \n",
       "⎢⎜   2⎜2     ⎟⎟           ⎜   2⎜2     ⎟⎟          ⎜     ⎝   R    ⎠    ⎟       \n",
       "⎢⎜sin ⎜──────⎟⎟           ⎜cos ⎜──────⎟⎟          ⎜───────────────────⎟       \n",
       "⎣⎝    ⎝  R   ⎠⎠           ⎝    ⎝  R   ⎠⎠          ⎝         2         ⎠       \n",
       "\n",
       "j + ⎛   ⎛L - 2⋅α₁⎞ N_j    ⎞ N_j⎤\n",
       "    ⎜cos⎜────────⎟ + 1⎟        ⎥\n",
       "    ⎜   ⎝   R    ⎠    ⎟        ⎥\n",
       "    ⎜─────────────────⎟        ⎥\n",
       "    ⎝        2        ⎠        ⎦"
      ]
     },
     "execution_count": 17,
     "metadata": {},
     "output_type": "execute_result"
    }
   ],
   "source": [
    "A_inv = trigsimp(A**-1)\n",
    "sympify(trigsimp(Matrix([R1, R2]).T*A_inv))"
   ]
  },
  {
   "cell_type": "code",
   "execution_count": 18,
   "metadata": {},
   "outputs": [
    {
     "data": {
      "image/png": "[encoded data removed]",
      "text/latex": [
       "$$-1 + \\frac{\\alpha_{2}}{R}$$"
      ],
      "text/plain": [
       "     α₂\n",
       "-1 + ──\n",
       "     R "
      ]
     },
     "execution_count": 18,
     "metadata": {},
     "output_type": "execute_result"
    }
   ],
   "source": [
    "trigsimp(A.det())"
   ]
  },
  {
   "cell_type": "markdown",
   "metadata": {},
   "source": [
    "#### Metric tensor"
   ]
  },
  {
   "cell_type": "code",
   "execution_count": 19,
   "metadata": {},
   "outputs": [
    {
     "data": {
      "image/png": "[encoded data removed]",
      "text/latex": [
       "$$\\left[\\begin{matrix}\\frac{1}{R^{2}} \\left(R - \\alpha_{2}\\right)^{2} & 0\\\\0 & 1\\end{matrix}\\right]$$"
      ],
      "text/plain": [
       "⎡        2   ⎤\n",
       "⎢(R - α₂)    ⎥\n",
       "⎢─────────  0⎥\n",
       "⎢     2      ⎥\n",
       "⎢    R       ⎥\n",
       "⎢            ⎥\n",
       "⎣    0      1⎦"
      ]
     },
     "execution_count": 19,
     "metadata": {},
     "output_type": "execute_result"
    }
   ],
   "source": [
    "g11=R1.dot(R1)\n",
    "g12=R1.dot(R2)\n",
    "g21=R2.dot(R1)\n",
    "g22=R2.dot(R2)\n",
    "\n",
    "G=Matrix([[g11, g12],[g21, g22]])\n",
    "G=trigsimp(G)\n",
    "G"
   ]
  },
  {
   "cell_type": "code",
   "execution_count": 20,
   "metadata": {
    "collapsed": true
   },
   "outputs": [],
   "source": [
    "G_inv = G**-1"
   ]
  },
  {
   "cell_type": "markdown",
   "metadata": {},
   "source": [
    "#### Derivative of base vectors"
   ]
  },
  {
   "cell_type": "code",
   "execution_count": 21,
   "metadata": {},
   "outputs": [
    {
     "data": {
      "image/png": "[encoded data removed]",
      "text/latex": [
       "$$(\\frac{1}{R} \\left(1 - \\frac{\\alpha_{2}}{R}\\right) \\sin{\\left (\\frac{1}{R} \\left(\\frac{L}{2} - \\alpha_{1}\\right) \\right )})\\mathbf{\\hat{i}_{N}} + (\\frac{1}{R} \\left(-1 + \\frac{\\alpha_{2}}{R}\\right) \\cos{\\left (\\frac{1}{R} \\left(\\frac{L}{2} - \\alpha_{1}\\right) \\right )})\\mathbf{\\hat{j}_{N}}$$"
      ],
      "text/plain": [
       "⎛            ⎛L     ⎞ N_i⎞ N_i + ⎛             ⎛L     ⎞ N_j⎞ N_j\n",
       "⎜            ⎜─ - α₁⎟⎟           ⎜             ⎜─ - α₁⎟⎟        \n",
       "⎜⎛    α₂⎞ N_i    ⎜2     ⎟⎟       ⎜⎛     α₂⎞ N_j    ⎜2     ⎟⎟    \n",
       "⎜⎜1 - ──⎟⋅sin⎜──────⎟⎟           ⎜⎜-1 + ──⎟⋅cos⎜──────⎟⎟        \n",
       "⎜⎝    R ⎠    ⎝  R   ⎠⎟           ⎜⎝     R ⎠    ⎝  R   ⎠⎟        \n",
       "⎜────────────────────⎟           ⎜─────────────────────⎟        \n",
       "⎝         R          ⎠           ⎝          R          ⎠        "
      ]
     },
     "execution_count": 21,
     "metadata": {},
     "output_type": "execute_result"
    }
   ],
   "source": [
    "dR1dalpha1 = trigsimp(R1.diff(alpha1))\n",
    "dR1dalpha1"
   ]
  },
  {
   "cell_type": "markdown",
   "metadata": {},
   "source": [
    "$ \\frac { d\\vec{R_1} } { d\\alpha_1} = \\frac {1}{R} \\left( 1-\\frac{\\alpha_2}{R} \\right) \\vec{R_2} $"
   ]
  },
  {
   "cell_type": "code",
   "execution_count": 22,
   "metadata": {},
   "outputs": [
    {
     "data": {
      "image/png": "[encoded data removed]",
      "text/latex": [
       "$$(- \\frac{1}{R} \\cos{\\left (\\frac{1}{R} \\left(\\frac{L}{2} - \\alpha_{1}\\right) \\right )})\\mathbf{\\hat{i}_{N}} + (- \\frac{1}{R} \\sin{\\left (\\frac{1}{R} \\left(\\frac{L}{2} - \\alpha_{1}\\right) \\right )})\\mathbf{\\hat{j}_{N}}$$"
      ],
      "text/plain": [
       "⎛    ⎛L     ⎞ N_i ⎞ N_i + ⎛    ⎛L     ⎞ N_j ⎞ N_j\n",
       "⎜    ⎜─ - α₁⎟ ⎟           ⎜    ⎜─ - α₁⎟ ⎟        \n",
       "⎜    ⎜2     ⎟ ⎟           ⎜    ⎜2     ⎟ ⎟        \n",
       "⎜-cos⎜──────⎟ ⎟           ⎜-sin⎜──────⎟ ⎟        \n",
       "⎜    ⎝  R   ⎠ ⎟           ⎜    ⎝  R   ⎠ ⎟        \n",
       "⎜─────────────⎟           ⎜─────────────⎟        \n",
       "⎝      R      ⎠           ⎝      R      ⎠        "
      ]
     },
     "execution_count": 22,
     "metadata": {},
     "output_type": "execute_result"
    }
   ],
   "source": [
    "dR1dalpha2 = trigsimp(R1.diff(alpha2))\n",
    "dR1dalpha2"
   ]
  },
  {
   "cell_type": "markdown",
   "metadata": {},
   "source": [
    "$ \\frac { d\\vec{R_1} } { d\\alpha_2} = -\\frac {1}{R} \\frac {1}{1-\\frac{\\alpha_2}{R}}  \\vec{R_1} $"
   ]
  },
  {
   "cell_type": "code",
   "execution_count": 23,
   "metadata": {
    "scrolled": true
   },
   "outputs": [
    {
     "data": {
      "image/png": "[encoded data removed]",
      "text/latex": [
       "$$(- \\frac{1}{R} \\cos{\\left (\\frac{1}{R} \\left(\\frac{L}{2} - \\alpha_{1}\\right) \\right )})\\mathbf{\\hat{i}_{N}} + (- \\frac{1}{R} \\sin{\\left (\\frac{1}{R} \\left(\\frac{L}{2} - \\alpha_{1}\\right) \\right )})\\mathbf{\\hat{j}_{N}}$$"
      ],
      "text/plain": [
       "⎛    ⎛L     ⎞ N_i ⎞ N_i + ⎛    ⎛L     ⎞ N_j ⎞ N_j\n",
       "⎜    ⎜─ - α₁⎟ ⎟           ⎜    ⎜─ - α₁⎟ ⎟        \n",
       "⎜    ⎜2     ⎟ ⎟           ⎜    ⎜2     ⎟ ⎟        \n",
       "⎜-cos⎜──────⎟ ⎟           ⎜-sin⎜──────⎟ ⎟        \n",
       "⎜    ⎝  R   ⎠ ⎟           ⎜    ⎝  R   ⎠ ⎟        \n",
       "⎜─────────────⎟           ⎜─────────────⎟        \n",
       "⎝      R      ⎠           ⎝      R      ⎠        "
      ]
     },
     "execution_count": 23,
     "metadata": {},
     "output_type": "execute_result"
    }
   ],
   "source": [
    "dR2dalpha1 = trigsimp(R2.diff(alpha1))\n",
    "dR2dalpha1"
   ]
  },
  {
   "cell_type": "markdown",
   "metadata": {},
   "source": [
    "$ \\frac { d\\vec{R_2} } { d\\alpha_1} = -\\frac {1}{R} \\frac {1}{1-\\frac{\\alpha_2}{R}}  \\vec{R_1} $"
   ]
  },
  {
   "cell_type": "code",
   "execution_count": 24,
   "metadata": {},
   "outputs": [
    {
     "data": {
      "image/png": "[encoded data removed]",
      "text/latex": [
       "$$\\mathbf{\\hat{0}}$$"
      ],
      "text/plain": [
       "0"
      ]
     },
     "execution_count": 24,
     "metadata": {},
     "output_type": "execute_result"
    }
   ],
   "source": [
    "dR2dalpha2 = trigsimp(R2.diff(alpha2))\n",
    "dR2dalpha2"
   ]
  },
  {
   "cell_type": "markdown",
   "metadata": {},
   "source": [
    "$ \\frac { d\\vec{R_2} } { d\\alpha_2} = \\vec{0} $"
   ]
  },
  {
   "cell_type": "markdown",
   "metadata": {},
   "source": [
    "#### Derivative of vectors\n",
    "\n",
    "$ \\vec{u} = u^1 \\vec{R_1} + u^2\\vec{R_2} $\n",
    "\n",
    "$ \\frac { d\\vec{u} } { d\\alpha_1} =  \\frac { d(u^1\\vec{R_1}) } { d\\alpha_1} + \\frac { d(u^2\\vec{R_2}) } { d\\alpha_1} = \n",
    " \\frac { du^1 } { d\\alpha_1} \\vec{R_1} + u^1 \\frac { d\\vec{R_1} } { d\\alpha_1} + \\frac { du^2 } { d\\alpha_1} \\vec{R_2} + u^2 \\frac { d\\vec{R_2} } { d\\alpha_1} = \\frac { du^1 } { d\\alpha_1} \\vec{R_1} + u^1 \\frac {1}{R} \\left( 1-\\frac{\\alpha_2}{R} \\right) \\vec{R_2} + \\frac { du^2 } { d\\alpha_1} \\vec{R_2} - u^2 \\frac {1}{R} \\frac {1}{1-\\frac{\\alpha_2}{R}}  \\vec{R_1}$\n",
    "\n",
    "Then\n",
    "$ \\frac { d\\vec{u} } { d\\alpha_1} = \\left( \\frac { du^1 } { d\\alpha_1} - u^2 \\frac {1}{R} \\frac {1}{1-\\frac{\\alpha_2}{R}}  \\right) \\vec{R_1} + \\left( \\frac { du^2 } { d\\alpha_1} + u^1 \\frac {1}{R} \\left( 1-\\frac{\\alpha_2}{R} \\right) \\right) \\vec{R_2}$\n",
    "\n",
    "$ \\frac { d\\vec{u} } { d\\alpha_2} = \\frac { d(u^1\\vec{R_1}) } { d\\alpha_2} + \\frac { d(u^2\\vec{R_2}) } { d\\alpha_2} = \n",
    " \\frac { du^1 } { d\\alpha_2} \\vec{R_1} + u^1 \\frac { d\\vec{R_1} } { d\\alpha_2} + \\frac { du^2 } { d\\alpha_2} \\vec{R_2} + u^2 \\frac { d\\vec{R_2} } { d\\alpha_2} = \\frac { du^1 } { d\\alpha_2} \\vec{R_1} - u^1 \\frac {1}{R} \\frac {1}{1-\\frac{\\alpha_2}{R}}  \\vec{R_1} + \\frac { du^2 } { d\\alpha_2} \\vec{R_2} $\n",
    " \n",
    " Then\n",
    "$ \\frac { d\\vec{u} } { d\\alpha_2} = \\left( \\frac { du^1 } { d\\alpha_2}  - u^1 \\frac {1}{R} \\frac {1}{1-\\frac{\\alpha_2}{R}} \\right) \\vec{R_1} + \\frac { du^2 } { d\\alpha_2} \\vec{R_2}$\n",
    "\n",
    "$\\nabla_1 u^1 = \\frac { \\partial u^1 } { \\partial \\alpha_1} - u^2 \\frac {1}{R} \\frac {1}{1-\\frac{\\alpha_2}{R}}$\n",
    "\n",
    "$\\nabla_1 u^2 = \\frac { \\partial u^2 } { \\partial \\alpha_1} + u^1 \\frac {1}{R} \\left( 1-\\frac{\\alpha_2}{R} \\right) $\n",
    "\n",
    "$\\nabla_2 u^1 = \\frac { \\partial u^1 } { \\partial \\alpha_2}  - u^1 \\frac {1}{R} \\frac {1}{1-\\frac{\\alpha_2}{R}}$\n",
    "\n",
    "$\\nabla_2 u^2 = \\frac { \\partial u^2 } { \\partial \\alpha_2}$\n",
    "\n",
    "$ \\nabla \\vec{u} = \\left( \n",
    "\\begin{array}{cc} \n",
    "\\nabla_1 u^1 & \\nabla_1 u^2 \\\\\n",
    "\\nabla_2 u^1 & \\nabla_2 u^2\n",
    "\\end{array} \n",
    "\\right)$"
   ]
  },
  {
   "cell_type": "code",
   "execution_count": 25,
   "metadata": {},
   "outputs": [
    {
     "data": {
      "image/png": "[encoded data removed]",
      "text/latex": [
       "$$\\left[\\begin{matrix}\\frac{\\partial}{\\partial \\alpha_{1}} \\operatorname{u^{1}}{\\left (\\alpha_{1},\\alpha_{2} \\right )} - \\frac{\\operatorname{u^{2}}{\\left (\\alpha_{1},\\alpha_{2} \\right )}}{R \\left(1 - \\frac{\\alpha_{2}}{R}\\right)} & \\frac{\\partial}{\\partial \\alpha_{1}} \\operatorname{u^{2}}{\\left (\\alpha_{1},\\alpha_{2} \\right )} + \\frac{1}{R} \\left(1 - \\frac{\\alpha_{2}}{R}\\right) \\operatorname{u^{1}}{\\left (\\alpha_{1},\\alpha_{2} \\right )}\\\\\\frac{\\partial}{\\partial \\alpha_{2}} \\operatorname{u^{1}}{\\left (\\alpha_{1},\\alpha_{2} \\right )} - \\frac{\\operatorname{u^{1}}{\\left (\\alpha_{1},\\alpha_{2} \\right )}}{R \\left(1 - \\frac{\\alpha_{2}}{R}\\right)} & \\frac{\\partial}{\\partial \\alpha_{2}} \\operatorname{u^{2}}{\\left (\\alpha_{1},\\alpha_{2} \\right )}\\end{matrix}\\right]$$"
      ],
      "text/plain": [
       "⎡                                                ⎛    α₂⎞           ⎤\n",
       "⎢                                                ⎜1 - ──⎟⋅u¹(α₁, α₂)⎥\n",
       "⎢ ∂                u²(α₁, α₂)   ∂                ⎝    R ⎠           ⎥\n",
       "⎢───(u¹(α₁, α₂)) - ──────────  ───(u²(α₁, α₂)) + ───────────────────⎥\n",
       "⎢∂α₁                 ⎛    α₂⎞  ∂α₁                        R         ⎥\n",
       "⎢                  R⋅⎜1 - ──⎟                                       ⎥\n",
       "⎢                    ⎝    R ⎠                                       ⎥\n",
       "⎢                                                                   ⎥\n",
       "⎢ ∂                u¹(α₁, α₂)              ∂                        ⎥\n",
       "⎢───(u¹(α₁, α₂)) - ──────────             ───(u²(α₁, α₂))           ⎥\n",
       "⎢∂α₂                 ⎛    α₂⎞             ∂α₂                       ⎥\n",
       "⎢                  R⋅⎜1 - ──⎟                                       ⎥\n",
       "⎣                    ⎝    R ⎠                                       ⎦"
      ]
     },
     "execution_count": 25,
     "metadata": {},
     "output_type": "execute_result"
    }
   ],
   "source": [
    "u1=Function('u^1')\n",
    "u2=Function('u^2')\n",
    "\n",
    "u1_nabla1 = u1(alpha1, alpha2).diff(alpha1) - u2(alpha1, alpha2) / R * (S(1)/(1-alpha2/R))\n",
    "u2_nabla1 = u2(alpha1, alpha2).diff(alpha1) + u1(alpha1, alpha2) / R * ( 1-alpha2/R) \n",
    "u1_nabla2 = u1(alpha1, alpha2).diff(alpha2) - u1(alpha1, alpha2) / R * (S(1)/(1-alpha2/R))\n",
    "u2_nabla2 = u2(alpha1, alpha2).diff(alpha2)\n",
    "# $\\nabla_2 u^2 = \\frac { \\partial u^2 } { \\partial \\alpha_2}$\n",
    "\n",
    "grad_u = Matrix([[u1_nabla1, u2_nabla1],[u1_nabla2, u2_nabla2]])\n",
    "grad_u"
   ]
  },
  {
   "cell_type": "code",
   "execution_count": 26,
   "metadata": {},
   "outputs": [
    {
     "data": {
      "image/png": "[encoded data removed]",
      "text/latex": [
       "$$\\left[\\begin{matrix}q^{2} \\frac{\\partial}{\\partial \\alpha_{1}} \\operatorname{u^{1}}{\\left (\\alpha_{1},\\alpha_{2} \\right )} - \\frac{q}{R} \\operatorname{u^{2}}{\\left (\\alpha_{1},\\alpha_{2} \\right )} & \\frac{\\partial}{\\partial \\alpha_{1}} \\operatorname{u^{2}}{\\left (\\alpha_{1},\\alpha_{2} \\right )} + \\frac{q}{R} \\operatorname{u^{1}}{\\left (\\alpha_{1},\\alpha_{2} \\right )}\\\\q^{2} \\frac{\\partial}{\\partial \\alpha_{2}} \\operatorname{u^{1}}{\\left (\\alpha_{1},\\alpha_{2} \\right )} - \\frac{q}{R} \\operatorname{u^{1}}{\\left (\\alpha_{1},\\alpha_{2} \\right )} & \\frac{\\partial}{\\partial \\alpha_{2}} \\operatorname{u^{2}}{\\left (\\alpha_{1},\\alpha_{2} \\right )}\\end{matrix}\\right]$$"
      ],
      "text/plain": [
       "⎡ 2  ∂                q⋅u²(α₁, α₂)   ∂                q⋅u¹(α₁, α₂)⎤\n",
       "⎢q ⋅───(u¹(α₁, α₂)) - ────────────  ───(u²(α₁, α₂)) + ────────────⎥\n",
       "⎢   ∂α₁                    R        ∂α₁                    R      ⎥\n",
       "⎢                                                                 ⎥\n",
       "⎢ 2  ∂                q⋅u¹(α₁, α₂)          ∂                     ⎥\n",
       "⎢q ⋅───(u¹(α₁, α₂)) - ────────────         ───(u²(α₁, α₂))        ⎥\n",
       "⎣   ∂α₂                    R               ∂α₂                    ⎦"
      ]
     },
     "execution_count": 26,
     "metadata": {},
     "output_type": "execute_result"
    }
   ],
   "source": [
    "q=Symbol('q')\n",
    "grad_u_down=grad_u.subs(1-alpha2/R, q)*G.subs((R-alpha2)/R,q)\n",
    "#grad_u_down=grad_u*G\n",
    "expand(simplify(grad_u_down))#.subs((R-alpha2)/R, q)"
   ]
  },
  {
   "cell_type": "markdown",
   "metadata": {},
   "source": [
    "$ \n",
    "\\left( \n",
    "\\begin{array}{c} \n",
    "\\nabla_1 u_1 \\\\ \\nabla_2 u_1 \\\\\n",
    "\\nabla_1 u_2 \\\\ \\nabla_2 u_2\n",
    "\\end{array} \n",
    "\\right) \n",
    "=  \n",
    "\\left( \n",
    "\\begin{array}{c}\n",
    "\\left( 1-\\frac{\\alpha_2}{R} \\right)^2  \\frac { \\partial u^1 } { \\partial \\alpha_1} - u^2 \\frac {\\left( 1-\\frac{\\alpha_2}{R} \\right)}{R} \\\\\n",
    "\\left( 1-\\frac{\\alpha_2}{R} \\right)^2  \\frac { \\partial u^1 } { \\partial \\alpha_2} - u^1 \\frac {\\left( 1-\\frac{\\alpha_2}{R} \\right)}{R} \\\\\n",
    "\\frac { \\partial u^2 } { \\partial \\alpha_1} + u^1 \\frac {\\left( 1-\\frac{\\alpha_2}{R} \\right)}{R} \\\\\n",
    "\\frac { \\partial u^2 } { \\partial \\alpha_2}\n",
    "\\end{array} \n",
    "\\right)\n",
    "$\n",
    "\n",
    "$ \n",
    "\\left( \n",
    "\\begin{array}{c} \n",
    "\\nabla_1 u_1 \\\\ \\nabla_2 u_1 \\\\\n",
    "\\nabla_1 u_2 \\\\ \\nabla_2 u_2\n",
    "\\end{array} \n",
    "\\right) \n",
    "=  \n",
    "\\left( \n",
    "\\begin{array}{cccccc}\n",
    "0 & \\left( 1-\\frac{\\alpha_2}{R} \\right)^2 & 0 & -\\frac {\\left( 1-\\frac{\\alpha_2}{R} \\right)}{R} & 0 & 0 \\\\\n",
    "-\\frac {\\left( 1-\\frac{\\alpha_2}{R} \\right)}{R} & 0 & \\left( 1-\\frac{\\alpha_2}{R} \\right)^2 & 0  & 0 & 0 \\\\\n",
    "\\frac {\\left( 1-\\frac{\\alpha_2}{R} \\right)}{R} & 0 & 0 & 0 & 1 & 0  \\\\\n",
    "0 & 0 & 0 & 0 & 0 & 1  \\\\\n",
    "\\end{array} \n",
    "\\right)\n",
    "\\left( \n",
    "\\begin{array}{c} \n",
    "u^1 \\\\\n",
    "\\frac { \\partial u^1 } { \\partial \\alpha_1} \\\\\n",
    "\\frac { \\partial u^1 } { \\partial \\alpha_2} \\\\\n",
    "u^2 \\\\\n",
    "\\frac { \\partial u^2 } { \\partial \\alpha_1} \\\\\n",
    "\\frac { \\partial u^2 } { \\partial \\alpha_2} \\\\\n",
    "\\end{array} \n",
    "\\right) \n",
    "$"
   ]
  },
  {
   "cell_type": "markdown",
   "metadata": {},
   "source": [
    "### Elasticity tensor(stiffness tensor)\n",
    "\n",
    "#### General form"
   ]
  },
  {
   "cell_type": "code",
   "execution_count": 55,
   "metadata": {},
   "outputs": [
    {
     "data": {
      "image/png": "[encoded data removed]",
      "text/latex": [
       "$$\\left[\\begin{matrix}\\left[\\begin{matrix}C^{1111} & C^{1112} & C^{1113}\\\\C^{1121} & C^{1122} & C^{1123}\\\\C^{1131} & C^{1132} & C^{1133}\\end{matrix}\\right] & \\left[\\begin{matrix}C^{1211} & C^{1212} & C^{1213}\\\\C^{1221} & C^{1222} & C^{1223}\\\\C^{1231} & C^{1232} & C^{1233}\\end{matrix}\\right] & \\left[\\begin{matrix}C^{1311} & C^{1312} & C^{1313}\\\\C^{1321} & C^{1322} & C^{1323}\\\\C^{1331} & C^{1332} & C^{1333}\\end{matrix}\\right]\\\\\\left[\\begin{matrix}C^{2111} & C^{2112} & C^{2113}\\\\C^{2121} & C^{2122} & C^{2123}\\\\C^{2131} & C^{2132} & C^{2133}\\end{matrix}\\right] & \\left[\\begin{matrix}C^{2211} & C^{2212} & C^{2213}\\\\C^{2221} & C^{2222} & C^{2223}\\\\C^{2231} & C^{2232} & C^{2233}\\end{matrix}\\right] & \\left[\\begin{matrix}C^{2311} & C^{2312} & C^{2313}\\\\C^{2321} & C^{2322} & C^{2323}\\\\C^{2331} & C^{2332} & C^{2333}\\end{matrix}\\right]\\\\\\left[\\begin{matrix}C^{3111} & C^{3112} & C^{3113}\\\\C^{3121} & C^{3122} & C^{3123}\\\\C^{3131} & C^{3132} & C^{3133}\\end{matrix}\\right] & \\left[\\begin{matrix}C^{3211} & C^{3212} & C^{3213}\\\\C^{3221} & C^{3222} & C^{3223}\\\\C^{3231} & C^{3232} & C^{3233}\\end{matrix}\\right] & \\left[\\begin{matrix}C^{3311} & C^{3312} & C^{3313}\\\\C^{3321} & C^{3322} & C^{3323}\\\\C^{3331} & C^{3332} & C^{3333}\\end{matrix}\\right]\\end{matrix}\\right]$$"
      ],
      "text/plain": [
       "⎡⎡C__{1111}  C__{1112}  C__{1113}⎤  ⎡C__{1211}  C__{1212}  C__{1213}⎤  ⎡C__{13\n",
       "⎢⎢                               ⎥  ⎢                               ⎥  ⎢      \n",
       "⎢⎢C__{1121}  C__{1122}  C__{1123}⎥  ⎢C__{1221}  C__{1222}  C__{1223}⎥  ⎢C__{13\n",
       "⎢⎢                               ⎥  ⎢                               ⎥  ⎢      \n",
       "⎢⎣C__{1131}  C__{1132}  C__{1133}⎦  ⎣C__{1231}  C__{1232}  C__{1233}⎦  ⎣C__{13\n",
       "⎢                                                                             \n",
       "⎢⎡C__{2111}  C__{2112}  C__{2113}⎤  ⎡C__{2211}  C__{2212}  C__{2213}⎤  ⎡C__{23\n",
       "⎢⎢                               ⎥  ⎢                               ⎥  ⎢      \n",
       "⎢⎢C__{2121}  C__{2122}  C__{2123}⎥  ⎢C__{2221}  C__{2222}  C__{2223}⎥  ⎢C__{23\n",
       "⎢⎢                               ⎥  ⎢                               ⎥  ⎢      \n",
       "⎢⎣C__{2131}  C__{2132}  C__{2133}⎦  ⎣C__{2231}  C__{2232}  C__{2233}⎦  ⎣C__{23\n",
       "⎢                                                                             \n",
       "⎢⎡C__{3111}  C__{3112}  C__{3113}⎤  ⎡C__{3211}  C__{3212}  C__{3213}⎤  ⎡C__{33\n",
       "⎢⎢                               ⎥  ⎢                               ⎥  ⎢      \n",
       "⎢⎢C__{3121}  C__{3122}  C__{3123}⎥  ⎢C__{3221}  C__{3222}  C__{3223}⎥  ⎢C__{33\n",
       "⎢⎢                               ⎥  ⎢                               ⎥  ⎢      \n",
       "⎣⎣C__{3131}  C__{3132}  C__{3133}⎦  ⎣C__{3231}  C__{3232}  C__{3233}⎦  ⎣C__{33\n",
       "\n",
       "11}  C__{1312}  C__{1313}⎤⎤\n",
       "                         ⎥⎥\n",
       "21}  C__{1322}  C__{1323}⎥⎥\n",
       "                         ⎥⎥\n",
       "31}  C__{1332}  C__{1333}⎦⎥\n",
       "                          ⎥\n",
       "11}  C__{2312}  C__{2313}⎤⎥\n",
       "                         ⎥⎥\n",
       "21}  C__{2322}  C__{2323}⎥⎥\n",
       "                         ⎥⎥\n",
       "31}  C__{2332}  C__{2333}⎦⎥\n",
       "                          ⎥\n",
       "11}  C__{3312}  C__{3313}⎤⎥\n",
       "                         ⎥⎥\n",
       "21}  C__{3322}  C__{3323}⎥⎥\n",
       "                         ⎥⎥\n",
       "31}  C__{3332}  C__{3333}⎦⎦"
      ]
     },
     "execution_count": 55,
     "metadata": {},
     "output_type": "execute_result"
    }
   ],
   "source": [
    "from sympy import MutableDenseNDimArray\n",
    "C_x = MutableDenseNDimArray.zeros(3, 3, 3, 3)\n",
    "\n",
    "for i in range(3):\n",
    "    for j in range(3):        \n",
    "        for k in range(3):\n",
    "            for l in range(3):\n",
    "                elem_index = 'C^{{{}{}{}{}}}'.format(i+1, j+1, k+1, l+1)\n",
    "                el = Symbol(elem_index)\n",
    "                C_x[i,j,k,l] = el\n",
    "                \n",
    "C_x"
   ]
  },
  {
   "cell_type": "markdown",
   "metadata": {},
   "source": [
    "#### Include symmetry"
   ]
  },
  {
   "cell_type": "code",
   "execution_count": 56,
   "metadata": {},
   "outputs": [
    {
     "data": {
      "image/png": "[encoded data removed]",
      "text/latex": [
       "$$\\left[\\begin{matrix}\\left[\\begin{matrix}C^{1111} & C^{1112} & C^{1113}\\\\C^{1112} & C^{1122} & C^{1123}\\\\C^{1113} & C^{1123} & C^{1133}\\end{matrix}\\right] & \\left[\\begin{matrix}C^{1112} & C^{1212} & C^{1213}\\\\C^{1212} & C^{2212} & C^{1223}\\\\C^{1213} & C^{1223} & C^{3312}\\end{matrix}\\right] & \\left[\\begin{matrix}C^{1113} & C^{1213} & C^{1313}\\\\C^{1213} & C^{2213} & C^{1323}\\\\C^{1313} & C^{1323} & C^{3313}\\end{matrix}\\right]\\\\\\left[\\begin{matrix}C^{1112} & C^{1212} & C^{1213}\\\\C^{1212} & C^{2212} & C^{1223}\\\\C^{1213} & C^{1223} & C^{3312}\\end{matrix}\\right] & \\left[\\begin{matrix}C^{1122} & C^{2212} & C^{2213}\\\\C^{2212} & C^{2222} & C^{2223}\\\\C^{2213} & C^{2223} & C^{2233}\\end{matrix}\\right] & \\left[\\begin{matrix}C^{1123} & C^{1223} & C^{1323}\\\\C^{1223} & C^{2223} & C^{2323}\\\\C^{1323} & C^{2323} & C^{3323}\\end{matrix}\\right]\\\\\\left[\\begin{matrix}C^{1113} & C^{1213} & C^{1313}\\\\C^{1213} & C^{2213} & C^{1323}\\\\C^{1313} & C^{1323} & C^{3313}\\end{matrix}\\right] & \\left[\\begin{matrix}C^{1123} & C^{1223} & C^{1323}\\\\C^{1223} & C^{2223} & C^{2323}\\\\C^{1323} & C^{2323} & C^{3323}\\end{matrix}\\right] & \\left[\\begin{matrix}C^{1133} & C^{3312} & C^{3313}\\\\C^{3312} & C^{2233} & C^{3323}\\\\C^{3313} & C^{3323} & C^{3333}\\end{matrix}\\right]\\end{matrix}\\right]$$"
      ],
      "text/plain": [
       "⎡⎡C__{1111}  C__{1112}  C__{1113}⎤  ⎡C__{1112}  C__{1212}  C__{1213}⎤  ⎡C__{11\n",
       "⎢⎢                               ⎥  ⎢                               ⎥  ⎢      \n",
       "⎢⎢C__{1112}  C__{1122}  C__{1123}⎥  ⎢C__{1212}  C__{2212}  C__{1223}⎥  ⎢C__{12\n",
       "⎢⎢                               ⎥  ⎢                               ⎥  ⎢      \n",
       "⎢⎣C__{1113}  C__{1123}  C__{1133}⎦  ⎣C__{1213}  C__{1223}  C__{3312}⎦  ⎣C__{13\n",
       "⎢                                                                             \n",
       "⎢⎡C__{1112}  C__{1212}  C__{1213}⎤  ⎡C__{1122}  C__{2212}  C__{2213}⎤  ⎡C__{11\n",
       "⎢⎢                               ⎥  ⎢                               ⎥  ⎢      \n",
       "⎢⎢C__{1212}  C__{2212}  C__{1223}⎥  ⎢C__{2212}  C__{2222}  C__{2223}⎥  ⎢C__{12\n",
       "⎢⎢                               ⎥  ⎢                               ⎥  ⎢      \n",
       "⎢⎣C__{1213}  C__{1223}  C__{3312}⎦  ⎣C__{2213}  C__{2223}  C__{2233}⎦  ⎣C__{13\n",
       "⎢                                                                             \n",
       "⎢⎡C__{1113}  C__{1213}  C__{1313}⎤  ⎡C__{1123}  C__{1223}  C__{1323}⎤  ⎡C__{11\n",
       "⎢⎢                               ⎥  ⎢                               ⎥  ⎢      \n",
       "⎢⎢C__{1213}  C__{2213}  C__{1323}⎥  ⎢C__{1223}  C__{2223}  C__{2323}⎥  ⎢C__{33\n",
       "⎢⎢                               ⎥  ⎢                               ⎥  ⎢      \n",
       "⎣⎣C__{1313}  C__{1323}  C__{3313}⎦  ⎣C__{1323}  C__{2323}  C__{3323}⎦  ⎣C__{33\n",
       "\n",
       "13}  C__{1213}  C__{1313}⎤⎤\n",
       "                         ⎥⎥\n",
       "13}  C__{2213}  C__{1323}⎥⎥\n",
       "                         ⎥⎥\n",
       "13}  C__{1323}  C__{3313}⎦⎥\n",
       "                          ⎥\n",
       "23}  C__{1223}  C__{1323}⎤⎥\n",
       "                         ⎥⎥\n",
       "23}  C__{2223}  C__{2323}⎥⎥\n",
       "                         ⎥⎥\n",
       "23}  C__{2323}  C__{3323}⎦⎥\n",
       "                          ⎥\n",
       "33}  C__{3312}  C__{3313}⎤⎥\n",
       "                         ⎥⎥\n",
       "12}  C__{2233}  C__{3323}⎥⎥\n",
       "                         ⎥⎥\n",
       "13}  C__{3323}  C__{3333}⎦⎦"
      ]
     },
     "execution_count": 56,
     "metadata": {},
     "output_type": "execute_result"
    }
   ],
   "source": [
    "C_x_symmetry = MutableDenseNDimArray.zeros(3, 3, 3, 3)\n",
    "\n",
    "def getCIndecies(index):\n",
    "    if (index == 0):\n",
    "        return 0, 0\n",
    "    elif (index == 1):\n",
    "        return 1, 1\n",
    "    elif (index == 2):\n",
    "        return 2, 2\n",
    "    elif (index == 3):\n",
    "        return 0, 1\n",
    "    elif (index == 4):\n",
    "        return 0, 2\n",
    "    elif (index == 5):\n",
    "        return 1, 2\n",
    "    \n",
    "for s in range(6):\n",
    "    for t in range(s, 6):\n",
    "        i,j = getCIndecies(s)\n",
    "        k,l = getCIndecies(t)\n",
    "        elem_index = 'C^{{{}{}{}{}}}'.format(i+1, j+1, k+1, l+1)\n",
    "        el = Symbol(elem_index)\n",
    "        C_x_symmetry[i,j,k,l] = el\n",
    "        C_x_symmetry[i,j,l,k] = el\n",
    "        C_x_symmetry[j,i,k,l] = el\n",
    "        C_x_symmetry[j,i,l,k] = el\n",
    "        C_x_symmetry[k,l,i,j] = el\n",
    "        C_x_symmetry[k,l,j,i] = el\n",
    "        C_x_symmetry[l,k,i,j] = el\n",
    "        C_x_symmetry[l,k,j,i] = el\n",
    "\n",
    "                \n",
    "C_x_symmetry"
   ]
  },
  {
   "cell_type": "markdown",
   "metadata": {},
   "source": [
    "#### Orthotropic material"
   ]
  },
  {
   "cell_type": "code",
   "execution_count": 68,
   "metadata": {},
   "outputs": [
    {
     "data": {
      "image/png": "[encoded data removed]",
      "text/latex": [
       "$$\\left[\\begin{matrix}\\left[\\begin{matrix}C^{11} & 0 & 0\\\\0 & C^{12} & 0\\\\0 & 0 & C^{13}\\end{matrix}\\right] & \\left[\\begin{matrix}0 & C^{44} & 0\\\\C^{44} & 0 & 0\\\\0 & 0 & 0\\end{matrix}\\right] & \\left[\\begin{matrix}0 & 0 & C^{55}\\\\0 & 0 & 0\\\\C^{55} & 0 & 0\\end{matrix}\\right]\\\\\\left[\\begin{matrix}0 & C^{44} & 0\\\\C^{44} & 0 & 0\\\\0 & 0 & 0\\end{matrix}\\right] & \\left[\\begin{matrix}C^{12} & 0 & 0\\\\0 & C^{22} & 0\\\\0 & 0 & C^{23}\\end{matrix}\\right] & \\left[\\begin{matrix}0 & 0 & 0\\\\0 & 0 & C^{66}\\\\0 & C^{66} & 0\\end{matrix}\\right]\\\\\\left[\\begin{matrix}0 & 0 & C^{55}\\\\0 & 0 & 0\\\\C^{55} & 0 & 0\\end{matrix}\\right] & \\left[\\begin{matrix}0 & 0 & 0\\\\0 & 0 & C^{66}\\\\0 & C^{66} & 0\\end{matrix}\\right] & \\left[\\begin{matrix}C^{13} & 0 & 0\\\\0 & C^{23} & 0\\\\0 & 0 & C^{33}\\end{matrix}\\right]\\end{matrix}\\right]$$"
      ],
      "text/plain": [
       "⎡⎡C__{11}     0        0   ⎤     ⎡   0     C__{44}  0⎤        ⎡   0     0  C__\n",
       "⎢⎢                         ⎥     ⎢                   ⎥        ⎢               \n",
       "⎢⎢   0     C__{12}     0   ⎥     ⎢C__{44}     0     0⎥        ⎢   0     0     \n",
       "⎢⎢                         ⎥     ⎢                   ⎥        ⎢               \n",
       "⎢⎣   0        0     C__{13}⎦     ⎣   0        0     0⎦        ⎣C__{55}  0     \n",
       "⎢                                                                             \n",
       "⎢   ⎡   0     C__{44}  0⎤     ⎡C__{12}     0        0   ⎤     ⎡0     0        \n",
       "⎢   ⎢                   ⎥     ⎢                         ⎥     ⎢               \n",
       "⎢   ⎢C__{44}     0     0⎥     ⎢   0     C__{22}     0   ⎥     ⎢0     0     C__\n",
       "⎢   ⎢                   ⎥     ⎢                         ⎥     ⎢               \n",
       "⎢   ⎣   0        0     0⎦     ⎣   0        0     C__{23}⎦     ⎣0  C__{66}     \n",
       "⎢                                                                             \n",
       "⎢   ⎡   0     0  C__{55}⎤        ⎡0     0        0   ⎤     ⎡C__{13}     0     \n",
       "⎢   ⎢                   ⎥        ⎢                   ⎥     ⎢                  \n",
       "⎢   ⎢   0     0     0   ⎥        ⎢0     0     C__{66}⎥     ⎢   0     C__{23}  \n",
       "⎢   ⎢                   ⎥        ⎢                   ⎥     ⎢                  \n",
       "⎣   ⎣C__{55}  0     0   ⎦        ⎣0  C__{66}     0   ⎦     ⎣   0        0     \n",
       "\n",
       "{55}⎤   ⎤\n",
       "    ⎥   ⎥\n",
       "0   ⎥   ⎥\n",
       "    ⎥   ⎥\n",
       "0   ⎦   ⎥\n",
       "        ⎥\n",
       "0   ⎤   ⎥\n",
       "    ⎥   ⎥\n",
       "{66}⎥   ⎥\n",
       "    ⎥   ⎥\n",
       "0   ⎦   ⎥\n",
       "        ⎥\n",
       "   0   ⎤⎥\n",
       "       ⎥⎥\n",
       "   0   ⎥⎥\n",
       "       ⎥⎥\n",
       "C__{33}⎦⎦"
      ]
     },
     "execution_count": 68,
     "metadata": {},
     "output_type": "execute_result"
    }
   ],
   "source": [
    "C_orthotropic = MutableDenseNDimArray.zeros(3, 3, 3, 3)\n",
    "\n",
    "C_orthotropic_matrix = zeros(6)\n",
    "\n",
    "for s in range(6):\n",
    "    for t in range(s, 6):\n",
    "        elem_index = 'C^{{{}{}}}'.format(s+1, t+1)\n",
    "        el = Symbol(elem_index)\n",
    "        if ((s < 3 and t < 3) or t == s):\n",
    "            C_orthotropic_matrix[s,t] = el\n",
    "            C_orthotropic_matrix[t,s] = el\n",
    "            \n",
    "for s in range(6):\n",
    "    for t in range(s, 6):\n",
    "        i,j = getCIndecies(s)\n",
    "        k,l = getCIndecies(t)\n",
    "        el = C_orthotropic_matrix[s, t]\n",
    "        C_orthotropic[i,j,k,l] = el\n",
    "        C_orthotropic[i,j,l,k] = el\n",
    "        C_orthotropic[j,i,k,l] = el\n",
    "        C_orthotropic[j,i,l,k] = el\n",
    "        C_orthotropic[k,l,i,j] = el\n",
    "        C_orthotropic[k,l,j,i] = el\n",
    "        C_orthotropic[l,k,i,j] = el\n",
    "        C_orthotropic[l,k,j,i] = el\n",
    "\n",
    "                \n",
    "C_orthotropic"
   ]
  },
  {
   "cell_type": "markdown",
   "metadata": {},
   "source": [
    "#### Orthotropic material in shell coordinates"
   ]
  },
  {
   "cell_type": "code",
   "execution_count": 71,
   "metadata": {},
   "outputs": [
    {
     "data": {
      "image/png": "[encoded data removed]",
      "text/latex": [
       "$$\\frac{R^{4}}{\\left(R - \\alpha_{2}\\right)^{4}} \\left(C^{11} \\cos^{4}{\\left (\\frac{1}{R} \\left(\\frac{L}{2} - \\alpha_{1}\\right) \\right )} + 2 C^{12} \\sin^{2}{\\left (\\frac{1}{R} \\left(\\frac{L}{2} - \\alpha_{1}\\right) \\right )} \\cos^{2}{\\left (\\frac{1}{R} \\left(\\frac{L}{2} - \\alpha_{1}\\right) \\right )} + C^{22} \\sin^{4}{\\left (\\frac{1}{R} \\left(\\frac{L}{2} - \\alpha_{1}\\right) \\right )} + 4 C^{44} \\sin^{2}{\\left (\\frac{1}{R} \\left(\\frac{L}{2} - \\alpha_{1}\\right) \\right )} \\cos^{2}{\\left (\\frac{1}{R} \\left(\\frac{L}{2} - \\alpha_{1}\\right) \\right )}\\right)$$"
      ],
      "text/plain": [
       "   ⎛            ⎛L     ⎞                 ⎛L     ⎞     ⎛L     ⎞               ⎛\n",
       "   ⎜            ⎜─ - α₁⎟                 ⎜─ - α₁⎟     ⎜─ - α₁⎟               ⎜\n",
       " 4 ⎜           4⎜2     ⎟                2⎜2     ⎟    2⎜2     ⎟              4⎜\n",
       "R ⋅⎜C__{11}⋅cos ⎜──────⎟ + 2⋅C__{12}⋅sin ⎜──────⎟⋅cos ⎜──────⎟ + C__{22}⋅sin ⎜\n",
       "   ⎝            ⎝  R   ⎠                 ⎝  R   ⎠     ⎝  R   ⎠               ⎝\n",
       "──────────────────────────────────────────────────────────────────────────────\n",
       "                                                                 4            \n",
       "                                                         (R - α₂)             \n",
       "\n",
       "L     ⎞                 ⎛L     ⎞     ⎛L     ⎞⎞\n",
       "─ - α₁⎟                 ⎜─ - α₁⎟     ⎜─ - α₁⎟⎟\n",
       "2     ⎟                2⎜2     ⎟    2⎜2     ⎟⎟\n",
       "──────⎟ + 4⋅C__{44}⋅sin ⎜──────⎟⋅cos ⎜──────⎟⎟\n",
       "  R   ⎠                 ⎝  R   ⎠     ⎝  R   ⎠⎠\n",
       "──────────────────────────────────────────────\n",
       "                                              \n",
       "                                              "
      ]
     },
     "execution_count": 71,
     "metadata": {},
     "output_type": "execute_result"
    }
   ],
   "source": [
    "def getCalpha(C, A, q, p, s, t):\n",
    "    res = S(0)\n",
    "    for i in range(3):\n",
    "        for j in range(3):        \n",
    "            for k in range(3):\n",
    "                for l in range(3):\n",
    "                    res += C[i,j,k,l]*A[q,i]*A[p,j]*A[s,k]*A[t,l]\n",
    "    return simplify(trigsimp(res))\n",
    "                    \n",
    "\n",
    "\n",
    "C_alpha = MutableDenseNDimArray.zeros(3, 3, 3, 3)\n",
    "\n",
    "m11=R1.dot(N.i)\n",
    "m12=R2.dot(N.i)\n",
    "m21=R1.dot(N.j)\n",
    "m22=R2.dot(N.j)\n",
    "A=Matrix([[m11, m12, 0], [m21, m22, 0], [0,0,1]])\n",
    "A_inv=A**-1\n",
    "\n",
    "for i in range(3):\n",
    "    for j in range(3):        \n",
    "        for k in range(3):\n",
    "            for l in range(3):\n",
    "                c = getCalpha(C_orthotropic, A_inv, i, j, k, l)\n",
    "                C_alpha[i,j,k,l] = c\n",
    "#                 if (c != 0):\n",
    "#                     elem_index = 'C_{{\\alpha}}^{}{}{}{}'.format(i+1, j+1, k+1, l+1)\n",
    "#                     el = Symbol(elem_index)\n",
    "#                     C_alpha_empty[i,j,k,l] = el\n",
    "                \n",
    "# # trigsimp(C_alpha[0,2,0,2])\n",
    "\n",
    "C_alpha[0,0,0,0]"
   ]
  },
  {
   "cell_type": "code",
   "execution_count": 74,
   "metadata": {},
   "outputs": [
    {
     "data": {
      "image/png": "[encoded data removed]",
      "text/latex": [
       "$$\\frac{R^{3}}{8 \\left(R - \\alpha_{2}\\right)^{3}} \\left(2 C^{11} \\sin{\\left (\\frac{1}{R} \\left(L - 2 \\alpha_{1}\\right) \\right )} + C^{11} \\sin{\\left (\\frac{2}{R} \\left(L - 2 \\alpha_{1}\\right) \\right )} - 2 C^{12} \\sin{\\left (\\frac{2}{R} \\left(L - 2 \\alpha_{1}\\right) \\right )} - 2 C^{22} \\sin{\\left (\\frac{1}{R} \\left(L - 2 \\alpha_{1}\\right) \\right )} + C^{22} \\sin{\\left (\\frac{2}{R} \\left(L - 2 \\alpha_{1}\\right) \\right )} - 4 C^{44} \\sin{\\left (\\frac{2}{R} \\left(L - 2 \\alpha_{1}\\right) \\right )}\\right)$$"
      ],
      "text/plain": [
       " 3 ⎛             ⎛L - 2⋅α₁⎞              ⎛2⋅(L - 2⋅α₁)⎞                ⎛2⋅(L -\n",
       "R ⋅⎜2⋅C__{11}⋅sin⎜────────⎟ + C__{11}⋅sin⎜────────────⎟ - 2⋅C__{12}⋅sin⎜──────\n",
       "   ⎝             ⎝   R    ⎠              ⎝     R      ⎠                ⎝     R\n",
       "──────────────────────────────────────────────────────────────────────────────\n",
       "                                                                              \n",
       "                                                                              \n",
       "\n",
       " 2⋅α₁)⎞                ⎛L - 2⋅α₁⎞              ⎛2⋅(L - 2⋅α₁)⎞                ⎛\n",
       "──────⎟ - 2⋅C__{22}⋅sin⎜────────⎟ + C__{22}⋅sin⎜────────────⎟ - 4⋅C__{44}⋅sin⎜\n",
       "      ⎠                ⎝   R    ⎠              ⎝     R      ⎠                ⎝\n",
       "──────────────────────────────────────────────────────────────────────────────\n",
       "           3                                                                  \n",
       " 8⋅(R - α₂)                                                                   \n",
       "\n",
       "2⋅(L - 2⋅α₁)⎞⎞\n",
       "────────────⎟⎟\n",
       "     R      ⎠⎠\n",
       "──────────────\n",
       "              \n",
       "              "
      ]
     },
     "execution_count": 74,
     "metadata": {},
     "output_type": "execute_result"
    }
   ],
   "source": [
    "C_alpha[0,0,0,1]"
   ]
  },
  {
   "cell_type": "code",
   "execution_count": 77,
   "metadata": {},
   "outputs": [
    {
     "data": {
      "image/png": "[encoded data removed]",
      "text/latex": [
       "$$\\frac{R^{3}}{8 \\left(R - \\alpha_{2}\\right)^{3}} \\left(2 C^{11} \\sin{\\left (\\frac{1}{R} \\left(L - 2 \\alpha_{1}\\right) \\right )} + C^{11} \\sin{\\left (\\frac{2}{R} \\left(L - 2 \\alpha_{1}\\right) \\right )} - 2 C^{12} \\sin{\\left (\\frac{2}{R} \\left(L - 2 \\alpha_{1}\\right) \\right )} - 2 C^{22} \\sin{\\left (\\frac{1}{R} \\left(L - 2 \\alpha_{1}\\right) \\right )} + C^{22} \\sin{\\left (\\frac{2}{R} \\left(L - 2 \\alpha_{1}\\right) \\right )} - 4 C^{44} \\sin{\\left (\\frac{2}{R} \\left(L - 2 \\alpha_{1}\\right) \\right )}\\right)$$"
      ],
      "text/plain": [
       " 3 ⎛             ⎛L - 2⋅α₁⎞              ⎛2⋅(L - 2⋅α₁)⎞                ⎛2⋅(L -\n",
       "R ⋅⎜2⋅C__{11}⋅sin⎜────────⎟ + C__{11}⋅sin⎜────────────⎟ - 2⋅C__{12}⋅sin⎜──────\n",
       "   ⎝             ⎝   R    ⎠              ⎝     R      ⎠                ⎝     R\n",
       "──────────────────────────────────────────────────────────────────────────────\n",
       "                                                                              \n",
       "                                                                              \n",
       "\n",
       " 2⋅α₁)⎞                ⎛L - 2⋅α₁⎞              ⎛2⋅(L - 2⋅α₁)⎞                ⎛\n",
       "──────⎟ - 2⋅C__{22}⋅sin⎜────────⎟ + C__{22}⋅sin⎜────────────⎟ - 4⋅C__{44}⋅sin⎜\n",
       "      ⎠                ⎝   R    ⎠              ⎝     R      ⎠                ⎝\n",
       "──────────────────────────────────────────────────────────────────────────────\n",
       "           3                                                                  \n",
       " 8⋅(R - α₂)                                                                   \n",
       "\n",
       "2⋅(L - 2⋅α₁)⎞⎞\n",
       "────────────⎟⎟\n",
       "     R      ⎠⎠\n",
       "──────────────\n",
       "              \n",
       "              "
      ]
     },
     "execution_count": 77,
     "metadata": {},
     "output_type": "execute_result"
    }
   ],
   "source": [
    "C_alpha[0,1,0,0]"
   ]
  },
  {
   "cell_type": "markdown",
   "metadata": {},
   "source": [
    "#### Virtual work"
   ]
  },
  {
   "cell_type": "code",
   "execution_count": 79,
   "metadata": {
    "collapsed": true
   },
   "outputs": [],
   "source": [
    "def contraction3DSameRank(A,B):\n",
    "    res = S(0)\n",
    "    for i in range(3):\n",
    "        for j in range(3):\n",
    "            res += A[i,j]*B[j,i]\n",
    "    return res\n",
    "\n",
    "def contraction3D(C,e):\n",
    "    res = MutableDenseNDimArray.zeros(3, 3)\n",
    "    for i in range(3):\n",
    "        for j in range(3):\n",
    "            res[i,j] = S(0)\n",
    "            for k in range(3):\n",
    "                for l in range(3):\n",
    "                    res[i,j] += C[i,j,k,l]*e[k,l]\n",
    "    return res\n"
   ]
  },
  {
   "cell_type": "code",
   "execution_count": 82,
   "metadata": {},
   "outputs": [],
   "source": [
    "e11 = Symbol(\"e_{11}\")\n",
    "e12 = Symbol(\"e_{12}\")\n",
    "e22 = Symbol(\"e_{22}\")\n",
    "e13 = Symbol(\"e_{13}\")\n",
    "e23 = Symbol(\"e_{23}\")\n",
    "e33 = Symbol(\"e_{33}\")\n",
    "# s11 = Symbol(\"s_{11}\")\n",
    "# s12 = Symbol(\"s_{12}\")\n",
    "# s22 = Symbol(\"s_{22}\")\n",
    "\n",
    "e=Matrix([[e11, e12, e13], [e12, e22, e23], [e13, e23, e33]])\n",
    "\n",
    "s=contraction3D(C_alpha, e)\n",
    "\n",
    "E=contraction3DSameRank(s, e)\n",
    "\n",
    "\n"
   ]
  },
  {
   "cell_type": "code",
   "execution_count": 83,
   "metadata": {
    "collapsed": true
   },
   "outputs": [],
   "source": [
    "E_s = trigsimp(E)\n"
   ]
  },
  {
   "cell_type": "code",
   "execution_count": 91,
   "metadata": {},
   "outputs": [
    {
     "data": {
      "image/png": "[encoded data removed]",
      "text/latex": [
       "$$e_{11} \\left(\\frac{R^{4} e_{11}}{\\left(R - \\alpha_{2}\\right)^{4}} \\left(C^{11} \\cos^{4}{\\left (\\frac{1}{R} \\left(\\frac{L}{2} - \\alpha_{1}\\right) \\right )} + 2 C^{12} \\sin^{2}{\\left (\\frac{1}{R} \\left(\\frac{L}{2} - \\alpha_{1}\\right) \\right )} \\cos^{2}{\\left (\\frac{1}{R} \\left(\\frac{L}{2} - \\alpha_{1}\\right) \\right )} + C^{22} \\sin^{4}{\\left (\\frac{1}{R} \\left(\\frac{L}{2} - \\alpha_{1}\\right) \\right )} + 4 C^{44} \\sin^{2}{\\left (\\frac{1}{R} \\left(\\frac{L}{2} - \\alpha_{1}\\right) \\right )} \\cos^{2}{\\left (\\frac{1}{R} \\left(\\frac{L}{2} - \\alpha_{1}\\right) \\right )}\\right) + \\frac{R^{3} e_{12}}{4 \\left(R - \\alpha_{2}\\right)^{3}} \\left(2 C^{11} \\sin{\\left (\\frac{1}{R} \\left(L - 2 \\alpha_{1}\\right) \\right )} + C^{11} \\sin{\\left (\\frac{2}{R} \\left(L - 2 \\alpha_{1}\\right) \\right )} - 2 C^{12} \\sin{\\left (\\frac{2}{R} \\left(L - 2 \\alpha_{1}\\right) \\right )} - 2 C^{22} \\sin{\\left (\\frac{1}{R} \\left(L - 2 \\alpha_{1}\\right) \\right )} + C^{22} \\sin{\\left (\\frac{2}{R} \\left(L - 2 \\alpha_{1}\\right) \\right )} - 4 C^{44} \\sin{\\left (\\frac{2}{R} \\left(L - 2 \\alpha_{1}\\right) \\right )}\\right) + \\frac{R^{2} e_{22}}{\\left(R - \\alpha_{2}\\right)^{2}} \\left(C^{11} \\sin^{2}{\\left (\\frac{1}{R} \\left(\\frac{L}{2} - \\alpha_{1}\\right) \\right )} \\cos^{2}{\\left (\\frac{1}{R} \\left(\\frac{L}{2} - \\alpha_{1}\\right) \\right )} + C^{12} \\sin^{4}{\\left (\\frac{1}{R} \\left(\\frac{L}{2} - \\alpha_{1}\\right) \\right )} + C^{12} \\cos^{4}{\\left (\\frac{1}{R} \\left(\\frac{L}{2} - \\alpha_{1}\\right) \\right )} + C^{22} \\sin^{2}{\\left (\\frac{1}{R} \\left(\\frac{L}{2} - \\alpha_{1}\\right) \\right )} \\cos^{2}{\\left (\\frac{1}{R} \\left(\\frac{L}{2} - \\alpha_{1}\\right) \\right )} - 4 C^{44} \\sin^{2}{\\left (\\frac{1}{R} \\left(\\frac{L}{2} - \\alpha_{1}\\right) \\right )} \\cos^{2}{\\left (\\frac{1}{R} \\left(\\frac{L}{2} - \\alpha_{1}\\right) \\right )}\\right) + \\frac{R^{2} e_{33}}{\\left(R - \\alpha_{2}\\right)^{2}} \\left(C^{13} \\cos^{2}{\\left (\\frac{1}{R} \\left(\\frac{L}{2} - \\alpha_{1}\\right) \\right )} + C^{23} \\sin^{2}{\\left (\\frac{1}{R} \\left(\\frac{L}{2} - \\alpha_{1}\\right) \\right )}\\right)\\right) + 2 e_{12} \\left(\\frac{R^{3} e_{11}}{8 \\left(R - \\alpha_{2}\\right)^{3}} \\left(2 C^{11} \\sin{\\left (\\frac{1}{R} \\left(L - 2 \\alpha_{1}\\right) \\right )} + C^{11} \\sin{\\left (\\frac{2}{R} \\left(L - 2 \\alpha_{1}\\right) \\right )} - 2 C^{12} \\sin{\\left (\\frac{2}{R} \\left(L - 2 \\alpha_{1}\\right) \\right )} - 2 C^{22} \\sin{\\left (\\frac{1}{R} \\left(L - 2 \\alpha_{1}\\right) \\right )} + C^{22} \\sin{\\left (\\frac{2}{R} \\left(L - 2 \\alpha_{1}\\right) \\right )} - 4 C^{44} \\sin{\\left (\\frac{2}{R} \\left(L - 2 \\alpha_{1}\\right) \\right )}\\right) + \\frac{2 R^{2} e_{12}}{\\left(R - \\alpha_{2}\\right)^{2}} \\left(C^{11} \\sin^{2}{\\left (\\frac{1}{R} \\left(\\frac{L}{2} - \\alpha_{1}\\right) \\right )} \\cos^{2}{\\left (\\frac{1}{R} \\left(\\frac{L}{2} - \\alpha_{1}\\right) \\right )} - 2 C^{12} \\sin^{2}{\\left (\\frac{1}{R} \\left(\\frac{L}{2} - \\alpha_{1}\\right) \\right )} \\cos^{2}{\\left (\\frac{1}{R} \\left(\\frac{L}{2} - \\alpha_{1}\\right) \\right )} + C^{22} \\sin^{2}{\\left (\\frac{1}{R} \\left(\\frac{L}{2} - \\alpha_{1}\\right) \\right )} \\cos^{2}{\\left (\\frac{1}{R} \\left(\\frac{L}{2} - \\alpha_{1}\\right) \\right )} + C^{44} \\sin^{4}{\\left (\\frac{1}{R} \\left(\\frac{L}{2} - \\alpha_{1}\\right) \\right )} - 2 C^{44} \\sin^{2}{\\left (\\frac{1}{R} \\left(\\frac{L}{2} - \\alpha_{1}\\right) \\right )} \\cos^{2}{\\left (\\frac{1}{R} \\left(\\frac{L}{2} - \\alpha_{1}\\right) \\right )} + C^{44} \\cos^{4}{\\left (\\frac{1}{R} \\left(\\frac{L}{2} - \\alpha_{1}\\right) \\right )}\\right) + \\frac{R e_{22}}{8 \\left(R - \\alpha_{2}\\right)} \\left(2 C^{11} \\sin{\\left (\\frac{1}{R} \\left(L - 2 \\alpha_{1}\\right) \\right )} - C^{11} \\sin{\\left (\\frac{2}{R} \\left(L - 2 \\alpha_{1}\\right) \\right )} + 2 C^{12} \\sin{\\left (\\frac{2}{R} \\left(L - 2 \\alpha_{1}\\right) \\right )} - 2 C^{22} \\sin{\\left (\\frac{1}{R} \\left(L - 2 \\alpha_{1}\\right) \\right )} - C^{22} \\sin{\\left (\\frac{2}{R} \\left(L - 2 \\alpha_{1}\\right) \\right )} + 4 C^{44} \\sin{\\left (\\frac{2}{R} \\left(L - 2 \\alpha_{1}\\right) \\right )}\\right) + \\frac{R e_{33}}{2 \\left(R - \\alpha_{2}\\right)} \\left(C^{13} - C^{23}\\right) \\sin{\\left (\\frac{1}{R} \\left(L - 2 \\alpha_{1}\\right) \\right )}\\right) + 2 e_{13} \\left(\\frac{2 R^{2} e_{13}}{\\left(R - \\alpha_{2}\\right)^{2}} \\left(C^{55} \\cos^{2}{\\left (\\frac{1}{R} \\left(\\frac{L}{2} - \\alpha_{1}\\right) \\right )} + C^{66} \\sin^{2}{\\left (\\frac{1}{R} \\left(\\frac{L}{2} - \\alpha_{1}\\right) \\right )}\\right) + \\frac{R e_{23}}{R - \\alpha_{2}} \\left(C^{55} - C^{66}\\right) \\sin{\\left (\\frac{1}{R} \\left(L - 2 \\alpha_{1}\\right) \\right )}\\right) + e_{22} \\left(\\frac{R^{2} e_{11}}{\\left(R - \\alpha_{2}\\right)^{2}} \\left(C^{11} \\sin^{2}{\\left (\\frac{1}{R} \\left(\\frac{L}{2} - \\alpha_{1}\\right) \\right )} \\cos^{2}{\\left (\\frac{1}{R} \\left(\\frac{L}{2} - \\alpha_{1}\\right) \\right )} + C^{12} \\sin^{4}{\\left (\\frac{1}{R} \\left(\\frac{L}{2} - \\alpha_{1}\\right) \\right )} + C^{12} \\cos^{4}{\\left (\\frac{1}{R} \\left(\\frac{L}{2} - \\alpha_{1}\\right) \\right )} + C^{22} \\sin^{2}{\\left (\\frac{1}{R} \\left(\\frac{L}{2} - \\alpha_{1}\\right) \\right )} \\cos^{2}{\\left (\\frac{1}{R} \\left(\\frac{L}{2} - \\alpha_{1}\\right) \\right )} - 4 C^{44} \\sin^{2}{\\left (\\frac{1}{R} \\left(\\frac{L}{2} - \\alpha_{1}\\right) \\right )} \\cos^{2}{\\left (\\frac{1}{R} \\left(\\frac{L}{2} - \\alpha_{1}\\right) \\right )}\\right) + \\frac{R e_{12}}{4 \\left(R - \\alpha_{2}\\right)} \\left(2 C^{11} \\sin{\\left (\\frac{1}{R} \\left(L - 2 \\alpha_{1}\\right) \\right )} - C^{11} \\sin{\\left (\\frac{2}{R} \\left(L - 2 \\alpha_{1}\\right) \\right )} + 2 C^{12} \\sin{\\left (\\frac{2}{R} \\left(L - 2 \\alpha_{1}\\right) \\right )} - 2 C^{22} \\sin{\\left (\\frac{1}{R} \\left(L - 2 \\alpha_{1}\\right) \\right )} - C^{22} \\sin{\\left (\\frac{2}{R} \\left(L - 2 \\alpha_{1}\\right) \\right )} + 4 C^{44} \\sin{\\left (\\frac{2}{R} \\left(L - 2 \\alpha_{1}\\right) \\right )}\\right) + e_{22} \\left(C^{11} \\sin^{4}{\\left (\\frac{1}{R} \\left(\\frac{L}{2} - \\alpha_{1}\\right) \\right )} + 2 C^{12} \\sin^{2}{\\left (\\frac{1}{R} \\left(\\frac{L}{2} - \\alpha_{1}\\right) \\right )} \\cos^{2}{\\left (\\frac{1}{R} \\left(\\frac{L}{2} - \\alpha_{1}\\right) \\right )} + C^{22} \\cos^{4}{\\left (\\frac{1}{R} \\left(\\frac{L}{2} - \\alpha_{1}\\right) \\right )} + 4 C^{44} \\sin^{2}{\\left (\\frac{1}{R} \\left(\\frac{L}{2} - \\alpha_{1}\\right) \\right )} \\cos^{2}{\\left (\\frac{1}{R} \\left(\\frac{L}{2} - \\alpha_{1}\\right) \\right )}\\right) + e_{33} \\left(C^{13} \\sin^{2}{\\left (\\frac{1}{R} \\left(\\frac{L}{2} - \\alpha_{1}\\right) \\right )} + C^{23} \\cos^{2}{\\left (\\frac{1}{R} \\left(\\frac{L}{2} - \\alpha_{1}\\right) \\right )}\\right)\\right) + 2 e_{23} \\left(\\frac{R e_{13}}{R - \\alpha_{2}} \\left(C^{55} - C^{66}\\right) \\sin{\\left (\\frac{1}{R} \\left(L - 2 \\alpha_{1}\\right) \\right )} + 2 e_{23} \\left(C^{55} \\sin^{2}{\\left (\\frac{1}{R} \\left(\\frac{L}{2} - \\alpha_{1}\\right) \\right )} + C^{66} \\cos^{2}{\\left (\\frac{1}{R} \\left(\\frac{L}{2} - \\alpha_{1}\\right) \\right )}\\right)\\right) + e_{33} \\left(C^{33} e_{33} + \\frac{R^{2} e_{11}}{\\left(R - \\alpha_{2}\\right)^{2}} \\left(C^{13} \\cos^{2}{\\left (\\frac{1}{R} \\left(\\frac{L}{2} - \\alpha_{1}\\right) \\right )} + C^{23} \\sin^{2}{\\left (\\frac{1}{R} \\left(\\frac{L}{2} - \\alpha_{1}\\right) \\right )}\\right) + \\frac{R e_{12}}{R - \\alpha_{2}} \\left(C^{13} - C^{23}\\right) \\sin{\\left (\\frac{1}{R} \\left(L - 2 \\alpha_{1}\\right) \\right )} + e_{22} \\left(C^{13} \\sin^{2}{\\left (\\frac{1}{R} \\left(\\frac{L}{2} - \\alpha_{1}\\right) \\right )} + C^{23} \\cos^{2}{\\left (\\frac{1}{R} \\left(\\frac{L}{2} - \\alpha_{1}\\right) \\right )}\\right)\\right)$$"
      ],
      "text/plain": [
       "       ⎛          ⎛            ⎛L     ⎞                 ⎛L     ⎞     ⎛L     ⎞ \n",
       "       ⎜          ⎜            ⎜─ - α₁⎟                 ⎜─ - α₁⎟     ⎜─ - α₁⎟ \n",
       "       ⎜ 4        ⎜           4⎜2     ⎟                2⎜2     ⎟    2⎜2     ⎟ \n",
       "       ⎜R ⋅e_{11}⋅⎜C__{11}⋅cos ⎜──────⎟ + 2⋅C__{12}⋅sin ⎜──────⎟⋅cos ⎜──────⎟ \n",
       "       ⎜          ⎝            ⎝  R   ⎠                 ⎝  R   ⎠     ⎝  R   ⎠ \n",
       "e_{11}⋅⎜──────────────────────────────────────────────────────────────────────\n",
       "       ⎜                                                                     4\n",
       "       ⎝                                                             (R - α₂) \n",
       "\n",
       "              ⎛L     ⎞                 ⎛L     ⎞     ⎛L     ⎞⎞                 \n",
       "              ⎜─ - α₁⎟                 ⎜─ - α₁⎟     ⎜─ - α₁⎟⎟                 \n",
       "             4⎜2     ⎟                2⎜2     ⎟    2⎜2     ⎟⎟    3        ⎛   \n",
       "+ C__{22}⋅sin ⎜──────⎟ + 4⋅C__{44}⋅sin ⎜──────⎟⋅cos ⎜──────⎟⎟   R ⋅e_{12}⋅⎜2⋅C\n",
       "              ⎝  R   ⎠                 ⎝  R   ⎠     ⎝  R   ⎠⎠             ⎝   \n",
       "───────────────────────────────────────────────────────────── + ──────────────\n",
       "                                                                              \n",
       "                                                                              \n",
       "\n",
       "                                                                              \n",
       "                                                                              \n",
       "          ⎛L - 2⋅α₁⎞              ⎛2⋅(L - 2⋅α₁)⎞                ⎛2⋅(L - 2⋅α₁)⎞\n",
       "__{11}⋅sin⎜────────⎟ + C__{11}⋅sin⎜────────────⎟ - 2⋅C__{12}⋅sin⎜────────────⎟\n",
       "          ⎝   R    ⎠              ⎝     R      ⎠                ⎝     R      ⎠\n",
       "──────────────────────────────────────────────────────────────────────────────\n",
       "                                                                              \n",
       "                                                                     4⋅(R - α₂\n",
       "\n",
       "                                                                              \n",
       "                                                                              \n",
       "                ⎛L - 2⋅α₁⎞              ⎛2⋅(L - 2⋅α₁)⎞                ⎛2⋅(L - \n",
       " - 2⋅C__{22}⋅sin⎜────────⎟ + C__{22}⋅sin⎜────────────⎟ - 4⋅C__{44}⋅sin⎜───────\n",
       "                ⎝   R    ⎠              ⎝     R      ⎠                ⎝     R \n",
       "──────────────────────────────────────────────────────────────────────────────\n",
       " 3                                                                            \n",
       ")                                                                             \n",
       "\n",
       "                    ⎛            ⎛L     ⎞     ⎛L     ⎞               ⎛L     ⎞ \n",
       "                    ⎜            ⎜─ - α₁⎟     ⎜─ - α₁⎟               ⎜─ - α₁⎟ \n",
       "2⋅α₁)⎞⎞    2        ⎜           2⎜2     ⎟    2⎜2     ⎟              4⎜2     ⎟ \n",
       "─────⎟⎟   R ⋅e_{22}⋅⎜C__{11}⋅sin ⎜──────⎟⋅cos ⎜──────⎟ + C__{12}⋅sin ⎜──────⎟ \n",
       "     ⎠⎠             ⎝            ⎝  R   ⎠     ⎝  R   ⎠               ⎝  R   ⎠ \n",
       "─────── + ────────────────────────────────────────────────────────────────────\n",
       "                                                                              \n",
       "                                                                              \n",
       "\n",
       "              ⎛L     ⎞               ⎛L     ⎞     ⎛L     ⎞                 ⎛L \n",
       "              ⎜─ - α₁⎟               ⎜─ - α₁⎟     ⎜─ - α₁⎟                 ⎜─ \n",
       "             4⎜2     ⎟              2⎜2     ⎟    2⎜2     ⎟                2⎜2 \n",
       "+ C__{12}⋅cos ⎜──────⎟ + C__{22}⋅sin ⎜──────⎟⋅cos ⎜──────⎟ - 4⋅C__{44}⋅sin ⎜──\n",
       "              ⎝  R   ⎠               ⎝  R   ⎠     ⎝  R   ⎠                 ⎝  \n",
       "──────────────────────────────────────────────────────────────────────────────\n",
       "                  2                                                           \n",
       "          (R - α₂)                                                            \n",
       "\n",
       "    ⎞     ⎛L     ⎞⎞             ⎛            ⎛L     ⎞               ⎛L     ⎞⎞⎞\n",
       "- α₁⎟     ⎜─ - α₁⎟⎟             ⎜            ⎜─ - α₁⎟               ⎜─ - α₁⎟⎟⎟\n",
       "    ⎟    2⎜2     ⎟⎟    2        ⎜           2⎜2     ⎟              2⎜2     ⎟⎟⎟\n",
       "────⎟⋅cos ⎜──────⎟⎟   R ⋅e_{33}⋅⎜C__{13}⋅cos ⎜──────⎟ + C__{23}⋅sin ⎜──────⎟⎟⎟\n",
       "R   ⎠     ⎝  R   ⎠⎠             ⎝            ⎝  R   ⎠               ⎝  R   ⎠⎠⎟\n",
       "─────────────────── + ───────────────────────────────────────────────────────⎟\n",
       "                                                     2                       ⎟\n",
       "                                             (R - α₂)                        ⎠\n",
       "\n",
       "            ⎛                                                                 \n",
       "            ⎜                                                                 \n",
       "            ⎜ 3        ⎛             ⎛L - 2⋅α₁⎞              ⎛2⋅(L - 2⋅α₁)⎞   \n",
       "            ⎜R ⋅e_{11}⋅⎜2⋅C__{11}⋅sin⎜────────⎟ + C__{11}⋅sin⎜────────────⎟ - \n",
       "            ⎜          ⎝             ⎝   R    ⎠              ⎝     R      ⎠   \n",
       " + 2⋅e_{12}⋅⎜─────────────────────────────────────────────────────────────────\n",
       "            ⎜                                                                 \n",
       "            ⎝                                                                 \n",
       "\n",
       "                                                                              \n",
       "                                                                              \n",
       "             ⎛2⋅(L - 2⋅α₁)⎞                ⎛L - 2⋅α₁⎞              ⎛2⋅(L - 2⋅α\n",
       "2⋅C__{12}⋅sin⎜────────────⎟ - 2⋅C__{22}⋅sin⎜────────⎟ + C__{22}⋅sin⎜──────────\n",
       "             ⎝     R      ⎠                ⎝   R    ⎠              ⎝     R    \n",
       "──────────────────────────────────────────────────────────────────────────────\n",
       "                            3                                                 \n",
       "                  8⋅(R - α₂)                                                  \n",
       "\n",
       "                                                 ⎛            ⎛L     ⎞     ⎛L \n",
       "                                                 ⎜            ⎜─ - α₁⎟     ⎜─ \n",
       "₁)⎞                ⎛2⋅(L - 2⋅α₁)⎞⎞      2        ⎜           2⎜2     ⎟    2⎜2 \n",
       "──⎟ - 4⋅C__{44}⋅sin⎜────────────⎟⎟   2⋅R ⋅e_{12}⋅⎜C__{11}⋅sin ⎜──────⎟⋅cos ⎜──\n",
       "  ⎠                ⎝     R      ⎠⎠               ⎝            ⎝  R   ⎠     ⎝  \n",
       "────────────────────────────────── + ─────────────────────────────────────────\n",
       "                                                                              \n",
       "                                                                              \n",
       "\n",
       "    ⎞                 ⎛L     ⎞     ⎛L     ⎞               ⎛L     ⎞     ⎛L     \n",
       "- α₁⎟                 ⎜─ - α₁⎟     ⎜─ - α₁⎟               ⎜─ - α₁⎟     ⎜─ - α₁\n",
       "    ⎟                2⎜2     ⎟    2⎜2     ⎟              2⎜2     ⎟    2⎜2     \n",
       "────⎟ - 2⋅C__{12}⋅sin ⎜──────⎟⋅cos ⎜──────⎟ + C__{22}⋅sin ⎜──────⎟⋅cos ⎜──────\n",
       "R   ⎠                 ⎝  R   ⎠     ⎝  R   ⎠               ⎝  R   ⎠     ⎝  R   \n",
       "──────────────────────────────────────────────────────────────────────────────\n",
       "                                                                 2            \n",
       "                                                         (R - α₂)             \n",
       "\n",
       "⎞               ⎛L     ⎞                 ⎛L     ⎞     ⎛L     ⎞               ⎛\n",
       "⎟               ⎜─ - α₁⎟                 ⎜─ - α₁⎟     ⎜─ - α₁⎟               ⎜\n",
       "⎟              4⎜2     ⎟                2⎜2     ⎟    2⎜2     ⎟              4⎜\n",
       "⎟ + C__{44}⋅sin ⎜──────⎟ - 2⋅C__{44}⋅sin ⎜──────⎟⋅cos ⎜──────⎟ + C__{44}⋅cos ⎜\n",
       "⎠               ⎝  R   ⎠                 ⎝  R   ⎠     ⎝  R   ⎠               ⎝\n",
       "──────────────────────────────────────────────────────────────────────────────\n",
       "                                                                              \n",
       "                                                                              \n",
       "\n",
       "L     ⎞⎞                                                                      \n",
       "─ - α₁⎟⎟                                                                      \n",
       "2     ⎟⎟            ⎛             ⎛L - 2⋅α₁⎞              ⎛2⋅(L - 2⋅α₁)⎞      \n",
       "──────⎟⎟   R⋅e_{22}⋅⎜2⋅C__{11}⋅sin⎜────────⎟ - C__{11}⋅sin⎜────────────⎟ + 2⋅C\n",
       "  R   ⎠⎠            ⎝             ⎝   R    ⎠              ⎝     R      ⎠      \n",
       "──────── + ───────────────────────────────────────────────────────────────────\n",
       "                                                                              \n",
       "                                                                              \n",
       "\n",
       "                                                                              \n",
       "                                                                              \n",
       "          ⎛2⋅(L - 2⋅α₁)⎞                ⎛L - 2⋅α₁⎞              ⎛2⋅(L - 2⋅α₁)⎞\n",
       "__{12}⋅sin⎜────────────⎟ - 2⋅C__{22}⋅sin⎜────────⎟ - C__{22}⋅sin⎜────────────⎟\n",
       "          ⎝     R      ⎠                ⎝   R    ⎠              ⎝     R      ⎠\n",
       "──────────────────────────────────────────────────────────────────────────────\n",
       "                8⋅(R - α₂)                                                    \n",
       "                                                                              \n",
       "\n",
       "                                                                            ⎞ \n",
       "                                                                            ⎟ \n",
       "                ⎛2⋅(L - 2⋅α₁)⎞⎞                                   ⎛L - 2⋅α₁⎞⎟ \n",
       " + 4⋅C__{44}⋅sin⎜────────────⎟⎟   R⋅e_{33}⋅(C__{13} - C__{23})⋅sin⎜────────⎟⎟ \n",
       "                ⎝     R      ⎠⎠                                   ⎝   R    ⎠⎟ \n",
       "─────────────────────────────── + ──────────────────────────────────────────⎟ \n",
       "                                                  2⋅(R - α₂)                ⎟ \n",
       "                                                                            ⎠ \n",
       "\n",
       "           ⎛            ⎛            ⎛L     ⎞               ⎛L     ⎞⎞         \n",
       "           ⎜            ⎜            ⎜─ - α₁⎟               ⎜─ - α₁⎟⎟         \n",
       "           ⎜   2        ⎜           2⎜2     ⎟              2⎜2     ⎟⎟         \n",
       "           ⎜2⋅R ⋅e_{13}⋅⎜C__{55}⋅cos ⎜──────⎟ + C__{66}⋅sin ⎜──────⎟⎟   R⋅e_{2\n",
       "           ⎜            ⎝            ⎝  R   ⎠               ⎝  R   ⎠⎠         \n",
       "+ 2⋅e_{13}⋅⎜───────────────────────────────────────────────────────── + ──────\n",
       "           ⎜                                2                                 \n",
       "           ⎝                        (R - α₂)                                  \n",
       "\n",
       "                                    ⎞          ⎛          ⎛            ⎛L     \n",
       "                                    ⎟          ⎜          ⎜            ⎜─ - α₁\n",
       "                          ⎛L - 2⋅α₁⎞⎟          ⎜ 2        ⎜           2⎜2     \n",
       "3}⋅(C__{55} - C__{66})⋅sin⎜────────⎟⎟          ⎜R ⋅e_{11}⋅⎜C__{11}⋅sin ⎜──────\n",
       "                          ⎝   R    ⎠⎟          ⎜          ⎝            ⎝  R   \n",
       "────────────────────────────────────⎟ + e_{22}⋅⎜──────────────────────────────\n",
       "            R - α₂                  ⎟          ⎜                              \n",
       "                                    ⎠          ⎝                              \n",
       "\n",
       "⎞     ⎛L     ⎞               ⎛L     ⎞               ⎛L     ⎞               ⎛L \n",
       "⎟     ⎜─ - α₁⎟               ⎜─ - α₁⎟               ⎜─ - α₁⎟               ⎜─ \n",
       "⎟    2⎜2     ⎟              4⎜2     ⎟              4⎜2     ⎟              2⎜2 \n",
       "⎟⋅cos ⎜──────⎟ + C__{12}⋅sin ⎜──────⎟ + C__{12}⋅cos ⎜──────⎟ + C__{22}⋅sin ⎜──\n",
       "⎠     ⎝  R   ⎠               ⎝  R   ⎠               ⎝  R   ⎠               ⎝  \n",
       "──────────────────────────────────────────────────────────────────────────────\n",
       "                                                        2                     \n",
       "                                                (R - α₂)                      \n",
       "\n",
       "    ⎞     ⎛L     ⎞                 ⎛L     ⎞     ⎛L     ⎞⎞                     \n",
       "- α₁⎟     ⎜─ - α₁⎟                 ⎜─ - α₁⎟     ⎜─ - α₁⎟⎟                     \n",
       "    ⎟    2⎜2     ⎟                2⎜2     ⎟    2⎜2     ⎟⎟            ⎛        \n",
       "────⎟⋅cos ⎜──────⎟ - 4⋅C__{44}⋅sin ⎜──────⎟⋅cos ⎜──────⎟⎟   R⋅e_{12}⋅⎜2⋅C__{11\n",
       "R   ⎠     ⎝  R   ⎠                 ⎝  R   ⎠     ⎝  R   ⎠⎠            ⎝        \n",
       "───────────────────────────────────────────────────────── + ──────────────────\n",
       "                                                                              \n",
       "                                                                              \n",
       "\n",
       "                                                                              \n",
       "                                                                              \n",
       "     ⎛L - 2⋅α₁⎞              ⎛2⋅(L - 2⋅α₁)⎞                ⎛2⋅(L - 2⋅α₁)⎞     \n",
       "}⋅sin⎜────────⎟ - C__{11}⋅sin⎜────────────⎟ + 2⋅C__{12}⋅sin⎜────────────⎟ - 2⋅\n",
       "     ⎝   R    ⎠              ⎝     R      ⎠                ⎝     R      ⎠     \n",
       "──────────────────────────────────────────────────────────────────────────────\n",
       "                                                                 4⋅(R - α₂)   \n",
       "                                                                              \n",
       "\n",
       "                                                                              \n",
       "                                                                              \n",
       "           ⎛L - 2⋅α₁⎞              ⎛2⋅(L - 2⋅α₁)⎞                ⎛2⋅(L - 2⋅α₁)\n",
       "C__{22}⋅sin⎜────────⎟ - C__{22}⋅sin⎜────────────⎟ + 4⋅C__{44}⋅sin⎜────────────\n",
       "           ⎝   R    ⎠              ⎝     R      ⎠                ⎝     R      \n",
       "──────────────────────────────────────────────────────────────────────────────\n",
       "                                                                              \n",
       "                                                                              \n",
       "\n",
       "                                                                              \n",
       "                                                                              \n",
       "⎞⎞          ⎛            ⎛L     ⎞                 ⎛L     ⎞     ⎛L     ⎞       \n",
       "⎟⎟          ⎜            ⎜─ - α₁⎟                 ⎜─ - α₁⎟     ⎜─ - α₁⎟       \n",
       "⎠⎠          ⎜           4⎜2     ⎟                2⎜2     ⎟    2⎜2     ⎟       \n",
       "── + e_{22}⋅⎜C__{11}⋅sin ⎜──────⎟ + 2⋅C__{12}⋅sin ⎜──────⎟⋅cos ⎜──────⎟ + C__{\n",
       "            ⎝            ⎝  R   ⎠                 ⎝  R   ⎠     ⎝  R   ⎠       \n",
       "                                                                              \n",
       "\n",
       "                                                                              \n",
       "                                                                              \n",
       "        ⎛L     ⎞                 ⎛L     ⎞     ⎛L     ⎞⎞          ⎛            \n",
       "        ⎜─ - α₁⎟                 ⎜─ - α₁⎟     ⎜─ - α₁⎟⎟          ⎜            \n",
       "       4⎜2     ⎟                2⎜2     ⎟    2⎜2     ⎟⎟          ⎜           2\n",
       "22}⋅cos ⎜──────⎟ + 4⋅C__{44}⋅sin ⎜──────⎟⋅cos ⎜──────⎟⎟ + e_{33}⋅⎜C__{13}⋅sin \n",
       "        ⎝  R   ⎠                 ⎝  R   ⎠     ⎝  R   ⎠⎠          ⎝            \n",
       "                                                                              \n",
       "\n",
       "                                ⎞                                             \n",
       "                                ⎟                                             \n",
       "⎛L     ⎞               ⎛L     ⎞⎞⎟            ⎛                                \n",
       "⎜─ - α₁⎟               ⎜─ - α₁⎟⎟⎟            ⎜R⋅e_{13}⋅(C__{55} - C__{66})⋅sin\n",
       "⎜2     ⎟              2⎜2     ⎟⎟⎟            ⎜                                \n",
       "⎜──────⎟ + C__{23}⋅cos ⎜──────⎟⎟⎟ + 2⋅e_{23}⋅⎜────────────────────────────────\n",
       "⎝  R   ⎠               ⎝  R   ⎠⎠⎟            ⎝                  R - α₂        \n",
       "                                ⎠                                             \n",
       "\n",
       "                                                                              \n",
       "                                                                              \n",
       "⎛L - 2⋅α₁⎞            ⎛            ⎛L     ⎞               ⎛L     ⎞⎞⎞          \n",
       "⎜────────⎟            ⎜            ⎜─ - α₁⎟               ⎜─ - α₁⎟⎟⎟          \n",
       "⎝   R    ⎠            ⎜           2⎜2     ⎟              2⎜2     ⎟⎟⎟          \n",
       "────────── + 2⋅e_{23}⋅⎜C__{55}⋅sin ⎜──────⎟ + C__{66}⋅cos ⎜──────⎟⎟⎟ + e_{33}⋅\n",
       "                      ⎝            ⎝  R   ⎠               ⎝  R   ⎠⎠⎠          \n",
       "                                                                              \n",
       "\n",
       "⎛                           ⎛            ⎛L     ⎞               ⎛L     ⎞⎞     \n",
       "⎜                           ⎜            ⎜─ - α₁⎟               ⎜─ - α₁⎟⎟     \n",
       "⎜                  2        ⎜           2⎜2     ⎟              2⎜2     ⎟⎟     \n",
       "⎜                 R ⋅e_{11}⋅⎜C__{13}⋅cos ⎜──────⎟ + C__{23}⋅sin ⎜──────⎟⎟   R⋅\n",
       "⎜                           ⎝            ⎝  R   ⎠               ⎝  R   ⎠⎠     \n",
       "⎜C__{33}⋅e_{33} + ─────────────────────────────────────────────────────── + ──\n",
       "⎜                                                2                            \n",
       "⎝                                        (R - α₂)                             \n",
       "\n",
       "                                                                              \n",
       "                                                                              \n",
       "                              ⎛L - 2⋅α₁⎞          ⎛            ⎛L     ⎞       \n",
       "e_{12}⋅(C__{13} - C__{23})⋅sin⎜────────⎟          ⎜            ⎜─ - α₁⎟       \n",
       "                              ⎝   R    ⎠          ⎜           2⎜2     ⎟       \n",
       "──────────────────────────────────────── + e_{22}⋅⎜C__{13}⋅sin ⎜──────⎟ + C__{\n",
       "                R - α₂                            ⎝            ⎝  R   ⎠       \n",
       "                                                                              \n",
       "\n",
       "                 ⎞\n",
       "                 ⎟\n",
       "        ⎛L     ⎞⎞⎟\n",
       "        ⎜─ - α₁⎟⎟⎟\n",
       "       2⎜2     ⎟⎟⎟\n",
       "23}⋅cos ⎜──────⎟⎟⎟\n",
       "        ⎝  R   ⎠⎠⎟\n",
       "                 ⎠"
      ]
     },
     "execution_count": 91,
     "metadata": {},
     "output_type": "execute_result"
    }
   ],
   "source": [
    "E_c = (collect(E, e11**2))\n",
    "# E_c = collect(E_c, e11*e12)\n",
    "# E_c = collect(E_c, e11*e13)\n",
    "# E_c = collect(E_c, e22)\n",
    "# E_c = collect(E_c, e23)\n",
    "# E_c = collect(E_c, e33)\n",
    "E_c"
   ]
  }
 ],
 "metadata": {
  "kernelspec": {
   "display_name": "Python 3",
   "language": "python",
   "name": "python3"
  },
  "language_info": {
   "codemirror_mode": {
    "name": "ipython",
    "version": 3
   },
   "file_extension": ".py",
   "mimetype": "text/x-python",
   "name": "python",
   "nbconvert_exporter": "python",
   "pygments_lexer": "ipython3",
   "version": "3.6.1"
  }
 },
 "nbformat": 4,
 "nbformat_minor": 2
}
