{
 "cells": [
  {
   "cell_type": "markdown",
   "metadata": {},
   "source": [
    "# Shells"
   ]
  },
  {
   "cell_type": "markdown",
   "metadata": {},
   "source": [
    "## Init symbols for *sympy*"
   ]
  },
  {
   "cell_type": "code",
   "execution_count": 99,
   "metadata": {
    "collapsed": true
   },
   "outputs": [],
   "source": [
    "from sympy import *\n",
    "from sympy.vector import CoordSys3D\n",
    "N = CoordSys3D('N')\n",
    "x1, x2, x3 = symbols(\"x_1 x_2 x_3\")\n",
    "alpha1, alpha2, alpha3 = symbols(\"alpha_1 alpha_2 alpha3\")\n",
    "R, L, ga, gv = symbols(\"R L g_a g_v\")\n",
    "init_printing()"
   ]
  },
  {
   "cell_type": "markdown",
   "metadata": {},
   "source": [
    "## Cylindrical coordinates"
   ]
  },
  {
   "cell_type": "code",
   "execution_count": 100,
   "metadata": {
    "collapsed": true
   },
   "outputs": [],
   "source": [
    "a1 = pi / 2 + (L / 2 - alpha1)/R\n",
    "\n",
    "x = R * cos(a1)\n",
    "y = alpha2\n",
    "z = R * sin(a1)\n",
    "\n",
    "r = x*N.i + y*N.j + z*N.k"
   ]
  },
  {
   "cell_type": "markdown",
   "metadata": {},
   "source": [
    "#### Midpane coordinates system will be defined with the following vector $\\vec{r}=\\vec{r}(\\alpha_1, \\alpha_2)$"
   ]
  },
  {
   "cell_type": "code",
   "execution_count": 101,
   "metadata": {},
   "outputs": [
    {
     "data": {
      "image/png": "[encoded data removed]",
      "text/latex": [
       "$$(- R \\sin{\\left (\\frac{1}{R} \\left(\\frac{L}{2} - \\alpha_{1}\\right) \\right )})\\mathbf{\\hat{i}_{N}} + (\\alpha_{2})\\mathbf{\\hat{j}_{N}} + (R \\cos{\\left (\\frac{1}{R} \\left(\\frac{L}{2} - \\alpha_{1}\\right) \\right )})\\mathbf{\\hat{k}_{N}}$$"
      ],
      "text/plain": [
       "⎛      ⎛L     ⎞ N_i⎞ N_i + (α₂) N_j + ⎛     ⎛L     ⎞ N_k⎞ N_k\n",
       "⎜      ⎜─ - α₁⎟⎟                      ⎜     ⎜─ - α₁⎟⎟        \n",
       "⎜      ⎜2     ⎟⎟                      ⎜     ⎜2     ⎟⎟        \n",
       "⎜-R⋅sin⎜──────⎟⎟                      ⎜R⋅cos⎜──────⎟⎟        \n",
       "⎝      ⎝  R   ⎠⎠                      ⎝     ⎝  R   ⎠⎠        "
      ]
     },
     "execution_count": 101,
     "metadata": {},
     "output_type": "execute_result"
    }
   ],
   "source": [
    "r"
   ]
  },
  {
   "cell_type": "markdown",
   "metadata": {},
   "source": [
    "#### Tangent to curve"
   ]
  },
  {
   "cell_type": "code",
   "execution_count": 102,
   "metadata": {},
   "outputs": [],
   "source": [
    "r1 = r.diff(alpha1)\n",
    "r2 = r.diff(alpha2)\n",
    "k1 = trigsimp(r1.magnitude()**3)\n",
    "k2 = trigsimp(r2.magnitude()**3)\n",
    "r1 = r1/k1 \n",
    "r2 = r2/k2"
   ]
  },
  {
   "cell_type": "code",
   "execution_count": 103,
   "metadata": {},
   "outputs": [
    {
     "data": {
      "image/png": "[encoded data removed]",
      "text/latex": [
       "$$(\\cos{\\left (\\frac{1}{R} \\left(\\frac{L}{2} - \\alpha_{1}\\right) \\right )})\\mathbf{\\hat{i}_{N}} + (\\sin{\\left (\\frac{1}{R} \\left(\\frac{L}{2} - \\alpha_{1}\\right) \\right )})\\mathbf{\\hat{k}_{N}}$$"
      ],
      "text/plain": [
       "⎛   ⎛L     ⎞ N_i⎞ N_i + ⎛   ⎛L     ⎞ N_k⎞ N_k\n",
       "⎜   ⎜─ - α₁⎟⎟           ⎜   ⎜─ - α₁⎟⎟        \n",
       "⎜   ⎜2     ⎟⎟           ⎜   ⎜2     ⎟⎟        \n",
       "⎜cos⎜──────⎟⎟           ⎜sin⎜──────⎟⎟        \n",
       "⎝   ⎝  R   ⎠⎠           ⎝   ⎝  R   ⎠⎠        "
      ]
     },
     "execution_count": 103,
     "metadata": {},
     "output_type": "execute_result"
    }
   ],
   "source": [
    "r1"
   ]
  },
  {
   "cell_type": "code",
   "execution_count": 104,
   "metadata": {},
   "outputs": [
    {
     "data": {
      "image/png": "[encoded data removed]",
      "text/latex": [
       "$$\\mathbf{\\hat{j}_{N}}$$"
      ],
      "text/plain": [
       "N_j"
      ]
     },
     "execution_count": 104,
     "metadata": {},
     "output_type": "execute_result"
    }
   ],
   "source": [
    "r2"
   ]
  },
  {
   "cell_type": "markdown",
   "metadata": {},
   "source": [
    "#### Normal to curve"
   ]
  },
  {
   "cell_type": "code",
   "execution_count": 105,
   "metadata": {},
   "outputs": [
    {
     "data": {
      "image/png": "[encoded data removed]",
      "text/latex": [
       "$$(- \\sin{\\left (\\frac{1}{R} \\left(\\frac{L}{2} - \\alpha_{1}\\right) \\right )})\\mathbf{\\hat{i}_{N}} + (\\cos{\\left (\\frac{1}{R} \\left(\\frac{L}{2} - \\alpha_{1}\\right) \\right )})\\mathbf{\\hat{k}_{N}}$$"
      ],
      "text/plain": [
       "⎛    ⎛L     ⎞ N_i⎞ N_i + ⎛   ⎛L     ⎞ N_k⎞ N_k\n",
       "⎜    ⎜─ - α₁⎟⎟           ⎜   ⎜─ - α₁⎟⎟        \n",
       "⎜    ⎜2     ⎟⎟           ⎜   ⎜2     ⎟⎟        \n",
       "⎜-sin⎜──────⎟⎟           ⎜cos⎜──────⎟⎟        \n",
       "⎝    ⎝  R   ⎠⎠           ⎝   ⎝  R   ⎠⎠        "
      ]
     },
     "execution_count": 105,
     "metadata": {},
     "output_type": "execute_result"
    }
   ],
   "source": [
    "n = r1.cross(r2)\n",
    "n = trigsimp(n.normalize())\n",
    "n"
   ]
  },
  {
   "cell_type": "markdown",
   "metadata": {},
   "source": [
    "#### Curvature"
   ]
  },
  {
   "cell_type": "code",
   "execution_count": 106,
   "metadata": {},
   "outputs": [
    {
     "data": {
      "image/png": "[encoded data removed]",
      "text/latex": [
       "$$\\sqrt{\\frac{1}{R^{2}}}$$"
      ],
      "text/plain": [
       "     ____\n",
       "    ╱ 1  \n",
       "   ╱  ── \n",
       "  ╱    2 \n",
       "╲╱    R  "
      ]
     },
     "execution_count": 106,
     "metadata": {},
     "output_type": "execute_result"
    }
   ],
   "source": [
    "dr1=r1.diff(alpha1)\n",
    "k1 = trigsimp(r1.cross(dr1).magnitude()/k1)\n",
    "k1"
   ]
  },
  {
   "cell_type": "code",
   "execution_count": 107,
   "metadata": {},
   "outputs": [
    {
     "data": {
      "image/png": "[encoded data removed]",
      "text/latex": [
       "$$0$$"
      ],
      "text/plain": [
       "0"
      ]
     },
     "execution_count": 107,
     "metadata": {},
     "output_type": "execute_result"
    }
   ],
   "source": [
    "dr2=r2.diff(alpha2)\n",
    "k2 = trigsimp(r2.cross(dr2).magnitude()/k2)\n",
    "k2"
   ]
  },
  {
   "cell_type": "markdown",
   "metadata": {},
   "source": [
    "#### Derivative of base vectors\n",
    "Let's find \n",
    "$\\frac { d\\vec{n} } { d\\alpha_1}$\n",
    "$\\frac { d\\vec{v} } { d\\alpha_1}$\n",
    "$\\frac { d\\vec{n} } { d\\alpha_2}$\n",
    "$\\frac { d\\vec{v} } { d\\alpha_2}$"
   ]
  },
  {
   "cell_type": "code",
   "execution_count": 108,
   "metadata": {},
   "outputs": [
    {
     "data": {
      "image/png": "[encoded data removed]",
      "text/latex": [
       "$$(\\frac{1}{R} \\cos{\\left (\\frac{1}{R} \\left(\\frac{L}{2} - \\alpha_{1}\\right) \\right )})\\mathbf{\\hat{i}_{N}} + (\\frac{1}{R} \\sin{\\left (\\frac{1}{R} \\left(\\frac{L}{2} - \\alpha_{1}\\right) \\right )})\\mathbf{\\hat{k}_{N}}$$"
      ],
      "text/plain": [
       "⎛   ⎛L     ⎞ N_i⎞ N_i + ⎛   ⎛L     ⎞ N_k⎞ N_k\n",
       "⎜   ⎜─ - α₁⎟⎟           ⎜   ⎜─ - α₁⎟⎟        \n",
       "⎜   ⎜2     ⎟⎟           ⎜   ⎜2     ⎟⎟        \n",
       "⎜cos⎜──────⎟⎟           ⎜sin⎜──────⎟⎟        \n",
       "⎜   ⎝  R   ⎠⎟           ⎜   ⎝  R   ⎠⎟        \n",
       "⎜───────────⎟           ⎜───────────⎟        \n",
       "⎝     R     ⎠           ⎝     R     ⎠        "
      ]
     },
     "execution_count": 108,
     "metadata": {},
     "output_type": "execute_result"
    }
   ],
   "source": [
    "n.diff(alpha1)"
   ]
  },
  {
   "cell_type": "markdown",
   "metadata": {},
   "source": [
    "$ \\frac { d\\vec{n} } { d\\alpha_1} = -\\frac {1}{R} \\vec{v} = -k \\vec{v} $"
   ]
  },
  {
   "cell_type": "code",
   "execution_count": 109,
   "metadata": {},
   "outputs": [
    {
     "data": {
      "image/png": "[encoded data removed]",
      "text/latex": [
       "$$(\\frac{1}{R} \\sin{\\left (\\frac{1}{R} \\left(\\frac{L}{2} - \\alpha_{1}\\right) \\right )})\\mathbf{\\hat{i}_{N}} + (- \\frac{1}{R} \\cos{\\left (\\frac{1}{R} \\left(\\frac{L}{2} - \\alpha_{1}\\right) \\right )})\\mathbf{\\hat{k}_{N}}$$"
      ],
      "text/plain": [
       "⎛   ⎛L     ⎞ N_i⎞ N_i + ⎛    ⎛L     ⎞ N_k ⎞ N_k\n",
       "⎜   ⎜─ - α₁⎟⎟           ⎜    ⎜─ - α₁⎟ ⎟        \n",
       "⎜   ⎜2     ⎟⎟           ⎜    ⎜2     ⎟ ⎟        \n",
       "⎜sin⎜──────⎟⎟           ⎜-cos⎜──────⎟ ⎟        \n",
       "⎜   ⎝  R   ⎠⎟           ⎜    ⎝  R   ⎠ ⎟        \n",
       "⎜───────────⎟           ⎜─────────────⎟        \n",
       "⎝     R     ⎠           ⎝      R      ⎠        "
      ]
     },
     "execution_count": 109,
     "metadata": {},
     "output_type": "execute_result"
    }
   ],
   "source": [
    "r1.diff(alpha1)"
   ]
  },
  {
   "cell_type": "markdown",
   "metadata": {},
   "source": [
    "$ \\frac { d\\vec{v} } { d\\alpha_1} = \\frac {1}{R} \\vec{n} = k \\vec{n} $"
   ]
  },
  {
   "cell_type": "markdown",
   "metadata": {},
   "source": [
    "#### Derivative of vectors\n",
    "\n",
    "$ \\vec{u} = u_v \\vec{v} + u_n\\vec{n} $\n",
    "\n",
    "$ \\frac { d\\vec{u} } { d\\alpha_1} =  \\frac { d(u_v\\vec{v}) } { d\\alpha_1} + \\frac { d(u_n\\vec{n}) } { d\\alpha_1} = \n",
    " \\frac { du_n } { d\\alpha_1} \\vec{n} + u_n \\frac { d\\vec{n} } { d\\alpha_1} + \\frac { du_v } { d\\alpha_1} \\vec{v} + u_v \\frac { d\\vec{v} } { d\\alpha_1} = \\frac { du_n } { d\\alpha_1} \\vec{n} - u_n k \\vec{v} + \\frac { du_v } { d\\alpha_1} \\vec{v} + u_v k \\vec{n}$\n",
    "\n",
    "Then\n",
    "$ \\frac { d\\vec{u} } { d\\alpha_1} = \\left( \\frac { du_v } { d\\alpha_1} - u_n k \\right) \\vec{v} + \\left( \\frac { du_n } { d\\alpha_1} + u_v k \\right) \\vec{n}$\n",
    "\n",
    "$ \\frac { d\\vec{u} } { d\\alpha_2} = \\frac { d(u_n\\vec{n}) } { d\\alpha_2} + \\frac { d(u_v\\vec{v}) } { d\\alpha_2} = \n",
    " \\frac { du_n } { d\\alpha_2} \\vec{n} + u_n \\frac { d\\vec{n} } { d\\alpha_2} + \\frac { du_v } { d\\alpha_2} \\vec{v} + u_v \\frac { d\\vec{v} } { d\\alpha_2} = \\frac { du_n } { d\\alpha_2} \\vec{n} + \\frac { du_v } { d\\alpha_2} \\vec{v} $"
   ]
  },
  {
   "cell_type": "markdown",
   "metadata": {},
   "source": [
    "#### Base Vectors $\\vec{R}_1, \\vec{R}_2, \\vec{R}_3$"
   ]
  },
  {
   "cell_type": "code",
   "execution_count": 110,
   "metadata": {},
   "outputs": [
    {
     "data": {
      "image/png": "[encoded data removed]",
      "text/latex": [
       "$$(- R \\sin{\\left (\\frac{1}{R} \\left(\\frac{L}{2} - \\alpha_{1}\\right) \\right )} - \\alpha_{3} \\sin{\\left (\\frac{1}{R} \\left(\\frac{L}{2} - \\alpha_{1}\\right) \\right )})\\mathbf{\\hat{i}_{N}} + (\\alpha_{2})\\mathbf{\\hat{j}_{N}} + (R \\cos{\\left (\\frac{1}{R} \\left(\\frac{L}{2} - \\alpha_{1}\\right) \\right )} + \\alpha_{3} \\cos{\\left (\\frac{1}{R} \\left(\\frac{L}{2} - \\alpha_{1}\\right) \\right )})\\mathbf{\\hat{k}_{N}}$$"
      ],
      "text/plain": [
       "⎛       ⎛L     ⎞ N_i         ⎛L     ⎞ N_i⎞ N_i + (α₂) N_j + ⎛     ⎛L     ⎞ N_k\n",
       "⎜       ⎜─ - α₁⎟         ⎜─ - α₁⎟⎟                          ⎜     ⎜─ - α₁⎟    \n",
       "⎜       ⎜2     ⎟         ⎜2     ⎟⎟                          ⎜     ⎜2     ⎟    \n",
       "⎜- R⋅sin⎜──────⎟ - α₃⋅sin⎜──────⎟⎟                          ⎜R⋅cos⎜──────⎟ + α\n",
       "⎝       ⎝  R   ⎠         ⎝  R   ⎠⎠                          ⎝     ⎝  R   ⎠    \n",
       "\n",
       "         ⎛L     ⎞ N_k⎞ N_k\n",
       "     ⎜─ - α₁⎟⎟            \n",
       "     ⎜2     ⎟⎟            \n",
       "₃⋅cos⎜──────⎟⎟            \n",
       "     ⎝  R   ⎠⎠            "
      ]
     },
     "execution_count": 110,
     "metadata": {},
     "output_type": "execute_result"
    }
   ],
   "source": [
    "R_alpha=r+alpha3*n\n",
    "R_alpha"
   ]
  },
  {
   "cell_type": "code",
   "execution_count": 111,
   "metadata": {
    "collapsed": true
   },
   "outputs": [],
   "source": [
    "R1=R_alpha.diff(alpha1)\n",
    "R2=R_alpha.diff(alpha2)\n",
    "R3=R_alpha.diff(alpha3)"
   ]
  },
  {
   "cell_type": "code",
   "execution_count": 112,
   "metadata": {},
   "outputs": [
    {
     "data": {
      "image/png": "[encoded data removed]",
      "text/latex": [
       "$$(\\left(1 + \\frac{\\alpha_{3}}{R}\\right) \\cos{\\left (\\frac{1}{R} \\left(\\frac{L}{2} - \\alpha_{1}\\right) \\right )})\\mathbf{\\hat{i}_{N}} + (\\left(1 + \\frac{\\alpha_{3}}{R}\\right) \\sin{\\left (\\frac{1}{R} \\left(\\frac{L}{2} - \\alpha_{1}\\right) \\right )})\\mathbf{\\hat{k}_{N}}$$"
      ],
      "text/plain": [
       "⎛            ⎛L     ⎞ N_i⎞ N_i + ⎛            ⎛L     ⎞ N_k⎞ N_k\n",
       "⎜            ⎜─ - α₁⎟⎟           ⎜            ⎜─ - α₁⎟⎟        \n",
       "⎜⎛    α₃⎞ N_i    ⎜2     ⎟⎟       ⎜⎛    α₃⎞ N_k    ⎜2     ⎟⎟    \n",
       "⎜⎜1 + ──⎟⋅cos⎜──────⎟⎟           ⎜⎜1 + ──⎟⋅sin⎜──────⎟⎟        \n",
       "⎝⎝    R ⎠    ⎝  R   ⎠⎠           ⎝⎝    R ⎠    ⎝  R   ⎠⎠        "
      ]
     },
     "execution_count": 112,
     "metadata": {},
     "output_type": "execute_result"
    }
   ],
   "source": [
    "trigsimp(R1)"
   ]
  },
  {
   "cell_type": "code",
   "execution_count": 113,
   "metadata": {},
   "outputs": [
    {
     "data": {
      "image/png": "[encoded data removed]",
      "text/latex": [
       "$$\\mathbf{\\hat{j}_{N}}$$"
      ],
      "text/plain": [
       "N_j"
      ]
     },
     "execution_count": 113,
     "metadata": {},
     "output_type": "execute_result"
    }
   ],
   "source": [
    "R2"
   ]
  },
  {
   "cell_type": "code",
   "execution_count": 114,
   "metadata": {},
   "outputs": [
    {
     "data": {
      "image/png": "[encoded data removed]",
      "text/latex": [
       "$$(- \\sin{\\left (\\frac{1}{R} \\left(\\frac{L}{2} - \\alpha_{1}\\right) \\right )})\\mathbf{\\hat{i}_{N}} + (\\cos{\\left (\\frac{1}{R} \\left(\\frac{L}{2} - \\alpha_{1}\\right) \\right )})\\mathbf{\\hat{k}_{N}}$$"
      ],
      "text/plain": [
       "⎛    ⎛L     ⎞ N_i⎞ N_i + ⎛   ⎛L     ⎞ N_k⎞ N_k\n",
       "⎜    ⎜─ - α₁⎟⎟           ⎜   ⎜─ - α₁⎟⎟        \n",
       "⎜    ⎜2     ⎟⎟           ⎜   ⎜2     ⎟⎟        \n",
       "⎜-sin⎜──────⎟⎟           ⎜cos⎜──────⎟⎟        \n",
       "⎝    ⎝  R   ⎠⎠           ⎝   ⎝  R   ⎠⎠        "
      ]
     },
     "execution_count": 114,
     "metadata": {},
     "output_type": "execute_result"
    }
   ],
   "source": [
    "R3"
   ]
  },
  {
   "cell_type": "markdown",
   "metadata": {},
   "source": [
    "#### Base Vectors $\\vec{R}^1, \\vec{R}^2, \\vec{R}^3$"
   ]
  },
  {
   "cell_type": "code",
   "execution_count": 115,
   "metadata": {
    "collapsed": true
   },
   "outputs": [],
   "source": [
    "eps=trigsimp(R1.dot(R2.cross(R3)))\n",
    "R_1=simplify(trigsimp(R2.cross(R3)/eps))\n",
    "R_2=simplify(trigsimp(R3.cross(R1)/eps))\n",
    "R_3=simplify(trigsimp(R1.cross(R2)/eps))"
   ]
  },
  {
   "cell_type": "code",
   "execution_count": 116,
   "metadata": {},
   "outputs": [
    {
     "data": {
      "image/png": "[encoded data removed]",
      "text/latex": [
       "$$(\\frac{R}{R + \\alpha_{3}} \\cos{\\left (\\frac{1}{R} \\left(\\frac{L}{2} - \\alpha_{1}\\right) \\right )})\\mathbf{\\hat{i}_{N}} + (\\frac{R}{R + \\alpha_{3}} \\sin{\\left (\\frac{1}{R} \\left(\\frac{L}{2} - \\alpha_{1}\\right) \\right )})\\mathbf{\\hat{k}_{N}}$$"
      ],
      "text/plain": [
       "⎛     ⎛L     ⎞ N_i⎞ N_i + ⎛     ⎛L     ⎞ N_k⎞ N_k\n",
       "⎜     ⎜─ - α₁⎟⎟           ⎜     ⎜─ - α₁⎟⎟        \n",
       "⎜     ⎜2     ⎟⎟           ⎜     ⎜2     ⎟⎟        \n",
       "⎜R⋅cos⎜──────⎟⎟           ⎜R⋅sin⎜──────⎟⎟        \n",
       "⎜     ⎝  R   ⎠⎟           ⎜     ⎝  R   ⎠⎟        \n",
       "⎜─────────────⎟           ⎜─────────────⎟        \n",
       "⎝    R + α₃   ⎠           ⎝    R + α₃   ⎠        "
      ]
     },
     "execution_count": 116,
     "metadata": {},
     "output_type": "execute_result"
    }
   ],
   "source": [
    "R_1"
   ]
  },
  {
   "cell_type": "code",
   "execution_count": 117,
   "metadata": {},
   "outputs": [
    {
     "data": {
      "image/png": "[encoded data removed]",
      "text/latex": [
       "$$\\mathbf{\\hat{j}_{N}}$$"
      ],
      "text/plain": [
       "N_j"
      ]
     },
     "execution_count": 117,
     "metadata": {},
     "output_type": "execute_result"
    }
   ],
   "source": [
    "R_2"
   ]
  },
  {
   "cell_type": "code",
   "execution_count": 118,
   "metadata": {},
   "outputs": [
    {
     "data": {
      "image/png": "[encoded data removed]",
      "text/latex": [
       "$$(- \\sin{\\left (\\frac{1}{R} \\left(\\frac{L}{2} - \\alpha_{1}\\right) \\right )})\\mathbf{\\hat{i}_{N}} + (\\cos{\\left (\\frac{1}{R} \\left(\\frac{L}{2} - \\alpha_{1}\\right) \\right )})\\mathbf{\\hat{k}_{N}}$$"
      ],
      "text/plain": [
       "⎛    ⎛L     ⎞ N_i⎞ N_i + ⎛   ⎛L     ⎞ N_k⎞ N_k\n",
       "⎜    ⎜─ - α₁⎟⎟           ⎜   ⎜─ - α₁⎟⎟        \n",
       "⎜    ⎜2     ⎟⎟           ⎜   ⎜2     ⎟⎟        \n",
       "⎜-sin⎜──────⎟⎟           ⎜cos⎜──────⎟⎟        \n",
       "⎝    ⎝  R   ⎠⎠           ⎝   ⎝  R   ⎠⎠        "
      ]
     },
     "execution_count": 118,
     "metadata": {},
     "output_type": "execute_result"
    }
   ],
   "source": [
    "R_3"
   ]
  },
  {
   "cell_type": "markdown",
   "metadata": {},
   "source": [
    "#### Let's find Jacobi matrix:\n",
    "\n",
    "$ A = \\left( \n",
    "\\begin{array}{ccc} \n",
    "\\frac{\\partial x_1}{\\partial \\alpha_1} & \\frac{\\partial x_1}{\\partial \\alpha_2} & \\frac{\\partial x_1}{\\partial \\alpha_3} \\\\\n",
    "\\frac{\\partial x_2}{\\partial \\alpha_1} & \\frac{\\partial x_2}{\\partial \\alpha_2} & \\frac{\\partial x_3}{\\partial \\alpha_3} \\\\\n",
    "\\frac{\\partial x_3}{\\partial \\alpha_1} & \\frac{\\partial x_3}{\\partial \\alpha_2} & \\frac{\\partial x_3}{\\partial \\alpha_3} \\\\\n",
    "\\end{array} \n",
    "\\right)$\n",
    "\n",
    "$ \\left[\n",
    "\\begin{array}{ccc} \n",
    "\\vec{R}_1 & \\vec{R}_2 & \\vec{R}_3\n",
    "\\end{array} \n",
    "\\right] = \\left[\n",
    "\\begin{array}{ccc} \n",
    "\\vec{e}_1 & \\vec{e}_2 & \\vec{e}_3\n",
    "\\end{array} \n",
    "\\right] \\cdot  \\left( \n",
    "\\begin{array}{ccc} \n",
    "\\frac{\\partial x_1}{\\partial \\alpha_1} & \\frac{\\partial x_1}{\\partial \\alpha_2} & \\frac{\\partial x_1}{\\partial \\alpha_3} \\\\\n",
    "\\frac{\\partial x_2}{\\partial \\alpha_1} & \\frac{\\partial x_2}{\\partial \\alpha_2} & \\frac{\\partial x_3}{\\partial \\alpha_3} \\\\\n",
    "\\frac{\\partial x_3}{\\partial \\alpha_1} & \\frac{\\partial x_3}{\\partial \\alpha_2} & \\frac{\\partial x_3}{\\partial \\alpha_3} \\\\\n",
    "\\end{array} \n",
    "\\right) = \\left[\n",
    "\\begin{array}{ccc} \n",
    "\\vec{e}_1 & \\vec{e}_2 & \\vec{e}_3\n",
    "\\end{array} \n",
    "\\right] \\cdot A$\n",
    "\n",
    "$ \\left[\n",
    "\\begin{array}{ccc} \n",
    "\\vec{e}_1 & \\vec{e}_2 & \\vec{e}_3\n",
    "\\end{array} \n",
    "\\right] =\\left[\n",
    "\\begin{array}{ccc} \n",
    "\\vec{R}_1 & \\vec{R}_2 & \\vec{R}_3\n",
    "\\end{array} \n",
    "\\right] \\cdot A^{-1}$"
   ]
  },
  {
   "cell_type": "code",
   "execution_count": 119,
   "metadata": {},
   "outputs": [
    {
     "data": {
      "image/png": "[encoded data removed]",
      "text/latex": [
       "$$\\left[\\begin{matrix}\\frac{1}{R} \\left(R + \\alpha_{3}\\right) \\cos{\\left (\\frac{1}{R} \\left(\\frac{L}{2} - \\alpha_{1}\\right) \\right )} & 0 & - \\sin{\\left (\\frac{1}{R} \\left(\\frac{L}{2} - \\alpha_{1}\\right) \\right )}\\\\0 & 1 & 0\\\\\\frac{1}{R} \\left(R + \\alpha_{3}\\right) \\sin{\\left (\\frac{1}{R} \\left(\\frac{L}{2} - \\alpha_{1}\\right) \\right )} & 0 & \\cos{\\left (\\frac{1}{R} \\left(\\frac{L}{2} - \\alpha_{1}\\right) \\right )}\\end{matrix}\\right]$$"
      ],
      "text/plain": [
       "⎡            ⎛L     ⎞                 ⎤\n",
       "⎢            ⎜─ - α₁⎟                 ⎥\n",
       "⎢            ⎜2     ⎟         ⎛L     ⎞⎥\n",
       "⎢(R + α₃)⋅cos⎜──────⎟         ⎜─ - α₁⎟⎥\n",
       "⎢            ⎝  R   ⎠         ⎜2     ⎟⎥\n",
       "⎢────────────────────  0  -sin⎜──────⎟⎥\n",
       "⎢         R                   ⎝  R   ⎠⎥\n",
       "⎢                                     ⎥\n",
       "⎢         0            1       0      ⎥\n",
       "⎢                                     ⎥\n",
       "⎢            ⎛L     ⎞                 ⎥\n",
       "⎢            ⎜─ - α₁⎟                 ⎥\n",
       "⎢            ⎜2     ⎟        ⎛L     ⎞ ⎥\n",
       "⎢(R + α₃)⋅sin⎜──────⎟        ⎜─ - α₁⎟ ⎥\n",
       "⎢            ⎝  R   ⎠        ⎜2     ⎟ ⎥\n",
       "⎢────────────────────  0  cos⎜──────⎟ ⎥\n",
       "⎣         R                  ⎝  R   ⎠ ⎦"
      ]
     },
     "execution_count": 119,
     "metadata": {},
     "output_type": "execute_result"
    }
   ],
   "source": [
    "dx1da1=R1.dot(N.i)\n",
    "dx1da2=R2.dot(N.i)\n",
    "dx1da3=R3.dot(N.i)\n",
    "\n",
    "dx2da1=R1.dot(N.j)\n",
    "dx2da2=R2.dot(N.j)\n",
    "dx2da3=R3.dot(N.j)\n",
    "\n",
    "dx3da1=R1.dot(N.k)\n",
    "dx3da2=R2.dot(N.k)\n",
    "dx3da3=R3.dot(N.k)\n",
    "\n",
    "A=Matrix([[dx1da1, dx1da2, dx1da3], [dx2da1, dx2da2, dx2da3], [dx3da1, dx3da2, dx3da3]])\n",
    "simplify(A)"
   ]
  },
  {
   "cell_type": "code",
   "execution_count": 120,
   "metadata": {},
   "outputs": [
    {
     "data": {
      "image/png": "[encoded data removed]",
      "text/latex": [
       "$$\\left[\\begin{matrix}\\frac{R}{R + \\alpha_{3}} \\cos{\\left (\\frac{1}{R} \\left(\\frac{L}{2} - \\alpha_{1}\\right) \\right )} & 0 & \\frac{R}{R + \\alpha_{3}} \\sin{\\left (\\frac{1}{R} \\left(\\frac{L}{2} - \\alpha_{1}\\right) \\right )}\\\\0 & 1 & 0\\\\- \\sin{\\left (\\frac{1}{R} \\left(\\frac{L}{2} - \\alpha_{1}\\right) \\right )} & 0 & \\cos{\\left (\\frac{1}{R} \\left(\\frac{L}{2} - \\alpha_{1}\\right) \\right )}\\end{matrix}\\right]$$"
      ],
      "text/plain": [
       "⎡     ⎛L     ⎞          ⎛L     ⎞⎤\n",
       "⎢     ⎜─ - α₁⎟          ⎜─ - α₁⎟⎥\n",
       "⎢     ⎜2     ⎟          ⎜2     ⎟⎥\n",
       "⎢R⋅cos⎜──────⎟     R⋅sin⎜──────⎟⎥\n",
       "⎢     ⎝  R   ⎠          ⎝  R   ⎠⎥\n",
       "⎢─────────────  0  ─────────────⎥\n",
       "⎢    R + α₃            R + α₃   ⎥\n",
       "⎢                               ⎥\n",
       "⎢      0        1        0      ⎥\n",
       "⎢                               ⎥\n",
       "⎢    ⎛L     ⎞          ⎛L     ⎞ ⎥\n",
       "⎢    ⎜─ - α₁⎟          ⎜─ - α₁⎟ ⎥\n",
       "⎢    ⎜2     ⎟          ⎜2     ⎟ ⎥\n",
       "⎢-sin⎜──────⎟   0   cos⎜──────⎟ ⎥\n",
       "⎣    ⎝  R   ⎠          ⎝  R   ⎠ ⎦"
      ]
     },
     "execution_count": 120,
     "metadata": {},
     "output_type": "execute_result"
    }
   ],
   "source": [
    "A_inv = trigsimp(A**-1)\n",
    "simplify(trigsimp(A_inv))"
   ]
  },
  {
   "cell_type": "code",
   "execution_count": 121,
   "metadata": {},
   "outputs": [
    {
     "data": {
      "image/png": "[encoded data removed]",
      "text/latex": [
       "$$1 + \\frac{\\alpha_{3}}{R}$$"
      ],
      "text/plain": [
       "    α₃\n",
       "1 + ──\n",
       "    R "
      ]
     },
     "execution_count": 121,
     "metadata": {},
     "output_type": "execute_result"
    }
   ],
   "source": [
    "trigsimp(A.det())"
   ]
  },
  {
   "cell_type": "markdown",
   "metadata": {},
   "source": [
    "#### Metric tensor"
   ]
  },
  {
   "cell_type": "code",
   "execution_count": 122,
   "metadata": {},
   "outputs": [
    {
     "data": {
      "image/png": "[encoded data removed]",
      "text/latex": [
       "$$\\left[\\begin{matrix}\\frac{1}{R^{2}} \\left(R + \\alpha_{3}\\right)^{2} & 0 & 0\\\\0 & 1 & 0\\\\0 & 0 & 1\\end{matrix}\\right]$$"
      ],
      "text/plain": [
       "⎡        2      ⎤\n",
       "⎢(R + α₃)       ⎥\n",
       "⎢─────────  0  0⎥\n",
       "⎢     2         ⎥\n",
       "⎢    R          ⎥\n",
       "⎢               ⎥\n",
       "⎢    0      1  0⎥\n",
       "⎢               ⎥\n",
       "⎣    0      0  1⎦"
      ]
     },
     "execution_count": 122,
     "metadata": {},
     "output_type": "execute_result"
    }
   ],
   "source": [
    "g11=R1.dot(R1)\n",
    "g12=R1.dot(R2)\n",
    "g13=R1.dot(R3)\n",
    "\n",
    "g21=R2.dot(R1)\n",
    "g22=R2.dot(R2)\n",
    "g23=R2.dot(R3)\n",
    "\n",
    "g31=R3.dot(R1)\n",
    "g32=R3.dot(R2)\n",
    "g33=R3.dot(R3)\n",
    "\n",
    "G=Matrix([[g11, g12, g13],[g21, g22, g23], [g31, g32, g33]])\n",
    "G=trigsimp(G)\n",
    "G"
   ]
  },
  {
   "cell_type": "code",
   "execution_count": 123,
   "metadata": {},
   "outputs": [
    {
     "data": {
      "image/png": "[encoded data removed]",
      "text/latex": [
       "$$\\left[\\begin{matrix}\\frac{R^{2}}{\\left(R + \\alpha_{3}\\right)^{2}} & 0 & 0\\\\0 & 1 & 0\\\\0 & 0 & 1\\end{matrix}\\right]$$"
      ],
      "text/plain": [
       "⎡     2         ⎤\n",
       "⎢    R          ⎥\n",
       "⎢─────────  0  0⎥\n",
       "⎢        2      ⎥\n",
       "⎢(R + α₃)       ⎥\n",
       "⎢               ⎥\n",
       "⎢    0      1  0⎥\n",
       "⎢               ⎥\n",
       "⎣    0      0  1⎦"
      ]
     },
     "execution_count": 123,
     "metadata": {},
     "output_type": "execute_result"
    }
   ],
   "source": [
    "g_11=R_1.dot(R_1)\n",
    "g_12=R_1.dot(R_2)\n",
    "g_13=R_1.dot(R_3)\n",
    "\n",
    "g_21=R_2.dot(R_1)\n",
    "g_22=R_2.dot(R_2)\n",
    "g_23=R_2.dot(R_3)\n",
    "\n",
    "g_31=R_3.dot(R_1)\n",
    "g_32=R_3.dot(R_2)\n",
    "g_33=R_3.dot(R_3)\n",
    "\n",
    "G_con=Matrix([[g_11, g_12, g_13],[g_21, g_22, g_23], [g_31, g_32, g_33]])\n",
    "G_con=trigsimp(G_con)\n",
    "G_con"
   ]
  },
  {
   "cell_type": "code",
   "execution_count": 124,
   "metadata": {},
   "outputs": [
    {
     "data": {
      "image/png": "[encoded data removed]",
      "text/latex": [
       "$$\\left[\\begin{matrix}\\frac{R^{2}}{\\left(R + \\alpha_{3}\\right)^{2}} & 0 & 0\\\\0 & 1 & 0\\\\0 & 0 & 1\\end{matrix}\\right]$$"
      ],
      "text/plain": [
       "⎡     2         ⎤\n",
       "⎢    R          ⎥\n",
       "⎢─────────  0  0⎥\n",
       "⎢        2      ⎥\n",
       "⎢(R + α₃)       ⎥\n",
       "⎢               ⎥\n",
       "⎢    0      1  0⎥\n",
       "⎢               ⎥\n",
       "⎣    0      0  1⎦"
      ]
     },
     "execution_count": 124,
     "metadata": {},
     "output_type": "execute_result"
    }
   ],
   "source": [
    "G_inv = G**-1\n",
    "G_inv"
   ]
  },
  {
   "cell_type": "markdown",
   "metadata": {},
   "source": [
    "#### Derivative of base vectors"
   ]
  },
  {
   "cell_type": "code",
   "execution_count": 125,
   "metadata": {},
   "outputs": [
    {
     "data": {
      "image/png": "[encoded data removed]",
      "text/latex": [
       "$$(\\frac{1}{R} \\left(1 + \\frac{\\alpha_{3}}{R}\\right) \\sin{\\left (\\frac{1}{R} \\left(\\frac{L}{2} - \\alpha_{1}\\right) \\right )})\\mathbf{\\hat{i}_{N}} + (- \\frac{1}{R} \\left(1 + \\frac{\\alpha_{3}}{R}\\right) \\cos{\\left (\\frac{1}{R} \\left(\\frac{L}{2} - \\alpha_{1}\\right) \\right )})\\mathbf{\\hat{k}_{N}}$$"
      ],
      "text/plain": [
       "⎛            ⎛L     ⎞ N_i⎞ N_i + ⎛             ⎛L     ⎞ N_k ⎞ N_k\n",
       "⎜            ⎜─ - α₁⎟⎟           ⎜             ⎜─ - α₁⎟ ⎟        \n",
       "⎜⎛    α₃⎞ N_i    ⎜2     ⎟⎟       ⎜ ⎛    α₃⎞ N_k    ⎜2     ⎟ ⎟    \n",
       "⎜⎜1 + ──⎟⋅sin⎜──────⎟⎟           ⎜-⎜1 + ──⎟⋅cos⎜──────⎟ ⎟        \n",
       "⎜⎝    R ⎠    ⎝  R   ⎠⎟           ⎜ ⎝    R ⎠    ⎝  R   ⎠ ⎟        \n",
       "⎜────────────────────⎟           ⎜──────────────────────⎟        \n",
       "⎝         R          ⎠           ⎝          R           ⎠        "
      ]
     },
     "execution_count": 125,
     "metadata": {},
     "output_type": "execute_result"
    }
   ],
   "source": [
    "dR1dalpha1 = trigsimp(R1.diff(alpha1))\n",
    "dR1dalpha1"
   ]
  },
  {
   "cell_type": "markdown",
   "metadata": {},
   "source": [
    "$ \\frac { d\\vec{R_1} } { d\\alpha_1} = \\frac {1}{R} \\left( 1-\\frac{\\alpha_3}{R} \\right) \\vec{R_3} $"
   ]
  },
  {
   "cell_type": "code",
   "execution_count": 126,
   "metadata": {},
   "outputs": [
    {
     "data": {
      "image/png": "[encoded data removed]",
      "text/latex": [
       "$$\\mathbf{\\hat{0}}$$"
      ],
      "text/plain": [
       "0"
      ]
     },
     "execution_count": 126,
     "metadata": {},
     "output_type": "execute_result"
    }
   ],
   "source": [
    "dR1dalpha2 = trigsimp(R1.diff(alpha2))\n",
    "dR1dalpha2"
   ]
  },
  {
   "cell_type": "code",
   "execution_count": 127,
   "metadata": {},
   "outputs": [
    {
     "data": {
      "image/png": "[encoded data removed]",
      "text/latex": [
       "$$(\\frac{1}{R} \\cos{\\left (\\frac{1}{R} \\left(\\frac{L}{2} - \\alpha_{1}\\right) \\right )})\\mathbf{\\hat{i}_{N}} + (\\frac{1}{R} \\sin{\\left (\\frac{1}{R} \\left(\\frac{L}{2} - \\alpha_{1}\\right) \\right )})\\mathbf{\\hat{k}_{N}}$$"
      ],
      "text/plain": [
       "⎛   ⎛L     ⎞ N_i⎞ N_i + ⎛   ⎛L     ⎞ N_k⎞ N_k\n",
       "⎜   ⎜─ - α₁⎟⎟           ⎜   ⎜─ - α₁⎟⎟        \n",
       "⎜   ⎜2     ⎟⎟           ⎜   ⎜2     ⎟⎟        \n",
       "⎜cos⎜──────⎟⎟           ⎜sin⎜──────⎟⎟        \n",
       "⎜   ⎝  R   ⎠⎟           ⎜   ⎝  R   ⎠⎟        \n",
       "⎜───────────⎟           ⎜───────────⎟        \n",
       "⎝     R     ⎠           ⎝     R     ⎠        "
      ]
     },
     "execution_count": 127,
     "metadata": {},
     "output_type": "execute_result"
    }
   ],
   "source": [
    "dR1dalpha3 = trigsimp(R1.diff(alpha3))\n",
    "dR1dalpha3"
   ]
  },
  {
   "cell_type": "markdown",
   "metadata": {},
   "source": [
    "$ \\frac { d\\vec{R_1} } { d\\alpha_3} = -\\frac {1}{R} \\frac {1}{1-\\frac{\\alpha_3}{R}}  \\vec{R_1} $"
   ]
  },
  {
   "cell_type": "code",
   "execution_count": 128,
   "metadata": {
    "scrolled": true
   },
   "outputs": [
    {
     "data": {
      "image/png": "[encoded data removed]",
      "text/latex": [
       "$$\\mathbf{\\hat{0}}$$"
      ],
      "text/plain": [
       "0"
      ]
     },
     "execution_count": 128,
     "metadata": {},
     "output_type": "execute_result"
    }
   ],
   "source": [
    "dR2dalpha1 = trigsimp(R2.diff(alpha1))\n",
    "dR2dalpha1"
   ]
  },
  {
   "cell_type": "code",
   "execution_count": 129,
   "metadata": {},
   "outputs": [
    {
     "data": {
      "image/png": "[encoded data removed]",
      "text/latex": [
       "$$\\mathbf{\\hat{0}}$$"
      ],
      "text/plain": [
       "0"
      ]
     },
     "execution_count": 129,
     "metadata": {},
     "output_type": "execute_result"
    }
   ],
   "source": [
    "dR2dalpha2 = trigsimp(R2.diff(alpha2))\n",
    "dR2dalpha2"
   ]
  },
  {
   "cell_type": "code",
   "execution_count": 130,
   "metadata": {},
   "outputs": [
    {
     "data": {
      "image/png": "[encoded data removed]",
      "text/latex": [
       "$$\\mathbf{\\hat{0}}$$"
      ],
      "text/plain": [
       "0"
      ]
     },
     "execution_count": 130,
     "metadata": {},
     "output_type": "execute_result"
    }
   ],
   "source": [
    "dR2dalpha3 = trigsimp(R2.diff(alpha3))\n",
    "dR2dalpha3"
   ]
  },
  {
   "cell_type": "code",
   "execution_count": 131,
   "metadata": {},
   "outputs": [
    {
     "data": {
      "image/png": "[encoded data removed]",
      "text/latex": [
       "$$(\\frac{1}{R} \\cos{\\left (\\frac{1}{R} \\left(\\frac{L}{2} - \\alpha_{1}\\right) \\right )})\\mathbf{\\hat{i}_{N}} + (\\frac{1}{R} \\sin{\\left (\\frac{1}{R} \\left(\\frac{L}{2} - \\alpha_{1}\\right) \\right )})\\mathbf{\\hat{k}_{N}}$$"
      ],
      "text/plain": [
       "⎛   ⎛L     ⎞ N_i⎞ N_i + ⎛   ⎛L     ⎞ N_k⎞ N_k\n",
       "⎜   ⎜─ - α₁⎟⎟           ⎜   ⎜─ - α₁⎟⎟        \n",
       "⎜   ⎜2     ⎟⎟           ⎜   ⎜2     ⎟⎟        \n",
       "⎜cos⎜──────⎟⎟           ⎜sin⎜──────⎟⎟        \n",
       "⎜   ⎝  R   ⎠⎟           ⎜   ⎝  R   ⎠⎟        \n",
       "⎜───────────⎟           ⎜───────────⎟        \n",
       "⎝     R     ⎠           ⎝     R     ⎠        "
      ]
     },
     "execution_count": 131,
     "metadata": {},
     "output_type": "execute_result"
    }
   ],
   "source": [
    "dR3dalpha1 = trigsimp(R3.diff(alpha1))\n",
    "dR3dalpha1"
   ]
  },
  {
   "cell_type": "markdown",
   "metadata": {},
   "source": [
    "$ \\frac { d\\vec{R_3} } { d\\alpha_1} = -\\frac {1}{R} \\frac {1}{1-\\frac{\\alpha_3}{R}}  \\vec{R_1} $"
   ]
  },
  {
   "cell_type": "code",
   "execution_count": 132,
   "metadata": {},
   "outputs": [
    {
     "data": {
      "image/png": "[encoded data removed]",
      "text/latex": [
       "$$\\mathbf{\\hat{0}}$$"
      ],
      "text/plain": [
       "0"
      ]
     },
     "execution_count": 132,
     "metadata": {},
     "output_type": "execute_result"
    }
   ],
   "source": [
    "dR3dalpha2 = trigsimp(R3.diff(alpha2))\n",
    "dR3dalpha2"
   ]
  },
  {
   "cell_type": "code",
   "execution_count": 133,
   "metadata": {},
   "outputs": [
    {
     "data": {
      "image/png": "[encoded data removed]",
      "text/latex": [
       "$$\\mathbf{\\hat{0}}$$"
      ],
      "text/plain": [
       "0"
      ]
     },
     "execution_count": 133,
     "metadata": {},
     "output_type": "execute_result"
    }
   ],
   "source": [
    "dR3dalpha3 = trigsimp(R3.diff(alpha3))\n",
    "dR3dalpha3"
   ]
  },
  {
   "cell_type": "markdown",
   "metadata": {},
   "source": [
    "$ \\frac { d\\vec{R_3} } { d\\alpha_3} = \\vec{0} $"
   ]
  },
  {
   "cell_type": "markdown",
   "metadata": {},
   "source": [
    "#### Derivative of vectors\n",
    "\n",
    "$ \\vec{u} = u^1 \\vec{R_1} + u^2\\vec{R_2} + u^3\\vec{R_3} $"
   ]
  },
  {
   "cell_type": "markdown",
   "metadata": {},
   "source": [
    "$ \\frac { d\\vec{u} } { d\\alpha_1} =  \\frac { d(u^1\\vec{R_1}) } { d\\alpha_1} + \\frac { d(u^2\\vec{R_2}) } { d\\alpha_1}+ \\frac { d(u^3\\vec{R_3}) } { d\\alpha_1} =  \\frac { du^1 } { d\\alpha_1} \\vec{R_1} + u^1 \\frac { d\\vec{R_1} } { d\\alpha_1} + \\frac { du^2 } { d\\alpha_1} \\vec{R_2} + u^2 \\frac { d\\vec{R_2} } { d\\alpha_1} + \\frac { du^3 } { d\\alpha_1} \\vec{R_3} + u^3 \\frac { d\\vec{R_3} } { d\\alpha_1} = \\frac { du^1 } { d\\alpha_1} \\vec{R_1} + u^1 \\frac {1}{R} \\left( 1-\\frac{\\alpha_3}{R} \\right) \\vec{R_3} + \\frac { du^2 } { d\\alpha_1} \\vec{R_2}+ \\frac { du^3 } { d\\alpha_1} \\vec{R_3} - u^3 \\frac {1}{R} \\frac {1}{1-\\frac{\\alpha_3}{R}}  \\vec{R_1}$\n",
    "\n",
    "Then\n",
    "$ \\frac { d\\vec{u} } { d\\alpha_1} = \\left( \\frac { du^1 } { d\\alpha_1} - u^3 \\frac {1}{R} \\frac {1}{1-\\frac{\\alpha_3}{R}}  \\right) \\vec{R_1} + \\frac { du^2 } { d\\alpha_1} \\vec{R_2} + \\left( \\frac { du^3 } { d\\alpha_1} + u^1 \\frac {1}{R} \\left( 1-\\frac{\\alpha_3}{R} \\right) \\right) \\vec{R_3}$\n",
    "\n"
   ]
  },
  {
   "cell_type": "markdown",
   "metadata": {},
   "source": [
    "$ \\frac { d\\vec{u} } { d\\alpha_2} =  \\frac { d(u^1\\vec{R_1}) } { d\\alpha_2} + \\frac { d(u^2\\vec{R_2}) } { d\\alpha_2}+ \\frac { d(u^3\\vec{R_3}) } { d\\alpha_2} =  \\frac { du^1 } { d\\alpha_2} \\vec{R_1} + \\frac { du^2 } { d\\alpha_2} \\vec{R_2} + \\frac { du^3 } { d\\alpha_2} \\vec{R_3} $\n",
    "\n",
    "Then\n",
    "$ \\frac { d\\vec{u} } { d\\alpha_2} = \\frac { du^1 } { d\\alpha_2} \\vec{R_1} + \\frac { du^2 } { d\\alpha_2} \\vec{R_2} + \\frac { du^3 } { d\\alpha_2} \\vec{R_3} $"
   ]
  },
  {
   "cell_type": "markdown",
   "metadata": {},
   "source": [
    "$ \\frac { d\\vec{u} } { d\\alpha_3} = \\frac { d(u^1\\vec{R_1}) } { d\\alpha_3} + \\frac { d(u^2\\vec{R_2}) } { d\\alpha_3}+ \\frac { d(u^3\\vec{R_3}) } { d\\alpha_3} = \n",
    " \\frac { du^1 } { d\\alpha_3} \\vec{R_1} + u^1 \\frac { d\\vec{R_1} } { d\\alpha_3} + \\frac { du^2 } { d\\alpha_3} \\vec{R_2} + u^2 \\frac { d\\vec{R_2} } { d\\alpha_3} + \\frac { du^3 } { d\\alpha_3} \\vec{R_3} + u^3 \\frac { d\\vec{R_3} } { d\\alpha_3} = \\frac { du^1 } { d\\alpha_3} \\vec{R_1} - u^1 \\frac {1}{R} \\frac {1}{1-\\frac{\\alpha_3}{R}}  \\vec{R_1} + \\frac { du^2 } { d\\alpha_3} \\vec{R_2}+ \\frac { du^3 } { d\\alpha_3} \\vec{R_3} $\n",
    " \n",
    " Then\n",
    "$ \\frac { d\\vec{u} } { d\\alpha_3} = \\left( \\frac { du^1 } { d\\alpha_3}  - u^1 \\frac {1}{R} \\frac {1}{1-\\frac{\\alpha_3}{R}} \\right) \\vec{R_1} + \\frac { du^2 } { d\\alpha_3} \\vec{R_2}+ \\frac { du^3 } { d\\alpha_3} \\vec{R_3}$\n",
    "\n"
   ]
  },
  {
   "cell_type": "markdown",
   "metadata": {},
   "source": [
    "#### Gradient of vector"
   ]
  },
  {
   "cell_type": "markdown",
   "metadata": {},
   "source": [
    "$\\nabla_1 u^1 = \\frac { \\partial u^1 } { \\partial \\alpha_1} - u^3 \\frac {1}{R} \\frac {1}{1-\\frac{\\alpha_3}{R}}$\n",
    "\n",
    "$\\nabla_1 u^2 = \\frac { \\partial u^2 } { \\partial \\alpha_1} $\n",
    "\n",
    "$\\nabla_1 u^3 = \\frac { \\partial u^3 } { \\partial \\alpha_1} + u^1 \\frac {1}{R} \\left( 1-\\frac{\\alpha_3}{R} \\right) $\n",
    "\n",
    "$\\nabla_2 u^1 = \\frac { \\partial u^1 } { \\partial \\alpha_2}$\n",
    "\n",
    "$\\nabla_2 u^2 = \\frac { \\partial u^2 } { \\partial \\alpha_2}$\n",
    "\n",
    "$\\nabla_2 u^3 = \\frac { \\partial u^3 } { \\partial \\alpha_2}$\n",
    "\n",
    "$\\nabla_3 u^1 = \\frac { \\partial u^1 } { \\partial \\alpha_3}  - u^1 \\frac {1}{R} \\frac {1}{1-\\frac{\\alpha_3}{R}}$\n",
    "\n",
    "$\\nabla_3 u^2 = \\frac { \\partial u^2 } { \\partial \\alpha_3} $\n",
    "\n",
    "$\\nabla_3 u^3 = \\frac { \\partial u^3 } { \\partial \\alpha_3}$\n",
    "\n",
    "\n",
    "$ \\nabla \\vec{u} = \\left( \n",
    "\\begin{array}{ccc} \n",
    "\\nabla_1 u^1 & \\nabla_1 u^2 & \\nabla_1 u^3 \\\\\n",
    "\\nabla_2 u^1 & \\nabla_2 u^2 & \\nabla_2 u^3 \\\\\n",
    "\\nabla_3 u^1 & \\nabla_3 u^2 & \\nabla_3 u^3 \\\\\n",
    "\\end{array} \n",
    "\\right)$"
   ]
  },
  {
   "cell_type": "code",
   "execution_count": 134,
   "metadata": {},
   "outputs": [
    {
     "data": {
      "image/png": "[encoded data removed]",
      "text/latex": [
       "$$\\left[\\begin{matrix}- \\frac{K \\operatorname{u^{3}}{\\left (\\alpha_{1},\\alpha_{2},\\alpha_{3} \\right )}}{q{\\left (\\alpha_{3} \\right )}} + \\frac{\\partial}{\\partial \\alpha_{1}} \\operatorname{u^{1}}{\\left (\\alpha_{1},\\alpha_{2},\\alpha_{3} \\right )} & \\frac{\\partial}{\\partial \\alpha_{1}} \\operatorname{u^{2}}{\\left (\\alpha_{1},\\alpha_{2},\\alpha_{3} \\right )} & K q{\\left (\\alpha_{3} \\right )} \\operatorname{u^{1}}{\\left (\\alpha_{1},\\alpha_{2},\\alpha_{3} \\right )} + \\frac{\\partial}{\\partial \\alpha_{1}} \\operatorname{u^{3}}{\\left (\\alpha_{1},\\alpha_{2},\\alpha_{3} \\right )}\\\\\\frac{\\partial}{\\partial \\alpha_{2}} \\operatorname{u^{1}}{\\left (\\alpha_{1},\\alpha_{2},\\alpha_{3} \\right )} & \\frac{\\partial}{\\partial \\alpha_{2}} \\operatorname{u^{2}}{\\left (\\alpha_{1},\\alpha_{2},\\alpha_{3} \\right )} & \\frac{\\partial}{\\partial \\alpha_{2}} \\operatorname{u^{3}}{\\left (\\alpha_{1},\\alpha_{2},\\alpha_{3} \\right )}\\\\- \\frac{K \\operatorname{u^{1}}{\\left (\\alpha_{1},\\alpha_{2},\\alpha_{3} \\right )}}{q{\\left (\\alpha_{3} \\right )}} + \\frac{\\partial}{\\partial \\alpha_{3}} \\operatorname{u^{1}}{\\left (\\alpha_{1},\\alpha_{2},\\alpha_{3} \\right )} & \\frac{\\partial}{\\partial \\alpha_{3}} \\operatorname{u^{2}}{\\left (\\alpha_{1},\\alpha_{2},\\alpha_{3} \\right )} & \\frac{\\partial}{\\partial \\alpha_{3}} \\operatorname{u^{3}}{\\left (\\alpha_{1},\\alpha_{2},\\alpha_{3} \\right )}\\end{matrix}\\right]$$"
      ],
      "text/plain": [
       "⎡  K⋅u³(α₁, α₂, α₃)    ∂                    ∂                                 \n",
       "⎢- ──────────────── + ───(u¹(α₁, α₂, α₃))  ───(u²(α₁, α₂, α₃))  K⋅q(α₃)⋅u¹(α₁,\n",
       "⎢       q(α₃)         ∂α₁                  ∂α₁                                \n",
       "⎢                                                                             \n",
       "⎢           ∂                               ∂                                ∂\n",
       "⎢          ───(u¹(α₁, α₂, α₃))             ───(u²(α₁, α₂, α₃))              ──\n",
       "⎢          ∂α₂                             ∂α₂                              ∂α\n",
       "⎢                                                                             \n",
       "⎢  K⋅u¹(α₁, α₂, α₃)    ∂                    ∂                                ∂\n",
       "⎢- ──────────────── + ───(u¹(α₁, α₂, α₃))  ───(u²(α₁, α₂, α₃))              ──\n",
       "⎣       q(α₃)         ∂α₃                  ∂α₃                              ∂α\n",
       "\n",
       "            ∂                 ⎤\n",
       " α₂, α₃) + ───(u³(α₁, α₂, α₃))⎥\n",
       "           ∂α₁                ⎥\n",
       "                              ⎥\n",
       "                              ⎥\n",
       "─(u³(α₁, α₂, α₃))             ⎥\n",
       "₂                             ⎥\n",
       "                              ⎥\n",
       "                              ⎥\n",
       "─(u³(α₁, α₂, α₃))             ⎥\n",
       "₃                             ⎦"
      ]
     },
     "execution_count": 134,
     "metadata": {},
     "output_type": "execute_result"
    }
   ],
   "source": [
    "u1=Function('u^1')\n",
    "u2=Function('u^2')\n",
    "u3=Function('u^3')\n",
    "q=Function('q') # q(alpha3) = 1-alpha3/R\n",
    "K = Symbol('K') # K = 1/R\n",
    "\n",
    "u1_nabla1 = u1(alpha1, alpha2, alpha3).diff(alpha1) - u3(alpha1, alpha2, alpha3) * K / q(alpha3)\n",
    "u2_nabla1 = u2(alpha1, alpha2, alpha3).diff(alpha1)\n",
    "u3_nabla1 = u3(alpha1, alpha2, alpha3).diff(alpha1) + u1(alpha1, alpha2, alpha3) * K * q(alpha3)\n",
    "\n",
    "u1_nabla2 = u1(alpha1, alpha2, alpha3).diff(alpha2)\n",
    "u2_nabla2 = u2(alpha1, alpha2, alpha3).diff(alpha2)\n",
    "u3_nabla2 = u3(alpha1, alpha2, alpha3).diff(alpha2)\n",
    "\n",
    "u1_nabla3 = u1(alpha1, alpha2, alpha3).diff(alpha3) - u1(alpha1, alpha2, alpha3) * K / q(alpha3)\n",
    "u2_nabla3 = u2(alpha1, alpha2, alpha3).diff(alpha3)\n",
    "u3_nabla3 = u3(alpha1, alpha2, alpha3).diff(alpha3)\n",
    "# $\\nabla_2 u^2 = \\frac { \\partial u^2 } { \\partial \\alpha_2}$\n",
    "\n",
    "grad_u = Matrix([[u1_nabla1, u2_nabla1, u3_nabla1],[u1_nabla2, u2_nabla2, u3_nabla2], [u1_nabla3, u2_nabla3, u3_nabla3]])\n",
    "grad_u"
   ]
  },
  {
   "cell_type": "code",
   "execution_count": 135,
   "metadata": {},
   "outputs": [
    {
     "data": {
      "image/png": "[encoded data removed]",
      "text/latex": [
       "$$\\left[\\begin{matrix}- K q{\\left (\\alpha_{3} \\right )} \\operatorname{u^{3}}{\\left (\\alpha_{1},\\alpha_{2},\\alpha_{3} \\right )} + q^{2}{\\left (\\alpha_{3} \\right )} \\frac{\\partial}{\\partial \\alpha_{1}} \\operatorname{u^{1}}{\\left (\\alpha_{1},\\alpha_{2},\\alpha_{3} \\right )} & \\frac{\\partial}{\\partial \\alpha_{1}} \\operatorname{u^{2}}{\\left (\\alpha_{1},\\alpha_{2},\\alpha_{3} \\right )} & K q{\\left (\\alpha_{3} \\right )} \\operatorname{u^{1}}{\\left (\\alpha_{1},\\alpha_{2},\\alpha_{3} \\right )} + \\frac{\\partial}{\\partial \\alpha_{1}} \\operatorname{u^{3}}{\\left (\\alpha_{1},\\alpha_{2},\\alpha_{3} \\right )}\\\\q^{2}{\\left (\\alpha_{3} \\right )} \\frac{\\partial}{\\partial \\alpha_{2}} \\operatorname{u^{1}}{\\left (\\alpha_{1},\\alpha_{2},\\alpha_{3} \\right )} & \\frac{\\partial}{\\partial \\alpha_{2}} \\operatorname{u^{2}}{\\left (\\alpha_{1},\\alpha_{2},\\alpha_{3} \\right )} & \\frac{\\partial}{\\partial \\alpha_{2}} \\operatorname{u^{3}}{\\left (\\alpha_{1},\\alpha_{2},\\alpha_{3} \\right )}\\\\- K q{\\left (\\alpha_{3} \\right )} \\operatorname{u^{1}}{\\left (\\alpha_{1},\\alpha_{2},\\alpha_{3} \\right )} + q^{2}{\\left (\\alpha_{3} \\right )} \\frac{\\partial}{\\partial \\alpha_{3}} \\operatorname{u^{1}}{\\left (\\alpha_{1},\\alpha_{2},\\alpha_{3} \\right )} & \\frac{\\partial}{\\partial \\alpha_{3}} \\operatorname{u^{2}}{\\left (\\alpha_{1},\\alpha_{2},\\alpha_{3} \\right )} & \\frac{\\partial}{\\partial \\alpha_{3}} \\operatorname{u^{3}}{\\left (\\alpha_{1},\\alpha_{2},\\alpha_{3} \\right )}\\end{matrix}\\right]$$"
      ],
      "text/plain": [
       "⎡                           2      ∂                    ∂                     \n",
       "⎢-K⋅q(α₃)⋅u³(α₁, α₂, α₃) + q (α₃)⋅───(u¹(α₁, α₂, α₃))  ───(u²(α₁, α₂, α₃))  K⋅\n",
       "⎢                                 ∂α₁                  ∂α₁                    \n",
       "⎢                                                                             \n",
       "⎢              2      ∂                                 ∂                     \n",
       "⎢             q (α₃)⋅───(u¹(α₁, α₂, α₃))               ───(u²(α₁, α₂, α₃))    \n",
       "⎢                    ∂α₂                               ∂α₂                    \n",
       "⎢                                                                             \n",
       "⎢                           2      ∂                    ∂                     \n",
       "⎢-K⋅q(α₃)⋅u¹(α₁, α₂, α₃) + q (α₃)⋅───(u¹(α₁, α₂, α₃))  ───(u²(α₁, α₂, α₃))    \n",
       "⎣                                 ∂α₃                  ∂α₃                    \n",
       "\n",
       "                        ∂                 ⎤\n",
       "q(α₃)⋅u¹(α₁, α₂, α₃) + ───(u³(α₁, α₂, α₃))⎥\n",
       "                       ∂α₁                ⎥\n",
       "                                          ⎥\n",
       "           ∂                              ⎥\n",
       "          ───(u³(α₁, α₂, α₃))             ⎥\n",
       "          ∂α₂                             ⎥\n",
       "                                          ⎥\n",
       "           ∂                              ⎥\n",
       "          ───(u³(α₁, α₂, α₃))             ⎥\n",
       "          ∂α₃                             ⎦"
      ]
     },
     "execution_count": 135,
     "metadata": {},
     "output_type": "execute_result"
    }
   ],
   "source": [
    "G_s = Matrix([[q(alpha3)**2, 0, 0],[0, 1, 0], [0, 0, 1]])\n",
    "grad_u_down=grad_u*G_s\n",
    "expand(simplify(grad_u_down))"
   ]
  },
  {
   "cell_type": "markdown",
   "metadata": {},
   "source": [
    "$ \n",
    "\\left( \n",
    "\\begin{array}{c} \n",
    "\\nabla_1 u_1 \\\\ \\nabla_2 u_1 \\\\ \\nabla_3 u_1 \\\\\n",
    "\\nabla_1 u_2 \\\\ \\nabla_2 u_2 \\\\ \\nabla_3 u_2 \\\\\n",
    "\\nabla_1 u_3 \\\\ \\nabla_2 u_3 \\\\ \\nabla_3 u_3 \\\\\n",
    "\\end{array} \n",
    "\\right) \n",
    "=  \n",
    "\\left( \n",
    "\\begin{array}{c}\n",
    "\\left( 1-\\frac{\\alpha_2}{R} \\right)^2  \\frac { \\partial u^1 } { \\partial \\alpha_1} - u^3 \\frac {\\left( 1-\\frac{\\alpha_3}{R} \\right)}{R} \\\\\n",
    "\\left( 1-\\frac{\\alpha_2}{R} \\right)^2 \\frac { \\partial u^1 } { \\partial \\alpha_2} \\\\\n",
    "\\left( 1-\\frac{\\alpha_3}{R} \\right)^2  \\frac { \\partial u^1 } { \\partial \\alpha_3} - u^1 \\frac {\\left( 1-\\frac{\\alpha_3}{R} \\right)}{R} \\\\\n",
    "\\frac { \\partial u^2 } { \\partial \\alpha_1} \\\\\n",
    "\\frac { \\partial u^2 } { \\partial \\alpha_2} \\\\\n",
    "\\frac { \\partial u^2 } { \\partial \\alpha_3} \\\\\n",
    "\\frac { \\partial u^3 } { \\partial \\alpha_1} + u^1 \\frac {\\left( 1-\\frac{\\alpha_3}{R} \\right)}{R} \\\\\n",
    "\\frac { \\partial u^3 } { \\partial \\alpha_2} \\\\\n",
    "\\frac { \\partial u^3 } { \\partial \\alpha_3} \\\\\n",
    "\\end{array} \n",
    "\\right)\n",
    "$"
   ]
  },
  {
   "cell_type": "markdown",
   "metadata": {},
   "source": [
    "$ \n",
    "\\left( \n",
    "\\begin{array}{c} \n",
    "\\nabla_1 u_1 \\\\ \\nabla_2 u_1 \\\\ \\nabla_3 u_1 \\\\\n",
    "\\nabla_1 u_2 \\\\ \\nabla_2 u_2 \\\\ \\nabla_3 u_2 \\\\\n",
    "\\nabla_1 u_3 \\\\ \\nabla_2 u_3 \\\\ \\nabla_3 u_3 \\\\\n",
    "\\end{array} \n",
    "\\right)\n",
    "=  \n",
    "B \\cdot\n",
    "\\left( \n",
    "\\begin{array}{c} \n",
    "u^1 \\\\\n",
    "\\frac { \\partial u^1 } { \\partial \\alpha_1} \\\\\n",
    "\\frac { \\partial u^1 } { \\partial \\alpha_2} \\\\\n",
    "\\frac { \\partial u^1 } { \\partial \\alpha_3} \\\\\n",
    "u^2 \\\\\n",
    "\\frac { \\partial u^2 } { \\partial \\alpha_1} \\\\\n",
    "\\frac { \\partial u^2 } { \\partial \\alpha_2} \\\\\n",
    "\\frac { \\partial u^2 } { \\partial \\alpha_3} \\\\\n",
    "u^3 \\\\\n",
    "\\frac { \\partial u^3 } { \\partial \\alpha_1} \\\\\n",
    "\\frac { \\partial u^3 } { \\partial \\alpha_2} \\\\\n",
    "\\frac { \\partial u^3 } { \\partial \\alpha_3} \\\\\n",
    "\\end{array} \n",
    "\\right) \n",
    "$"
   ]
  },
  {
   "cell_type": "code",
   "execution_count": 136,
   "metadata": {},
   "outputs": [
    {
     "data": {
      "image/png": "[encoded data removed]",
      "text/latex": [
       "$$\\left[\\begin{array}{cccccccccccc}0 & \\left(1 - \\frac{\\alpha_{3}}{R}\\right)^{2} & 0 & 0 & 0 & 0 & 0 & 0 & \\frac{1}{R} \\left(-1 + \\frac{\\alpha_{3}}{R}\\right) & 0 & 0 & 0\\\\0 & 0 & \\left(1 - \\frac{\\alpha_{3}}{R}\\right)^{2} & 0 & 0 & 0 & 0 & 0 & 0 & 0 & 0 & 0\\\\\\frac{1}{R} \\left(-1 + \\frac{\\alpha_{3}}{R}\\right) & 0 & 0 & \\left(1 - \\frac{\\alpha_{3}}{R}\\right)^{2} & 0 & 0 & 0 & 0 & 0 & 0 & 0 & 0\\\\0 & 0 & 0 & 0 & 0 & 1 & 0 & 0 & 0 & 0 & 0 & 0\\\\0 & 0 & 0 & 0 & 0 & 0 & 1 & 0 & 0 & 0 & 0 & 0\\\\0 & 0 & 0 & 0 & 0 & 0 & 0 & 1 & 0 & 0 & 0 & 0\\\\\\frac{1}{R} \\left(1 - \\frac{\\alpha_{3}}{R}\\right) & 0 & 0 & 0 & 0 & 0 & 0 & 0 & 0 & 1 & 0 & 0\\\\0 & 0 & 0 & 0 & 0 & 0 & 0 & 0 & 0 & 0 & 1 & 0\\\\0 & 0 & 0 & 0 & 0 & 0 & 0 & 0 & 0 & 0 & 0 & 1\\end{array}\\right]$$"
      ],
      "text/plain": [
       "⎡                                                           α₃         ⎤\n",
       "⎢                 2                                    -1 + ──         ⎥\n",
       "⎢         ⎛    α₃⎞                                          R          ⎥\n",
       "⎢   0     ⎜1 - ──⎟       0          0      0  0  0  0  ───────  0  0  0⎥\n",
       "⎢         ⎝    R ⎠                                        R            ⎥\n",
       "⎢                                                                      ⎥\n",
       "⎢                            2                                         ⎥\n",
       "⎢                    ⎛    α₃⎞                                          ⎥\n",
       "⎢   0         0      ⎜1 - ──⎟       0      0  0  0  0     0     0  0  0⎥\n",
       "⎢                    ⎝    R ⎠                                          ⎥\n",
       "⎢                                                                      ⎥\n",
       "⎢     α₃                                                               ⎥\n",
       "⎢-1 + ──                                2                              ⎥\n",
       "⎢     R                         ⎛    α₃⎞                               ⎥\n",
       "⎢───────      0          0      ⎜1 - ──⎟   0  0  0  0     0     0  0  0⎥\n",
       "⎢   R                           ⎝    R ⎠                               ⎥\n",
       "⎢                                                                      ⎥\n",
       "⎢   0         0          0          0      0  1  0  0     0     0  0  0⎥\n",
       "⎢                                                                      ⎥\n",
       "⎢   0         0          0          0      0  0  1  0     0     0  0  0⎥\n",
       "⎢                                                                      ⎥\n",
       "⎢   0         0          0          0      0  0  0  1     0     0  0  0⎥\n",
       "⎢                                                                      ⎥\n",
       "⎢    α₃                                                                ⎥\n",
       "⎢1 - ──                                                                ⎥\n",
       "⎢    R                                                                 ⎥\n",
       "⎢──────       0          0          0      0  0  0  0     0     1  0  0⎥\n",
       "⎢  R                                                                   ⎥\n",
       "⎢                                                                      ⎥\n",
       "⎢   0         0          0          0      0  0  0  0     0     0  1  0⎥\n",
       "⎢                                                                      ⎥\n",
       "⎣   0         0          0          0      0  0  0  0     0     0  0  1⎦"
      ]
     },
     "execution_count": 136,
     "metadata": {},
     "output_type": "execute_result"
    }
   ],
   "source": [
    "B = zeros(9, 12)\n",
    "B[0,1] = (1-alpha3/R)**2\n",
    "B[0,8] = -(1-alpha3/R)/R\n",
    "\n",
    "B[1,2] = (1-alpha3/R)**2\n",
    "\n",
    "B[2,0] = -(1-alpha3/R)/R\n",
    "B[2,3] = (1-alpha3/R)**2\n",
    "\n",
    "B[3,5] = S(1)\n",
    "B[4,6] = S(1)\n",
    "B[5,7] = S(1)\n",
    "\n",
    "B[6,9] = S(1)\n",
    "B[6,0] = (1-alpha3/R)/R\n",
    "B[7,10] = S(1)\n",
    "B[8,11] = S(1)\n",
    "\n",
    "B"
   ]
  },
  {
   "cell_type": "markdown",
   "metadata": {},
   "source": [
    "### Elasticity tensor(stiffness tensor)\n",
    "\n",
    "#### General form"
   ]
  },
  {
   "cell_type": "code",
   "execution_count": 137,
   "metadata": {},
   "outputs": [
    {
     "data": {
      "image/png": "[encoded data removed]",
      "text/latex": [
       "$$\\left[\\begin{matrix}\\left[\\begin{matrix}C^{1111} & C^{1112} & C^{1113}\\\\C^{1121} & C^{1122} & C^{1123}\\\\C^{1131} & C^{1132} & C^{1133}\\end{matrix}\\right] & \\left[\\begin{matrix}C^{1211} & C^{1212} & C^{1213}\\\\C^{1221} & C^{1222} & C^{1223}\\\\C^{1231} & C^{1232} & C^{1233}\\end{matrix}\\right] & \\left[\\begin{matrix}C^{1311} & C^{1312} & C^{1313}\\\\C^{1321} & C^{1322} & C^{1323}\\\\C^{1331} & C^{1332} & C^{1333}\\end{matrix}\\right]\\\\\\left[\\begin{matrix}C^{2111} & C^{2112} & C^{2113}\\\\C^{2121} & C^{2122} & C^{2123}\\\\C^{2131} & C^{2132} & C^{2133}\\end{matrix}\\right] & \\left[\\begin{matrix}C^{2211} & C^{2212} & C^{2213}\\\\C^{2221} & C^{2222} & C^{2223}\\\\C^{2231} & C^{2232} & C^{2233}\\end{matrix}\\right] & \\left[\\begin{matrix}C^{2311} & C^{2312} & C^{2313}\\\\C^{2321} & C^{2322} & C^{2323}\\\\C^{2331} & C^{2332} & C^{2333}\\end{matrix}\\right]\\\\\\left[\\begin{matrix}C^{3111} & C^{3112} & C^{3113}\\\\C^{3121} & C^{3122} & C^{3123}\\\\C^{3131} & C^{3132} & C^{3133}\\end{matrix}\\right] & \\left[\\begin{matrix}C^{3211} & C^{3212} & C^{3213}\\\\C^{3221} & C^{3222} & C^{3223}\\\\C^{3231} & C^{3232} & C^{3233}\\end{matrix}\\right] & \\left[\\begin{matrix}C^{3311} & C^{3312} & C^{3313}\\\\C^{3321} & C^{3322} & C^{3323}\\\\C^{3331} & C^{3332} & C^{3333}\\end{matrix}\\right]\\end{matrix}\\right]$$"
      ],
      "text/plain": [
       "⎡⎡C__{1111}  C__{1112}  C__{1113}⎤  ⎡C__{1211}  C__{1212}  C__{1213}⎤  ⎡C__{13\n",
       "⎢⎢                               ⎥  ⎢                               ⎥  ⎢      \n",
       "⎢⎢C__{1121}  C__{1122}  C__{1123}⎥  ⎢C__{1221}  C__{1222}  C__{1223}⎥  ⎢C__{13\n",
       "⎢⎢                               ⎥  ⎢                               ⎥  ⎢      \n",
       "⎢⎣C__{1131}  C__{1132}  C__{1133}⎦  ⎣C__{1231}  C__{1232}  C__{1233}⎦  ⎣C__{13\n",
       "⎢                                                                             \n",
       "⎢⎡C__{2111}  C__{2112}  C__{2113}⎤  ⎡C__{2211}  C__{2212}  C__{2213}⎤  ⎡C__{23\n",
       "⎢⎢                               ⎥  ⎢                               ⎥  ⎢      \n",
       "⎢⎢C__{2121}  C__{2122}  C__{2123}⎥  ⎢C__{2221}  C__{2222}  C__{2223}⎥  ⎢C__{23\n",
       "⎢⎢                               ⎥  ⎢                               ⎥  ⎢      \n",
       "⎢⎣C__{2131}  C__{2132}  C__{2133}⎦  ⎣C__{2231}  C__{2232}  C__{2233}⎦  ⎣C__{23\n",
       "⎢                                                                             \n",
       "⎢⎡C__{3111}  C__{3112}  C__{3113}⎤  ⎡C__{3211}  C__{3212}  C__{3213}⎤  ⎡C__{33\n",
       "⎢⎢                               ⎥  ⎢                               ⎥  ⎢      \n",
       "⎢⎢C__{3121}  C__{3122}  C__{3123}⎥  ⎢C__{3221}  C__{3222}  C__{3223}⎥  ⎢C__{33\n",
       "⎢⎢                               ⎥  ⎢                               ⎥  ⎢      \n",
       "⎣⎣C__{3131}  C__{3132}  C__{3133}⎦  ⎣C__{3231}  C__{3232}  C__{3233}⎦  ⎣C__{33\n",
       "\n",
       "11}  C__{1312}  C__{1313}⎤⎤\n",
       "                         ⎥⎥\n",
       "21}  C__{1322}  C__{1323}⎥⎥\n",
       "                         ⎥⎥\n",
       "31}  C__{1332}  C__{1333}⎦⎥\n",
       "                          ⎥\n",
       "11}  C__{2312}  C__{2313}⎤⎥\n",
       "                         ⎥⎥\n",
       "21}  C__{2322}  C__{2323}⎥⎥\n",
       "                         ⎥⎥\n",
       "31}  C__{2332}  C__{2333}⎦⎥\n",
       "                          ⎥\n",
       "11}  C__{3312}  C__{3313}⎤⎥\n",
       "                         ⎥⎥\n",
       "21}  C__{3322}  C__{3323}⎥⎥\n",
       "                         ⎥⎥\n",
       "31}  C__{3332}  C__{3333}⎦⎦"
      ]
     },
     "execution_count": 137,
     "metadata": {},
     "output_type": "execute_result"
    }
   ],
   "source": [
    "from sympy import MutableDenseNDimArray\n",
    "C_x = MutableDenseNDimArray.zeros(3, 3, 3, 3)\n",
    "\n",
    "for i in range(3):\n",
    "    for j in range(3):        \n",
    "        for k in range(3):\n",
    "            for l in range(3):\n",
    "                elem_index = 'C^{{{}{}{}{}}}'.format(i+1, j+1, k+1, l+1)\n",
    "                el = Symbol(elem_index)\n",
    "                C_x[i,j,k,l] = el\n",
    "                \n",
    "C_x"
   ]
  },
  {
   "cell_type": "markdown",
   "metadata": {},
   "source": [
    "#### Include symmetry"
   ]
  },
  {
   "cell_type": "code",
   "execution_count": 138,
   "metadata": {},
   "outputs": [
    {
     "data": {
      "image/png": "[encoded data removed]",
      "text/latex": [
       "$$\\left[\\begin{matrix}\\left[\\begin{matrix}C^{1111} & C^{1112} & C^{1113}\\\\C^{1112} & C^{1122} & C^{1123}\\\\C^{1113} & C^{1123} & C^{1133}\\end{matrix}\\right] & \\left[\\begin{matrix}C^{1112} & C^{1212} & C^{1213}\\\\C^{1212} & C^{2212} & C^{1223}\\\\C^{1213} & C^{1223} & C^{3312}\\end{matrix}\\right] & \\left[\\begin{matrix}C^{1113} & C^{1213} & C^{1313}\\\\C^{1213} & C^{2213} & C^{1323}\\\\C^{1313} & C^{1323} & C^{3313}\\end{matrix}\\right]\\\\\\left[\\begin{matrix}C^{1112} & C^{1212} & C^{1213}\\\\C^{1212} & C^{2212} & C^{1223}\\\\C^{1213} & C^{1223} & C^{3312}\\end{matrix}\\right] & \\left[\\begin{matrix}C^{1122} & C^{2212} & C^{2213}\\\\C^{2212} & C^{2222} & C^{2223}\\\\C^{2213} & C^{2223} & C^{2233}\\end{matrix}\\right] & \\left[\\begin{matrix}C^{1123} & C^{1223} & C^{1323}\\\\C^{1223} & C^{2223} & C^{2323}\\\\C^{1323} & C^{2323} & C^{3323}\\end{matrix}\\right]\\\\\\left[\\begin{matrix}C^{1113} & C^{1213} & C^{1313}\\\\C^{1213} & C^{2213} & C^{1323}\\\\C^{1313} & C^{1323} & C^{3313}\\end{matrix}\\right] & \\left[\\begin{matrix}C^{1123} & C^{1223} & C^{1323}\\\\C^{1223} & C^{2223} & C^{2323}\\\\C^{1323} & C^{2323} & C^{3323}\\end{matrix}\\right] & \\left[\\begin{matrix}C^{1133} & C^{3312} & C^{3313}\\\\C^{3312} & C^{2233} & C^{3323}\\\\C^{3313} & C^{3323} & C^{3333}\\end{matrix}\\right]\\end{matrix}\\right]$$"
      ],
      "text/plain": [
       "⎡⎡C__{1111}  C__{1112}  C__{1113}⎤  ⎡C__{1112}  C__{1212}  C__{1213}⎤  ⎡C__{11\n",
       "⎢⎢                               ⎥  ⎢                               ⎥  ⎢      \n",
       "⎢⎢C__{1112}  C__{1122}  C__{1123}⎥  ⎢C__{1212}  C__{2212}  C__{1223}⎥  ⎢C__{12\n",
       "⎢⎢                               ⎥  ⎢                               ⎥  ⎢      \n",
       "⎢⎣C__{1113}  C__{1123}  C__{1133}⎦  ⎣C__{1213}  C__{1223}  C__{3312}⎦  ⎣C__{13\n",
       "⎢                                                                             \n",
       "⎢⎡C__{1112}  C__{1212}  C__{1213}⎤  ⎡C__{1122}  C__{2212}  C__{2213}⎤  ⎡C__{11\n",
       "⎢⎢                               ⎥  ⎢                               ⎥  ⎢      \n",
       "⎢⎢C__{1212}  C__{2212}  C__{1223}⎥  ⎢C__{2212}  C__{2222}  C__{2223}⎥  ⎢C__{12\n",
       "⎢⎢                               ⎥  ⎢                               ⎥  ⎢      \n",
       "⎢⎣C__{1213}  C__{1223}  C__{3312}⎦  ⎣C__{2213}  C__{2223}  C__{2233}⎦  ⎣C__{13\n",
       "⎢                                                                             \n",
       "⎢⎡C__{1113}  C__{1213}  C__{1313}⎤  ⎡C__{1123}  C__{1223}  C__{1323}⎤  ⎡C__{11\n",
       "⎢⎢                               ⎥  ⎢                               ⎥  ⎢      \n",
       "⎢⎢C__{1213}  C__{2213}  C__{1323}⎥  ⎢C__{1223}  C__{2223}  C__{2323}⎥  ⎢C__{33\n",
       "⎢⎢                               ⎥  ⎢                               ⎥  ⎢      \n",
       "⎣⎣C__{1313}  C__{1323}  C__{3313}⎦  ⎣C__{1323}  C__{2323}  C__{3323}⎦  ⎣C__{33\n",
       "\n",
       "13}  C__{1213}  C__{1313}⎤⎤\n",
       "                         ⎥⎥\n",
       "13}  C__{2213}  C__{1323}⎥⎥\n",
       "                         ⎥⎥\n",
       "13}  C__{1323}  C__{3313}⎦⎥\n",
       "                          ⎥\n",
       "23}  C__{1223}  C__{1323}⎤⎥\n",
       "                         ⎥⎥\n",
       "23}  C__{2223}  C__{2323}⎥⎥\n",
       "                         ⎥⎥\n",
       "23}  C__{2323}  C__{3323}⎦⎥\n",
       "                          ⎥\n",
       "33}  C__{3312}  C__{3313}⎤⎥\n",
       "                         ⎥⎥\n",
       "12}  C__{2233}  C__{3323}⎥⎥\n",
       "                         ⎥⎥\n",
       "13}  C__{3323}  C__{3333}⎦⎦"
      ]
     },
     "execution_count": 138,
     "metadata": {},
     "output_type": "execute_result"
    }
   ],
   "source": [
    "C_x_symmetry = MutableDenseNDimArray.zeros(3, 3, 3, 3)\n",
    "\n",
    "def getCIndecies(index):\n",
    "    if (index == 0):\n",
    "        return 0, 0\n",
    "    elif (index == 1):\n",
    "        return 1, 1\n",
    "    elif (index == 2):\n",
    "        return 2, 2\n",
    "    elif (index == 3):\n",
    "        return 0, 1\n",
    "    elif (index == 4):\n",
    "        return 0, 2\n",
    "    elif (index == 5):\n",
    "        return 1, 2\n",
    "    \n",
    "for s in range(6):\n",
    "    for t in range(s, 6):\n",
    "        i,j = getCIndecies(s)\n",
    "        k,l = getCIndecies(t)\n",
    "        elem_index = 'C^{{{}{}{}{}}}'.format(i+1, j+1, k+1, l+1)\n",
    "        el = Symbol(elem_index)\n",
    "        C_x_symmetry[i,j,k,l] = el\n",
    "        C_x_symmetry[i,j,l,k] = el\n",
    "        C_x_symmetry[j,i,k,l] = el\n",
    "        C_x_symmetry[j,i,l,k] = el\n",
    "        C_x_symmetry[k,l,i,j] = el\n",
    "        C_x_symmetry[k,l,j,i] = el\n",
    "        C_x_symmetry[l,k,i,j] = el\n",
    "        C_x_symmetry[l,k,j,i] = el\n",
    "\n",
    "                \n",
    "C_x_symmetry"
   ]
  },
  {
   "cell_type": "markdown",
   "metadata": {},
   "source": [
    "#### Orthotropic material"
   ]
  },
  {
   "cell_type": "code",
   "execution_count": 139,
   "metadata": {},
   "outputs": [
    {
     "data": {
      "image/png": "[encoded data removed]",
      "text/latex": [
       "$$\\left[\\begin{matrix}\\left[\\begin{matrix}C^{11} & 0 & 0\\\\0 & C^{12} & 0\\\\0 & 0 & C^{13}\\end{matrix}\\right] & \\left[\\begin{matrix}0 & C^{44} & 0\\\\C^{44} & 0 & 0\\\\0 & 0 & 0\\end{matrix}\\right] & \\left[\\begin{matrix}0 & 0 & C^{55}\\\\0 & 0 & 0\\\\C^{55} & 0 & 0\\end{matrix}\\right]\\\\\\left[\\begin{matrix}0 & C^{44} & 0\\\\C^{44} & 0 & 0\\\\0 & 0 & 0\\end{matrix}\\right] & \\left[\\begin{matrix}C^{12} & 0 & 0\\\\0 & C^{22} & 0\\\\0 & 0 & C^{23}\\end{matrix}\\right] & \\left[\\begin{matrix}0 & 0 & 0\\\\0 & 0 & C^{66}\\\\0 & C^{66} & 0\\end{matrix}\\right]\\\\\\left[\\begin{matrix}0 & 0 & C^{55}\\\\0 & 0 & 0\\\\C^{55} & 0 & 0\\end{matrix}\\right] & \\left[\\begin{matrix}0 & 0 & 0\\\\0 & 0 & C^{66}\\\\0 & C^{66} & 0\\end{matrix}\\right] & \\left[\\begin{matrix}C^{13} & 0 & 0\\\\0 & C^{23} & 0\\\\0 & 0 & C^{33}\\end{matrix}\\right]\\end{matrix}\\right]$$"
      ],
      "text/plain": [
       "⎡⎡C__{11}     0        0   ⎤     ⎡   0     C__{44}  0⎤        ⎡   0     0  C__\n",
       "⎢⎢                         ⎥     ⎢                   ⎥        ⎢               \n",
       "⎢⎢   0     C__{12}     0   ⎥     ⎢C__{44}     0     0⎥        ⎢   0     0     \n",
       "⎢⎢                         ⎥     ⎢                   ⎥        ⎢               \n",
       "⎢⎣   0        0     C__{13}⎦     ⎣   0        0     0⎦        ⎣C__{55}  0     \n",
       "⎢                                                                             \n",
       "⎢   ⎡   0     C__{44}  0⎤     ⎡C__{12}     0        0   ⎤     ⎡0     0        \n",
       "⎢   ⎢                   ⎥     ⎢                         ⎥     ⎢               \n",
       "⎢   ⎢C__{44}     0     0⎥     ⎢   0     C__{22}     0   ⎥     ⎢0     0     C__\n",
       "⎢   ⎢                   ⎥     ⎢                         ⎥     ⎢               \n",
       "⎢   ⎣   0        0     0⎦     ⎣   0        0     C__{23}⎦     ⎣0  C__{66}     \n",
       "⎢                                                                             \n",
       "⎢   ⎡   0     0  C__{55}⎤        ⎡0     0        0   ⎤     ⎡C__{13}     0     \n",
       "⎢   ⎢                   ⎥        ⎢                   ⎥     ⎢                  \n",
       "⎢   ⎢   0     0     0   ⎥        ⎢0     0     C__{66}⎥     ⎢   0     C__{23}  \n",
       "⎢   ⎢                   ⎥        ⎢                   ⎥     ⎢                  \n",
       "⎣   ⎣C__{55}  0     0   ⎦        ⎣0  C__{66}     0   ⎦     ⎣   0        0     \n",
       "\n",
       "{55}⎤   ⎤\n",
       "    ⎥   ⎥\n",
       "0   ⎥   ⎥\n",
       "    ⎥   ⎥\n",
       "0   ⎦   ⎥\n",
       "        ⎥\n",
       "0   ⎤   ⎥\n",
       "    ⎥   ⎥\n",
       "{66}⎥   ⎥\n",
       "    ⎥   ⎥\n",
       "0   ⎦   ⎥\n",
       "        ⎥\n",
       "   0   ⎤⎥\n",
       "       ⎥⎥\n",
       "   0   ⎥⎥\n",
       "       ⎥⎥\n",
       "C__{33}⎦⎦"
      ]
     },
     "execution_count": 139,
     "metadata": {},
     "output_type": "execute_result"
    }
   ],
   "source": [
    "C_orthotropic = MutableDenseNDimArray.zeros(3, 3, 3, 3)\n",
    "\n",
    "C_orthotropic_matrix = zeros(6)\n",
    "\n",
    "for s in range(6):\n",
    "    for t in range(s, 6):\n",
    "        elem_index = 'C^{{{}{}}}'.format(s+1, t+1)\n",
    "        el = Symbol(elem_index)\n",
    "        if ((s < 3 and t < 3) or t == s):\n",
    "            C_orthotropic_matrix[s,t] = el\n",
    "            C_orthotropic_matrix[t,s] = el\n",
    "            \n",
    "for s in range(6):\n",
    "    for t in range(s, 6):\n",
    "        i,j = getCIndecies(s)\n",
    "        k,l = getCIndecies(t)\n",
    "        el = C_orthotropic_matrix[s, t]\n",
    "        C_orthotropic[i,j,k,l] = el\n",
    "        C_orthotropic[i,j,l,k] = el\n",
    "        C_orthotropic[j,i,k,l] = el\n",
    "        C_orthotropic[j,i,l,k] = el\n",
    "        C_orthotropic[k,l,i,j] = el\n",
    "        C_orthotropic[k,l,j,i] = el\n",
    "        C_orthotropic[l,k,i,j] = el\n",
    "        C_orthotropic[l,k,j,i] = el\n",
    "\n",
    "                \n",
    "C_orthotropic"
   ]
  },
  {
   "cell_type": "markdown",
   "metadata": {},
   "source": [
    "#### Orthotropic material in shell coordinates"
   ]
  },
  {
   "cell_type": "code",
   "execution_count": 140,
   "metadata": {},
   "outputs": [
    {
     "data": {
      "image/png": "[encoded data removed]",
      "text/latex": [
       "$$\\frac{R^{4}}{\\left(R + \\alpha_{3}\\right)^{4}} \\left(C^{11} \\cos^{4}{\\left (\\frac{1}{R} \\left(\\frac{L}{2} - \\alpha_{1}\\right) \\right )} + 2 C^{13} \\sin^{2}{\\left (\\frac{1}{R} \\left(\\frac{L}{2} - \\alpha_{1}\\right) \\right )} \\cos^{2}{\\left (\\frac{1}{R} \\left(\\frac{L}{2} - \\alpha_{1}\\right) \\right )} + C^{33} \\sin^{4}{\\left (\\frac{1}{R} \\left(\\frac{L}{2} - \\alpha_{1}\\right) \\right )} + 4 C^{55} \\sin^{2}{\\left (\\frac{1}{R} \\left(\\frac{L}{2} - \\alpha_{1}\\right) \\right )} \\cos^{2}{\\left (\\frac{1}{R} \\left(\\frac{L}{2} - \\alpha_{1}\\right) \\right )}\\right)$$"
      ],
      "text/plain": [
       "   ⎛            ⎛L     ⎞                 ⎛L     ⎞     ⎛L     ⎞               ⎛\n",
       "   ⎜            ⎜─ - α₁⎟                 ⎜─ - α₁⎟     ⎜─ - α₁⎟               ⎜\n",
       " 4 ⎜           4⎜2     ⎟                2⎜2     ⎟    2⎜2     ⎟              4⎜\n",
       "R ⋅⎜C__{11}⋅cos ⎜──────⎟ + 2⋅C__{13}⋅sin ⎜──────⎟⋅cos ⎜──────⎟ + C__{33}⋅sin ⎜\n",
       "   ⎝            ⎝  R   ⎠                 ⎝  R   ⎠     ⎝  R   ⎠               ⎝\n",
       "──────────────────────────────────────────────────────────────────────────────\n",
       "                                                                 4            \n",
       "                                                         (R + α₃)             \n",
       "\n",
       "L     ⎞                 ⎛L     ⎞     ⎛L     ⎞⎞\n",
       "─ - α₁⎟                 ⎜─ - α₁⎟     ⎜─ - α₁⎟⎟\n",
       "2     ⎟                2⎜2     ⎟    2⎜2     ⎟⎟\n",
       "──────⎟ + 4⋅C__{55}⋅sin ⎜──────⎟⋅cos ⎜──────⎟⎟\n",
       "  R   ⎠                 ⎝  R   ⎠     ⎝  R   ⎠⎠\n",
       "──────────────────────────────────────────────\n",
       "                                              \n",
       "                                              "
      ]
     },
     "execution_count": 140,
     "metadata": {},
     "output_type": "execute_result"
    }
   ],
   "source": [
    "def getCalpha(C, A, q, p, s, t):\n",
    "    res = S(0)\n",
    "    for i in range(3):\n",
    "        for j in range(3):        \n",
    "            for k in range(3):\n",
    "                for l in range(3):\n",
    "                    res += C[i,j,k,l]*A[q,i]*A[p,j]*A[s,k]*A[t,l]\n",
    "    return simplify(trigsimp(res))\n",
    "                    \n",
    "\n",
    "\n",
    "C_orthotropic_alpha = MutableDenseNDimArray.zeros(3, 3, 3, 3)\n",
    "\n",
    "for i in range(3):\n",
    "    for j in range(3):        \n",
    "        for k in range(3):\n",
    "            for l in range(3):\n",
    "                c = getCalpha(C_orthotropic, A_inv, i, j, k, l)\n",
    "                C_orthotropic_alpha[i,j,k,l] = c\n",
    "\n",
    "C_orthotropic_alpha[0,0,0,0]"
   ]
  },
  {
   "cell_type": "code",
   "execution_count": 141,
   "metadata": {},
   "outputs": [
    {
     "data": {
      "image/png": "[encoded data removed]",
      "text/latex": [
       "$$\\left[\\begin{matrix}\\frac{R^{4}}{\\left(R + \\alpha_{3}\\right)^{4}} \\left(C^{11} \\cos^{4}{\\left (\\frac{1}{R} \\left(\\frac{L}{2} - \\alpha_{1}\\right) \\right )} + 2 C^{13} \\sin^{2}{\\left (\\frac{1}{R} \\left(\\frac{L}{2} - \\alpha_{1}\\right) \\right )} \\cos^{2}{\\left (\\frac{1}{R} \\left(\\frac{L}{2} - \\alpha_{1}\\right) \\right )} + C^{33} \\sin^{4}{\\left (\\frac{1}{R} \\left(\\frac{L}{2} - \\alpha_{1}\\right) \\right )} + 4 C^{55} \\sin^{2}{\\left (\\frac{1}{R} \\left(\\frac{L}{2} - \\alpha_{1}\\right) \\right )} \\cos^{2}{\\left (\\frac{1}{R} \\left(\\frac{L}{2} - \\alpha_{1}\\right) \\right )}\\right) & \\frac{R^{2}}{\\left(R + \\alpha_{3}\\right)^{2}} \\left(C^{12} \\cos^{2}{\\left (\\frac{1}{R} \\left(\\frac{L}{2} - \\alpha_{1}\\right) \\right )} + C^{23} \\sin^{2}{\\left (\\frac{1}{R} \\left(\\frac{L}{2} - \\alpha_{1}\\right) \\right )}\\right) & \\frac{R^{2}}{\\left(R + \\alpha_{3}\\right)^{2}} \\left(C^{11} \\sin^{2}{\\left (\\frac{1}{R} \\left(\\frac{L}{2} - \\alpha_{1}\\right) \\right )} \\cos^{2}{\\left (\\frac{1}{R} \\left(\\frac{L}{2} - \\alpha_{1}\\right) \\right )} + C^{13} \\sin^{4}{\\left (\\frac{1}{R} \\left(\\frac{L}{2} - \\alpha_{1}\\right) \\right )} + C^{13} \\cos^{4}{\\left (\\frac{1}{R} \\left(\\frac{L}{2} - \\alpha_{1}\\right) \\right )} + C^{33} \\sin^{2}{\\left (\\frac{1}{R} \\left(\\frac{L}{2} - \\alpha_{1}\\right) \\right )} \\cos^{2}{\\left (\\frac{1}{R} \\left(\\frac{L}{2} - \\alpha_{1}\\right) \\right )} - 4 C^{55} \\sin^{2}{\\left (\\frac{1}{R} \\left(\\frac{L}{2} - \\alpha_{1}\\right) \\right )} \\cos^{2}{\\left (\\frac{1}{R} \\left(\\frac{L}{2} - \\alpha_{1}\\right) \\right )}\\right) & 0 & \\frac{R^{3}}{8 \\left(R + \\alpha_{3}\\right)^{3}} \\left(- 2 C^{11} \\sin{\\left (\\frac{1}{R} \\left(L - 2 \\alpha_{1}\\right) \\right )} - C^{11} \\sin{\\left (\\frac{2}{R} \\left(L - 2 \\alpha_{1}\\right) \\right )} + 2 C^{13} \\sin{\\left (\\frac{2}{R} \\left(L - 2 \\alpha_{1}\\right) \\right )} + 2 C^{33} \\sin{\\left (\\frac{1}{R} \\left(L - 2 \\alpha_{1}\\right) \\right )} - C^{33} \\sin{\\left (\\frac{2}{R} \\left(L - 2 \\alpha_{1}\\right) \\right )} + 4 C^{55} \\sin{\\left (\\frac{2}{R} \\left(L - 2 \\alpha_{1}\\right) \\right )}\\right) & 0\\\\\\frac{R^{2}}{\\left(R + \\alpha_{3}\\right)^{2}} \\left(C^{12} \\cos^{2}{\\left (\\frac{1}{R} \\left(\\frac{L}{2} - \\alpha_{1}\\right) \\right )} + C^{23} \\sin^{2}{\\left (\\frac{1}{R} \\left(\\frac{L}{2} - \\alpha_{1}\\right) \\right )}\\right) & C^{22} & C^{12} \\sin^{2}{\\left (\\frac{1}{R} \\left(\\frac{L}{2} - \\alpha_{1}\\right) \\right )} + C^{23} \\cos^{2}{\\left (\\frac{1}{R} \\left(\\frac{L}{2} - \\alpha_{1}\\right) \\right )} & 0 & - \\frac{R \\sin{\\left (\\frac{1}{R} \\left(L - 2 \\alpha_{1}\\right) \\right )}}{2 R + 2 \\alpha_{3}} \\left(C^{12} - C^{23}\\right) & 0\\\\\\frac{R^{2}}{\\left(R + \\alpha_{3}\\right)^{2}} \\left(C^{11} \\sin^{2}{\\left (\\frac{1}{R} \\left(\\frac{L}{2} - \\alpha_{1}\\right) \\right )} \\cos^{2}{\\left (\\frac{1}{R} \\left(\\frac{L}{2} - \\alpha_{1}\\right) \\right )} + C^{13} \\sin^{4}{\\left (\\frac{1}{R} \\left(\\frac{L}{2} - \\alpha_{1}\\right) \\right )} + C^{13} \\cos^{4}{\\left (\\frac{1}{R} \\left(\\frac{L}{2} - \\alpha_{1}\\right) \\right )} + C^{33} \\sin^{2}{\\left (\\frac{1}{R} \\left(\\frac{L}{2} - \\alpha_{1}\\right) \\right )} \\cos^{2}{\\left (\\frac{1}{R} \\left(\\frac{L}{2} - \\alpha_{1}\\right) \\right )} - 4 C^{55} \\sin^{2}{\\left (\\frac{1}{R} \\left(\\frac{L}{2} - \\alpha_{1}\\right) \\right )} \\cos^{2}{\\left (\\frac{1}{R} \\left(\\frac{L}{2} - \\alpha_{1}\\right) \\right )}\\right) & C^{12} \\sin^{2}{\\left (\\frac{1}{R} \\left(\\frac{L}{2} - \\alpha_{1}\\right) \\right )} + C^{23} \\cos^{2}{\\left (\\frac{1}{R} \\left(\\frac{L}{2} - \\alpha_{1}\\right) \\right )} & C^{11} \\sin^{4}{\\left (\\frac{1}{R} \\left(\\frac{L}{2} - \\alpha_{1}\\right) \\right )} + 2 C^{13} \\sin^{2}{\\left (\\frac{1}{R} \\left(\\frac{L}{2} - \\alpha_{1}\\right) \\right )} \\cos^{2}{\\left (\\frac{1}{R} \\left(\\frac{L}{2} - \\alpha_{1}\\right) \\right )} + C^{33} \\cos^{4}{\\left (\\frac{1}{R} \\left(\\frac{L}{2} - \\alpha_{1}\\right) \\right )} + 4 C^{55} \\sin^{2}{\\left (\\frac{1}{R} \\left(\\frac{L}{2} - \\alpha_{1}\\right) \\right )} \\cos^{2}{\\left (\\frac{1}{R} \\left(\\frac{L}{2} - \\alpha_{1}\\right) \\right )} & 0 & \\frac{R}{8 \\left(R + \\alpha_{3}\\right)} \\left(- 2 C^{11} \\sin{\\left (\\frac{1}{R} \\left(L - 2 \\alpha_{1}\\right) \\right )} + C^{11} \\sin{\\left (\\frac{2}{R} \\left(L - 2 \\alpha_{1}\\right) \\right )} - 2 C^{13} \\sin{\\left (\\frac{2}{R} \\left(L - 2 \\alpha_{1}\\right) \\right )} + 2 C^{33} \\sin{\\left (\\frac{1}{R} \\left(L - 2 \\alpha_{1}\\right) \\right )} + C^{33} \\sin{\\left (\\frac{2}{R} \\left(L - 2 \\alpha_{1}\\right) \\right )} - 4 C^{55} \\sin{\\left (\\frac{2}{R} \\left(L - 2 \\alpha_{1}\\right) \\right )}\\right) & 0\\\\0 & 0 & 0 & \\frac{R^{2}}{\\left(R + \\alpha_{3}\\right)^{2}} \\left(C^{44} \\cos^{2}{\\left (\\frac{1}{R} \\left(\\frac{L}{2} - \\alpha_{1}\\right) \\right )} + C^{66} \\sin^{2}{\\left (\\frac{1}{R} \\left(\\frac{L}{2} - \\alpha_{1}\\right) \\right )}\\right) & 0 & - \\frac{R \\sin{\\left (\\frac{1}{R} \\left(L - 2 \\alpha_{1}\\right) \\right )}}{2 R + 2 \\alpha_{3}} \\left(C^{44} - C^{66}\\right)\\\\\\frac{R^{3}}{8 \\left(R + \\alpha_{3}\\right)^{3}} \\left(- 2 C^{11} \\sin{\\left (\\frac{1}{R} \\left(L - 2 \\alpha_{1}\\right) \\right )} - C^{11} \\sin{\\left (\\frac{2}{R} \\left(L - 2 \\alpha_{1}\\right) \\right )} + 2 C^{13} \\sin{\\left (\\frac{2}{R} \\left(L - 2 \\alpha_{1}\\right) \\right )} + 2 C^{33} \\sin{\\left (\\frac{1}{R} \\left(L - 2 \\alpha_{1}\\right) \\right )} - C^{33} \\sin{\\left (\\frac{2}{R} \\left(L - 2 \\alpha_{1}\\right) \\right )} + 4 C^{55} \\sin{\\left (\\frac{2}{R} \\left(L - 2 \\alpha_{1}\\right) \\right )}\\right) & - \\frac{R \\sin{\\left (\\frac{1}{R} \\left(L - 2 \\alpha_{1}\\right) \\right )}}{2 R + 2 \\alpha_{3}} \\left(C^{12} - C^{23}\\right) & \\frac{R}{8 \\left(R + \\alpha_{3}\\right)} \\left(- 2 C^{11} \\sin{\\left (\\frac{1}{R} \\left(L - 2 \\alpha_{1}\\right) \\right )} + C^{11} \\sin{\\left (\\frac{2}{R} \\left(L - 2 \\alpha_{1}\\right) \\right )} - 2 C^{13} \\sin{\\left (\\frac{2}{R} \\left(L - 2 \\alpha_{1}\\right) \\right )} + 2 C^{33} \\sin{\\left (\\frac{1}{R} \\left(L - 2 \\alpha_{1}\\right) \\right )} + C^{33} \\sin{\\left (\\frac{2}{R} \\left(L - 2 \\alpha_{1}\\right) \\right )} - 4 C^{55} \\sin{\\left (\\frac{2}{R} \\left(L - 2 \\alpha_{1}\\right) \\right )}\\right) & 0 & \\frac{R^{2}}{\\left(R + \\alpha_{3}\\right)^{2}} \\left(C^{11} \\sin^{2}{\\left (\\frac{1}{R} \\left(\\frac{L}{2} - \\alpha_{1}\\right) \\right )} \\cos^{2}{\\left (\\frac{1}{R} \\left(\\frac{L}{2} - \\alpha_{1}\\right) \\right )} - 2 C^{13} \\sin^{2}{\\left (\\frac{1}{R} \\left(\\frac{L}{2} - \\alpha_{1}\\right) \\right )} \\cos^{2}{\\left (\\frac{1}{R} \\left(\\frac{L}{2} - \\alpha_{1}\\right) \\right )} + C^{33} \\sin^{2}{\\left (\\frac{1}{R} \\left(\\frac{L}{2} - \\alpha_{1}\\right) \\right )} \\cos^{2}{\\left (\\frac{1}{R} \\left(\\frac{L}{2} - \\alpha_{1}\\right) \\right )} + C^{55} \\sin^{4}{\\left (\\frac{1}{R} \\left(\\frac{L}{2} - \\alpha_{1}\\right) \\right )} - 2 C^{55} \\sin^{2}{\\left (\\frac{1}{R} \\left(\\frac{L}{2} - \\alpha_{1}\\right) \\right )} \\cos^{2}{\\left (\\frac{1}{R} \\left(\\frac{L}{2} - \\alpha_{1}\\right) \\right )} + C^{55} \\cos^{4}{\\left (\\frac{1}{R} \\left(\\frac{L}{2} - \\alpha_{1}\\right) \\right )}\\right) & 0\\\\0 & 0 & 0 & - \\frac{R \\sin{\\left (\\frac{1}{R} \\left(L - 2 \\alpha_{1}\\right) \\right )}}{2 R + 2 \\alpha_{3}} \\left(C^{44} - C^{66}\\right) & 0 & C^{44} \\sin^{2}{\\left (\\frac{1}{R} \\left(\\frac{L}{2} - \\alpha_{1}\\right) \\right )} + C^{66} \\cos^{2}{\\left (\\frac{1}{R} \\left(\\frac{L}{2} - \\alpha_{1}\\right) \\right )}\\end{matrix}\\right]$$"
      ],
      "text/plain": [
       "⎡                           ⎛            ⎛L     ⎞                 ⎛L     ⎞    \n",
       "⎢                           ⎜            ⎜─ - α₁⎟                 ⎜─ - α₁⎟    \n",
       "⎢                         4 ⎜           4⎜2     ⎟                2⎜2     ⎟    \n",
       "⎢                        R ⋅⎜C__{11}⋅cos ⎜──────⎟ + 2⋅C__{13}⋅sin ⎜──────⎟⋅cos\n",
       "⎢                           ⎝            ⎝  R   ⎠                 ⎝  R   ⎠    \n",
       "⎢                        ─────────────────────────────────────────────────────\n",
       "⎢                                                                             \n",
       "⎢                                                                             \n",
       "⎢                                                                             \n",
       "⎢                                                                 ⎛           \n",
       "⎢                                                                 ⎜           \n",
       "⎢                                                               2 ⎜           \n",
       "⎢                                                              R ⋅⎜C__{12}⋅cos\n",
       "⎢                                                                 ⎝           \n",
       "⎢                                                              ───────────────\n",
       "⎢                                                                             \n",
       "⎢                                                                             \n",
       "⎢                                                                             \n",
       "⎢          ⎛            ⎛L     ⎞     ⎛L     ⎞               ⎛L     ⎞          \n",
       "⎢          ⎜            ⎜─ - α₁⎟     ⎜─ - α₁⎟               ⎜─ - α₁⎟          \n",
       "⎢        2 ⎜           2⎜2     ⎟    2⎜2     ⎟              4⎜2     ⎟          \n",
       "⎢       R ⋅⎜C__{11}⋅sin ⎜──────⎟⋅cos ⎜──────⎟ + C__{13}⋅sin ⎜──────⎟ + C__{13}\n",
       "⎢          ⎝            ⎝  R   ⎠     ⎝  R   ⎠               ⎝  R   ⎠          \n",
       "⎢       ──────────────────────────────────────────────────────────────────────\n",
       "⎢                                                                             \n",
       "⎢                                                                             \n",
       "⎢                                                                             \n",
       "⎢                                                                             \n",
       "⎢                                                                             \n",
       "⎢                                                                             \n",
       "⎢                                                                             \n",
       "⎢                                                                             \n",
       "⎢                                                                             \n",
       "⎢                                                                             \n",
       "⎢                                                                             \n",
       "⎢                                                                             \n",
       "⎢                                                                             \n",
       "⎢                                                                             \n",
       "⎢ 3 ⎛               ⎛L - 2⋅α₁⎞              ⎛2⋅(L - 2⋅α₁)⎞                ⎛2⋅(\n",
       "⎢R ⋅⎜- 2⋅C__{11}⋅sin⎜────────⎟ - C__{11}⋅sin⎜────────────⎟ + 2⋅C__{13}⋅sin⎜───\n",
       "⎢   ⎝               ⎝   R    ⎠              ⎝     R      ⎠                ⎝   \n",
       "⎢─────────────────────────────────────────────────────────────────────────────\n",
       "⎢                                                                             \n",
       "⎢                                                                             \n",
       "⎢                                                                             \n",
       "⎢                                                                             \n",
       "⎢                                                                             \n",
       "⎢                                                                             \n",
       "⎢                                                                             \n",
       "⎣                                                                             \n",
       "\n",
       " ⎛L     ⎞               ⎛L     ⎞                 ⎛L     ⎞     ⎛L     ⎞⎞       \n",
       " ⎜─ - α₁⎟               ⎜─ - α₁⎟                 ⎜─ - α₁⎟     ⎜─ - α₁⎟⎟       \n",
       "2⎜2     ⎟              4⎜2     ⎟                2⎜2     ⎟    2⎜2     ⎟⎟       \n",
       " ⎜──────⎟ + C__{33}⋅sin ⎜──────⎟ + 4⋅C__{55}⋅sin ⎜──────⎟⋅cos ⎜──────⎟⎟       \n",
       " ⎝  R   ⎠               ⎝  R   ⎠                 ⎝  R   ⎠     ⎝  R   ⎠⎠       \n",
       "───────────────────────────────────────────────────────────────────────       \n",
       "            4                                                                 \n",
       "    (R + α₃)                                                                  \n",
       "                                                                              \n",
       " ⎛L     ⎞               ⎛L     ⎞⎞                                             \n",
       " ⎜─ - α₁⎟               ⎜─ - α₁⎟⎟                                             \n",
       "2⎜2     ⎟              2⎜2     ⎟⎟                                             \n",
       " ⎜──────⎟ + C__{23}⋅sin ⎜──────⎟⎟                                             \n",
       " ⎝  R   ⎠               ⎝  R   ⎠⎠                                             \n",
       "─────────────────────────────────                                             \n",
       "            2                                                                 \n",
       "    (R + α₃)                                                                  \n",
       "                                                                              \n",
       "     ⎛L     ⎞               ⎛L     ⎞     ⎛L     ⎞                 ⎛L     ⎞    \n",
       "     ⎜─ - α₁⎟               ⎜─ - α₁⎟     ⎜─ - α₁⎟                 ⎜─ - α₁⎟    \n",
       "    4⎜2     ⎟              2⎜2     ⎟    2⎜2     ⎟                2⎜2     ⎟    \n",
       "⋅cos ⎜──────⎟ + C__{33}⋅sin ⎜──────⎟⋅cos ⎜──────⎟ - 4⋅C__{55}⋅sin ⎜──────⎟⋅cos\n",
       "     ⎝  R   ⎠               ⎝  R   ⎠     ⎝  R   ⎠                 ⎝  R   ⎠    \n",
       "──────────────────────────────────────────────────────────────────────────────\n",
       "            2                                                                 \n",
       "    (R + α₃)                                                                  \n",
       "                                                                              \n",
       "                                                                              \n",
       "                                                                              \n",
       "                                                                              \n",
       "                                                                              \n",
       "                                                                              \n",
       "        0                                                                     \n",
       "                                                                              \n",
       "                                                                              \n",
       "                                                                              \n",
       "                                                                              \n",
       "                                                                              \n",
       "L - 2⋅α₁)⎞                ⎛L - 2⋅α₁⎞              ⎛2⋅(L - 2⋅α₁)⎞              \n",
       "─────────⎟ + 2⋅C__{33}⋅sin⎜────────⎟ - C__{33}⋅sin⎜────────────⎟ + 4⋅C__{55}⋅s\n",
       "  R      ⎠                ⎝   R    ⎠              ⎝     R      ⎠              \n",
       "──────────────────────────────────────────────────────────────────────────────\n",
       "             3                                                                \n",
       "   8⋅(R + α₃)                                                                 \n",
       "                                                                              \n",
       "                                                                              \n",
       "                                                                              \n",
       "                                                                              \n",
       "        0                                                                     \n",
       "                                                                              \n",
       "\n",
       "                      ⎛            ⎛L     ⎞               ⎛L     ⎞⎞           \n",
       "                      ⎜            ⎜─ - α₁⎟               ⎜─ - α₁⎟⎟           \n",
       "                    2 ⎜           2⎜2     ⎟              2⎜2     ⎟⎟         2 \n",
       "                   R ⋅⎜C__{12}⋅cos ⎜──────⎟ + C__{23}⋅sin ⎜──────⎟⎟        R ⋅\n",
       "                      ⎝            ⎝  R   ⎠               ⎝  R   ⎠⎠           \n",
       "                   ────────────────────────────────────────────────        ───\n",
       "                                              2                               \n",
       "                                      (R + α₃)                                \n",
       "                                                                              \n",
       "                                                                              \n",
       "                                                                              \n",
       "                                                                              \n",
       "                                                                              \n",
       "                                                                              \n",
       "                                       C__{22}                                \n",
       "                                                                              \n",
       "                                                                              \n",
       "                                                                              \n",
       " ⎛L     ⎞⎞                                                                    \n",
       " ⎜─ - α₁⎟⎟                                                                    \n",
       "2⎜2     ⎟⎟                       ⎛L     ⎞               ⎛L     ⎞              \n",
       " ⎜──────⎟⎟                       ⎜─ - α₁⎟               ⎜─ - α₁⎟              \n",
       " ⎝  R   ⎠⎠                      2⎜2     ⎟              2⎜2     ⎟              \n",
       "──────────           C__{12}⋅sin ⎜──────⎟ + C__{23}⋅cos ⎜──────⎟              \n",
       "                                 ⎝  R   ⎠               ⎝  R   ⎠              \n",
       "                                                                              \n",
       "                                                                              \n",
       "                                                                              \n",
       "                                                                              \n",
       "                                                                              \n",
       "                                                                              \n",
       "                                                                              \n",
       "                                          0                                   \n",
       "                                                                              \n",
       "                                                                              \n",
       "                                                                              \n",
       "                                                                              \n",
       "                                                                              \n",
       "  ⎛2⋅(L - 2⋅α₁)⎞⎞                                 ⎛L - 2⋅α₁⎞           ⎛      \n",
       "in⎜────────────⎟⎟       -R⋅(C__{12} - C__{23})⋅sin⎜────────⎟         R⋅⎜- 2⋅C_\n",
       "  ⎝     R      ⎠⎠                                 ⎝   R    ⎠           ⎝      \n",
       "─────────────────       ─────────────────────────────────────        ─────────\n",
       "                                      2⋅R + 2⋅α₃                              \n",
       "                                                                              \n",
       "                                                                              \n",
       "                                                                              \n",
       "                                                                              \n",
       "                                                                              \n",
       "                                          0                                   \n",
       "                                                                              \n",
       "\n",
       "⎛            ⎛L     ⎞     ⎛L     ⎞               ⎛L     ⎞               ⎛L    \n",
       "⎜            ⎜─ - α₁⎟     ⎜─ - α₁⎟               ⎜─ - α₁⎟               ⎜─ - α\n",
       "⎜           2⎜2     ⎟    2⎜2     ⎟              4⎜2     ⎟              4⎜2    \n",
       "⎜C__{11}⋅sin ⎜──────⎟⋅cos ⎜──────⎟ + C__{13}⋅sin ⎜──────⎟ + C__{13}⋅cos ⎜─────\n",
       "⎝            ⎝  R   ⎠     ⎝  R   ⎠               ⎝  R   ⎠               ⎝  R  \n",
       "──────────────────────────────────────────────────────────────────────────────\n",
       "                                                                              \n",
       "                                                                       (R + α₃\n",
       "                                                                              \n",
       "                                                                              \n",
       "                                                                              \n",
       "                                                                   ⎛L     ⎞   \n",
       "                                                                   ⎜─ - α₁⎟   \n",
       "                                                                  2⎜2     ⎟   \n",
       "                                                       C__{12}⋅sin ⎜──────⎟ + \n",
       "                                                                   ⎝  R   ⎠   \n",
       "                                                                              \n",
       "                                                                              \n",
       "                                                                              \n",
       "                                                                              \n",
       "                             ⎛L     ⎞                 ⎛L     ⎞     ⎛L     ⎞   \n",
       "                             ⎜─ - α₁⎟                 ⎜─ - α₁⎟     ⎜─ - α₁⎟   \n",
       "                            4⎜2     ⎟                2⎜2     ⎟    2⎜2     ⎟   \n",
       "                 C__{11}⋅sin ⎜──────⎟ + 2⋅C__{13}⋅sin ⎜──────⎟⋅cos ⎜──────⎟ + \n",
       "                             ⎝  R   ⎠                 ⎝  R   ⎠     ⎝  R   ⎠   \n",
       "                                                                              \n",
       "                                                                              \n",
       "                                                                              \n",
       "                                                                              \n",
       "                                                                              \n",
       "                                                                              \n",
       "                                                                              \n",
       "                                                                            0 \n",
       "                                                                              \n",
       "                                                                              \n",
       "                                                                              \n",
       "                                                                              \n",
       "                                                                              \n",
       "         ⎛L - 2⋅α₁⎞              ⎛2⋅(L - 2⋅α₁)⎞                ⎛2⋅(L - 2⋅α₁)⎞ \n",
       "_{11}⋅sin⎜────────⎟ + C__{11}⋅sin⎜────────────⎟ - 2⋅C__{13}⋅sin⎜────────────⎟ \n",
       "         ⎝   R    ⎠              ⎝     R      ⎠                ⎝     R      ⎠ \n",
       "──────────────────────────────────────────────────────────────────────────────\n",
       "                                                                        8⋅(R +\n",
       "                                                                              \n",
       "                                                                              \n",
       "                                                                              \n",
       "                                                                              \n",
       "                                                                              \n",
       "                                                                            0 \n",
       "                                                                              \n",
       "\n",
       " ⎞               ⎛L     ⎞     ⎛L     ⎞                 ⎛L     ⎞     ⎛L     ⎞⎞ \n",
       "₁⎟               ⎜─ - α₁⎟     ⎜─ - α₁⎟                 ⎜─ - α₁⎟     ⎜─ - α₁⎟⎟ \n",
       " ⎟              2⎜2     ⎟    2⎜2     ⎟                2⎜2     ⎟    2⎜2     ⎟⎟ \n",
       "─⎟ + C__{33}⋅sin ⎜──────⎟⋅cos ⎜──────⎟ - 4⋅C__{55}⋅sin ⎜──────⎟⋅cos ⎜──────⎟⎟ \n",
       " ⎠               ⎝  R   ⎠     ⎝  R   ⎠                 ⎝  R   ⎠     ⎝  R   ⎠⎠ \n",
       "───────────────────────────────────────────────────────────────────────────── \n",
       " 2                                                                            \n",
       ")                                                                             \n",
       "                                                                              \n",
       "                                                                              \n",
       "                                                                              \n",
       "            ⎛L     ⎞                                                          \n",
       "            ⎜─ - α₁⎟                                                          \n",
       "           2⎜2     ⎟                                                          \n",
       "C__{23}⋅cos ⎜──────⎟                                                          \n",
       "            ⎝  R   ⎠                                                          \n",
       "                                                                              \n",
       "                                                                              \n",
       "                                                                              \n",
       "                                                                              \n",
       "            ⎛L     ⎞                 ⎛L     ⎞     ⎛L     ⎞                    \n",
       "            ⎜─ - α₁⎟                 ⎜─ - α₁⎟     ⎜─ - α₁⎟                    \n",
       "           4⎜2     ⎟                2⎜2     ⎟    2⎜2     ⎟                    \n",
       "C__{33}⋅cos ⎜──────⎟ + 4⋅C__{55}⋅sin ⎜──────⎟⋅cos ⎜──────⎟                    \n",
       "            ⎝  R   ⎠                 ⎝  R   ⎠     ⎝  R   ⎠                    \n",
       "                                                                              \n",
       "                                                                              \n",
       "                                                                              \n",
       "                                                                              \n",
       "                                                                              \n",
       "                                                                              \n",
       "                                                                              \n",
       "                                                                              \n",
       "                                                                              \n",
       "                                                                              \n",
       "                                                                              \n",
       "                                                                              \n",
       "                                                                              \n",
       "               ⎛L - 2⋅α₁⎞              ⎛2⋅(L - 2⋅α₁)⎞                ⎛2⋅(L - 2\n",
       "+ 2⋅C__{33}⋅sin⎜────────⎟ + C__{33}⋅sin⎜────────────⎟ - 4⋅C__{55}⋅sin⎜────────\n",
       "               ⎝   R    ⎠              ⎝     R      ⎠                ⎝     R  \n",
       "──────────────────────────────────────────────────────────────────────────────\n",
       " α₃)                                                                          \n",
       "                                                                              \n",
       "                                                                              \n",
       "                                                                              \n",
       "                                                                              \n",
       "                                                                              \n",
       "                                                                              \n",
       "                                                                              \n",
       "\n",
       "                                                                              \n",
       "                                                                              \n",
       "                                                                       3 ⎛    \n",
       "                                                                      R ⋅⎜- 2⋅\n",
       "                                                                         ⎝    \n",
       "                               0                                      ────────\n",
       "                                                                              \n",
       "                                                                              \n",
       "                                                                              \n",
       "                                                                              \n",
       "                                                                              \n",
       "                                                                              \n",
       "                                                                              \n",
       "                                                                              \n",
       "                               0                                              \n",
       "                                                                              \n",
       "                                                                              \n",
       "                                                                              \n",
       "                                                                              \n",
       "                                                                              \n",
       "                                                                        ⎛     \n",
       "                                                                      R⋅⎜- 2⋅C\n",
       "                                                                        ⎝     \n",
       "                               0                                      ────────\n",
       "                                                                              \n",
       "                                                                              \n",
       "                                                                              \n",
       "           ⎛            ⎛L     ⎞               ⎛L     ⎞⎞                      \n",
       "           ⎜            ⎜─ - α₁⎟               ⎜─ - α₁⎟⎟                      \n",
       "         2 ⎜           2⎜2     ⎟              2⎜2     ⎟⎟                      \n",
       "        R ⋅⎜C__{44}⋅cos ⎜──────⎟ + C__{66}⋅sin ⎜──────⎟⎟                      \n",
       "           ⎝            ⎝  R   ⎠               ⎝  R   ⎠⎠                      \n",
       "        ────────────────────────────────────────────────                      \n",
       "                                   2                                          \n",
       "                           (R + α₃)                                           \n",
       "                                                                              \n",
       "                                                             ⎛            ⎛L  \n",
       "                                                             ⎜            ⎜─ -\n",
       "⋅α₁)⎞⎞                                                     2 ⎜           2⎜2  \n",
       "────⎟⎟                                                    R ⋅⎜C__{11}⋅sin ⎜───\n",
       "    ⎠⎠                                                       ⎝            ⎝  R\n",
       "──────                         0                          ────────────────────\n",
       "                                                                              \n",
       "                                                                              \n",
       "                                                                              \n",
       "                                       ⎛L - 2⋅α₁⎞                             \n",
       "             -R⋅(C__{44} - C__{66})⋅sin⎜────────⎟                             \n",
       "                                       ⎝   R    ⎠                             \n",
       "             ─────────────────────────────────────                            \n",
       "                           2⋅R + 2⋅α₃                                         \n",
       "\n",
       "                                                                              \n",
       "                                                                              \n",
       "           ⎛L - 2⋅α₁⎞              ⎛2⋅(L - 2⋅α₁)⎞                ⎛2⋅(L - 2⋅α₁)\n",
       "C__{11}⋅sin⎜────────⎟ - C__{11}⋅sin⎜────────────⎟ + 2⋅C__{13}⋅sin⎜────────────\n",
       "           ⎝   R    ⎠              ⎝     R      ⎠                ⎝     R      \n",
       "──────────────────────────────────────────────────────────────────────────────\n",
       "                                                                              \n",
       "                                                                        8⋅(R +\n",
       "                                                                              \n",
       "                                                                              \n",
       "                                                                              \n",
       "                                                                              \n",
       "                                                           -R⋅(C__{12} - C__{2\n",
       "                                                                              \n",
       "                                                           ───────────────────\n",
       "                                                                         2⋅R +\n",
       "                                                                              \n",
       "                                                                              \n",
       "                                                                              \n",
       "                                                                              \n",
       "          ⎛L - 2⋅α₁⎞              ⎛2⋅(L - 2⋅α₁)⎞                ⎛2⋅(L - 2⋅α₁)⎞\n",
       "__{11}⋅sin⎜────────⎟ + C__{11}⋅sin⎜────────────⎟ - 2⋅C__{13}⋅sin⎜────────────⎟\n",
       "          ⎝   R    ⎠              ⎝     R      ⎠                ⎝     R      ⎠\n",
       "──────────────────────────────────────────────────────────────────────────────\n",
       "                                                                         8⋅(R \n",
       "                                                                              \n",
       "                                                                              \n",
       "                                                                              \n",
       "                                                                              \n",
       "                                                                              \n",
       "                                                                              \n",
       "                                                                              \n",
       "                                                                             0\n",
       "                                                                              \n",
       "                                                                              \n",
       "                                                                              \n",
       "   ⎞     ⎛L     ⎞                 ⎛L     ⎞     ⎛L     ⎞               ⎛L     ⎞\n",
       " α₁⎟     ⎜─ - α₁⎟                 ⎜─ - α₁⎟     ⎜─ - α₁⎟               ⎜─ - α₁⎟\n",
       "   ⎟    2⎜2     ⎟                2⎜2     ⎟    2⎜2     ⎟              2⎜2     ⎟\n",
       "───⎟⋅cos ⎜──────⎟ - 2⋅C__{13}⋅sin ⎜──────⎟⋅cos ⎜──────⎟ + C__{33}⋅sin ⎜──────⎟\n",
       "   ⎠     ⎝  R   ⎠                 ⎝  R   ⎠     ⎝  R   ⎠               ⎝  R   ⎠\n",
       "──────────────────────────────────────────────────────────────────────────────\n",
       "                                                                              \n",
       "                                                                         (R + \n",
       "                                                                              \n",
       "                                                                              \n",
       "                                                                              \n",
       "                                                                              \n",
       "                                                                             0\n",
       "                                                                              \n",
       "\n",
       "                                                                              \n",
       "                                                                              \n",
       "⎞                ⎛L - 2⋅α₁⎞              ⎛2⋅(L - 2⋅α₁)⎞                ⎛2⋅(L -\n",
       "⎟ + 2⋅C__{33}⋅sin⎜────────⎟ - C__{33}⋅sin⎜────────────⎟ + 4⋅C__{55}⋅sin⎜──────\n",
       "⎠                ⎝   R    ⎠              ⎝     R      ⎠                ⎝     R\n",
       "──────────────────────────────────────────────────────────────────────────────\n",
       "    3                                                                         \n",
       " α₃)                                                                          \n",
       "                                                                              \n",
       "                                                                              \n",
       "                                                                              \n",
       "       ⎛L - 2⋅α₁⎞                                                             \n",
       "3})⋅sin⎜────────⎟                                                             \n",
       "       ⎝   R    ⎠                                                             \n",
       "──────────────────                                                            \n",
       " 2⋅α₃                                                                         \n",
       "                                                                              \n",
       "                                                                              \n",
       "                                                                              \n",
       "                                                                              \n",
       "                ⎛L - 2⋅α₁⎞              ⎛2⋅(L - 2⋅α₁)⎞                ⎛2⋅(L - \n",
       " + 2⋅C__{33}⋅sin⎜────────⎟ + C__{33}⋅sin⎜────────────⎟ - 4⋅C__{55}⋅sin⎜───────\n",
       "                ⎝   R    ⎠              ⎝     R      ⎠                ⎝     R \n",
       "──────────────────────────────────────────────────────────────────────────────\n",
       "+ α₃)                                                                         \n",
       "                                                                              \n",
       "                                                                              \n",
       "                                                                              \n",
       "                                                                              \n",
       "                                                                              \n",
       "                                                                              \n",
       "                                                                              \n",
       "                                                                              \n",
       "                                                                              \n",
       "                                                                              \n",
       "                                                                              \n",
       "     ⎛L     ⎞               ⎛L     ⎞                 ⎛L     ⎞     ⎛L     ⎞    \n",
       "     ⎜─ - α₁⎟               ⎜─ - α₁⎟                 ⎜─ - α₁⎟     ⎜─ - α₁⎟    \n",
       "    2⎜2     ⎟              4⎜2     ⎟                2⎜2     ⎟    2⎜2     ⎟    \n",
       "⋅cos ⎜──────⎟ + C__{55}⋅sin ⎜──────⎟ - 2⋅C__{55}⋅sin ⎜──────⎟⋅cos ⎜──────⎟ + C\n",
       "     ⎝  R   ⎠               ⎝  R   ⎠                 ⎝  R   ⎠     ⎝  R   ⎠    \n",
       "──────────────────────────────────────────────────────────────────────────────\n",
       "   2                                                                          \n",
       "α₃)                                                                           \n",
       "                                                                              \n",
       "                                                                              \n",
       "                                                                              \n",
       "                                                                              \n",
       "                                                                              \n",
       "                                                                              \n",
       "\n",
       "                                                                 ⎤\n",
       "                                                                 ⎥\n",
       " 2⋅α₁)⎞⎞                                                         ⎥\n",
       "──────⎟⎟                                                         ⎥\n",
       "      ⎠⎠                                                         ⎥\n",
       "────────                                   0                     ⎥\n",
       "                                                                 ⎥\n",
       "                                                                 ⎥\n",
       "                                                                 ⎥\n",
       "                                                                 ⎥\n",
       "                                                                 ⎥\n",
       "                                                                 ⎥\n",
       "                                                                 ⎥\n",
       "                                                                 ⎥\n",
       "                                           0                     ⎥\n",
       "                                                                 ⎥\n",
       "                                                                 ⎥\n",
       "                                                                 ⎥\n",
       "                                                                 ⎥\n",
       "                                                                 ⎥\n",
       "2⋅α₁)⎞⎞                                                          ⎥\n",
       "─────⎟⎟                                                          ⎥\n",
       "     ⎠⎠                                                          ⎥\n",
       "───────                                    0                     ⎥\n",
       "                                                                 ⎥\n",
       "                                                                 ⎥\n",
       "                                                                 ⎥\n",
       "                                                                 ⎥\n",
       "                                                                 ⎥\n",
       "                                                   ⎛L - 2⋅α₁⎞    ⎥\n",
       "                         -R⋅(C__{44} - C__{66})⋅sin⎜────────⎟    ⎥\n",
       "                                                   ⎝   R    ⎠    ⎥\n",
       "                         ─────────────────────────────────────   ⎥\n",
       "                                       2⋅R + 2⋅α₃                ⎥\n",
       "                                                                 ⎥\n",
       "                                                                 ⎥\n",
       "           ⎛L     ⎞⎞                                             ⎥\n",
       "           ⎜─ - α₁⎟⎟                                             ⎥\n",
       "          4⎜2     ⎟⎟                                             ⎥\n",
       "__{55}⋅cos ⎜──────⎟⎟                                             ⎥\n",
       "           ⎝  R   ⎠⎠                                             ⎥\n",
       "────────────────────                       0                     ⎥\n",
       "                                                                 ⎥\n",
       "                                                                 ⎥\n",
       "                                                                 ⎥\n",
       "                                  ⎛L     ⎞               ⎛L     ⎞⎥\n",
       "                                  ⎜─ - α₁⎟               ⎜─ - α₁⎟⎥\n",
       "                                 2⎜2     ⎟              2⎜2     ⎟⎥\n",
       "                      C__{44}⋅sin ⎜──────⎟ + C__{66}⋅cos ⎜──────⎟⎥\n",
       "                                  ⎝  R   ⎠               ⎝  R   ⎠⎦"
      ]
     },
     "execution_count": 141,
     "metadata": {},
     "output_type": "execute_result"
    }
   ],
   "source": [
    "C_orthotropic_matrix_alpha = zeros(6)\n",
    "\n",
    "for s in range(6):\n",
    "    for t in range(6):\n",
    "        i,j = getCIndecies(s)\n",
    "        k,l = getCIndecies(t)\n",
    "        C_orthotropic_matrix_alpha[s,t] = C_orthotropic_alpha[i,j,k,l]\n",
    "        \n",
    "C_orthotropic_matrix_alpha"
   ]
  },
  {
   "cell_type": "markdown",
   "metadata": {},
   "source": [
    "#### Virtual work"
   ]
  },
  {
   "cell_type": "code",
   "execution_count": 79,
   "metadata": {
    "collapsed": true
   },
   "outputs": [],
   "source": [
    "def contraction3DSameRank(A,B):\n",
    "    res = S(0)\n",
    "    for i in range(3):\n",
    "        for j in range(3):\n",
    "            res += A[i,j]*B[j,i]\n",
    "    return res\n",
    "\n",
    "def contraction3D(C,e):\n",
    "    res = MutableDenseNDimArray.zeros(3, 3)\n",
    "    for i in range(3):\n",
    "        for j in range(3):\n",
    "            res[i,j] = S(0)\n",
    "            for k in range(3):\n",
    "                for l in range(3):\n",
    "                    res[i,j] += C[i,j,k,l]*e[k,l]\n",
    "    return res\n"
   ]
  },
  {
   "cell_type": "code",
   "execution_count": 82,
   "metadata": {
    "collapsed": true
   },
   "outputs": [],
   "source": [
    "e11 = Symbol(\"e_{11}\")\n",
    "e12 = Symbol(\"e_{12}\")\n",
    "e22 = Symbol(\"e_{22}\")\n",
    "e13 = Symbol(\"e_{13}\")\n",
    "e23 = Symbol(\"e_{23}\")\n",
    "e33 = Symbol(\"e_{33}\")\n",
    "# s11 = Symbol(\"s_{11}\")\n",
    "# s12 = Symbol(\"s_{12}\")\n",
    "# s22 = Symbol(\"s_{22}\")\n",
    "\n",
    "e=Matrix([[e11, e12, e13], [e12, e22, e23], [e13, e23, e33]])\n",
    "\n",
    "s=contraction3D(C_alpha, e)\n",
    "\n",
    "E=contraction3DSameRank(s, e)\n",
    "\n",
    "\n"
   ]
  },
  {
   "cell_type": "code",
   "execution_count": 83,
   "metadata": {
    "collapsed": true
   },
   "outputs": [],
   "source": [
    "E_s = trigsimp(E)\n"
   ]
  },
  {
   "cell_type": "code",
   "execution_count": 91,
   "metadata": {},
   "outputs": [
    {
     "data": {
      "image/png": "[encoded data removed]",
      "text/latex": [
       "$$e_{11} \\left(\\frac{R^{4} e_{11}}{\\left(R - \\alpha_{2}\\right)^{4}} \\left(C^{11} \\cos^{4}{\\left (\\frac{1}{R} \\left(\\frac{L}{2} - \\alpha_{1}\\right) \\right )} + 2 C^{12} \\sin^{2}{\\left (\\frac{1}{R} \\left(\\frac{L}{2} - \\alpha_{1}\\right) \\right )} \\cos^{2}{\\left (\\frac{1}{R} \\left(\\frac{L}{2} - \\alpha_{1}\\right) \\right )} + C^{22} \\sin^{4}{\\left (\\frac{1}{R} \\left(\\frac{L}{2} - \\alpha_{1}\\right) \\right )} + 4 C^{44} \\sin^{2}{\\left (\\frac{1}{R} \\left(\\frac{L}{2} - \\alpha_{1}\\right) \\right )} \\cos^{2}{\\left (\\frac{1}{R} \\left(\\frac{L}{2} - \\alpha_{1}\\right) \\right )}\\right) + \\frac{R^{3} e_{12}}{4 \\left(R - \\alpha_{2}\\right)^{3}} \\left(2 C^{11} \\sin{\\left (\\frac{1}{R} \\left(L - 2 \\alpha_{1}\\right) \\right )} + C^{11} \\sin{\\left (\\frac{2}{R} \\left(L - 2 \\alpha_{1}\\right) \\right )} - 2 C^{12} \\sin{\\left (\\frac{2}{R} \\left(L - 2 \\alpha_{1}\\right) \\right )} - 2 C^{22} \\sin{\\left (\\frac{1}{R} \\left(L - 2 \\alpha_{1}\\right) \\right )} + C^{22} \\sin{\\left (\\frac{2}{R} \\left(L - 2 \\alpha_{1}\\right) \\right )} - 4 C^{44} \\sin{\\left (\\frac{2}{R} \\left(L - 2 \\alpha_{1}\\right) \\right )}\\right) + \\frac{R^{2} e_{22}}{\\left(R - \\alpha_{2}\\right)^{2}} \\left(C^{11} \\sin^{2}{\\left (\\frac{1}{R} \\left(\\frac{L}{2} - \\alpha_{1}\\right) \\right )} \\cos^{2}{\\left (\\frac{1}{R} \\left(\\frac{L}{2} - \\alpha_{1}\\right) \\right )} + C^{12} \\sin^{4}{\\left (\\frac{1}{R} \\left(\\frac{L}{2} - \\alpha_{1}\\right) \\right )} + C^{12} \\cos^{4}{\\left (\\frac{1}{R} \\left(\\frac{L}{2} - \\alpha_{1}\\right) \\right )} + C^{22} \\sin^{2}{\\left (\\frac{1}{R} \\left(\\frac{L}{2} - \\alpha_{1}\\right) \\right )} \\cos^{2}{\\left (\\frac{1}{R} \\left(\\frac{L}{2} - \\alpha_{1}\\right) \\right )} - 4 C^{44} \\sin^{2}{\\left (\\frac{1}{R} \\left(\\frac{L}{2} - \\alpha_{1}\\right) \\right )} \\cos^{2}{\\left (\\frac{1}{R} \\left(\\frac{L}{2} - \\alpha_{1}\\right) \\right )}\\right) + \\frac{R^{2} e_{33}}{\\left(R - \\alpha_{2}\\right)^{2}} \\left(C^{13} \\cos^{2}{\\left (\\frac{1}{R} \\left(\\frac{L}{2} - \\alpha_{1}\\right) \\right )} + C^{23} \\sin^{2}{\\left (\\frac{1}{R} \\left(\\frac{L}{2} - \\alpha_{1}\\right) \\right )}\\right)\\right) + 2 e_{12} \\left(\\frac{R^{3} e_{11}}{8 \\left(R - \\alpha_{2}\\right)^{3}} \\left(2 C^{11} \\sin{\\left (\\frac{1}{R} \\left(L - 2 \\alpha_{1}\\right) \\right )} + C^{11} \\sin{\\left (\\frac{2}{R} \\left(L - 2 \\alpha_{1}\\right) \\right )} - 2 C^{12} \\sin{\\left (\\frac{2}{R} \\left(L - 2 \\alpha_{1}\\right) \\right )} - 2 C^{22} \\sin{\\left (\\frac{1}{R} \\left(L - 2 \\alpha_{1}\\right) \\right )} + C^{22} \\sin{\\left (\\frac{2}{R} \\left(L - 2 \\alpha_{1}\\right) \\right )} - 4 C^{44} \\sin{\\left (\\frac{2}{R} \\left(L - 2 \\alpha_{1}\\right) \\right )}\\right) + \\frac{2 R^{2} e_{12}}{\\left(R - \\alpha_{2}\\right)^{2}} \\left(C^{11} \\sin^{2}{\\left (\\frac{1}{R} \\left(\\frac{L}{2} - \\alpha_{1}\\right) \\right )} \\cos^{2}{\\left (\\frac{1}{R} \\left(\\frac{L}{2} - \\alpha_{1}\\right) \\right )} - 2 C^{12} \\sin^{2}{\\left (\\frac{1}{R} \\left(\\frac{L}{2} - \\alpha_{1}\\right) \\right )} \\cos^{2}{\\left (\\frac{1}{R} \\left(\\frac{L}{2} - \\alpha_{1}\\right) \\right )} + C^{22} \\sin^{2}{\\left (\\frac{1}{R} \\left(\\frac{L}{2} - \\alpha_{1}\\right) \\right )} \\cos^{2}{\\left (\\frac{1}{R} \\left(\\frac{L}{2} - \\alpha_{1}\\right) \\right )} + C^{44} \\sin^{4}{\\left (\\frac{1}{R} \\left(\\frac{L}{2} - \\alpha_{1}\\right) \\right )} - 2 C^{44} \\sin^{2}{\\left (\\frac{1}{R} \\left(\\frac{L}{2} - \\alpha_{1}\\right) \\right )} \\cos^{2}{\\left (\\frac{1}{R} \\left(\\frac{L}{2} - \\alpha_{1}\\right) \\right )} + C^{44} \\cos^{4}{\\left (\\frac{1}{R} \\left(\\frac{L}{2} - \\alpha_{1}\\right) \\right )}\\right) + \\frac{R e_{22}}{8 \\left(R - \\alpha_{2}\\right)} \\left(2 C^{11} \\sin{\\left (\\frac{1}{R} \\left(L - 2 \\alpha_{1}\\right) \\right )} - C^{11} \\sin{\\left (\\frac{2}{R} \\left(L - 2 \\alpha_{1}\\right) \\right )} + 2 C^{12} \\sin{\\left (\\frac{2}{R} \\left(L - 2 \\alpha_{1}\\right) \\right )} - 2 C^{22} \\sin{\\left (\\frac{1}{R} \\left(L - 2 \\alpha_{1}\\right) \\right )} - C^{22} \\sin{\\left (\\frac{2}{R} \\left(L - 2 \\alpha_{1}\\right) \\right )} + 4 C^{44} \\sin{\\left (\\frac{2}{R} \\left(L - 2 \\alpha_{1}\\right) \\right )}\\right) + \\frac{R e_{33}}{2 \\left(R - \\alpha_{2}\\right)} \\left(C^{13} - C^{23}\\right) \\sin{\\left (\\frac{1}{R} \\left(L - 2 \\alpha_{1}\\right) \\right )}\\right) + 2 e_{13} \\left(\\frac{2 R^{2} e_{13}}{\\left(R - \\alpha_{2}\\right)^{2}} \\left(C^{55} \\cos^{2}{\\left (\\frac{1}{R} \\left(\\frac{L}{2} - \\alpha_{1}\\right) \\right )} + C^{66} \\sin^{2}{\\left (\\frac{1}{R} \\left(\\frac{L}{2} - \\alpha_{1}\\right) \\right )}\\right) + \\frac{R e_{23}}{R - \\alpha_{2}} \\left(C^{55} - C^{66}\\right) \\sin{\\left (\\frac{1}{R} \\left(L - 2 \\alpha_{1}\\right) \\right )}\\right) + e_{22} \\left(\\frac{R^{2} e_{11}}{\\left(R - \\alpha_{2}\\right)^{2}} \\left(C^{11} \\sin^{2}{\\left (\\frac{1}{R} \\left(\\frac{L}{2} - \\alpha_{1}\\right) \\right )} \\cos^{2}{\\left (\\frac{1}{R} \\left(\\frac{L}{2} - \\alpha_{1}\\right) \\right )} + C^{12} \\sin^{4}{\\left (\\frac{1}{R} \\left(\\frac{L}{2} - \\alpha_{1}\\right) \\right )} + C^{12} \\cos^{4}{\\left (\\frac{1}{R} \\left(\\frac{L}{2} - \\alpha_{1}\\right) \\right )} + C^{22} \\sin^{2}{\\left (\\frac{1}{R} \\left(\\frac{L}{2} - \\alpha_{1}\\right) \\right )} \\cos^{2}{\\left (\\frac{1}{R} \\left(\\frac{L}{2} - \\alpha_{1}\\right) \\right )} - 4 C^{44} \\sin^{2}{\\left (\\frac{1}{R} \\left(\\frac{L}{2} - \\alpha_{1}\\right) \\right )} \\cos^{2}{\\left (\\frac{1}{R} \\left(\\frac{L}{2} - \\alpha_{1}\\right) \\right )}\\right) + \\frac{R e_{12}}{4 \\left(R - \\alpha_{2}\\right)} \\left(2 C^{11} \\sin{\\left (\\frac{1}{R} \\left(L - 2 \\alpha_{1}\\right) \\right )} - C^{11} \\sin{\\left (\\frac{2}{R} \\left(L - 2 \\alpha_{1}\\right) \\right )} + 2 C^{12} \\sin{\\left (\\frac{2}{R} \\left(L - 2 \\alpha_{1}\\right) \\right )} - 2 C^{22} \\sin{\\left (\\frac{1}{R} \\left(L - 2 \\alpha_{1}\\right) \\right )} - C^{22} \\sin{\\left (\\frac{2}{R} \\left(L - 2 \\alpha_{1}\\right) \\right )} + 4 C^{44} \\sin{\\left (\\frac{2}{R} \\left(L - 2 \\alpha_{1}\\right) \\right )}\\right) + e_{22} \\left(C^{11} \\sin^{4}{\\left (\\frac{1}{R} \\left(\\frac{L}{2} - \\alpha_{1}\\right) \\right )} + 2 C^{12} \\sin^{2}{\\left (\\frac{1}{R} \\left(\\frac{L}{2} - \\alpha_{1}\\right) \\right )} \\cos^{2}{\\left (\\frac{1}{R} \\left(\\frac{L}{2} - \\alpha_{1}\\right) \\right )} + C^{22} \\cos^{4}{\\left (\\frac{1}{R} \\left(\\frac{L}{2} - \\alpha_{1}\\right) \\right )} + 4 C^{44} \\sin^{2}{\\left (\\frac{1}{R} \\left(\\frac{L}{2} - \\alpha_{1}\\right) \\right )} \\cos^{2}{\\left (\\frac{1}{R} \\left(\\frac{L}{2} - \\alpha_{1}\\right) \\right )}\\right) + e_{33} \\left(C^{13} \\sin^{2}{\\left (\\frac{1}{R} \\left(\\frac{L}{2} - \\alpha_{1}\\right) \\right )} + C^{23} \\cos^{2}{\\left (\\frac{1}{R} \\left(\\frac{L}{2} - \\alpha_{1}\\right) \\right )}\\right)\\right) + 2 e_{23} \\left(\\frac{R e_{13}}{R - \\alpha_{2}} \\left(C^{55} - C^{66}\\right) \\sin{\\left (\\frac{1}{R} \\left(L - 2 \\alpha_{1}\\right) \\right )} + 2 e_{23} \\left(C^{55} \\sin^{2}{\\left (\\frac{1}{R} \\left(\\frac{L}{2} - \\alpha_{1}\\right) \\right )} + C^{66} \\cos^{2}{\\left (\\frac{1}{R} \\left(\\frac{L}{2} - \\alpha_{1}\\right) \\right )}\\right)\\right) + e_{33} \\left(C^{33} e_{33} + \\frac{R^{2} e_{11}}{\\left(R - \\alpha_{2}\\right)^{2}} \\left(C^{13} \\cos^{2}{\\left (\\frac{1}{R} \\left(\\frac{L}{2} - \\alpha_{1}\\right) \\right )} + C^{23} \\sin^{2}{\\left (\\frac{1}{R} \\left(\\frac{L}{2} - \\alpha_{1}\\right) \\right )}\\right) + \\frac{R e_{12}}{R - \\alpha_{2}} \\left(C^{13} - C^{23}\\right) \\sin{\\left (\\frac{1}{R} \\left(L - 2 \\alpha_{1}\\right) \\right )} + e_{22} \\left(C^{13} \\sin^{2}{\\left (\\frac{1}{R} \\left(\\frac{L}{2} - \\alpha_{1}\\right) \\right )} + C^{23} \\cos^{2}{\\left (\\frac{1}{R} \\left(\\frac{L}{2} - \\alpha_{1}\\right) \\right )}\\right)\\right)$$"
      ],
      "text/plain": [
       "       ⎛          ⎛            ⎛L     ⎞                 ⎛L     ⎞     ⎛L     ⎞ \n",
       "       ⎜          ⎜            ⎜─ - α₁⎟                 ⎜─ - α₁⎟     ⎜─ - α₁⎟ \n",
       "       ⎜ 4        ⎜           4⎜2     ⎟                2⎜2     ⎟    2⎜2     ⎟ \n",
       "       ⎜R ⋅e_{11}⋅⎜C__{11}⋅cos ⎜──────⎟ + 2⋅C__{12}⋅sin ⎜──────⎟⋅cos ⎜──────⎟ \n",
       "       ⎜          ⎝            ⎝  R   ⎠                 ⎝  R   ⎠     ⎝  R   ⎠ \n",
       "e_{11}⋅⎜──────────────────────────────────────────────────────────────────────\n",
       "       ⎜                                                                     4\n",
       "       ⎝                                                             (R - α₂) \n",
       "\n",
       "              ⎛L     ⎞                 ⎛L     ⎞     ⎛L     ⎞⎞                 \n",
       "              ⎜─ - α₁⎟                 ⎜─ - α₁⎟     ⎜─ - α₁⎟⎟                 \n",
       "             4⎜2     ⎟                2⎜2     ⎟    2⎜2     ⎟⎟    3        ⎛   \n",
       "+ C__{22}⋅sin ⎜──────⎟ + 4⋅C__{44}⋅sin ⎜──────⎟⋅cos ⎜──────⎟⎟   R ⋅e_{12}⋅⎜2⋅C\n",
       "              ⎝  R   ⎠                 ⎝  R   ⎠     ⎝  R   ⎠⎠             ⎝   \n",
       "───────────────────────────────────────────────────────────── + ──────────────\n",
       "                                                                              \n",
       "                                                                              \n",
       "\n",
       "                                                                              \n",
       "                                                                              \n",
       "          ⎛L - 2⋅α₁⎞              ⎛2⋅(L - 2⋅α₁)⎞                ⎛2⋅(L - 2⋅α₁)⎞\n",
       "__{11}⋅sin⎜────────⎟ + C__{11}⋅sin⎜────────────⎟ - 2⋅C__{12}⋅sin⎜────────────⎟\n",
       "          ⎝   R    ⎠              ⎝     R      ⎠                ⎝     R      ⎠\n",
       "──────────────────────────────────────────────────────────────────────────────\n",
       "                                                                              \n",
       "                                                                     4⋅(R - α₂\n",
       "\n",
       "                                                                              \n",
       "                                                                              \n",
       "                ⎛L - 2⋅α₁⎞              ⎛2⋅(L - 2⋅α₁)⎞                ⎛2⋅(L - \n",
       " - 2⋅C__{22}⋅sin⎜────────⎟ + C__{22}⋅sin⎜────────────⎟ - 4⋅C__{44}⋅sin⎜───────\n",
       "                ⎝   R    ⎠              ⎝     R      ⎠                ⎝     R \n",
       "──────────────────────────────────────────────────────────────────────────────\n",
       " 3                                                                            \n",
       ")                                                                             \n",
       "\n",
       "                    ⎛            ⎛L     ⎞     ⎛L     ⎞               ⎛L     ⎞ \n",
       "                    ⎜            ⎜─ - α₁⎟     ⎜─ - α₁⎟               ⎜─ - α₁⎟ \n",
       "2⋅α₁)⎞⎞    2        ⎜           2⎜2     ⎟    2⎜2     ⎟              4⎜2     ⎟ \n",
       "─────⎟⎟   R ⋅e_{22}⋅⎜C__{11}⋅sin ⎜──────⎟⋅cos ⎜──────⎟ + C__{12}⋅sin ⎜──────⎟ \n",
       "     ⎠⎠             ⎝            ⎝  R   ⎠     ⎝  R   ⎠               ⎝  R   ⎠ \n",
       "─────── + ────────────────────────────────────────────────────────────────────\n",
       "                                                                              \n",
       "                                                                              \n",
       "\n",
       "              ⎛L     ⎞               ⎛L     ⎞     ⎛L     ⎞                 ⎛L \n",
       "              ⎜─ - α₁⎟               ⎜─ - α₁⎟     ⎜─ - α₁⎟                 ⎜─ \n",
       "             4⎜2     ⎟              2⎜2     ⎟    2⎜2     ⎟                2⎜2 \n",
       "+ C__{12}⋅cos ⎜──────⎟ + C__{22}⋅sin ⎜──────⎟⋅cos ⎜──────⎟ - 4⋅C__{44}⋅sin ⎜──\n",
       "              ⎝  R   ⎠               ⎝  R   ⎠     ⎝  R   ⎠                 ⎝  \n",
       "──────────────────────────────────────────────────────────────────────────────\n",
       "                  2                                                           \n",
       "          (R - α₂)                                                            \n",
       "\n",
       "    ⎞     ⎛L     ⎞⎞             ⎛            ⎛L     ⎞               ⎛L     ⎞⎞⎞\n",
       "- α₁⎟     ⎜─ - α₁⎟⎟             ⎜            ⎜─ - α₁⎟               ⎜─ - α₁⎟⎟⎟\n",
       "    ⎟    2⎜2     ⎟⎟    2        ⎜           2⎜2     ⎟              2⎜2     ⎟⎟⎟\n",
       "────⎟⋅cos ⎜──────⎟⎟   R ⋅e_{33}⋅⎜C__{13}⋅cos ⎜──────⎟ + C__{23}⋅sin ⎜──────⎟⎟⎟\n",
       "R   ⎠     ⎝  R   ⎠⎠             ⎝            ⎝  R   ⎠               ⎝  R   ⎠⎠⎟\n",
       "─────────────────── + ───────────────────────────────────────────────────────⎟\n",
       "                                                     2                       ⎟\n",
       "                                             (R - α₂)                        ⎠\n",
       "\n",
       "            ⎛                                                                 \n",
       "            ⎜                                                                 \n",
       "            ⎜ 3        ⎛             ⎛L - 2⋅α₁⎞              ⎛2⋅(L - 2⋅α₁)⎞   \n",
       "            ⎜R ⋅e_{11}⋅⎜2⋅C__{11}⋅sin⎜────────⎟ + C__{11}⋅sin⎜────────────⎟ - \n",
       "            ⎜          ⎝             ⎝   R    ⎠              ⎝     R      ⎠   \n",
       " + 2⋅e_{12}⋅⎜─────────────────────────────────────────────────────────────────\n",
       "            ⎜                                                                 \n",
       "            ⎝                                                                 \n",
       "\n",
       "                                                                              \n",
       "                                                                              \n",
       "             ⎛2⋅(L - 2⋅α₁)⎞                ⎛L - 2⋅α₁⎞              ⎛2⋅(L - 2⋅α\n",
       "2⋅C__{12}⋅sin⎜────────────⎟ - 2⋅C__{22}⋅sin⎜────────⎟ + C__{22}⋅sin⎜──────────\n",
       "             ⎝     R      ⎠                ⎝   R    ⎠              ⎝     R    \n",
       "──────────────────────────────────────────────────────────────────────────────\n",
       "                            3                                                 \n",
       "                  8⋅(R - α₂)                                                  \n",
       "\n",
       "                                                 ⎛            ⎛L     ⎞     ⎛L \n",
       "                                                 ⎜            ⎜─ - α₁⎟     ⎜─ \n",
       "₁)⎞                ⎛2⋅(L - 2⋅α₁)⎞⎞      2        ⎜           2⎜2     ⎟    2⎜2 \n",
       "──⎟ - 4⋅C__{44}⋅sin⎜────────────⎟⎟   2⋅R ⋅e_{12}⋅⎜C__{11}⋅sin ⎜──────⎟⋅cos ⎜──\n",
       "  ⎠                ⎝     R      ⎠⎠               ⎝            ⎝  R   ⎠     ⎝  \n",
       "────────────────────────────────── + ─────────────────────────────────────────\n",
       "                                                                              \n",
       "                                                                              \n",
       "\n",
       "    ⎞                 ⎛L     ⎞     ⎛L     ⎞               ⎛L     ⎞     ⎛L     \n",
       "- α₁⎟                 ⎜─ - α₁⎟     ⎜─ - α₁⎟               ⎜─ - α₁⎟     ⎜─ - α₁\n",
       "    ⎟                2⎜2     ⎟    2⎜2     ⎟              2⎜2     ⎟    2⎜2     \n",
       "────⎟ - 2⋅C__{12}⋅sin ⎜──────⎟⋅cos ⎜──────⎟ + C__{22}⋅sin ⎜──────⎟⋅cos ⎜──────\n",
       "R   ⎠                 ⎝  R   ⎠     ⎝  R   ⎠               ⎝  R   ⎠     ⎝  R   \n",
       "──────────────────────────────────────────────────────────────────────────────\n",
       "                                                                 2            \n",
       "                                                         (R - α₂)             \n",
       "\n",
       "⎞               ⎛L     ⎞                 ⎛L     ⎞     ⎛L     ⎞               ⎛\n",
       "⎟               ⎜─ - α₁⎟                 ⎜─ - α₁⎟     ⎜─ - α₁⎟               ⎜\n",
       "⎟              4⎜2     ⎟                2⎜2     ⎟    2⎜2     ⎟              4⎜\n",
       "⎟ + C__{44}⋅sin ⎜──────⎟ - 2⋅C__{44}⋅sin ⎜──────⎟⋅cos ⎜──────⎟ + C__{44}⋅cos ⎜\n",
       "⎠               ⎝  R   ⎠                 ⎝  R   ⎠     ⎝  R   ⎠               ⎝\n",
       "──────────────────────────────────────────────────────────────────────────────\n",
       "                                                                              \n",
       "                                                                              \n",
       "\n",
       "L     ⎞⎞                                                                      \n",
       "─ - α₁⎟⎟                                                                      \n",
       "2     ⎟⎟            ⎛             ⎛L - 2⋅α₁⎞              ⎛2⋅(L - 2⋅α₁)⎞      \n",
       "──────⎟⎟   R⋅e_{22}⋅⎜2⋅C__{11}⋅sin⎜────────⎟ - C__{11}⋅sin⎜────────────⎟ + 2⋅C\n",
       "  R   ⎠⎠            ⎝             ⎝   R    ⎠              ⎝     R      ⎠      \n",
       "──────── + ───────────────────────────────────────────────────────────────────\n",
       "                                                                              \n",
       "                                                                              \n",
       "\n",
       "                                                                              \n",
       "                                                                              \n",
       "          ⎛2⋅(L - 2⋅α₁)⎞                ⎛L - 2⋅α₁⎞              ⎛2⋅(L - 2⋅α₁)⎞\n",
       "__{12}⋅sin⎜────────────⎟ - 2⋅C__{22}⋅sin⎜────────⎟ - C__{22}⋅sin⎜────────────⎟\n",
       "          ⎝     R      ⎠                ⎝   R    ⎠              ⎝     R      ⎠\n",
       "──────────────────────────────────────────────────────────────────────────────\n",
       "                8⋅(R - α₂)                                                    \n",
       "                                                                              \n",
       "\n",
       "                                                                            ⎞ \n",
       "                                                                            ⎟ \n",
       "                ⎛2⋅(L - 2⋅α₁)⎞⎞                                   ⎛L - 2⋅α₁⎞⎟ \n",
       " + 4⋅C__{44}⋅sin⎜────────────⎟⎟   R⋅e_{33}⋅(C__{13} - C__{23})⋅sin⎜────────⎟⎟ \n",
       "                ⎝     R      ⎠⎠                                   ⎝   R    ⎠⎟ \n",
       "─────────────────────────────── + ──────────────────────────────────────────⎟ \n",
       "                                                  2⋅(R - α₂)                ⎟ \n",
       "                                                                            ⎠ \n",
       "\n",
       "           ⎛            ⎛            ⎛L     ⎞               ⎛L     ⎞⎞         \n",
       "           ⎜            ⎜            ⎜─ - α₁⎟               ⎜─ - α₁⎟⎟         \n",
       "           ⎜   2        ⎜           2⎜2     ⎟              2⎜2     ⎟⎟         \n",
       "           ⎜2⋅R ⋅e_{13}⋅⎜C__{55}⋅cos ⎜──────⎟ + C__{66}⋅sin ⎜──────⎟⎟   R⋅e_{2\n",
       "           ⎜            ⎝            ⎝  R   ⎠               ⎝  R   ⎠⎠         \n",
       "+ 2⋅e_{13}⋅⎜───────────────────────────────────────────────────────── + ──────\n",
       "           ⎜                                2                                 \n",
       "           ⎝                        (R - α₂)                                  \n",
       "\n",
       "                                    ⎞          ⎛          ⎛            ⎛L     \n",
       "                                    ⎟          ⎜          ⎜            ⎜─ - α₁\n",
       "                          ⎛L - 2⋅α₁⎞⎟          ⎜ 2        ⎜           2⎜2     \n",
       "3}⋅(C__{55} - C__{66})⋅sin⎜────────⎟⎟          ⎜R ⋅e_{11}⋅⎜C__{11}⋅sin ⎜──────\n",
       "                          ⎝   R    ⎠⎟          ⎜          ⎝            ⎝  R   \n",
       "────────────────────────────────────⎟ + e_{22}⋅⎜──────────────────────────────\n",
       "            R - α₂                  ⎟          ⎜                              \n",
       "                                    ⎠          ⎝                              \n",
       "\n",
       "⎞     ⎛L     ⎞               ⎛L     ⎞               ⎛L     ⎞               ⎛L \n",
       "⎟     ⎜─ - α₁⎟               ⎜─ - α₁⎟               ⎜─ - α₁⎟               ⎜─ \n",
       "⎟    2⎜2     ⎟              4⎜2     ⎟              4⎜2     ⎟              2⎜2 \n",
       "⎟⋅cos ⎜──────⎟ + C__{12}⋅sin ⎜──────⎟ + C__{12}⋅cos ⎜──────⎟ + C__{22}⋅sin ⎜──\n",
       "⎠     ⎝  R   ⎠               ⎝  R   ⎠               ⎝  R   ⎠               ⎝  \n",
       "──────────────────────────────────────────────────────────────────────────────\n",
       "                                                        2                     \n",
       "                                                (R - α₂)                      \n",
       "\n",
       "    ⎞     ⎛L     ⎞                 ⎛L     ⎞     ⎛L     ⎞⎞                     \n",
       "- α₁⎟     ⎜─ - α₁⎟                 ⎜─ - α₁⎟     ⎜─ - α₁⎟⎟                     \n",
       "    ⎟    2⎜2     ⎟                2⎜2     ⎟    2⎜2     ⎟⎟            ⎛        \n",
       "────⎟⋅cos ⎜──────⎟ - 4⋅C__{44}⋅sin ⎜──────⎟⋅cos ⎜──────⎟⎟   R⋅e_{12}⋅⎜2⋅C__{11\n",
       "R   ⎠     ⎝  R   ⎠                 ⎝  R   ⎠     ⎝  R   ⎠⎠            ⎝        \n",
       "───────────────────────────────────────────────────────── + ──────────────────\n",
       "                                                                              \n",
       "                                                                              \n",
       "\n",
       "                                                                              \n",
       "                                                                              \n",
       "     ⎛L - 2⋅α₁⎞              ⎛2⋅(L - 2⋅α₁)⎞                ⎛2⋅(L - 2⋅α₁)⎞     \n",
       "}⋅sin⎜────────⎟ - C__{11}⋅sin⎜────────────⎟ + 2⋅C__{12}⋅sin⎜────────────⎟ - 2⋅\n",
       "     ⎝   R    ⎠              ⎝     R      ⎠                ⎝     R      ⎠     \n",
       "──────────────────────────────────────────────────────────────────────────────\n",
       "                                                                 4⋅(R - α₂)   \n",
       "                                                                              \n",
       "\n",
       "                                                                              \n",
       "                                                                              \n",
       "           ⎛L - 2⋅α₁⎞              ⎛2⋅(L - 2⋅α₁)⎞                ⎛2⋅(L - 2⋅α₁)\n",
       "C__{22}⋅sin⎜────────⎟ - C__{22}⋅sin⎜────────────⎟ + 4⋅C__{44}⋅sin⎜────────────\n",
       "           ⎝   R    ⎠              ⎝     R      ⎠                ⎝     R      \n",
       "──────────────────────────────────────────────────────────────────────────────\n",
       "                                                                              \n",
       "                                                                              \n",
       "\n",
       "                                                                              \n",
       "                                                                              \n",
       "⎞⎞          ⎛            ⎛L     ⎞                 ⎛L     ⎞     ⎛L     ⎞       \n",
       "⎟⎟          ⎜            ⎜─ - α₁⎟                 ⎜─ - α₁⎟     ⎜─ - α₁⎟       \n",
       "⎠⎠          ⎜           4⎜2     ⎟                2⎜2     ⎟    2⎜2     ⎟       \n",
       "── + e_{22}⋅⎜C__{11}⋅sin ⎜──────⎟ + 2⋅C__{12}⋅sin ⎜──────⎟⋅cos ⎜──────⎟ + C__{\n",
       "            ⎝            ⎝  R   ⎠                 ⎝  R   ⎠     ⎝  R   ⎠       \n",
       "                                                                              \n",
       "\n",
       "                                                                              \n",
       "                                                                              \n",
       "        ⎛L     ⎞                 ⎛L     ⎞     ⎛L     ⎞⎞          ⎛            \n",
       "        ⎜─ - α₁⎟                 ⎜─ - α₁⎟     ⎜─ - α₁⎟⎟          ⎜            \n",
       "       4⎜2     ⎟                2⎜2     ⎟    2⎜2     ⎟⎟          ⎜           2\n",
       "22}⋅cos ⎜──────⎟ + 4⋅C__{44}⋅sin ⎜──────⎟⋅cos ⎜──────⎟⎟ + e_{33}⋅⎜C__{13}⋅sin \n",
       "        ⎝  R   ⎠                 ⎝  R   ⎠     ⎝  R   ⎠⎠          ⎝            \n",
       "                                                                              \n",
       "\n",
       "                                ⎞                                             \n",
       "                                ⎟                                             \n",
       "⎛L     ⎞               ⎛L     ⎞⎞⎟            ⎛                                \n",
       "⎜─ - α₁⎟               ⎜─ - α₁⎟⎟⎟            ⎜R⋅e_{13}⋅(C__{55} - C__{66})⋅sin\n",
       "⎜2     ⎟              2⎜2     ⎟⎟⎟            ⎜                                \n",
       "⎜──────⎟ + C__{23}⋅cos ⎜──────⎟⎟⎟ + 2⋅e_{23}⋅⎜────────────────────────────────\n",
       "⎝  R   ⎠               ⎝  R   ⎠⎠⎟            ⎝                  R - α₂        \n",
       "                                ⎠                                             \n",
       "\n",
       "                                                                              \n",
       "                                                                              \n",
       "⎛L - 2⋅α₁⎞            ⎛            ⎛L     ⎞               ⎛L     ⎞⎞⎞          \n",
       "⎜────────⎟            ⎜            ⎜─ - α₁⎟               ⎜─ - α₁⎟⎟⎟          \n",
       "⎝   R    ⎠            ⎜           2⎜2     ⎟              2⎜2     ⎟⎟⎟          \n",
       "────────── + 2⋅e_{23}⋅⎜C__{55}⋅sin ⎜──────⎟ + C__{66}⋅cos ⎜──────⎟⎟⎟ + e_{33}⋅\n",
       "                      ⎝            ⎝  R   ⎠               ⎝  R   ⎠⎠⎠          \n",
       "                                                                              \n",
       "\n",
       "⎛                           ⎛            ⎛L     ⎞               ⎛L     ⎞⎞     \n",
       "⎜                           ⎜            ⎜─ - α₁⎟               ⎜─ - α₁⎟⎟     \n",
       "⎜                  2        ⎜           2⎜2     ⎟              2⎜2     ⎟⎟     \n",
       "⎜                 R ⋅e_{11}⋅⎜C__{13}⋅cos ⎜──────⎟ + C__{23}⋅sin ⎜──────⎟⎟   R⋅\n",
       "⎜                           ⎝            ⎝  R   ⎠               ⎝  R   ⎠⎠     \n",
       "⎜C__{33}⋅e_{33} + ─────────────────────────────────────────────────────── + ──\n",
       "⎜                                                2                            \n",
       "⎝                                        (R - α₂)                             \n",
       "\n",
       "                                                                              \n",
       "                                                                              \n",
       "                              ⎛L - 2⋅α₁⎞          ⎛            ⎛L     ⎞       \n",
       "e_{12}⋅(C__{13} - C__{23})⋅sin⎜────────⎟          ⎜            ⎜─ - α₁⎟       \n",
       "                              ⎝   R    ⎠          ⎜           2⎜2     ⎟       \n",
       "──────────────────────────────────────── + e_{22}⋅⎜C__{13}⋅sin ⎜──────⎟ + C__{\n",
       "                R - α₂                            ⎝            ⎝  R   ⎠       \n",
       "                                                                              \n",
       "\n",
       "                 ⎞\n",
       "                 ⎟\n",
       "        ⎛L     ⎞⎞⎟\n",
       "        ⎜─ - α₁⎟⎟⎟\n",
       "       2⎜2     ⎟⎟⎟\n",
       "23}⋅cos ⎜──────⎟⎟⎟\n",
       "        ⎝  R   ⎠⎠⎟\n",
       "                 ⎠"
      ]
     },
     "execution_count": 91,
     "metadata": {},
     "output_type": "execute_result"
    }
   ],
   "source": [
    "E_c = (collect(E, e11**2))\n",
    "# E_c = collect(E_c, e11*e12)\n",
    "# E_c = collect(E_c, e11*e13)\n",
    "# E_c = collect(E_c, e22)\n",
    "# E_c = collect(E_c, e23)\n",
    "# E_c = collect(E_c, e33)\n",
    "E_c"
   ]
  }
 ],
 "metadata": {
  "kernelspec": {
   "display_name": "Python 3",
   "language": "python",
   "name": "python3"
  },
  "language_info": {
   "codemirror_mode": {
    "name": "ipython",
    "version": 3
   },
   "file_extension": ".py",
   "mimetype": "text/x-python",
   "name": "python",
   "nbconvert_exporter": "python",
   "pygments_lexer": "ipython3",
   "version": "3.6.1"
  }
 },
 "nbformat": 4,
 "nbformat_minor": 2
}
