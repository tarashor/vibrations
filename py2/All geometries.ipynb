{
 "cells": [
  {
   "cell_type": "markdown",
   "metadata": {},
   "source": [
    "# Shells 2D"
   ]
  },
  {
   "cell_type": "markdown",
   "metadata": {},
   "source": [
    "## Init symbols for *sympy*"
   ]
  },
  {
   "cell_type": "code",
   "execution_count": 159,
   "metadata": {},
   "outputs": [],
   "source": [
    "from sympy import *\n",
    "from sympy.vector import CoordSys3D\n",
    "N = CoordSys3D('N')\n",
    "x1, x2 = symbols(\"x_1 x_2\")\n",
    "alpha1, alpha2 = symbols(\"alpha_1 alpha_2\")\n",
    "R, L, ga, gv = symbols(\"R L g_a g_v\")\n",
    "init_printing()"
   ]
  },
  {
   "cell_type": "markdown",
   "metadata": {},
   "source": [
    "## Cylindrical coordinates"
   ]
  },
  {
   "cell_type": "code",
   "execution_count": 160,
   "metadata": {
    "collapsed": true
   },
   "outputs": [],
   "source": [
    "a1 = pi / 2 + (L / 2 - alpha1)/R\n",
    "\n",
    "x = R * cos(a1)\n",
    "y = R * sin(a1)\n",
    "\n",
    "r = x*N.i + y*N.j"
   ]
  },
  {
   "cell_type": "markdown",
   "metadata": {},
   "source": [
    "#### Curve in 2D coordinates system will be defined with the following vector $\\vec{r}=\\vec{r(\\alpha_1)}$"
   ]
  },
  {
   "cell_type": "code",
   "execution_count": 161,
   "metadata": {},
   "outputs": [
    {
     "data": {
      "image/png": "[encoded data removed]",
      "text/latex": [
       "$$(- R \\sin{\\left (\\frac{1}{R} \\left(\\frac{L}{2} - \\alpha_{1}\\right) \\right )})\\mathbf{\\hat{i}_{N}} + (R \\cos{\\left (\\frac{1}{R} \\left(\\frac{L}{2} - \\alpha_{1}\\right) \\right )})\\mathbf{\\hat{j}_{N}}$$"
      ],
      "text/plain": [
       "⎛      ⎛L     ⎞ N_i⎞ N_i + ⎛     ⎛L     ⎞ N_j⎞ N_j\n",
       "⎜      ⎜─ - α₁⎟⎟           ⎜     ⎜─ - α₁⎟⎟        \n",
       "⎜      ⎜2     ⎟⎟           ⎜     ⎜2     ⎟⎟        \n",
       "⎜-R⋅sin⎜──────⎟⎟           ⎜R⋅cos⎜──────⎟⎟        \n",
       "⎝      ⎝  R   ⎠⎠           ⎝     ⎝  R   ⎠⎠        "
      ]
     },
     "execution_count": 161,
     "metadata": {},
     "output_type": "execute_result"
    }
   ],
   "source": [
    "r"
   ]
  },
  {
   "cell_type": "markdown",
   "metadata": {},
   "source": [
    "#### Tangent to curve"
   ]
  },
  {
   "cell_type": "code",
   "execution_count": 162,
   "metadata": {},
   "outputs": [
    {
     "data": {
      "image/png": "[encoded data removed]",
      "text/latex": [
       "$$(\\cos{\\left (\\frac{1}{R} \\left(\\frac{L}{2} - \\alpha_{1}\\right) \\right )})\\mathbf{\\hat{i}_{N}} + (\\sin{\\left (\\frac{1}{R} \\left(\\frac{L}{2} - \\alpha_{1}\\right) \\right )})\\mathbf{\\hat{j}_{N}}$$"
      ],
      "text/plain": [
       "⎛   ⎛L     ⎞ N_i⎞ N_i + ⎛   ⎛L     ⎞ N_j⎞ N_j\n",
       "⎜   ⎜─ - α₁⎟⎟           ⎜   ⎜─ - α₁⎟⎟        \n",
       "⎜   ⎜2     ⎟⎟           ⎜   ⎜2     ⎟⎟        \n",
       "⎜cos⎜──────⎟⎟           ⎜sin⎜──────⎟⎟        \n",
       "⎝   ⎝  R   ⎠⎠           ⎝   ⎝  R   ⎠⎠        "
      ]
     },
     "execution_count": 162,
     "metadata": {},
     "output_type": "execute_result"
    }
   ],
   "source": [
    "v_temp = r.diff(alpha1)\n",
    "dr_len = v_temp.magnitude()\n",
    "v = v_temp / dr_len\n",
    "v = trigsimp(v)\n",
    "v_temp"
   ]
  },
  {
   "cell_type": "code",
   "execution_count": 163,
   "metadata": {},
   "outputs": [
    {
     "data": {
      "image/png": "[encoded data removed]",
      "text/latex": [
       "$$1$$"
      ],
      "text/plain": [
       "1"
      ]
     },
     "execution_count": 163,
     "metadata": {},
     "output_type": "execute_result"
    }
   ],
   "source": [
    "trigsimp(dr_len)"
   ]
  },
  {
   "cell_type": "markdown",
   "metadata": {},
   "source": [
    "#### Normal to curve"
   ]
  },
  {
   "cell_type": "code",
   "execution_count": 164,
   "metadata": {},
   "outputs": [
    {
     "data": {
      "image/png": "[encoded data removed]",
      "text/latex": [
       "$$(\\sin{\\left (\\frac{1}{R} \\left(\\frac{L}{2} - \\alpha_{1}\\right) \\right )})\\mathbf{\\hat{i}_{N}} + (- \\cos{\\left (\\frac{1}{R} \\left(\\frac{L}{2} - \\alpha_{1}\\right) \\right )})\\mathbf{\\hat{j}_{N}}$$"
      ],
      "text/plain": [
       "⎛   ⎛L     ⎞ N_i⎞ N_i + ⎛    ⎛L     ⎞ N_j⎞ N_j\n",
       "⎜   ⎜─ - α₁⎟⎟           ⎜    ⎜─ - α₁⎟⎟        \n",
       "⎜   ⎜2     ⎟⎟           ⎜    ⎜2     ⎟⎟        \n",
       "⎜sin⎜──────⎟⎟           ⎜-cos⎜──────⎟⎟        \n",
       "⎝   ⎝  R   ⎠⎠           ⎝    ⎝  R   ⎠⎠        "
      ]
     },
     "execution_count": 164,
     "metadata": {},
     "output_type": "execute_result"
    }
   ],
   "source": [
    "n_temp = v.diff(alpha1)\n",
    "k=trigsimp(n_temp.magnitude())\n",
    "n = n_temp/k\n",
    "q=1/(R*sqrt(1/R**2))\n",
    "n = trigsimp(n).subs(q, 1)\n",
    "n"
   ]
  },
  {
   "cell_type": "code",
   "execution_count": 165,
   "metadata": {},
   "outputs": [
    {
     "data": {
      "image/png": "[encoded data removed]",
      "text/latex": [
       "$$0$$"
      ],
      "text/plain": [
       "0"
      ]
     },
     "execution_count": 165,
     "metadata": {},
     "output_type": "execute_result"
    }
   ],
   "source": [
    "v.dot(n)"
   ]
  },
  {
   "cell_type": "code",
   "execution_count": 166,
   "metadata": {
    "scrolled": true
   },
   "outputs": [
    {
     "data": {
      "image/png": "[encoded data removed]",
      "text/latex": [
       "$$0$$"
      ],
      "text/plain": [
       "0"
      ]
     },
     "execution_count": 166,
     "metadata": {},
     "output_type": "execute_result"
    }
   ],
   "source": [
    "n.dot(v)"
   ]
  },
  {
   "cell_type": "markdown",
   "metadata": {},
   "source": [
    "#### Curvature"
   ]
  },
  {
   "cell_type": "code",
   "execution_count": 167,
   "metadata": {},
   "outputs": [
    {
     "data": {
      "image/png": "[encoded data removed]",
      "text/latex": [
       "$$\\sqrt{\\frac{1}{R^{2}}}$$"
      ],
      "text/plain": [
       "     ____\n",
       "    ╱ 1  \n",
       "   ╱  ── \n",
       "  ╱    2 \n",
       "╲╱    R  "
      ]
     },
     "execution_count": 167,
     "metadata": {},
     "output_type": "execute_result"
    }
   ],
   "source": [
    "sympify(k)"
   ]
  },
  {
   "cell_type": "markdown",
   "metadata": {},
   "source": [
    "#### Base Vectors $\\vec{R}_1, \\vec{R}_2$"
   ]
  },
  {
   "cell_type": "code",
   "execution_count": 168,
   "metadata": {},
   "outputs": [
    {
     "data": {
      "image/png": "[encoded data removed]",
      "text/latex": [
       "$$(- R \\sin{\\left (\\frac{1}{R} \\left(\\frac{L}{2} - \\alpha_{1}\\right) \\right )} + \\alpha_{2} \\sin{\\left (\\frac{1}{R} \\left(\\frac{L}{2} - \\alpha_{1}\\right) \\right )})\\mathbf{\\hat{i}_{N}} + (R \\cos{\\left (\\frac{1}{R} \\left(\\frac{L}{2} - \\alpha_{1}\\right) \\right )} - \\alpha_{2} \\cos{\\left (\\frac{1}{R} \\left(\\frac{L}{2} - \\alpha_{1}\\right) \\right )})\\mathbf{\\hat{j}_{N}}$$"
      ],
      "text/plain": [
       "⎛       ⎛L     ⎞ N_i         ⎛L     ⎞ N_i⎞ N_i + ⎛     ⎛L     ⎞ N_j         ⎛L\n",
       "⎜       ⎜─ - α₁⎟         ⎜─ - α₁⎟⎟               ⎜     ⎜─ - α₁⎟         ⎜─ - α\n",
       "⎜       ⎜2     ⎟         ⎜2     ⎟⎟               ⎜     ⎜2     ⎟         ⎜2    \n",
       "⎜- R⋅sin⎜──────⎟ + α₂⋅sin⎜──────⎟⎟               ⎜R⋅cos⎜──────⎟ - α₂⋅cos⎜─────\n",
       "⎝       ⎝  R   ⎠         ⎝  R   ⎠⎠               ⎝     ⎝  R   ⎠         ⎝  R  \n",
       "\n",
       "     ⎞ N_j⎞ N_j\n",
       "₁⎟⎟            \n",
       " ⎟⎟            \n",
       "─⎟⎟            \n",
       " ⎠⎠            "
      ]
     },
     "execution_count": 168,
     "metadata": {},
     "output_type": "execute_result"
    }
   ],
   "source": [
    "R_alpha=r+alpha2*n\n",
    "R_alpha"
   ]
  },
  {
   "cell_type": "code",
   "execution_count": 169,
   "metadata": {
    "collapsed": true
   },
   "outputs": [],
   "source": [
    "R1=R_alpha.diff(alpha1)\n",
    "R2=R_alpha.diff(alpha2)"
   ]
  },
  {
   "cell_type": "code",
   "execution_count": 170,
   "metadata": {},
   "outputs": [
    {
     "data": {
      "image/png": "[encoded data removed]",
      "text/latex": [
       "$$(\\left(1 - \\frac{\\alpha_{2}}{R}\\right) \\cos{\\left (\\frac{1}{R} \\left(\\frac{L}{2} - \\alpha_{1}\\right) \\right )})\\mathbf{\\hat{i}_{N}} + (\\left(1 - \\frac{\\alpha_{2}}{R}\\right) \\sin{\\left (\\frac{1}{R} \\left(\\frac{L}{2} - \\alpha_{1}\\right) \\right )})\\mathbf{\\hat{j}_{N}}$$"
      ],
      "text/plain": [
       "⎛            ⎛L     ⎞ N_i⎞ N_i + ⎛            ⎛L     ⎞ N_j⎞ N_j\n",
       "⎜            ⎜─ - α₁⎟⎟           ⎜            ⎜─ - α₁⎟⎟        \n",
       "⎜⎛    α₂⎞ N_i    ⎜2     ⎟⎟       ⎜⎛    α₂⎞ N_j    ⎜2     ⎟⎟    \n",
       "⎜⎜1 - ──⎟⋅cos⎜──────⎟⎟           ⎜⎜1 - ──⎟⋅sin⎜──────⎟⎟        \n",
       "⎝⎝    R ⎠    ⎝  R   ⎠⎠           ⎝⎝    R ⎠    ⎝  R   ⎠⎠        "
      ]
     },
     "execution_count": 170,
     "metadata": {},
     "output_type": "execute_result"
    }
   ],
   "source": [
    "trigsimp(R1)"
   ]
  },
  {
   "cell_type": "code",
   "execution_count": 171,
   "metadata": {},
   "outputs": [
    {
     "data": {
      "image/png": "[encoded data removed]",
      "text/latex": [
       "$$(\\sin{\\left (\\frac{1}{R} \\left(\\frac{L}{2} - \\alpha_{1}\\right) \\right )})\\mathbf{\\hat{i}_{N}} + (- \\cos{\\left (\\frac{1}{R} \\left(\\frac{L}{2} - \\alpha_{1}\\right) \\right )})\\mathbf{\\hat{j}_{N}}$$"
      ],
      "text/plain": [
       "⎛   ⎛L     ⎞ N_i⎞ N_i + ⎛    ⎛L     ⎞ N_j⎞ N_j\n",
       "⎜   ⎜─ - α₁⎟⎟           ⎜    ⎜─ - α₁⎟⎟        \n",
       "⎜   ⎜2     ⎟⎟           ⎜    ⎜2     ⎟⎟        \n",
       "⎜sin⎜──────⎟⎟           ⎜-cos⎜──────⎟⎟        \n",
       "⎝   ⎝  R   ⎠⎠           ⎝    ⎝  R   ⎠⎠        "
      ]
     },
     "execution_count": 171,
     "metadata": {},
     "output_type": "execute_result"
    }
   ],
   "source": [
    "R2"
   ]
  },
  {
   "cell_type": "code",
   "execution_count": 172,
   "metadata": {},
   "outputs": [
    {
     "data": {
      "image/png": "[encoded data removed]",
      "text/latex": [
       "$$(\\frac{1}{R} \\left(1 - \\frac{\\alpha_{2}}{R}\\right) \\sin{\\left (\\frac{1}{R} \\left(\\frac{L}{2} - \\alpha_{1}\\right) \\right )})\\mathbf{\\hat{i}_{N}} + (\\frac{1}{R} \\left(-1 + \\frac{\\alpha_{2}}{R}\\right) \\cos{\\left (\\frac{1}{R} \\left(\\frac{L}{2} - \\alpha_{1}\\right) \\right )})\\mathbf{\\hat{j}_{N}}$$"
      ],
      "text/plain": [
       "⎛            ⎛L     ⎞ N_i⎞ N_i + ⎛             ⎛L     ⎞ N_j⎞ N_j\n",
       "⎜            ⎜─ - α₁⎟⎟           ⎜             ⎜─ - α₁⎟⎟        \n",
       "⎜⎛    α₂⎞ N_i    ⎜2     ⎟⎟       ⎜⎛     α₂⎞ N_j    ⎜2     ⎟⎟    \n",
       "⎜⎜1 - ──⎟⋅sin⎜──────⎟⎟           ⎜⎜-1 + ──⎟⋅cos⎜──────⎟⎟        \n",
       "⎜⎝    R ⎠    ⎝  R   ⎠⎟           ⎜⎝     R ⎠    ⎝  R   ⎠⎟        \n",
       "⎜────────────────────⎟           ⎜─────────────────────⎟        \n",
       "⎝         R          ⎠           ⎝          R          ⎠        "
      ]
     },
     "execution_count": 172,
     "metadata": {},
     "output_type": "execute_result"
    }
   ],
   "source": [
    "trigsimp(R1.diff(alpha1))"
   ]
  },
  {
   "cell_type": "code",
   "execution_count": 173,
   "metadata": {},
   "outputs": [
    {
     "data": {
      "image/png": "[encoded data removed]",
      "text/latex": [
       "$$(- \\frac{1}{R} \\cos{\\left (\\frac{1}{R} \\left(\\frac{L}{2} - \\alpha_{1}\\right) \\right )})\\mathbf{\\hat{i}_{N}} + (- \\frac{1}{R} \\sin{\\left (\\frac{1}{R} \\left(\\frac{L}{2} - \\alpha_{1}\\right) \\right )})\\mathbf{\\hat{j}_{N}}$$"
      ],
      "text/plain": [
       "⎛    ⎛L     ⎞ N_i ⎞ N_i + ⎛    ⎛L     ⎞ N_j ⎞ N_j\n",
       "⎜    ⎜─ - α₁⎟ ⎟           ⎜    ⎜─ - α₁⎟ ⎟        \n",
       "⎜    ⎜2     ⎟ ⎟           ⎜    ⎜2     ⎟ ⎟        \n",
       "⎜-cos⎜──────⎟ ⎟           ⎜-sin⎜──────⎟ ⎟        \n",
       "⎜    ⎝  R   ⎠ ⎟           ⎜    ⎝  R   ⎠ ⎟        \n",
       "⎜─────────────⎟           ⎜─────────────⎟        \n",
       "⎝      R      ⎠           ⎝      R      ⎠        "
      ]
     },
     "execution_count": 173,
     "metadata": {},
     "output_type": "execute_result"
    }
   ],
   "source": [
    "trigsimp(R1.diff(alpha2))"
   ]
  },
  {
   "cell_type": "code",
   "execution_count": 174,
   "metadata": {},
   "outputs": [
    {
     "data": {
      "image/png": "[encoded data removed]",
      "text/latex": [
       "$$(- \\frac{1}{R} \\cos{\\left (\\frac{1}{R} \\left(\\frac{L}{2} - \\alpha_{1}\\right) \\right )})\\mathbf{\\hat{i}_{N}} + (- \\frac{1}{R} \\sin{\\left (\\frac{1}{R} \\left(\\frac{L}{2} - \\alpha_{1}\\right) \\right )})\\mathbf{\\hat{j}_{N}}$$"
      ],
      "text/plain": [
       "⎛    ⎛L     ⎞ N_i ⎞ N_i + ⎛    ⎛L     ⎞ N_j ⎞ N_j\n",
       "⎜    ⎜─ - α₁⎟ ⎟           ⎜    ⎜─ - α₁⎟ ⎟        \n",
       "⎜    ⎜2     ⎟ ⎟           ⎜    ⎜2     ⎟ ⎟        \n",
       "⎜-cos⎜──────⎟ ⎟           ⎜-sin⎜──────⎟ ⎟        \n",
       "⎜    ⎝  R   ⎠ ⎟           ⎜    ⎝  R   ⎠ ⎟        \n",
       "⎜─────────────⎟           ⎜─────────────⎟        \n",
       "⎝      R      ⎠           ⎝      R      ⎠        "
      ]
     },
     "execution_count": 174,
     "metadata": {},
     "output_type": "execute_result"
    }
   ],
   "source": [
    "trigsimp(R2.diff(alpha1))"
   ]
  },
  {
   "cell_type": "code",
   "execution_count": 175,
   "metadata": {},
   "outputs": [
    {
     "data": {
      "image/png": "[encoded data removed]",
      "text/latex": [
       "$$\\mathbf{\\hat{0}}$$"
      ],
      "text/plain": [
       "0"
      ]
     },
     "execution_count": 175,
     "metadata": {},
     "output_type": "execute_result"
    }
   ],
   "source": [
    "trigsimp(R2.diff(alpha2))"
   ]
  },
  {
   "cell_type": "markdown",
   "metadata": {},
   "source": [
    "#### Derivative of base vectors\n",
    "Let's find \n",
    "$\\frac { d\\vec{n} } { d\\alpha_1}$\n",
    "$\\frac { d\\vec{v} } { d\\alpha_1}$\n",
    "$\\frac { d\\vec{n} } { d\\alpha_2}$\n",
    "$\\frac { d\\vec{v} } { d\\alpha_2}$"
   ]
  },
  {
   "cell_type": "code",
   "execution_count": 176,
   "metadata": {},
   "outputs": [
    {
     "data": {
      "image/png": "[encoded data removed]",
      "text/latex": [
       "$$(- \\frac{1}{R} \\cos{\\left (\\frac{1}{R} \\left(\\frac{L}{2} - \\alpha_{1}\\right) \\right )})\\mathbf{\\hat{i}_{N}} + (- \\frac{1}{R} \\sin{\\left (\\frac{1}{R} \\left(\\frac{L}{2} - \\alpha_{1}\\right) \\right )})\\mathbf{\\hat{j}_{N}}$$"
      ],
      "text/plain": [
       "⎛    ⎛L     ⎞ N_i ⎞ N_i + ⎛    ⎛L     ⎞ N_j ⎞ N_j\n",
       "⎜    ⎜─ - α₁⎟ ⎟           ⎜    ⎜─ - α₁⎟ ⎟        \n",
       "⎜    ⎜2     ⎟ ⎟           ⎜    ⎜2     ⎟ ⎟        \n",
       "⎜-cos⎜──────⎟ ⎟           ⎜-sin⎜──────⎟ ⎟        \n",
       "⎜    ⎝  R   ⎠ ⎟           ⎜    ⎝  R   ⎠ ⎟        \n",
       "⎜─────────────⎟           ⎜─────────────⎟        \n",
       "⎝      R      ⎠           ⎝      R      ⎠        "
      ]
     },
     "execution_count": 176,
     "metadata": {},
     "output_type": "execute_result"
    }
   ],
   "source": [
    "n.diff(alpha1)"
   ]
  },
  {
   "cell_type": "markdown",
   "metadata": {},
   "source": [
    "$ \\frac { d\\vec{n} } { d\\alpha_1} = -\\frac {1}{R} \\vec{v} = -k \\vec{v} $"
   ]
  },
  {
   "cell_type": "code",
   "execution_count": 177,
   "metadata": {},
   "outputs": [
    {
     "data": {
      "image/png": "[encoded data removed]",
      "text/latex": [
       "$$(\\frac{1}{R} \\sin{\\left (\\frac{1}{R} \\left(\\frac{L}{2} - \\alpha_{1}\\right) \\right )})\\mathbf{\\hat{i}_{N}} + (- \\frac{1}{R} \\cos{\\left (\\frac{1}{R} \\left(\\frac{L}{2} - \\alpha_{1}\\right) \\right )})\\mathbf{\\hat{j}_{N}}$$"
      ],
      "text/plain": [
       "⎛   ⎛L     ⎞ N_i⎞ N_i + ⎛    ⎛L     ⎞ N_j ⎞ N_j\n",
       "⎜   ⎜─ - α₁⎟⎟           ⎜    ⎜─ - α₁⎟ ⎟        \n",
       "⎜   ⎜2     ⎟⎟           ⎜    ⎜2     ⎟ ⎟        \n",
       "⎜sin⎜──────⎟⎟           ⎜-cos⎜──────⎟ ⎟        \n",
       "⎜   ⎝  R   ⎠⎟           ⎜    ⎝  R   ⎠ ⎟        \n",
       "⎜───────────⎟           ⎜─────────────⎟        \n",
       "⎝     R     ⎠           ⎝      R      ⎠        "
      ]
     },
     "execution_count": 177,
     "metadata": {},
     "output_type": "execute_result"
    }
   ],
   "source": [
    "v.diff(alpha1)"
   ]
  },
  {
   "cell_type": "markdown",
   "metadata": {},
   "source": [
    "$ \\frac { d\\vec{v} } { d\\alpha_1} = \\frac {1}{R} \\vec{n} = k \\vec{n} $"
   ]
  },
  {
   "cell_type": "markdown",
   "metadata": {},
   "source": [
    "#### Derivative of vectors\n",
    "\n",
    "$ \\vec{u} = u_v \\vec{v} + u_n\\vec{n} $\n",
    "\n",
    "$ \\frac { d\\vec{u} } { d\\alpha_1} =  \\frac { d(u_v\\vec{v}) } { d\\alpha_1} + \\frac { d(u_n\\vec{n}) } { d\\alpha_1} = \n",
    " \\frac { du_n } { d\\alpha_1} \\vec{n} + u_n \\frac { d\\vec{n} } { d\\alpha_1} + \\frac { du_v } { d\\alpha_1} \\vec{v} + u_v \\frac { d\\vec{v} } { d\\alpha_1} = \\frac { du_n } { d\\alpha_1} \\vec{n} - u_n k \\vec{v} + \\frac { du_v } { d\\alpha_1} \\vec{v} + u_v k \\vec{n}$\n",
    "\n",
    "Then\n",
    "$ \\frac { d\\vec{u} } { d\\alpha_1} = \\left( \\frac { du_v } { d\\alpha_1} - u_n k \\right) \\vec{v} + \\left( \\frac { du_n } { d\\alpha_1} + u_v k \\right) \\vec{n}$\n",
    "\n",
    "$ \\frac { d\\vec{u} } { d\\alpha_2} = \\frac { d(u_n\\vec{n}) } { d\\alpha_2} + \\frac { d(u_v\\vec{v}) } { d\\alpha_2} = \n",
    " \\frac { du_n } { d\\alpha_2} \\vec{n} + u_n \\frac { d\\vec{n} } { d\\alpha_2} + \\frac { du_v } { d\\alpha_2} \\vec{v} + u_v \\frac { d\\vec{v} } { d\\alpha_2} = \\frac { du_n } { d\\alpha_2} \\vec{n} + \\frac { du_v } { d\\alpha_2} \\vec{v} $"
   ]
  },
  {
   "cell_type": "markdown",
   "metadata": {},
   "source": [
    "#### Let's find Jacobi matrix:\n",
    "\n",
    "$ A = \\left( \n",
    "\\begin{array}{cc} \n",
    "\\frac{\\partial x_1}{\\partial \\alpha_1} & \\frac{\\partial x_1}{\\partial \\alpha_2} \\\\\n",
    "\\frac{\\partial x_2}{\\partial \\alpha_1} & \\frac{\\partial x_2}{\\partial \\alpha_2}\n",
    "\\end{array} \n",
    "\\right)$\n",
    "\n",
    "$ \\left[\n",
    "\\begin{array}{cc} \n",
    "\\vec{e}_1 & \\vec{e}_2\n",
    "\\end{array} \n",
    "\\right] = \\left[\n",
    "\\begin{array}{cc} \n",
    "\\vec{R}_1 & \\vec{R}_2\n",
    "\\end{array} \n",
    "\\right] \\cdot  \\left( \n",
    "\\begin{array}{cc} \n",
    "\\frac{\\partial x_1}{\\partial \\alpha_1} & \\frac{\\partial x_1}{\\partial \\alpha_2} \\\\\n",
    "\\frac{\\partial x_2}{\\partial \\alpha_1} & \\frac{\\partial x_2}{\\partial \\alpha_2}\n",
    "\\end{array} \n",
    "\\right) = \\left[\n",
    "\\begin{array}{cc} \n",
    "\\vec{R}_1 & \\vec{R}_2\n",
    "\\end{array} \n",
    "\\right] \\cdot A$\n",
    "\n",
    "$ \\left[\n",
    "\\begin{array}{cc} \n",
    "\\vec{R}_1 & \\vec{R}_2\n",
    "\\end{array} \n",
    "\\right] = \\left[\n",
    "\\begin{array}{cc} \n",
    "\\vec{e}_1 & \\vec{e}_2\n",
    "\\end{array} \n",
    "\\right] \\cdot A^{-1}$"
   ]
  },
  {
   "cell_type": "code",
   "execution_count": 178,
   "metadata": {},
   "outputs": [
    {
     "data": {
      "image/png": "[encoded data removed]",
      "text/latex": [
       "$$\\left[\\begin{matrix}\\cos{\\left (\\frac{1}{R} \\left(\\frac{L}{2} - \\alpha_{1}\\right) \\right )} - \\frac{\\alpha_{2}}{R} \\cos{\\left (\\frac{1}{R} \\left(\\frac{L}{2} - \\alpha_{1}\\right) \\right )} & \\sin{\\left (\\frac{1}{R} \\left(\\frac{L}{2} - \\alpha_{1}\\right) \\right )}\\\\\\sin{\\left (\\frac{1}{R} \\left(\\frac{L}{2} - \\alpha_{1}\\right) \\right )} - \\frac{\\alpha_{2}}{R} \\sin{\\left (\\frac{1}{R} \\left(\\frac{L}{2} - \\alpha_{1}\\right) \\right )} & - \\cos{\\left (\\frac{1}{R} \\left(\\frac{L}{2} - \\alpha_{1}\\right) \\right )}\\end{matrix}\\right]$$"
      ],
      "text/plain": [
       "⎡                    ⎛L     ⎞              ⎤\n",
       "⎢                    ⎜─ - α₁⎟              ⎥\n",
       "⎢   ⎛L     ⎞         ⎜2     ⎟     ⎛L     ⎞ ⎥\n",
       "⎢   ⎜─ - α₁⎟   α₂⋅cos⎜──────⎟     ⎜─ - α₁⎟ ⎥\n",
       "⎢   ⎜2     ⎟         ⎝  R   ⎠     ⎜2     ⎟ ⎥\n",
       "⎢cos⎜──────⎟ - ──────────────  sin⎜──────⎟ ⎥\n",
       "⎢   ⎝  R   ⎠         R            ⎝  R   ⎠ ⎥\n",
       "⎢                                          ⎥\n",
       "⎢                    ⎛L     ⎞              ⎥\n",
       "⎢                    ⎜─ - α₁⎟              ⎥\n",
       "⎢   ⎛L     ⎞         ⎜2     ⎟      ⎛L     ⎞⎥\n",
       "⎢   ⎜─ - α₁⎟   α₂⋅sin⎜──────⎟      ⎜─ - α₁⎟⎥\n",
       "⎢   ⎜2     ⎟         ⎝  R   ⎠      ⎜2     ⎟⎥\n",
       "⎢sin⎜──────⎟ - ──────────────  -cos⎜──────⎟⎥\n",
       "⎣   ⎝  R   ⎠         R             ⎝  R   ⎠⎦"
      ]
     },
     "execution_count": 178,
     "metadata": {},
     "output_type": "execute_result"
    }
   ],
   "source": [
    "m11=R1.dot(N.i)\n",
    "m12=R2.dot(N.i)\n",
    "m21=R1.dot(N.j)\n",
    "m22=R2.dot(N.j)\n",
    "A=Matrix([[m11, m12], [m21, m22]])\n",
    "A"
   ]
  },
  {
   "cell_type": "code",
   "execution_count": 179,
   "metadata": {},
   "outputs": [
    {
     "data": {
      "image/png": "[encoded data removed]",
      "text/latex": [
       "$$-1 + \\frac{\\alpha_{2}}{R}$$"
      ],
      "text/plain": [
       "     α₂\n",
       "-1 + ──\n",
       "     R "
      ]
     },
     "execution_count": 179,
     "metadata": {},
     "output_type": "execute_result"
    }
   ],
   "source": [
    "trigsimp(A.det())"
   ]
  },
  {
   "cell_type": "code",
   "execution_count": 180,
   "metadata": {},
   "outputs": [
    {
     "data": {
      "image/png": "[encoded data removed]",
      "text/latex": [
       "$$\\left[\\begin{matrix}\\frac{1}{1 - \\frac{\\alpha_{2}}{R}} \\cos{\\left (\\frac{1}{R} \\left(\\frac{L}{2} - \\alpha_{1}\\right) \\right )} & - \\frac{1}{-1 + \\frac{\\alpha_{2}}{R}} \\sin{\\left (\\frac{1}{R} \\left(\\frac{L}{2} - \\alpha_{1}\\right) \\right )}\\\\\\sin{\\left (\\frac{1}{R} \\left(\\frac{L}{2} - \\alpha_{1}\\right) \\right )} & \\frac{1}{-1 + \\frac{\\alpha_{2}}{R}} \\left(1 - \\frac{\\alpha_{2}}{R}\\right) \\cos{\\left (\\frac{1}{R} \\left(\\frac{L}{2} - \\alpha_{1}\\right) \\right )}\\end{matrix}\\right]$$"
      ],
      "text/plain": [
       "⎡   ⎛L     ⎞         ⎛L     ⎞     ⎤\n",
       "⎢   ⎜─ - α₁⎟         ⎜─ - α₁⎟     ⎥\n",
       "⎢   ⎜2     ⎟         ⎜2     ⎟     ⎥\n",
       "⎢cos⎜──────⎟     -sin⎜──────⎟     ⎥\n",
       "⎢   ⎝  R   ⎠         ⎝  R   ⎠     ⎥\n",
       "⎢───────────     ─────────────    ⎥\n",
       "⎢       α₂               α₂       ⎥\n",
       "⎢   1 - ──          -1 + ──       ⎥\n",
       "⎢       R                R        ⎥\n",
       "⎢                                 ⎥\n",
       "⎢                         ⎛L     ⎞⎥\n",
       "⎢                         ⎜─ - α₁⎟⎥\n",
       "⎢   ⎛L     ⎞  ⎛    α₂⎞    ⎜2     ⎟⎥\n",
       "⎢   ⎜─ - α₁⎟  ⎜1 - ──⎟⋅cos⎜──────⎟⎥\n",
       "⎢   ⎜2     ⎟  ⎝    R ⎠    ⎝  R   ⎠⎥\n",
       "⎢sin⎜──────⎟  ────────────────────⎥\n",
       "⎢   ⎝  R   ⎠             α₂       ⎥\n",
       "⎢                   -1 + ──       ⎥\n",
       "⎣                        R        ⎦"
      ]
     },
     "execution_count": 180,
     "metadata": {},
     "output_type": "execute_result"
    }
   ],
   "source": [
    "A_inv = trigsimp(A**-1)\n",
    "sympify(A_inv)"
   ]
  },
  {
   "cell_type": "code",
   "execution_count": 181,
   "metadata": {},
   "outputs": [
    {
     "data": {
      "image/png": "[encoded data removed]",
      "text/latex": [
       "$$\\left[\\begin{matrix}\\operatorname{u_{1}}{\\left (x_{1},x_{2} \\right )}\\\\\\operatorname{u_{2}}{\\left (x_{1},x_{2} \\right )}\\end{matrix}\\right]$$"
      ],
      "text/plain": [
       "⎡u₁(x₁, x₂)⎤\n",
       "⎢          ⎥\n",
       "⎣u₂(x₁, x₂)⎦"
      ]
     },
     "execution_count": 181,
     "metadata": {},
     "output_type": "execute_result"
    }
   ],
   "source": [
    "u1 = Function(\"u_1\")\n",
    "u2 = Function(\"u_2\")\n",
    "u_x=Matrix([u1(x1,x2), u2(x1,x2)])\n",
    "u_x"
   ]
  },
  {
   "cell_type": "code",
   "execution_count": 182,
   "metadata": {},
   "outputs": [
    {
     "data": {
      "image/png": "[encoded data removed]",
      "text/latex": [
       "$$\\left[\\begin{matrix}\\frac{\\operatorname{u_{1}}{\\left (\\alpha_{1},\\alpha_{2} \\right )}}{1 - \\frac{\\alpha_{2}}{R}} \\cos{\\left (\\frac{1}{R} \\left(\\frac{L}{2} - \\alpha_{1}\\right) \\right )} - \\frac{\\operatorname{u_{2}}{\\left (\\alpha_{1},\\alpha_{2} \\right )}}{-1 + \\frac{\\alpha_{2}}{R}} \\sin{\\left (\\frac{1}{R} \\left(\\frac{L}{2} - \\alpha_{1}\\right) \\right )}\\\\\\operatorname{u_{1}}{\\left (\\alpha_{1},\\alpha_{2} \\right )} \\sin{\\left (\\frac{1}{R} \\left(\\frac{L}{2} - \\alpha_{1}\\right) \\right )} + \\frac{\\operatorname{u_{2}}{\\left (\\alpha_{1},\\alpha_{2} \\right )}}{-1 + \\frac{\\alpha_{2}}{R}} \\left(1 - \\frac{\\alpha_{2}}{R}\\right) \\cos{\\left (\\frac{1}{R} \\left(\\frac{L}{2} - \\alpha_{1}\\right) \\right )}\\end{matrix}\\right]$$"
      ],
      "text/plain": [
       "⎡                  ⎛L     ⎞                 ⎛L     ⎞     ⎤\n",
       "⎢                  ⎜─ - α₁⎟                 ⎜─ - α₁⎟     ⎥\n",
       "⎢                  ⎜2     ⎟                 ⎜2     ⎟     ⎥\n",
       "⎢    u₁(α₁, α₂)⋅cos⎜──────⎟   u₂(α₁, α₂)⋅sin⎜──────⎟     ⎥\n",
       "⎢                  ⎝  R   ⎠                 ⎝  R   ⎠     ⎥\n",
       "⎢    ────────────────────── - ──────────────────────     ⎥\n",
       "⎢                α₂                       α₂             ⎥\n",
       "⎢            1 - ──                  -1 + ──             ⎥\n",
       "⎢                R                        R              ⎥\n",
       "⎢                                                        ⎥\n",
       "⎢                                                ⎛L     ⎞⎥\n",
       "⎢                                                ⎜─ - α₁⎟⎥\n",
       "⎢              ⎛L     ⎞   ⎛    α₂⎞               ⎜2     ⎟⎥\n",
       "⎢              ⎜─ - α₁⎟   ⎜1 - ──⎟⋅u₂(α₁, α₂)⋅cos⎜──────⎟⎥\n",
       "⎢              ⎜2     ⎟   ⎝    R ⎠               ⎝  R   ⎠⎥\n",
       "⎢u₁(α₁, α₂)⋅sin⎜──────⎟ + ───────────────────────────────⎥\n",
       "⎢              ⎝  R   ⎠                    α₂            ⎥\n",
       "⎢                                     -1 + ──            ⎥\n",
       "⎣                                          R             ⎦"
      ]
     },
     "execution_count": 182,
     "metadata": {},
     "output_type": "execute_result"
    }
   ],
   "source": [
    "u_alpha = A_inv*u_x.subs(x1, alpha1).subs(x2, alpha2)\n",
    "u_alpha"
   ]
  },
  {
   "cell_type": "code",
   "execution_count": 183,
   "metadata": {},
   "outputs": [
    {
     "data": {
      "image/png": "[encoded data removed]",
      "text/latex": [
       "$$\\left[\\begin{matrix}\\frac{1}{R - \\alpha_{2}} \\left(R \\sin{\\left (\\frac{1}{R} \\left(\\frac{L}{2} - \\alpha_{1}\\right) \\right )} \\frac{\\partial}{\\partial \\alpha_{1}} \\operatorname{u_{2}}{\\left (\\alpha_{1},\\alpha_{2} \\right )} + R \\cos{\\left (\\frac{1}{R} \\left(\\frac{L}{2} - \\alpha_{1}\\right) \\right )} \\frac{\\partial}{\\partial \\alpha_{1}} \\operatorname{u_{1}}{\\left (\\alpha_{1},\\alpha_{2} \\right )} + \\operatorname{u_{1}}{\\left (\\alpha_{1},\\alpha_{2} \\right )} \\sin{\\left (\\frac{1}{R} \\left(\\frac{L}{2} - \\alpha_{1}\\right) \\right )} - \\operatorname{u_{2}}{\\left (\\alpha_{1},\\alpha_{2} \\right )} \\cos{\\left (\\frac{1}{R} \\left(\\frac{L}{2} - \\alpha_{1}\\right) \\right )}\\right)\\\\\\sin{\\left (\\frac{1}{R} \\left(\\frac{L}{2} - \\alpha_{1}\\right) \\right )} \\frac{\\partial}{\\partial \\alpha_{1}} \\operatorname{u_{1}}{\\left (\\alpha_{1},\\alpha_{2} \\right )} - \\cos{\\left (\\frac{1}{R} \\left(\\frac{L}{2} - \\alpha_{1}\\right) \\right )} \\frac{\\partial}{\\partial \\alpha_{1}} \\operatorname{u_{2}}{\\left (\\alpha_{1},\\alpha_{2} \\right )} - \\frac{1}{R} \\operatorname{u_{1}}{\\left (\\alpha_{1},\\alpha_{2} \\right )} \\cos{\\left (\\frac{1}{R} \\left(\\frac{L}{2} - \\alpha_{1}\\right) \\right )} - \\frac{1}{R} \\operatorname{u_{2}}{\\left (\\alpha_{1},\\alpha_{2} \\right )} \\sin{\\left (\\frac{1}{R} \\left(\\frac{L}{2} - \\alpha_{1}\\right) \\right )}\\end{matrix}\\right]$$"
      ],
      "text/plain": [
       "⎡     ⎛L     ⎞                        ⎛L     ⎞                                \n",
       "⎢     ⎜─ - α₁⎟                        ⎜─ - α₁⎟                                \n",
       "⎢     ⎜2     ⎟  ∂                     ⎜2     ⎟  ∂                             \n",
       "⎢R⋅sin⎜──────⎟⋅───(u₂(α₁, α₂)) + R⋅cos⎜──────⎟⋅───(u₁(α₁, α₂)) + u₁(α₁, α₂)⋅si\n",
       "⎢     ⎝  R   ⎠ ∂α₁                    ⎝  R   ⎠ ∂α₁                            \n",
       "⎢─────────────────────────────────────────────────────────────────────────────\n",
       "⎢                                                     R - α₂                  \n",
       "⎢                                                                             \n",
       "⎢                                                                            ⎛\n",
       "⎢                                                                            ⎜\n",
       "⎢     ⎛L     ⎞                      ⎛L     ⎞                                 ⎜\n",
       "⎢     ⎜─ - α₁⎟                      ⎜─ - α₁⎟                   u₁(α₁, α₂)⋅cos⎜\n",
       "⎢     ⎜2     ⎟  ∂                   ⎜2     ⎟  ∂                              ⎝\n",
       "⎢  sin⎜──────⎟⋅───(u₁(α₁, α₂)) - cos⎜──────⎟⋅───(u₂(α₁, α₂)) - ───────────────\n",
       "⎣     ⎝  R   ⎠ ∂α₁                  ⎝  R   ⎠ ∂α₁                         R    \n",
       "\n",
       " ⎛L     ⎞                 ⎛L     ⎞⎤\n",
       " ⎜─ - α₁⎟                 ⎜─ - α₁⎟⎥\n",
       " ⎜2     ⎟                 ⎜2     ⎟⎥\n",
       "n⎜──────⎟ - u₂(α₁, α₂)⋅cos⎜──────⎟⎥\n",
       " ⎝  R   ⎠                 ⎝  R   ⎠⎥\n",
       "──────────────────────────────────⎥\n",
       "                                  ⎥\n",
       "                                  ⎥\n",
       "L     ⎞                 ⎛L     ⎞  ⎥\n",
       "─ - α₁⎟                 ⎜─ - α₁⎟  ⎥\n",
       "2     ⎟                 ⎜2     ⎟  ⎥\n",
       "──────⎟   u₂(α₁, α₂)⋅sin⎜──────⎟  ⎥\n",
       "  R   ⎠                 ⎝  R   ⎠  ⎥\n",
       "─────── - ──────────────────────  ⎥\n",
       "                    R             ⎦"
      ]
     },
     "execution_count": 183,
     "metadata": {},
     "output_type": "execute_result"
    }
   ],
   "source": [
    "trigsimp(u_alpha.diff(alpha1))"
   ]
  },
  {
   "cell_type": "code",
   "execution_count": 184,
   "metadata": {},
   "outputs": [
    {
     "data": {
      "image/png": "[encoded data removed]",
      "text/latex": [
       "$$\\left[\\begin{matrix}\\frac{\\frac{\\partial}{\\partial \\alpha_{2}} \\operatorname{u_{1}}{\\left (\\alpha_{1},\\alpha_{2} \\right )}}{1 - \\frac{\\alpha_{2}}{R}} \\cos{\\left (\\frac{1}{R} \\left(\\frac{L}{2} - \\alpha_{1}\\right) \\right )} - \\frac{\\frac{\\partial}{\\partial \\alpha_{2}} \\operatorname{u_{2}}{\\left (\\alpha_{1},\\alpha_{2} \\right )}}{-1 + \\frac{\\alpha_{2}}{R}} \\sin{\\left (\\frac{1}{R} \\left(\\frac{L}{2} - \\alpha_{1}\\right) \\right )} + \\frac{\\cos{\\left (\\frac{1}{R} \\left(\\frac{L}{2} - \\alpha_{1}\\right) \\right )}}{R \\left(1 - \\frac{\\alpha_{2}}{R}\\right)^{2}} \\operatorname{u_{1}}{\\left (\\alpha_{1},\\alpha_{2} \\right )} + \\frac{\\sin{\\left (\\frac{1}{R} \\left(\\frac{L}{2} - \\alpha_{1}\\right) \\right )}}{R \\left(-1 + \\frac{\\alpha_{2}}{R}\\right)^{2}} \\operatorname{u_{2}}{\\left (\\alpha_{1},\\alpha_{2} \\right )}\\\\\\sin{\\left (\\frac{1}{R} \\left(\\frac{L}{2} - \\alpha_{1}\\right) \\right )} \\frac{\\partial}{\\partial \\alpha_{2}} \\operatorname{u_{1}}{\\left (\\alpha_{1},\\alpha_{2} \\right )} - \\cos{\\left (\\frac{1}{R} \\left(\\frac{L}{2} - \\alpha_{1}\\right) \\right )} \\frac{\\partial}{\\partial \\alpha_{2}} \\operatorname{u_{2}}{\\left (\\alpha_{1},\\alpha_{2} \\right )}\\end{matrix}\\right]$$"
      ],
      "text/plain": [
       "⎡   ⎛L     ⎞                      ⎛L     ⎞                                 ⎛L \n",
       "⎢   ⎜─ - α₁⎟                      ⎜─ - α₁⎟                                 ⎜─ \n",
       "⎢   ⎜2     ⎟  ∂                   ⎜2     ⎟  ∂                              ⎜2 \n",
       "⎢cos⎜──────⎟⋅───(u₁(α₁, α₂))   sin⎜──────⎟⋅───(u₂(α₁, α₂))   u₁(α₁, α₂)⋅cos⎜──\n",
       "⎢   ⎝  R   ⎠ ∂α₂                  ⎝  R   ⎠ ∂α₂                             ⎝  \n",
       "⎢─────────────────────────── - ─────────────────────────── + ─────────────────\n",
       "⎢               α₂                            α₂                            2 \n",
       "⎢           1 - ──                       -1 + ──                    ⎛    α₂⎞  \n",
       "⎢               R                             R                   R⋅⎜1 - ──⎟  \n",
       "⎢                                                                   ⎝    R ⎠  \n",
       "⎢                                                                             \n",
       "⎢                            ⎛L     ⎞                      ⎛L     ⎞           \n",
       "⎢                            ⎜─ - α₁⎟                      ⎜─ - α₁⎟           \n",
       "⎢                            ⎜2     ⎟  ∂                   ⎜2     ⎟  ∂        \n",
       "⎢                         sin⎜──────⎟⋅───(u₁(α₁, α₂)) - cos⎜──────⎟⋅───(u₂(α₁,\n",
       "⎣                            ⎝  R   ⎠ ∂α₂                  ⎝  R   ⎠ ∂α₂       \n",
       "\n",
       "    ⎞                 ⎛L     ⎞⎤\n",
       "- α₁⎟                 ⎜─ - α₁⎟⎥\n",
       "    ⎟                 ⎜2     ⎟⎥\n",
       "────⎟   u₂(α₁, α₂)⋅sin⎜──────⎟⎥\n",
       "R   ⎠                 ⎝  R   ⎠⎥\n",
       "───── + ──────────────────────⎥\n",
       "                        2     ⎥\n",
       "               ⎛     α₂⎞      ⎥\n",
       "             R⋅⎜-1 + ──⎟      ⎥\n",
       "               ⎝     R ⎠      ⎥\n",
       "                              ⎥\n",
       "                              ⎥\n",
       "                              ⎥\n",
       "                              ⎥\n",
       " α₂))                         ⎥\n",
       "                              ⎦"
      ]
     },
     "execution_count": 184,
     "metadata": {},
     "output_type": "execute_result"
    }
   ],
   "source": [
    "trigsimp(u_alpha.diff(alpha2))"
   ]
  },
  {
   "cell_type": "code",
   "execution_count": 185,
   "metadata": {},
   "outputs": [
    {
     "data": {
      "image/png": "[encoded data removed]",
      "text/latex": [
       "$$\\left[\\begin{matrix}\\frac{\\frac{\\partial}{\\partial \\alpha_{1}} \\operatorname{u_{1}}{\\left (\\alpha_{1},\\alpha_{2} \\right )}}{1 - \\frac{\\alpha_{2}}{R}} \\cos{\\left (\\frac{1}{R} \\left(\\frac{L}{2} - \\alpha_{1}\\right) \\right )} - \\frac{\\frac{\\partial}{\\partial \\alpha_{1}} \\operatorname{u_{2}}{\\left (\\alpha_{1},\\alpha_{2} \\right )}}{-1 + \\frac{\\alpha_{2}}{R}} \\sin{\\left (\\frac{1}{R} \\left(\\frac{L}{2} - \\alpha_{1}\\right) \\right )}\\\\\\sin{\\left (\\frac{1}{R} \\left(\\frac{L}{2} - \\alpha_{1}\\right) \\right )} \\frac{\\partial}{\\partial \\alpha_{1}} \\operatorname{u_{1}}{\\left (\\alpha_{1},\\alpha_{2} \\right )} + \\frac{\\frac{\\partial}{\\partial \\alpha_{1}} \\operatorname{u_{2}}{\\left (\\alpha_{1},\\alpha_{2} \\right )}}{-1 + \\frac{\\alpha_{2}}{R}} \\left(1 - \\frac{\\alpha_{2}}{R}\\right) \\cos{\\left (\\frac{1}{R} \\left(\\frac{L}{2} - \\alpha_{1}\\right) \\right )}\\end{matrix}\\right]$$"
      ],
      "text/plain": [
       "⎡       ⎛L     ⎞                      ⎛L     ⎞                     ⎤\n",
       "⎢       ⎜─ - α₁⎟                      ⎜─ - α₁⎟                     ⎥\n",
       "⎢       ⎜2     ⎟  ∂                   ⎜2     ⎟  ∂                  ⎥\n",
       "⎢    cos⎜──────⎟⋅───(u₁(α₁, α₂))   sin⎜──────⎟⋅───(u₂(α₁, α₂))     ⎥\n",
       "⎢       ⎝  R   ⎠ ∂α₁                  ⎝  R   ⎠ ∂α₁                 ⎥\n",
       "⎢    ─────────────────────────── - ───────────────────────────     ⎥\n",
       "⎢                   α₂                            α₂               ⎥\n",
       "⎢               1 - ──                       -1 + ──               ⎥\n",
       "⎢                   R                             R                ⎥\n",
       "⎢                                                                  ⎥\n",
       "⎢                                          ⎛L     ⎞                ⎥\n",
       "⎢                                          ⎜─ - α₁⎟                ⎥\n",
       "⎢   ⎛L     ⎞                   ⎛    α₂⎞    ⎜2     ⎟  ∂             ⎥\n",
       "⎢   ⎜─ - α₁⎟                   ⎜1 - ──⎟⋅cos⎜──────⎟⋅───(u₂(α₁, α₂))⎥\n",
       "⎢   ⎜2     ⎟  ∂                ⎝    R ⎠    ⎝  R   ⎠ ∂α₁            ⎥\n",
       "⎢sin⎜──────⎟⋅───(u₁(α₁, α₂)) + ────────────────────────────────────⎥\n",
       "⎢   ⎝  R   ⎠ ∂α₁                                  α₂               ⎥\n",
       "⎢                                            -1 + ──               ⎥\n",
       "⎣                                                 R                ⎦"
      ]
     },
     "execution_count": 185,
     "metadata": {},
     "output_type": "execute_result"
    }
   ],
   "source": [
    "A_inv*u.diff(alpha1)"
   ]
  },
  {
   "cell_type": "code",
   "execution_count": 186,
   "metadata": {
    "scrolled": true
   },
   "outputs": [
    {
     "data": {
      "image/png": "[encoded data removed]",
      "text/latex": [
       "$$\\left[\\begin{matrix}\\frac{\\frac{\\partial}{\\partial \\alpha_{2}} \\operatorname{u_{1}}{\\left (\\alpha_{1},\\alpha_{2} \\right )}}{1 - \\frac{\\alpha_{2}}{R}} \\cos{\\left (\\frac{1}{R} \\left(\\frac{L}{2} - \\alpha_{1}\\right) \\right )} - \\frac{\\frac{\\partial}{\\partial \\alpha_{2}} \\operatorname{u_{2}}{\\left (\\alpha_{1},\\alpha_{2} \\right )}}{-1 + \\frac{\\alpha_{2}}{R}} \\sin{\\left (\\frac{1}{R} \\left(\\frac{L}{2} - \\alpha_{1}\\right) \\right )}\\\\\\sin{\\left (\\frac{1}{R} \\left(\\frac{L}{2} - \\alpha_{1}\\right) \\right )} \\frac{\\partial}{\\partial \\alpha_{2}} \\operatorname{u_{1}}{\\left (\\alpha_{1},\\alpha_{2} \\right )} + \\frac{\\frac{\\partial}{\\partial \\alpha_{2}} \\operatorname{u_{2}}{\\left (\\alpha_{1},\\alpha_{2} \\right )}}{-1 + \\frac{\\alpha_{2}}{R}} \\left(1 - \\frac{\\alpha_{2}}{R}\\right) \\cos{\\left (\\frac{1}{R} \\left(\\frac{L}{2} - \\alpha_{1}\\right) \\right )}\\end{matrix}\\right]$$"
      ],
      "text/plain": [
       "⎡       ⎛L     ⎞                      ⎛L     ⎞                     ⎤\n",
       "⎢       ⎜─ - α₁⎟                      ⎜─ - α₁⎟                     ⎥\n",
       "⎢       ⎜2     ⎟  ∂                   ⎜2     ⎟  ∂                  ⎥\n",
       "⎢    cos⎜──────⎟⋅───(u₁(α₁, α₂))   sin⎜──────⎟⋅───(u₂(α₁, α₂))     ⎥\n",
       "⎢       ⎝  R   ⎠ ∂α₂                  ⎝  R   ⎠ ∂α₂                 ⎥\n",
       "⎢    ─────────────────────────── - ───────────────────────────     ⎥\n",
       "⎢                   α₂                            α₂               ⎥\n",
       "⎢               1 - ──                       -1 + ──               ⎥\n",
       "⎢                   R                             R                ⎥\n",
       "⎢                                                                  ⎥\n",
       "⎢                                          ⎛L     ⎞                ⎥\n",
       "⎢                                          ⎜─ - α₁⎟                ⎥\n",
       "⎢   ⎛L     ⎞                   ⎛    α₂⎞    ⎜2     ⎟  ∂             ⎥\n",
       "⎢   ⎜─ - α₁⎟                   ⎜1 - ──⎟⋅cos⎜──────⎟⋅───(u₂(α₁, α₂))⎥\n",
       "⎢   ⎜2     ⎟  ∂                ⎝    R ⎠    ⎝  R   ⎠ ∂α₂            ⎥\n",
       "⎢sin⎜──────⎟⋅───(u₁(α₁, α₂)) + ────────────────────────────────────⎥\n",
       "⎢   ⎝  R   ⎠ ∂α₂                                  α₂               ⎥\n",
       "⎢                                            -1 + ──               ⎥\n",
       "⎣                                                 R                ⎦"
      ]
     },
     "execution_count": 186,
     "metadata": {},
     "output_type": "execute_result"
    }
   ],
   "source": [
    "A_inv*u.diff(alpha2)"
   ]
  },
  {
   "cell_type": "code",
   "execution_count": 187,
   "metadata": {},
   "outputs": [],
   "source": [
    "def contraction2D(A,B):\n",
    "    res = A[0,0]*B[0,0]\n",
    "    for i in range(0,2):\n",
    "        for j in range(0,2):\n",
    "            if (i != 0 or j != 0):\n",
    "                res += A[i,j]*B[j,i]\n",
    "    return res\n"
   ]
  },
  {
   "cell_type": "code",
   "execution_count": 188,
   "metadata": {},
   "outputs": [
    {
     "data": {
      "image/png": "[encoded data removed]",
      "text/latex": [
       "$$\\operatorname{e_{11}}{\\left (x_{1},x_{2} \\right )} \\operatorname{s_{11}}{\\left (x_{1},x_{2} \\right )} + 2 \\operatorname{e_{12}}{\\left (x_{1},x_{2} \\right )} \\operatorname{s_{12}}{\\left (x_{1},x_{2} \\right )} + \\operatorname{e_{22}}{\\left (x_{1},x_{2} \\right )} \\operatorname{s_{22}}{\\left (x_{1},x_{2} \\right )}$$"
      ],
      "text/plain": [
       "e_{11}(x₁, x₂)⋅s_{11}(x₁, x₂) + 2⋅e_{12}(x₁, x₂)⋅s_{12}(x₁, x₂) + e_{22}(x₁, x\n",
       "₂)⋅s_{22}(x₁, x₂)"
      ]
     },
     "execution_count": 188,
     "metadata": {},
     "output_type": "execute_result"
    }
   ],
   "source": [
    "e11 = Function(\"e_{11}\")\n",
    "e12 = Function(r\"e_{12}\")\n",
    "e21 = e12\n",
    "e22 = Function(r\"e_{22}\")\n",
    "e=Matrix([[e11(x1,x2), e12(x1,x2)], [e21(x1,x2), e22(x1,x2)]])\n",
    "s11 = Function(\"s_{11}\")\n",
    "s12 = Function(r\"s_{12}\")\n",
    "s21 = s12\n",
    "s22 = Function(r\"s_{22}\")\n",
    "s=Matrix([[s11(x1,x2), s12(x1,x2)], [s21(x1,x2), s22(x1,x2)]])\n",
    "\n",
    "E=contraction2D(s, e)\n",
    "E"
   ]
  },
  {
   "cell_type": "code",
   "execution_count": 205,
   "metadata": {},
   "outputs": [
    {
     "data": {
      "image/png": "[encoded data removed]",
      "text/latex": [
       "$$\\left(- \\left(\\sin{\\left (\\frac{1}{R} \\left(\\frac{L}{2} - \\alpha_{1}\\right) \\right )} - \\frac{\\alpha_{2}}{R} \\sin{\\left (\\frac{1}{R} \\left(\\frac{L}{2} - \\alpha_{1}\\right) \\right )}\\right) \\sin{\\left (\\frac{1}{R} \\left(\\frac{L}{2} - \\alpha_{1}\\right) \\right )} - \\left(\\cos{\\left (\\frac{1}{R} \\left(\\frac{L}{2} - \\alpha_{1}\\right) \\right )} - \\frac{\\alpha_{2}}{R} \\cos{\\left (\\frac{1}{R} \\left(\\frac{L}{2} - \\alpha_{1}\\right) \\right )}\\right) \\cos{\\left (\\frac{1}{R} \\left(\\frac{L}{2} - \\alpha_{1}\\right) \\right )}\\right) \\left(\\left(\\left(\\operatorname{e_{11}}{\\left (x_{1},x_{2} \\right )} \\sin{\\left (\\frac{1}{R} \\left(\\frac{L}{2} - \\alpha_{1}\\right) \\right )} + \\frac{\\operatorname{e_{12}}{\\left (x_{1},x_{2} \\right )}}{-1 + \\frac{\\alpha_{2}}{R}} \\left(1 - \\frac{\\alpha_{2}}{R}\\right) \\cos{\\left (\\frac{1}{R} \\left(\\frac{L}{2} - \\alpha_{1}\\right) \\right )}\\right) \\sin{\\left (\\frac{1}{R} \\left(\\frac{L}{2} - \\alpha_{1}\\right) \\right )} + \\frac{1}{-1 + \\frac{\\alpha_{2}}{R}} \\left(1 - \\frac{\\alpha_{2}}{R}\\right) \\left(\\operatorname{e_{12}}{\\left (x_{1},x_{2} \\right )} \\sin{\\left (\\frac{1}{R} \\left(\\frac{L}{2} - \\alpha_{1}\\right) \\right )} + \\frac{\\operatorname{e_{22}}{\\left (x_{1},x_{2} \\right )}}{-1 + \\frac{\\alpha_{2}}{R}} \\left(1 - \\frac{\\alpha_{2}}{R}\\right) \\cos{\\left (\\frac{1}{R} \\left(\\frac{L}{2} - \\alpha_{1}\\right) \\right )}\\right) \\cos{\\left (\\frac{1}{R} \\left(\\frac{L}{2} - \\alpha_{1}\\right) \\right )}\\right) \\left(\\left(\\operatorname{s_{11}}{\\left (x_{1},x_{2} \\right )} \\sin{\\left (\\frac{1}{R} \\left(\\frac{L}{2} - \\alpha_{1}\\right) \\right )} + \\frac{\\operatorname{s_{12}}{\\left (x_{1},x_{2} \\right )}}{-1 + \\frac{\\alpha_{2}}{R}} \\left(1 - \\frac{\\alpha_{2}}{R}\\right) \\cos{\\left (\\frac{1}{R} \\left(\\frac{L}{2} - \\alpha_{1}\\right) \\right )}\\right) \\sin{\\left (\\frac{1}{R} \\left(\\frac{L}{2} - \\alpha_{1}\\right) \\right )} + \\frac{1}{-1 + \\frac{\\alpha_{2}}{R}} \\left(1 - \\frac{\\alpha_{2}}{R}\\right) \\left(\\operatorname{s_{12}}{\\left (x_{1},x_{2} \\right )} \\sin{\\left (\\frac{1}{R} \\left(\\frac{L}{2} - \\alpha_{1}\\right) \\right )} + \\frac{\\operatorname{s_{22}}{\\left (x_{1},x_{2} \\right )}}{-1 + \\frac{\\alpha_{2}}{R}} \\left(1 - \\frac{\\alpha_{2}}{R}\\right) \\cos{\\left (\\frac{1}{R} \\left(\\frac{L}{2} - \\alpha_{1}\\right) \\right )}\\right) \\cos{\\left (\\frac{1}{R} \\left(\\frac{L}{2} - \\alpha_{1}\\right) \\right )}\\right) + \\left(\\left(\\frac{\\operatorname{e_{11}}{\\left (x_{1},x_{2} \\right )}}{1 - \\frac{\\alpha_{2}}{R}} \\cos{\\left (\\frac{1}{R} \\left(\\frac{L}{2} - \\alpha_{1}\\right) \\right )} - \\frac{\\operatorname{e_{12}}{\\left (x_{1},x_{2} \\right )}}{-1 + \\frac{\\alpha_{2}}{R}} \\sin{\\left (\\frac{1}{R} \\left(\\frac{L}{2} - \\alpha_{1}\\right) \\right )}\\right) \\sin{\\left (\\frac{1}{R} \\left(\\frac{L}{2} - \\alpha_{1}\\right) \\right )} + \\frac{1}{-1 + \\frac{\\alpha_{2}}{R}} \\left(1 - \\frac{\\alpha_{2}}{R}\\right) \\left(\\frac{\\operatorname{e_{12}}{\\left (x_{1},x_{2} \\right )}}{1 - \\frac{\\alpha_{2}}{R}} \\cos{\\left (\\frac{1}{R} \\left(\\frac{L}{2} - \\alpha_{1}\\right) \\right )} - \\frac{\\operatorname{e_{22}}{\\left (x_{1},x_{2} \\right )}}{-1 + \\frac{\\alpha_{2}}{R}} \\sin{\\left (\\frac{1}{R} \\left(\\frac{L}{2} - \\alpha_{1}\\right) \\right )}\\right) \\cos{\\left (\\frac{1}{R} \\left(\\frac{L}{2} - \\alpha_{1}\\right) \\right )}\\right) \\left(\\frac{1}{1 - \\frac{\\alpha_{2}}{R}} \\left(\\operatorname{s_{11}}{\\left (x_{1},x_{2} \\right )} \\sin{\\left (\\frac{1}{R} \\left(\\frac{L}{2} - \\alpha_{1}\\right) \\right )} + \\frac{\\operatorname{s_{12}}{\\left (x_{1},x_{2} \\right )}}{-1 + \\frac{\\alpha_{2}}{R}} \\left(1 - \\frac{\\alpha_{2}}{R}\\right) \\cos{\\left (\\frac{1}{R} \\left(\\frac{L}{2} - \\alpha_{1}\\right) \\right )}\\right) \\cos{\\left (\\frac{1}{R} \\left(\\frac{L}{2} - \\alpha_{1}\\right) \\right )} - \\frac{1}{-1 + \\frac{\\alpha_{2}}{R}} \\left(\\operatorname{s_{12}}{\\left (x_{1},x_{2} \\right )} \\sin{\\left (\\frac{1}{R} \\left(\\frac{L}{2} - \\alpha_{1}\\right) \\right )} + \\frac{\\operatorname{s_{22}}{\\left (x_{1},x_{2} \\right )}}{-1 + \\frac{\\alpha_{2}}{R}} \\left(1 - \\frac{\\alpha_{2}}{R}\\right) \\cos{\\left (\\frac{1}{R} \\left(\\frac{L}{2} - \\alpha_{1}\\right) \\right )}\\right) \\sin{\\left (\\frac{1}{R} \\left(\\frac{L}{2} - \\alpha_{1}\\right) \\right )}\\right) + \\left(\\left(\\frac{\\operatorname{s_{11}}{\\left (x_{1},x_{2} \\right )}}{1 - \\frac{\\alpha_{2}}{R}} \\cos{\\left (\\frac{1}{R} \\left(\\frac{L}{2} - \\alpha_{1}\\right) \\right )} - \\frac{\\operatorname{s_{12}}{\\left (x_{1},x_{2} \\right )}}{-1 + \\frac{\\alpha_{2}}{R}} \\sin{\\left (\\frac{1}{R} \\left(\\frac{L}{2} - \\alpha_{1}\\right) \\right )}\\right) \\sin{\\left (\\frac{1}{R} \\left(\\frac{L}{2} - \\alpha_{1}\\right) \\right )} + \\frac{1}{-1 + \\frac{\\alpha_{2}}{R}} \\left(1 - \\frac{\\alpha_{2}}{R}\\right) \\left(\\frac{\\operatorname{s_{12}}{\\left (x_{1},x_{2} \\right )}}{1 - \\frac{\\alpha_{2}}{R}} \\cos{\\left (\\frac{1}{R} \\left(\\frac{L}{2} - \\alpha_{1}\\right) \\right )} - \\frac{\\operatorname{s_{22}}{\\left (x_{1},x_{2} \\right )}}{-1 + \\frac{\\alpha_{2}}{R}} \\sin{\\left (\\frac{1}{R} \\left(\\frac{L}{2} - \\alpha_{1}\\right) \\right )}\\right) \\cos{\\left (\\frac{1}{R} \\left(\\frac{L}{2} - \\alpha_{1}\\right) \\right )}\\right) \\left(\\frac{1}{1 - \\frac{\\alpha_{2}}{R}} \\left(\\operatorname{e_{11}}{\\left (x_{1},x_{2} \\right )} \\sin{\\left (\\frac{1}{R} \\left(\\frac{L}{2} - \\alpha_{1}\\right) \\right )} + \\frac{\\operatorname{e_{12}}{\\left (x_{1},x_{2} \\right )}}{-1 + \\frac{\\alpha_{2}}{R}} \\left(1 - \\frac{\\alpha_{2}}{R}\\right) \\cos{\\left (\\frac{1}{R} \\left(\\frac{L}{2} - \\alpha_{1}\\right) \\right )}\\right) \\cos{\\left (\\frac{1}{R} \\left(\\frac{L}{2} - \\alpha_{1}\\right) \\right )} - \\frac{1}{-1 + \\frac{\\alpha_{2}}{R}} \\left(\\operatorname{e_{12}}{\\left (x_{1},x_{2} \\right )} \\sin{\\left (\\frac{1}{R} \\left(\\frac{L}{2} - \\alpha_{1}\\right) \\right )} + \\frac{\\operatorname{e_{22}}{\\left (x_{1},x_{2} \\right )}}{-1 + \\frac{\\alpha_{2}}{R}} \\left(1 - \\frac{\\alpha_{2}}{R}\\right) \\cos{\\left (\\frac{1}{R} \\left(\\frac{L}{2} - \\alpha_{1}\\right) \\right )}\\right) \\sin{\\left (\\frac{1}{R} \\left(\\frac{L}{2} - \\alpha_{1}\\right) \\right )}\\right) + \\left(\\frac{1}{1 - \\frac{\\alpha_{2}}{R}} \\left(\\frac{\\operatorname{e_{11}}{\\left (x_{1},x_{2} \\right )}}{1 - \\frac{\\alpha_{2}}{R}} \\cos{\\left (\\frac{1}{R} \\left(\\frac{L}{2} - \\alpha_{1}\\right) \\right )} - \\frac{\\operatorname{e_{12}}{\\left (x_{1},x_{2} \\right )}}{-1 + \\frac{\\alpha_{2}}{R}} \\sin{\\left (\\frac{1}{R} \\left(\\frac{L}{2} - \\alpha_{1}\\right) \\right )}\\right) \\cos{\\left (\\frac{1}{R} \\left(\\frac{L}{2} - \\alpha_{1}\\right) \\right )} - \\frac{1}{-1 + \\frac{\\alpha_{2}}{R}} \\left(\\frac{\\operatorname{e_{12}}{\\left (x_{1},x_{2} \\right )}}{1 - \\frac{\\alpha_{2}}{R}} \\cos{\\left (\\frac{1}{R} \\left(\\frac{L}{2} - \\alpha_{1}\\right) \\right )} - \\frac{\\operatorname{e_{22}}{\\left (x_{1},x_{2} \\right )}}{-1 + \\frac{\\alpha_{2}}{R}} \\sin{\\left (\\frac{1}{R} \\left(\\frac{L}{2} - \\alpha_{1}\\right) \\right )}\\right) \\sin{\\left (\\frac{1}{R} \\left(\\frac{L}{2} - \\alpha_{1}\\right) \\right )}\\right) \\left(\\frac{1}{1 - \\frac{\\alpha_{2}}{R}} \\left(\\frac{\\operatorname{s_{11}}{\\left (x_{1},x_{2} \\right )}}{1 - \\frac{\\alpha_{2}}{R}} \\cos{\\left (\\frac{1}{R} \\left(\\frac{L}{2} - \\alpha_{1}\\right) \\right )} - \\frac{\\operatorname{s_{12}}{\\left (x_{1},x_{2} \\right )}}{-1 + \\frac{\\alpha_{2}}{R}} \\sin{\\left (\\frac{1}{R} \\left(\\frac{L}{2} - \\alpha_{1}\\right) \\right )}\\right) \\cos{\\left (\\frac{1}{R} \\left(\\frac{L}{2} - \\alpha_{1}\\right) \\right )} - \\frac{1}{-1 + \\frac{\\alpha_{2}}{R}} \\left(\\frac{\\operatorname{s_{12}}{\\left (x_{1},x_{2} \\right )}}{1 - \\frac{\\alpha_{2}}{R}} \\cos{\\left (\\frac{1}{R} \\left(\\frac{L}{2} - \\alpha_{1}\\right) \\right )} - \\frac{\\operatorname{s_{22}}{\\left (x_{1},x_{2} \\right )}}{-1 + \\frac{\\alpha_{2}}{R}} \\sin{\\left (\\frac{1}{R} \\left(\\frac{L}{2} - \\alpha_{1}\\right) \\right )}\\right) \\sin{\\left (\\frac{1}{R} \\left(\\frac{L}{2} - \\alpha_{1}\\right) \\right )}\\right)\\right)$$"
      ],
      "text/plain": [
       "                                                                              \n",
       "                                                                              \n",
       "                                                                              \n",
       "                                                                              \n",
       "⎛  ⎛                    ⎛L     ⎞⎞               ⎛                    ⎛L     ⎞⎞\n",
       "⎜  ⎜                    ⎜─ - α₁⎟⎟               ⎜                    ⎜─ - α₁⎟⎟\n",
       "⎜  ⎜   ⎛L     ⎞         ⎜2     ⎟⎟    ⎛L     ⎞   ⎜   ⎛L     ⎞         ⎜2     ⎟⎟\n",
       "⎜  ⎜   ⎜─ - α₁⎟   α₂⋅sin⎜──────⎟⎟    ⎜─ - α₁⎟   ⎜   ⎜─ - α₁⎟   α₂⋅cos⎜──────⎟⎟\n",
       "⎜  ⎜   ⎜2     ⎟         ⎝  R   ⎠⎟    ⎜2     ⎟   ⎜   ⎜2     ⎟         ⎝  R   ⎠⎟\n",
       "⎜- ⎜sin⎜──────⎟ - ──────────────⎟⋅sin⎜──────⎟ - ⎜cos⎜──────⎟ - ──────────────⎟\n",
       "⎝  ⎝   ⎝  R   ⎠         R       ⎠    ⎝  R   ⎠   ⎝   ⎝  R   ⎠         R       ⎠\n",
       "                                                                              \n",
       "                                                                              \n",
       "\n",
       "              ⎛⎛                                                              \n",
       "              ⎜⎜                                                              \n",
       "              ⎜⎜                                                              \n",
       "              ⎜⎜                                                              \n",
       "            ⎞ ⎜⎜⎛                                                        ⎛L   \n",
       "            ⎟ ⎜⎜⎜                                                        ⎜─ - \n",
       "    ⎛L     ⎞⎟ ⎜⎜⎜                  ⎛L     ⎞   ⎛    α₂⎞                   ⎜2   \n",
       "    ⎜─ - α₁⎟⎟ ⎜⎜⎜                  ⎜─ - α₁⎟   ⎜1 - ──⎟⋅e_{12}(x₁, x₂)⋅cos⎜────\n",
       "    ⎜2     ⎟⎟ ⎜⎜⎜                  ⎜2     ⎟   ⎝    R ⎠                   ⎝  R \n",
       "⋅cos⎜──────⎟⎟⋅⎜⎜⎜e_{11}(x₁, x₂)⋅sin⎜──────⎟ + ────────────────────────────────\n",
       "    ⎝  R   ⎠⎠ ⎜⎜⎜                  ⎝  R   ⎠                      α₂           \n",
       "              ⎜⎜⎜                                           -1 + ──           \n",
       "              ⎝⎝⎝                                                R            \n",
       "\n",
       "                            ⎛                                                 \n",
       "                            ⎜                                                 \n",
       "                            ⎜                  ⎛L     ⎞   ⎛    α₂⎞            \n",
       "                            ⎜                  ⎜─ - α₁⎟   ⎜1 - ──⎟⋅e_{22}(x₁, \n",
       "  ⎞⎞               ⎛    α₂⎞ ⎜                  ⎜2     ⎟   ⎝    R ⎠            \n",
       "α₁⎟⎟               ⎜1 - ──⎟⋅⎜e_{12}(x₁, x₂)⋅sin⎜──────⎟ + ────────────────────\n",
       "  ⎟⎟    ⎛L     ⎞   ⎝    R ⎠ ⎜                  ⎝  R   ⎠                      α\n",
       "──⎟⎟    ⎜─ - α₁⎟            ⎜                                           -1 + ─\n",
       "  ⎠⎟    ⎜2     ⎟            ⎝                                                R\n",
       "───⎟⋅sin⎜──────⎟ + ───────────────────────────────────────────────────────────\n",
       "   ⎟    ⎝  R   ⎠                                                α₂            \n",
       "   ⎟                                                       -1 + ──            \n",
       "   ⎠                                                            R             \n",
       "\n",
       "       ⎛L     ⎞⎞            ⎞ ⎛                                               \n",
       "       ⎜─ - α₁⎟⎟            ⎟ ⎜                                               \n",
       "       ⎜2     ⎟⎟    ⎛L     ⎞⎟ ⎜                                               \n",
       "x₂)⋅cos⎜──────⎟⎟    ⎜─ - α₁⎟⎟ ⎜                                               \n",
       "       ⎝  R   ⎠⎟    ⎜2     ⎟⎟ ⎜⎛                                              \n",
       "───────────────⎟⋅cos⎜──────⎟⎟ ⎜⎜                                              \n",
       "₂              ⎟    ⎝  R   ⎠⎟ ⎜⎜                  ⎛L     ⎞   ⎛    α₂⎞         \n",
       "─              ⎟            ⎟ ⎜⎜                  ⎜─ - α₁⎟   ⎜1 - ──⎟⋅s_{12}(x\n",
       "               ⎠            ⎟ ⎜⎜                  ⎜2     ⎟   ⎝    R ⎠         \n",
       "────────────────────────────⎟⋅⎜⎜s_{11}(x₁, x₂)⋅sin⎜──────⎟ + ─────────────────\n",
       "                            ⎟ ⎜⎜                  ⎝  R   ⎠                    \n",
       "                            ⎟ ⎜⎜                                           -1 \n",
       "                            ⎠ ⎝⎝                                              \n",
       "\n",
       "                                           ⎛                                  \n",
       "                                           ⎜                                  \n",
       "                                           ⎜                  ⎛L     ⎞   ⎛    \n",
       "                                           ⎜                  ⎜─ - α₁⎟   ⎜1 - \n",
       "          ⎛L     ⎞⎞               ⎛    α₂⎞ ⎜                  ⎜2     ⎟   ⎝    \n",
       "          ⎜─ - α₁⎟⎟               ⎜1 - ──⎟⋅⎜s_{12}(x₁, x₂)⋅sin⎜──────⎟ + ─────\n",
       "          ⎜2     ⎟⎟    ⎛L     ⎞   ⎝    R ⎠ ⎜                  ⎝  R   ⎠        \n",
       "₁, x₂)⋅cos⎜──────⎟⎟    ⎜─ - α₁⎟            ⎜                                  \n",
       "          ⎝  R   ⎠⎟    ⎜2     ⎟            ⎝                                  \n",
       "──────────────────⎟⋅sin⎜──────⎟ + ────────────────────────────────────────────\n",
       "  α₂              ⎟    ⎝  R   ⎠                                               \n",
       "+ ──              ⎟                                                       -1 +\n",
       "  R               ⎠                                                           \n",
       "\n",
       "                      ⎛L     ⎞⎞            ⎞   ⎛                              \n",
       "                      ⎜─ - α₁⎟⎟            ⎟   ⎜                              \n",
       "α₂⎞                   ⎜2     ⎟⎟    ⎛L     ⎞⎟   ⎜                              \n",
       "──⎟⋅s_{22}(x₁, x₂)⋅cos⎜──────⎟⎟    ⎜─ - α₁⎟⎟   ⎜                              \n",
       "R ⎠                   ⎝  R   ⎠⎟    ⎜2     ⎟⎟   ⎜⎛                  ⎛L     ⎞   \n",
       "──────────────────────────────⎟⋅cos⎜──────⎟⎟   ⎜⎜                  ⎜─ - α₁⎟   \n",
       "              α₂              ⎟    ⎝  R   ⎠⎟   ⎜⎜                  ⎜2     ⎟   \n",
       "         -1 + ──              ⎟            ⎟   ⎜⎜e_{11}(x₁, x₂)⋅cos⎜──────⎟   \n",
       "              R               ⎠            ⎟   ⎜⎜                  ⎝  R   ⎠   \n",
       "───────────────────────────────────────────⎟ + ⎜⎜────────────────────────── - \n",
       " α₂                                        ⎟   ⎜⎜              α₂             \n",
       " ──                                        ⎟   ⎜⎜          1 - ──             \n",
       " R                                         ⎠   ⎝⎝              R              \n",
       "\n",
       "                                                   ⎛                  ⎛L     ⎞\n",
       "                                                   ⎜                  ⎜─ - α₁⎟\n",
       "                                                   ⎜                  ⎜2     ⎟\n",
       "                                                   ⎜e_{12}(x₁, x₂)⋅cos⎜──────⎟\n",
       "                  ⎛L     ⎞⎞               ⎛    α₂⎞ ⎜                  ⎝  R   ⎠\n",
       "                  ⎜─ - α₁⎟⎟               ⎜1 - ──⎟⋅⎜──────────────────────────\n",
       "                  ⎜2     ⎟⎟    ⎛L     ⎞   ⎝    R ⎠ ⎜              α₂          \n",
       "e_{12}(x₁, x₂)⋅sin⎜──────⎟⎟    ⎜─ - α₁⎟            ⎜          1 - ──          \n",
       "                  ⎝  R   ⎠⎟    ⎜2     ⎟            ⎝              R           \n",
       "──────────────────────────⎟⋅sin⎜──────⎟ + ────────────────────────────────────\n",
       "              α₂          ⎟    ⎝  R   ⎠                                       \n",
       "         -1 + ──          ⎟                                                  -\n",
       "              R           ⎠                                                   \n",
       "\n",
       "                     ⎛L     ⎞⎞            ⎞ ⎛⎛                                \n",
       "                     ⎜─ - α₁⎟⎟            ⎟ ⎜⎜                                \n",
       "                     ⎜2     ⎟⎟    ⎛L     ⎞⎟ ⎜⎜                  ⎛L     ⎞   ⎛  \n",
       "   e_{22}(x₁, x₂)⋅sin⎜──────⎟⎟    ⎜─ - α₁⎟⎟ ⎜⎜                  ⎜─ - α₁⎟   ⎜1 \n",
       "                     ⎝  R   ⎠⎟    ⎜2     ⎟⎟ ⎜⎜                  ⎜2     ⎟   ⎝  \n",
       " - ──────────────────────────⎟⋅cos⎜──────⎟⎟ ⎜⎜s_{11}(x₁, x₂)⋅sin⎜──────⎟ + ───\n",
       "                 α₂          ⎟    ⎝  R   ⎠⎟ ⎜⎜                  ⎝  R   ⎠      \n",
       "            -1 + ──          ⎟            ⎟ ⎜⎜                                \n",
       "                 R           ⎠            ⎟ ⎜⎝                                \n",
       "──────────────────────────────────────────⎟⋅⎜─────────────────────────────────\n",
       "    α₂                                    ⎟ ⎜                                 \n",
       "1 + ──                                    ⎟ ⎜                                 \n",
       "    R                                     ⎠ ⎝                                 \n",
       "\n",
       "                        ⎛L     ⎞⎞               ⎛                             \n",
       "                        ⎜─ - α₁⎟⎟               ⎜                             \n",
       "  α₂⎞                   ⎜2     ⎟⎟    ⎛L     ⎞   ⎜                  ⎛L     ⎞   \n",
       "- ──⎟⋅s_{12}(x₁, x₂)⋅cos⎜──────⎟⎟    ⎜─ - α₁⎟   ⎜                  ⎜─ - α₁⎟   \n",
       "  R ⎠                   ⎝  R   ⎠⎟    ⎜2     ⎟   ⎜                  ⎜2     ⎟   \n",
       "────────────────────────────────⎟⋅cos⎜──────⎟   ⎜s_{12}(x₁, x₂)⋅sin⎜──────⎟ + \n",
       "                α₂              ⎟    ⎝  R   ⎠   ⎜                  ⎝  R   ⎠   \n",
       "           -1 + ──              ⎟               ⎜                             \n",
       "                R               ⎠               ⎝                             \n",
       "───────────────────────────────────────────── - ──────────────────────────────\n",
       "       α₂                                                                     \n",
       "   1 - ──                                                                     \n",
       "       R                                                                      \n",
       "\n",
       "                           ⎛L     ⎞⎞            ⎞   ⎛                         \n",
       "                           ⎜─ - α₁⎟⎟            ⎟   ⎜                         \n",
       "⎛    α₂⎞                   ⎜2     ⎟⎟    ⎛L     ⎞⎟   ⎜                         \n",
       "⎜1 - ──⎟⋅s_{22}(x₁, x₂)⋅cos⎜──────⎟⎟    ⎜─ - α₁⎟⎟   ⎜                         \n",
       "⎝    R ⎠                   ⎝  R   ⎠⎟    ⎜2     ⎟⎟   ⎜⎛                  ⎛L    \n",
       "───────────────────────────────────⎟⋅sin⎜──────⎟⎟   ⎜⎜                  ⎜─ - α\n",
       "                   α₂              ⎟    ⎝  R   ⎠⎟   ⎜⎜                  ⎜2    \n",
       "              -1 + ──              ⎟            ⎟   ⎜⎜s_{11}(x₁, x₂)⋅cos⎜─────\n",
       "                   R               ⎠            ⎟   ⎜⎜                  ⎝  R  \n",
       "────────────────────────────────────────────────⎟ + ⎜⎜────────────────────────\n",
       "          α₂                                    ⎟   ⎜⎜              α₂        \n",
       "     -1 + ──                                    ⎟   ⎜⎜          1 - ──        \n",
       "          R                                     ⎠   ⎝⎝              R         \n",
       "\n",
       "                                                        ⎛                  ⎛L \n",
       "                                                        ⎜                  ⎜─ \n",
       "                                                        ⎜                  ⎜2 \n",
       "                                                        ⎜s_{12}(x₁, x₂)⋅cos⎜──\n",
       " ⎞                     ⎛L     ⎞⎞               ⎛    α₂⎞ ⎜                  ⎝  \n",
       "₁⎟                     ⎜─ - α₁⎟⎟               ⎜1 - ──⎟⋅⎜─────────────────────\n",
       " ⎟                     ⎜2     ⎟⎟    ⎛L     ⎞   ⎝    R ⎠ ⎜              α₂     \n",
       "─⎟   s_{12}(x₁, x₂)⋅sin⎜──────⎟⎟    ⎜─ - α₁⎟            ⎜          1 - ──     \n",
       " ⎠                     ⎝  R   ⎠⎟    ⎜2     ⎟            ⎝              R      \n",
       "── - ──────────────────────────⎟⋅sin⎜──────⎟ + ───────────────────────────────\n",
       "                   α₂          ⎟    ⎝  R   ⎠                                  \n",
       "              -1 + ──          ⎟                                              \n",
       "                   R           ⎠                                              \n",
       "\n",
       "    ⎞                     ⎛L     ⎞⎞            ⎞ ⎛⎛                           \n",
       "- α₁⎟                     ⎜─ - α₁⎟⎟            ⎟ ⎜⎜                           \n",
       "    ⎟                     ⎜2     ⎟⎟    ⎛L     ⎞⎟ ⎜⎜                  ⎛L     ⎞ \n",
       "────⎟   s_{22}(x₁, x₂)⋅sin⎜──────⎟⎟    ⎜─ - α₁⎟⎟ ⎜⎜                  ⎜─ - α₁⎟ \n",
       "R   ⎠                     ⎝  R   ⎠⎟    ⎜2     ⎟⎟ ⎜⎜                  ⎜2     ⎟ \n",
       "───── - ──────────────────────────⎟⋅cos⎜──────⎟⎟ ⎜⎜e_{11}(x₁, x₂)⋅sin⎜──────⎟ \n",
       "                      α₂          ⎟    ⎝  R   ⎠⎟ ⎜⎜                  ⎝  R   ⎠ \n",
       "                 -1 + ──          ⎟            ⎟ ⎜⎜                           \n",
       "                      R           ⎠            ⎟ ⎜⎝                           \n",
       "───────────────────────────────────────────────⎟⋅⎜────────────────────────────\n",
       "         α₂                                    ⎟ ⎜                            \n",
       "    -1 + ──                                    ⎟ ⎜                            \n",
       "         R                                     ⎠ ⎝                            \n",
       "\n",
       "                             ⎛L     ⎞⎞               ⎛                        \n",
       "                             ⎜─ - α₁⎟⎟               ⎜                        \n",
       "  ⎛    α₂⎞                   ⎜2     ⎟⎟    ⎛L     ⎞   ⎜                  ⎛L    \n",
       "  ⎜1 - ──⎟⋅e_{12}(x₁, x₂)⋅cos⎜──────⎟⎟    ⎜─ - α₁⎟   ⎜                  ⎜─ - α\n",
       "  ⎝    R ⎠                   ⎝  R   ⎠⎟    ⎜2     ⎟   ⎜                  ⎜2    \n",
       "+ ───────────────────────────────────⎟⋅cos⎜──────⎟   ⎜e_{12}(x₁, x₂)⋅sin⎜─────\n",
       "                     α₂              ⎟    ⎝  R   ⎠   ⎜                  ⎝  R  \n",
       "                -1 + ──              ⎟               ⎜                        \n",
       "                     R               ⎠               ⎝                        \n",
       "────────────────────────────────────────────────── - ─────────────────────────\n",
       "            α₂                                                                \n",
       "        1 - ──                                                                \n",
       "            R                                                                 \n",
       "\n",
       "                                ⎛L     ⎞⎞            ⎞   ⎛⎛                  ⎛\n",
       "                                ⎜─ - α₁⎟⎟            ⎟   ⎜⎜                  ⎜\n",
       " ⎞   ⎛    α₂⎞                   ⎜2     ⎟⎟    ⎛L     ⎞⎟   ⎜⎜                  ⎜\n",
       "₁⎟   ⎜1 - ──⎟⋅e_{22}(x₁, x₂)⋅cos⎜──────⎟⎟    ⎜─ - α₁⎟⎟   ⎜⎜e_{11}(x₁, x₂)⋅cos⎜\n",
       " ⎟   ⎝    R ⎠                   ⎝  R   ⎠⎟    ⎜2     ⎟⎟   ⎜⎜                  ⎝\n",
       "─⎟ + ───────────────────────────────────⎟⋅sin⎜──────⎟⎟   ⎜⎜───────────────────\n",
       " ⎠                      α₂              ⎟    ⎝  R   ⎠⎟   ⎜⎜              α₂   \n",
       "                   -1 + ──              ⎟            ⎟   ⎜⎜          1 - ──   \n",
       "                        R               ⎠            ⎟   ⎜⎝              R    \n",
       "─────────────────────────────────────────────────────⎟ + ⎜────────────────────\n",
       "               α₂                                    ⎟   ⎜                    \n",
       "          -1 + ──                                    ⎟   ⎜                    \n",
       "               R                                     ⎠   ⎝                    \n",
       "\n",
       "L     ⎞                     ⎛L     ⎞⎞               ⎛                  ⎛L     \n",
       "─ - α₁⎟                     ⎜─ - α₁⎟⎟               ⎜                  ⎜─ - α₁\n",
       "2     ⎟                     ⎜2     ⎟⎟    ⎛L     ⎞   ⎜                  ⎜2     \n",
       "──────⎟   e_{12}(x₁, x₂)⋅sin⎜──────⎟⎟    ⎜─ - α₁⎟   ⎜e_{12}(x₁, x₂)⋅cos⎜──────\n",
       "  R   ⎠                     ⎝  R   ⎠⎟    ⎜2     ⎟   ⎜                  ⎝  R   \n",
       "─────── - ──────────────────────────⎟⋅cos⎜──────⎟   ⎜─────────────────────────\n",
       "                        α₂          ⎟    ⎝  R   ⎠   ⎜              α₂         \n",
       "                   -1 + ──          ⎟               ⎜          1 - ──         \n",
       "                        R           ⎠               ⎝              R          \n",
       "───────────────────────────────────────────────── - ──────────────────────────\n",
       "                α₂                                                            \n",
       "            1 - ──                                                            \n",
       "                R                                                             \n",
       "\n",
       "⎞                     ⎛L     ⎞⎞            ⎞ ⎛⎛                  ⎛L     ⎞     \n",
       "⎟                     ⎜─ - α₁⎟⎟            ⎟ ⎜⎜                  ⎜─ - α₁⎟     \n",
       "⎟                     ⎜2     ⎟⎟    ⎛L     ⎞⎟ ⎜⎜                  ⎜2     ⎟     \n",
       "⎟   e_{22}(x₁, x₂)⋅sin⎜──────⎟⎟    ⎜─ - α₁⎟⎟ ⎜⎜s_{11}(x₁, x₂)⋅cos⎜──────⎟   s_\n",
       "⎠                     ⎝  R   ⎠⎟    ⎜2     ⎟⎟ ⎜⎜                  ⎝  R   ⎠     \n",
       "─ - ──────────────────────────⎟⋅sin⎜──────⎟⎟ ⎜⎜────────────────────────── - ──\n",
       "                  α₂          ⎟    ⎝  R   ⎠⎟ ⎜⎜              α₂               \n",
       "             -1 + ──          ⎟            ⎟ ⎜⎜          1 - ──               \n",
       "                  R           ⎠            ⎟ ⎜⎝              R                \n",
       "───────────────────────────────────────────⎟⋅⎜────────────────────────────────\n",
       "          α₂                               ⎟ ⎜                                \n",
       "     -1 + ──                               ⎟ ⎜                                \n",
       "          R                                ⎠ ⎝                                \n",
       "\n",
       "                ⎛L     ⎞⎞               ⎛                  ⎛L     ⎞           \n",
       "                ⎜─ - α₁⎟⎟               ⎜                  ⎜─ - α₁⎟           \n",
       "                ⎜2     ⎟⎟    ⎛L     ⎞   ⎜                  ⎜2     ⎟           \n",
       "{12}(x₁, x₂)⋅sin⎜──────⎟⎟    ⎜─ - α₁⎟   ⎜s_{12}(x₁, x₂)⋅cos⎜──────⎟   s_{22}(x\n",
       "                ⎝  R   ⎠⎟    ⎜2     ⎟   ⎜                  ⎝  R   ⎠           \n",
       "────────────────────────⎟⋅cos⎜──────⎟   ⎜────────────────────────── - ────────\n",
       "            α₂          ⎟    ⎝  R   ⎠   ⎜              α₂                     \n",
       "       -1 + ──          ⎟               ⎜          1 - ──                     \n",
       "            R           ⎠               ⎝              R                      \n",
       "───────────────────────────────────── - ──────────────────────────────────────\n",
       "    α₂                                                                      α₂\n",
       "1 - ──                                                                 -1 + ──\n",
       "    R                                                                       R \n",
       "\n",
       "          ⎛L     ⎞⎞            ⎞⎞\n",
       "          ⎜─ - α₁⎟⎟            ⎟⎟\n",
       "          ⎜2     ⎟⎟    ⎛L     ⎞⎟⎟\n",
       "₁, x₂)⋅sin⎜──────⎟⎟    ⎜─ - α₁⎟⎟⎟\n",
       "          ⎝  R   ⎠⎟    ⎜2     ⎟⎟⎟\n",
       "──────────────────⎟⋅sin⎜──────⎟⎟⎟\n",
       "      α₂          ⎟    ⎝  R   ⎠⎟⎟\n",
       " -1 + ──          ⎟            ⎟⎟\n",
       "      R           ⎠            ⎟⎟\n",
       "───────────────────────────────⎟⎟\n",
       "                               ⎟⎟\n",
       "                               ⎟⎟\n",
       "                               ⎠⎠"
      ]
     },
     "execution_count": 205,
     "metadata": {},
     "output_type": "execute_result"
    }
   ],
   "source": [
    "e_alpha=A_inv*e*A_inv.T\n",
    "s_alpha=A_inv*s*A_inv.T\n",
    "E_alpha=contraction2D(s_alpha, e_alpha)*A.det()\n",
    "E_alpha"
   ]
  },
  {
   "cell_type": "code",
   "execution_count": 208,
   "metadata": {},
   "outputs": [
    {
     "data": {
      "image/png": "[encoded data removed]",
      "text/latex": [
       "$$\\left(- \\left(\\sin{\\left (\\operatorname{a_{1}}{\\left (\\alpha_{1} \\right )} \\right )} - \\frac{\\alpha_{2}}{R} \\sin{\\left (\\operatorname{a_{1}}{\\left (\\alpha_{1} \\right )} \\right )}\\right) \\sin{\\left (\\operatorname{a_{1}}{\\left (\\alpha_{1} \\right )} \\right )} - \\left(\\cos{\\left (\\operatorname{a_{1}}{\\left (\\alpha_{1} \\right )} \\right )} - \\frac{\\alpha_{2}}{R} \\cos{\\left (\\operatorname{a_{1}}{\\left (\\alpha_{1} \\right )} \\right )}\\right) \\cos{\\left (\\operatorname{a_{1}}{\\left (\\alpha_{1} \\right )} \\right )}\\right) \\left(\\left(\\left(e_{11} \\sin{\\left (\\operatorname{a_{1}}{\\left (\\alpha_{1} \\right )} \\right )} + \\frac{e_{12}}{-1 + \\frac{\\alpha_{2}}{R}} \\left(1 - \\frac{\\alpha_{2}}{R}\\right) \\cos{\\left (\\operatorname{a_{1}}{\\left (\\alpha_{1} \\right )} \\right )}\\right) \\sin{\\left (\\operatorname{a_{1}}{\\left (\\alpha_{1} \\right )} \\right )} + \\frac{1}{-1 + \\frac{\\alpha_{2}}{R}} \\left(1 - \\frac{\\alpha_{2}}{R}\\right) \\left(e_{12} \\sin{\\left (\\operatorname{a_{1}}{\\left (\\alpha_{1} \\right )} \\right )} + \\frac{e_{22}}{-1 + \\frac{\\alpha_{2}}{R}} \\left(1 - \\frac{\\alpha_{2}}{R}\\right) \\cos{\\left (\\operatorname{a_{1}}{\\left (\\alpha_{1} \\right )} \\right )}\\right) \\cos{\\left (\\operatorname{a_{1}}{\\left (\\alpha_{1} \\right )} \\right )}\\right) \\left(\\left(s_{11} \\sin{\\left (\\operatorname{a_{1}}{\\left (\\alpha_{1} \\right )} \\right )} + \\frac{s_{12}}{-1 + \\frac{\\alpha_{2}}{R}} \\left(1 - \\frac{\\alpha_{2}}{R}\\right) \\cos{\\left (\\operatorname{a_{1}}{\\left (\\alpha_{1} \\right )} \\right )}\\right) \\sin{\\left (\\operatorname{a_{1}}{\\left (\\alpha_{1} \\right )} \\right )} + \\frac{1}{-1 + \\frac{\\alpha_{2}}{R}} \\left(1 - \\frac{\\alpha_{2}}{R}\\right) \\left(s_{12} \\sin{\\left (\\operatorname{a_{1}}{\\left (\\alpha_{1} \\right )} \\right )} + \\frac{s_{22}}{-1 + \\frac{\\alpha_{2}}{R}} \\left(1 - \\frac{\\alpha_{2}}{R}\\right) \\cos{\\left (\\operatorname{a_{1}}{\\left (\\alpha_{1} \\right )} \\right )}\\right) \\cos{\\left (\\operatorname{a_{1}}{\\left (\\alpha_{1} \\right )} \\right )}\\right) + \\left(\\left(\\frac{e_{11}}{1 - \\frac{\\alpha_{2}}{R}} \\cos{\\left (\\operatorname{a_{1}}{\\left (\\alpha_{1} \\right )} \\right )} - \\frac{e_{12}}{-1 + \\frac{\\alpha_{2}}{R}} \\sin{\\left (\\operatorname{a_{1}}{\\left (\\alpha_{1} \\right )} \\right )}\\right) \\sin{\\left (\\operatorname{a_{1}}{\\left (\\alpha_{1} \\right )} \\right )} + \\frac{1}{-1 + \\frac{\\alpha_{2}}{R}} \\left(1 - \\frac{\\alpha_{2}}{R}\\right) \\left(\\frac{e_{12}}{1 - \\frac{\\alpha_{2}}{R}} \\cos{\\left (\\operatorname{a_{1}}{\\left (\\alpha_{1} \\right )} \\right )} - \\frac{e_{22}}{-1 + \\frac{\\alpha_{2}}{R}} \\sin{\\left (\\operatorname{a_{1}}{\\left (\\alpha_{1} \\right )} \\right )}\\right) \\cos{\\left (\\operatorname{a_{1}}{\\left (\\alpha_{1} \\right )} \\right )}\\right) \\left(\\frac{1}{1 - \\frac{\\alpha_{2}}{R}} \\left(s_{11} \\sin{\\left (\\operatorname{a_{1}}{\\left (\\alpha_{1} \\right )} \\right )} + \\frac{s_{12}}{-1 + \\frac{\\alpha_{2}}{R}} \\left(1 - \\frac{\\alpha_{2}}{R}\\right) \\cos{\\left (\\operatorname{a_{1}}{\\left (\\alpha_{1} \\right )} \\right )}\\right) \\cos{\\left (\\operatorname{a_{1}}{\\left (\\alpha_{1} \\right )} \\right )} - \\frac{1}{-1 + \\frac{\\alpha_{2}}{R}} \\left(s_{12} \\sin{\\left (\\operatorname{a_{1}}{\\left (\\alpha_{1} \\right )} \\right )} + \\frac{s_{22}}{-1 + \\frac{\\alpha_{2}}{R}} \\left(1 - \\frac{\\alpha_{2}}{R}\\right) \\cos{\\left (\\operatorname{a_{1}}{\\left (\\alpha_{1} \\right )} \\right )}\\right) \\sin{\\left (\\operatorname{a_{1}}{\\left (\\alpha_{1} \\right )} \\right )}\\right) + \\left(\\left(\\frac{s_{11}}{1 - \\frac{\\alpha_{2}}{R}} \\cos{\\left (\\operatorname{a_{1}}{\\left (\\alpha_{1} \\right )} \\right )} - \\frac{s_{12}}{-1 + \\frac{\\alpha_{2}}{R}} \\sin{\\left (\\operatorname{a_{1}}{\\left (\\alpha_{1} \\right )} \\right )}\\right) \\sin{\\left (\\operatorname{a_{1}}{\\left (\\alpha_{1} \\right )} \\right )} + \\frac{1}{-1 + \\frac{\\alpha_{2}}{R}} \\left(1 - \\frac{\\alpha_{2}}{R}\\right) \\left(\\frac{s_{12}}{1 - \\frac{\\alpha_{2}}{R}} \\cos{\\left (\\operatorname{a_{1}}{\\left (\\alpha_{1} \\right )} \\right )} - \\frac{s_{22}}{-1 + \\frac{\\alpha_{2}}{R}} \\sin{\\left (\\operatorname{a_{1}}{\\left (\\alpha_{1} \\right )} \\right )}\\right) \\cos{\\left (\\operatorname{a_{1}}{\\left (\\alpha_{1} \\right )} \\right )}\\right) \\left(\\frac{1}{1 - \\frac{\\alpha_{2}}{R}} \\left(e_{11} \\sin{\\left (\\operatorname{a_{1}}{\\left (\\alpha_{1} \\right )} \\right )} + \\frac{e_{12}}{-1 + \\frac{\\alpha_{2}}{R}} \\left(1 - \\frac{\\alpha_{2}}{R}\\right) \\cos{\\left (\\operatorname{a_{1}}{\\left (\\alpha_{1} \\right )} \\right )}\\right) \\cos{\\left (\\operatorname{a_{1}}{\\left (\\alpha_{1} \\right )} \\right )} - \\frac{1}{-1 + \\frac{\\alpha_{2}}{R}} \\left(e_{12} \\sin{\\left (\\operatorname{a_{1}}{\\left (\\alpha_{1} \\right )} \\right )} + \\frac{e_{22}}{-1 + \\frac{\\alpha_{2}}{R}} \\left(1 - \\frac{\\alpha_{2}}{R}\\right) \\cos{\\left (\\operatorname{a_{1}}{\\left (\\alpha_{1} \\right )} \\right )}\\right) \\sin{\\left (\\operatorname{a_{1}}{\\left (\\alpha_{1} \\right )} \\right )}\\right) + \\left(\\frac{1}{1 - \\frac{\\alpha_{2}}{R}} \\left(\\frac{e_{11}}{1 - \\frac{\\alpha_{2}}{R}} \\cos{\\left (\\operatorname{a_{1}}{\\left (\\alpha_{1} \\right )} \\right )} - \\frac{e_{12}}{-1 + \\frac{\\alpha_{2}}{R}} \\sin{\\left (\\operatorname{a_{1}}{\\left (\\alpha_{1} \\right )} \\right )}\\right) \\cos{\\left (\\operatorname{a_{1}}{\\left (\\alpha_{1} \\right )} \\right )} - \\frac{1}{-1 + \\frac{\\alpha_{2}}{R}} \\left(\\frac{e_{12}}{1 - \\frac{\\alpha_{2}}{R}} \\cos{\\left (\\operatorname{a_{1}}{\\left (\\alpha_{1} \\right )} \\right )} - \\frac{e_{22}}{-1 + \\frac{\\alpha_{2}}{R}} \\sin{\\left (\\operatorname{a_{1}}{\\left (\\alpha_{1} \\right )} \\right )}\\right) \\sin{\\left (\\operatorname{a_{1}}{\\left (\\alpha_{1} \\right )} \\right )}\\right) \\left(\\frac{1}{1 - \\frac{\\alpha_{2}}{R}} \\left(\\frac{s_{11}}{1 - \\frac{\\alpha_{2}}{R}} \\cos{\\left (\\operatorname{a_{1}}{\\left (\\alpha_{1} \\right )} \\right )} - \\frac{s_{12}}{-1 + \\frac{\\alpha_{2}}{R}} \\sin{\\left (\\operatorname{a_{1}}{\\left (\\alpha_{1} \\right )} \\right )}\\right) \\cos{\\left (\\operatorname{a_{1}}{\\left (\\alpha_{1} \\right )} \\right )} - \\frac{1}{-1 + \\frac{\\alpha_{2}}{R}} \\left(\\frac{s_{12}}{1 - \\frac{\\alpha_{2}}{R}} \\cos{\\left (\\operatorname{a_{1}}{\\left (\\alpha_{1} \\right )} \\right )} - \\frac{s_{22}}{-1 + \\frac{\\alpha_{2}}{R}} \\sin{\\left (\\operatorname{a_{1}}{\\left (\\alpha_{1} \\right )} \\right )}\\right) \\sin{\\left (\\operatorname{a_{1}}{\\left (\\alpha_{1} \\right )} \\right )}\\right)\\right)$$"
      ],
      "text/plain": [
       "                                                                              \n",
       "                                                                              \n",
       "                                                                              \n",
       "                                                                              \n",
       "                                                                              \n",
       "                                                                              \n",
       "⎛  ⎛              α₂⋅sin(a₁(α₁))⎞               ⎛              α₂⋅cos(a₁(α₁))⎞\n",
       "⎜- ⎜sin(a₁(α₁)) - ──────────────⎟⋅sin(a₁(α₁)) - ⎜cos(a₁(α₁)) - ──────────────⎟\n",
       "⎝  ⎝                    R       ⎠               ⎝                    R       ⎠\n",
       "                                                                              \n",
       "                                                                              \n",
       "\n",
       "              ⎛⎛                                                              \n",
       "              ⎜⎜                                                              \n",
       "              ⎜⎜                                                              \n",
       "              ⎜⎜                                                              \n",
       "              ⎜⎜⎛                            ⎛    α₂⎞            ⎞            \n",
       "              ⎜⎜⎜                     e_{12}⋅⎜1 - ──⎟⋅cos(a₁(α₁))⎟            \n",
       "            ⎞ ⎜⎜⎜                            ⎝    R ⎠            ⎟            \n",
       "⋅cos(a₁(α₁))⎟⋅⎜⎜⎜e_{11}⋅sin(a₁(α₁)) + ───────────────────────────⎟⋅sin(a₁(α₁))\n",
       "            ⎠ ⎜⎜⎜                                    α₂          ⎟            \n",
       "              ⎜⎜⎜                               -1 + ──          ⎟            \n",
       "              ⎝⎝⎝                                    R           ⎠            \n",
       "\n",
       "            ⎛                            ⎛    α₂⎞            ⎞            ⎞ ⎛ \n",
       "            ⎜                     e_{22}⋅⎜1 - ──⎟⋅cos(a₁(α₁))⎟            ⎟ ⎜ \n",
       "   ⎛    α₂⎞ ⎜                            ⎝    R ⎠            ⎟            ⎟ ⎜ \n",
       "   ⎜1 - ──⎟⋅⎜e_{12}⋅sin(a₁(α₁)) + ───────────────────────────⎟⋅cos(a₁(α₁))⎟ ⎜ \n",
       "   ⎝    R ⎠ ⎜                                    α₂          ⎟            ⎟ ⎜⎛\n",
       "            ⎜                               -1 + ──          ⎟            ⎟ ⎜⎜\n",
       "            ⎝                                    R           ⎠            ⎟ ⎜⎜\n",
       " + ───────────────────────────────────────────────────────────────────────⎟⋅⎜⎜\n",
       "                                        α₂                                ⎟ ⎜⎜\n",
       "                                   -1 + ──                                ⎟ ⎜⎜\n",
       "                                        R                                 ⎠ ⎝⎝\n",
       "\n",
       "                                                                         ⎛    \n",
       "                                                                         ⎜    \n",
       "                                                                ⎛    α₂⎞ ⎜    \n",
       "                                                                ⎜1 - ──⎟⋅⎜s_{1\n",
       "                            ⎛    α₂⎞            ⎞               ⎝    R ⎠ ⎜    \n",
       "                     s_{12}⋅⎜1 - ──⎟⋅cos(a₁(α₁))⎟                        ⎜    \n",
       "                            ⎝    R ⎠            ⎟                        ⎝    \n",
       "s_{11}⋅sin(a₁(α₁)) + ───────────────────────────⎟⋅sin(a₁(α₁)) + ──────────────\n",
       "                                    α₂          ⎟                             \n",
       "                               -1 + ──          ⎟                             \n",
       "                                    R           ⎠                             \n",
       "\n",
       "                        ⎛    α₂⎞            ⎞            ⎞                    \n",
       "                 s_{22}⋅⎜1 - ──⎟⋅cos(a₁(α₁))⎟            ⎟                    \n",
       "                        ⎝    R ⎠            ⎟            ⎟   ⎛                \n",
       "2}⋅sin(a₁(α₁)) + ───────────────────────────⎟⋅cos(a₁(α₁))⎟   ⎜                \n",
       "                                α₂          ⎟            ⎟   ⎜                \n",
       "                           -1 + ──          ⎟            ⎟   ⎜                \n",
       "                                R           ⎠            ⎟   ⎜⎛e_{11}⋅cos(a₁(α\n",
       "─────────────────────────────────────────────────────────⎟ + ⎜⎜───────────────\n",
       "                       α₂                                ⎟   ⎜⎜          α₂   \n",
       "                  -1 + ──                                ⎟   ⎜⎜      1 - ──   \n",
       "                       R                                 ⎠   ⎝⎝          R    \n",
       "\n",
       "                                                                              \n",
       "                                                                              \n",
       "                                        ⎛    α₂⎞ ⎛e_{12}⋅cos(a₁(α₁))   e_{22}⋅\n",
       "                                        ⎜1 - ──⎟⋅⎜────────────────── - ───────\n",
       "                                        ⎝    R ⎠ ⎜          α₂                \n",
       "                                                 ⎜      1 - ──              -1\n",
       "₁))   e_{12}⋅sin(a₁(α₁))⎞                        ⎝          R                 \n",
       "─── - ──────────────────⎟⋅sin(a₁(α₁)) + ──────────────────────────────────────\n",
       "                α₂      ⎟                                               α₂    \n",
       "           -1 + ──      ⎟                                          -1 + ──    \n",
       "                R       ⎠                                               R     \n",
       "\n",
       "                          ⎛⎛                            ⎛    α₂⎞            ⎞ \n",
       "                          ⎜⎜                     s_{12}⋅⎜1 - ──⎟⋅cos(a₁(α₁))⎟ \n",
       "sin(a₁(α₁))⎞            ⎞ ⎜⎜                            ⎝    R ⎠            ⎟ \n",
       "───────────⎟⋅cos(a₁(α₁))⎟ ⎜⎜s_{11}⋅sin(a₁(α₁)) + ───────────────────────────⎟⋅\n",
       "   α₂      ⎟            ⎟ ⎜⎜                                    α₂          ⎟ \n",
       " + ──      ⎟            ⎟ ⎜⎜                               -1 + ──          ⎟ \n",
       "   R       ⎠            ⎟ ⎜⎝                                    R           ⎠ \n",
       "────────────────────────⎟⋅⎜───────────────────────────────────────────────────\n",
       "                        ⎟ ⎜                                α₂                 \n",
       "                        ⎟ ⎜                            1 - ──                 \n",
       "                        ⎠ ⎝                                R                  \n",
       "\n",
       "              ⎛                            ⎛    α₂⎞            ⎞            ⎞ \n",
       "              ⎜                     s_{22}⋅⎜1 - ──⎟⋅cos(a₁(α₁))⎟            ⎟ \n",
       "              ⎜                            ⎝    R ⎠            ⎟            ⎟ \n",
       "cos(a₁(α₁))   ⎜s_{12}⋅sin(a₁(α₁)) + ───────────────────────────⎟⋅sin(a₁(α₁))⎟ \n",
       "              ⎜                                    α₂          ⎟            ⎟ \n",
       "              ⎜                               -1 + ──          ⎟            ⎟ \n",
       "              ⎝                                    R           ⎠            ⎟ \n",
       "─────────── - ──────────────────────────────────────────────────────────────⎟ \n",
       "                                              α₂                            ⎟ \n",
       "                                         -1 + ──                            ⎟ \n",
       "                                              R                             ⎠ \n",
       "\n",
       "                                                                              \n",
       "                                                                              \n",
       "  ⎛                                                        ⎛    α₂⎞ ⎛s_{12}⋅co\n",
       "  ⎜                                                        ⎜1 - ──⎟⋅⎜─────────\n",
       "  ⎜                                                        ⎝    R ⎠ ⎜         \n",
       "  ⎜                                                                 ⎜      1 -\n",
       "  ⎜⎛s_{11}⋅cos(a₁(α₁))   s_{12}⋅sin(a₁(α₁))⎞                        ⎝         \n",
       "+ ⎜⎜────────────────── - ──────────────────⎟⋅sin(a₁(α₁)) + ───────────────────\n",
       "  ⎜⎜          α₂                   α₂      ⎟                                  \n",
       "  ⎜⎜      1 - ──              -1 + ──      ⎟                                  \n",
       "  ⎝⎝          R                    R       ⎠                                  \n",
       "\n",
       "                                             ⎛⎛                            ⎛  \n",
       "                                             ⎜⎜                     e_{12}⋅⎜1 \n",
       "s(a₁(α₁))   s_{22}⋅sin(a₁(α₁))⎞            ⎞ ⎜⎜                            ⎝  \n",
       "───────── - ──────────────────⎟⋅cos(a₁(α₁))⎟ ⎜⎜e_{11}⋅sin(a₁(α₁)) + ──────────\n",
       " α₂                   α₂      ⎟            ⎟ ⎜⎜                               \n",
       " ──              -1 + ──      ⎟            ⎟ ⎜⎜                               \n",
       " R                    R       ⎠            ⎟ ⎜⎝                               \n",
       "───────────────────────────────────────────⎟⋅⎜────────────────────────────────\n",
       "             α₂                            ⎟ ⎜                                \n",
       "        -1 + ──                            ⎟ ⎜                            1 - \n",
       "             R                             ⎠ ⎝                                \n",
       "\n",
       "  α₂⎞            ⎞               ⎛                            ⎛    α₂⎞        \n",
       "- ──⎟⋅cos(a₁(α₁))⎟               ⎜                     e_{22}⋅⎜1 - ──⎟⋅cos(a₁(\n",
       "  R ⎠            ⎟               ⎜                            ⎝    R ⎠        \n",
       "─────────────────⎟⋅cos(a₁(α₁))   ⎜e_{12}⋅sin(a₁(α₁)) + ───────────────────────\n",
       "     α₂          ⎟               ⎜                                    α₂      \n",
       "-1 + ──          ⎟               ⎜                               -1 + ──      \n",
       "     R           ⎠               ⎝                                    R       \n",
       "────────────────────────────── - ─────────────────────────────────────────────\n",
       "α₂                                                               α₂           \n",
       "──                                                          -1 + ──           \n",
       "R                                                                R            \n",
       "\n",
       "    ⎞            ⎞                                                            \n",
       "α₁))⎟            ⎟                                                            \n",
       "    ⎟            ⎟   ⎛⎛e_{11}⋅cos(a₁(α₁))   e_{12}⋅sin(a₁(α₁))⎞               \n",
       "────⎟⋅sin(a₁(α₁))⎟   ⎜⎜────────────────── - ──────────────────⎟⋅cos(a₁(α₁))   \n",
       "    ⎟            ⎟   ⎜⎜          α₂                   α₂      ⎟               \n",
       "    ⎟            ⎟   ⎜⎜      1 - ──              -1 + ──      ⎟               \n",
       "    ⎠            ⎟   ⎜⎝          R                    R       ⎠               \n",
       "─────────────────⎟ + ⎜───────────────────────────────────────────────────── - \n",
       "                 ⎟   ⎜                            α₂                          \n",
       "                 ⎟   ⎜                        1 - ──                          \n",
       "                 ⎠   ⎝                            R                           \n",
       "\n",
       "                                                                              \n",
       "                                                                              \n",
       "⎛e_{12}⋅cos(a₁(α₁))   e_{22}⋅sin(a₁(α₁))⎞            ⎞ ⎛⎛s_{11}⋅cos(a₁(α₁))   \n",
       "⎜────────────────── - ──────────────────⎟⋅sin(a₁(α₁))⎟ ⎜⎜────────────────── - \n",
       "⎜          α₂                   α₂      ⎟            ⎟ ⎜⎜          α₂         \n",
       "⎜      1 - ──              -1 + ──      ⎟            ⎟ ⎜⎜      1 - ──         \n",
       "⎝          R                    R       ⎠            ⎟ ⎜⎝          R          \n",
       "─────────────────────────────────────────────────────⎟⋅⎜──────────────────────\n",
       "                            α₂                       ⎟ ⎜                      \n",
       "                       -1 + ──                       ⎟ ⎜                      \n",
       "                            R                        ⎠ ⎝                      \n",
       "\n",
       "                                                                              \n",
       "                                                                              \n",
       "s_{12}⋅sin(a₁(α₁))⎞               ⎛s_{12}⋅cos(a₁(α₁))   s_{22}⋅sin(a₁(α₁))⎞   \n",
       "──────────────────⎟⋅cos(a₁(α₁))   ⎜────────────────── - ──────────────────⎟⋅si\n",
       "          α₂      ⎟               ⎜          α₂                   α₂      ⎟   \n",
       "     -1 + ──      ⎟               ⎜      1 - ──              -1 + ──      ⎟   \n",
       "          R       ⎠               ⎝          R                    R       ⎠   \n",
       "─────────────────────────────── - ────────────────────────────────────────────\n",
       "      α₂                                                      α₂              \n",
       "  1 - ──                                                 -1 + ──              \n",
       "      R                                                       R               \n",
       "\n",
       "          ⎞\n",
       "          ⎟\n",
       "         ⎞⎟\n",
       "n(a₁(α₁))⎟⎟\n",
       "         ⎟⎟\n",
       "         ⎟⎟\n",
       "         ⎟⎟\n",
       "─────────⎟⎟\n",
       "         ⎟⎟\n",
       "         ⎟⎟\n",
       "         ⎠⎠"
      ]
     },
     "execution_count": 208,
     "metadata": {},
     "output_type": "execute_result"
    }
   ],
   "source": [
    "e11_s = Symbol(\"e_{11}\")\n",
    "e12_s = Symbol(\"e_{12}\")\n",
    "e22_s = Symbol(\"e_{22}\")\n",
    "s11_s = Symbol(\"s_{11}\")\n",
    "s12_s = Symbol(\"s_{12}\")\n",
    "s22_s = Symbol(\"s_{22}\")\n",
    "a1_alpha = Function(\"a_1\")\n",
    "E_alpha_s = E_alpha.subs(e11(x1,x2),e11_s).subs(e12(x1,x2),e12_s).subs(e21(x1,x2),e12_s).subs(e22(x1,x2),e22_s)\n",
    "E_alpha_s = E_alpha_s.subs(s11(x1,x2),s11_s).subs(s12(x1,x2),s12_s).subs(s21(x1,x2),s12_s).subs(s22(x1,x2),s22_s)\n",
    "\n",
    "aa=S(1)/R*(L/2 - alpha1)\n",
    "E_alpha_s = E_alpha_s.subs(aa,a1_alpha(alpha1))\n",
    "E_alpha_s\n",
    "\n",
    "\n"
   ]
  },
  {
   "cell_type": "code",
   "execution_count": 210,
   "metadata": {},
   "outputs": [],
   "source": [
    "E_alpha_s = trigsimp(sympify(E_alpha_s))"
   ]
  },
  {
   "cell_type": "code",
   "execution_count": 211,
   "metadata": {},
   "outputs": [
    {
     "data": {
      "image/png": "[encoded data removed]",
      "text/latex": [
       "$$\\left(-1 + \\frac{\\alpha_{2}}{R}\\right) \\left(\\frac{R^{4}}{\\left(R - \\alpha_{2}\\right)^{4}} \\left(\\frac{e_{11}}{2} \\cos{\\left (2 \\operatorname{a_{1}}{\\left (\\alpha_{1} \\right )} \\right )} + \\frac{e_{11}}{2} + e_{12} \\sin{\\left (2 \\operatorname{a_{1}}{\\left (\\alpha_{1} \\right )} \\right )} - \\frac{e_{22}}{2} \\cos{\\left (2 \\operatorname{a_{1}}{\\left (\\alpha_{1} \\right )} \\right )} + \\frac{e_{22}}{2}\\right) \\left(\\frac{s_{11}}{2} \\cos{\\left (2 \\operatorname{a_{1}}{\\left (\\alpha_{1} \\right )} \\right )} + \\frac{s_{11}}{2} + s_{12} \\sin{\\left (2 \\operatorname{a_{1}}{\\left (\\alpha_{1} \\right )} \\right )} - \\frac{s_{22}}{2} \\cos{\\left (2 \\operatorname{a_{1}}{\\left (\\alpha_{1} \\right )} \\right )} + \\frac{s_{22}}{2}\\right) + \\frac{2 R^{2}}{\\left(R - \\alpha_{2}\\right)^{2}} \\left(\\frac{e_{11}}{2} \\sin{\\left (2 \\operatorname{a_{1}}{\\left (\\alpha_{1} \\right )} \\right )} - e_{12} \\cos{\\left (2 \\operatorname{a_{1}}{\\left (\\alpha_{1} \\right )} \\right )} - \\frac{e_{22}}{2} \\sin{\\left (2 \\operatorname{a_{1}}{\\left (\\alpha_{1} \\right )} \\right )}\\right) \\left(\\frac{s_{11}}{2} \\sin{\\left (2 \\operatorname{a_{1}}{\\left (\\alpha_{1} \\right )} \\right )} - s_{12} \\cos{\\left (2 \\operatorname{a_{1}}{\\left (\\alpha_{1} \\right )} \\right )} - \\frac{s_{22}}{2} \\sin{\\left (2 \\operatorname{a_{1}}{\\left (\\alpha_{1} \\right )} \\right )}\\right) + \\left(- \\frac{e_{11}}{2} \\cos{\\left (2 \\operatorname{a_{1}}{\\left (\\alpha_{1} \\right )} \\right )} + \\frac{e_{11}}{2} - e_{12} \\sin{\\left (2 \\operatorname{a_{1}}{\\left (\\alpha_{1} \\right )} \\right )} + \\frac{e_{22}}{2} \\cos{\\left (2 \\operatorname{a_{1}}{\\left (\\alpha_{1} \\right )} \\right )} + \\frac{e_{22}}{2}\\right) \\left(- \\frac{s_{11}}{2} \\cos{\\left (2 \\operatorname{a_{1}}{\\left (\\alpha_{1} \\right )} \\right )} + \\frac{s_{11}}{2} - s_{12} \\sin{\\left (2 \\operatorname{a_{1}}{\\left (\\alpha_{1} \\right )} \\right )} + \\frac{s_{22}}{2} \\cos{\\left (2 \\operatorname{a_{1}}{\\left (\\alpha_{1} \\right )} \\right )} + \\frac{s_{22}}{2}\\right)\\right)$$"
      ],
      "text/plain": [
       "          ⎛ 4 ⎛e_{11}⋅cos(2⋅a₁(α₁))   e_{11}                          e_{22}⋅c\n",
       "          ⎜R ⋅⎜──────────────────── + ────── + e_{12}⋅sin(2⋅a₁(α₁)) - ────────\n",
       "⎛     α₂⎞ ⎜   ⎝         2               2                                     \n",
       "⎜-1 + ──⎟⋅⎜───────────────────────────────────────────────────────────────────\n",
       "⎝     R ⎠ ⎜                                                                   \n",
       "          ⎝                                                                   \n",
       "\n",
       "os(2⋅a₁(α₁))   e_{22}⎞ ⎛s_{11}⋅cos(2⋅a₁(α₁))   s_{11}                         \n",
       "──────────── + ──────⎟⋅⎜──────────────────── + ────── + s_{12}⋅sin(2⋅a₁(α₁)) -\n",
       " 2               2   ⎠ ⎝         2               2                            \n",
       "──────────────────────────────────────────────────────────────────────────────\n",
       "                        4                                                     \n",
       "                (R - α₂)                                                      \n",
       "\n",
       " s_{22}⋅cos(2⋅a₁(α₁))   s_{22}⎞      2 ⎛e_{11}⋅sin(2⋅a₁(α₁))                  \n",
       " ──────────────────── + ──────⎟   2⋅R ⋅⎜──────────────────── - e_{12}⋅cos(2⋅a₁\n",
       "          2               2   ⎠        ⎝         2                            \n",
       "─────────────────────────────── + ────────────────────────────────────────────\n",
       "                                                                              \n",
       "                                                                              \n",
       "\n",
       "        e_{22}⋅sin(2⋅a₁(α₁))⎞ ⎛s_{11}⋅sin(2⋅a₁(α₁))                          s\n",
       "(α₁)) - ────────────────────⎟⋅⎜──────────────────── - s_{12}⋅cos(2⋅a₁(α₁)) - ─\n",
       "                 2          ⎠ ⎝         2                                     \n",
       "──────────────────────────────────────────────────────────────────────────────\n",
       "                              2                                               \n",
       "                      (R - α₂)                                                \n",
       "\n",
       "_{22}⋅sin(2⋅a₁(α₁))⎞                                                          \n",
       "───────────────────⎟                                                          \n",
       "        2          ⎠   ⎛  e_{11}⋅cos(2⋅a₁(α₁))   e_{11}                       \n",
       "──────────────────── + ⎜- ──────────────────── + ────── - e_{12}⋅sin(2⋅a₁(α₁))\n",
       "                       ⎝           2               2                          \n",
       "                                                                              \n",
       "\n",
       "                                                                              \n",
       "                                                                              \n",
       "   e_{22}⋅cos(2⋅a₁(α₁))   e_{22}⎞ ⎛  s_{11}⋅cos(2⋅a₁(α₁))   s_{11}            \n",
       " + ──────────────────── + ──────⎟⋅⎜- ──────────────────── + ────── - s_{12}⋅si\n",
       "            2               2   ⎠ ⎝           2               2               \n",
       "                                                                              \n",
       "\n",
       "                                            ⎞\n",
       "                                            ⎟\n",
       "              s_{22}⋅cos(2⋅a₁(α₁))   s_{22}⎞⎟\n",
       "n(2⋅a₁(α₁)) + ──────────────────── + ──────⎟⎟\n",
       "                       2               2   ⎠⎟\n",
       "                                            ⎠"
      ]
     },
     "execution_count": 211,
     "metadata": {},
     "output_type": "execute_result"
    }
   ],
   "source": [
    "q=Function('q')\n",
    "E_alpha_s.subs(A.det(), q(alpha2))\n",
    "E_alpha_s"
   ]
  },
  {
   "cell_type": "code",
   "execution_count": 192,
   "metadata": {},
   "outputs": [
    {
     "data": {
      "image/png": "[encoded data removed]",
      "text/latex": [
       "$$\\left[\\begin{matrix}\\frac{\\partial}{\\partial \\alpha_{1}} \\operatorname{u_{1}}{\\left (\\alpha_{1},\\alpha_{2} \\right )}\\\\\\frac{\\partial}{\\partial \\alpha_{1}} \\operatorname{u_{2}}{\\left (\\alpha_{1},\\alpha_{2} \\right )}\\end{matrix}\\right]$$"
      ],
      "text/plain": [
       "⎡ ∂             ⎤\n",
       "⎢───(u₁(α₁, α₂))⎥\n",
       "⎢∂α₁            ⎥\n",
       "⎢               ⎥\n",
       "⎢ ∂             ⎥\n",
       "⎢───(u₂(α₁, α₂))⎥\n",
       "⎣∂α₁            ⎦"
      ]
     },
     "execution_count": 192,
     "metadata": {},
     "output_type": "execute_result"
    }
   ],
   "source": [
    "dud1=u.diff(alpha1)\n",
    "dud1"
   ]
  },
  {
   "cell_type": "code",
   "execution_count": 193,
   "metadata": {},
   "outputs": [
    {
     "data": {
      "image/png": "[encoded data removed]",
      "text/latex": [
       "$$\\left[\\begin{matrix}\\frac{\\partial}{\\partial \\alpha_{2}} \\operatorname{u_{1}}{\\left (\\alpha_{1},\\alpha_{2} \\right )}\\\\\\frac{\\partial}{\\partial \\alpha_{2}} \\operatorname{u_{2}}{\\left (\\alpha_{1},\\alpha_{2} \\right )}\\end{matrix}\\right]$$"
      ],
      "text/plain": [
       "⎡ ∂             ⎤\n",
       "⎢───(u₁(α₁, α₂))⎥\n",
       "⎢∂α₂            ⎥\n",
       "⎢               ⎥\n",
       "⎢ ∂             ⎥\n",
       "⎢───(u₂(α₁, α₂))⎥\n",
       "⎣∂α₂            ⎦"
      ]
     },
     "execution_count": 193,
     "metadata": {},
     "output_type": "execute_result"
    }
   ],
   "source": [
    "dud2=u.diff(alpha2)\n",
    "dud2"
   ]
  },
  {
   "cell_type": "code",
   "execution_count": 194,
   "metadata": {},
   "outputs": [
    {
     "data": {
      "image/png": "[encoded data removed]",
      "text/latex": [
       "$$2 \\left(\\frac{\\partial}{\\partial \\alpha_{2}} \\operatorname{u_{1}}{\\left (\\alpha_{1},\\alpha_{2} \\right )} + \\frac{\\partial}{\\partial \\alpha_{1}} \\operatorname{u_{2}}{\\left (\\alpha_{1},\\alpha_{2} \\right )}\\right) \\sin{\\left (\\frac{L}{2 R} - \\frac{\\alpha_{1}}{R} \\right )} \\cos{\\left (\\frac{L}{2 R} - \\frac{\\alpha_{1}}{R} \\right )} + \\sin^{2}{\\left (\\frac{L}{2 R} - \\frac{\\alpha_{1}}{R} \\right )} \\frac{\\partial}{\\partial \\alpha_{2}} \\operatorname{u_{2}}{\\left (\\alpha_{1},\\alpha_{2} \\right )} + \\cos^{2}{\\left (\\frac{L}{2 R} - \\frac{\\alpha_{1}}{R} \\right )} \\frac{\\partial}{\\partial \\alpha_{1}} \\operatorname{u_{1}}{\\left (\\alpha_{1},\\alpha_{2} \\right )}$$"
      ],
      "text/plain": [
       "  ⎛ ∂                 ∂             ⎞    ⎛ L    α₁⎞    ⎛ L    α₁⎞      2⎛ L   \n",
       "2⋅⎜───(u₁(α₁, α₂)) + ───(u₂(α₁, α₂))⎟⋅sin⎜─── - ──⎟⋅cos⎜─── - ──⎟ + sin ⎜─── -\n",
       "  ⎝∂α₂               ∂α₁            ⎠    ⎝2⋅R   R ⎠    ⎝2⋅R   R ⎠       ⎝2⋅R  \n",
       "\n",
       " α₁⎞  ∂                   2⎛ L    α₁⎞  ∂             \n",
       " ──⎟⋅───(u₂(α₁, α₂)) + cos ⎜─── - ──⎟⋅───(u₁(α₁, α₂))\n",
       " R ⎠ ∂α₂                   ⎝2⋅R   R ⎠ ∂α₁            "
      ]
     },
     "execution_count": 194,
     "metadata": {},
     "output_type": "execute_result"
    }
   ],
   "source": [
    "(m*e*m.T)[0,0].expand().subs(e[0,0], dud1[0]).subs(e[0,1], dud1[1]+dud2[0]).subs(e[1,0], dud1[1]+dud2[0]).subs(e[1,1], dud2[1])\n"
   ]
  }
 ],
 "metadata": {
  "kernelspec": {
   "display_name": "Python 3",
   "language": "python",
   "name": "python3"
  },
  "language_info": {
   "codemirror_mode": {
    "name": "ipython",
    "version": 3
   },
   "file_extension": ".py",
   "mimetype": "text/x-python",
   "name": "python",
   "nbconvert_exporter": "python",
   "pygments_lexer": "ipython3",
   "version": "3.6.1"
  }
 },
 "nbformat": 4,
 "nbformat_minor": 2
}
