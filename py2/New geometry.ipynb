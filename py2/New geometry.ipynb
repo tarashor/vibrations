{
 "cells": [
  {
   "cell_type": "code",
   "execution_count": 44,
   "metadata": {},
   "outputs": [],
   "source": [
    "from sympy import *\n",
    "a1, K, L, gv, ga = symbols(\"a1 K L g_v g_a\")\n",
    "init_printing()"
   ]
  },
  {
   "cell_type": "code",
   "execution_count": 45,
   "metadata": {},
   "outputs": [],
   "source": [
    "a = pi / 2 + K * (L / 2 - a1)\n",
    "\n",
    "r1 = (1 / K + ga * cos(gv * a)) * cos(a)\n",
    "r2 = (1 / K + ga * cos(gv * a)) * sin(a)\n",
    "\n",
    "dr1 = diff(r1, a1)\n",
    "dr2 = diff(r2, a1)\n",
    "\n",
    "n1 = -dr2 / sqrt(dr1**2 + dr2**2)\n",
    "n2 = dr1 / sqrt(dr1**2 + dr2**2)\n",
    "\n",
    "dn1 = sympify('K**2*g_a*g_v*(-K*g_a*g_v*sin(g_a*(K*(L/2 - a1) + pi/2))*cos(K*(L/2 - a1)) - K*(g_v*cos(g_a*(K*(L/2 - a1) + pi/2)) + 1/K)*sin(K*(L/2 - a1)))*(K*g_a**2*g_v*sin(g_a*(K*L - 2*K*a1 + pi))/2 - K*g_v*sin(g_a*(K*L - 2*K*a1 + pi))/2 - sin(g_a*(K*L/2 - K*a1 + pi/2)))/((-K*g_a*g_v*sin(K*(L/2 - a1))*sin(g_a*(K*(L/2 - a1) + pi/2)) + K*(g_v*cos(g_a*(K*(L/2 - a1) + pi/2)) + 1/K)*cos(K*(L/2 - a1)))**2 + (K*g_a*g_v*sin(g_a*(K*(L/2 - a1) + pi/2))*cos(K*(L/2 - a1)) + K*(g_v*cos(g_a*(K*(L/2 - a1) + pi/2)) + 1/K)*sin(K*(L/2 - a1)))**2)**(3/2) + (K**2*g_a**2*g_v*cos(K*(L/2 - a1))*cos(g_a*(K*(L/2 - a1) + pi/2)) - 2*K**2*g_a*g_v*sin(K*(L/2 - a1))*sin(g_a*(K*(L/2 - a1) + pi/2)) + K**2*(g_v*cos(g_a*(K*(L/2 - a1) + pi/2)) + 1/K)*cos(K*(L/2 - a1)))/sqrt((-K*g_a*g_v*sin(K*(L/2 - a1))*sin(g_a*(K*(L/2 - a1) + pi/2)) + K*(g_v*cos(g_a*(K*(L/2 - a1) + pi/2)) + 1/K)*cos(K*(L/2 - a1)))**2 + (K*g_a*g_v*sin(g_a*(K*(L/2 - a1) + pi/2))*cos(K*(L/2 - a1)) + K*(g_v*cos(g_a*(K*(L/2 - a1) + pi/2)) + 1/K)*sin(K*(L/2 - a1)))**2)')\n",
    "dn2 = sympify('K**2*g_a*g_v*(-K*g_a*g_v*sin(K*(L/2 - a1))*sin(g_a*(K*(L/2 - a1) + pi/2)) + K*(g_v*cos(g_a*(K*(L/2 - a1) + pi/2)) + 1/K)*cos(K*(L/2 - a1)))*(K*g_a**2*g_v*sin(g_a*(K*L - 2*K*a1 + pi))/2 - K*g_v*sin(g_a*(K*L - 2*K*a1 + pi))/2 - sin(g_a*(K*L/2 - K*a1 + pi/2)))/((-K*g_a*g_v*sin(K*(L/2 - a1))*sin(g_a*(K*(L/2 - a1) + pi/2)) + K*(g_v*cos(g_a*(K*(L/2 - a1) + pi/2)) + 1/K)*cos(K*(L/2 - a1)))**2 + (K*g_a*g_v*sin(g_a*(K*(L/2 - a1) + pi/2))*cos(K*(L/2 - a1)) + K*(g_v*cos(g_a*(K*(L/2 - a1) + pi/2)) + 1/K)*sin(K*(L/2 - a1)))**2)**(3/2) + (K**2*g_a**2*g_v*sin(K*(L/2 - a1))*cos(g_a*(K*(L/2 - a1) + pi/2)) + 2*K**2*g_a*g_v*sin(g_a*(K*(L/2 - a1) + pi/2))*cos(K*(L/2 - a1)) + K**2*(g_v*cos(g_a*(K*(L/2 - a1) + pi/2)) + 1/K)*sin(K*(L/2 - a1)))/sqrt((-K*g_a*g_v*sin(K*(L/2 - a1))*sin(g_a*(K*(L/2 - a1) + pi/2)) + K*(g_v*cos(g_a*(K*(L/2 - a1) + pi/2)) + 1/K)*cos(K*(L/2 - a1)))**2 + (K*g_a*g_v*sin(g_a*(K*(L/2 - a1) + pi/2))*cos(K*(L/2 - a1)) + K*(g_v*cos(g_a*(K*(L/2 - a1) + pi/2)) + 1/K)*sin(K*(L/2 - a1)))**2)')"
   ]
  },
  {
   "cell_type": "code",
   "execution_count": 46,
   "metadata": {},
   "outputs": [
    {
     "data": {
      "image/png": "[encoded data removed]",
      "text/latex": [
       "$$- \\left(g_{a} \\cos{\\left (g_{v} \\left(K \\left(\\frac{L}{2} - a_{1}\\right) + \\frac{\\pi}{2}\\right) \\right )} + \\frac{1}{K}\\right) \\sin{\\left (K \\left(\\frac{L}{2} - a_{1}\\right) \\right )}$$"
      ],
      "text/plain": [
       " ⎛      ⎛   ⎛  ⎛L     ⎞   π⎞⎞   1⎞    ⎛  ⎛L     ⎞⎞\n",
       "-⎜gₐ⋅cos⎜gᵥ⋅⎜K⋅⎜─ - a₁⎟ + ─⎟⎟ + ─⎟⋅sin⎜K⋅⎜─ - a₁⎟⎟\n",
       " ⎝      ⎝   ⎝  ⎝2     ⎠   2⎠⎠   K⎠    ⎝  ⎝2     ⎠⎠"
      ]
     },
     "execution_count": 46,
     "metadata": {},
     "output_type": "execute_result"
    }
   ],
   "source": [
    "r1"
   ]
  },
  {
   "cell_type": "code",
   "execution_count": 47,
   "metadata": {},
   "outputs": [
    {
     "data": {
      "image/png": "[encoded data removed]",
      "text/latex": [
       "$$- K g_{a} g_{v} \\sin{\\left (K \\left(\\frac{L}{2} - a_{1}\\right) \\right )} \\sin{\\left (g_{v} \\left(K \\left(\\frac{L}{2} - a_{1}\\right) + \\frac{\\pi}{2}\\right) \\right )} + K \\left(g_{a} \\cos{\\left (g_{v} \\left(K \\left(\\frac{L}{2} - a_{1}\\right) + \\frac{\\pi}{2}\\right) \\right )} + \\frac{1}{K}\\right) \\cos{\\left (K \\left(\\frac{L}{2} - a_{1}\\right) \\right )}$$"
      ],
      "text/plain": [
       "             ⎛  ⎛L     ⎞⎞    ⎛   ⎛  ⎛L     ⎞   π⎞⎞     ⎛      ⎛   ⎛  ⎛L     ⎞ \n",
       "- K⋅gₐ⋅gᵥ⋅sin⎜K⋅⎜─ - a₁⎟⎟⋅sin⎜gᵥ⋅⎜K⋅⎜─ - a₁⎟ + ─⎟⎟ + K⋅⎜gₐ⋅cos⎜gᵥ⋅⎜K⋅⎜─ - a₁⎟ \n",
       "             ⎝  ⎝2     ⎠⎠    ⎝   ⎝  ⎝2     ⎠   2⎠⎠     ⎝      ⎝   ⎝  ⎝2     ⎠ \n",
       "\n",
       "  π⎞⎞   1⎞    ⎛  ⎛L     ⎞⎞\n",
       "+ ─⎟⎟ + ─⎟⋅cos⎜K⋅⎜─ - a₁⎟⎟\n",
       "  2⎠⎠   K⎠    ⎝  ⎝2     ⎠⎠"
      ]
     },
     "execution_count": 47,
     "metadata": {},
     "output_type": "execute_result"
    }
   ],
   "source": [
    "dr1"
   ]
  },
  {
   "cell_type": "code",
   "execution_count": 48,
   "metadata": {},
   "outputs": [
    {
     "data": {
      "image/png": "[encoded data removed]",
      "text/latex": [
       "$$K g_{a} g_{v} \\sin{\\left (g_{v} \\left(K \\left(\\frac{L}{2} - a_{1}\\right) + \\frac{\\pi}{2}\\right) \\right )} \\cos{\\left (K \\left(\\frac{L}{2} - a_{1}\\right) \\right )} + K \\left(g_{a} \\cos{\\left (g_{v} \\left(K \\left(\\frac{L}{2} - a_{1}\\right) + \\frac{\\pi}{2}\\right) \\right )} + \\frac{1}{K}\\right) \\sin{\\left (K \\left(\\frac{L}{2} - a_{1}\\right) \\right )}$$"
      ],
      "text/plain": [
       "           ⎛   ⎛  ⎛L     ⎞   π⎞⎞    ⎛  ⎛L     ⎞⎞     ⎛      ⎛   ⎛  ⎛L     ⎞   \n",
       "K⋅gₐ⋅gᵥ⋅sin⎜gᵥ⋅⎜K⋅⎜─ - a₁⎟ + ─⎟⎟⋅cos⎜K⋅⎜─ - a₁⎟⎟ + K⋅⎜gₐ⋅cos⎜gᵥ⋅⎜K⋅⎜─ - a₁⎟ + \n",
       "           ⎝   ⎝  ⎝2     ⎠   2⎠⎠    ⎝  ⎝2     ⎠⎠     ⎝      ⎝   ⎝  ⎝2     ⎠   \n",
       "\n",
       "π⎞⎞   1⎞    ⎛  ⎛L     ⎞⎞\n",
       "─⎟⎟ + ─⎟⋅sin⎜K⋅⎜─ - a₁⎟⎟\n",
       "2⎠⎠   K⎠    ⎝  ⎝2     ⎠⎠"
      ]
     },
     "execution_count": 48,
     "metadata": {},
     "output_type": "execute_result"
    }
   ],
   "source": [
    "dr2"
   ]
  },
  {
   "cell_type": "code",
   "execution_count": 6,
   "metadata": {},
   "outputs": [
    {
     "data": {
      "image/png": "[encoded data removed]",
      "text/latex": [
       "$$\\frac{- K g_{a} g_{v} \\sin{\\left (g_{a} \\left(K \\left(\\frac{L}{2} - a_{1}\\right) + \\frac{\\pi}{2}\\right) \\right )} \\cos{\\left (K \\left(\\frac{L}{2} - a_{1}\\right) \\right )} - K \\left(g_{v} \\cos{\\left (g_{a} \\left(K \\left(\\frac{L}{2} - a_{1}\\right) + \\frac{\\pi}{2}\\right) \\right )} + \\frac{1}{K}\\right) \\sin{\\left (K \\left(\\frac{L}{2} - a_{1}\\right) \\right )}}{\\sqrt{\\left(- K g_{a} g_{v} \\sin{\\left (K \\left(\\frac{L}{2} - a_{1}\\right) \\right )} \\sin{\\left (g_{a} \\left(K \\left(\\frac{L}{2} - a_{1}\\right) + \\frac{\\pi}{2}\\right) \\right )} + K \\left(g_{v} \\cos{\\left (g_{a} \\left(K \\left(\\frac{L}{2} - a_{1}\\right) + \\frac{\\pi}{2}\\right) \\right )} + \\frac{1}{K}\\right) \\cos{\\left (K \\left(\\frac{L}{2} - a_{1}\\right) \\right )}\\right)^{2} + \\left(K g_{a} g_{v} \\sin{\\left (g_{a} \\left(K \\left(\\frac{L}{2} - a_{1}\\right) + \\frac{\\pi}{2}\\right) \\right )} \\cos{\\left (K \\left(\\frac{L}{2} - a_{1}\\right) \\right )} + K \\left(g_{v} \\cos{\\left (g_{a} \\left(K \\left(\\frac{L}{2} - a_{1}\\right) + \\frac{\\pi}{2}\\right) \\right )} + \\frac{1}{K}\\right) \\sin{\\left (K \\left(\\frac{L}{2} - a_{1}\\right) \\right )}\\right)^{2}}}$$"
      ],
      "text/plain": [
       "                                                                        ⎛   ⎛ \n",
       "                                                           - K⋅gₐ⋅gᵥ⋅sin⎜gₐ⋅⎜K\n",
       "                                                                        ⎝   ⎝ \n",
       "──────────────────────────────────────────────────────────────────────────────\n",
       "     _________________________________________________________________________\n",
       "    ╱                                                                         \n",
       "   ╱  ⎛             ⎛  ⎛L     ⎞⎞    ⎛   ⎛  ⎛L     ⎞   π⎞⎞     ⎛      ⎛   ⎛  ⎛L\n",
       "  ╱   ⎜- K⋅gₐ⋅gᵥ⋅sin⎜K⋅⎜─ - a₁⎟⎟⋅sin⎜gₐ⋅⎜K⋅⎜─ - a₁⎟ + ─⎟⎟ + K⋅⎜gᵥ⋅cos⎜gₐ⋅⎜K⋅⎜─\n",
       "╲╱    ⎝             ⎝  ⎝2     ⎠⎠    ⎝   ⎝  ⎝2     ⎠   2⎠⎠     ⎝      ⎝   ⎝  ⎝2\n",
       "\n",
       " ⎛L     ⎞   π⎞⎞    ⎛  ⎛L     ⎞⎞     ⎛      ⎛   ⎛  ⎛L     ⎞   π⎞⎞   1⎞    ⎛  ⎛L\n",
       "⋅⎜─ - a₁⎟ + ─⎟⎟⋅cos⎜K⋅⎜─ - a₁⎟⎟ - K⋅⎜gᵥ⋅cos⎜gₐ⋅⎜K⋅⎜─ - a₁⎟ + ─⎟⎟ + ─⎟⋅sin⎜K⋅⎜─\n",
       " ⎝2     ⎠   2⎠⎠    ⎝  ⎝2     ⎠⎠     ⎝      ⎝   ⎝  ⎝2     ⎠   2⎠⎠   K⎠    ⎝  ⎝2\n",
       "──────────────────────────────────────────────────────────────────────────────\n",
       "______________________________________________________________________________\n",
       "                                  2                                           \n",
       "     ⎞   π⎞⎞   1⎞    ⎛  ⎛L     ⎞⎞⎞    ⎛           ⎛   ⎛  ⎛L     ⎞   π⎞⎞    ⎛  \n",
       " - a₁⎟ + ─⎟⎟ + ─⎟⋅cos⎜K⋅⎜─ - a₁⎟⎟⎟  + ⎜K⋅gₐ⋅gᵥ⋅sin⎜gₐ⋅⎜K⋅⎜─ - a₁⎟ + ─⎟⎟⋅cos⎜K⋅\n",
       "     ⎠   2⎠⎠   K⎠    ⎝  ⎝2     ⎠⎠⎠    ⎝           ⎝   ⎝  ⎝2     ⎠   2⎠⎠    ⎝  \n",
       "\n",
       "     ⎞⎞                                                           \n",
       " - a₁⎟⎟                                                           \n",
       "     ⎠⎠                                                           \n",
       "──────────────────────────────────────────────────────────────────\n",
       "__________________________________________________________________\n",
       "                                                                2 \n",
       "⎛L     ⎞⎞     ⎛      ⎛   ⎛  ⎛L     ⎞   π⎞⎞   1⎞    ⎛  ⎛L     ⎞⎞⎞  \n",
       "⎜─ - a₁⎟⎟ + K⋅⎜gᵥ⋅cos⎜gₐ⋅⎜K⋅⎜─ - a₁⎟ + ─⎟⎟ + ─⎟⋅sin⎜K⋅⎜─ - a₁⎟⎟⎟  \n",
       "⎝2     ⎠⎠     ⎝      ⎝   ⎝  ⎝2     ⎠   2⎠⎠   K⎠    ⎝  ⎝2     ⎠⎠⎠  "
      ]
     },
     "execution_count": 6,
     "metadata": {},
     "output_type": "execute_result"
    }
   ],
   "source": [
    "n1"
   ]
  },
  {
   "cell_type": "code",
   "execution_count": 13,
   "metadata": {},
   "outputs": [
    {
     "data": {
      "image/png": "[encoded data removed]",
      "text/latex": [
       "$$\\frac{K^{2} g_{a} g_{v} \\left(- K g_{a} g_{v} \\sin{\\left (g_{a} \\left(K \\left(\\frac{L}{2} - a_{1}\\right) + \\frac{\\pi}{2}\\right) \\right )} \\cos{\\left (K \\left(\\frac{L}{2} - a_{1}\\right) \\right )} - K \\left(g_{v} \\cos{\\left (g_{a} \\left(K \\left(\\frac{L}{2} - a_{1}\\right) + \\frac{\\pi}{2}\\right) \\right )} + \\frac{1}{K}\\right) \\sin{\\left (K \\left(\\frac{L}{2} - a_{1}\\right) \\right )}\\right) \\left(\\frac{K g_{v}}{2} g_{a}^{2} \\sin{\\left (g_{a} \\left(K L - 2 K a_{1} + \\pi\\right) \\right )} - \\frac{K g_{v}}{2} \\sin{\\left (g_{a} \\left(K L - 2 K a_{1} + \\pi\\right) \\right )} - \\sin{\\left (g_{a} \\left(\\frac{K L}{2} - K a_{1} + \\frac{\\pi}{2}\\right) \\right )}\\right)}{\\left(\\left(- K g_{a} g_{v} \\sin{\\left (K \\left(\\frac{L}{2} - a_{1}\\right) \\right )} \\sin{\\left (g_{a} \\left(K \\left(\\frac{L}{2} - a_{1}\\right) + \\frac{\\pi}{2}\\right) \\right )} + K \\left(g_{v} \\cos{\\left (g_{a} \\left(K \\left(\\frac{L}{2} - a_{1}\\right) + \\frac{\\pi}{2}\\right) \\right )} + \\frac{1}{K}\\right) \\cos{\\left (K \\left(\\frac{L}{2} - a_{1}\\right) \\right )}\\right)^{2} + \\left(K g_{a} g_{v} \\sin{\\left (g_{a} \\left(K \\left(\\frac{L}{2} - a_{1}\\right) + \\frac{\\pi}{2}\\right) \\right )} \\cos{\\left (K \\left(\\frac{L}{2} - a_{1}\\right) \\right )} + K \\left(g_{v} \\cos{\\left (g_{a} \\left(K \\left(\\frac{L}{2} - a_{1}\\right) + \\frac{\\pi}{2}\\right) \\right )} + \\frac{1}{K}\\right) \\sin{\\left (K \\left(\\frac{L}{2} - a_{1}\\right) \\right )}\\right)^{2}\\right)^{\\frac{3}{2}}} + \\frac{K^{2} g_{a}^{2} g_{v} \\cos{\\left (K \\left(\\frac{L}{2} - a_{1}\\right) \\right )} \\cos{\\left (g_{a} \\left(K \\left(\\frac{L}{2} - a_{1}\\right) + \\frac{\\pi}{2}\\right) \\right )} - 2 K^{2} g_{a} g_{v} \\sin{\\left (K \\left(\\frac{L}{2} - a_{1}\\right) \\right )} \\sin{\\left (g_{a} \\left(K \\left(\\frac{L}{2} - a_{1}\\right) + \\frac{\\pi}{2}\\right) \\right )} + K^{2} \\left(g_{v} \\cos{\\left (g_{a} \\left(K \\left(\\frac{L}{2} - a_{1}\\right) + \\frac{\\pi}{2}\\right) \\right )} + \\frac{1}{K}\\right) \\cos{\\left (K \\left(\\frac{L}{2} - a_{1}\\right) \\right )}}{\\sqrt{\\left(- K g_{a} g_{v} \\sin{\\left (K \\left(\\frac{L}{2} - a_{1}\\right) \\right )} \\sin{\\left (g_{a} \\left(K \\left(\\frac{L}{2} - a_{1}\\right) + \\frac{\\pi}{2}\\right) \\right )} + K \\left(g_{v} \\cos{\\left (g_{a} \\left(K \\left(\\frac{L}{2} - a_{1}\\right) + \\frac{\\pi}{2}\\right) \\right )} + \\frac{1}{K}\\right) \\cos{\\left (K \\left(\\frac{L}{2} - a_{1}\\right) \\right )}\\right)^{2} + \\left(K g_{a} g_{v} \\sin{\\left (g_{a} \\left(K \\left(\\frac{L}{2} - a_{1}\\right) + \\frac{\\pi}{2}\\right) \\right )} \\cos{\\left (K \\left(\\frac{L}{2} - a_{1}\\right) \\right )} + K \\left(g_{v} \\cos{\\left (g_{a} \\left(K \\left(\\frac{L}{2} - a_{1}\\right) + \\frac{\\pi}{2}\\right) \\right )} + \\frac{1}{K}\\right) \\sin{\\left (K \\left(\\frac{L}{2} - a_{1}\\right) \\right )}\\right)^{2}}}$$"
      ],
      "text/plain": [
       "                                                                              \n",
       "    2       ⎛             ⎛   ⎛  ⎛L     ⎞   π⎞⎞    ⎛  ⎛L     ⎞⎞     ⎛      ⎛  \n",
       "   K ⋅gₐ⋅gᵥ⋅⎜- K⋅gₐ⋅gᵥ⋅sin⎜gₐ⋅⎜K⋅⎜─ - a₁⎟ + ─⎟⎟⋅cos⎜K⋅⎜─ - a₁⎟⎟ - K⋅⎜gᵥ⋅cos⎜gₐ\n",
       "            ⎝             ⎝   ⎝  ⎝2     ⎠   2⎠⎠    ⎝  ⎝2     ⎠⎠     ⎝      ⎝  \n",
       "──────────────────────────────────────────────────────────────────────────────\n",
       "                                                                              \n",
       "⎛                                                                             \n",
       "⎜⎛             ⎛  ⎛L     ⎞⎞    ⎛   ⎛  ⎛L     ⎞   π⎞⎞     ⎛      ⎛   ⎛  ⎛L     \n",
       "⎜⎜- K⋅gₐ⋅gᵥ⋅sin⎜K⋅⎜─ - a₁⎟⎟⋅sin⎜gₐ⋅⎜K⋅⎜─ - a₁⎟ + ─⎟⎟ + K⋅⎜gᵥ⋅cos⎜gₐ⋅⎜K⋅⎜─ - a₁\n",
       "⎝⎝             ⎝  ⎝2     ⎠⎠    ⎝   ⎝  ⎝2     ⎠   2⎠⎠     ⎝      ⎝   ⎝  ⎝2     \n",
       "\n",
       "                                         ⎛    2                               \n",
       " ⎛  ⎛L     ⎞   π⎞⎞   1⎞    ⎛  ⎛L     ⎞⎞⎞ ⎜K⋅gₐ ⋅gᵥ⋅sin(gₐ⋅(K⋅L - 2⋅K⋅a₁ + π)) \n",
       "⋅⎜K⋅⎜─ - a₁⎟ + ─⎟⎟ + ─⎟⋅sin⎜K⋅⎜─ - a₁⎟⎟⎟⋅⎜─────────────────────────────────── \n",
       " ⎝  ⎝2     ⎠   2⎠⎠   K⎠    ⎝  ⎝2     ⎠⎠⎠ ⎝                 2                  \n",
       "──────────────────────────────────────────────────────────────────────────────\n",
       "                                                                              \n",
       "                             2                                                \n",
       "⎞   π⎞⎞   1⎞    ⎛  ⎛L     ⎞⎞⎞    ⎛           ⎛   ⎛  ⎛L     ⎞   π⎞⎞    ⎛  ⎛L   \n",
       "⎟ + ─⎟⎟ + ─⎟⋅cos⎜K⋅⎜─ - a₁⎟⎟⎟  + ⎜K⋅gₐ⋅gᵥ⋅sin⎜gₐ⋅⎜K⋅⎜─ - a₁⎟ + ─⎟⎟⋅cos⎜K⋅⎜─ - \n",
       "⎠   2⎠⎠   K⎠    ⎝  ⎝2     ⎠⎠⎠    ⎝           ⎝   ⎝  ⎝2     ⎠   2⎠⎠    ⎝  ⎝2   \n",
       "\n",
       "                                                            ⎞                 \n",
       "  K⋅gᵥ⋅sin(gₐ⋅(K⋅L - 2⋅K⋅a₁ + π))      ⎛   ⎛K⋅L          π⎞⎞⎟                 \n",
       "- ─────────────────────────────── - sin⎜gₐ⋅⎜─── - K⋅a₁ + ─⎟⎟⎟                 \n",
       "                 2                     ⎝   ⎝ 2           2⎠⎠⎠                 \n",
       "──────────────────────────────────────────────────────────────── + ───────────\n",
       "                                                             3/2        ______\n",
       "                                                           2⎞          ╱      \n",
       "  ⎞⎞     ⎛      ⎛   ⎛  ⎛L     ⎞   π⎞⎞   1⎞    ⎛  ⎛L     ⎞⎞⎞ ⎟         ╱  ⎛    \n",
       "a₁⎟⎟ + K⋅⎜gᵥ⋅cos⎜gₐ⋅⎜K⋅⎜─ - a₁⎟ + ─⎟⎟ + ─⎟⋅sin⎜K⋅⎜─ - a₁⎟⎟⎟ ⎟        ╱   ⎜- K⋅\n",
       "  ⎠⎠     ⎝      ⎝   ⎝  ⎝2     ⎠   2⎠⎠   K⎠    ⎝  ⎝2     ⎠⎠⎠ ⎠      ╲╱    ⎝    \n",
       "\n",
       "                                                                              \n",
       "                     2   2       ⎛  ⎛L     ⎞⎞    ⎛   ⎛  ⎛L     ⎞   π⎞⎞      2 \n",
       "                    K ⋅gₐ ⋅gᵥ⋅cos⎜K⋅⎜─ - a₁⎟⎟⋅cos⎜gₐ⋅⎜K⋅⎜─ - a₁⎟ + ─⎟⎟ - 2⋅K ⋅\n",
       "                                 ⎝  ⎝2     ⎠⎠    ⎝   ⎝  ⎝2     ⎠   2⎠⎠        \n",
       "──────────────────────────────────────────────────────────────────────────────\n",
       "______________________________________________________________________________\n",
       "                                                                              \n",
       "         ⎛  ⎛L     ⎞⎞    ⎛   ⎛  ⎛L     ⎞   π⎞⎞     ⎛      ⎛   ⎛  ⎛L     ⎞   π⎞\n",
       "gₐ⋅gᵥ⋅sin⎜K⋅⎜─ - a₁⎟⎟⋅sin⎜gₐ⋅⎜K⋅⎜─ - a₁⎟ + ─⎟⎟ + K⋅⎜gᵥ⋅cos⎜gₐ⋅⎜K⋅⎜─ - a₁⎟ + ─⎟\n",
       "         ⎝  ⎝2     ⎠⎠    ⎝   ⎝  ⎝2     ⎠   2⎠⎠     ⎝      ⎝   ⎝  ⎝2     ⎠   2⎠\n",
       "\n",
       "                                                                              \n",
       "         ⎛  ⎛L     ⎞⎞    ⎛   ⎛  ⎛L     ⎞   π⎞⎞    2 ⎛      ⎛   ⎛  ⎛L     ⎞   π\n",
       "gₐ⋅gᵥ⋅sin⎜K⋅⎜─ - a₁⎟⎟⋅sin⎜gₐ⋅⎜K⋅⎜─ - a₁⎟ + ─⎟⎟ + K ⋅⎜gᵥ⋅cos⎜gₐ⋅⎜K⋅⎜─ - a₁⎟ + ─\n",
       "         ⎝  ⎝2     ⎠⎠    ⎝   ⎝  ⎝2     ⎠   2⎠⎠      ⎝      ⎝   ⎝  ⎝2     ⎠   2\n",
       "──────────────────────────────────────────────────────────────────────────────\n",
       "______________________________________________________________________________\n",
       "                       2                                                      \n",
       "⎞   1⎞    ⎛  ⎛L     ⎞⎞⎞    ⎛           ⎛   ⎛  ⎛L     ⎞   π⎞⎞    ⎛  ⎛L     ⎞⎞  \n",
       "⎟ + ─⎟⋅cos⎜K⋅⎜─ - a₁⎟⎟⎟  + ⎜K⋅gₐ⋅gᵥ⋅sin⎜gₐ⋅⎜K⋅⎜─ - a₁⎟ + ─⎟⎟⋅cos⎜K⋅⎜─ - a₁⎟⎟ +\n",
       "⎠   K⎠    ⎝  ⎝2     ⎠⎠⎠    ⎝           ⎝   ⎝  ⎝2     ⎠   2⎠⎠    ⎝  ⎝2     ⎠⎠  \n",
       "\n",
       "                                                       \n",
       "⎞⎞   1⎞    ⎛  ⎛L     ⎞⎞                                \n",
       "⎟⎟ + ─⎟⋅cos⎜K⋅⎜─ - a₁⎟⎟                                \n",
       "⎠⎠   K⎠    ⎝  ⎝2     ⎠⎠                                \n",
       "───────────────────────────────────────────────────────\n",
       "_______________________________________________________\n",
       "                                                     2 \n",
       "   ⎛      ⎛   ⎛  ⎛L     ⎞   π⎞⎞   1⎞    ⎛  ⎛L     ⎞⎞⎞  \n",
       " K⋅⎜gᵥ⋅cos⎜gₐ⋅⎜K⋅⎜─ - a₁⎟ + ─⎟⎟ + ─⎟⋅sin⎜K⋅⎜─ - a₁⎟⎟⎟  \n",
       "   ⎝      ⎝   ⎝  ⎝2     ⎠   2⎠⎠   K⎠    ⎝  ⎝2     ⎠⎠⎠  "
      ]
     },
     "execution_count": 13,
     "metadata": {},
     "output_type": "execute_result"
    }
   ],
   "source": [
    "dn1"
   ]
  },
  {
   "cell_type": "code",
   "execution_count": 8,
   "metadata": {},
   "outputs": [
    {
     "data": {
      "image/png": "[encoded data removed]",
      "text/latex": [
       "$$\\frac{K^{2} g_{a} g_{v} \\left(- K g_{a} g_{v} \\sin{\\left (K \\left(\\frac{L}{2} - a_{1}\\right) \\right )} \\sin{\\left (g_{a} \\left(K \\left(\\frac{L}{2} - a_{1}\\right) + \\frac{\\pi}{2}\\right) \\right )} + K \\left(g_{v} \\cos{\\left (g_{a} \\left(K \\left(\\frac{L}{2} - a_{1}\\right) + \\frac{\\pi}{2}\\right) \\right )} + \\frac{1}{K}\\right) \\cos{\\left (K \\left(\\frac{L}{2} - a_{1}\\right) \\right )}\\right) \\left(\\frac{K g_{v}}{2} g_{a}^{2} \\sin{\\left (g_{a} \\left(K L - 2 K a_{1} + \\pi\\right) \\right )} - \\frac{K g_{v}}{2} \\sin{\\left (g_{a} \\left(K L - 2 K a_{1} + \\pi\\right) \\right )} - \\sin{\\left (g_{a} \\left(\\frac{K L}{2} - K a_{1} + \\frac{\\pi}{2}\\right) \\right )}\\right)}{\\left(\\left(- K g_{a} g_{v} \\sin{\\left (K \\left(\\frac{L}{2} - a_{1}\\right) \\right )} \\sin{\\left (g_{a} \\left(K \\left(\\frac{L}{2} - a_{1}\\right) + \\frac{\\pi}{2}\\right) \\right )} + K \\left(g_{v} \\cos{\\left (g_{a} \\left(K \\left(\\frac{L}{2} - a_{1}\\right) + \\frac{\\pi}{2}\\right) \\right )} + \\frac{1}{K}\\right) \\cos{\\left (K \\left(\\frac{L}{2} - a_{1}\\right) \\right )}\\right)^{2} + \\left(K g_{a} g_{v} \\sin{\\left (g_{a} \\left(K \\left(\\frac{L}{2} - a_{1}\\right) + \\frac{\\pi}{2}\\right) \\right )} \\cos{\\left (K \\left(\\frac{L}{2} - a_{1}\\right) \\right )} + K \\left(g_{v} \\cos{\\left (g_{a} \\left(K \\left(\\frac{L}{2} - a_{1}\\right) + \\frac{\\pi}{2}\\right) \\right )} + \\frac{1}{K}\\right) \\sin{\\left (K \\left(\\frac{L}{2} - a_{1}\\right) \\right )}\\right)^{2}\\right)^{\\frac{3}{2}}} + \\frac{K^{2} g_{a}^{2} g_{v} \\sin{\\left (K \\left(\\frac{L}{2} - a_{1}\\right) \\right )} \\cos{\\left (g_{a} \\left(K \\left(\\frac{L}{2} - a_{1}\\right) + \\frac{\\pi}{2}\\right) \\right )} + 2 K^{2} g_{a} g_{v} \\sin{\\left (g_{a} \\left(K \\left(\\frac{L}{2} - a_{1}\\right) + \\frac{\\pi}{2}\\right) \\right )} \\cos{\\left (K \\left(\\frac{L}{2} - a_{1}\\right) \\right )} + K^{2} \\left(g_{v} \\cos{\\left (g_{a} \\left(K \\left(\\frac{L}{2} - a_{1}\\right) + \\frac{\\pi}{2}\\right) \\right )} + \\frac{1}{K}\\right) \\sin{\\left (K \\left(\\frac{L}{2} - a_{1}\\right) \\right )}}{\\sqrt{\\left(- K g_{a} g_{v} \\sin{\\left (K \\left(\\frac{L}{2} - a_{1}\\right) \\right )} \\sin{\\left (g_{a} \\left(K \\left(\\frac{L}{2} - a_{1}\\right) + \\frac{\\pi}{2}\\right) \\right )} + K \\left(g_{v} \\cos{\\left (g_{a} \\left(K \\left(\\frac{L}{2} - a_{1}\\right) + \\frac{\\pi}{2}\\right) \\right )} + \\frac{1}{K}\\right) \\cos{\\left (K \\left(\\frac{L}{2} - a_{1}\\right) \\right )}\\right)^{2} + \\left(K g_{a} g_{v} \\sin{\\left (g_{a} \\left(K \\left(\\frac{L}{2} - a_{1}\\right) + \\frac{\\pi}{2}\\right) \\right )} \\cos{\\left (K \\left(\\frac{L}{2} - a_{1}\\right) \\right )} + K \\left(g_{v} \\cos{\\left (g_{a} \\left(K \\left(\\frac{L}{2} - a_{1}\\right) + \\frac{\\pi}{2}\\right) \\right )} + \\frac{1}{K}\\right) \\sin{\\left (K \\left(\\frac{L}{2} - a_{1}\\right) \\right )}\\right)^{2}}}$$"
      ],
      "text/plain": [
       "                                                                              \n",
       "    2       ⎛             ⎛  ⎛L     ⎞⎞    ⎛   ⎛  ⎛L     ⎞   π⎞⎞     ⎛      ⎛  \n",
       "   K ⋅gₐ⋅gᵥ⋅⎜- K⋅gₐ⋅gᵥ⋅sin⎜K⋅⎜─ - a₁⎟⎟⋅sin⎜gₐ⋅⎜K⋅⎜─ - a₁⎟ + ─⎟⎟ + K⋅⎜gᵥ⋅cos⎜gₐ\n",
       "            ⎝             ⎝  ⎝2     ⎠⎠    ⎝   ⎝  ⎝2     ⎠   2⎠⎠     ⎝      ⎝  \n",
       "──────────────────────────────────────────────────────────────────────────────\n",
       "                                                                              \n",
       "⎛                                                                             \n",
       "⎜⎛             ⎛  ⎛L     ⎞⎞    ⎛   ⎛  ⎛L     ⎞   π⎞⎞     ⎛      ⎛   ⎛  ⎛L     \n",
       "⎜⎜- K⋅gₐ⋅gᵥ⋅sin⎜K⋅⎜─ - a₁⎟⎟⋅sin⎜gₐ⋅⎜K⋅⎜─ - a₁⎟ + ─⎟⎟ + K⋅⎜gᵥ⋅cos⎜gₐ⋅⎜K⋅⎜─ - a₁\n",
       "⎝⎝             ⎝  ⎝2     ⎠⎠    ⎝   ⎝  ⎝2     ⎠   2⎠⎠     ⎝      ⎝   ⎝  ⎝2     \n",
       "\n",
       "                                         ⎛    2                               \n",
       " ⎛  ⎛L     ⎞   π⎞⎞   1⎞    ⎛  ⎛L     ⎞⎞⎞ ⎜K⋅gₐ ⋅gᵥ⋅sin(gₐ⋅(K⋅L - 2⋅K⋅a₁ + π)) \n",
       "⋅⎜K⋅⎜─ - a₁⎟ + ─⎟⎟ + ─⎟⋅cos⎜K⋅⎜─ - a₁⎟⎟⎟⋅⎜─────────────────────────────────── \n",
       " ⎝  ⎝2     ⎠   2⎠⎠   K⎠    ⎝  ⎝2     ⎠⎠⎠ ⎝                 2                  \n",
       "──────────────────────────────────────────────────────────────────────────────\n",
       "                                                                              \n",
       "                             2                                                \n",
       "⎞   π⎞⎞   1⎞    ⎛  ⎛L     ⎞⎞⎞    ⎛           ⎛   ⎛  ⎛L     ⎞   π⎞⎞    ⎛  ⎛L   \n",
       "⎟ + ─⎟⎟ + ─⎟⋅cos⎜K⋅⎜─ - a₁⎟⎟⎟  + ⎜K⋅gₐ⋅gᵥ⋅sin⎜gₐ⋅⎜K⋅⎜─ - a₁⎟ + ─⎟⎟⋅cos⎜K⋅⎜─ - \n",
       "⎠   2⎠⎠   K⎠    ⎝  ⎝2     ⎠⎠⎠    ⎝           ⎝   ⎝  ⎝2     ⎠   2⎠⎠    ⎝  ⎝2   \n",
       "\n",
       "                                                            ⎞                 \n",
       "  K⋅gᵥ⋅sin(gₐ⋅(K⋅L - 2⋅K⋅a₁ + π))      ⎛   ⎛K⋅L          π⎞⎞⎟                 \n",
       "- ─────────────────────────────── - sin⎜gₐ⋅⎜─── - K⋅a₁ + ─⎟⎟⎟                 \n",
       "                 2                     ⎝   ⎝ 2           2⎠⎠⎠                 \n",
       "──────────────────────────────────────────────────────────────── + ───────────\n",
       "                                                             3/2        ______\n",
       "                                                           2⎞          ╱      \n",
       "  ⎞⎞     ⎛      ⎛   ⎛  ⎛L     ⎞   π⎞⎞   1⎞    ⎛  ⎛L     ⎞⎞⎞ ⎟         ╱  ⎛    \n",
       "a₁⎟⎟ + K⋅⎜gᵥ⋅cos⎜gₐ⋅⎜K⋅⎜─ - a₁⎟ + ─⎟⎟ + ─⎟⋅sin⎜K⋅⎜─ - a₁⎟⎟⎟ ⎟        ╱   ⎜- K⋅\n",
       "  ⎠⎠     ⎝      ⎝   ⎝  ⎝2     ⎠   2⎠⎠   K⎠    ⎝  ⎝2     ⎠⎠⎠ ⎠      ╲╱    ⎝    \n",
       "\n",
       "                                                                              \n",
       "                     2   2       ⎛  ⎛L     ⎞⎞    ⎛   ⎛  ⎛L     ⎞   π⎞⎞      2 \n",
       "                    K ⋅gₐ ⋅gᵥ⋅sin⎜K⋅⎜─ - a₁⎟⎟⋅cos⎜gₐ⋅⎜K⋅⎜─ - a₁⎟ + ─⎟⎟ + 2⋅K ⋅\n",
       "                                 ⎝  ⎝2     ⎠⎠    ⎝   ⎝  ⎝2     ⎠   2⎠⎠        \n",
       "──────────────────────────────────────────────────────────────────────────────\n",
       "______________________________________________________________________________\n",
       "                                                                              \n",
       "         ⎛  ⎛L     ⎞⎞    ⎛   ⎛  ⎛L     ⎞   π⎞⎞     ⎛      ⎛   ⎛  ⎛L     ⎞   π⎞\n",
       "gₐ⋅gᵥ⋅sin⎜K⋅⎜─ - a₁⎟⎟⋅sin⎜gₐ⋅⎜K⋅⎜─ - a₁⎟ + ─⎟⎟ + K⋅⎜gᵥ⋅cos⎜gₐ⋅⎜K⋅⎜─ - a₁⎟ + ─⎟\n",
       "         ⎝  ⎝2     ⎠⎠    ⎝   ⎝  ⎝2     ⎠   2⎠⎠     ⎝      ⎝   ⎝  ⎝2     ⎠   2⎠\n",
       "\n",
       "                                                                              \n",
       "         ⎛   ⎛  ⎛L     ⎞   π⎞⎞    ⎛  ⎛L     ⎞⎞    2 ⎛      ⎛   ⎛  ⎛L     ⎞   π\n",
       "gₐ⋅gᵥ⋅sin⎜gₐ⋅⎜K⋅⎜─ - a₁⎟ + ─⎟⎟⋅cos⎜K⋅⎜─ - a₁⎟⎟ + K ⋅⎜gᵥ⋅cos⎜gₐ⋅⎜K⋅⎜─ - a₁⎟ + ─\n",
       "         ⎝   ⎝  ⎝2     ⎠   2⎠⎠    ⎝  ⎝2     ⎠⎠      ⎝      ⎝   ⎝  ⎝2     ⎠   2\n",
       "──────────────────────────────────────────────────────────────────────────────\n",
       "______________________________________________________________________________\n",
       "                       2                                                      \n",
       "⎞   1⎞    ⎛  ⎛L     ⎞⎞⎞    ⎛           ⎛   ⎛  ⎛L     ⎞   π⎞⎞    ⎛  ⎛L     ⎞⎞  \n",
       "⎟ + ─⎟⋅cos⎜K⋅⎜─ - a₁⎟⎟⎟  + ⎜K⋅gₐ⋅gᵥ⋅sin⎜gₐ⋅⎜K⋅⎜─ - a₁⎟ + ─⎟⎟⋅cos⎜K⋅⎜─ - a₁⎟⎟ +\n",
       "⎠   K⎠    ⎝  ⎝2     ⎠⎠⎠    ⎝           ⎝   ⎝  ⎝2     ⎠   2⎠⎠    ⎝  ⎝2     ⎠⎠  \n",
       "\n",
       "                                                       \n",
       "⎞⎞   1⎞    ⎛  ⎛L     ⎞⎞                                \n",
       "⎟⎟ + ─⎟⋅sin⎜K⋅⎜─ - a₁⎟⎟                                \n",
       "⎠⎠   K⎠    ⎝  ⎝2     ⎠⎠                                \n",
       "───────────────────────────────────────────────────────\n",
       "_______________________________________________________\n",
       "                                                     2 \n",
       "   ⎛      ⎛   ⎛  ⎛L     ⎞   π⎞⎞   1⎞    ⎛  ⎛L     ⎞⎞⎞  \n",
       " K⋅⎜gᵥ⋅cos⎜gₐ⋅⎜K⋅⎜─ - a₁⎟ + ─⎟⎟ + ─⎟⋅sin⎜K⋅⎜─ - a₁⎟⎟⎟  \n",
       "   ⎝      ⎝   ⎝  ⎝2     ⎠   2⎠⎠   K⎠    ⎝  ⎝2     ⎠⎠⎠  "
      ]
     },
     "execution_count": 8,
     "metadata": {},
     "output_type": "execute_result"
    }
   ],
   "source": [
    "dn2"
   ]
  },
  {
   "cell_type": "code",
   "execution_count": 13,
   "metadata": {},
   "outputs": [],
   "source": [
    "a = pi / 2 + K * (L / 2 - a1)\n",
    "\n",
    "r1 = (1 / K) * cos(a)\n",
    "r2 = (1 / K) * sin(a)\n",
    "\n",
    "dr1 = diff(r1, a1)\n",
    "dr2 = diff(r2, a1)\n",
    "\n",
    "n1 = -dr2 / sqrt(dr1**2 + dr2**2)\n",
    "n2 = dr1 / sqrt(dr1**2 + dr2**2)\n"
   ]
  },
  {
   "cell_type": "code",
   "execution_count": 28,
   "metadata": {},
   "outputs": [
    {
     "data": {
      "image/png": "[encoded data removed]",
      "text/latex": [
       "$$- \\frac{1}{K} \\sin{\\left (K \\left(\\frac{L}{2} - a_{1}\\right) \\right )}$$"
      ],
      "text/plain": [
       "    ⎛  ⎛L     ⎞⎞ \n",
       "-sin⎜K⋅⎜─ - a₁⎟⎟ \n",
       "    ⎝  ⎝2     ⎠⎠ \n",
       "─────────────────\n",
       "        K        "
      ]
     },
     "execution_count": 28,
     "metadata": {},
     "output_type": "execute_result"
    }
   ],
   "source": [
    "r1"
   ]
  },
  {
   "cell_type": "code",
   "execution_count": 31,
   "metadata": {},
   "outputs": [
    {
     "data": {
      "image/png": "[encoded data removed]",
      "text/latex": [
       "$$\\frac{1}{K} \\cos{\\left (K \\left(\\frac{L}{2} - a_{1}\\right) \\right )}$$"
      ],
      "text/plain": [
       "   ⎛  ⎛L     ⎞⎞\n",
       "cos⎜K⋅⎜─ - a₁⎟⎟\n",
       "   ⎝  ⎝2     ⎠⎠\n",
       "───────────────\n",
       "       K       "
      ]
     },
     "execution_count": 31,
     "metadata": {},
     "output_type": "execute_result"
    }
   ],
   "source": [
    "r2"
   ]
  },
  {
   "cell_type": "code",
   "execution_count": 32,
   "metadata": {},
   "outputs": [
    {
     "data": {
      "image/png": "[encoded data removed]",
      "text/latex": [
       "$$\\cos{\\left (K \\left(\\frac{L}{2} - a_{1}\\right) \\right )}$$"
      ],
      "text/plain": [
       "   ⎛  ⎛L     ⎞⎞\n",
       "cos⎜K⋅⎜─ - a₁⎟⎟\n",
       "   ⎝  ⎝2     ⎠⎠"
      ]
     },
     "execution_count": 32,
     "metadata": {},
     "output_type": "execute_result"
    }
   ],
   "source": [
    "dr1"
   ]
  },
  {
   "cell_type": "code",
   "execution_count": 33,
   "metadata": {},
   "outputs": [
    {
     "data": {
      "image/png": "[encoded data removed]",
      "text/latex": [
       "$$\\sin{\\left (K \\left(\\frac{L}{2} - a_{1}\\right) \\right )}$$"
      ],
      "text/plain": [
       "   ⎛  ⎛L     ⎞⎞\n",
       "sin⎜K⋅⎜─ - a₁⎟⎟\n",
       "   ⎝  ⎝2     ⎠⎠"
      ]
     },
     "execution_count": 33,
     "metadata": {},
     "output_type": "execute_result"
    }
   ],
   "source": [
    "dr2"
   ]
  },
  {
   "cell_type": "code",
   "execution_count": 26,
   "metadata": {},
   "outputs": [
    {
     "data": {
      "image/png": "[encoded data removed]",
      "text/latex": [
       "$$- \\frac{\\sin{\\left (K \\left(\\frac{L}{2} - a_{1}\\right) \\right )}}{\\sqrt{\\sin^{2}{\\left (K \\left(\\frac{L}{2} - a_{1}\\right) \\right )} + \\cos^{2}{\\left (K \\left(\\frac{L}{2} - a_{1}\\right) \\right )}}}$$"
      ],
      "text/plain": [
       "                ⎛  ⎛L     ⎞⎞             \n",
       "            -sin⎜K⋅⎜─ - a₁⎟⎟             \n",
       "                ⎝  ⎝2     ⎠⎠             \n",
       "─────────────────────────────────────────\n",
       "    _____________________________________\n",
       "   ╱    2⎛  ⎛L     ⎞⎞      2⎛  ⎛L     ⎞⎞ \n",
       "  ╱  sin ⎜K⋅⎜─ - a₁⎟⎟ + cos ⎜K⋅⎜─ - a₁⎟⎟ \n",
       "╲╱       ⎝  ⎝2     ⎠⎠       ⎝  ⎝2     ⎠⎠ "
      ]
     },
     "execution_count": 26,
     "metadata": {},
     "output_type": "execute_result"
    }
   ],
   "source": [
    "n1"
   ]
  },
  {
   "cell_type": "code",
   "execution_count": 35,
   "metadata": {},
   "outputs": [
    {
     "data": {
      "image/png": "[encoded data removed]",
      "text/latex": [
       "$$\\frac{\\cos{\\left (K \\left(\\frac{L}{2} - a_{1}\\right) \\right )}}{\\sqrt{\\sin^{2}{\\left (K \\left(\\frac{L}{2} - a_{1}\\right) \\right )} + \\cos^{2}{\\left (K \\left(\\frac{L}{2} - a_{1}\\right) \\right )}}}$$"
      ],
      "text/plain": [
       "                ⎛  ⎛L     ⎞⎞             \n",
       "             cos⎜K⋅⎜─ - a₁⎟⎟             \n",
       "                ⎝  ⎝2     ⎠⎠             \n",
       "─────────────────────────────────────────\n",
       "    _____________________________________\n",
       "   ╱    2⎛  ⎛L     ⎞⎞      2⎛  ⎛L     ⎞⎞ \n",
       "  ╱  sin ⎜K⋅⎜─ - a₁⎟⎟ + cos ⎜K⋅⎜─ - a₁⎟⎟ \n",
       "╲╱       ⎝  ⎝2     ⎠⎠       ⎝  ⎝2     ⎠⎠ "
      ]
     },
     "execution_count": 35,
     "metadata": {},
     "output_type": "execute_result"
    }
   ],
   "source": [
    "n2"
   ]
  },
  {
   "cell_type": "code",
   "execution_count": 40,
   "metadata": {},
   "outputs": [],
   "source": [
    "a = pi / 2 + a1\n",
    "\n",
    "cos_a = cos(a)\n",
    "sin_a = sin(a)"
   ]
  },
  {
   "cell_type": "code",
   "execution_count": 41,
   "metadata": {},
   "outputs": [
    {
     "data": {
      "image/png": "[encoded data removed]",
      "text/latex": [
       "$$- \\sin{\\left (a_{1} \\right )}$$"
      ],
      "text/plain": [
       "-sin(a₁)"
      ]
     },
     "execution_count": 41,
     "metadata": {},
     "output_type": "execute_result"
    }
   ],
   "source": [
    "cos_a"
   ]
  },
  {
   "cell_type": "code",
   "execution_count": 42,
   "metadata": {},
   "outputs": [
    {
     "data": {
      "image/png": "[encoded data removed]",
      "text/latex": [
       "$$\\cos{\\left (a_{1} \\right )}$$"
      ],
      "text/plain": [
       "cos(a₁)"
      ]
     },
     "execution_count": 42,
     "metadata": {},
     "output_type": "execute_result"
    }
   ],
   "source": [
    "sin_a"
   ]
  },
  {
   "cell_type": "code",
   "execution_count": null,
   "metadata": {},
   "outputs": [],
   "source": []
  }
 ],
 "metadata": {
  "kernelspec": {
   "display_name": "Python 3",
   "language": "python",
   "name": "python3"
  },
  "language_info": {
   "codemirror_mode": {
    "name": "ipython",
    "version": 3
   },
   "file_extension": ".py",
   "mimetype": "text/x-python",
   "name": "python",
   "nbconvert_exporter": "python",
   "pygments_lexer": "ipython3",
   "version": "3.6.4"
  }
 },
 "nbformat": 4,
 "nbformat_minor": 2
}
