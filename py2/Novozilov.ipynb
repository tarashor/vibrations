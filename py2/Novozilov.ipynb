{
 "cells": [
  {
   "cell_type": "code",
   "execution_count": 8,
   "metadata": {},
   "outputs": [],
   "source": [
    "from sympy import *\n",
    "from sympy.vector import CoordSys3D\n",
    "N = CoordSys3D('N')\n",
    "alpha, beta, K, L, gv, ga, a = symbols(\"alpha beta K L g_a g_v a\")\n",
    "init_printing()"
   ]
  },
  {
   "cell_type": "code",
   "execution_count": 9,
   "metadata": {},
   "outputs": [],
   "source": [
    "a = pi / 2 + K * (L / 2 - alpha)\n",
    "\n",
    "x = (1 / K + ga * cos(gv * a)) * cos(a)\n",
    "y = beta\n",
    "z = (1 / K + ga * cos(gv * a)) * sin(a)"
   ]
  },
  {
   "cell_type": "code",
   "execution_count": 10,
   "metadata": {},
   "outputs": [],
   "source": [
    "r = x*N.i + y*N.j + z*N.k"
   ]
  },
  {
   "cell_type": "code",
   "execution_count": 13,
   "metadata": {},
   "outputs": [],
   "source": [
    "dr_dalpha = diff(r, alpha)\n",
    "\n"
   ]
  },
  {
   "cell_type": "code",
   "execution_count": 15,
   "metadata": {},
   "outputs": [
    {
     "data": {
      "image/png": "[encoded data removed]",
      "text/latex": [
       "$$(- \\left(g_{v} \\cos{\\left (g_{a} \\left(K \\left(\\frac{L}{2} - \\alpha\\right) + \\frac{\\pi}{2}\\right) \\right )} + \\frac{1}{K}\\right) \\sin{\\left (K \\left(\\frac{L}{2} - \\alpha\\right) \\right )})\\mathbf{\\hat{i}_{N}} + (\\beta)\\mathbf{\\hat{j}_{N}} + (\\left(g_{v} \\cos{\\left (g_{a} \\left(K \\left(\\frac{L}{2} - \\alpha\\right) + \\frac{\\pi}{2}\\right) \\right )} + \\frac{1}{K}\\right) \\cos{\\left (K \\left(\\frac{L}{2} - \\alpha\\right) \\right )})\\mathbf{\\hat{k}_{N}}$$"
      ],
      "text/plain": [
       "⎛ ⎛      ⎛   ⎛  ⎛L    ⎞ N_i   π⎞ N_i⎞ N_i   1⎞ N_i    ⎛  ⎛L    ⎞ N_i⎞ N_i⎞ N_i\n",
       "⎜-⎜gᵥ⋅cos⎜gₐ⋅⎜K⋅⎜─ - α⎟ + ─⎟⎟ + ─⎟⋅sin⎜K⋅⎜─ - α⎟⎟⎟                            \n",
       "⎝ ⎝      ⎝   ⎝  ⎝2    ⎠   2⎠⎠   K⎠    ⎝  ⎝2    ⎠⎠⎠                            \n",
       "\n",
       " + (β) N_j + ⎛⎛      ⎛   ⎛  ⎛L    ⎞ N_k   π⎞ N_k⎞ N_k   1⎞ N_k    ⎛  ⎛L    ⎞ N\n",
       "             ⎜⎜gᵥ⋅cos⎜gₐ⋅⎜K⋅⎜─ - α⎟ + ─⎟⎟ + ─⎟⋅cos⎜K⋅⎜─ - α⎟⎟⎟                \n",
       "             ⎝⎝      ⎝   ⎝  ⎝2    ⎠   2⎠⎠   K⎠    ⎝  ⎝2    ⎠⎠⎠                \n",
       "\n",
       "_k⎞ N_k⎞ N_k\n",
       "            \n",
       "            "
      ]
     },
     "execution_count": 15,
     "metadata": {},
     "output_type": "execute_result"
    }
   ],
   "source": [
    "dr_dalpha"
   ]
  },
  {
   "cell_type": "code",
   "execution_count": 6,
   "metadata": {},
   "outputs": [
    {
     "data": {
      "image/png": "[encoded data removed]",
      "text/latex": [
       "$$1$$"
      ],
      "text/plain": [
       "1"
      ]
     },
     "execution_count": 6,
     "metadata": {},
     "output_type": "execute_result"
    }
   ],
   "source": [
    "B"
   ]
  },
  {
   "cell_type": "code",
   "execution_count": 7,
   "metadata": {},
   "outputs": [
    {
     "data": {
      "image/png": "[encoded data removed]",
      "text/latex": [
       "$$\\sqrt{\\left(- K g_{a} g_{v} \\sin{\\left (K \\left(\\frac{L}{2} - \\alpha\\right) \\right )} \\sin{\\left (g_{a} \\left(K \\left(\\frac{L}{2} - \\alpha\\right) + \\frac{\\pi}{2}\\right) \\right )} + K \\left(g_{v} \\cos{\\left (g_{a} \\left(K \\left(\\frac{L}{2} - \\alpha\\right) + \\frac{\\pi}{2}\\right) \\right )} + \\frac{1}{K}\\right) \\cos{\\left (K \\left(\\frac{L}{2} - \\alpha\\right) \\right )}\\right)^{2} + \\left(K g_{a} g_{v} \\sin{\\left (g_{a} \\left(K \\left(\\frac{L}{2} - \\alpha\\right) + \\frac{\\pi}{2}\\right) \\right )} \\cos{\\left (K \\left(\\frac{L}{2} - \\alpha\\right) \\right )} + K \\left(g_{v} \\cos{\\left (g_{a} \\left(K \\left(\\frac{L}{2} - \\alpha\\right) + \\frac{\\pi}{2}\\right) \\right )} + \\frac{1}{K}\\right) \\sin{\\left (K \\left(\\frac{L}{2} - \\alpha\\right) \\right )}\\right)^{2}}$$"
      ],
      "text/plain": [
       "     _________________________________________________________________________\n",
       "    ╱                                                                         \n",
       "   ╱  ⎛             ⎛  ⎛L    ⎞⎞    ⎛   ⎛  ⎛L    ⎞   π⎞⎞     ⎛      ⎛   ⎛  ⎛L  \n",
       "  ╱   ⎜- K⋅gₐ⋅gᵥ⋅sin⎜K⋅⎜─ - α⎟⎟⋅sin⎜gₐ⋅⎜K⋅⎜─ - α⎟ + ─⎟⎟ + K⋅⎜gᵥ⋅cos⎜gₐ⋅⎜K⋅⎜─ -\n",
       "╲╱    ⎝             ⎝  ⎝2    ⎠⎠    ⎝   ⎝  ⎝2    ⎠   2⎠⎠     ⎝      ⎝   ⎝  ⎝2  \n",
       "\n",
       "______________________________________________________________________________\n",
       "                              2                                               \n",
       "  ⎞   π⎞⎞   1⎞    ⎛  ⎛L    ⎞⎞⎞    ⎛           ⎛   ⎛  ⎛L    ⎞   π⎞⎞    ⎛  ⎛L   \n",
       " α⎟ + ─⎟⎟ + ─⎟⋅cos⎜K⋅⎜─ - α⎟⎟⎟  + ⎜K⋅gₐ⋅gᵥ⋅sin⎜gₐ⋅⎜K⋅⎜─ - α⎟ + ─⎟⎟⋅cos⎜K⋅⎜─ - \n",
       "  ⎠   2⎠⎠   K⎠    ⎝  ⎝2    ⎠⎠⎠    ⎝           ⎝   ⎝  ⎝2    ⎠   2⎠⎠    ⎝  ⎝2   \n",
       "\n",
       "__________________________________________________________\n",
       "                                                        2 \n",
       " ⎞⎞     ⎛      ⎛   ⎛  ⎛L    ⎞   π⎞⎞   1⎞    ⎛  ⎛L    ⎞⎞⎞  \n",
       "α⎟⎟ + K⋅⎜gᵥ⋅cos⎜gₐ⋅⎜K⋅⎜─ - α⎟ + ─⎟⎟ + ─⎟⋅sin⎜K⋅⎜─ - α⎟⎟⎟  \n",
       " ⎠⎠     ⎝      ⎝   ⎝  ⎝2    ⎠   2⎠⎠   K⎠    ⎝  ⎝2    ⎠⎠⎠  "
      ]
     },
     "execution_count": 7,
     "metadata": {},
     "output_type": "execute_result"
    }
   ],
   "source": [
    "A"
   ]
  },
  {
   "cell_type": "code",
   "execution_count": null,
   "metadata": {},
   "outputs": [],
   "source": []
  }
 ],
 "metadata": {
  "kernelspec": {
   "display_name": "Python 3",
   "language": "python",
   "name": "python3"
  },
  "language_info": {
   "codemirror_mode": {
    "name": "ipython",
    "version": 3
   },
   "file_extension": ".py",
   "mimetype": "text/x-python",
   "name": "python",
   "nbconvert_exporter": "python",
   "pygments_lexer": "ipython3",
   "version": "3.6.4"
  }
 },
 "nbformat": 4,
 "nbformat_minor": 2
}
