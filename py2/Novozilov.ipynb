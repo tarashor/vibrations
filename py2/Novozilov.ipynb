{
 "cells": [
  {
   "cell_type": "code",
   "execution_count": 4,
   "metadata": {
    "collapsed": true
   },
   "outputs": [],
   "source": [
    "from sympy import *\n",
    "alpha, beta, K, L, gv, ga, a = symbols(\"alpha beta K L g_a g_v a\")\n",
    "init_printing()"
   ]
  },
  {
   "cell_type": "code",
   "execution_count": 6,
   "metadata": {},
   "outputs": [],
   "source": [
    "a = pi / 2 + K * (L / 2 - alpha)\n",
    "\n",
    "x = (1 / K + ga * cos(gv * a)) * cos(a)\n",
    "y = beta\n",
    "z = (1 / K + ga * cos(gv * a)) * sin(a)"
   ]
  },
  {
   "cell_type": "code",
   "execution_count": 8,
   "metadata": {
    "collapsed": true
   },
   "outputs": [],
   "source": [
    "r1 = x\n",
    "r2 = y\n",
    "r3 = z"
   ]
  },
  {
   "cell_type": "code",
   "execution_count": 12,
   "metadata": {},
   "outputs": [],
   "source": [
    "dr1_dalpha = diff(r1, alpha)\n",
    "dr2_dalpha = diff(r2, alpha)\n",
    "dr3_dalpha = diff(r3, alpha)\n",
    "\n",
    "dr1_dbeta = diff(r1, beta)\n",
    "dr2_dbeta = diff(r2, beta)\n",
    "dr3_dbeta = diff(r3, beta)\n",
    "\n",
    "A=sqrt(dr1_dalpha**2+dr2_dalpha**2+dr3_dalpha**2)\n",
    "B=sqrt(dr1_dbeta**2+dr2_dbeta**2+dr3_dbeta**2)"
   ]
  },
  {
   "cell_type": "code",
   "execution_count": null,
   "metadata": {
    "collapsed": true
   },
   "outputs": [],
   "source": [
    "A\n",
    "B"
   ]
  }
 ],
 "metadata": {
  "kernelspec": {
   "display_name": "Python 3",
   "language": "python",
   "name": "python3"
  },
  "language_info": {
   "codemirror_mode": {
    "name": "ipython",
    "version": 3
   },
   "file_extension": ".py",
   "mimetype": "text/x-python",
   "name": "python",
   "nbconvert_exporter": "python",
   "pygments_lexer": "ipython3",
   "version": "3.6.1"
  }
 },
 "nbformat": 4,
 "nbformat_minor": 2
}
