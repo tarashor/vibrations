{
 "cells": [
  {
   "cell_type": "markdown",
   "metadata": {},
   "source": [
    "# Corrugated Shells"
   ]
  },
  {
   "cell_type": "markdown",
   "metadata": {},
   "source": [
    "## Init symbols for *sympy*"
   ]
  },
  {
   "cell_type": "code",
   "execution_count": 1,
   "metadata": {},
   "outputs": [],
   "source": [
    "from sympy import *\n",
    "from sympy.vector import CoordSys3D\n",
    "N = CoordSys3D('N')\n",
    "x1, x2, x3 = symbols(\"x_1 x_2 x_3\")\n",
    "alpha1, alpha2, alpha3 = symbols(\"alpha_1 alpha_2 alpha_3\")\n",
    "R, L, ga, gv = symbols(\"R L g_a g_v\")\n",
    "init_printing()"
   ]
  },
  {
   "cell_type": "markdown",
   "metadata": {},
   "source": [
    "## Corrugated cylindrical coordinates"
   ]
  },
  {
   "cell_type": "code",
   "execution_count": 2,
   "metadata": {},
   "outputs": [],
   "source": [
    "a1 = pi / 2 + (L / 2 - alpha1)/R\n",
    "\n",
    "x = (R + alpha3 + ga * cos(gv * a1)) * cos(a1)\n",
    "y = alpha2\n",
    "z = (R + alpha3 + ga * cos(gv * a1)) * sin(a1)\n",
    "\n",
    "r = x*N.i + y*N.j + z*N.k"
   ]
  },
  {
   "cell_type": "markdown",
   "metadata": {},
   "source": [
    "### Base Vectors $\\vec{R}_1, \\vec{R}_2, \\vec{R}_3$"
   ]
  },
  {
   "cell_type": "code",
   "execution_count": 3,
   "metadata": {},
   "outputs": [],
   "source": [
    "R1=r.diff(alpha1)\n",
    "R2=r.diff(alpha2)\n",
    "R3=r.diff(alpha3)"
   ]
  },
  {
   "cell_type": "code",
   "execution_count": 4,
   "metadata": {},
   "outputs": [
    {
     "data": {
      "image/png": "[encoded data removed]",
      "text/latex": [
       "$$(- \\frac{g_{a} g_{v}}{R} \\sin{\\left (\\frac{1}{R} \\left(\\frac{L}{2} - \\alpha_{1}\\right) \\right )} \\sin{\\left (g_{v} \\left(\\frac{\\pi}{2} + \\frac{1}{R} \\left(\\frac{L}{2} - \\alpha_{1}\\right)\\right) \\right )} + \\frac{1}{R} \\left(R + \\alpha_{3} + g_{a} \\cos{\\left (g_{v} \\left(\\frac{\\pi}{2} + \\frac{1}{R} \\left(\\frac{L}{2} - \\alpha_{1}\\right)\\right) \\right )}\\right) \\cos{\\left (\\frac{1}{R} \\left(\\frac{L}{2} - \\alpha_{1}\\right) \\right )})\\mathbf{\\hat{i}_{N}} + (\\frac{g_{a} g_{v}}{R} \\sin{\\left (g_{v} \\left(\\frac{\\pi}{2} + \\frac{1}{R} \\left(\\frac{L}{2} - \\alpha_{1}\\right)\\right) \\right )} \\cos{\\left (\\frac{1}{R} \\left(\\frac{L}{2} - \\alpha_{1}\\right) \\right )} + \\frac{1}{R} \\left(R + \\alpha_{3} + g_{a} \\cos{\\left (g_{v} \\left(\\frac{\\pi}{2} + \\frac{1}{R} \\left(\\frac{L}{2} - \\alpha_{1}\\right)\\right) \\right )}\\right) \\sin{\\left (\\frac{1}{R} \\left(\\frac{L}{2} - \\alpha_{1}\\right) \\right )})\\mathbf{\\hat{k}_{N}}$$"
      ],
      "text/plain": [
       "⎛           ⎛L     ⎞ N_i    ⎛   ⎛    L     ⎞ N_i⎞ N_i   ⎛               ⎛   ⎛ \n",
       "⎜           ⎜─ - α₁⎟    ⎜   ⎜    ─ - α₁⎟⎟   ⎜               ⎜   ⎜    ─ - α₁⎟⎟⎟\n",
       "⎜           ⎜2     ⎟    ⎜   ⎜π   2     ⎟⎟   ⎜               ⎜   ⎜π   2     ⎟⎟⎟\n",
       "⎜  gₐ⋅gᵥ⋅sin⎜──────⎟⋅sin⎜gᵥ⋅⎜─ + ──────⎟⎟   ⎜R + α₃ + gₐ⋅cos⎜gᵥ⋅⎜─ + ──────⎟⎟⎟\n",
       "⎜           ⎝  R   ⎠    ⎝   ⎝2     R   ⎠⎠   ⎝               ⎝   ⎝2     R   ⎠⎠⎠\n",
       "⎜- ────────────────────────────────────── + ──────────────────────────────────\n",
       "⎝                    R                                            R           \n",
       "\n",
       "   L     ⎞ N_i⎞ N_i⎞ N_i    ⎛L     ⎞ N_i⎞ N_i + ⎛         ⎛   ⎛    L     ⎞ N_k\n",
       "    ⎜─ - α₁⎟⎟                                   ⎜         ⎜   ⎜    ─ - α₁⎟⎟   \n",
       "    ⎜2     ⎟⎟                                   ⎜         ⎜   ⎜π   2     ⎟⎟   \n",
       "⋅cos⎜──────⎟⎟                                   ⎜gₐ⋅gᵥ⋅sin⎜gᵥ⋅⎜─ + ──────⎟⎟⋅co\n",
       "    ⎝  R   ⎠⎟                                   ⎜         ⎝   ⎝2     R   ⎠⎠   \n",
       "────────────⎟                                   ⎜─────────────────────────────\n",
       "            ⎠                                   ⎝                  R          \n",
       "\n",
       "⎞ N_k    ⎛L     ⎞ N_k   ⎛               ⎛   ⎛    L     ⎞ N_k⎞ N_k⎞ N_k    ⎛L  \n",
       " ⎜─ - α₁⎟   ⎜               ⎜   ⎜    ─ - α₁⎟⎟⎟    ⎜─ - α₁⎟⎟                   \n",
       " ⎜2     ⎟   ⎜               ⎜   ⎜π   2     ⎟⎟⎟    ⎜2     ⎟⎟                   \n",
       "s⎜──────⎟   ⎜R + α₃ + gₐ⋅cos⎜gᵥ⋅⎜─ + ──────⎟⎟⎟⋅sin⎜──────⎟⎟                   \n",
       " ⎝  R   ⎠   ⎝               ⎝   ⎝2     R   ⎠⎠⎠    ⎝  R   ⎠⎟                   \n",
       "───────── + ──────────────────────────────────────────────⎟                   \n",
       "                                  R                       ⎠                   \n",
       "\n",
       "   ⎞ N_k⎞ N_k\n",
       "             \n",
       "             \n",
       "             \n",
       "             \n",
       "             \n",
       "             "
      ]
     },
     "execution_count": 4,
     "metadata": {},
     "output_type": "execute_result"
    }
   ],
   "source": [
    "trigsimp(R1)"
   ]
  },
  {
   "cell_type": "code",
   "execution_count": 5,
   "metadata": {},
   "outputs": [
    {
     "data": {
      "image/png": "[encoded data removed]",
      "text/latex": [
       "$$\\mathbf{\\hat{j}_{N}}$$"
      ],
      "text/plain": [
       "N_j"
      ]
     },
     "execution_count": 5,
     "metadata": {},
     "output_type": "execute_result"
    }
   ],
   "source": [
    "R2"
   ]
  },
  {
   "cell_type": "code",
   "execution_count": 6,
   "metadata": {},
   "outputs": [
    {
     "data": {
      "image/png": "[encoded data removed]",
      "text/latex": [
       "$$(- \\sin{\\left (\\frac{1}{R} \\left(\\frac{L}{2} - \\alpha_{1}\\right) \\right )})\\mathbf{\\hat{i}_{N}} + (\\cos{\\left (\\frac{1}{R} \\left(\\frac{L}{2} - \\alpha_{1}\\right) \\right )})\\mathbf{\\hat{k}_{N}}$$"
      ],
      "text/plain": [
       "⎛    ⎛L     ⎞ N_i⎞ N_i + ⎛   ⎛L     ⎞ N_k⎞ N_k\n",
       "⎜    ⎜─ - α₁⎟⎟           ⎜   ⎜─ - α₁⎟⎟        \n",
       "⎜    ⎜2     ⎟⎟           ⎜   ⎜2     ⎟⎟        \n",
       "⎜-sin⎜──────⎟⎟           ⎜cos⎜──────⎟⎟        \n",
       "⎝    ⎝  R   ⎠⎠           ⎝   ⎝  R   ⎠⎠        "
      ]
     },
     "execution_count": 6,
     "metadata": {},
     "output_type": "execute_result"
    }
   ],
   "source": [
    "R3"
   ]
  },
  {
   "cell_type": "markdown",
   "metadata": {},
   "source": [
    "#### Base Vectors $\\vec{R}^1, \\vec{R}^2, \\vec{R}^3$"
   ]
  },
  {
   "cell_type": "code",
   "execution_count": 7,
   "metadata": {},
   "outputs": [],
   "source": [
    "eps=trigsimp(R1.dot(R2.cross(R3)))\n",
    "R_1=simplify(trigsimp(R2.cross(R3)/eps))\n",
    "R_2=simplify(trigsimp(R3.cross(R1)/eps))\n",
    "R_3=simplify(trigsimp(R1.cross(R2)/eps))"
   ]
  },
  {
   "cell_type": "code",
   "execution_count": 8,
   "metadata": {},
   "outputs": [
    {
     "data": {
      "image/png": "[encoded data removed]",
      "text/latex": [
       "$$(\\frac{R \\cos{\\left (\\frac{1}{R} \\left(\\frac{L}{2} - \\alpha_{1}\\right) \\right )}}{R + \\alpha_{3} + g_{a} \\cos{\\left (\\frac{g_{v}}{2 R} \\left(L + \\pi R - 2 \\alpha_{1}\\right) \\right )}})\\mathbf{\\hat{i}_{N}} + (\\frac{R \\sin{\\left (\\frac{1}{R} \\left(\\frac{L}{2} - \\alpha_{1}\\right) \\right )}}{R + \\alpha_{3} + g_{a} \\cos{\\left (\\frac{g_{v}}{2 R} \\left(L + \\pi R - 2 \\alpha_{1}\\right) \\right )}})\\mathbf{\\hat{k}_{N}}$$"
      ],
      "text/plain": [
       "⎛                ⎛L     ⎞ N_i            ⎞ N_i + ⎛                ⎛L     ⎞ N_k\n",
       "⎜                ⎜─ - α₁⎟            ⎟           ⎜                ⎜─ - α₁⎟    \n",
       "⎜                ⎜2     ⎟            ⎟           ⎜                ⎜2     ⎟    \n",
       "⎜           R⋅cos⎜──────⎟            ⎟           ⎜           R⋅sin⎜──────⎟    \n",
       "⎜                ⎝  R   ⎠            ⎟           ⎜                ⎝  R   ⎠    \n",
       "⎜────────────────────────────────────⎟           ⎜────────────────────────────\n",
       "⎜               ⎛gᵥ⋅(L + π⋅R - 2⋅α₁)⎞ N_i⎟       ⎜               ⎛gᵥ⋅(L + π⋅R \n",
       "⎜R + α₃ + gₐ⋅cos⎜───────────────────⎟⎟           ⎜R + α₃ + gₐ⋅cos⎜────────────\n",
       "⎝               ⎝        2⋅R        ⎠⎠           ⎝               ⎝        2⋅R \n",
       "\n",
       "            ⎞ N_k\n",
       "        ⎟        \n",
       "        ⎟        \n",
       "        ⎟        \n",
       "        ⎟        \n",
       "────────⎟        \n",
       "- 2⋅α₁)⎞ N_k⎟    \n",
       "───────⎟⎟        \n",
       "       ⎠⎠        "
      ]
     },
     "execution_count": 8,
     "metadata": {},
     "output_type": "execute_result"
    }
   ],
   "source": [
    "R_1"
   ]
  },
  {
   "cell_type": "code",
   "execution_count": 9,
   "metadata": {},
   "outputs": [
    {
     "data": {
      "image/png": "[encoded data removed]",
      "text/latex": [
       "$$\\mathbf{\\hat{j}_{N}}$$"
      ],
      "text/plain": [
       "N_j"
      ]
     },
     "execution_count": 9,
     "metadata": {},
     "output_type": "execute_result"
    }
   ],
   "source": [
    "R_2"
   ]
  },
  {
   "cell_type": "code",
   "execution_count": 10,
   "metadata": {},
   "outputs": [
    {
     "data": {
      "image/png": "[encoded data removed]",
      "text/latex": [
       "$$(- \\frac{1}{R + \\alpha_{3} + g_{a} \\cos{\\left (\\frac{g_{v}}{2 R} \\left(L + \\pi R - 2 \\alpha_{1}\\right) \\right )}} \\left(g_{a} g_{v} \\sin{\\left (\\frac{g_{v}}{2 R} \\left(L + \\pi R - 2 \\alpha_{1}\\right) \\right )} \\cos{\\left (\\frac{1}{R} \\left(\\frac{L}{2} - \\alpha_{1}\\right) \\right )} + \\left(R + \\alpha_{3} + g_{a} \\cos{\\left (\\frac{g_{v}}{2 R} \\left(L + \\pi R - 2 \\alpha_{1}\\right) \\right )}\\right) \\sin{\\left (\\frac{1}{R} \\left(\\frac{L}{2} - \\alpha_{1}\\right) \\right )}\\right))\\mathbf{\\hat{i}_{N}} + (\\frac{1}{R + \\alpha_{3} + g_{a} \\cos{\\left (\\frac{g_{v}}{2 R} \\left(L + \\pi R - 2 \\alpha_{1}\\right) \\right )}} \\left(- g_{a} g_{v} \\sin{\\left (\\frac{1}{R} \\left(\\frac{L}{2} - \\alpha_{1}\\right) \\right )} \\sin{\\left (\\frac{g_{v}}{2 R} \\left(L + \\pi R - 2 \\alpha_{1}\\right) \\right )} + \\left(R + \\alpha_{3} + g_{a} \\cos{\\left (\\frac{g_{v}}{2 R} \\left(L + \\pi R - 2 \\alpha_{1}\\right) \\right )}\\right) \\cos{\\left (\\frac{1}{R} \\left(\\frac{L}{2} - \\alpha_{1}\\right) \\right )}\\right))\\mathbf{\\hat{k}_{N}}$$"
      ],
      "text/plain": [
       "⎛ ⎛                                  ⎛L     ⎞ N_i                             \n",
       "⎜ ⎜                                  ⎜─ - α₁⎟                                 \n",
       "⎜ ⎜         ⎛gᵥ⋅(L + π⋅R - 2⋅α₁)⎞ N_i    ⎜2     ⎟   ⎛               ⎛gᵥ⋅(L + π\n",
       "⎜-⎜gₐ⋅gᵥ⋅sin⎜───────────────────⎟⋅cos⎜──────⎟ + ⎜R + α₃ + gₐ⋅cos⎜─────────────\n",
       "⎜ ⎝         ⎝        2⋅R        ⎠    ⎝  R   ⎠   ⎝               ⎝        2⋅R  \n",
       "⎜─────────────────────────────────────────────────────────────────────────────\n",
       "⎜                                               ⎛gᵥ⋅(L + π⋅R - 2⋅α₁)⎞ N_i     \n",
       "⎜                                R + α₃ + gₐ⋅cos⎜───────────────────⎟         \n",
       "⎝                                               ⎝        2⋅R        ⎠         \n",
       "\n",
       "                ⎛L     ⎞ N_i⎞ N_i ⎞ N_i + ⎛           ⎛L     ⎞ N_k            \n",
       "            ⎜─ - α₁⎟⎟ ⎟                   ⎜           ⎜─ - α₁⎟                \n",
       "⋅R - 2⋅α₁)⎞ N_i⎞ N_i    ⎜2     ⎟⎟ ⎟       ⎜           ⎜2     ⎟    ⎛gᵥ⋅(L + π⋅R\n",
       "──────⎟⎟⋅sin⎜──────⎟⎟ ⎟                   ⎜- gₐ⋅gᵥ⋅sin⎜──────⎟⋅sin⎜───────────\n",
       "      ⎠⎠    ⎝  R   ⎠⎠ ⎟                   ⎜           ⎝  R   ⎠    ⎝        2⋅R\n",
       "──────────────────────⎟                   ⎜───────────────────────────────────\n",
       "                          ⎟               ⎜                                   \n",
       "                      ⎟                   ⎜                               R + \n",
       "                      ⎠                   ⎝                                   \n",
       "\n",
       "                                                          ⎛L     ⎞ N_k⎞ N_k\n",
       "                                                      ⎜─ - α₁⎟⎟            \n",
       " - 2⋅α₁)⎞ N_k   ⎛               ⎛gᵥ⋅(L + π⋅R - 2⋅α₁)⎞ N_k⎞ N_k    ⎜2     ⎟⎟\n",
       "────────⎟ + ⎜R + α₃ + gₐ⋅cos⎜───────────────────⎟⎟⋅cos⎜──────⎟⎟            \n",
       "        ⎠   ⎝               ⎝        2⋅R        ⎠⎠    ⎝  R   ⎠⎟            \n",
       "──────────────────────────────────────────────────────────────⎟            \n",
       "           ⎛gᵥ⋅(L + π⋅R - 2⋅α₁)⎞ N_k                              ⎟        \n",
       "α₃ + gₐ⋅cos⎜───────────────────⎟                              ⎟            \n",
       "           ⎝        2⋅R        ⎠                              ⎠            "
      ]
     },
     "execution_count": 10,
     "metadata": {},
     "output_type": "execute_result"
    }
   ],
   "source": [
    "R_3"
   ]
  },
  {
   "cell_type": "markdown",
   "metadata": {},
   "source": [
    "#### Jacobi matrix:\n",
    "\n",
    "$ A = \\left( \n",
    "\\begin{array}{ccc} \n",
    "\\frac{\\partial x_1}{\\partial \\alpha_1} & \\frac{\\partial x_1}{\\partial \\alpha_2} & \\frac{\\partial x_1}{\\partial \\alpha_3} \\\\\n",
    "\\frac{\\partial x_2}{\\partial \\alpha_1} & \\frac{\\partial x_2}{\\partial \\alpha_2} & \\frac{\\partial x_3}{\\partial \\alpha_3} \\\\\n",
    "\\frac{\\partial x_3}{\\partial \\alpha_1} & \\frac{\\partial x_3}{\\partial \\alpha_2} & \\frac{\\partial x_3}{\\partial \\alpha_3} \\\\\n",
    "\\end{array} \n",
    "\\right)$\n",
    "\n",
    "$ \\left[\n",
    "\\begin{array}{ccc} \n",
    "\\vec{R}_1 & \\vec{R}_2 & \\vec{R}_3\n",
    "\\end{array} \n",
    "\\right] = \\left[\n",
    "\\begin{array}{ccc} \n",
    "\\vec{e}_1 & \\vec{e}_2 & \\vec{e}_3\n",
    "\\end{array} \n",
    "\\right] \\cdot  \\left( \n",
    "\\begin{array}{ccc} \n",
    "\\frac{\\partial x_1}{\\partial \\alpha_1} & \\frac{\\partial x_1}{\\partial \\alpha_2} & \\frac{\\partial x_1}{\\partial \\alpha_3} \\\\\n",
    "\\frac{\\partial x_2}{\\partial \\alpha_1} & \\frac{\\partial x_2}{\\partial \\alpha_2} & \\frac{\\partial x_3}{\\partial \\alpha_3} \\\\\n",
    "\\frac{\\partial x_3}{\\partial \\alpha_1} & \\frac{\\partial x_3}{\\partial \\alpha_2} & \\frac{\\partial x_3}{\\partial \\alpha_3} \\\\\n",
    "\\end{array} \n",
    "\\right) = \\left[\n",
    "\\begin{array}{ccc} \n",
    "\\vec{e}_1 & \\vec{e}_2 & \\vec{e}_3\n",
    "\\end{array} \n",
    "\\right] \\cdot A$\n",
    "\n",
    "$ \\left[\n",
    "\\begin{array}{ccc} \n",
    "\\vec{e}_1 & \\vec{e}_2 & \\vec{e}_3\n",
    "\\end{array} \n",
    "\\right] =\\left[\n",
    "\\begin{array}{ccc} \n",
    "\\vec{R}_1 & \\vec{R}_2 & \\vec{R}_3\n",
    "\\end{array} \n",
    "\\right] \\cdot A^{-1}$"
   ]
  },
  {
   "cell_type": "code",
   "execution_count": 11,
   "metadata": {},
   "outputs": [
    {
     "data": {
      "image/png": "[encoded data removed]",
      "text/latex": [
       "$$\\left[\\begin{matrix}\\frac{1}{R} \\left(- g_{a} g_{v} \\sin{\\left (\\frac{1}{R} \\left(\\frac{L}{2} - \\alpha_{1}\\right) \\right )} \\sin{\\left (\\frac{g_{v}}{2 R} \\left(L + \\pi R - 2 \\alpha_{1}\\right) \\right )} + \\left(R + \\alpha_{3} + g_{a} \\cos{\\left (\\frac{g_{v}}{2 R} \\left(L + \\pi R - 2 \\alpha_{1}\\right) \\right )}\\right) \\cos{\\left (\\frac{1}{R} \\left(\\frac{L}{2} - \\alpha_{1}\\right) \\right )}\\right) & 0 & - \\sin{\\left (\\frac{1}{R} \\left(\\frac{L}{2} - \\alpha_{1}\\right) \\right )}\\\\0 & 1 & 0\\\\\\frac{1}{R} \\left(g_{a} g_{v} \\sin{\\left (\\frac{g_{v}}{2 R} \\left(L + \\pi R - 2 \\alpha_{1}\\right) \\right )} \\cos{\\left (\\frac{1}{R} \\left(\\frac{L}{2} - \\alpha_{1}\\right) \\right )} + \\left(R + \\alpha_{3} + g_{a} \\cos{\\left (\\frac{g_{v}}{2 R} \\left(L + \\pi R - 2 \\alpha_{1}\\right) \\right )}\\right) \\sin{\\left (\\frac{1}{R} \\left(\\frac{L}{2} - \\alpha_{1}\\right) \\right )}\\right) & 0 & \\cos{\\left (\\frac{1}{R} \\left(\\frac{L}{2} - \\alpha_{1}\\right) \\right )}\\end{matrix}\\right]$$"
      ],
      "text/plain": [
       "⎡           ⎛L     ⎞                                                          \n",
       "⎢           ⎜─ - α₁⎟                                                          \n",
       "⎢           ⎜2     ⎟    ⎛gᵥ⋅(L + π⋅R - 2⋅α₁)⎞   ⎛               ⎛gᵥ⋅(L + π⋅R -\n",
       "⎢- gₐ⋅gᵥ⋅sin⎜──────⎟⋅sin⎜───────────────────⎟ + ⎜R + α₃ + gₐ⋅cos⎜─────────────\n",
       "⎢           ⎝  R   ⎠    ⎝        2⋅R        ⎠   ⎝               ⎝        2⋅R  \n",
       "⎢─────────────────────────────────────────────────────────────────────────────\n",
       "⎢                                                R                            \n",
       "⎢                                                                             \n",
       "⎢                                                0                            \n",
       "⎢                                                                             \n",
       "⎢                                   ⎛L     ⎞                                  \n",
       "⎢                                   ⎜─ - α₁⎟                                  \n",
       "⎢          ⎛gᵥ⋅(L + π⋅R - 2⋅α₁)⎞    ⎜2     ⎟   ⎛               ⎛gᵥ⋅(L + π⋅R - \n",
       "⎢ gₐ⋅gᵥ⋅sin⎜───────────────────⎟⋅cos⎜──────⎟ + ⎜R + α₃ + gₐ⋅cos⎜──────────────\n",
       "⎢          ⎝        2⋅R        ⎠    ⎝  R   ⎠   ⎝               ⎝        2⋅R   \n",
       "⎢ ────────────────────────────────────────────────────────────────────────────\n",
       "⎣                                                R                            \n",
       "\n",
       "            ⎛L     ⎞                 ⎤\n",
       "            ⎜─ - α₁⎟                 ⎥\n",
       " 2⋅α₁)⎞⎞    ⎜2     ⎟         ⎛L     ⎞⎥\n",
       "──────⎟⎟⋅cos⎜──────⎟         ⎜─ - α₁⎟⎥\n",
       "      ⎠⎠    ⎝  R   ⎠         ⎜2     ⎟⎥\n",
       "────────────────────  0  -sin⎜──────⎟⎥\n",
       "                             ⎝  R   ⎠⎥\n",
       "                                     ⎥\n",
       "                      1       0      ⎥\n",
       "                                     ⎥\n",
       "           ⎛L     ⎞                  ⎥\n",
       "           ⎜─ - α₁⎟                  ⎥\n",
       "2⋅α₁)⎞⎞    ⎜2     ⎟         ⎛L     ⎞ ⎥\n",
       "─────⎟⎟⋅sin⎜──────⎟         ⎜─ - α₁⎟ ⎥\n",
       "     ⎠⎠    ⎝  R   ⎠         ⎜2     ⎟ ⎥\n",
       "───────────────────   0  cos⎜──────⎟ ⎥\n",
       "                            ⎝  R   ⎠ ⎦"
      ]
     },
     "execution_count": 11,
     "metadata": {},
     "output_type": "execute_result"
    }
   ],
   "source": [
    "dx1da1=R1.dot(N.i)\n",
    "dx1da2=R2.dot(N.i)\n",
    "dx1da3=R3.dot(N.i)\n",
    "\n",
    "dx2da1=R1.dot(N.j)\n",
    "dx2da2=R2.dot(N.j)\n",
    "dx2da3=R3.dot(N.j)\n",
    "\n",
    "dx3da1=R1.dot(N.k)\n",
    "dx3da2=R2.dot(N.k)\n",
    "dx3da3=R3.dot(N.k)\n",
    "\n",
    "A=Matrix([[dx1da1, dx1da2, dx1da3], [dx2da1, dx2da2, dx2da3], [dx3da1, dx3da2, dx3da3]])\n",
    "simplify(A)"
   ]
  },
  {
   "cell_type": "code",
   "execution_count": 29,
   "metadata": {},
   "outputs": [
    {
     "data": {
      "image/png": "[encoded data removed]",
      "text/latex": [
       "$$\\frac{R \\left(2 \\cos{\\left (\\frac{1}{R} \\left(L - 2 \\alpha_{1}\\right) \\right )} + 2 + \\frac{2 \\alpha_{3}}{R} \\cos{\\left (\\frac{1}{R} \\left(L - 2 \\alpha_{1}\\right) \\right )} + \\frac{2 \\alpha_{3}}{R} - \\frac{g_{a} g_{v}}{R} \\cos{\\left (\\frac{L g_{v}}{2 R} - \\frac{L}{R} + \\frac{\\pi g_{v}}{2} - \\frac{\\alpha_{1} g_{v}}{R} + \\frac{2 \\alpha_{1}}{R} \\right )} + \\frac{g_{a} g_{v}}{R} \\cos{\\left (\\frac{L g_{v}}{2 R} + \\frac{L}{R} + \\frac{\\pi g_{v}}{2} - \\frac{\\alpha_{1} g_{v}}{R} - \\frac{2 \\alpha_{1}}{R} \\right )} + \\frac{2 g_{a}}{R} \\cos{\\left (g_{v} \\left(\\frac{L}{2 R} + \\frac{\\pi}{2} - \\frac{\\alpha_{1}}{R}\\right) \\right )} + \\frac{g_{a}}{R} \\cos{\\left (\\frac{L g_{v}}{2 R} - \\frac{L}{R} + \\frac{\\pi g_{v}}{2} - \\frac{\\alpha_{1} g_{v}}{R} + \\frac{2 \\alpha_{1}}{R} \\right )} + \\frac{g_{a}}{R} \\cos{\\left (\\frac{L g_{v}}{2 R} + \\frac{L}{R} + \\frac{\\pi g_{v}}{2} - \\frac{\\alpha_{1} g_{v}}{R} - \\frac{2 \\alpha_{1}}{R} \\right )}\\right)}{4 \\left(- \\frac{g_{a} g_{v}}{R} \\sin{\\left (\\frac{1}{R} \\left(\\frac{L}{2} - \\alpha_{1}\\right) \\right )} \\sin{\\left (g_{v} \\left(\\frac{\\pi}{2} + \\frac{1}{R} \\left(\\frac{L}{2} - \\alpha_{1}\\right)\\right) \\right )} + \\frac{1}{R} \\left(R + \\alpha_{3} + g_{a} \\cos{\\left (g_{v} \\left(\\frac{\\pi}{2} + \\frac{1}{R} \\left(\\frac{L}{2} - \\alpha_{1}\\right)\\right) \\right )}\\right) \\cos{\\left (\\frac{1}{R} \\left(\\frac{L}{2} - \\alpha_{1}\\right) \\right )}\\right) \\left(R + \\alpha_{3} + g_{a} \\cos{\\left (g_{v} \\left(\\frac{L}{2 R} + \\frac{\\pi}{2} - \\frac{\\alpha_{1}}{R}\\right) \\right )}\\right)}$$"
      ],
      "text/plain": [
       "  ⎛                              ⎛L - 2⋅α₁⎞                   ⎛L⋅gᵥ   L   π⋅gᵥ\n",
       "  ⎜                      2⋅α₃⋅cos⎜────────⎟          gₐ⋅gᵥ⋅cos⎜──── - ─ + ────\n",
       "  ⎜     ⎛L - 2⋅α₁⎞               ⎝   R    ⎠   2⋅α₃            ⎝2⋅R    R    2  \n",
       "R⋅⎜2⋅cos⎜────────⎟ + 2 + ────────────────── + ──── - ─────────────────────────\n",
       "  ⎝     ⎝   R    ⎠               R             R                         R    \n",
       "──────────────────────────────────────────────────────────────────────────────\n",
       "                                                               ⎛           ⎛L \n",
       "                                                               ⎜           ⎜─ \n",
       "                                                               ⎜           ⎜2 \n",
       "                                                               ⎜  gₐ⋅gᵥ⋅sin⎜──\n",
       "                                                               ⎜           ⎝  \n",
       "                                                             4⋅⎜- ────────────\n",
       "                                                               ⎝              \n",
       "\n",
       "   α₁⋅gᵥ   2⋅α₁⎞            ⎛L⋅gᵥ   L   π⋅gᵥ   α₁⋅gᵥ   2⋅α₁⎞           ⎛   ⎛ L\n",
       " - ───── + ────⎟   gₐ⋅gᵥ⋅cos⎜──── + ─ + ──── - ───── - ────⎟   2⋅gₐ⋅cos⎜gᵥ⋅⎜──\n",
       "     R      R  ⎠            ⎝2⋅R    R    2       R      R  ⎠           ⎝   ⎝2⋅\n",
       "──────────────── + ───────────────────────────────────────── + ───────────────\n",
       "                                       R                                    R \n",
       "──────────────────────────────────────────────────────────────────────────────\n",
       "    ⎞    ⎛   ⎛    L     ⎞⎞   ⎛               ⎛   ⎛    L     ⎞⎞⎞    ⎛L     ⎞⎞  \n",
       "- α₁⎟    ⎜   ⎜    ─ - α₁⎟⎟   ⎜               ⎜   ⎜    ─ - α₁⎟⎟⎟    ⎜─ - α₁⎟⎟  \n",
       "    ⎟    ⎜   ⎜π   2     ⎟⎟   ⎜               ⎜   ⎜π   2     ⎟⎟⎟    ⎜2     ⎟⎟  \n",
       "────⎟⋅sin⎜gᵥ⋅⎜─ + ──────⎟⎟   ⎜R + α₃ + gₐ⋅cos⎜gᵥ⋅⎜─ + ──────⎟⎟⎟⋅cos⎜──────⎟⎟  \n",
       "R   ⎠    ⎝   ⎝2     R   ⎠⎠   ⎝               ⎝   ⎝2     R   ⎠⎠⎠    ⎝  R   ⎠⎟ ⎛\n",
       "────────────────────────── + ──────────────────────────────────────────────⎟⋅⎜\n",
       "      R                                            R                       ⎠ ⎝\n",
       "\n",
       "    π   α₁⎞⎞         ⎛L⋅gᵥ   L   π⋅gᵥ   α₁⋅gᵥ   2⋅α₁⎞         ⎛L⋅gᵥ   L   π⋅gᵥ\n",
       "─ + ─ - ──⎟⎟   gₐ⋅cos⎜──── - ─ + ──── - ───── + ────⎟   gₐ⋅cos⎜──── + ─ + ────\n",
       "R   2   R ⎠⎠         ⎝2⋅R    R    2       R      R  ⎠         ⎝2⋅R    R    2  \n",
       "──────────── + ────────────────────────────────────── + ──────────────────────\n",
       "                                 R                                        R   \n",
       "──────────────────────────────────────────────────────────────────────────────\n",
       "                                                                              \n",
       "                                                                              \n",
       "                                                                              \n",
       "                                                                              \n",
       "               ⎛   ⎛ L    π   α₁⎞⎞⎞                                           \n",
       "R + α₃ + gₐ⋅cos⎜gᵥ⋅⎜─── + ─ - ──⎟⎟⎟                                           \n",
       "               ⎝   ⎝2⋅R   2   R ⎠⎠⎠                                           \n",
       "\n",
       "   α₁⋅gᵥ   2⋅α₁⎞⎞\n",
       " - ───── - ────⎟⎟\n",
       "     R      R  ⎠⎟\n",
       "────────────────⎟\n",
       "                ⎠\n",
       "─────────────────\n",
       "                 \n",
       "                 \n",
       "                 \n",
       "                 \n",
       "                 \n",
       "                 \n",
       "                 "
      ]
     },
     "execution_count": 29,
     "metadata": {},
     "output_type": "execute_result"
    }
   ],
   "source": [
    "A_inv = A**-1\n",
    "trigsimp(A_inv[0,0])\n"
   ]
  },
  {
   "cell_type": "code",
   "execution_count": 13,
   "metadata": {},
   "outputs": [
    {
     "data": {
      "image/png": "[encoded data removed]",
      "text/latex": [
       "$$1 + \\frac{\\alpha_{3}}{R} + \\frac{g_{a}}{R} \\cos{\\left (g_{v} \\left(\\frac{L}{2 R} + \\frac{\\pi}{2} - \\frac{\\alpha_{1}}{R}\\right) \\right )}$$"
      ],
      "text/plain": [
       "               ⎛   ⎛ L    π   α₁⎞⎞\n",
       "         gₐ⋅cos⎜gᵥ⋅⎜─── + ─ - ──⎟⎟\n",
       "    α₃         ⎝   ⎝2⋅R   2   R ⎠⎠\n",
       "1 + ── + ─────────────────────────\n",
       "    R                R            "
      ]
     },
     "execution_count": 13,
     "metadata": {},
     "output_type": "execute_result"
    }
   ],
   "source": [
    "trigsimp(A.det())"
   ]
  },
  {
   "cell_type": "markdown",
   "metadata": {},
   "source": [
    "### Metric tensor"
   ]
  },
  {
   "cell_type": "markdown",
   "metadata": {},
   "source": [
    "${\\displaystyle \\hat{G}=\\sum_{i,j} g^{ij}\\vec{R}_i\\vec{R}_j}$"
   ]
  },
  {
   "cell_type": "code",
   "execution_count": 14,
   "metadata": {},
   "outputs": [
    {
     "data": {
      "image/png": "[encoded data removed]",
      "text/latex": [
       "$$\\left[\\begin{matrix}\\left(- \\frac{g_{a} g_{v}}{R} \\sin{\\left (\\frac{1}{R} \\left(\\frac{L}{2} - \\alpha_{1}\\right) \\right )} \\sin{\\left (g_{v} \\left(\\frac{\\pi}{2} + \\frac{1}{R} \\left(\\frac{L}{2} - \\alpha_{1}\\right)\\right) \\right )} + \\frac{1}{R} \\left(R + \\alpha_{3} + g_{a} \\cos{\\left (g_{v} \\left(\\frac{\\pi}{2} + \\frac{1}{R} \\left(\\frac{L}{2} - \\alpha_{1}\\right)\\right) \\right )}\\right) \\cos{\\left (\\frac{1}{R} \\left(\\frac{L}{2} - \\alpha_{1}\\right) \\right )}\\right)^{2} + \\left(\\frac{g_{a} g_{v}}{R} \\sin{\\left (g_{v} \\left(\\frac{\\pi}{2} + \\frac{1}{R} \\left(\\frac{L}{2} - \\alpha_{1}\\right)\\right) \\right )} \\cos{\\left (\\frac{1}{R} \\left(\\frac{L}{2} - \\alpha_{1}\\right) \\right )} + \\frac{1}{R} \\left(R + \\alpha_{3} + g_{a} \\cos{\\left (g_{v} \\left(\\frac{\\pi}{2} + \\frac{1}{R} \\left(\\frac{L}{2} - \\alpha_{1}\\right)\\right) \\right )}\\right) \\sin{\\left (\\frac{1}{R} \\left(\\frac{L}{2} - \\alpha_{1}\\right) \\right )}\\right)^{2} & 0 & \\frac{g_{a} g_{v}}{R} \\sin{\\left (g_{v} \\left(\\frac{L}{2 R} + \\frac{\\pi}{2} - \\frac{\\alpha_{1}}{R}\\right) \\right )}\\\\0 & 1 & 0\\\\\\frac{g_{a} g_{v}}{R} \\sin{\\left (g_{v} \\left(\\frac{L}{2 R} + \\frac{\\pi}{2} - \\frac{\\alpha_{1}}{R}\\right) \\right )} & 0 & 1\\end{matrix}\\right]$$"
      ],
      "text/plain": [
       "⎡                                                                             \n",
       "⎢⎛           ⎛L     ⎞    ⎛   ⎛    L     ⎞⎞   ⎛               ⎛   ⎛    L     ⎞⎞\n",
       "⎢⎜           ⎜─ - α₁⎟    ⎜   ⎜    ─ - α₁⎟⎟   ⎜               ⎜   ⎜    ─ - α₁⎟⎟\n",
       "⎢⎜           ⎜2     ⎟    ⎜   ⎜π   2     ⎟⎟   ⎜               ⎜   ⎜π   2     ⎟⎟\n",
       "⎢⎜  gₐ⋅gᵥ⋅sin⎜──────⎟⋅sin⎜gᵥ⋅⎜─ + ──────⎟⎟   ⎜R + α₃ + gₐ⋅cos⎜gᵥ⋅⎜─ + ──────⎟⎟\n",
       "⎢⎜           ⎝  R   ⎠    ⎝   ⎝2     R   ⎠⎠   ⎝               ⎝   ⎝2     R   ⎠⎠\n",
       "⎢⎜- ────────────────────────────────────── + ─────────────────────────────────\n",
       "⎢⎝                    R                                            R          \n",
       "⎢                                                                             \n",
       "⎢                                                                             \n",
       "⎢                                                                             \n",
       "⎢                                                                             \n",
       "⎢                                                                             \n",
       "⎢                                                                             \n",
       "⎢                                                                             \n",
       "⎣                                                                             \n",
       "\n",
       "              2                                                               \n",
       "⎞    ⎛L     ⎞⎞    ⎛         ⎛   ⎛    L     ⎞⎞    ⎛L     ⎞   ⎛               ⎛ \n",
       "⎟    ⎜─ - α₁⎟⎟    ⎜         ⎜   ⎜    ─ - α₁⎟⎟    ⎜─ - α₁⎟   ⎜               ⎜ \n",
       "⎟    ⎜2     ⎟⎟    ⎜         ⎜   ⎜π   2     ⎟⎟    ⎜2     ⎟   ⎜               ⎜ \n",
       "⎟⋅cos⎜──────⎟⎟    ⎜gₐ⋅gᵥ⋅sin⎜gᵥ⋅⎜─ + ──────⎟⎟⋅cos⎜──────⎟   ⎜R + α₃ + gₐ⋅cos⎜g\n",
       "⎠    ⎝  R   ⎠⎟    ⎜         ⎝   ⎝2     R   ⎠⎠    ⎝  R   ⎠   ⎝               ⎝ \n",
       "─────────────⎟  + ⎜────────────────────────────────────── + ──────────────────\n",
       "             ⎠    ⎝                  R                                        \n",
       "                                                                              \n",
       "               0                                                              \n",
       "                                                                              \n",
       "          ⎛   ⎛ L    π   α₁⎞⎞                                                 \n",
       " gₐ⋅gᵥ⋅sin⎜gᵥ⋅⎜─── + ─ - ──⎟⎟                                                 \n",
       "          ⎝   ⎝2⋅R   2   R ⎠⎠                                                 \n",
       " ────────────────────────────                                                 \n",
       "              R                                                               \n",
       "\n",
       "                             2                                 ⎤\n",
       "  ⎛    L     ⎞⎞⎞    ⎛L     ⎞⎞                                  ⎥\n",
       "  ⎜    ─ - α₁⎟⎟⎟    ⎜─ - α₁⎟⎟                                  ⎥\n",
       "  ⎜π   2     ⎟⎟⎟    ⎜2     ⎟⎟               ⎛   ⎛ L    π   α₁⎞⎞⎥\n",
       "ᵥ⋅⎜─ + ──────⎟⎟⎟⋅sin⎜──────⎟⎟      gₐ⋅gᵥ⋅sin⎜gᵥ⋅⎜─── + ─ - ──⎟⎟⎥\n",
       "  ⎝2     R   ⎠⎠⎠    ⎝  R   ⎠⎟               ⎝   ⎝2⋅R   2   R ⎠⎠⎥\n",
       "────────────────────────────⎟   0  ────────────────────────────⎥\n",
       "    R                       ⎠                   R              ⎥\n",
       "                                                               ⎥\n",
       "                                1               0              ⎥\n",
       "                                                               ⎥\n",
       "                                                               ⎥\n",
       "                                                               ⎥\n",
       "                                                               ⎥\n",
       "                                0               1              ⎥\n",
       "                                                               ⎦"
      ]
     },
     "execution_count": 14,
     "metadata": {},
     "output_type": "execute_result"
    }
   ],
   "source": [
    "g11=R1.dot(R1)\n",
    "g12=R1.dot(R2)\n",
    "g13=R1.dot(R3)\n",
    "\n",
    "g21=R2.dot(R1)\n",
    "g22=R2.dot(R2)\n",
    "g23=R2.dot(R3)\n",
    "\n",
    "g31=R3.dot(R1)\n",
    "g32=R3.dot(R2)\n",
    "g33=R3.dot(R3)\n",
    "\n",
    "G=Matrix([[g11, g12, g13],[g21, g22, g23], [g31, g32, g33]])\n",
    "G=trigsimp(G)\n",
    "G"
   ]
  },
  {
   "cell_type": "markdown",
   "metadata": {},
   "source": [
    "${\\displaystyle \\hat{G}=\\sum_{i,j} g_{ij}\\vec{R}^i\\vec{R}^j}$"
   ]
  },
  {
   "cell_type": "code",
   "execution_count": 15,
   "metadata": {},
   "outputs": [
    {
     "data": {
      "image/png": "[encoded data removed]",
      "text/latex": [
       "$$\\left[\\begin{matrix}\\frac{R^{2}}{\\left(R + \\alpha_{3} + g_{a} \\cos{\\left (g_{v} \\left(\\frac{L}{2 R} + \\frac{\\pi}{2} - \\frac{\\alpha_{1}}{R}\\right) \\right )}\\right)^{2}} & 0 & - \\frac{R g_{a} g_{v} \\sin{\\left (g_{v} \\left(\\frac{L}{2 R} + \\frac{\\pi}{2} - \\frac{\\alpha_{1}}{R}\\right) \\right )}}{\\left(R + \\alpha_{3} + g_{a} \\cos{\\left (g_{v} \\left(\\frac{L}{2 R} + \\frac{\\pi}{2} - \\frac{\\alpha_{1}}{R}\\right) \\right )}\\right)^{2}}\\\\0 & 1 & 0\\\\- \\frac{R g_{a} g_{v} \\sin{\\left (g_{v} \\left(\\frac{L}{2 R} + \\frac{\\pi}{2} - \\frac{\\alpha_{1}}{R}\\right) \\right )}}{\\left(R + \\alpha_{3} + g_{a} \\cos{\\left (g_{v} \\left(\\frac{L}{2 R} + \\frac{\\pi}{2} - \\frac{\\alpha_{1}}{R}\\right) \\right )}\\right)^{2}} & 0 & \\frac{1}{\\left(R + \\alpha_{3} + g_{a} \\cos{\\left (\\frac{g_{v}}{2 R} \\left(L + \\pi R - 2 \\alpha_{1}\\right) \\right )}\\right)^{2}} \\left(- g_{a} g_{v} \\sin{\\left (\\frac{1}{R} \\left(\\frac{L}{2} - \\alpha_{1}\\right) \\right )} \\sin{\\left (\\frac{g_{v}}{2 R} \\left(L + \\pi R - 2 \\alpha_{1}\\right) \\right )} + \\left(R + \\alpha_{3} + g_{a} \\cos{\\left (\\frac{g_{v}}{2 R} \\left(L + \\pi R - 2 \\alpha_{1}\\right) \\right )}\\right) \\cos{\\left (\\frac{1}{R} \\left(\\frac{L}{2} - \\alpha_{1}\\right) \\right )}\\right)^{2} + \\frac{1}{\\left(R + \\alpha_{3} + g_{a} \\cos{\\left (\\frac{g_{v}}{2 R} \\left(L + \\pi R - 2 \\alpha_{1}\\right) \\right )}\\right)^{2}} \\left(g_{a} g_{v} \\sin{\\left (\\frac{g_{v}}{2 R} \\left(L + \\pi R - 2 \\alpha_{1}\\right) \\right )} \\cos{\\left (\\frac{1}{R} \\left(\\frac{L}{2} - \\alpha_{1}\\right) \\right )} + \\left(R + \\alpha_{3} + g_{a} \\cos{\\left (\\frac{g_{v}}{2 R} \\left(L + \\pi R - 2 \\alpha_{1}\\right) \\right )}\\right) \\sin{\\left (\\frac{1}{R} \\left(\\frac{L}{2} - \\alpha_{1}\\right) \\right )}\\right)^{2}\\end{matrix}\\right]$$"
      ],
      "text/plain": [
       "⎡                                                                             \n",
       "⎢                   2                                                         \n",
       "⎢                  R                                                          \n",
       "⎢─────────────────────────────────────  0                                     \n",
       "⎢                                    2                                        \n",
       "⎢⎛               ⎛   ⎛ L    π   α₁⎞⎞⎞                                         \n",
       "⎢⎜R + α₃ + gₐ⋅cos⎜gᵥ⋅⎜─── + ─ - ──⎟⎟⎟                                         \n",
       "⎢⎝               ⎝   ⎝2⋅R   2   R ⎠⎠⎠                                         \n",
       "⎢                                                                             \n",
       "⎢                  0                    1                                     \n",
       "⎢                                                                             \n",
       "⎢                                                                             \n",
       "⎢                                          ⎛           ⎛L     ⎞               \n",
       "⎢                                          ⎜           ⎜─ - α₁⎟               \n",
       "⎢               ⎛   ⎛ L    π   α₁⎞⎞        ⎜           ⎜2     ⎟    ⎛gᵥ⋅(L + π⋅\n",
       "⎢   -R⋅gₐ⋅gᵥ⋅sin⎜gᵥ⋅⎜─── + ─ - ──⎟⎟        ⎜- gₐ⋅gᵥ⋅sin⎜──────⎟⋅sin⎜──────────\n",
       "⎢               ⎝   ⎝2⋅R   2   R ⎠⎠        ⎝           ⎝  R   ⎠    ⎝        2⋅\n",
       "⎢─────────────────────────────────────  0  ───────────────────────────────────\n",
       "⎢                                    2                                        \n",
       "⎢⎛               ⎛   ⎛ L    π   α₁⎞⎞⎞                                    ⎛    \n",
       "⎢⎜R + α₃ + gₐ⋅cos⎜gᵥ⋅⎜─── + ─ - ──⎟⎟⎟                                    ⎜R + \n",
       "⎣⎝               ⎝   ⎝2⋅R   2   R ⎠⎠⎠                                    ⎝    \n",
       "\n",
       "                                                              ⎛   ⎛ L    π   α\n",
       "                                                  -R⋅gₐ⋅gᵥ⋅sin⎜gᵥ⋅⎜─── + ─ - ─\n",
       "                                                              ⎝   ⎝2⋅R   2   R\n",
       "                                               ───────────────────────────────\n",
       "                                                                              \n",
       "                                               ⎛               ⎛   ⎛ L    π   \n",
       "                                               ⎜R + α₃ + gₐ⋅cos⎜gᵥ⋅⎜─── + ─ - \n",
       "                                               ⎝               ⎝   ⎝2⋅R   2   \n",
       "                                                                              \n",
       "                                                                 0            \n",
       "                                                                              \n",
       "                                                                2             \n",
       "                                                       ⎛L     ⎞⎞    ⎛         \n",
       "                                                       ⎜─ - α₁⎟⎟    ⎜         \n",
       "R - 2⋅α₁)⎞   ⎛               ⎛gᵥ⋅(L + π⋅R - 2⋅α₁)⎞⎞    ⎜2     ⎟⎟    ⎜         \n",
       "─────────⎟ + ⎜R + α₃ + gₐ⋅cos⎜───────────────────⎟⎟⋅cos⎜──────⎟⎟    ⎜gₐ⋅gᵥ⋅sin\n",
       "R        ⎠   ⎝               ⎝        2⋅R        ⎠⎠    ⎝  R   ⎠⎠    ⎝         \n",
       "───────────────────────────────────────────────────────────────── + ──────────\n",
       "                                 2                                            \n",
       "           ⎛gᵥ⋅(L + π⋅R - 2⋅α₁)⎞⎞                                             \n",
       "α₃ + gₐ⋅cos⎜───────────────────⎟⎟                                             \n",
       "           ⎝        2⋅R        ⎠⎠                                             \n",
       "\n",
       "₁⎞⎞                                                                           \n",
       "─⎟⎟                                                                           \n",
       " ⎠⎠                                                                           \n",
       "──────                                                                        \n",
       "     2                                                                        \n",
       "α₁⎞⎞⎞                                                                         \n",
       "──⎟⎟⎟                                                                         \n",
       "R ⎠⎠⎠                                                                         \n",
       "                                                                              \n",
       "                                                                              \n",
       "                                                                              \n",
       "                                                                              \n",
       "                         ⎛L     ⎞                                             \n",
       "                         ⎜─ - α₁⎟                                             \n",
       "⎛gᵥ⋅(L + π⋅R - 2⋅α₁)⎞    ⎜2     ⎟   ⎛               ⎛gᵥ⋅(L + π⋅R - 2⋅α₁)⎞⎞    \n",
       "⎜───────────────────⎟⋅cos⎜──────⎟ + ⎜R + α₃ + gₐ⋅cos⎜───────────────────⎟⎟⋅sin\n",
       "⎝        2⋅R        ⎠    ⎝  R   ⎠   ⎝               ⎝        2⋅R        ⎠⎠    \n",
       "──────────────────────────────────────────────────────────────────────────────\n",
       "                                                         2                    \n",
       "                   ⎛               ⎛gᵥ⋅(L + π⋅R - 2⋅α₁)⎞⎞                     \n",
       "                   ⎜R + α₃ + gₐ⋅cos⎜───────────────────⎟⎟                     \n",
       "                   ⎝               ⎝        2⋅R        ⎠⎠                     \n",
       "\n",
       "          ⎤\n",
       "          ⎥\n",
       "          ⎥\n",
       "          ⎥\n",
       "          ⎥\n",
       "          ⎥\n",
       "          ⎥\n",
       "          ⎥\n",
       "          ⎥\n",
       "          ⎥\n",
       "          ⎥\n",
       "         2⎥\n",
       "⎛L     ⎞⎞ ⎥\n",
       "⎜─ - α₁⎟⎟ ⎥\n",
       "⎜2     ⎟⎟ ⎥\n",
       "⎜──────⎟⎟ ⎥\n",
       "⎝  R   ⎠⎠ ⎥\n",
       "──────────⎥\n",
       "          ⎥\n",
       "          ⎥\n",
       "          ⎥\n",
       "          ⎦"
      ]
     },
     "execution_count": 15,
     "metadata": {},
     "output_type": "execute_result"
    }
   ],
   "source": [
    "g_11=R_1.dot(R_1)\n",
    "g_12=R_1.dot(R_2)\n",
    "g_13=R_1.dot(R_3)\n",
    "\n",
    "g_21=R_2.dot(R_1)\n",
    "g_22=R_2.dot(R_2)\n",
    "g_23=R_2.dot(R_3)\n",
    "\n",
    "g_31=R_3.dot(R_1)\n",
    "g_32=R_3.dot(R_2)\n",
    "g_33=R_3.dot(R_3)\n",
    "\n",
    "G_con=Matrix([[g_11, g_12, g_13],[g_21, g_22, g_23], [g_31, g_32, g_33]])\n",
    "G_con=trigsimp(G_con)\n",
    "G_con"
   ]
  },
  {
   "cell_type": "code",
   "execution_count": 16,
   "metadata": {},
   "outputs": [
    {
     "data": {
      "image/png": "[encoded data removed]",
      "text/latex": [
       "$$\\left[\\begin{matrix}\\frac{1}{\\left(- \\frac{g_{a} g_{v}}{R} \\sin{\\left (\\frac{1}{R} \\left(\\frac{L}{2} - \\alpha_{1}\\right) \\right )} \\sin{\\left (g_{v} \\left(\\frac{\\pi}{2} + \\frac{1}{R} \\left(\\frac{L}{2} - \\alpha_{1}\\right)\\right) \\right )} + \\frac{1}{R} \\left(R + \\alpha_{3} + g_{a} \\cos{\\left (g_{v} \\left(\\frac{\\pi}{2} + \\frac{1}{R} \\left(\\frac{L}{2} - \\alpha_{1}\\right)\\right) \\right )}\\right) \\cos{\\left (\\frac{1}{R} \\left(\\frac{L}{2} - \\alpha_{1}\\right) \\right )}\\right)^{2} + \\left(\\frac{g_{a} g_{v}}{R} \\sin{\\left (g_{v} \\left(\\frac{\\pi}{2} + \\frac{1}{R} \\left(\\frac{L}{2} - \\alpha_{1}\\right)\\right) \\right )} \\cos{\\left (\\frac{1}{R} \\left(\\frac{L}{2} - \\alpha_{1}\\right) \\right )} + \\frac{1}{R} \\left(R + \\alpha_{3} + g_{a} \\cos{\\left (g_{v} \\left(\\frac{\\pi}{2} + \\frac{1}{R} \\left(\\frac{L}{2} - \\alpha_{1}\\right)\\right) \\right )}\\right) \\sin{\\left (\\frac{1}{R} \\left(\\frac{L}{2} - \\alpha_{1}\\right) \\right )}\\right)^{2} - \\frac{g_{a}^{2} g_{v}^{2}}{R^{2}} \\sin^{2}{\\left (g_{v} \\left(\\frac{L}{2 R} + \\frac{\\pi}{2} - \\frac{\\alpha_{1}}{R}\\right) \\right )}} & 0 & - \\frac{g_{a} g_{v} \\sin{\\left (g_{v} \\left(\\frac{L}{2 R} + \\frac{\\pi}{2} - \\frac{\\alpha_{1}}{R}\\right) \\right )}}{R \\left(\\left(- \\frac{g_{a} g_{v}}{R} \\sin{\\left (\\frac{1}{R} \\left(\\frac{L}{2} - \\alpha_{1}\\right) \\right )} \\sin{\\left (g_{v} \\left(\\frac{\\pi}{2} + \\frac{1}{R} \\left(\\frac{L}{2} - \\alpha_{1}\\right)\\right) \\right )} + \\frac{1}{R} \\left(R + \\alpha_{3} + g_{a} \\cos{\\left (g_{v} \\left(\\frac{\\pi}{2} + \\frac{1}{R} \\left(\\frac{L}{2} - \\alpha_{1}\\right)\\right) \\right )}\\right) \\cos{\\left (\\frac{1}{R} \\left(\\frac{L}{2} - \\alpha_{1}\\right) \\right )}\\right)^{2} + \\left(\\frac{g_{a} g_{v}}{R} \\sin{\\left (g_{v} \\left(\\frac{\\pi}{2} + \\frac{1}{R} \\left(\\frac{L}{2} - \\alpha_{1}\\right)\\right) \\right )} \\cos{\\left (\\frac{1}{R} \\left(\\frac{L}{2} - \\alpha_{1}\\right) \\right )} + \\frac{1}{R} \\left(R + \\alpha_{3} + g_{a} \\cos{\\left (g_{v} \\left(\\frac{\\pi}{2} + \\frac{1}{R} \\left(\\frac{L}{2} - \\alpha_{1}\\right)\\right) \\right )}\\right) \\sin{\\left (\\frac{1}{R} \\left(\\frac{L}{2} - \\alpha_{1}\\right) \\right )}\\right)^{2} - \\frac{g_{a}^{2} g_{v}^{2}}{R^{2}} \\sin^{2}{\\left (g_{v} \\left(\\frac{L}{2 R} + \\frac{\\pi}{2} - \\frac{\\alpha_{1}}{R}\\right) \\right )}\\right)}\\\\0 & 1 & 0\\\\- \\frac{g_{a} g_{v} \\sin{\\left (g_{v} \\left(\\frac{L}{2 R} + \\frac{\\pi}{2} - \\frac{\\alpha_{1}}{R}\\right) \\right )}}{R \\left(\\left(- \\frac{g_{a} g_{v}}{R} \\sin{\\left (\\frac{1}{R} \\left(\\frac{L}{2} - \\alpha_{1}\\right) \\right )} \\sin{\\left (g_{v} \\left(\\frac{\\pi}{2} + \\frac{1}{R} \\left(\\frac{L}{2} - \\alpha_{1}\\right)\\right) \\right )} + \\frac{1}{R} \\left(R + \\alpha_{3} + g_{a} \\cos{\\left (g_{v} \\left(\\frac{\\pi}{2} + \\frac{1}{R} \\left(\\frac{L}{2} - \\alpha_{1}\\right)\\right) \\right )}\\right) \\cos{\\left (\\frac{1}{R} \\left(\\frac{L}{2} - \\alpha_{1}\\right) \\right )}\\right)^{2} + \\left(\\frac{g_{a} g_{v}}{R} \\sin{\\left (g_{v} \\left(\\frac{\\pi}{2} + \\frac{1}{R} \\left(\\frac{L}{2} - \\alpha_{1}\\right)\\right) \\right )} \\cos{\\left (\\frac{1}{R} \\left(\\frac{L}{2} - \\alpha_{1}\\right) \\right )} + \\frac{1}{R} \\left(R + \\alpha_{3} + g_{a} \\cos{\\left (g_{v} \\left(\\frac{\\pi}{2} + \\frac{1}{R} \\left(\\frac{L}{2} - \\alpha_{1}\\right)\\right) \\right )}\\right) \\sin{\\left (\\frac{1}{R} \\left(\\frac{L}{2} - \\alpha_{1}\\right) \\right )}\\right)^{2} - \\frac{g_{a}^{2} g_{v}^{2}}{R^{2}} \\sin^{2}{\\left (g_{v} \\left(\\frac{L}{2 R} + \\frac{\\pi}{2} - \\frac{\\alpha_{1}}{R}\\right) \\right )}\\right)} & 0 & \\frac{\\left(- \\frac{g_{a} g_{v}}{R} \\sin{\\left (\\frac{1}{R} \\left(\\frac{L}{2} - \\alpha_{1}\\right) \\right )} \\sin{\\left (g_{v} \\left(\\frac{\\pi}{2} + \\frac{1}{R} \\left(\\frac{L}{2} - \\alpha_{1}\\right)\\right) \\right )} + \\frac{1}{R} \\left(R + \\alpha_{3} + g_{a} \\cos{\\left (g_{v} \\left(\\frac{\\pi}{2} + \\frac{1}{R} \\left(\\frac{L}{2} - \\alpha_{1}\\right)\\right) \\right )}\\right) \\cos{\\left (\\frac{1}{R} \\left(\\frac{L}{2} - \\alpha_{1}\\right) \\right )}\\right)^{2} + \\left(\\frac{g_{a} g_{v}}{R} \\sin{\\left (g_{v} \\left(\\frac{\\pi}{2} + \\frac{1}{R} \\left(\\frac{L}{2} - \\alpha_{1}\\right)\\right) \\right )} \\cos{\\left (\\frac{1}{R} \\left(\\frac{L}{2} - \\alpha_{1}\\right) \\right )} + \\frac{1}{R} \\left(R + \\alpha_{3} + g_{a} \\cos{\\left (g_{v} \\left(\\frac{\\pi}{2} + \\frac{1}{R} \\left(\\frac{L}{2} - \\alpha_{1}\\right)\\right) \\right )}\\right) \\sin{\\left (\\frac{1}{R} \\left(\\frac{L}{2} - \\alpha_{1}\\right) \\right )}\\right)^{2}}{\\left(- \\frac{g_{a} g_{v}}{R} \\sin{\\left (\\frac{1}{R} \\left(\\frac{L}{2} - \\alpha_{1}\\right) \\right )} \\sin{\\left (g_{v} \\left(\\frac{\\pi}{2} + \\frac{1}{R} \\left(\\frac{L}{2} - \\alpha_{1}\\right)\\right) \\right )} + \\frac{1}{R} \\left(R + \\alpha_{3} + g_{a} \\cos{\\left (g_{v} \\left(\\frac{\\pi}{2} + \\frac{1}{R} \\left(\\frac{L}{2} - \\alpha_{1}\\right)\\right) \\right )}\\right) \\cos{\\left (\\frac{1}{R} \\left(\\frac{L}{2} - \\alpha_{1}\\right) \\right )}\\right)^{2} + \\left(\\frac{g_{a} g_{v}}{R} \\sin{\\left (g_{v} \\left(\\frac{\\pi}{2} + \\frac{1}{R} \\left(\\frac{L}{2} - \\alpha_{1}\\right)\\right) \\right )} \\cos{\\left (\\frac{1}{R} \\left(\\frac{L}{2} - \\alpha_{1}\\right) \\right )} + \\frac{1}{R} \\left(R + \\alpha_{3} + g_{a} \\cos{\\left (g_{v} \\left(\\frac{\\pi}{2} + \\frac{1}{R} \\left(\\frac{L}{2} - \\alpha_{1}\\right)\\right) \\right )}\\right) \\sin{\\left (\\frac{1}{R} \\left(\\frac{L}{2} - \\alpha_{1}\\right) \\right )}\\right)^{2} - \\frac{g_{a}^{2} g_{v}^{2}}{R^{2}} \\sin^{2}{\\left (g_{v} \\left(\\frac{L}{2 R} + \\frac{\\pi}{2} - \\frac{\\alpha_{1}}{R}\\right) \\right )}}\\end{matrix}\\right]$$"
      ],
      "text/plain": [
       "⎡                                                                             \n",
       "⎢                                                                             \n",
       "⎢                                                                             \n",
       "⎢  ───────────────────────────────────────────────────────────────────────────\n",
       "⎢                                                                             \n",
       "⎢  ⎛           ⎛L     ⎞    ⎛   ⎛    L     ⎞⎞   ⎛               ⎛   ⎛    L     \n",
       "⎢  ⎜           ⎜─ - α₁⎟    ⎜   ⎜    ─ - α₁⎟⎟   ⎜               ⎜   ⎜    ─ - α₁\n",
       "⎢  ⎜           ⎜2     ⎟    ⎜   ⎜π   2     ⎟⎟   ⎜               ⎜   ⎜π   2     \n",
       "⎢  ⎜  gₐ⋅gᵥ⋅sin⎜──────⎟⋅sin⎜gᵥ⋅⎜─ + ──────⎟⎟   ⎜R + α₃ + gₐ⋅cos⎜gᵥ⋅⎜─ + ──────\n",
       "⎢  ⎜           ⎝  R   ⎠    ⎝   ⎝2     R   ⎠⎠   ⎝               ⎝   ⎝2     R   \n",
       "⎢  ⎜- ────────────────────────────────────── + ───────────────────────────────\n",
       "⎢  ⎝                    R                                            R        \n",
       "⎢                                                                             \n",
       "⎢                                                                             \n",
       "⎢                                                                             \n",
       "⎢                                                                             \n",
       "⎢                                                                             \n",
       "⎢                                                                             \n",
       "⎢                                                                             \n",
       "⎢                                                                             \n",
       "⎢                                                                             \n",
       "⎢                                                                             \n",
       "⎢                                                                             \n",
       "⎢                                                                             \n",
       "⎢─────────────────────────────────────────────────────────────────────────────\n",
       "⎢  ⎛                                                                          \n",
       "⎢  ⎜⎛           ⎛L     ⎞    ⎛   ⎛    L     ⎞⎞   ⎛               ⎛   ⎛    L    \n",
       "⎢  ⎜⎜           ⎜─ - α₁⎟    ⎜   ⎜    ─ - α₁⎟⎟   ⎜               ⎜   ⎜    ─ - α\n",
       "⎢  ⎜⎜           ⎜2     ⎟    ⎜   ⎜π   2     ⎟⎟   ⎜               ⎜   ⎜π   2    \n",
       "⎢  ⎜⎜  gₐ⋅gᵥ⋅sin⎜──────⎟⋅sin⎜gᵥ⋅⎜─ + ──────⎟⎟   ⎜R + α₃ + gₐ⋅cos⎜gᵥ⋅⎜─ + ─────\n",
       "⎢  ⎜⎜           ⎝  R   ⎠    ⎝   ⎝2     R   ⎠⎠   ⎝               ⎝   ⎝2     R  \n",
       "⎢R⋅⎜⎜- ────────────────────────────────────── + ──────────────────────────────\n",
       "⎢  ⎜⎝                    R                                            R       \n",
       "⎣  ⎝                                                                          \n",
       "\n",
       "                                                                              \n",
       "                                                                              \n",
       "                                  1                                           \n",
       "──────────────────────────────────────────────────────────────────────────────\n",
       "                2                                                             \n",
       "⎞⎞⎞    ⎛L     ⎞⎞    ⎛         ⎛   ⎛    L     ⎞⎞    ⎛L     ⎞   ⎛               \n",
       "⎟⎟⎟    ⎜─ - α₁⎟⎟    ⎜         ⎜   ⎜    ─ - α₁⎟⎟    ⎜─ - α₁⎟   ⎜               \n",
       "⎟⎟⎟    ⎜2     ⎟⎟    ⎜         ⎜   ⎜π   2     ⎟⎟    ⎜2     ⎟   ⎜               \n",
       "⎟⎟⎟⋅cos⎜──────⎟⎟    ⎜gₐ⋅gᵥ⋅sin⎜gᵥ⋅⎜─ + ──────⎟⎟⋅cos⎜──────⎟   ⎜R + α₃ + gₐ⋅cos\n",
       "⎠⎠⎠    ⎝  R   ⎠⎟    ⎜         ⎝   ⎝2     R   ⎠⎠    ⎝  R   ⎠   ⎝               \n",
       "───────────────⎟  + ⎜────────────────────────────────────── + ────────────────\n",
       "               ⎠    ⎝                  R                                      \n",
       "                                                                              \n",
       "                                                                              \n",
       "                                  0                                           \n",
       "                                                                              \n",
       "                                                                              \n",
       "                                                                              \n",
       "                                                                              \n",
       "                                                                              \n",
       "                                                                              \n",
       "                              ⎛   ⎛ L    π   α₁⎞⎞                             \n",
       "                    -gₐ⋅gᵥ⋅sin⎜gᵥ⋅⎜─── + ─ - ──⎟⎟                             \n",
       "                              ⎝   ⎝2⋅R   2   R ⎠⎠                             \n",
       "──────────────────────────────────────────────────────────────────────────────\n",
       "                 2                                                            \n",
       " ⎞⎞⎞    ⎛L     ⎞⎞    ⎛         ⎛   ⎛    L     ⎞⎞    ⎛L     ⎞   ⎛              \n",
       "₁⎟⎟⎟    ⎜─ - α₁⎟⎟    ⎜         ⎜   ⎜    ─ - α₁⎟⎟    ⎜─ - α₁⎟   ⎜              \n",
       " ⎟⎟⎟    ⎜2     ⎟⎟    ⎜         ⎜   ⎜π   2     ⎟⎟    ⎜2     ⎟   ⎜              \n",
       "─⎟⎟⎟⋅cos⎜──────⎟⎟    ⎜gₐ⋅gᵥ⋅sin⎜gᵥ⋅⎜─ + ──────⎟⎟⋅cos⎜──────⎟   ⎜R + α₃ + gₐ⋅co\n",
       " ⎠⎠⎠    ⎝  R   ⎠⎟    ⎜         ⎝   ⎝2     R   ⎠⎠    ⎝  R   ⎠   ⎝              \n",
       "────────────────⎟  + ⎜────────────────────────────────────── + ───────────────\n",
       "                ⎠    ⎝                  R                                     \n",
       "                                                                              \n",
       "\n",
       "                                                                              \n",
       "                                                                              \n",
       "                                                                              \n",
       "──────────────────────────────────────────────────────────────────    0  ─────\n",
       "                               2                                           ⎛  \n",
       "⎛   ⎛    L     ⎞⎞⎞    ⎛L     ⎞⎞                                            ⎜⎛ \n",
       "⎜   ⎜    ─ - α₁⎟⎟⎟    ⎜─ - α₁⎟⎟                                            ⎜⎜ \n",
       "⎜   ⎜π   2     ⎟⎟⎟    ⎜2     ⎟⎟      2   2    2⎛   ⎛ L    π   α₁⎞⎞         ⎜⎜ \n",
       "⎜gᵥ⋅⎜─ + ──────⎟⎟⎟⋅sin⎜──────⎟⎟    gₐ ⋅gᵥ ⋅sin ⎜gᵥ⋅⎜─── + ─ - ──⎟⎟         ⎜⎜ \n",
       "⎝   ⎝2     R   ⎠⎠⎠    ⎝  R   ⎠⎟                ⎝   ⎝2⋅R   2   R ⎠⎠         ⎜⎜ \n",
       "──────────────────────────────⎟  - ───────────────────────────────       R⋅⎜⎜-\n",
       "      R                       ⎠                    2                       ⎜⎝ \n",
       "                                                  R                        ⎝  \n",
       "                                                                              \n",
       "                                                                      1       \n",
       "                                                                              \n",
       "                                                                              \n",
       "                                                                              \n",
       "                                                                              \n",
       "                                                                              \n",
       "                                                                              \n",
       "                                                                              \n",
       "                                                                              \n",
       "                                                                              \n",
       "────────────────────────────────────────────────────────────────────  0    ───\n",
       "                                2                                  ⎞          \n",
       " ⎛   ⎛    L     ⎞⎞⎞    ⎛L     ⎞⎞                                   ⎟       ⎛  \n",
       " ⎜   ⎜    ─ - α₁⎟⎟⎟    ⎜─ - α₁⎟⎟                                   ⎟       ⎜  \n",
       " ⎜   ⎜π   2     ⎟⎟⎟    ⎜2     ⎟⎟      2   2    2⎛   ⎛ L    π   α₁⎞⎞⎟       ⎜  \n",
       "s⎜gᵥ⋅⎜─ + ──────⎟⎟⎟⋅sin⎜──────⎟⎟    gₐ ⋅gᵥ ⋅sin ⎜gᵥ⋅⎜─── + ─ - ──⎟⎟⎟       ⎜  \n",
       " ⎝   ⎝2     R   ⎠⎠⎠    ⎝  R   ⎠⎟                ⎝   ⎝2⋅R   2   R ⎠⎠⎟       ⎜  \n",
       "───────────────────────────────⎟  - ───────────────────────────────⎟       ⎜- \n",
       "       R                       ⎠                    2              ⎟       ⎝  \n",
       "                                                   R               ⎠          \n",
       "\n",
       "                                                                              \n",
       "                                                                              \n",
       "                                                                              \n",
       "──────────────────────────────────────────────────────────────────────────────\n",
       "                                                                              \n",
       "          ⎛L     ⎞    ⎛   ⎛    L     ⎞⎞   ⎛               ⎛   ⎛    L     ⎞⎞⎞  \n",
       "          ⎜─ - α₁⎟    ⎜   ⎜    ─ - α₁⎟⎟   ⎜               ⎜   ⎜    ─ - α₁⎟⎟⎟  \n",
       "          ⎜2     ⎟    ⎜   ⎜π   2     ⎟⎟   ⎜               ⎜   ⎜π   2     ⎟⎟⎟  \n",
       " gₐ⋅gᵥ⋅sin⎜──────⎟⋅sin⎜gᵥ⋅⎜─ + ──────⎟⎟   ⎜R + α₃ + gₐ⋅cos⎜gᵥ⋅⎜─ + ──────⎟⎟⎟⋅c\n",
       "          ⎝  R   ⎠    ⎝   ⎝2     R   ⎠⎠   ⎝               ⎝   ⎝2     R   ⎠⎠⎠  \n",
       " ────────────────────────────────────── + ────────────────────────────────────\n",
       "                   R                                            R             \n",
       "                                                                              \n",
       "                                                                              \n",
       "                                                                              \n",
       "                                                                              \n",
       "                                                                              \n",
       "              ⎛           ⎛L     ⎞    ⎛   ⎛    L     ⎞⎞   ⎛               ⎛   \n",
       "              ⎜           ⎜─ - α₁⎟    ⎜   ⎜    ─ - α₁⎟⎟   ⎜               ⎜   \n",
       "              ⎜           ⎜2     ⎟    ⎜   ⎜π   2     ⎟⎟   ⎜               ⎜   \n",
       "              ⎜  gₐ⋅gᵥ⋅sin⎜──────⎟⋅sin⎜gᵥ⋅⎜─ + ──────⎟⎟   ⎜R + α₃ + gₐ⋅cos⎜gᵥ⋅\n",
       "              ⎜           ⎝  R   ⎠    ⎝   ⎝2     R   ⎠⎠   ⎝               ⎝   \n",
       "              ⎜- ────────────────────────────────────── + ────────────────────\n",
       "              ⎝                    R                                          \n",
       "──────────────────────────────────────────────────────────────────────────────\n",
       "                                                                              \n",
       "         ⎛L     ⎞    ⎛   ⎛    L     ⎞⎞   ⎛               ⎛   ⎛    L     ⎞⎞⎞   \n",
       "         ⎜─ - α₁⎟    ⎜   ⎜    ─ - α₁⎟⎟   ⎜               ⎜   ⎜    ─ - α₁⎟⎟⎟   \n",
       "         ⎜2     ⎟    ⎜   ⎜π   2     ⎟⎟   ⎜               ⎜   ⎜π   2     ⎟⎟⎟   \n",
       "gₐ⋅gᵥ⋅sin⎜──────⎟⋅sin⎜gᵥ⋅⎜─ + ──────⎟⎟   ⎜R + α₃ + gₐ⋅cos⎜gᵥ⋅⎜─ + ──────⎟⎟⎟⋅co\n",
       "         ⎝  R   ⎠    ⎝   ⎝2     R   ⎠⎠   ⎝               ⎝   ⎝2     R   ⎠⎠⎠   \n",
       "────────────────────────────────────── + ─────────────────────────────────────\n",
       "                  R                                            R              \n",
       "                                                                              \n",
       "\n",
       "                        ⎛   ⎛ L    π   α₁⎞⎞                                   \n",
       "              -gₐ⋅gᵥ⋅sin⎜gᵥ⋅⎜─── + ─ - ──⎟⎟                                   \n",
       "                        ⎝   ⎝2⋅R   2   R ⎠⎠                                   \n",
       "──────────────────────────────────────────────────────────────────────────────\n",
       "           2                                                                  \n",
       "  ⎛L     ⎞⎞    ⎛         ⎛   ⎛    L     ⎞⎞    ⎛L     ⎞   ⎛               ⎛   ⎛\n",
       "  ⎜─ - α₁⎟⎟    ⎜         ⎜   ⎜    ─ - α₁⎟⎟    ⎜─ - α₁⎟   ⎜               ⎜   ⎜\n",
       "  ⎜2     ⎟⎟    ⎜         ⎜   ⎜π   2     ⎟⎟    ⎜2     ⎟   ⎜               ⎜   ⎜\n",
       "os⎜──────⎟⎟    ⎜gₐ⋅gᵥ⋅sin⎜gᵥ⋅⎜─ + ──────⎟⎟⋅cos⎜──────⎟   ⎜R + α₃ + gₐ⋅cos⎜gᵥ⋅⎜\n",
       "  ⎝  R   ⎠⎟    ⎜         ⎝   ⎝2     R   ⎠⎠    ⎝  R   ⎠   ⎝               ⎝   ⎝\n",
       "──────────⎟  + ⎜────────────────────────────────────── + ─────────────────────\n",
       "          ⎠    ⎝                  R                                           \n",
       "                                                                              \n",
       "                                                                              \n",
       "                            0                                                 \n",
       "                                                                              \n",
       "                           2                                                  \n",
       "⎛    L     ⎞⎞⎞    ⎛L     ⎞⎞    ⎛         ⎛   ⎛    L     ⎞⎞    ⎛L     ⎞   ⎛    \n",
       "⎜    ─ - α₁⎟⎟⎟    ⎜─ - α₁⎟⎟    ⎜         ⎜   ⎜    ─ - α₁⎟⎟    ⎜─ - α₁⎟   ⎜    \n",
       "⎜π   2     ⎟⎟⎟    ⎜2     ⎟⎟    ⎜         ⎜   ⎜π   2     ⎟⎟    ⎜2     ⎟   ⎜    \n",
       "⎜─ + ──────⎟⎟⎟⋅cos⎜──────⎟⎟    ⎜gₐ⋅gᵥ⋅sin⎜gᵥ⋅⎜─ + ──────⎟⎟⋅cos⎜──────⎟   ⎜R + \n",
       "⎝2     R   ⎠⎠⎠    ⎝  R   ⎠⎟    ⎜         ⎝   ⎝2     R   ⎠⎠    ⎝  R   ⎠   ⎝    \n",
       "──────────────────────────⎟  + ⎜────────────────────────────────────── + ─────\n",
       "  R                       ⎠    ⎝                  R                           \n",
       "──────────────────────────────────────────────────────────────────────────────\n",
       "          2                                                                   \n",
       " ⎛L     ⎞⎞    ⎛         ⎛   ⎛    L     ⎞⎞    ⎛L     ⎞   ⎛               ⎛   ⎛ \n",
       " ⎜─ - α₁⎟⎟    ⎜         ⎜   ⎜    ─ - α₁⎟⎟    ⎜─ - α₁⎟   ⎜               ⎜   ⎜ \n",
       " ⎜2     ⎟⎟    ⎜         ⎜   ⎜π   2     ⎟⎟    ⎜2     ⎟   ⎜               ⎜   ⎜π\n",
       "s⎜──────⎟⎟    ⎜gₐ⋅gᵥ⋅sin⎜gᵥ⋅⎜─ + ──────⎟⎟⋅cos⎜──────⎟   ⎜R + α₃ + gₐ⋅cos⎜gᵥ⋅⎜─\n",
       " ⎝  R   ⎠⎟    ⎜         ⎝   ⎝2     R   ⎠⎠    ⎝  R   ⎠   ⎝               ⎝   ⎝2\n",
       "─────────⎟  + ⎜────────────────────────────────────── + ──────────────────────\n",
       "         ⎠    ⎝                  R                                            \n",
       "                                                                              \n",
       "\n",
       "                                                              ⎤\n",
       "                                                              ⎥\n",
       "                                                              ⎥\n",
       "──────────────────────────────────────────────────────────────⎥\n",
       "                          2                                  ⎞⎥\n",
       "    L     ⎞⎞⎞    ⎛L     ⎞⎞                                   ⎟⎥\n",
       "    ─ - α₁⎟⎟⎟    ⎜─ - α₁⎟⎟                                   ⎟⎥\n",
       "π   2     ⎟⎟⎟    ⎜2     ⎟⎟      2   2    2⎛   ⎛ L    π   α₁⎞⎞⎟⎥\n",
       "─ + ──────⎟⎟⎟⋅sin⎜──────⎟⎟    gₐ ⋅gᵥ ⋅sin ⎜gᵥ⋅⎜─── + ─ - ──⎟⎟⎟⎥\n",
       "2     R   ⎠⎠⎠    ⎝  R   ⎠⎟                ⎝   ⎝2⋅R   2   R ⎠⎠⎟⎥\n",
       "─────────────────────────⎟  - ───────────────────────────────⎟⎥\n",
       " R                       ⎠                    2              ⎟⎥\n",
       "                                             R               ⎠⎥\n",
       "                                                              ⎥\n",
       "                                                              ⎥\n",
       "                                                              ⎥\n",
       "                                          2                   ⎥\n",
       "           ⎛   ⎛    L     ⎞⎞⎞    ⎛L     ⎞⎞                    ⎥\n",
       "           ⎜   ⎜    ─ - α₁⎟⎟⎟    ⎜─ - α₁⎟⎟                    ⎥\n",
       "           ⎜   ⎜π   2     ⎟⎟⎟    ⎜2     ⎟⎟                    ⎥\n",
       "α₃ + gₐ⋅cos⎜gᵥ⋅⎜─ + ──────⎟⎟⎟⋅sin⎜──────⎟⎟                    ⎥\n",
       "           ⎝   ⎝2     R   ⎠⎠⎠    ⎝  R   ⎠⎟                    ⎥\n",
       "─────────────────────────────────────────⎟                    ⎥\n",
       "                 R                       ⎠                    ⎥\n",
       "────────────────────────────────────────────────────────────  ⎥\n",
       "                         2                                    ⎥\n",
       "   L     ⎞⎞⎞    ⎛L     ⎞⎞                                     ⎥\n",
       "   ─ - α₁⎟⎟⎟    ⎜─ - α₁⎟⎟                                     ⎥\n",
       "   2     ⎟⎟⎟    ⎜2     ⎟⎟      2   2    2⎛   ⎛ L    π   α₁⎞⎞  ⎥\n",
       " + ──────⎟⎟⎟⋅sin⎜──────⎟⎟    gₐ ⋅gᵥ ⋅sin ⎜gᵥ⋅⎜─── + ─ - ──⎟⎟  ⎥\n",
       "     R   ⎠⎠⎠    ⎝  R   ⎠⎟                ⎝   ⎝2⋅R   2   R ⎠⎠  ⎥\n",
       "────────────────────────⎟  - ───────────────────────────────  ⎥\n",
       "R                       ⎠                    2                ⎥\n",
       "                                            R                 ⎦"
      ]
     },
     "execution_count": 16,
     "metadata": {},
     "output_type": "execute_result"
    }
   ],
   "source": [
    "G_inv = G**-1\n",
    "G_inv"
   ]
  },
  {
   "cell_type": "markdown",
   "metadata": {},
   "source": [
    "### Derivatives of vectors"
   ]
  },
  {
   "cell_type": "markdown",
   "metadata": {},
   "source": [
    "#### Derivative of base vectors"
   ]
  },
  {
   "cell_type": "code",
   "execution_count": 17,
   "metadata": {},
   "outputs": [
    {
     "data": {
      "image/png": "[encoded data removed]",
      "text/latex": [
       "$$(\\frac{g_{a} g_{v}^{2}}{R^{2}} \\sin{\\left (\\frac{1}{R} \\left(\\frac{L}{2} - \\alpha_{1}\\right) \\right )} \\cos{\\left (g_{v} \\left(\\frac{\\pi}{2} + \\frac{1}{R} \\left(\\frac{L}{2} - \\alpha_{1}\\right)\\right) \\right )} + \\frac{2 g_{a}}{R^{2}} g_{v} \\sin{\\left (g_{v} \\left(\\frac{\\pi}{2} + \\frac{1}{R} \\left(\\frac{L}{2} - \\alpha_{1}\\right)\\right) \\right )} \\cos{\\left (\\frac{1}{R} \\left(\\frac{L}{2} - \\alpha_{1}\\right) \\right )} + \\frac{1}{R^{2}} \\left(R + \\alpha_{3} + g_{a} \\cos{\\left (g_{v} \\left(\\frac{\\pi}{2} + \\frac{1}{R} \\left(\\frac{L}{2} - \\alpha_{1}\\right)\\right) \\right )}\\right) \\sin{\\left (\\frac{1}{R} \\left(\\frac{L}{2} - \\alpha_{1}\\right) \\right )})\\mathbf{\\hat{i}_{N}} + (- \\frac{g_{a} g_{v}^{2}}{R^{2}} \\cos{\\left (\\frac{1}{R} \\left(\\frac{L}{2} - \\alpha_{1}\\right) \\right )} \\cos{\\left (g_{v} \\left(\\frac{\\pi}{2} + \\frac{1}{R} \\left(\\frac{L}{2} - \\alpha_{1}\\right)\\right) \\right )} + \\frac{2 g_{a}}{R^{2}} g_{v} \\sin{\\left (\\frac{1}{R} \\left(\\frac{L}{2} - \\alpha_{1}\\right) \\right )} \\sin{\\left (g_{v} \\left(\\frac{\\pi}{2} + \\frac{1}{R} \\left(\\frac{L}{2} - \\alpha_{1}\\right)\\right) \\right )} - \\frac{1}{R^{2}} \\left(R + \\alpha_{3} + g_{a} \\cos{\\left (g_{v} \\left(\\frac{\\pi}{2} + \\frac{1}{R} \\left(\\frac{L}{2} - \\alpha_{1}\\right)\\right) \\right )}\\right) \\cos{\\left (\\frac{1}{R} \\left(\\frac{L}{2} - \\alpha_{1}\\right) \\right )})\\mathbf{\\hat{k}_{N}}$$"
      ],
      "text/plain": [
       "⎛          ⎛L     ⎞ N_i    ⎛   ⎛    L     ⎞ N_i⎞ N_i              ⎛   ⎛    L  \n",
       "⎜          ⎜─ - α₁⎟    ⎜   ⎜    ─ - α₁⎟⎟              ⎜   ⎜    ─ - α₁⎟⎟    ⎜─ \n",
       "⎜     2    ⎜2     ⎟    ⎜   ⎜π   2     ⎟⎟              ⎜   ⎜π   2     ⎟⎟    ⎜2 \n",
       "⎜gₐ⋅gᵥ ⋅sin⎜──────⎟⋅cos⎜gᵥ⋅⎜─ + ──────⎟⎟   2⋅gₐ⋅gᵥ⋅sin⎜gᵥ⋅⎜─ + ──────⎟⎟⋅cos⎜──\n",
       "⎜          ⎝  R   ⎠    ⎝   ⎝2     R   ⎠⎠              ⎝   ⎝2     R   ⎠⎠    ⎝  \n",
       "⎜─────────────────────────────────────── + ───────────────────────────────────\n",
       "⎜                    2                                         2              \n",
       "⎝                   R                                         R               \n",
       "\n",
       "   ⎞ N_i⎞ N_i    ⎛L     ⎞ N_i   ⎛               ⎛   ⎛    L     ⎞ N_i⎞ N_i⎞ N_i\n",
       "- α₁⎟   ⎜               ⎜   ⎜    ─ - α₁⎟⎟⎟    ⎜─ - α₁⎟⎟                       \n",
       "    ⎟   ⎜               ⎜   ⎜π   2     ⎟⎟⎟    ⎜2     ⎟⎟                       \n",
       "────⎟   ⎜R + α₃ + gₐ⋅cos⎜gᵥ⋅⎜─ + ──────⎟⎟⎟⋅sin⎜──────⎟⎟                       \n",
       "R   ⎠   ⎝               ⎝   ⎝2     R   ⎠⎠⎠    ⎝  R   ⎠⎟                       \n",
       "───── + ──────────────────────────────────────────────⎟                       \n",
       "                               2                      ⎟                       \n",
       "                              R                       ⎠                       \n",
       "\n",
       "    ⎛L     ⎞ N_i⎞ N_i + ⎛            ⎛L     ⎞ N_k    ⎛   ⎛    L     ⎞ N_k⎞ N_k\n",
       "                        ⎜            ⎜─ - α₁⎟    ⎜   ⎜    ─ - α₁⎟⎟            \n",
       "                        ⎜       2    ⎜2     ⎟    ⎜   ⎜π   2     ⎟⎟            \n",
       "                        ⎜  gₐ⋅gᵥ ⋅cos⎜──────⎟⋅cos⎜gᵥ⋅⎜─ + ──────⎟⎟   2⋅gₐ⋅gᵥ⋅s\n",
       "                        ⎜            ⎝  R   ⎠    ⎝   ⎝2     R   ⎠⎠            \n",
       "                        ⎜- ─────────────────────────────────────── + ─────────\n",
       "                        ⎜                      2                              \n",
       "                        ⎝                     R                               \n",
       "\n",
       "              ⎛L     ⎞ N_k    ⎛   ⎛    L     ⎞ N_k⎞ N_k   ⎛               ⎛   \n",
       "  ⎜─ - α₁⎟    ⎜   ⎜    ─ - α₁⎟⎟   ⎜               ⎜   ⎜    ─ - α₁⎟⎟⎟    ⎜─ - α\n",
       "  ⎜2     ⎟    ⎜   ⎜π   2     ⎟⎟   ⎜               ⎜   ⎜π   2     ⎟⎟⎟    ⎜2    \n",
       "in⎜──────⎟⋅sin⎜gᵥ⋅⎜─ + ──────⎟⎟   ⎜R + α₃ + gₐ⋅cos⎜gᵥ⋅⎜─ + ──────⎟⎟⎟⋅cos⎜─────\n",
       "  ⎝  R   ⎠    ⎝   ⎝2     R   ⎠⎠   ⎝               ⎝   ⎝2     R   ⎠⎠⎠    ⎝  R  \n",
       "─────────────────────────────── - ────────────────────────────────────────────\n",
       "           2                                             2                    \n",
       "          R                                             R                     \n",
       "\n",
       "⎛    L     ⎞ N_k⎞ N_k⎞ N_k    ⎛L     ⎞ N_k⎞ N_k\n",
       "₁⎟⎟                                            \n",
       " ⎟⎟                                            \n",
       "─⎟⎟                                            \n",
       " ⎠⎟                                            \n",
       "──⎟                                            \n",
       "  ⎟                                            \n",
       "  ⎠                                            "
      ]
     },
     "execution_count": 17,
     "metadata": {},
     "output_type": "execute_result"
    }
   ],
   "source": [
    "dR1dalpha1 = trigsimp(R1.diff(alpha1))\n",
    "dR1dalpha1"
   ]
  },
  {
   "cell_type": "markdown",
   "metadata": {},
   "source": [
    "$ \\frac { d\\vec{R_1} } { d\\alpha_1} = -\\frac {1}{R} \\left( 1+\\frac{\\alpha_3}{R} \\right) \\vec{R_3} $"
   ]
  },
  {
   "cell_type": "code",
   "execution_count": 18,
   "metadata": {},
   "outputs": [
    {
     "data": {
      "image/png": "[encoded data removed]",
      "text/latex": [
       "$$\\mathbf{\\hat{0}}$$"
      ],
      "text/plain": [
       "0"
      ]
     },
     "execution_count": 18,
     "metadata": {},
     "output_type": "execute_result"
    }
   ],
   "source": [
    "dR1dalpha2 = trigsimp(R1.diff(alpha2))\n",
    "dR1dalpha2"
   ]
  },
  {
   "cell_type": "code",
   "execution_count": 19,
   "metadata": {},
   "outputs": [
    {
     "data": {
      "image/png": "[encoded data removed]",
      "text/latex": [
       "$$(\\frac{1}{R} \\cos{\\left (\\frac{1}{R} \\left(\\frac{L}{2} - \\alpha_{1}\\right) \\right )})\\mathbf{\\hat{i}_{N}} + (\\frac{1}{R} \\sin{\\left (\\frac{1}{R} \\left(\\frac{L}{2} - \\alpha_{1}\\right) \\right )})\\mathbf{\\hat{k}_{N}}$$"
      ],
      "text/plain": [
       "⎛   ⎛L     ⎞ N_i⎞ N_i + ⎛   ⎛L     ⎞ N_k⎞ N_k\n",
       "⎜   ⎜─ - α₁⎟⎟           ⎜   ⎜─ - α₁⎟⎟        \n",
       "⎜   ⎜2     ⎟⎟           ⎜   ⎜2     ⎟⎟        \n",
       "⎜cos⎜──────⎟⎟           ⎜sin⎜──────⎟⎟        \n",
       "⎜   ⎝  R   ⎠⎟           ⎜   ⎝  R   ⎠⎟        \n",
       "⎜───────────⎟           ⎜───────────⎟        \n",
       "⎝     R     ⎠           ⎝     R     ⎠        "
      ]
     },
     "execution_count": 19,
     "metadata": {},
     "output_type": "execute_result"
    }
   ],
   "source": [
    "dR1dalpha3 = trigsimp(R1.diff(alpha3))\n",
    "dR1dalpha3"
   ]
  },
  {
   "cell_type": "markdown",
   "metadata": {},
   "source": [
    "$ \\frac { d\\vec{R_1} } { d\\alpha_3} = \\frac {1}{R} \\frac {1}{1+\\frac{\\alpha_3}{R}}  \\vec{R_1} $"
   ]
  },
  {
   "cell_type": "code",
   "execution_count": 20,
   "metadata": {
    "scrolled": true
   },
   "outputs": [
    {
     "data": {
      "image/png": "[encoded data removed]",
      "text/latex": [
       "$$\\mathbf{\\hat{0}}$$"
      ],
      "text/plain": [
       "0"
      ]
     },
     "execution_count": 20,
     "metadata": {},
     "output_type": "execute_result"
    }
   ],
   "source": [
    "dR2dalpha1 = trigsimp(R2.diff(alpha1))\n",
    "dR2dalpha1"
   ]
  },
  {
   "cell_type": "code",
   "execution_count": 21,
   "metadata": {},
   "outputs": [
    {
     "data": {
      "image/png": "[encoded data removed]",
      "text/latex": [
       "$$\\mathbf{\\hat{0}}$$"
      ],
      "text/plain": [
       "0"
      ]
     },
     "execution_count": 21,
     "metadata": {},
     "output_type": "execute_result"
    }
   ],
   "source": [
    "dR2dalpha2 = trigsimp(R2.diff(alpha2))\n",
    "dR2dalpha2"
   ]
  },
  {
   "cell_type": "code",
   "execution_count": 22,
   "metadata": {},
   "outputs": [
    {
     "data": {
      "image/png": "[encoded data removed]",
      "text/latex": [
       "$$\\mathbf{\\hat{0}}$$"
      ],
      "text/plain": [
       "0"
      ]
     },
     "execution_count": 22,
     "metadata": {},
     "output_type": "execute_result"
    }
   ],
   "source": [
    "dR2dalpha3 = trigsimp(R2.diff(alpha3))\n",
    "dR2dalpha3"
   ]
  },
  {
   "cell_type": "code",
   "execution_count": 23,
   "metadata": {},
   "outputs": [
    {
     "data": {
      "image/png": "[encoded data removed]",
      "text/latex": [
       "$$(\\frac{1}{R} \\cos{\\left (\\frac{1}{R} \\left(\\frac{L}{2} - \\alpha_{1}\\right) \\right )})\\mathbf{\\hat{i}_{N}} + (\\frac{1}{R} \\sin{\\left (\\frac{1}{R} \\left(\\frac{L}{2} - \\alpha_{1}\\right) \\right )})\\mathbf{\\hat{k}_{N}}$$"
      ],
      "text/plain": [
       "⎛   ⎛L     ⎞ N_i⎞ N_i + ⎛   ⎛L     ⎞ N_k⎞ N_k\n",
       "⎜   ⎜─ - α₁⎟⎟           ⎜   ⎜─ - α₁⎟⎟        \n",
       "⎜   ⎜2     ⎟⎟           ⎜   ⎜2     ⎟⎟        \n",
       "⎜cos⎜──────⎟⎟           ⎜sin⎜──────⎟⎟        \n",
       "⎜   ⎝  R   ⎠⎟           ⎜   ⎝  R   ⎠⎟        \n",
       "⎜───────────⎟           ⎜───────────⎟        \n",
       "⎝     R     ⎠           ⎝     R     ⎠        "
      ]
     },
     "execution_count": 23,
     "metadata": {},
     "output_type": "execute_result"
    }
   ],
   "source": [
    "dR3dalpha1 = trigsimp(R3.diff(alpha1))\n",
    "dR3dalpha1"
   ]
  },
  {
   "cell_type": "markdown",
   "metadata": {},
   "source": [
    "$ \\frac { d\\vec{R_3} } { d\\alpha_1} = \\frac {1}{R} \\frac {1}{1+\\frac{\\alpha_3}{R}}  \\vec{R_1} $"
   ]
  },
  {
   "cell_type": "code",
   "execution_count": 24,
   "metadata": {},
   "outputs": [
    {
     "data": {
      "image/png": "[encoded data removed]",
      "text/latex": [
       "$$\\mathbf{\\hat{0}}$$"
      ],
      "text/plain": [
       "0"
      ]
     },
     "execution_count": 24,
     "metadata": {},
     "output_type": "execute_result"
    }
   ],
   "source": [
    "dR3dalpha2 = trigsimp(R3.diff(alpha2))\n",
    "dR3dalpha2"
   ]
  },
  {
   "cell_type": "code",
   "execution_count": 25,
   "metadata": {},
   "outputs": [
    {
     "data": {
      "image/png": "[encoded data removed]",
      "text/latex": [
       "$$\\mathbf{\\hat{0}}$$"
      ],
      "text/plain": [
       "0"
      ]
     },
     "execution_count": 25,
     "metadata": {},
     "output_type": "execute_result"
    }
   ],
   "source": [
    "dR3dalpha3 = trigsimp(R3.diff(alpha3))\n",
    "dR3dalpha3"
   ]
  },
  {
   "cell_type": "markdown",
   "metadata": {},
   "source": [
    "$ \\frac { d\\vec{R_3} } { d\\alpha_3} = \\vec{0} $"
   ]
  },
  {
   "cell_type": "markdown",
   "metadata": {},
   "source": [
    "#### Derivative of vectors\n",
    "\n",
    "$ \\vec{u} = u^1 \\vec{R_1} + u^2\\vec{R_2} + u^3\\vec{R_3} $"
   ]
  },
  {
   "cell_type": "markdown",
   "metadata": {},
   "source": [
    "$ \\frac { d\\vec{u} } { d\\alpha_1} =  \\frac { d(u^1\\vec{R_1}) } { d\\alpha_1} + \\frac { d(u^2\\vec{R_2}) } { d\\alpha_1}+ \\frac { d(u^3\\vec{R_3}) } { d\\alpha_1} = \\frac { du^1 } { d\\alpha_1} \\vec{R_1} + u^1 \\frac { d\\vec{R_1} } { d\\alpha_1} + \\frac { du^2 } { d\\alpha_1} \\vec{R_2} + u^2 \\frac { d\\vec{R_2} } { d\\alpha_1} + \\frac { du^3 } { d\\alpha_1} \\vec{R_3} + u^3 \\frac { d\\vec{R_3} } { d\\alpha_1} = \\frac { du^1 } { d\\alpha_1} \\vec{R_1} - u^1 \\frac {1}{R} \\left( 1+\\frac{\\alpha_3}{R} \\right) \\vec{R_3} + \\frac { du^2 } { d\\alpha_1} \\vec{R_2}+ \\frac { du^3 } { d\\alpha_1} \\vec{R_3} + u^3 \\frac {1}{R} \\frac {1}{1+\\frac{\\alpha_3}{R}}  \\vec{R_1}$\n",
    "\n",
    "Then\n",
    "$ \\frac { d\\vec{u} } { d\\alpha_1} = \\left( \\frac { du^1 } { d\\alpha_1} + u^3 \\frac {1}{R} \\frac {1}{1+\\frac{\\alpha_3}{R}}  \\right) \\vec{R_1} + \\frac { du^2 } { d\\alpha_1} \\vec{R_2} + \\left( \\frac { du^3 } { d\\alpha_1} - u^1 \\frac {1}{R} \\left( 1+\\frac{\\alpha_3}{R} \\right) \\right) \\vec{R_3}$\n",
    "\n"
   ]
  },
  {
   "cell_type": "markdown",
   "metadata": {},
   "source": [
    "$ \\frac { d\\vec{u} } { d\\alpha_2} =  \\frac { d(u^1\\vec{R_1}) } { d\\alpha_2} + \\frac { d(u^2\\vec{R_2}) } { d\\alpha_2}+ \\frac { d(u^3\\vec{R_3}) } { d\\alpha_2} =  \\frac { du^1 } { d\\alpha_2} \\vec{R_1} + \\frac { du^2 } { d\\alpha_2} \\vec{R_2} + \\frac { du^3 } { d\\alpha_2} \\vec{R_3} $\n",
    "\n",
    "Then\n",
    "$ \\frac { d\\vec{u} } { d\\alpha_2} = \\frac { du^1 } { d\\alpha_2} \\vec{R_1} + \\frac { du^2 } { d\\alpha_2} \\vec{R_2} + \\frac { du^3 } { d\\alpha_2} \\vec{R_3} $"
   ]
  },
  {
   "cell_type": "markdown",
   "metadata": {},
   "source": [
    "$ \\frac { d\\vec{u} } { d\\alpha_3} = \\frac { d(u^1\\vec{R_1}) } { d\\alpha_3} + \\frac { d(u^2\\vec{R_2}) } { d\\alpha_3}+ \\frac { d(u^3\\vec{R_3}) } { d\\alpha_3} = \n",
    " \\frac { du^1 } { d\\alpha_3} \\vec{R_1} + u^1 \\frac { d\\vec{R_1} } { d\\alpha_3} + \\frac { du^2 } { d\\alpha_3} \\vec{R_2} + u^2 \\frac { d\\vec{R_2} } { d\\alpha_3} + \\frac { du^3 } { d\\alpha_3} \\vec{R_3} + u^3 \\frac { d\\vec{R_3} } { d\\alpha_3} = \\frac { du^1 } { d\\alpha_3} \\vec{R_1} + u^1 \\frac {1}{R} \\frac {1}{1+\\frac{\\alpha_3}{R}}  \\vec{R_1} + \\frac { du^2 } { d\\alpha_3} \\vec{R_2}+ \\frac { du^3 } { d\\alpha_3} \\vec{R_3} $\n",
    " \n",
    " Then\n",
    "$ \\frac { d\\vec{u} } { d\\alpha_3} = \\left( \\frac { du^1 } { d\\alpha_3}  + u^1 \\frac {1}{R} \\frac {1}{1+\\frac{\\alpha_3}{R}} \\right) \\vec{R_1} + \\frac { du^2 } { d\\alpha_3} \\vec{R_2}+ \\frac { du^3 } { d\\alpha_3} \\vec{R_3}$\n",
    "\n"
   ]
  },
  {
   "cell_type": "markdown",
   "metadata": {},
   "source": [
    "### Gradient of vector"
   ]
  },
  {
   "cell_type": "markdown",
   "metadata": {},
   "source": [
    "$\\nabla_1 u^1 = \\frac { \\partial u^1 } { \\partial \\alpha_1} + u^3 \\frac {1}{R} \\frac {1}{1+\\frac{\\alpha_3}{R}}$\n",
    "\n",
    "$\\nabla_1 u^2 = \\frac { \\partial u^2 } { \\partial \\alpha_1} $\n",
    "\n",
    "$\\nabla_1 u^3 = \\frac { \\partial u^3 } { \\partial \\alpha_1} - u^1 \\frac {1}{R} \\left( 1+\\frac{\\alpha_3}{R} \\right) $\n",
    "\n",
    "$\\nabla_2 u^1 = \\frac { \\partial u^1 } { \\partial \\alpha_2}$\n",
    "\n",
    "$\\nabla_2 u^2 = \\frac { \\partial u^2 } { \\partial \\alpha_2}$\n",
    "\n",
    "$\\nabla_2 u^3 = \\frac { \\partial u^3 } { \\partial \\alpha_2}$\n",
    "\n",
    "$\\nabla_3 u^1 = \\frac { \\partial u^1 } { \\partial \\alpha_3} + u^1 \\frac {1}{R} \\frac {1}{1+\\frac{\\alpha_3}{R}}$\n",
    "\n",
    "$\\nabla_3 u^2 = \\frac { \\partial u^2 } { \\partial \\alpha_3} $\n",
    "\n",
    "$\\nabla_3 u^3 = \\frac { \\partial u^3 } { \\partial \\alpha_3}$\n",
    "\n",
    "\n",
    "$ \\nabla \\vec{u} = \\left( \n",
    "\\begin{array}{ccc} \n",
    "\\nabla_1 u^1 & \\nabla_1 u^2 & \\nabla_1 u^3 \\\\\n",
    "\\nabla_2 u^1 & \\nabla_2 u^2 & \\nabla_2 u^3 \\\\\n",
    "\\nabla_3 u^1 & \\nabla_3 u^2 & \\nabla_3 u^3 \\\\\n",
    "\\end{array} \n",
    "\\right)$"
   ]
  },
  {
   "cell_type": "code",
   "execution_count": 37,
   "metadata": {},
   "outputs": [
    {
     "data": {
      "image/png": "[encoded data removed]",
      "text/latex": [
       "$$\\left[\\begin{matrix}\\frac{K \\operatorname{u^{3}}{\\left (\\alpha_{1},\\alpha_{2},\\alpha_{3} \\right )}}{q{\\left (\\alpha_{3} \\right )}} + \\frac{\\partial}{\\partial \\alpha_{1}} \\operatorname{u^{1}}{\\left (\\alpha_{1},\\alpha_{2},\\alpha_{3} \\right )} & \\frac{\\partial}{\\partial \\alpha_{1}} \\operatorname{u^{2}}{\\left (\\alpha_{1},\\alpha_{2},\\alpha_{3} \\right )} & - K q{\\left (\\alpha_{3} \\right )} \\operatorname{u^{1}}{\\left (\\alpha_{1},\\alpha_{2},\\alpha_{3} \\right )} + \\frac{\\partial}{\\partial \\alpha_{1}} \\operatorname{u^{3}}{\\left (\\alpha_{1},\\alpha_{2},\\alpha_{3} \\right )}\\\\\\frac{\\partial}{\\partial \\alpha_{2}} \\operatorname{u^{1}}{\\left (\\alpha_{1},\\alpha_{2},\\alpha_{3} \\right )} & \\frac{\\partial}{\\partial \\alpha_{2}} \\operatorname{u^{2}}{\\left (\\alpha_{1},\\alpha_{2},\\alpha_{3} \\right )} & \\frac{\\partial}{\\partial \\alpha_{2}} \\operatorname{u^{3}}{\\left (\\alpha_{1},\\alpha_{2},\\alpha_{3} \\right )}\\\\\\frac{K \\operatorname{u^{1}}{\\left (\\alpha_{1},\\alpha_{2},\\alpha_{3} \\right )}}{q{\\left (\\alpha_{3} \\right )}} + \\frac{\\partial}{\\partial \\alpha_{3}} \\operatorname{u^{1}}{\\left (\\alpha_{1},\\alpha_{2},\\alpha_{3} \\right )} & \\frac{\\partial}{\\partial \\alpha_{3}} \\operatorname{u^{2}}{\\left (\\alpha_{1},\\alpha_{2},\\alpha_{3} \\right )} & \\frac{\\partial}{\\partial \\alpha_{3}} \\operatorname{u^{3}}{\\left (\\alpha_{1},\\alpha_{2},\\alpha_{3} \\right )}\\end{matrix}\\right]$$"
      ],
      "text/plain": [
       "⎡K⋅u³(α₁, α₂, α₃)    ∂                    ∂                                   \n",
       "⎢──────────────── + ───(u¹(α₁, α₂, α₃))  ───(u²(α₁, α₂, α₃))  -K⋅q(α₃)⋅u¹(α₁, \n",
       "⎢     q(α₃)         ∂α₁                  ∂α₁                                  \n",
       "⎢                                                                             \n",
       "⎢          ∂                              ∂                                 ∂ \n",
       "⎢         ───(u¹(α₁, α₂, α₃))            ───(u²(α₁, α₂, α₃))               ───\n",
       "⎢         ∂α₂                            ∂α₂                               ∂α₂\n",
       "⎢                                                                             \n",
       "⎢K⋅u¹(α₁, α₂, α₃)    ∂                    ∂                                 ∂ \n",
       "⎢──────────────── + ───(u¹(α₁, α₂, α₃))  ───(u²(α₁, α₂, α₃))               ───\n",
       "⎣     q(α₃)         ∂α₃                  ∂α₃                               ∂α₃\n",
       "\n",
       "           ∂                 ⎤\n",
       "α₂, α₃) + ───(u³(α₁, α₂, α₃))⎥\n",
       "          ∂α₁                ⎥\n",
       "                             ⎥\n",
       "                             ⎥\n",
       "(u³(α₁, α₂, α₃))             ⎥\n",
       "                             ⎥\n",
       "                             ⎥\n",
       "                             ⎥\n",
       "(u³(α₁, α₂, α₃))             ⎥\n",
       "                             ⎦"
      ]
     },
     "execution_count": 37,
     "metadata": {},
     "output_type": "execute_result"
    }
   ],
   "source": [
    "u1=Function('u^1')\n",
    "u2=Function('u^2')\n",
    "u3=Function('u^3')\n",
    "q=Function('q') # q(alpha3) = 1+alpha3/R\n",
    "K = Symbol('K') # K = 1/R\n",
    "\n",
    "u1_nabla1 = u1(alpha1, alpha2, alpha3).diff(alpha1) + u3(alpha1, alpha2, alpha3) * K / q(alpha3)\n",
    "u2_nabla1 = u2(alpha1, alpha2, alpha3).diff(alpha1)\n",
    "u3_nabla1 = u3(alpha1, alpha2, alpha3).diff(alpha1) - u1(alpha1, alpha2, alpha3) * K * q(alpha3)\n",
    "\n",
    "u1_nabla2 = u1(alpha1, alpha2, alpha3).diff(alpha2)\n",
    "u2_nabla2 = u2(alpha1, alpha2, alpha3).diff(alpha2)\n",
    "u3_nabla2 = u3(alpha1, alpha2, alpha3).diff(alpha2)\n",
    "\n",
    "u1_nabla3 = u1(alpha1, alpha2, alpha3).diff(alpha3) + u1(alpha1, alpha2, alpha3) * K / q(alpha3)\n",
    "u2_nabla3 = u2(alpha1, alpha2, alpha3).diff(alpha3)\n",
    "u3_nabla3 = u3(alpha1, alpha2, alpha3).diff(alpha3)\n",
    "# $\\nabla_2 u^2 = \\frac { \\partial u^2 } { \\partial \\alpha_2}$\n",
    "\n",
    "grad_u = Matrix([[u1_nabla1, u2_nabla1, u3_nabla1],[u1_nabla2, u2_nabla2, u3_nabla2], [u1_nabla3, u2_nabla3, u3_nabla3]])\n",
    "grad_u"
   ]
  },
  {
   "cell_type": "code",
   "execution_count": 38,
   "metadata": {},
   "outputs": [
    {
     "data": {
      "image/png": "[encoded data removed]",
      "text/latex": [
       "$$\\left[\\begin{matrix}K q{\\left (\\alpha_{3} \\right )} \\operatorname{u^{3}}{\\left (\\alpha_{1},\\alpha_{2},\\alpha_{3} \\right )} + q^{2}{\\left (\\alpha_{3} \\right )} \\frac{\\partial}{\\partial \\alpha_{1}} \\operatorname{u^{1}}{\\left (\\alpha_{1},\\alpha_{2},\\alpha_{3} \\right )} & \\frac{\\partial}{\\partial \\alpha_{1}} \\operatorname{u^{2}}{\\left (\\alpha_{1},\\alpha_{2},\\alpha_{3} \\right )} & - K q{\\left (\\alpha_{3} \\right )} \\operatorname{u^{1}}{\\left (\\alpha_{1},\\alpha_{2},\\alpha_{3} \\right )} + \\frac{\\partial}{\\partial \\alpha_{1}} \\operatorname{u^{3}}{\\left (\\alpha_{1},\\alpha_{2},\\alpha_{3} \\right )}\\\\q^{2}{\\left (\\alpha_{3} \\right )} \\frac{\\partial}{\\partial \\alpha_{2}} \\operatorname{u^{1}}{\\left (\\alpha_{1},\\alpha_{2},\\alpha_{3} \\right )} & \\frac{\\partial}{\\partial \\alpha_{2}} \\operatorname{u^{2}}{\\left (\\alpha_{1},\\alpha_{2},\\alpha_{3} \\right )} & \\frac{\\partial}{\\partial \\alpha_{2}} \\operatorname{u^{3}}{\\left (\\alpha_{1},\\alpha_{2},\\alpha_{3} \\right )}\\\\K q{\\left (\\alpha_{3} \\right )} \\operatorname{u^{1}}{\\left (\\alpha_{1},\\alpha_{2},\\alpha_{3} \\right )} + q^{2}{\\left (\\alpha_{3} \\right )} \\frac{\\partial}{\\partial \\alpha_{3}} \\operatorname{u^{1}}{\\left (\\alpha_{1},\\alpha_{2},\\alpha_{3} \\right )} & \\frac{\\partial}{\\partial \\alpha_{3}} \\operatorname{u^{2}}{\\left (\\alpha_{1},\\alpha_{2},\\alpha_{3} \\right )} & \\frac{\\partial}{\\partial \\alpha_{3}} \\operatorname{u^{3}}{\\left (\\alpha_{1},\\alpha_{2},\\alpha_{3} \\right )}\\end{matrix}\\right]$$"
      ],
      "text/plain": [
       "⎡                          2      ∂                    ∂                      \n",
       "⎢K⋅q(α₃)⋅u³(α₁, α₂, α₃) + q (α₃)⋅───(u¹(α₁, α₂, α₃))  ───(u²(α₁, α₂, α₃))  -K⋅\n",
       "⎢                                ∂α₁                  ∂α₁                     \n",
       "⎢                                                                             \n",
       "⎢             2      ∂                                 ∂                      \n",
       "⎢            q (α₃)⋅───(u¹(α₁, α₂, α₃))               ───(u²(α₁, α₂, α₃))     \n",
       "⎢                   ∂α₂                               ∂α₂                     \n",
       "⎢                                                                             \n",
       "⎢                          2      ∂                    ∂                      \n",
       "⎢K⋅q(α₃)⋅u¹(α₁, α₂, α₃) + q (α₃)⋅───(u¹(α₁, α₂, α₃))  ───(u²(α₁, α₂, α₃))     \n",
       "⎣                                ∂α₃                  ∂α₃                     \n",
       "\n",
       "                        ∂                 ⎤\n",
       "q(α₃)⋅u¹(α₁, α₂, α₃) + ───(u³(α₁, α₂, α₃))⎥\n",
       "                       ∂α₁                ⎥\n",
       "                                          ⎥\n",
       "           ∂                              ⎥\n",
       "          ───(u³(α₁, α₂, α₃))             ⎥\n",
       "          ∂α₂                             ⎥\n",
       "                                          ⎥\n",
       "           ∂                              ⎥\n",
       "          ───(u³(α₁, α₂, α₃))             ⎥\n",
       "          ∂α₃                             ⎦"
      ]
     },
     "execution_count": 38,
     "metadata": {},
     "output_type": "execute_result"
    }
   ],
   "source": [
    "G_s = Matrix([[q(alpha3)**2, 0, 0],[0, 1, 0], [0, 0, 1]])\n",
    "grad_u_down=grad_u*G_s\n",
    "expand(simplify(grad_u_down))"
   ]
  },
  {
   "cell_type": "markdown",
   "metadata": {},
   "source": [
    "$ \n",
    "\\left( \n",
    "\\begin{array}{c} \n",
    "\\nabla_1 u_1 \\\\ \\nabla_2 u_1 \\\\ \\nabla_3 u_1 \\\\\n",
    "\\nabla_1 u_2 \\\\ \\nabla_2 u_2 \\\\ \\nabla_3 u_2 \\\\\n",
    "\\nabla_1 u_3 \\\\ \\nabla_2 u_3 \\\\ \\nabla_3 u_3 \\\\\n",
    "\\end{array} \n",
    "\\right) \n",
    "=  \n",
    "\\left( \n",
    "\\begin{array}{c}\n",
    "\\left( 1+\\frac{\\alpha_2}{R} \\right)^2  \\frac { \\partial u^1 } { \\partial \\alpha_1} + u^3 \\frac {\\left( 1+\\frac{\\alpha_3}{R} \\right)}{R} \\\\\n",
    "\\left( 1+\\frac{\\alpha_2}{R} \\right)^2 \\frac { \\partial u^1 } { \\partial \\alpha_2} \\\\\n",
    "\\left( 1+\\frac{\\alpha_3}{R} \\right)^2  \\frac { \\partial u^1 } { \\partial \\alpha_3} + u^1 \\frac {\\left( 1+\\frac{\\alpha_3}{R} \\right)}{R} \\\\\n",
    "\\frac { \\partial u^2 } { \\partial \\alpha_1} \\\\\n",
    "\\frac { \\partial u^2 } { \\partial \\alpha_2} \\\\\n",
    "\\frac { \\partial u^2 } { \\partial \\alpha_3} \\\\\n",
    "\\frac { \\partial u^3 } { \\partial \\alpha_1} - u^1 \\frac {\\left( 1+\\frac{\\alpha_3}{R} \\right)}{R} \\\\\n",
    "\\frac { \\partial u^3 } { \\partial \\alpha_2} \\\\\n",
    "\\frac { \\partial u^3 } { \\partial \\alpha_3} \\\\\n",
    "\\end{array} \n",
    "\\right)\n",
    "$"
   ]
  },
  {
   "cell_type": "markdown",
   "metadata": {},
   "source": [
    "$ \n",
    "\\left( \n",
    "\\begin{array}{c} \n",
    "\\nabla_1 u_1 \\\\ \\nabla_2 u_1 \\\\ \\nabla_3 u_1 \\\\\n",
    "\\nabla_1 u_2 \\\\ \\nabla_2 u_2 \\\\ \\nabla_3 u_2 \\\\\n",
    "\\nabla_1 u_3 \\\\ \\nabla_2 u_3 \\\\ \\nabla_3 u_3 \\\\\n",
    "\\end{array} \n",
    "\\right)\n",
    "=  \n",
    "B \\cdot\n",
    "\\left( \n",
    "\\begin{array}{c} \n",
    "u^1 \\\\\n",
    "\\frac { \\partial u^1 } { \\partial \\alpha_1} \\\\\n",
    "\\frac { \\partial u^1 } { \\partial \\alpha_2} \\\\\n",
    "\\frac { \\partial u^1 } { \\partial \\alpha_3} \\\\\n",
    "u^2 \\\\\n",
    "\\frac { \\partial u^2 } { \\partial \\alpha_1} \\\\\n",
    "\\frac { \\partial u^2 } { \\partial \\alpha_2} \\\\\n",
    "\\frac { \\partial u^2 } { \\partial \\alpha_3} \\\\\n",
    "u^3 \\\\\n",
    "\\frac { \\partial u^3 } { \\partial \\alpha_1} \\\\\n",
    "\\frac { \\partial u^3 } { \\partial \\alpha_2} \\\\\n",
    "\\frac { \\partial u^3 } { \\partial \\alpha_3} \\\\\n",
    "\\end{array} \n",
    "\\right) \n",
    "$"
   ]
  },
  {
   "cell_type": "code",
   "execution_count": 39,
   "metadata": {},
   "outputs": [
    {
     "data": {
      "image/png": "[encoded data removed]",
      "text/latex": [
       "$$\\left[\\begin{array}{cccccccccccc}0 & \\left(1 + \\frac{\\alpha_{3}}{R}\\right)^{2} & 0 & 0 & 0 & 0 & 0 & 0 & \\frac{1}{R} \\left(1 + \\frac{\\alpha_{3}}{R}\\right) & 0 & 0 & 0\\\\0 & 0 & \\left(1 + \\frac{\\alpha_{3}}{R}\\right)^{2} & 0 & 0 & 0 & 0 & 0 & 0 & 0 & 0 & 0\\\\\\frac{1}{R} \\left(1 + \\frac{\\alpha_{3}}{R}\\right) & 0 & 0 & \\left(1 + \\frac{\\alpha_{3}}{R}\\right)^{2} & 0 & 0 & 0 & 0 & 0 & 0 & 0 & 0\\\\0 & 0 & 0 & 0 & 0 & 1 & 0 & 0 & 0 & 0 & 0 & 0\\\\0 & 0 & 0 & 0 & 0 & 0 & 1 & 0 & 0 & 0 & 0 & 0\\\\0 & 0 & 0 & 0 & 0 & 0 & 0 & 1 & 0 & 0 & 0 & 0\\\\\\frac{1}{R} \\left(-1 - \\frac{\\alpha_{3}}{R}\\right) & 0 & 0 & 0 & 0 & 0 & 0 & 0 & 0 & 1 & 0 & 0\\\\0 & 0 & 0 & 0 & 0 & 0 & 0 & 0 & 0 & 0 & 1 & 0\\\\0 & 0 & 0 & 0 & 0 & 0 & 0 & 0 & 0 & 0 & 0 & 1\\end{array}\\right]$$"
      ],
      "text/plain": [
       "⎡                                                          α₃         ⎤\n",
       "⎢                 2                                    1 + ──         ⎥\n",
       "⎢         ⎛    α₃⎞                                         R          ⎥\n",
       "⎢   0     ⎜1 + ──⎟       0          0      0  0  0  0  ──────  0  0  0⎥\n",
       "⎢         ⎝    R ⎠                                       R            ⎥\n",
       "⎢                                                                     ⎥\n",
       "⎢                            2                                        ⎥\n",
       "⎢                    ⎛    α₃⎞                                         ⎥\n",
       "⎢   0         0      ⎜1 + ──⎟       0      0  0  0  0    0     0  0  0⎥\n",
       "⎢                    ⎝    R ⎠                                         ⎥\n",
       "⎢                                                                     ⎥\n",
       "⎢    α₃                                                               ⎥\n",
       "⎢1 + ──                                 2                             ⎥\n",
       "⎢    R                          ⎛    α₃⎞                              ⎥\n",
       "⎢──────       0          0      ⎜1 + ──⎟   0  0  0  0    0     0  0  0⎥\n",
       "⎢  R                            ⎝    R ⎠                              ⎥\n",
       "⎢                                                                     ⎥\n",
       "⎢   0         0          0          0      0  1  0  0    0     0  0  0⎥\n",
       "⎢                                                                     ⎥\n",
       "⎢   0         0          0          0      0  0  1  0    0     0  0  0⎥\n",
       "⎢                                                                     ⎥\n",
       "⎢   0         0          0          0      0  0  0  1    0     0  0  0⎥\n",
       "⎢                                                                     ⎥\n",
       "⎢     α₃                                                              ⎥\n",
       "⎢-1 - ──                                                              ⎥\n",
       "⎢     R                                                               ⎥\n",
       "⎢───────      0          0          0      0  0  0  0    0     1  0  0⎥\n",
       "⎢   R                                                                 ⎥\n",
       "⎢                                                                     ⎥\n",
       "⎢   0         0          0          0      0  0  0  0    0     0  1  0⎥\n",
       "⎢                                                                     ⎥\n",
       "⎣   0         0          0          0      0  0  0  0    0     0  0  1⎦"
      ]
     },
     "execution_count": 39,
     "metadata": {},
     "output_type": "execute_result"
    }
   ],
   "source": [
    "B = zeros(9, 12)\n",
    "B[0,1] = (1+alpha3/R)**2\n",
    "B[0,8] = (1+alpha3/R)/R\n",
    "\n",
    "B[1,2] = (1+alpha3/R)**2\n",
    "\n",
    "B[2,0] = (1+alpha3/R)/R\n",
    "B[2,3] = (1+alpha3/R)**2\n",
    "\n",
    "B[3,5] = S(1)\n",
    "B[4,6] = S(1)\n",
    "B[5,7] = S(1)\n",
    "\n",
    "B[6,9] = S(1)\n",
    "B[6,0] = -(1+alpha3/R)/R\n",
    "B[7,10] = S(1)\n",
    "B[8,11] = S(1)\n",
    "\n",
    "B"
   ]
  },
  {
   "cell_type": "markdown",
   "metadata": {},
   "source": [
    "### Deformations tensor"
   ]
  },
  {
   "cell_type": "code",
   "execution_count": 40,
   "metadata": {},
   "outputs": [
    {
     "data": {
      "image/png": "[encoded data removed]",
      "text/latex": [
       "$$\\left[\\begin{matrix}1 & 0 & 0 & 0 & 0 & 0 & 0 & 0 & 0\\\\0 & 0 & 0 & 0 & 1 & 0 & 0 & 0 & 0\\\\0 & 0 & 0 & 0 & 0 & 0 & 0 & 0 & 1\\\\0 & 1 & 0 & 1 & 0 & 0 & 0 & 0 & 0\\\\0 & 0 & 1 & 0 & 0 & 0 & 1 & 0 & 0\\\\0 & 0 & 0 & 0 & 0 & 1 & 0 & 1 & 0\\end{matrix}\\right]$$"
      ],
      "text/plain": [
       "⎡1  0  0  0  0  0  0  0  0⎤\n",
       "⎢                         ⎥\n",
       "⎢0  0  0  0  1  0  0  0  0⎥\n",
       "⎢                         ⎥\n",
       "⎢0  0  0  0  0  0  0  0  1⎥\n",
       "⎢                         ⎥\n",
       "⎢0  1  0  1  0  0  0  0  0⎥\n",
       "⎢                         ⎥\n",
       "⎢0  0  1  0  0  0  1  0  0⎥\n",
       "⎢                         ⎥\n",
       "⎣0  0  0  0  0  1  0  1  0⎦"
      ]
     },
     "execution_count": 40,
     "metadata": {},
     "output_type": "execute_result"
    }
   ],
   "source": [
    "E=zeros(6,9)\n",
    "E[0,0]=1\n",
    "E[1,4]=1\n",
    "E[2,8]=1\n",
    "E[3,1]=1\n",
    "E[3,3]=1\n",
    "E[4,2]=1\n",
    "E[4,6]=1\n",
    "E[5,5]=1\n",
    "E[5,7]=1\n",
    "E\n"
   ]
  },
  {
   "cell_type": "code",
   "execution_count": 41,
   "metadata": {},
   "outputs": [
    {
     "data": {
      "image/png": "[encoded data removed]",
      "text/latex": [
       "$$\\left[\\begin{array}{cccccccccccc}0 & \\frac{1}{R^{2}} \\left(R + \\alpha_{3}\\right)^{2} & 0 & 0 & 0 & 0 & 0 & 0 & \\frac{1}{R^{2}} \\left(R + \\alpha_{3}\\right) & 0 & 0 & 0\\\\0 & 0 & 0 & 0 & 0 & 0 & 1 & 0 & 0 & 0 & 0 & 0\\\\0 & 0 & 0 & 0 & 0 & 0 & 0 & 0 & 0 & 0 & 0 & 1\\\\0 & 0 & \\frac{1}{R^{2}} \\left(R + \\alpha_{3}\\right)^{2} & 0 & 0 & 1 & 0 & 0 & 0 & 0 & 0 & 0\\\\0 & 0 & 0 & \\frac{1}{R^{2}} \\left(R + \\alpha_{3}\\right)^{2} & 0 & 0 & 0 & 0 & 0 & 1 & 0 & 0\\\\0 & 0 & 0 & 0 & 0 & 0 & 0 & 1 & 0 & 0 & 1 & 0\\end{array}\\right]$$"
      ],
      "text/plain": [
       "⎡           2                                                   ⎤\n",
       "⎢   (R + α₃)                                     R + α₃         ⎥\n",
       "⎢0  ─────────      0          0      0  0  0  0  ──────  0  0  0⎥\n",
       "⎢        2                                          2           ⎥\n",
       "⎢       R                                          R            ⎥\n",
       "⎢                                                               ⎥\n",
       "⎢0      0          0          0      0  0  1  0    0     0  0  0⎥\n",
       "⎢                                                               ⎥\n",
       "⎢0      0          0          0      0  0  0  0    0     0  0  1⎥\n",
       "⎢                                                               ⎥\n",
       "⎢                      2                                        ⎥\n",
       "⎢              (R + α₃)                                         ⎥\n",
       "⎢0      0      ─────────      0      0  1  0  0    0     0  0  0⎥\n",
       "⎢                   2                                           ⎥\n",
       "⎢                  R                                            ⎥\n",
       "⎢                                                               ⎥\n",
       "⎢                                 2                             ⎥\n",
       "⎢                         (R + α₃)                              ⎥\n",
       "⎢0      0          0      ─────────  0  0  0  0    0     1  0  0⎥\n",
       "⎢                              2                                ⎥\n",
       "⎢                             R                                 ⎥\n",
       "⎢                                                               ⎥\n",
       "⎣0      0          0          0      0  0  0  1    0     0  1  0⎦"
      ]
     },
     "execution_count": 41,
     "metadata": {},
     "output_type": "execute_result"
    }
   ],
   "source": [
    "Q=E*B\n",
    "Q=simplify(Q)\n",
    "Q"
   ]
  },
  {
   "cell_type": "markdown",
   "metadata": {},
   "source": [
    "### Tymoshenko theory"
   ]
  },
  {
   "cell_type": "markdown",
   "metadata": {},
   "source": [
    "$u^1 \\left( \\alpha_1, \\alpha_2, \\alpha_3 \\right)=u\\left( \\alpha_1 \\right)+\\alpha_3\\gamma \\left( \\alpha_1 \\right) $"
   ]
  },
  {
   "cell_type": "markdown",
   "metadata": {},
   "source": [
    "$u^2 \\left( \\alpha_1, \\alpha_2, \\alpha_3 \\right)=0 $"
   ]
  },
  {
   "cell_type": "markdown",
   "metadata": {},
   "source": [
    "$u^3 \\left( \\alpha_1, \\alpha_2, \\alpha_3 \\right)=w\\left( \\alpha_1 \\right) $"
   ]
  },
  {
   "cell_type": "markdown",
   "metadata": {},
   "source": [
    "$ \\left( \n",
    "\\begin{array}{c} \n",
    "u^1 \\\\\n",
    "\\frac { \\partial u^1 } { \\partial \\alpha_1} \\\\\n",
    "\\frac { \\partial u^1 } { \\partial \\alpha_2} \\\\\n",
    "\\frac { \\partial u^1 } { \\partial \\alpha_3} \\\\\n",
    "u^2 \\\\\n",
    "\\frac { \\partial u^2 } { \\partial \\alpha_1} \\\\\n",
    "\\frac { \\partial u^2 } { \\partial \\alpha_2} \\\\\n",
    "\\frac { \\partial u^2 } { \\partial \\alpha_3} \\\\\n",
    "u^3 \\\\\n",
    "\\frac { \\partial u^3 } { \\partial \\alpha_1} \\\\\n",
    "\\frac { \\partial u^3 } { \\partial \\alpha_2} \\\\\n",
    "\\frac { \\partial u^3 } { \\partial \\alpha_3} \\\\\n",
    "\\end{array} \n",
    "\\right) = T \\cdot \n",
    "\\left( \n",
    "\\begin{array}{c} \n",
    "u \\\\\n",
    "\\frac { \\partial u } { \\partial \\alpha_1} \\\\\n",
    "\\gamma \\\\\n",
    "\\frac { \\partial \\gamma } { \\partial \\alpha_1} \\\\\n",
    "w \\\\\n",
    "\\frac { \\partial w } { \\partial \\alpha_1} \\\\\n",
    "\\end{array} \n",
    "\\right) $"
   ]
  },
  {
   "cell_type": "code",
   "execution_count": 42,
   "metadata": {},
   "outputs": [
    {
     "data": {
      "image/png": "[encoded data removed]",
      "text/latex": [
       "$$\\left[\\begin{matrix}1 & 0 & \\alpha_{3} & 0 & 0 & 0\\\\0 & 1 & 0 & \\alpha_{3} & 0 & 0\\\\0 & 0 & 0 & 0 & 0 & 0\\\\0 & 0 & 1 & 0 & 0 & 0\\\\0 & 0 & 0 & 0 & 0 & 0\\\\0 & 0 & 0 & 0 & 0 & 0\\\\0 & 0 & 0 & 0 & 0 & 0\\\\0 & 0 & 0 & 0 & 0 & 0\\\\0 & 0 & 0 & 0 & 1 & 0\\\\0 & 0 & 0 & 0 & 0 & 1\\\\0 & 0 & 0 & 0 & 0 & 0\\\\0 & 0 & 0 & 0 & 0 & 0\\end{matrix}\\right]$$"
      ],
      "text/plain": [
       "⎡1  0  α₃  0   0  0⎤\n",
       "⎢                  ⎥\n",
       "⎢0  1  0   α₃  0  0⎥\n",
       "⎢                  ⎥\n",
       "⎢0  0  0   0   0  0⎥\n",
       "⎢                  ⎥\n",
       "⎢0  0  1   0   0  0⎥\n",
       "⎢                  ⎥\n",
       "⎢0  0  0   0   0  0⎥\n",
       "⎢                  ⎥\n",
       "⎢0  0  0   0   0  0⎥\n",
       "⎢                  ⎥\n",
       "⎢0  0  0   0   0  0⎥\n",
       "⎢                  ⎥\n",
       "⎢0  0  0   0   0  0⎥\n",
       "⎢                  ⎥\n",
       "⎢0  0  0   0   1  0⎥\n",
       "⎢                  ⎥\n",
       "⎢0  0  0   0   0  1⎥\n",
       "⎢                  ⎥\n",
       "⎢0  0  0   0   0  0⎥\n",
       "⎢                  ⎥\n",
       "⎣0  0  0   0   0  0⎦"
      ]
     },
     "execution_count": 42,
     "metadata": {},
     "output_type": "execute_result"
    }
   ],
   "source": [
    "T=zeros(12,6)\n",
    "T[0,0]=1\n",
    "T[0,2]=alpha3\n",
    "T[1,1]=1\n",
    "T[1,3]=alpha3\n",
    "T[3,2]=1\n",
    "\n",
    "T[8,4]=1\n",
    "T[9,5]=1\n",
    "T"
   ]
  },
  {
   "cell_type": "code",
   "execution_count": 43,
   "metadata": {},
   "outputs": [
    {
     "data": {
      "image/png": "[encoded data removed]",
      "text/latex": [
       "$$\\left[\\begin{matrix}0 & \\frac{1}{R^{2}} \\left(R + \\alpha_{3}\\right)^{2} & 0 & \\frac{\\alpha_{3}}{R^{2}} \\left(R + \\alpha_{3}\\right)^{2} & \\frac{1}{R^{2}} \\left(R + \\alpha_{3}\\right) & 0\\\\0 & 0 & 0 & 0 & 0 & 0\\\\0 & 0 & 0 & 0 & 0 & 0\\\\0 & 0 & 0 & 0 & 0 & 0\\\\0 & 0 & \\frac{1}{R^{2}} \\left(R + \\alpha_{3}\\right)^{2} & 0 & 0 & 1\\\\0 & 0 & 0 & 0 & 0 & 0\\end{matrix}\\right]$$"
      ],
      "text/plain": [
       "⎡           2                        2           ⎤\n",
       "⎢   (R + α₃)              α₃⋅(R + α₃)   R + α₃   ⎥\n",
       "⎢0  ─────────      0      ────────────  ──────  0⎥\n",
       "⎢        2                      2          2     ⎥\n",
       "⎢       R                      R          R      ⎥\n",
       "⎢                                                ⎥\n",
       "⎢0      0          0           0          0     0⎥\n",
       "⎢                                                ⎥\n",
       "⎢0      0          0           0          0     0⎥\n",
       "⎢                                                ⎥\n",
       "⎢0      0          0           0          0     0⎥\n",
       "⎢                                                ⎥\n",
       "⎢                      2                         ⎥\n",
       "⎢              (R + α₃)                          ⎥\n",
       "⎢0      0      ─────────       0          0     1⎥\n",
       "⎢                   2                            ⎥\n",
       "⎢                  R                             ⎥\n",
       "⎢                                                ⎥\n",
       "⎣0      0          0           0          0     0⎦"
      ]
     },
     "execution_count": 43,
     "metadata": {},
     "output_type": "execute_result"
    }
   ],
   "source": [
    "Q=E*B*T\n",
    "Q=simplify(Q)\n",
    "Q"
   ]
  },
  {
   "cell_type": "markdown",
   "metadata": {},
   "source": [
    "### Elasticity tensor(stiffness tensor)\n",
    "\n",
    "#### General form"
   ]
  },
  {
   "cell_type": "code",
   "execution_count": 44,
   "metadata": {},
   "outputs": [
    {
     "data": {
      "image/png": "[encoded data removed]",
      "text/latex": [
       "$$\\left[\\begin{matrix}\\left[\\begin{matrix}C^{1111} & C^{1112} & C^{1113}\\\\C^{1121} & C^{1122} & C^{1123}\\\\C^{1131} & C^{1132} & C^{1133}\\end{matrix}\\right] & \\left[\\begin{matrix}C^{1211} & C^{1212} & C^{1213}\\\\C^{1221} & C^{1222} & C^{1223}\\\\C^{1231} & C^{1232} & C^{1233}\\end{matrix}\\right] & \\left[\\begin{matrix}C^{1311} & C^{1312} & C^{1313}\\\\C^{1321} & C^{1322} & C^{1323}\\\\C^{1331} & C^{1332} & C^{1333}\\end{matrix}\\right]\\\\\\left[\\begin{matrix}C^{2111} & C^{2112} & C^{2113}\\\\C^{2121} & C^{2122} & C^{2123}\\\\C^{2131} & C^{2132} & C^{2133}\\end{matrix}\\right] & \\left[\\begin{matrix}C^{2211} & C^{2212} & C^{2213}\\\\C^{2221} & C^{2222} & C^{2223}\\\\C^{2231} & C^{2232} & C^{2233}\\end{matrix}\\right] & \\left[\\begin{matrix}C^{2311} & C^{2312} & C^{2313}\\\\C^{2321} & C^{2322} & C^{2323}\\\\C^{2331} & C^{2332} & C^{2333}\\end{matrix}\\right]\\\\\\left[\\begin{matrix}C^{3111} & C^{3112} & C^{3113}\\\\C^{3121} & C^{3122} & C^{3123}\\\\C^{3131} & C^{3132} & C^{3133}\\end{matrix}\\right] & \\left[\\begin{matrix}C^{3211} & C^{3212} & C^{3213}\\\\C^{3221} & C^{3222} & C^{3223}\\\\C^{3231} & C^{3232} & C^{3233}\\end{matrix}\\right] & \\left[\\begin{matrix}C^{3311} & C^{3312} & C^{3313}\\\\C^{3321} & C^{3322} & C^{3323}\\\\C^{3331} & C^{3332} & C^{3333}\\end{matrix}\\right]\\end{matrix}\\right]$$"
      ],
      "text/plain": [
       "⎡⎡C__{1111}  C__{1112}  C__{1113}⎤  ⎡C__{1211}  C__{1212}  C__{1213}⎤  ⎡C__{13\n",
       "⎢⎢                               ⎥  ⎢                               ⎥  ⎢      \n",
       "⎢⎢C__{1121}  C__{1122}  C__{1123}⎥  ⎢C__{1221}  C__{1222}  C__{1223}⎥  ⎢C__{13\n",
       "⎢⎢                               ⎥  ⎢                               ⎥  ⎢      \n",
       "⎢⎣C__{1131}  C__{1132}  C__{1133}⎦  ⎣C__{1231}  C__{1232}  C__{1233}⎦  ⎣C__{13\n",
       "⎢                                                                             \n",
       "⎢⎡C__{2111}  C__{2112}  C__{2113}⎤  ⎡C__{2211}  C__{2212}  C__{2213}⎤  ⎡C__{23\n",
       "⎢⎢                               ⎥  ⎢                               ⎥  ⎢      \n",
       "⎢⎢C__{2121}  C__{2122}  C__{2123}⎥  ⎢C__{2221}  C__{2222}  C__{2223}⎥  ⎢C__{23\n",
       "⎢⎢                               ⎥  ⎢                               ⎥  ⎢      \n",
       "⎢⎣C__{2131}  C__{2132}  C__{2133}⎦  ⎣C__{2231}  C__{2232}  C__{2233}⎦  ⎣C__{23\n",
       "⎢                                                                             \n",
       "⎢⎡C__{3111}  C__{3112}  C__{3113}⎤  ⎡C__{3211}  C__{3212}  C__{3213}⎤  ⎡C__{33\n",
       "⎢⎢                               ⎥  ⎢                               ⎥  ⎢      \n",
       "⎢⎢C__{3121}  C__{3122}  C__{3123}⎥  ⎢C__{3221}  C__{3222}  C__{3223}⎥  ⎢C__{33\n",
       "⎢⎢                               ⎥  ⎢                               ⎥  ⎢      \n",
       "⎣⎣C__{3131}  C__{3132}  C__{3133}⎦  ⎣C__{3231}  C__{3232}  C__{3233}⎦  ⎣C__{33\n",
       "\n",
       "11}  C__{1312}  C__{1313}⎤⎤\n",
       "                         ⎥⎥\n",
       "21}  C__{1322}  C__{1323}⎥⎥\n",
       "                         ⎥⎥\n",
       "31}  C__{1332}  C__{1333}⎦⎥\n",
       "                          ⎥\n",
       "11}  C__{2312}  C__{2313}⎤⎥\n",
       "                         ⎥⎥\n",
       "21}  C__{2322}  C__{2323}⎥⎥\n",
       "                         ⎥⎥\n",
       "31}  C__{2332}  C__{2333}⎦⎥\n",
       "                          ⎥\n",
       "11}  C__{3312}  C__{3313}⎤⎥\n",
       "                         ⎥⎥\n",
       "21}  C__{3322}  C__{3323}⎥⎥\n",
       "                         ⎥⎥\n",
       "31}  C__{3332}  C__{3333}⎦⎦"
      ]
     },
     "execution_count": 44,
     "metadata": {},
     "output_type": "execute_result"
    }
   ],
   "source": [
    "from sympy import MutableDenseNDimArray\n",
    "C_x = MutableDenseNDimArray.zeros(3, 3, 3, 3)\n",
    "\n",
    "for i in range(3):\n",
    "    for j in range(3):        \n",
    "        for k in range(3):\n",
    "            for l in range(3):\n",
    "                elem_index = 'C^{{{}{}{}{}}}'.format(i+1, j+1, k+1, l+1)\n",
    "                el = Symbol(elem_index)\n",
    "                C_x[i,j,k,l] = el\n",
    "                \n",
    "C_x"
   ]
  },
  {
   "cell_type": "markdown",
   "metadata": {},
   "source": [
    "#### Include symmetry"
   ]
  },
  {
   "cell_type": "code",
   "execution_count": 45,
   "metadata": {},
   "outputs": [
    {
     "data": {
      "image/png": "[encoded data removed]",
      "text/latex": [
       "$$\\left[\\begin{matrix}\\left[\\begin{matrix}C^{1111} & C^{1112} & C^{1113}\\\\C^{1112} & C^{1122} & C^{1123}\\\\C^{1113} & C^{1123} & C^{1133}\\end{matrix}\\right] & \\left[\\begin{matrix}C^{1112} & C^{1212} & C^{1213}\\\\C^{1212} & C^{2212} & C^{1223}\\\\C^{1213} & C^{1223} & C^{3312}\\end{matrix}\\right] & \\left[\\begin{matrix}C^{1113} & C^{1213} & C^{1313}\\\\C^{1213} & C^{2213} & C^{1323}\\\\C^{1313} & C^{1323} & C^{3313}\\end{matrix}\\right]\\\\\\left[\\begin{matrix}C^{1112} & C^{1212} & C^{1213}\\\\C^{1212} & C^{2212} & C^{1223}\\\\C^{1213} & C^{1223} & C^{3312}\\end{matrix}\\right] & \\left[\\begin{matrix}C^{1122} & C^{2212} & C^{2213}\\\\C^{2212} & C^{2222} & C^{2223}\\\\C^{2213} & C^{2223} & C^{2233}\\end{matrix}\\right] & \\left[\\begin{matrix}C^{1123} & C^{1223} & C^{1323}\\\\C^{1223} & C^{2223} & C^{2323}\\\\C^{1323} & C^{2323} & C^{3323}\\end{matrix}\\right]\\\\\\left[\\begin{matrix}C^{1113} & C^{1213} & C^{1313}\\\\C^{1213} & C^{2213} & C^{1323}\\\\C^{1313} & C^{1323} & C^{3313}\\end{matrix}\\right] & \\left[\\begin{matrix}C^{1123} & C^{1223} & C^{1323}\\\\C^{1223} & C^{2223} & C^{2323}\\\\C^{1323} & C^{2323} & C^{3323}\\end{matrix}\\right] & \\left[\\begin{matrix}C^{1133} & C^{3312} & C^{3313}\\\\C^{3312} & C^{2233} & C^{3323}\\\\C^{3313} & C^{3323} & C^{3333}\\end{matrix}\\right]\\end{matrix}\\right]$$"
      ],
      "text/plain": [
       "⎡⎡C__{1111}  C__{1112}  C__{1113}⎤  ⎡C__{1112}  C__{1212}  C__{1213}⎤  ⎡C__{11\n",
       "⎢⎢                               ⎥  ⎢                               ⎥  ⎢      \n",
       "⎢⎢C__{1112}  C__{1122}  C__{1123}⎥  ⎢C__{1212}  C__{2212}  C__{1223}⎥  ⎢C__{12\n",
       "⎢⎢                               ⎥  ⎢                               ⎥  ⎢      \n",
       "⎢⎣C__{1113}  C__{1123}  C__{1133}⎦  ⎣C__{1213}  C__{1223}  C__{3312}⎦  ⎣C__{13\n",
       "⎢                                                                             \n",
       "⎢⎡C__{1112}  C__{1212}  C__{1213}⎤  ⎡C__{1122}  C__{2212}  C__{2213}⎤  ⎡C__{11\n",
       "⎢⎢                               ⎥  ⎢                               ⎥  ⎢      \n",
       "⎢⎢C__{1212}  C__{2212}  C__{1223}⎥  ⎢C__{2212}  C__{2222}  C__{2223}⎥  ⎢C__{12\n",
       "⎢⎢                               ⎥  ⎢                               ⎥  ⎢      \n",
       "⎢⎣C__{1213}  C__{1223}  C__{3312}⎦  ⎣C__{2213}  C__{2223}  C__{2233}⎦  ⎣C__{13\n",
       "⎢                                                                             \n",
       "⎢⎡C__{1113}  C__{1213}  C__{1313}⎤  ⎡C__{1123}  C__{1223}  C__{1323}⎤  ⎡C__{11\n",
       "⎢⎢                               ⎥  ⎢                               ⎥  ⎢      \n",
       "⎢⎢C__{1213}  C__{2213}  C__{1323}⎥  ⎢C__{1223}  C__{2223}  C__{2323}⎥  ⎢C__{33\n",
       "⎢⎢                               ⎥  ⎢                               ⎥  ⎢      \n",
       "⎣⎣C__{1313}  C__{1323}  C__{3313}⎦  ⎣C__{1323}  C__{2323}  C__{3323}⎦  ⎣C__{33\n",
       "\n",
       "13}  C__{1213}  C__{1313}⎤⎤\n",
       "                         ⎥⎥\n",
       "13}  C__{2213}  C__{1323}⎥⎥\n",
       "                         ⎥⎥\n",
       "13}  C__{1323}  C__{3313}⎦⎥\n",
       "                          ⎥\n",
       "23}  C__{1223}  C__{1323}⎤⎥\n",
       "                         ⎥⎥\n",
       "23}  C__{2223}  C__{2323}⎥⎥\n",
       "                         ⎥⎥\n",
       "23}  C__{2323}  C__{3323}⎦⎥\n",
       "                          ⎥\n",
       "33}  C__{3312}  C__{3313}⎤⎥\n",
       "                         ⎥⎥\n",
       "12}  C__{2233}  C__{3323}⎥⎥\n",
       "                         ⎥⎥\n",
       "13}  C__{3323}  C__{3333}⎦⎦"
      ]
     },
     "execution_count": 45,
     "metadata": {},
     "output_type": "execute_result"
    }
   ],
   "source": [
    "C_x_symmetry = MutableDenseNDimArray.zeros(3, 3, 3, 3)\n",
    "\n",
    "def getCIndecies(index):\n",
    "    if (index == 0):\n",
    "        return 0, 0\n",
    "    elif (index == 1):\n",
    "        return 1, 1\n",
    "    elif (index == 2):\n",
    "        return 2, 2\n",
    "    elif (index == 3):\n",
    "        return 0, 1\n",
    "    elif (index == 4):\n",
    "        return 0, 2\n",
    "    elif (index == 5):\n",
    "        return 1, 2\n",
    "    \n",
    "for s in range(6):\n",
    "    for t in range(s, 6):\n",
    "        i,j = getCIndecies(s)\n",
    "        k,l = getCIndecies(t)\n",
    "        elem_index = 'C^{{{}{}{}{}}}'.format(i+1, j+1, k+1, l+1)\n",
    "        el = Symbol(elem_index)\n",
    "        C_x_symmetry[i,j,k,l] = el\n",
    "        C_x_symmetry[i,j,l,k] = el\n",
    "        C_x_symmetry[j,i,k,l] = el\n",
    "        C_x_symmetry[j,i,l,k] = el\n",
    "        C_x_symmetry[k,l,i,j] = el\n",
    "        C_x_symmetry[k,l,j,i] = el\n",
    "        C_x_symmetry[l,k,i,j] = el\n",
    "        C_x_symmetry[l,k,j,i] = el\n",
    "\n",
    "                \n",
    "C_x_symmetry"
   ]
  },
  {
   "cell_type": "markdown",
   "metadata": {},
   "source": [
    "#### Isotropic material"
   ]
  },
  {
   "cell_type": "code",
   "execution_count": 46,
   "metadata": {},
   "outputs": [
    {
     "data": {
      "image/png": "[encoded data removed]",
      "text/latex": [
       "$$\\left[\\begin{matrix}\\left[\\begin{matrix}\\lambda + 2 \\mu & 0 & 0\\\\0 & \\lambda & 0\\\\0 & 0 & \\lambda\\end{matrix}\\right] & \\left[\\begin{matrix}0 & \\mu & 0\\\\\\mu & 0 & 0\\\\0 & 0 & 0\\end{matrix}\\right] & \\left[\\begin{matrix}0 & 0 & \\mu\\\\0 & 0 & 0\\\\\\mu & 0 & 0\\end{matrix}\\right]\\\\\\left[\\begin{matrix}0 & \\mu & 0\\\\\\mu & 0 & 0\\\\0 & 0 & 0\\end{matrix}\\right] & \\left[\\begin{matrix}\\lambda & 0 & 0\\\\0 & \\lambda + 2 \\mu & 0\\\\0 & 0 & \\lambda\\end{matrix}\\right] & \\left[\\begin{matrix}0 & 0 & 0\\\\0 & 0 & \\mu\\\\0 & \\mu & 0\\end{matrix}\\right]\\\\\\left[\\begin{matrix}0 & 0 & \\mu\\\\0 & 0 & 0\\\\\\mu & 0 & 0\\end{matrix}\\right] & \\left[\\begin{matrix}0 & 0 & 0\\\\0 & 0 & \\mu\\\\0 & \\mu & 0\\end{matrix}\\right] & \\left[\\begin{matrix}\\lambda & 0 & 0\\\\0 & \\lambda & 0\\\\0 & 0 & \\lambda + 2 \\mu\\end{matrix}\\right]\\end{matrix}\\right]$$"
      ],
      "text/plain": [
       "⎡⎡λ + 2⋅μ  0  0⎤     ⎡0  μ  0⎤        ⎡0  0  μ⎤   ⎤\n",
       "⎢⎢             ⎥     ⎢       ⎥        ⎢       ⎥   ⎥\n",
       "⎢⎢   0     λ  0⎥     ⎢μ  0  0⎥        ⎢0  0  0⎥   ⎥\n",
       "⎢⎢             ⎥     ⎢       ⎥        ⎢       ⎥   ⎥\n",
       "⎢⎣   0     0  λ⎦     ⎣0  0  0⎦        ⎣μ  0  0⎦   ⎥\n",
       "⎢                                                 ⎥\n",
       "⎢   ⎡0  μ  0⎤     ⎡λ     0     0⎤     ⎡0  0  0⎤   ⎥\n",
       "⎢   ⎢       ⎥     ⎢             ⎥     ⎢       ⎥   ⎥\n",
       "⎢   ⎢μ  0  0⎥     ⎢0  λ + 2⋅μ  0⎥     ⎢0  0  μ⎥   ⎥\n",
       "⎢   ⎢       ⎥     ⎢             ⎥     ⎢       ⎥   ⎥\n",
       "⎢   ⎣0  0  0⎦     ⎣0     0     λ⎦     ⎣0  μ  0⎦   ⎥\n",
       "⎢                                                 ⎥\n",
       "⎢   ⎡0  0  μ⎤        ⎡0  0  0⎤     ⎡λ  0     0   ⎤⎥\n",
       "⎢   ⎢       ⎥        ⎢       ⎥     ⎢             ⎥⎥\n",
       "⎢   ⎢0  0  0⎥        ⎢0  0  μ⎥     ⎢0  λ     0   ⎥⎥\n",
       "⎢   ⎢       ⎥        ⎢       ⎥     ⎢             ⎥⎥\n",
       "⎣   ⎣μ  0  0⎦        ⎣0  μ  0⎦     ⎣0  0  λ + 2⋅μ⎦⎦"
      ]
     },
     "execution_count": 46,
     "metadata": {},
     "output_type": "execute_result"
    }
   ],
   "source": [
    "C_isotropic = MutableDenseNDimArray.zeros(3, 3, 3, 3)\n",
    "\n",
    "C_isotropic_matrix = zeros(6)\n",
    "\n",
    "mu = Symbol('mu')\n",
    "la = Symbol('lambda')\n",
    "\n",
    "for s in range(6):\n",
    "    for t in range(s, 6):\n",
    "        if (s < 3 and t < 3):\n",
    "            if(t != s):\n",
    "                C_isotropic_matrix[s,t] = la\n",
    "                C_isotropic_matrix[t,s] = la\n",
    "            else:\n",
    "                C_isotropic_matrix[s,t] = 2*mu+la\n",
    "                C_isotropic_matrix[t,s] = 2*mu+la\n",
    "        elif (s == t):\n",
    "            C_isotropic_matrix[s,t] = mu\n",
    "            C_isotropic_matrix[t,s] = mu\n",
    "            \n",
    "for s in range(6):\n",
    "    for t in range(s, 6):\n",
    "        i,j = getCIndecies(s)\n",
    "        k,l = getCIndecies(t)\n",
    "        el = C_isotropic_matrix[s, t]\n",
    "        C_isotropic[i,j,k,l] = el\n",
    "        C_isotropic[i,j,l,k] = el\n",
    "        C_isotropic[j,i,k,l] = el\n",
    "        C_isotropic[j,i,l,k] = el\n",
    "        C_isotropic[k,l,i,j] = el\n",
    "        C_isotropic[k,l,j,i] = el\n",
    "        C_isotropic[l,k,i,j] = el\n",
    "        C_isotropic[l,k,j,i] = el\n",
    "\n",
    "                \n",
    "C_isotropic"
   ]
  },
  {
   "cell_type": "code",
   "execution_count": 47,
   "metadata": {},
   "outputs": [
    {
     "data": {
      "image/png": "[encoded data removed]",
      "text/latex": [
       "$$\\frac{R^{4} \\left(\\lambda + 2 \\mu\\right)}{\\left(R + \\alpha_{3}\\right)^{4}}$$"
      ],
      "text/plain": [
       " 4          \n",
       "R ⋅(λ + 2⋅μ)\n",
       "────────────\n",
       "         4  \n",
       " (R + α₃)   "
      ]
     },
     "execution_count": 47,
     "metadata": {},
     "output_type": "execute_result"
    }
   ],
   "source": [
    "def getCalpha(C, A, q, p, s, t):\n",
    "    res = S(0)\n",
    "    for i in range(3):\n",
    "        for j in range(3):        \n",
    "            for k in range(3):\n",
    "                for l in range(3):\n",
    "                    res += C[i,j,k,l]*A[q,i]*A[p,j]*A[s,k]*A[t,l]\n",
    "    return simplify(trigsimp(res))\n",
    "                    \n",
    "\n",
    "\n",
    "C_isotropic_alpha = MutableDenseNDimArray.zeros(3, 3, 3, 3)\n",
    "\n",
    "for i in range(3):\n",
    "    for j in range(3):        \n",
    "        for k in range(3):\n",
    "            for l in range(3):\n",
    "                c = getCalpha(C_isotropic, A_inv, i, j, k, l)\n",
    "                C_isotropic_alpha[i,j,k,l] = c\n",
    "\n",
    "C_isotropic_alpha[0,0,0,0]"
   ]
  },
  {
   "cell_type": "code",
   "execution_count": 48,
   "metadata": {},
   "outputs": [
    {
     "data": {
      "image/png": "[encoded data removed]",
      "text/latex": [
       "$$\\left[\\begin{matrix}\\frac{R^{4} \\left(\\lambda + 2 \\mu\\right)}{\\left(R + \\alpha_{3}\\right)^{4}} & \\frac{R^{2} \\lambda}{\\left(R + \\alpha_{3}\\right)^{2}} & \\frac{R^{2} \\lambda}{\\left(R + \\alpha_{3}\\right)^{2}} & 0 & 0 & 0\\\\\\frac{R^{2} \\lambda}{\\left(R + \\alpha_{3}\\right)^{2}} & \\lambda + 2 \\mu & \\lambda & 0 & 0 & 0\\\\\\frac{R^{2} \\lambda}{\\left(R + \\alpha_{3}\\right)^{2}} & \\lambda & \\lambda + 2 \\mu & 0 & 0 & 0\\\\0 & 0 & 0 & \\frac{R^{2} \\mu}{\\left(R + \\alpha_{3}\\right)^{2}} & 0 & 0\\\\0 & 0 & 0 & 0 & \\frac{R^{2} \\mu}{\\left(R + \\alpha_{3}\\right)^{2}} & 0\\\\0 & 0 & 0 & 0 & 0 & \\mu\\end{matrix}\\right]$$"
      ],
      "text/plain": [
       "⎡ 4                2          2                             ⎤\n",
       "⎢R ⋅(λ + 2⋅μ)     R ⋅λ       R ⋅λ                           ⎥\n",
       "⎢────────────  ─────────  ─────────      0          0      0⎥\n",
       "⎢         4            2          2                         ⎥\n",
       "⎢ (R + α₃)     (R + α₃)   (R + α₃)                          ⎥\n",
       "⎢                                                           ⎥\n",
       "⎢     2                                                     ⎥\n",
       "⎢    R ⋅λ                                                   ⎥\n",
       "⎢ ─────────     λ + 2⋅μ       λ          0          0      0⎥\n",
       "⎢         2                                                 ⎥\n",
       "⎢ (R + α₃)                                                  ⎥\n",
       "⎢                                                           ⎥\n",
       "⎢     2                                                     ⎥\n",
       "⎢    R ⋅λ                                                   ⎥\n",
       "⎢ ─────────        λ       λ + 2⋅μ       0          0      0⎥\n",
       "⎢         2                                                 ⎥\n",
       "⎢ (R + α₃)                                                  ⎥\n",
       "⎢                                                           ⎥\n",
       "⎢                                        2                  ⎥\n",
       "⎢                                       R ⋅μ                ⎥\n",
       "⎢     0            0          0      ─────────      0      0⎥\n",
       "⎢                                            2              ⎥\n",
       "⎢                                    (R + α₃)               ⎥\n",
       "⎢                                                           ⎥\n",
       "⎢                                                   2       ⎥\n",
       "⎢                                                  R ⋅μ     ⎥\n",
       "⎢     0            0          0          0      ─────────  0⎥\n",
       "⎢                                                       2   ⎥\n",
       "⎢                                               (R + α₃)    ⎥\n",
       "⎢                                                           ⎥\n",
       "⎣     0            0          0          0          0      μ⎦"
      ]
     },
     "execution_count": 48,
     "metadata": {},
     "output_type": "execute_result"
    }
   ],
   "source": [
    "C_isotropic_matrix_alpha = zeros(6)\n",
    "\n",
    "for s in range(6):\n",
    "    for t in range(6):\n",
    "        i,j = getCIndecies(s)\n",
    "        k,l = getCIndecies(t)\n",
    "        C_isotropic_matrix_alpha[s,t] = C_isotropic_alpha[i,j,k,l]\n",
    "        \n",
    "C_isotropic_matrix_alpha"
   ]
  },
  {
   "cell_type": "markdown",
   "metadata": {},
   "source": [
    "#### Orthotropic material"
   ]
  },
  {
   "cell_type": "code",
   "execution_count": 49,
   "metadata": {},
   "outputs": [
    {
     "data": {
      "image/png": "[encoded data removed]",
      "text/latex": [
       "$$\\left[\\begin{matrix}\\left[\\begin{matrix}C^{11} & 0 & 0\\\\0 & C^{12} & 0\\\\0 & 0 & C^{13}\\end{matrix}\\right] & \\left[\\begin{matrix}0 & C^{44} & 0\\\\C^{44} & 0 & 0\\\\0 & 0 & 0\\end{matrix}\\right] & \\left[\\begin{matrix}0 & 0 & C^{55}\\\\0 & 0 & 0\\\\C^{55} & 0 & 0\\end{matrix}\\right]\\\\\\left[\\begin{matrix}0 & C^{44} & 0\\\\C^{44} & 0 & 0\\\\0 & 0 & 0\\end{matrix}\\right] & \\left[\\begin{matrix}C^{12} & 0 & 0\\\\0 & C^{22} & 0\\\\0 & 0 & C^{23}\\end{matrix}\\right] & \\left[\\begin{matrix}0 & 0 & 0\\\\0 & 0 & C^{66}\\\\0 & C^{66} & 0\\end{matrix}\\right]\\\\\\left[\\begin{matrix}0 & 0 & C^{55}\\\\0 & 0 & 0\\\\C^{55} & 0 & 0\\end{matrix}\\right] & \\left[\\begin{matrix}0 & 0 & 0\\\\0 & 0 & C^{66}\\\\0 & C^{66} & 0\\end{matrix}\\right] & \\left[\\begin{matrix}C^{13} & 0 & 0\\\\0 & C^{23} & 0\\\\0 & 0 & C^{33}\\end{matrix}\\right]\\end{matrix}\\right]$$"
      ],
      "text/plain": [
       "⎡⎡C__{11}     0        0   ⎤     ⎡   0     C__{44}  0⎤        ⎡   0     0  C__\n",
       "⎢⎢                         ⎥     ⎢                   ⎥        ⎢               \n",
       "⎢⎢   0     C__{12}     0   ⎥     ⎢C__{44}     0     0⎥        ⎢   0     0     \n",
       "⎢⎢                         ⎥     ⎢                   ⎥        ⎢               \n",
       "⎢⎣   0        0     C__{13}⎦     ⎣   0        0     0⎦        ⎣C__{55}  0     \n",
       "⎢                                                                             \n",
       "⎢   ⎡   0     C__{44}  0⎤     ⎡C__{12}     0        0   ⎤     ⎡0     0        \n",
       "⎢   ⎢                   ⎥     ⎢                         ⎥     ⎢               \n",
       "⎢   ⎢C__{44}     0     0⎥     ⎢   0     C__{22}     0   ⎥     ⎢0     0     C__\n",
       "⎢   ⎢                   ⎥     ⎢                         ⎥     ⎢               \n",
       "⎢   ⎣   0        0     0⎦     ⎣   0        0     C__{23}⎦     ⎣0  C__{66}     \n",
       "⎢                                                                             \n",
       "⎢   ⎡   0     0  C__{55}⎤        ⎡0     0        0   ⎤     ⎡C__{13}     0     \n",
       "⎢   ⎢                   ⎥        ⎢                   ⎥     ⎢                  \n",
       "⎢   ⎢   0     0     0   ⎥        ⎢0     0     C__{66}⎥     ⎢   0     C__{23}  \n",
       "⎢   ⎢                   ⎥        ⎢                   ⎥     ⎢                  \n",
       "⎣   ⎣C__{55}  0     0   ⎦        ⎣0  C__{66}     0   ⎦     ⎣   0        0     \n",
       "\n",
       "{55}⎤   ⎤\n",
       "    ⎥   ⎥\n",
       "0   ⎥   ⎥\n",
       "    ⎥   ⎥\n",
       "0   ⎦   ⎥\n",
       "        ⎥\n",
       "0   ⎤   ⎥\n",
       "    ⎥   ⎥\n",
       "{66}⎥   ⎥\n",
       "    ⎥   ⎥\n",
       "0   ⎦   ⎥\n",
       "        ⎥\n",
       "   0   ⎤⎥\n",
       "       ⎥⎥\n",
       "   0   ⎥⎥\n",
       "       ⎥⎥\n",
       "C__{33}⎦⎦"
      ]
     },
     "execution_count": 49,
     "metadata": {},
     "output_type": "execute_result"
    }
   ],
   "source": [
    "C_orthotropic = MutableDenseNDimArray.zeros(3, 3, 3, 3)\n",
    "\n",
    "C_orthotropic_matrix = zeros(6)\n",
    "\n",
    "for s in range(6):\n",
    "    for t in range(s, 6):\n",
    "        elem_index = 'C^{{{}{}}}'.format(s+1, t+1)\n",
    "        el = Symbol(elem_index)\n",
    "        if ((s < 3 and t < 3) or t == s):\n",
    "            C_orthotropic_matrix[s,t] = el\n",
    "            C_orthotropic_matrix[t,s] = el\n",
    "            \n",
    "for s in range(6):\n",
    "    for t in range(s, 6):\n",
    "        i,j = getCIndecies(s)\n",
    "        k,l = getCIndecies(t)\n",
    "        el = C_orthotropic_matrix[s, t]\n",
    "        C_orthotropic[i,j,k,l] = el\n",
    "        C_orthotropic[i,j,l,k] = el\n",
    "        C_orthotropic[j,i,k,l] = el\n",
    "        C_orthotropic[j,i,l,k] = el\n",
    "        C_orthotropic[k,l,i,j] = el\n",
    "        C_orthotropic[k,l,j,i] = el\n",
    "        C_orthotropic[l,k,i,j] = el\n",
    "        C_orthotropic[l,k,j,i] = el\n",
    "\n",
    "                \n",
    "C_orthotropic"
   ]
  },
  {
   "cell_type": "markdown",
   "metadata": {},
   "source": [
    "#### Orthotropic material in shell coordinates"
   ]
  },
  {
   "cell_type": "code",
   "execution_count": 50,
   "metadata": {},
   "outputs": [
    {
     "data": {
      "image/png": "[encoded data removed]",
      "text/latex": [
       "$$\\frac{R^{4}}{\\left(R + \\alpha_{3}\\right)^{4}} \\left(C^{11} \\cos^{4}{\\left (\\frac{1}{R} \\left(\\frac{L}{2} - \\alpha_{1}\\right) \\right )} + 2 C^{13} \\sin^{2}{\\left (\\frac{1}{R} \\left(\\frac{L}{2} - \\alpha_{1}\\right) \\right )} \\cos^{2}{\\left (\\frac{1}{R} \\left(\\frac{L}{2} - \\alpha_{1}\\right) \\right )} + C^{33} \\sin^{4}{\\left (\\frac{1}{R} \\left(\\frac{L}{2} - \\alpha_{1}\\right) \\right )} + 4 C^{55} \\sin^{2}{\\left (\\frac{1}{R} \\left(\\frac{L}{2} - \\alpha_{1}\\right) \\right )} \\cos^{2}{\\left (\\frac{1}{R} \\left(\\frac{L}{2} - \\alpha_{1}\\right) \\right )}\\right)$$"
      ],
      "text/plain": [
       "   ⎛            ⎛L     ⎞                 ⎛L     ⎞     ⎛L     ⎞               ⎛\n",
       "   ⎜            ⎜─ - α₁⎟                 ⎜─ - α₁⎟     ⎜─ - α₁⎟               ⎜\n",
       " 4 ⎜           4⎜2     ⎟                2⎜2     ⎟    2⎜2     ⎟              4⎜\n",
       "R ⋅⎜C__{11}⋅cos ⎜──────⎟ + 2⋅C__{13}⋅sin ⎜──────⎟⋅cos ⎜──────⎟ + C__{33}⋅sin ⎜\n",
       "   ⎝            ⎝  R   ⎠                 ⎝  R   ⎠     ⎝  R   ⎠               ⎝\n",
       "──────────────────────────────────────────────────────────────────────────────\n",
       "                                                                 4            \n",
       "                                                         (R + α₃)             \n",
       "\n",
       "L     ⎞                 ⎛L     ⎞     ⎛L     ⎞⎞\n",
       "─ - α₁⎟                 ⎜─ - α₁⎟     ⎜─ - α₁⎟⎟\n",
       "2     ⎟                2⎜2     ⎟    2⎜2     ⎟⎟\n",
       "──────⎟ + 4⋅C__{55}⋅sin ⎜──────⎟⋅cos ⎜──────⎟⎟\n",
       "  R   ⎠                 ⎝  R   ⎠     ⎝  R   ⎠⎠\n",
       "──────────────────────────────────────────────\n",
       "                                              \n",
       "                                              "
      ]
     },
     "execution_count": 50,
     "metadata": {},
     "output_type": "execute_result"
    }
   ],
   "source": [
    "def getCalpha(C, A, q, p, s, t):\n",
    "    res = S(0)\n",
    "    for i in range(3):\n",
    "        for j in range(3):        \n",
    "            for k in range(3):\n",
    "                for l in range(3):\n",
    "                    res += C[i,j,k,l]*A[q,i]*A[p,j]*A[s,k]*A[t,l]\n",
    "    return simplify(trigsimp(res))\n",
    "                    \n",
    "\n",
    "\n",
    "C_orthotropic_alpha = MutableDenseNDimArray.zeros(3, 3, 3, 3)\n",
    "\n",
    "for i in range(3):\n",
    "    for j in range(3):        \n",
    "        for k in range(3):\n",
    "            for l in range(3):\n",
    "                c = getCalpha(C_orthotropic, A_inv, i, j, k, l)\n",
    "                C_orthotropic_alpha[i,j,k,l] = c\n",
    "\n",
    "C_orthotropic_alpha[0,0,0,0]"
   ]
  },
  {
   "cell_type": "code",
   "execution_count": 51,
   "metadata": {},
   "outputs": [
    {
     "data": {
      "image/png": "[encoded data removed]",
      "text/latex": [
       "$$\\left[\\begin{matrix}\\frac{R^{4}}{\\left(R + \\alpha_{3}\\right)^{4}} \\left(C^{11} \\cos^{4}{\\left (\\frac{1}{R} \\left(\\frac{L}{2} - \\alpha_{1}\\right) \\right )} + 2 C^{13} \\sin^{2}{\\left (\\frac{1}{R} \\left(\\frac{L}{2} - \\alpha_{1}\\right) \\right )} \\cos^{2}{\\left (\\frac{1}{R} \\left(\\frac{L}{2} - \\alpha_{1}\\right) \\right )} + C^{33} \\sin^{4}{\\left (\\frac{1}{R} \\left(\\frac{L}{2} - \\alpha_{1}\\right) \\right )} + 4 C^{55} \\sin^{2}{\\left (\\frac{1}{R} \\left(\\frac{L}{2} - \\alpha_{1}\\right) \\right )} \\cos^{2}{\\left (\\frac{1}{R} \\left(\\frac{L}{2} - \\alpha_{1}\\right) \\right )}\\right) & \\frac{R^{2}}{\\left(R + \\alpha_{3}\\right)^{2}} \\left(C^{12} \\cos^{2}{\\left (\\frac{1}{R} \\left(\\frac{L}{2} - \\alpha_{1}\\right) \\right )} + C^{23} \\sin^{2}{\\left (\\frac{1}{R} \\left(\\frac{L}{2} - \\alpha_{1}\\right) \\right )}\\right) & \\frac{R^{2}}{\\left(R + \\alpha_{3}\\right)^{2}} \\left(C^{11} \\sin^{2}{\\left (\\frac{1}{R} \\left(\\frac{L}{2} - \\alpha_{1}\\right) \\right )} \\cos^{2}{\\left (\\frac{1}{R} \\left(\\frac{L}{2} - \\alpha_{1}\\right) \\right )} + C^{13} \\sin^{4}{\\left (\\frac{1}{R} \\left(\\frac{L}{2} - \\alpha_{1}\\right) \\right )} + C^{13} \\cos^{4}{\\left (\\frac{1}{R} \\left(\\frac{L}{2} - \\alpha_{1}\\right) \\right )} + C^{33} \\sin^{2}{\\left (\\frac{1}{R} \\left(\\frac{L}{2} - \\alpha_{1}\\right) \\right )} \\cos^{2}{\\left (\\frac{1}{R} \\left(\\frac{L}{2} - \\alpha_{1}\\right) \\right )} - 4 C^{55} \\sin^{2}{\\left (\\frac{1}{R} \\left(\\frac{L}{2} - \\alpha_{1}\\right) \\right )} \\cos^{2}{\\left (\\frac{1}{R} \\left(\\frac{L}{2} - \\alpha_{1}\\right) \\right )}\\right) & 0 & \\frac{R^{3}}{8 \\left(R + \\alpha_{3}\\right)^{3}} \\left(- 2 C^{11} \\sin{\\left (\\frac{1}{R} \\left(L - 2 \\alpha_{1}\\right) \\right )} - C^{11} \\sin{\\left (\\frac{2}{R} \\left(L - 2 \\alpha_{1}\\right) \\right )} + 2 C^{13} \\sin{\\left (\\frac{2}{R} \\left(L - 2 \\alpha_{1}\\right) \\right )} + 2 C^{33} \\sin{\\left (\\frac{1}{R} \\left(L - 2 \\alpha_{1}\\right) \\right )} - C^{33} \\sin{\\left (\\frac{2}{R} \\left(L - 2 \\alpha_{1}\\right) \\right )} + 4 C^{55} \\sin{\\left (\\frac{2}{R} \\left(L - 2 \\alpha_{1}\\right) \\right )}\\right) & 0\\\\\\frac{R^{2}}{\\left(R + \\alpha_{3}\\right)^{2}} \\left(C^{12} \\cos^{2}{\\left (\\frac{1}{R} \\left(\\frac{L}{2} - \\alpha_{1}\\right) \\right )} + C^{23} \\sin^{2}{\\left (\\frac{1}{R} \\left(\\frac{L}{2} - \\alpha_{1}\\right) \\right )}\\right) & C^{22} & C^{12} \\sin^{2}{\\left (\\frac{1}{R} \\left(\\frac{L}{2} - \\alpha_{1}\\right) \\right )} + C^{23} \\cos^{2}{\\left (\\frac{1}{R} \\left(\\frac{L}{2} - \\alpha_{1}\\right) \\right )} & 0 & - \\frac{R \\sin{\\left (\\frac{1}{R} \\left(L - 2 \\alpha_{1}\\right) \\right )}}{2 R + 2 \\alpha_{3}} \\left(C^{12} - C^{23}\\right) & 0\\\\\\frac{R^{2}}{\\left(R + \\alpha_{3}\\right)^{2}} \\left(C^{11} \\sin^{2}{\\left (\\frac{1}{R} \\left(\\frac{L}{2} - \\alpha_{1}\\right) \\right )} \\cos^{2}{\\left (\\frac{1}{R} \\left(\\frac{L}{2} - \\alpha_{1}\\right) \\right )} + C^{13} \\sin^{4}{\\left (\\frac{1}{R} \\left(\\frac{L}{2} - \\alpha_{1}\\right) \\right )} + C^{13} \\cos^{4}{\\left (\\frac{1}{R} \\left(\\frac{L}{2} - \\alpha_{1}\\right) \\right )} + C^{33} \\sin^{2}{\\left (\\frac{1}{R} \\left(\\frac{L}{2} - \\alpha_{1}\\right) \\right )} \\cos^{2}{\\left (\\frac{1}{R} \\left(\\frac{L}{2} - \\alpha_{1}\\right) \\right )} - 4 C^{55} \\sin^{2}{\\left (\\frac{1}{R} \\left(\\frac{L}{2} - \\alpha_{1}\\right) \\right )} \\cos^{2}{\\left (\\frac{1}{R} \\left(\\frac{L}{2} - \\alpha_{1}\\right) \\right )}\\right) & C^{12} \\sin^{2}{\\left (\\frac{1}{R} \\left(\\frac{L}{2} - \\alpha_{1}\\right) \\right )} + C^{23} \\cos^{2}{\\left (\\frac{1}{R} \\left(\\frac{L}{2} - \\alpha_{1}\\right) \\right )} & C^{11} \\sin^{4}{\\left (\\frac{1}{R} \\left(\\frac{L}{2} - \\alpha_{1}\\right) \\right )} + 2 C^{13} \\sin^{2}{\\left (\\frac{1}{R} \\left(\\frac{L}{2} - \\alpha_{1}\\right) \\right )} \\cos^{2}{\\left (\\frac{1}{R} \\left(\\frac{L}{2} - \\alpha_{1}\\right) \\right )} + C^{33} \\cos^{4}{\\left (\\frac{1}{R} \\left(\\frac{L}{2} - \\alpha_{1}\\right) \\right )} + 4 C^{55} \\sin^{2}{\\left (\\frac{1}{R} \\left(\\frac{L}{2} - \\alpha_{1}\\right) \\right )} \\cos^{2}{\\left (\\frac{1}{R} \\left(\\frac{L}{2} - \\alpha_{1}\\right) \\right )} & 0 & \\frac{R}{8 \\left(R + \\alpha_{3}\\right)} \\left(- 2 C^{11} \\sin{\\left (\\frac{1}{R} \\left(L - 2 \\alpha_{1}\\right) \\right )} + C^{11} \\sin{\\left (\\frac{2}{R} \\left(L - 2 \\alpha_{1}\\right) \\right )} - 2 C^{13} \\sin{\\left (\\frac{2}{R} \\left(L - 2 \\alpha_{1}\\right) \\right )} + 2 C^{33} \\sin{\\left (\\frac{1}{R} \\left(L - 2 \\alpha_{1}\\right) \\right )} + C^{33} \\sin{\\left (\\frac{2}{R} \\left(L - 2 \\alpha_{1}\\right) \\right )} - 4 C^{55} \\sin{\\left (\\frac{2}{R} \\left(L - 2 \\alpha_{1}\\right) \\right )}\\right) & 0\\\\0 & 0 & 0 & \\frac{R^{2}}{\\left(R + \\alpha_{3}\\right)^{2}} \\left(C^{44} \\cos^{2}{\\left (\\frac{1}{R} \\left(\\frac{L}{2} - \\alpha_{1}\\right) \\right )} + C^{66} \\sin^{2}{\\left (\\frac{1}{R} \\left(\\frac{L}{2} - \\alpha_{1}\\right) \\right )}\\right) & 0 & - \\frac{R \\sin{\\left (\\frac{1}{R} \\left(L - 2 \\alpha_{1}\\right) \\right )}}{2 R + 2 \\alpha_{3}} \\left(C^{44} - C^{66}\\right)\\\\\\frac{R^{3}}{8 \\left(R + \\alpha_{3}\\right)^{3}} \\left(- 2 C^{11} \\sin{\\left (\\frac{1}{R} \\left(L - 2 \\alpha_{1}\\right) \\right )} - C^{11} \\sin{\\left (\\frac{2}{R} \\left(L - 2 \\alpha_{1}\\right) \\right )} + 2 C^{13} \\sin{\\left (\\frac{2}{R} \\left(L - 2 \\alpha_{1}\\right) \\right )} + 2 C^{33} \\sin{\\left (\\frac{1}{R} \\left(L - 2 \\alpha_{1}\\right) \\right )} - C^{33} \\sin{\\left (\\frac{2}{R} \\left(L - 2 \\alpha_{1}\\right) \\right )} + 4 C^{55} \\sin{\\left (\\frac{2}{R} \\left(L - 2 \\alpha_{1}\\right) \\right )}\\right) & - \\frac{R \\sin{\\left (\\frac{1}{R} \\left(L - 2 \\alpha_{1}\\right) \\right )}}{2 R + 2 \\alpha_{3}} \\left(C^{12} - C^{23}\\right) & \\frac{R}{8 \\left(R + \\alpha_{3}\\right)} \\left(- 2 C^{11} \\sin{\\left (\\frac{1}{R} \\left(L - 2 \\alpha_{1}\\right) \\right )} + C^{11} \\sin{\\left (\\frac{2}{R} \\left(L - 2 \\alpha_{1}\\right) \\right )} - 2 C^{13} \\sin{\\left (\\frac{2}{R} \\left(L - 2 \\alpha_{1}\\right) \\right )} + 2 C^{33} \\sin{\\left (\\frac{1}{R} \\left(L - 2 \\alpha_{1}\\right) \\right )} + C^{33} \\sin{\\left (\\frac{2}{R} \\left(L - 2 \\alpha_{1}\\right) \\right )} - 4 C^{55} \\sin{\\left (\\frac{2}{R} \\left(L - 2 \\alpha_{1}\\right) \\right )}\\right) & 0 & \\frac{R^{2}}{\\left(R + \\alpha_{3}\\right)^{2}} \\left(C^{11} \\sin^{2}{\\left (\\frac{1}{R} \\left(\\frac{L}{2} - \\alpha_{1}\\right) \\right )} \\cos^{2}{\\left (\\frac{1}{R} \\left(\\frac{L}{2} - \\alpha_{1}\\right) \\right )} - 2 C^{13} \\sin^{2}{\\left (\\frac{1}{R} \\left(\\frac{L}{2} - \\alpha_{1}\\right) \\right )} \\cos^{2}{\\left (\\frac{1}{R} \\left(\\frac{L}{2} - \\alpha_{1}\\right) \\right )} + C^{33} \\sin^{2}{\\left (\\frac{1}{R} \\left(\\frac{L}{2} - \\alpha_{1}\\right) \\right )} \\cos^{2}{\\left (\\frac{1}{R} \\left(\\frac{L}{2} - \\alpha_{1}\\right) \\right )} + C^{55} \\sin^{4}{\\left (\\frac{1}{R} \\left(\\frac{L}{2} - \\alpha_{1}\\right) \\right )} - 2 C^{55} \\sin^{2}{\\left (\\frac{1}{R} \\left(\\frac{L}{2} - \\alpha_{1}\\right) \\right )} \\cos^{2}{\\left (\\frac{1}{R} \\left(\\frac{L}{2} - \\alpha_{1}\\right) \\right )} + C^{55} \\cos^{4}{\\left (\\frac{1}{R} \\left(\\frac{L}{2} - \\alpha_{1}\\right) \\right )}\\right) & 0\\\\0 & 0 & 0 & - \\frac{R \\sin{\\left (\\frac{1}{R} \\left(L - 2 \\alpha_{1}\\right) \\right )}}{2 R + 2 \\alpha_{3}} \\left(C^{44} - C^{66}\\right) & 0 & C^{44} \\sin^{2}{\\left (\\frac{1}{R} \\left(\\frac{L}{2} - \\alpha_{1}\\right) \\right )} + C^{66} \\cos^{2}{\\left (\\frac{1}{R} \\left(\\frac{L}{2} - \\alpha_{1}\\right) \\right )}\\end{matrix}\\right]$$"
      ],
      "text/plain": [
       "⎡                           ⎛            ⎛L     ⎞                 ⎛L     ⎞    \n",
       "⎢                           ⎜            ⎜─ - α₁⎟                 ⎜─ - α₁⎟    \n",
       "⎢                         4 ⎜           4⎜2     ⎟                2⎜2     ⎟    \n",
       "⎢                        R ⋅⎜C__{11}⋅cos ⎜──────⎟ + 2⋅C__{13}⋅sin ⎜──────⎟⋅cos\n",
       "⎢                           ⎝            ⎝  R   ⎠                 ⎝  R   ⎠    \n",
       "⎢                        ─────────────────────────────────────────────────────\n",
       "⎢                                                                             \n",
       "⎢                                                                             \n",
       "⎢                                                                             \n",
       "⎢                                                                 ⎛           \n",
       "⎢                                                                 ⎜           \n",
       "⎢                                                               2 ⎜           \n",
       "⎢                                                              R ⋅⎜C__{12}⋅cos\n",
       "⎢                                                                 ⎝           \n",
       "⎢                                                              ───────────────\n",
       "⎢                                                                             \n",
       "⎢                                                                             \n",
       "⎢                                                                             \n",
       "⎢          ⎛            ⎛L     ⎞     ⎛L     ⎞               ⎛L     ⎞          \n",
       "⎢          ⎜            ⎜─ - α₁⎟     ⎜─ - α₁⎟               ⎜─ - α₁⎟          \n",
       "⎢        2 ⎜           2⎜2     ⎟    2⎜2     ⎟              4⎜2     ⎟          \n",
       "⎢       R ⋅⎜C__{11}⋅sin ⎜──────⎟⋅cos ⎜──────⎟ + C__{13}⋅sin ⎜──────⎟ + C__{13}\n",
       "⎢          ⎝            ⎝  R   ⎠     ⎝  R   ⎠               ⎝  R   ⎠          \n",
       "⎢       ──────────────────────────────────────────────────────────────────────\n",
       "⎢                                                                             \n",
       "⎢                                                                             \n",
       "⎢                                                                             \n",
       "⎢                                                                             \n",
       "⎢                                                                             \n",
       "⎢                                                                             \n",
       "⎢                                                                             \n",
       "⎢                                                                             \n",
       "⎢                                                                             \n",
       "⎢                                                                             \n",
       "⎢                                                                             \n",
       "⎢                                                                             \n",
       "⎢                                                                             \n",
       "⎢                                                                             \n",
       "⎢ 3 ⎛               ⎛L - 2⋅α₁⎞              ⎛2⋅(L - 2⋅α₁)⎞                ⎛2⋅(\n",
       "⎢R ⋅⎜- 2⋅C__{11}⋅sin⎜────────⎟ - C__{11}⋅sin⎜────────────⎟ + 2⋅C__{13}⋅sin⎜───\n",
       "⎢   ⎝               ⎝   R    ⎠              ⎝     R      ⎠                ⎝   \n",
       "⎢─────────────────────────────────────────────────────────────────────────────\n",
       "⎢                                                                             \n",
       "⎢                                                                             \n",
       "⎢                                                                             \n",
       "⎢                                                                             \n",
       "⎢                                                                             \n",
       "⎢                                                                             \n",
       "⎢                                                                             \n",
       "⎣                                                                             \n",
       "\n",
       " ⎛L     ⎞               ⎛L     ⎞                 ⎛L     ⎞     ⎛L     ⎞⎞       \n",
       " ⎜─ - α₁⎟               ⎜─ - α₁⎟                 ⎜─ - α₁⎟     ⎜─ - α₁⎟⎟       \n",
       "2⎜2     ⎟              4⎜2     ⎟                2⎜2     ⎟    2⎜2     ⎟⎟       \n",
       " ⎜──────⎟ + C__{33}⋅sin ⎜──────⎟ + 4⋅C__{55}⋅sin ⎜──────⎟⋅cos ⎜──────⎟⎟       \n",
       " ⎝  R   ⎠               ⎝  R   ⎠                 ⎝  R   ⎠     ⎝  R   ⎠⎠       \n",
       "───────────────────────────────────────────────────────────────────────       \n",
       "            4                                                                 \n",
       "    (R + α₃)                                                                  \n",
       "                                                                              \n",
       " ⎛L     ⎞               ⎛L     ⎞⎞                                             \n",
       " ⎜─ - α₁⎟               ⎜─ - α₁⎟⎟                                             \n",
       "2⎜2     ⎟              2⎜2     ⎟⎟                                             \n",
       " ⎜──────⎟ + C__{23}⋅sin ⎜──────⎟⎟                                             \n",
       " ⎝  R   ⎠               ⎝  R   ⎠⎠                                             \n",
       "─────────────────────────────────                                             \n",
       "            2                                                                 \n",
       "    (R + α₃)                                                                  \n",
       "                                                                              \n",
       "     ⎛L     ⎞               ⎛L     ⎞     ⎛L     ⎞                 ⎛L     ⎞    \n",
       "     ⎜─ - α₁⎟               ⎜─ - α₁⎟     ⎜─ - α₁⎟                 ⎜─ - α₁⎟    \n",
       "    4⎜2     ⎟              2⎜2     ⎟    2⎜2     ⎟                2⎜2     ⎟    \n",
       "⋅cos ⎜──────⎟ + C__{33}⋅sin ⎜──────⎟⋅cos ⎜──────⎟ - 4⋅C__{55}⋅sin ⎜──────⎟⋅cos\n",
       "     ⎝  R   ⎠               ⎝  R   ⎠     ⎝  R   ⎠                 ⎝  R   ⎠    \n",
       "──────────────────────────────────────────────────────────────────────────────\n",
       "            2                                                                 \n",
       "    (R + α₃)                                                                  \n",
       "                                                                              \n",
       "                                                                              \n",
       "                                                                              \n",
       "                                                                              \n",
       "                                                                              \n",
       "                                                                              \n",
       "        0                                                                     \n",
       "                                                                              \n",
       "                                                                              \n",
       "                                                                              \n",
       "                                                                              \n",
       "                                                                              \n",
       "L - 2⋅α₁)⎞                ⎛L - 2⋅α₁⎞              ⎛2⋅(L - 2⋅α₁)⎞              \n",
       "─────────⎟ + 2⋅C__{33}⋅sin⎜────────⎟ - C__{33}⋅sin⎜────────────⎟ + 4⋅C__{55}⋅s\n",
       "  R      ⎠                ⎝   R    ⎠              ⎝     R      ⎠              \n",
       "──────────────────────────────────────────────────────────────────────────────\n",
       "             3                                                                \n",
       "   8⋅(R + α₃)                                                                 \n",
       "                                                                              \n",
       "                                                                              \n",
       "                                                                              \n",
       "                                                                              \n",
       "        0                                                                     \n",
       "                                                                              \n",
       "\n",
       "                      ⎛            ⎛L     ⎞               ⎛L     ⎞⎞           \n",
       "                      ⎜            ⎜─ - α₁⎟               ⎜─ - α₁⎟⎟           \n",
       "                    2 ⎜           2⎜2     ⎟              2⎜2     ⎟⎟         2 \n",
       "                   R ⋅⎜C__{12}⋅cos ⎜──────⎟ + C__{23}⋅sin ⎜──────⎟⎟        R ⋅\n",
       "                      ⎝            ⎝  R   ⎠               ⎝  R   ⎠⎠           \n",
       "                   ────────────────────────────────────────────────        ───\n",
       "                                              2                               \n",
       "                                      (R + α₃)                                \n",
       "                                                                              \n",
       "                                                                              \n",
       "                                                                              \n",
       "                                                                              \n",
       "                                                                              \n",
       "                                                                              \n",
       "                                       C__{22}                                \n",
       "                                                                              \n",
       "                                                                              \n",
       "                                                                              \n",
       " ⎛L     ⎞⎞                                                                    \n",
       " ⎜─ - α₁⎟⎟                                                                    \n",
       "2⎜2     ⎟⎟                       ⎛L     ⎞               ⎛L     ⎞              \n",
       " ⎜──────⎟⎟                       ⎜─ - α₁⎟               ⎜─ - α₁⎟              \n",
       " ⎝  R   ⎠⎠                      2⎜2     ⎟              2⎜2     ⎟              \n",
       "──────────           C__{12}⋅sin ⎜──────⎟ + C__{23}⋅cos ⎜──────⎟              \n",
       "                                 ⎝  R   ⎠               ⎝  R   ⎠              \n",
       "                                                                              \n",
       "                                                                              \n",
       "                                                                              \n",
       "                                                                              \n",
       "                                                                              \n",
       "                                                                              \n",
       "                                                                              \n",
       "                                          0                                   \n",
       "                                                                              \n",
       "                                                                              \n",
       "                                                                              \n",
       "                                                                              \n",
       "                                                                              \n",
       "  ⎛2⋅(L - 2⋅α₁)⎞⎞                                 ⎛L - 2⋅α₁⎞           ⎛      \n",
       "in⎜────────────⎟⎟       -R⋅(C__{12} - C__{23})⋅sin⎜────────⎟         R⋅⎜- 2⋅C_\n",
       "  ⎝     R      ⎠⎠                                 ⎝   R    ⎠           ⎝      \n",
       "─────────────────       ─────────────────────────────────────        ─────────\n",
       "                                      2⋅R + 2⋅α₃                              \n",
       "                                                                              \n",
       "                                                                              \n",
       "                                                                              \n",
       "                                                                              \n",
       "                                                                              \n",
       "                                          0                                   \n",
       "                                                                              \n",
       "\n",
       "⎛            ⎛L     ⎞     ⎛L     ⎞               ⎛L     ⎞               ⎛L    \n",
       "⎜            ⎜─ - α₁⎟     ⎜─ - α₁⎟               ⎜─ - α₁⎟               ⎜─ - α\n",
       "⎜           2⎜2     ⎟    2⎜2     ⎟              4⎜2     ⎟              4⎜2    \n",
       "⎜C__{11}⋅sin ⎜──────⎟⋅cos ⎜──────⎟ + C__{13}⋅sin ⎜──────⎟ + C__{13}⋅cos ⎜─────\n",
       "⎝            ⎝  R   ⎠     ⎝  R   ⎠               ⎝  R   ⎠               ⎝  R  \n",
       "──────────────────────────────────────────────────────────────────────────────\n",
       "                                                                              \n",
       "                                                                       (R + α₃\n",
       "                                                                              \n",
       "                                                                              \n",
       "                                                                              \n",
       "                                                                   ⎛L     ⎞   \n",
       "                                                                   ⎜─ - α₁⎟   \n",
       "                                                                  2⎜2     ⎟   \n",
       "                                                       C__{12}⋅sin ⎜──────⎟ + \n",
       "                                                                   ⎝  R   ⎠   \n",
       "                                                                              \n",
       "                                                                              \n",
       "                                                                              \n",
       "                                                                              \n",
       "                             ⎛L     ⎞                 ⎛L     ⎞     ⎛L     ⎞   \n",
       "                             ⎜─ - α₁⎟                 ⎜─ - α₁⎟     ⎜─ - α₁⎟   \n",
       "                            4⎜2     ⎟                2⎜2     ⎟    2⎜2     ⎟   \n",
       "                 C__{11}⋅sin ⎜──────⎟ + 2⋅C__{13}⋅sin ⎜──────⎟⋅cos ⎜──────⎟ + \n",
       "                             ⎝  R   ⎠                 ⎝  R   ⎠     ⎝  R   ⎠   \n",
       "                                                                              \n",
       "                                                                              \n",
       "                                                                              \n",
       "                                                                              \n",
       "                                                                              \n",
       "                                                                              \n",
       "                                                                              \n",
       "                                                                            0 \n",
       "                                                                              \n",
       "                                                                              \n",
       "                                                                              \n",
       "                                                                              \n",
       "                                                                              \n",
       "         ⎛L - 2⋅α₁⎞              ⎛2⋅(L - 2⋅α₁)⎞                ⎛2⋅(L - 2⋅α₁)⎞ \n",
       "_{11}⋅sin⎜────────⎟ + C__{11}⋅sin⎜────────────⎟ - 2⋅C__{13}⋅sin⎜────────────⎟ \n",
       "         ⎝   R    ⎠              ⎝     R      ⎠                ⎝     R      ⎠ \n",
       "──────────────────────────────────────────────────────────────────────────────\n",
       "                                                                        8⋅(R +\n",
       "                                                                              \n",
       "                                                                              \n",
       "                                                                              \n",
       "                                                                              \n",
       "                                                                              \n",
       "                                                                            0 \n",
       "                                                                              \n",
       "\n",
       " ⎞               ⎛L     ⎞     ⎛L     ⎞                 ⎛L     ⎞     ⎛L     ⎞⎞ \n",
       "₁⎟               ⎜─ - α₁⎟     ⎜─ - α₁⎟                 ⎜─ - α₁⎟     ⎜─ - α₁⎟⎟ \n",
       " ⎟              2⎜2     ⎟    2⎜2     ⎟                2⎜2     ⎟    2⎜2     ⎟⎟ \n",
       "─⎟ + C__{33}⋅sin ⎜──────⎟⋅cos ⎜──────⎟ - 4⋅C__{55}⋅sin ⎜──────⎟⋅cos ⎜──────⎟⎟ \n",
       " ⎠               ⎝  R   ⎠     ⎝  R   ⎠                 ⎝  R   ⎠     ⎝  R   ⎠⎠ \n",
       "───────────────────────────────────────────────────────────────────────────── \n",
       " 2                                                                            \n",
       ")                                                                             \n",
       "                                                                              \n",
       "                                                                              \n",
       "                                                                              \n",
       "            ⎛L     ⎞                                                          \n",
       "            ⎜─ - α₁⎟                                                          \n",
       "           2⎜2     ⎟                                                          \n",
       "C__{23}⋅cos ⎜──────⎟                                                          \n",
       "            ⎝  R   ⎠                                                          \n",
       "                                                                              \n",
       "                                                                              \n",
       "                                                                              \n",
       "                                                                              \n",
       "            ⎛L     ⎞                 ⎛L     ⎞     ⎛L     ⎞                    \n",
       "            ⎜─ - α₁⎟                 ⎜─ - α₁⎟     ⎜─ - α₁⎟                    \n",
       "           4⎜2     ⎟                2⎜2     ⎟    2⎜2     ⎟                    \n",
       "C__{33}⋅cos ⎜──────⎟ + 4⋅C__{55}⋅sin ⎜──────⎟⋅cos ⎜──────⎟                    \n",
       "            ⎝  R   ⎠                 ⎝  R   ⎠     ⎝  R   ⎠                    \n",
       "                                                                              \n",
       "                                                                              \n",
       "                                                                              \n",
       "                                                                              \n",
       "                                                                              \n",
       "                                                                              \n",
       "                                                                              \n",
       "                                                                              \n",
       "                                                                              \n",
       "                                                                              \n",
       "                                                                              \n",
       "                                                                              \n",
       "                                                                              \n",
       "               ⎛L - 2⋅α₁⎞              ⎛2⋅(L - 2⋅α₁)⎞                ⎛2⋅(L - 2\n",
       "+ 2⋅C__{33}⋅sin⎜────────⎟ + C__{33}⋅sin⎜────────────⎟ - 4⋅C__{55}⋅sin⎜────────\n",
       "               ⎝   R    ⎠              ⎝     R      ⎠                ⎝     R  \n",
       "──────────────────────────────────────────────────────────────────────────────\n",
       " α₃)                                                                          \n",
       "                                                                              \n",
       "                                                                              \n",
       "                                                                              \n",
       "                                                                              \n",
       "                                                                              \n",
       "                                                                              \n",
       "                                                                              \n",
       "\n",
       "                                                                              \n",
       "                                                                              \n",
       "                                                                       3 ⎛    \n",
       "                                                                      R ⋅⎜- 2⋅\n",
       "                                                                         ⎝    \n",
       "                               0                                      ────────\n",
       "                                                                              \n",
       "                                                                              \n",
       "                                                                              \n",
       "                                                                              \n",
       "                                                                              \n",
       "                                                                              \n",
       "                                                                              \n",
       "                                                                              \n",
       "                               0                                              \n",
       "                                                                              \n",
       "                                                                              \n",
       "                                                                              \n",
       "                                                                              \n",
       "                                                                              \n",
       "                                                                        ⎛     \n",
       "                                                                      R⋅⎜- 2⋅C\n",
       "                                                                        ⎝     \n",
       "                               0                                      ────────\n",
       "                                                                              \n",
       "                                                                              \n",
       "                                                                              \n",
       "           ⎛            ⎛L     ⎞               ⎛L     ⎞⎞                      \n",
       "           ⎜            ⎜─ - α₁⎟               ⎜─ - α₁⎟⎟                      \n",
       "         2 ⎜           2⎜2     ⎟              2⎜2     ⎟⎟                      \n",
       "        R ⋅⎜C__{44}⋅cos ⎜──────⎟ + C__{66}⋅sin ⎜──────⎟⎟                      \n",
       "           ⎝            ⎝  R   ⎠               ⎝  R   ⎠⎠                      \n",
       "        ────────────────────────────────────────────────                      \n",
       "                                   2                                          \n",
       "                           (R + α₃)                                           \n",
       "                                                                              \n",
       "                                                             ⎛            ⎛L  \n",
       "                                                             ⎜            ⎜─ -\n",
       "⋅α₁)⎞⎞                                                     2 ⎜           2⎜2  \n",
       "────⎟⎟                                                    R ⋅⎜C__{11}⋅sin ⎜───\n",
       "    ⎠⎠                                                       ⎝            ⎝  R\n",
       "──────                         0                          ────────────────────\n",
       "                                                                              \n",
       "                                                                              \n",
       "                                                                              \n",
       "                                       ⎛L - 2⋅α₁⎞                             \n",
       "             -R⋅(C__{44} - C__{66})⋅sin⎜────────⎟                             \n",
       "                                       ⎝   R    ⎠                             \n",
       "             ─────────────────────────────────────                            \n",
       "                           2⋅R + 2⋅α₃                                         \n",
       "\n",
       "                                                                              \n",
       "                                                                              \n",
       "           ⎛L - 2⋅α₁⎞              ⎛2⋅(L - 2⋅α₁)⎞                ⎛2⋅(L - 2⋅α₁)\n",
       "C__{11}⋅sin⎜────────⎟ - C__{11}⋅sin⎜────────────⎟ + 2⋅C__{13}⋅sin⎜────────────\n",
       "           ⎝   R    ⎠              ⎝     R      ⎠                ⎝     R      \n",
       "──────────────────────────────────────────────────────────────────────────────\n",
       "                                                                              \n",
       "                                                                        8⋅(R +\n",
       "                                                                              \n",
       "                                                                              \n",
       "                                                                              \n",
       "                                                                              \n",
       "                                                           -R⋅(C__{12} - C__{2\n",
       "                                                                              \n",
       "                                                           ───────────────────\n",
       "                                                                         2⋅R +\n",
       "                                                                              \n",
       "                                                                              \n",
       "                                                                              \n",
       "                                                                              \n",
       "          ⎛L - 2⋅α₁⎞              ⎛2⋅(L - 2⋅α₁)⎞                ⎛2⋅(L - 2⋅α₁)⎞\n",
       "__{11}⋅sin⎜────────⎟ + C__{11}⋅sin⎜────────────⎟ - 2⋅C__{13}⋅sin⎜────────────⎟\n",
       "          ⎝   R    ⎠              ⎝     R      ⎠                ⎝     R      ⎠\n",
       "──────────────────────────────────────────────────────────────────────────────\n",
       "                                                                         8⋅(R \n",
       "                                                                              \n",
       "                                                                              \n",
       "                                                                              \n",
       "                                                                              \n",
       "                                                                              \n",
       "                                                                              \n",
       "                                                                              \n",
       "                                                                             0\n",
       "                                                                              \n",
       "                                                                              \n",
       "                                                                              \n",
       "   ⎞     ⎛L     ⎞                 ⎛L     ⎞     ⎛L     ⎞               ⎛L     ⎞\n",
       " α₁⎟     ⎜─ - α₁⎟                 ⎜─ - α₁⎟     ⎜─ - α₁⎟               ⎜─ - α₁⎟\n",
       "   ⎟    2⎜2     ⎟                2⎜2     ⎟    2⎜2     ⎟              2⎜2     ⎟\n",
       "───⎟⋅cos ⎜──────⎟ - 2⋅C__{13}⋅sin ⎜──────⎟⋅cos ⎜──────⎟ + C__{33}⋅sin ⎜──────⎟\n",
       "   ⎠     ⎝  R   ⎠                 ⎝  R   ⎠     ⎝  R   ⎠               ⎝  R   ⎠\n",
       "──────────────────────────────────────────────────────────────────────────────\n",
       "                                                                              \n",
       "                                                                         (R + \n",
       "                                                                              \n",
       "                                                                              \n",
       "                                                                              \n",
       "                                                                              \n",
       "                                                                             0\n",
       "                                                                              \n",
       "\n",
       "                                                                              \n",
       "                                                                              \n",
       "⎞                ⎛L - 2⋅α₁⎞              ⎛2⋅(L - 2⋅α₁)⎞                ⎛2⋅(L -\n",
       "⎟ + 2⋅C__{33}⋅sin⎜────────⎟ - C__{33}⋅sin⎜────────────⎟ + 4⋅C__{55}⋅sin⎜──────\n",
       "⎠                ⎝   R    ⎠              ⎝     R      ⎠                ⎝     R\n",
       "──────────────────────────────────────────────────────────────────────────────\n",
       "    3                                                                         \n",
       " α₃)                                                                          \n",
       "                                                                              \n",
       "                                                                              \n",
       "                                                                              \n",
       "       ⎛L - 2⋅α₁⎞                                                             \n",
       "3})⋅sin⎜────────⎟                                                             \n",
       "       ⎝   R    ⎠                                                             \n",
       "──────────────────                                                            \n",
       " 2⋅α₃                                                                         \n",
       "                                                                              \n",
       "                                                                              \n",
       "                                                                              \n",
       "                                                                              \n",
       "                ⎛L - 2⋅α₁⎞              ⎛2⋅(L - 2⋅α₁)⎞                ⎛2⋅(L - \n",
       " + 2⋅C__{33}⋅sin⎜────────⎟ + C__{33}⋅sin⎜────────────⎟ - 4⋅C__{55}⋅sin⎜───────\n",
       "                ⎝   R    ⎠              ⎝     R      ⎠                ⎝     R \n",
       "──────────────────────────────────────────────────────────────────────────────\n",
       "+ α₃)                                                                         \n",
       "                                                                              \n",
       "                                                                              \n",
       "                                                                              \n",
       "                                                                              \n",
       "                                                                              \n",
       "                                                                              \n",
       "                                                                              \n",
       "                                                                              \n",
       "                                                                              \n",
       "                                                                              \n",
       "                                                                              \n",
       "     ⎛L     ⎞               ⎛L     ⎞                 ⎛L     ⎞     ⎛L     ⎞    \n",
       "     ⎜─ - α₁⎟               ⎜─ - α₁⎟                 ⎜─ - α₁⎟     ⎜─ - α₁⎟    \n",
       "    2⎜2     ⎟              4⎜2     ⎟                2⎜2     ⎟    2⎜2     ⎟    \n",
       "⋅cos ⎜──────⎟ + C__{55}⋅sin ⎜──────⎟ - 2⋅C__{55}⋅sin ⎜──────⎟⋅cos ⎜──────⎟ + C\n",
       "     ⎝  R   ⎠               ⎝  R   ⎠                 ⎝  R   ⎠     ⎝  R   ⎠    \n",
       "──────────────────────────────────────────────────────────────────────────────\n",
       "   2                                                                          \n",
       "α₃)                                                                           \n",
       "                                                                              \n",
       "                                                                              \n",
       "                                                                              \n",
       "                                                                              \n",
       "                                                                              \n",
       "                                                                              \n",
       "\n",
       "                                                                 ⎤\n",
       "                                                                 ⎥\n",
       " 2⋅α₁)⎞⎞                                                         ⎥\n",
       "──────⎟⎟                                                         ⎥\n",
       "      ⎠⎠                                                         ⎥\n",
       "────────                                   0                     ⎥\n",
       "                                                                 ⎥\n",
       "                                                                 ⎥\n",
       "                                                                 ⎥\n",
       "                                                                 ⎥\n",
       "                                                                 ⎥\n",
       "                                                                 ⎥\n",
       "                                                                 ⎥\n",
       "                                                                 ⎥\n",
       "                                           0                     ⎥\n",
       "                                                                 ⎥\n",
       "                                                                 ⎥\n",
       "                                                                 ⎥\n",
       "                                                                 ⎥\n",
       "                                                                 ⎥\n",
       "2⋅α₁)⎞⎞                                                          ⎥\n",
       "─────⎟⎟                                                          ⎥\n",
       "     ⎠⎠                                                          ⎥\n",
       "───────                                    0                     ⎥\n",
       "                                                                 ⎥\n",
       "                                                                 ⎥\n",
       "                                                                 ⎥\n",
       "                                                                 ⎥\n",
       "                                                                 ⎥\n",
       "                                                   ⎛L - 2⋅α₁⎞    ⎥\n",
       "                         -R⋅(C__{44} - C__{66})⋅sin⎜────────⎟    ⎥\n",
       "                                                   ⎝   R    ⎠    ⎥\n",
       "                         ─────────────────────────────────────   ⎥\n",
       "                                       2⋅R + 2⋅α₃                ⎥\n",
       "                                                                 ⎥\n",
       "                                                                 ⎥\n",
       "           ⎛L     ⎞⎞                                             ⎥\n",
       "           ⎜─ - α₁⎟⎟                                             ⎥\n",
       "          4⎜2     ⎟⎟                                             ⎥\n",
       "__{55}⋅cos ⎜──────⎟⎟                                             ⎥\n",
       "           ⎝  R   ⎠⎠                                             ⎥\n",
       "────────────────────                       0                     ⎥\n",
       "                                                                 ⎥\n",
       "                                                                 ⎥\n",
       "                                                                 ⎥\n",
       "                                  ⎛L     ⎞               ⎛L     ⎞⎥\n",
       "                                  ⎜─ - α₁⎟               ⎜─ - α₁⎟⎥\n",
       "                                 2⎜2     ⎟              2⎜2     ⎟⎥\n",
       "                      C__{44}⋅sin ⎜──────⎟ + C__{66}⋅cos ⎜──────⎟⎥\n",
       "                                  ⎝  R   ⎠               ⎝  R   ⎠⎦"
      ]
     },
     "execution_count": 51,
     "metadata": {},
     "output_type": "execute_result"
    }
   ],
   "source": [
    "C_orthotropic_matrix_alpha = zeros(6)\n",
    "\n",
    "for s in range(6):\n",
    "    for t in range(6):\n",
    "        i,j = getCIndecies(s)\n",
    "        k,l = getCIndecies(t)\n",
    "        C_orthotropic_matrix_alpha[s,t] = C_orthotropic_alpha[i,j,k,l]\n",
    "        \n",
    "C_orthotropic_matrix_alpha"
   ]
  },
  {
   "cell_type": "markdown",
   "metadata": {},
   "source": [
    "### Physical coordinates"
   ]
  },
  {
   "cell_type": "markdown",
   "metadata": {},
   "source": [
    "$u^1=\\frac{u_{[1]}}{1+\\frac{\\alpha_3}{R}}$"
   ]
  },
  {
   "cell_type": "markdown",
   "metadata": {},
   "source": [
    "$\\frac{\\partial u^1} {\\partial \\alpha_3}=\\frac{1}{1+\\frac{\\alpha_3}{R}} \\frac{\\partial u_{[1]}} {\\partial \\alpha_3} + u_{[1]} \\frac{\\partial} {\\partial \\alpha_3} \\left( \\frac{1}{1+\\frac{\\alpha_3}{R}} \\right) = =\\frac{1}{1+\\frac{\\alpha_3}{R}} \\frac{\\partial u_{[1]}} {\\partial \\alpha_3} - u_{[1]} \\frac{1}{R \\left( 1+\\frac{\\alpha_3}{R} \\right)^2} $"
   ]
  },
  {
   "cell_type": "code",
   "execution_count": 52,
   "metadata": {},
   "outputs": [
    {
     "data": {
      "image/png": "[encoded data removed]",
      "text/latex": [
       "$$\\left[\\begin{array}{cccccccccccc}\\frac{1}{1 + \\frac{\\alpha_{3}}{R}} & 0 & 0 & 0 & 0 & 0 & 0 & 0 & 0 & 0 & 0 & 0\\\\0 & \\frac{1}{1 + \\frac{\\alpha_{3}}{R}} & 0 & 0 & 0 & 0 & 0 & 0 & 0 & 0 & 0 & 0\\\\0 & 0 & \\frac{1}{1 + \\frac{\\alpha_{3}}{R}} & 0 & 0 & 0 & 0 & 0 & 0 & 0 & 0 & 0\\\\- \\frac{1}{R \\left(1 + \\frac{\\alpha_{3}}{R}\\right)^{2}} & 0 & 0 & \\frac{1}{1 + \\frac{\\alpha_{3}}{R}} & 0 & 0 & 0 & 0 & 0 & 0 & 0 & 0\\\\0 & 0 & 0 & 0 & 1 & 0 & 0 & 0 & 0 & 0 & 0 & 0\\\\0 & 0 & 0 & 0 & 0 & 1 & 0 & 0 & 0 & 0 & 0 & 0\\\\0 & 0 & 0 & 0 & 0 & 0 & 1 & 0 & 0 & 0 & 0 & 0\\\\0 & 0 & 0 & 0 & 0 & 0 & 0 & 1 & 0 & 0 & 0 & 0\\\\0 & 0 & 0 & 0 & 0 & 0 & 0 & 0 & 1 & 0 & 0 & 0\\\\0 & 0 & 0 & 0 & 0 & 0 & 0 & 0 & 0 & 1 & 0 & 0\\\\0 & 0 & 0 & 0 & 0 & 0 & 0 & 0 & 0 & 0 & 1 & 0\\\\0 & 0 & 0 & 0 & 0 & 0 & 0 & 0 & 0 & 0 & 0 & 1\\end{array}\\right]$$"
      ],
      "text/plain": [
       "⎡    1                                                      ⎤\n",
       "⎢  ──────       0       0       0     0  0  0  0  0  0  0  0⎥\n",
       "⎢      α₃                                                   ⎥\n",
       "⎢  1 + ──                                                   ⎥\n",
       "⎢      R                                                    ⎥\n",
       "⎢                                                           ⎥\n",
       "⎢               1                                           ⎥\n",
       "⎢     0       ──────    0       0     0  0  0  0  0  0  0  0⎥\n",
       "⎢                 α₃                                        ⎥\n",
       "⎢             1 + ──                                        ⎥\n",
       "⎢                 R                                         ⎥\n",
       "⎢                                                           ⎥\n",
       "⎢                       1                                   ⎥\n",
       "⎢     0         0     ──────    0     0  0  0  0  0  0  0  0⎥\n",
       "⎢                         α₃                                ⎥\n",
       "⎢                     1 + ──                                ⎥\n",
       "⎢                         R                                 ⎥\n",
       "⎢                                                           ⎥\n",
       "⎢    -1                         1                           ⎥\n",
       "⎢───────────    0       0     ──────  0  0  0  0  0  0  0  0⎥\n",
       "⎢          2                      α₃                        ⎥\n",
       "⎢  ⎛    α₃⎞                   1 + ──                        ⎥\n",
       "⎢R⋅⎜1 + ──⎟                       R                         ⎥\n",
       "⎢  ⎝    R ⎠                                                 ⎥\n",
       "⎢                                                           ⎥\n",
       "⎢     0         0       0       0     1  0  0  0  0  0  0  0⎥\n",
       "⎢                                                           ⎥\n",
       "⎢     0         0       0       0     0  1  0  0  0  0  0  0⎥\n",
       "⎢                                                           ⎥\n",
       "⎢     0         0       0       0     0  0  1  0  0  0  0  0⎥\n",
       "⎢                                                           ⎥\n",
       "⎢     0         0       0       0     0  0  0  1  0  0  0  0⎥\n",
       "⎢                                                           ⎥\n",
       "⎢     0         0       0       0     0  0  0  0  1  0  0  0⎥\n",
       "⎢                                                           ⎥\n",
       "⎢     0         0       0       0     0  0  0  0  0  1  0  0⎥\n",
       "⎢                                                           ⎥\n",
       "⎢     0         0       0       0     0  0  0  0  0  0  1  0⎥\n",
       "⎢                                                           ⎥\n",
       "⎣     0         0       0       0     0  0  0  0  0  0  0  1⎦"
      ]
     },
     "execution_count": 52,
     "metadata": {},
     "output_type": "execute_result"
    }
   ],
   "source": [
    "P=eye(12,12)\n",
    "P[0,0]=1/(1+alpha3/R)\n",
    "P[1,1]=1/(1+alpha3/R)\n",
    "P[2,2]=1/(1+alpha3/R)\n",
    "P[3,0]=-1/(R*(1+alpha3/R)**2)\n",
    "P[3,3]=1/(1+alpha3/R)\n",
    "P"
   ]
  },
  {
   "cell_type": "code",
   "execution_count": 53,
   "metadata": {},
   "outputs": [
    {
     "data": {
      "image/png": "[encoded data removed]",
      "text/latex": [
       "$$\\left[\\begin{array}{cccccccccccc}0 & \\frac{1}{R} \\left(R + \\alpha_{3}\\right) & 0 & 0 & 0 & 0 & 0 & 0 & \\frac{1}{R^{2}} \\left(R + \\alpha_{3}\\right) & 0 & 0 & 0\\\\0 & 0 & 0 & 0 & 0 & 0 & 1 & 0 & 0 & 0 & 0 & 0\\\\0 & 0 & 0 & 0 & 0 & 0 & 0 & 0 & 0 & 0 & 0 & 1\\\\0 & 0 & \\frac{1}{R} \\left(R + \\alpha_{3}\\right) & 0 & 0 & 1 & 0 & 0 & 0 & 0 & 0 & 0\\\\- \\frac{1}{R} & 0 & 0 & \\frac{1}{R} \\left(R + \\alpha_{3}\\right) & 0 & 0 & 0 & 0 & 0 & 1 & 0 & 0\\\\0 & 0 & 0 & 0 & 0 & 0 & 0 & 1 & 0 & 0 & 1 & 0\\end{array}\\right]$$"
      ],
      "text/plain": [
       "⎡     R + α₃                              R + α₃         ⎤\n",
       "⎢ 0   ──────    0       0     0  0  0  0  ──────  0  0  0⎥\n",
       "⎢       R                                    2           ⎥\n",
       "⎢                                           R            ⎥\n",
       "⎢                                                        ⎥\n",
       "⎢ 0     0       0       0     0  0  1  0    0     0  0  0⎥\n",
       "⎢                                                        ⎥\n",
       "⎢ 0     0       0       0     0  0  0  0    0     0  0  1⎥\n",
       "⎢                                                        ⎥\n",
       "⎢             R + α₃                                     ⎥\n",
       "⎢ 0     0     ──────    0     0  1  0  0    0     0  0  0⎥\n",
       "⎢               R                                        ⎥\n",
       "⎢                                                        ⎥\n",
       "⎢-1                   R + α₃                             ⎥\n",
       "⎢───    0       0     ──────  0  0  0  0    0     1  0  0⎥\n",
       "⎢ R                     R                                ⎥\n",
       "⎢                                                        ⎥\n",
       "⎣ 0     0       0       0     0  0  0  1    0     0  1  0⎦"
      ]
     },
     "execution_count": 53,
     "metadata": {},
     "output_type": "execute_result"
    }
   ],
   "source": [
    "Def=simplify(E*B*P)\n",
    "Def"
   ]
  },
  {
   "cell_type": "code",
   "execution_count": 54,
   "metadata": {},
   "outputs": [
    {
     "data": {
      "image/png": "[encoded data removed]",
      "text/latex": [
       "$$\\left[\\begin{array}{cccccccccccc}0 & \\frac{R}{R + \\alpha_{3}} & 0 & 0 & 0 & 0 & 0 & 0 & \\frac{1}{R + \\alpha_{3}} & 0 & 0 & 0\\\\0 & 0 & 0 & 0 & 0 & 0 & 1 & 0 & 0 & 0 & 0 & 0\\\\0 & 0 & 0 & 0 & 0 & 0 & 0 & 0 & 0 & 0 & 0 & 1\\\\0 & 0 & 1 & 0 & 0 & \\frac{R}{R + \\alpha_{3}} & 0 & 0 & 0 & 0 & 0 & 0\\\\- \\frac{1}{R + \\alpha_{3}} & 0 & 0 & 1 & 0 & 0 & 0 & 0 & 0 & \\frac{R}{R + \\alpha_{3}} & 0 & 0\\\\0 & 0 & 0 & 0 & 0 & 0 & 0 & 1 & 0 & 0 & 1 & 0\\end{array}\\right]$$"
      ],
      "text/plain": [
       "⎡          R                              1                 ⎤\n",
       "⎢  0     ──────  0  0  0    0     0  0  ──────    0     0  0⎥\n",
       "⎢        R + α₃                         R + α₃              ⎥\n",
       "⎢                                                           ⎥\n",
       "⎢  0       0     0  0  0    0     1  0    0       0     0  0⎥\n",
       "⎢                                                           ⎥\n",
       "⎢  0       0     0  0  0    0     0  0    0       0     0  1⎥\n",
       "⎢                                                           ⎥\n",
       "⎢                           R                               ⎥\n",
       "⎢  0       0     1  0  0  ──────  0  0    0       0     0  0⎥\n",
       "⎢                         R + α₃                            ⎥\n",
       "⎢                                                           ⎥\n",
       "⎢ -1                                              R         ⎥\n",
       "⎢──────    0     0  1  0    0     0  0    0     ──────  0  0⎥\n",
       "⎢R + α₃                                         R + α₃      ⎥\n",
       "⎢                                                           ⎥\n",
       "⎣  0       0     0  0  0    0     0  1    0       0     1  0⎦"
      ]
     },
     "execution_count": 54,
     "metadata": {},
     "output_type": "execute_result"
    }
   ],
   "source": [
    "rows, cols = Def.shape\n",
    "D_p=zeros(rows, cols)\n",
    "q = 1+alpha3/R\n",
    "for i in range(rows):\n",
    "    ratio = 1\n",
    "    if (i==0):\n",
    "        ratio = q*q\n",
    "    elif (i==3 or i == 4):\n",
    "        ratio = q\n",
    "    \n",
    "    for j in range(cols):\n",
    "        D_p[i,j] = Def[i,j] / ratio\n",
    "\n",
    "D_p = simplify(D_p)\n",
    "D_p"
   ]
  },
  {
   "cell_type": "markdown",
   "metadata": {},
   "source": [
    "#### Stiffness tensor"
   ]
  },
  {
   "cell_type": "code",
   "execution_count": 55,
   "metadata": {},
   "outputs": [
    {
     "data": {
      "image/png": "[encoded data removed]",
      "text/latex": [
       "$$\\left[\\begin{matrix}\\lambda + 2 \\mu & \\lambda & \\lambda & 0 & 0 & 0\\\\\\lambda & \\lambda + 2 \\mu & \\lambda & 0 & 0 & 0\\\\\\lambda & \\lambda & \\lambda + 2 \\mu & 0 & 0 & 0\\\\0 & 0 & 0 & \\mu & 0 & 0\\\\0 & 0 & 0 & 0 & \\mu & 0\\\\0 & 0 & 0 & 0 & 0 & \\mu\\end{matrix}\\right]$$"
      ],
      "text/plain": [
       "⎡λ + 2⋅μ     λ        λ     0  0  0⎤\n",
       "⎢                                  ⎥\n",
       "⎢   λ     λ + 2⋅μ     λ     0  0  0⎥\n",
       "⎢                                  ⎥\n",
       "⎢   λ        λ     λ + 2⋅μ  0  0  0⎥\n",
       "⎢                                  ⎥\n",
       "⎢   0        0        0     μ  0  0⎥\n",
       "⎢                                  ⎥\n",
       "⎢   0        0        0     0  μ  0⎥\n",
       "⎢                                  ⎥\n",
       "⎣   0        0        0     0  0  μ⎦"
      ]
     },
     "execution_count": 55,
     "metadata": {},
     "output_type": "execute_result"
    }
   ],
   "source": [
    "C_isotropic_alpha_p = MutableDenseNDimArray.zeros(3, 3, 3, 3)\n",
    "q=1+alpha3/R\n",
    "for i in range(3):\n",
    "    for j in range(3):        \n",
    "        for k in range(3):\n",
    "            for l in range(3):\n",
    "                fact = 1\n",
    "                if (i==0):\n",
    "                    fact = fact*q\n",
    "                if (j==0):\n",
    "                    fact = fact*q\n",
    "                if (k==0):\n",
    "                    fact = fact*q\n",
    "                if (l==0):\n",
    "                    fact = fact*q\n",
    "                C_isotropic_alpha_p[i,j,k,l] = simplify(C_isotropic_alpha[i,j,k,l]*fact)\n",
    "            \n",
    "C_isotropic_matrix_alpha_p = zeros(6)\n",
    "\n",
    "for s in range(6):\n",
    "    for t in range(6):\n",
    "        i,j = getCIndecies(s)\n",
    "        k,l = getCIndecies(t)\n",
    "        C_isotropic_matrix_alpha_p[s,t] = C_isotropic_alpha_p[i,j,k,l]\n",
    "        \n",
    "C_isotropic_matrix_alpha_p"
   ]
  },
  {
   "cell_type": "code",
   "execution_count": 56,
   "metadata": {},
   "outputs": [
    {
     "data": {
      "image/png": "[encoded data removed]",
      "text/latex": [
       "$$\\left[\\begin{matrix}C^{11} \\cos^{4}{\\left (\\frac{1}{R} \\left(\\frac{L}{2} - \\alpha_{1}\\right) \\right )} + 2 C^{13} \\sin^{2}{\\left (\\frac{1}{R} \\left(\\frac{L}{2} - \\alpha_{1}\\right) \\right )} \\cos^{2}{\\left (\\frac{1}{R} \\left(\\frac{L}{2} - \\alpha_{1}\\right) \\right )} + C^{33} \\sin^{4}{\\left (\\frac{1}{R} \\left(\\frac{L}{2} - \\alpha_{1}\\right) \\right )} + 4 C^{55} \\sin^{2}{\\left (\\frac{1}{R} \\left(\\frac{L}{2} - \\alpha_{1}\\right) \\right )} \\cos^{2}{\\left (\\frac{1}{R} \\left(\\frac{L}{2} - \\alpha_{1}\\right) \\right )} & C^{12} \\cos^{2}{\\left (\\frac{1}{R} \\left(\\frac{L}{2} - \\alpha_{1}\\right) \\right )} + C^{23} \\sin^{2}{\\left (\\frac{1}{R} \\left(\\frac{L}{2} - \\alpha_{1}\\right) \\right )} & C^{11} \\sin^{2}{\\left (\\frac{1}{R} \\left(\\frac{L}{2} - \\alpha_{1}\\right) \\right )} \\cos^{2}{\\left (\\frac{1}{R} \\left(\\frac{L}{2} - \\alpha_{1}\\right) \\right )} + C^{13} \\sin^{4}{\\left (\\frac{1}{R} \\left(\\frac{L}{2} - \\alpha_{1}\\right) \\right )} + C^{13} \\cos^{4}{\\left (\\frac{1}{R} \\left(\\frac{L}{2} - \\alpha_{1}\\right) \\right )} + C^{33} \\sin^{2}{\\left (\\frac{1}{R} \\left(\\frac{L}{2} - \\alpha_{1}\\right) \\right )} \\cos^{2}{\\left (\\frac{1}{R} \\left(\\frac{L}{2} - \\alpha_{1}\\right) \\right )} - 4 C^{55} \\sin^{2}{\\left (\\frac{1}{R} \\left(\\frac{L}{2} - \\alpha_{1}\\right) \\right )} \\cos^{2}{\\left (\\frac{1}{R} \\left(\\frac{L}{2} - \\alpha_{1}\\right) \\right )} & 0 & - \\frac{C^{11}}{4} \\sin{\\left (\\frac{1}{R} \\left(L - 2 \\alpha_{1}\\right) \\right )} - \\frac{C^{11}}{8} \\sin{\\left (\\frac{2}{R} \\left(L - 2 \\alpha_{1}\\right) \\right )} + \\frac{C^{13}}{4} \\sin{\\left (\\frac{2}{R} \\left(L - 2 \\alpha_{1}\\right) \\right )} + \\frac{C^{33}}{4} \\sin{\\left (\\frac{1}{R} \\left(L - 2 \\alpha_{1}\\right) \\right )} - \\frac{C^{33}}{8} \\sin{\\left (\\frac{2}{R} \\left(L - 2 \\alpha_{1}\\right) \\right )} + \\frac{C^{55}}{2} \\sin{\\left (\\frac{2}{R} \\left(L - 2 \\alpha_{1}\\right) \\right )} & 0\\\\C^{12} \\cos^{2}{\\left (\\frac{1}{R} \\left(\\frac{L}{2} - \\alpha_{1}\\right) \\right )} + C^{23} \\sin^{2}{\\left (\\frac{1}{R} \\left(\\frac{L}{2} - \\alpha_{1}\\right) \\right )} & C^{22} & C^{12} \\sin^{2}{\\left (\\frac{1}{R} \\left(\\frac{L}{2} - \\alpha_{1}\\right) \\right )} + C^{23} \\cos^{2}{\\left (\\frac{1}{R} \\left(\\frac{L}{2} - \\alpha_{1}\\right) \\right )} & 0 & \\frac{1}{2} \\left(- C^{12} + C^{23}\\right) \\sin{\\left (\\frac{1}{R} \\left(L - 2 \\alpha_{1}\\right) \\right )} & 0\\\\C^{11} \\sin^{2}{\\left (\\frac{1}{R} \\left(\\frac{L}{2} - \\alpha_{1}\\right) \\right )} \\cos^{2}{\\left (\\frac{1}{R} \\left(\\frac{L}{2} - \\alpha_{1}\\right) \\right )} + C^{13} \\sin^{4}{\\left (\\frac{1}{R} \\left(\\frac{L}{2} - \\alpha_{1}\\right) \\right )} + C^{13} \\cos^{4}{\\left (\\frac{1}{R} \\left(\\frac{L}{2} - \\alpha_{1}\\right) \\right )} + C^{33} \\sin^{2}{\\left (\\frac{1}{R} \\left(\\frac{L}{2} - \\alpha_{1}\\right) \\right )} \\cos^{2}{\\left (\\frac{1}{R} \\left(\\frac{L}{2} - \\alpha_{1}\\right) \\right )} - 4 C^{55} \\sin^{2}{\\left (\\frac{1}{R} \\left(\\frac{L}{2} - \\alpha_{1}\\right) \\right )} \\cos^{2}{\\left (\\frac{1}{R} \\left(\\frac{L}{2} - \\alpha_{1}\\right) \\right )} & C^{12} \\sin^{2}{\\left (\\frac{1}{R} \\left(\\frac{L}{2} - \\alpha_{1}\\right) \\right )} + C^{23} \\cos^{2}{\\left (\\frac{1}{R} \\left(\\frac{L}{2} - \\alpha_{1}\\right) \\right )} & C^{11} \\sin^{4}{\\left (\\frac{1}{R} \\left(\\frac{L}{2} - \\alpha_{1}\\right) \\right )} + 2 C^{13} \\sin^{2}{\\left (\\frac{1}{R} \\left(\\frac{L}{2} - \\alpha_{1}\\right) \\right )} \\cos^{2}{\\left (\\frac{1}{R} \\left(\\frac{L}{2} - \\alpha_{1}\\right) \\right )} + C^{33} \\cos^{4}{\\left (\\frac{1}{R} \\left(\\frac{L}{2} - \\alpha_{1}\\right) \\right )} + 4 C^{55} \\sin^{2}{\\left (\\frac{1}{R} \\left(\\frac{L}{2} - \\alpha_{1}\\right) \\right )} \\cos^{2}{\\left (\\frac{1}{R} \\left(\\frac{L}{2} - \\alpha_{1}\\right) \\right )} & 0 & - \\frac{C^{11}}{4} \\sin{\\left (\\frac{1}{R} \\left(L - 2 \\alpha_{1}\\right) \\right )} + \\frac{C^{11}}{8} \\sin{\\left (\\frac{2}{R} \\left(L - 2 \\alpha_{1}\\right) \\right )} - \\frac{C^{13}}{4} \\sin{\\left (\\frac{2}{R} \\left(L - 2 \\alpha_{1}\\right) \\right )} + \\frac{C^{33}}{4} \\sin{\\left (\\frac{1}{R} \\left(L - 2 \\alpha_{1}\\right) \\right )} + \\frac{C^{33}}{8} \\sin{\\left (\\frac{2}{R} \\left(L - 2 \\alpha_{1}\\right) \\right )} - \\frac{C^{55}}{2} \\sin{\\left (\\frac{2}{R} \\left(L - 2 \\alpha_{1}\\right) \\right )} & 0\\\\0 & 0 & 0 & C^{44} \\cos^{2}{\\left (\\frac{1}{R} \\left(\\frac{L}{2} - \\alpha_{1}\\right) \\right )} + C^{66} \\sin^{2}{\\left (\\frac{1}{R} \\left(\\frac{L}{2} - \\alpha_{1}\\right) \\right )} & 0 & \\frac{1}{2} \\left(- C^{44} + C^{66}\\right) \\sin{\\left (\\frac{1}{R} \\left(L - 2 \\alpha_{1}\\right) \\right )}\\\\- \\frac{C^{11}}{4} \\sin{\\left (\\frac{1}{R} \\left(L - 2 \\alpha_{1}\\right) \\right )} - \\frac{C^{11}}{8} \\sin{\\left (\\frac{2}{R} \\left(L - 2 \\alpha_{1}\\right) \\right )} + \\frac{C^{13}}{4} \\sin{\\left (\\frac{2}{R} \\left(L - 2 \\alpha_{1}\\right) \\right )} + \\frac{C^{33}}{4} \\sin{\\left (\\frac{1}{R} \\left(L - 2 \\alpha_{1}\\right) \\right )} - \\frac{C^{33}}{8} \\sin{\\left (\\frac{2}{R} \\left(L - 2 \\alpha_{1}\\right) \\right )} + \\frac{C^{55}}{2} \\sin{\\left (\\frac{2}{R} \\left(L - 2 \\alpha_{1}\\right) \\right )} & \\frac{1}{2} \\left(- C^{12} + C^{23}\\right) \\sin{\\left (\\frac{1}{R} \\left(L - 2 \\alpha_{1}\\right) \\right )} & - \\frac{C^{11}}{4} \\sin{\\left (\\frac{1}{R} \\left(L - 2 \\alpha_{1}\\right) \\right )} + \\frac{C^{11}}{8} \\sin{\\left (\\frac{2}{R} \\left(L - 2 \\alpha_{1}\\right) \\right )} - \\frac{C^{13}}{4} \\sin{\\left (\\frac{2}{R} \\left(L - 2 \\alpha_{1}\\right) \\right )} + \\frac{C^{33}}{4} \\sin{\\left (\\frac{1}{R} \\left(L - 2 \\alpha_{1}\\right) \\right )} + \\frac{C^{33}}{8} \\sin{\\left (\\frac{2}{R} \\left(L - 2 \\alpha_{1}\\right) \\right )} - \\frac{C^{55}}{2} \\sin{\\left (\\frac{2}{R} \\left(L - 2 \\alpha_{1}\\right) \\right )} & 0 & C^{11} \\sin^{2}{\\left (\\frac{1}{R} \\left(\\frac{L}{2} - \\alpha_{1}\\right) \\right )} \\cos^{2}{\\left (\\frac{1}{R} \\left(\\frac{L}{2} - \\alpha_{1}\\right) \\right )} - 2 C^{13} \\sin^{2}{\\left (\\frac{1}{R} \\left(\\frac{L}{2} - \\alpha_{1}\\right) \\right )} \\cos^{2}{\\left (\\frac{1}{R} \\left(\\frac{L}{2} - \\alpha_{1}\\right) \\right )} + C^{33} \\sin^{2}{\\left (\\frac{1}{R} \\left(\\frac{L}{2} - \\alpha_{1}\\right) \\right )} \\cos^{2}{\\left (\\frac{1}{R} \\left(\\frac{L}{2} - \\alpha_{1}\\right) \\right )} + C^{55} \\sin^{4}{\\left (\\frac{1}{R} \\left(\\frac{L}{2} - \\alpha_{1}\\right) \\right )} - 2 C^{55} \\sin^{2}{\\left (\\frac{1}{R} \\left(\\frac{L}{2} - \\alpha_{1}\\right) \\right )} \\cos^{2}{\\left (\\frac{1}{R} \\left(\\frac{L}{2} - \\alpha_{1}\\right) \\right )} + C^{55} \\cos^{4}{\\left (\\frac{1}{R} \\left(\\frac{L}{2} - \\alpha_{1}\\right) \\right )} & 0\\\\0 & 0 & 0 & \\frac{1}{2} \\left(- C^{44} + C^{66}\\right) \\sin{\\left (\\frac{1}{R} \\left(L - 2 \\alpha_{1}\\right) \\right )} & 0 & C^{44} \\sin^{2}{\\left (\\frac{1}{R} \\left(\\frac{L}{2} - \\alpha_{1}\\right) \\right )} + C^{66} \\cos^{2}{\\left (\\frac{1}{R} \\left(\\frac{L}{2} - \\alpha_{1}\\right) \\right )}\\end{matrix}\\right]$$"
      ],
      "text/plain": [
       "⎡                                ⎛L     ⎞                 ⎛L     ⎞     ⎛L     \n",
       "⎢                                ⎜─ - α₁⎟                 ⎜─ - α₁⎟     ⎜─ - α₁\n",
       "⎢                               4⎜2     ⎟                2⎜2     ⎟    2⎜2     \n",
       "⎢                    C__{11}⋅cos ⎜──────⎟ + 2⋅C__{13}⋅sin ⎜──────⎟⋅cos ⎜──────\n",
       "⎢                                ⎝  R   ⎠                 ⎝  R   ⎠     ⎝  R   \n",
       "⎢                                                                             \n",
       "⎢                                                                      ⎛L     \n",
       "⎢                                                                      ⎜─ - α₁\n",
       "⎢                                                                     2⎜2     \n",
       "⎢                                                          C__{12}⋅cos ⎜──────\n",
       "⎢                                                                      ⎝  R   \n",
       "⎢                                                                             \n",
       "⎢               ⎛L     ⎞     ⎛L     ⎞               ⎛L     ⎞               ⎛L \n",
       "⎢               ⎜─ - α₁⎟     ⎜─ - α₁⎟               ⎜─ - α₁⎟               ⎜─ \n",
       "⎢              2⎜2     ⎟    2⎜2     ⎟              4⎜2     ⎟              4⎜2 \n",
       "⎢   C__{11}⋅sin ⎜──────⎟⋅cos ⎜──────⎟ + C__{13}⋅sin ⎜──────⎟ + C__{13}⋅cos ⎜──\n",
       "⎢               ⎝  R   ⎠     ⎝  R   ⎠               ⎝  R   ⎠               ⎝  \n",
       "⎢                                                                             \n",
       "⎢                                                                             \n",
       "⎢                                                                             \n",
       "⎢                                                                             \n",
       "⎢                                                                             \n",
       "⎢                                                                             \n",
       "⎢                                                                             \n",
       "⎢             ⎛L - 2⋅α₁⎞              ⎛2⋅(L - 2⋅α₁)⎞              ⎛2⋅(L - 2⋅α₁\n",
       "⎢  C__{11}⋅sin⎜────────⎟   C__{11}⋅sin⎜────────────⎟   C__{13}⋅sin⎜───────────\n",
       "⎢             ⎝   R    ⎠              ⎝     R      ⎠              ⎝     R     \n",
       "⎢- ───────────────────── - ───────────────────────── + ───────────────────────\n",
       "⎢            4                         8                           4          \n",
       "⎢                                                                             \n",
       "⎢                                                                             \n",
       "⎢                                                                             \n",
       "⎢                                                                             \n",
       "⎢                                                                             \n",
       "⎣                                                                             \n",
       "\n",
       "⎞               ⎛L     ⎞                 ⎛L     ⎞     ⎛L     ⎞                \n",
       "⎟               ⎜─ - α₁⎟                 ⎜─ - α₁⎟     ⎜─ - α₁⎟                \n",
       "⎟              4⎜2     ⎟                2⎜2     ⎟    2⎜2     ⎟                \n",
       "⎟ + C__{33}⋅sin ⎜──────⎟ + 4⋅C__{55}⋅sin ⎜──────⎟⋅cos ⎜──────⎟                \n",
       "⎠               ⎝  R   ⎠                 ⎝  R   ⎠     ⎝  R   ⎠                \n",
       "                                                                              \n",
       "⎞               ⎛L     ⎞                                                      \n",
       "⎟               ⎜─ - α₁⎟                                                      \n",
       "⎟              2⎜2     ⎟                                                      \n",
       "⎟ + C__{23}⋅sin ⎜──────⎟                                                      \n",
       "⎠               ⎝  R   ⎠                                                      \n",
       "                                                                              \n",
       "    ⎞               ⎛L     ⎞     ⎛L     ⎞                 ⎛L     ⎞     ⎛L     \n",
       "- α₁⎟               ⎜─ - α₁⎟     ⎜─ - α₁⎟                 ⎜─ - α₁⎟     ⎜─ - α₁\n",
       "    ⎟              2⎜2     ⎟    2⎜2     ⎟                2⎜2     ⎟    2⎜2     \n",
       "────⎟ + C__{33}⋅sin ⎜──────⎟⋅cos ⎜──────⎟ - 4⋅C__{55}⋅sin ⎜──────⎟⋅cos ⎜──────\n",
       "R   ⎠               ⎝  R   ⎠     ⎝  R   ⎠                 ⎝  R   ⎠     ⎝  R   \n",
       "                                                                              \n",
       "                                                                              \n",
       "                                                                              \n",
       "                                                                              \n",
       "  0                                                                           \n",
       "                                                                              \n",
       "                                                                              \n",
       ")⎞              ⎛L - 2⋅α₁⎞              ⎛2⋅(L - 2⋅α₁)⎞              ⎛2⋅(L - 2⋅\n",
       "─⎟   C__{33}⋅sin⎜────────⎟   C__{33}⋅sin⎜────────────⎟   C__{55}⋅sin⎜─────────\n",
       " ⎠              ⎝   R    ⎠              ⎝     R      ⎠              ⎝     R   \n",
       "── + ───────────────────── - ───────────────────────── + ─────────────────────\n",
       "               4                         8                           2        \n",
       "                                                                              \n",
       "                                                                              \n",
       "                                                                              \n",
       "                                                                              \n",
       "  0                                                                           \n",
       "                                                                              \n",
       "\n",
       "                  ⎛L     ⎞               ⎛L     ⎞                 ⎛L     ⎞    \n",
       "                  ⎜─ - α₁⎟               ⎜─ - α₁⎟                 ⎜─ - α₁⎟    \n",
       "                 2⎜2     ⎟              2⎜2     ⎟                2⎜2     ⎟    \n",
       "      C__{12}⋅cos ⎜──────⎟ + C__{23}⋅sin ⎜──────⎟     C__{11}⋅sin ⎜──────⎟⋅cos\n",
       "                  ⎝  R   ⎠               ⎝  R   ⎠                 ⎝  R   ⎠    \n",
       "                                                                              \n",
       "                                                                              \n",
       "                                                                              \n",
       "                                                                              \n",
       "                        C__{22}                                               \n",
       "                                                                              \n",
       "                                                                              \n",
       "⎞                 ⎛L     ⎞               ⎛L     ⎞                             \n",
       "⎟                 ⎜─ - α₁⎟               ⎜─ - α₁⎟                             \n",
       "⎟                2⎜2     ⎟              2⎜2     ⎟                             \n",
       "⎟     C__{12}⋅sin ⎜──────⎟ + C__{23}⋅cos ⎜──────⎟                      C__{11}\n",
       "⎠                 ⎝  R   ⎠               ⎝  R   ⎠                             \n",
       "                                                                              \n",
       "                                                                              \n",
       "                                                                              \n",
       "                                                                              \n",
       "                           0                                                  \n",
       "                                                                              \n",
       "                                                                              \n",
       "α₁)⎞                              ⎛L - 2⋅α₁⎞                    ⎛L - 2⋅α₁⎞    \n",
       "───⎟      (-C__{12} + C__{23})⋅sin⎜────────⎟         C__{11}⋅sin⎜────────⎟   C\n",
       "   ⎠                              ⎝   R    ⎠                    ⎝   R    ⎠    \n",
       "────      ──────────────────────────────────       - ───────────────────── + ─\n",
       "                          2                                    4              \n",
       "                                                                              \n",
       "                                                                              \n",
       "                                                                              \n",
       "                                                                              \n",
       "                           0                                                  \n",
       "                                                                              \n",
       "\n",
       " ⎛L     ⎞               ⎛L     ⎞               ⎛L     ⎞               ⎛L     ⎞\n",
       " ⎜─ - α₁⎟               ⎜─ - α₁⎟               ⎜─ - α₁⎟               ⎜─ - α₁⎟\n",
       "2⎜2     ⎟              4⎜2     ⎟              4⎜2     ⎟              2⎜2     ⎟\n",
       " ⎜──────⎟ + C__{13}⋅sin ⎜──────⎟ + C__{13}⋅cos ⎜──────⎟ + C__{33}⋅sin ⎜──────⎟\n",
       " ⎝  R   ⎠               ⎝  R   ⎠               ⎝  R   ⎠               ⎝  R   ⎠\n",
       "                                                                              \n",
       "                                           ⎛L     ⎞               ⎛L     ⎞    \n",
       "                                           ⎜─ - α₁⎟               ⎜─ - α₁⎟    \n",
       "                                          2⎜2     ⎟              2⎜2     ⎟    \n",
       "                               C__{12}⋅sin ⎜──────⎟ + C__{23}⋅cos ⎜──────⎟    \n",
       "                                           ⎝  R   ⎠               ⎝  R   ⎠    \n",
       "                                                                              \n",
       "     ⎛L     ⎞                 ⎛L     ⎞     ⎛L     ⎞               ⎛L     ⎞    \n",
       "     ⎜─ - α₁⎟                 ⎜─ - α₁⎟     ⎜─ - α₁⎟               ⎜─ - α₁⎟    \n",
       "    4⎜2     ⎟                2⎜2     ⎟    2⎜2     ⎟              4⎜2     ⎟    \n",
       "⋅sin ⎜──────⎟ + 2⋅C__{13}⋅sin ⎜──────⎟⋅cos ⎜──────⎟ + C__{33}⋅cos ⎜──────⎟ + 4\n",
       "     ⎝  R   ⎠                 ⎝  R   ⎠     ⎝  R   ⎠               ⎝  R   ⎠    \n",
       "                                                                              \n",
       "                                                                              \n",
       "                                                                              \n",
       "                                                                              \n",
       "                                                    0                         \n",
       "                                                                              \n",
       "                                                                              \n",
       "          ⎛2⋅(L - 2⋅α₁)⎞              ⎛2⋅(L - 2⋅α₁)⎞              ⎛L - 2⋅α₁⎞  \n",
       "__{11}⋅sin⎜────────────⎟   C__{13}⋅sin⎜────────────⎟   C__{33}⋅sin⎜────────⎟  \n",
       "          ⎝     R      ⎠              ⎝     R      ⎠              ⎝   R    ⎠  \n",
       "──────────────────────── - ───────────────────────── + ───────────────────── +\n",
       "           8                           4                         4            \n",
       "                                                                              \n",
       "                                                                              \n",
       "                                                                              \n",
       "                                                                              \n",
       "                                                    0                         \n",
       "                                                                              \n",
       "\n",
       "     ⎛L     ⎞                 ⎛L     ⎞     ⎛L     ⎞                           \n",
       "     ⎜─ - α₁⎟                 ⎜─ - α₁⎟     ⎜─ - α₁⎟                           \n",
       "    2⎜2     ⎟                2⎜2     ⎟    2⎜2     ⎟                           \n",
       "⋅cos ⎜──────⎟ - 4⋅C__{55}⋅sin ⎜──────⎟⋅cos ⎜──────⎟                          0\n",
       "     ⎝  R   ⎠                 ⎝  R   ⎠     ⎝  R   ⎠                           \n",
       "                                                                              \n",
       "                                                                              \n",
       "                                                                              \n",
       "                                                                              \n",
       "                                                                             0\n",
       "                                                                              \n",
       "                                                                              \n",
       "             ⎛L     ⎞     ⎛L     ⎞                                            \n",
       "             ⎜─ - α₁⎟     ⎜─ - α₁⎟                                            \n",
       "            2⎜2     ⎟    2⎜2     ⎟                                            \n",
       "⋅C__{55}⋅sin ⎜──────⎟⋅cos ⎜──────⎟                                           0\n",
       "             ⎝  R   ⎠     ⎝  R   ⎠                                            \n",
       "                                                                              \n",
       "                                                                    ⎛L     ⎞  \n",
       "                                                                    ⎜─ - α₁⎟  \n",
       "                                                                   2⎜2     ⎟  \n",
       "                                                        C__{44}⋅cos ⎜──────⎟ +\n",
       "                                                                    ⎝  R   ⎠  \n",
       "                                                                              \n",
       "            ⎛2⋅(L - 2⋅α₁)⎞              ⎛2⋅(L - 2⋅α₁)⎞                        \n",
       " C__{33}⋅sin⎜────────────⎟   C__{55}⋅sin⎜────────────⎟                        \n",
       "            ⎝     R      ⎠              ⎝     R      ⎠                        \n",
       " ───────────────────────── - ─────────────────────────                       0\n",
       "             8                           2                                    \n",
       "                                                                              \n",
       "                                                                              \n",
       "                                                            (-C__{44} + C__{66\n",
       "                                                                              \n",
       "                                                            ──────────────────\n",
       "                                                                            2 \n",
       "\n",
       "                                                    ⎛L - 2⋅α₁⎞              ⎛2\n",
       "                                         C__{11}⋅sin⎜────────⎟   C__{11}⋅sin⎜─\n",
       "                                                    ⎝   R    ⎠              ⎝ \n",
       "                                       - ───────────────────── - ─────────────\n",
       "                                                   4                         8\n",
       "                                                                              \n",
       "                                                                              \n",
       "                                                                              \n",
       "                                                                              \n",
       "                                                                              \n",
       "                                                                              \n",
       "                                                                              \n",
       "                                                    ⎛L - 2⋅α₁⎞              ⎛2\n",
       "                                         C__{11}⋅sin⎜────────⎟   C__{11}⋅sin⎜─\n",
       "                                                    ⎝   R    ⎠              ⎝ \n",
       "                                       - ───────────────────── + ─────────────\n",
       "                                                   4                         8\n",
       "                                                                              \n",
       "             ⎛L     ⎞                                                         \n",
       "             ⎜─ - α₁⎟                                                         \n",
       "            2⎜2     ⎟                                                         \n",
       " C__{66}⋅sin ⎜──────⎟                                                         \n",
       "             ⎝  R   ⎠                                                         \n",
       "                                                                              \n",
       "                                   ⎛L     ⎞     ⎛L     ⎞                 ⎛L   \n",
       "                                   ⎜─ - α₁⎟     ⎜─ - α₁⎟                 ⎜─ - \n",
       "                                  2⎜2     ⎟    2⎜2     ⎟                2⎜2   \n",
       "                       C__{11}⋅sin ⎜──────⎟⋅cos ⎜──────⎟ - 2⋅C__{13}⋅sin ⎜────\n",
       "                                   ⎝  R   ⎠     ⎝  R   ⎠                 ⎝  R \n",
       "                                                                              \n",
       "      ⎛L - 2⋅α₁⎞                                                              \n",
       "})⋅sin⎜────────⎟                                                              \n",
       "      ⎝   R    ⎠                                                              \n",
       "────────────────                                                              \n",
       "                                                                              \n",
       "\n",
       "⋅(L - 2⋅α₁)⎞              ⎛2⋅(L - 2⋅α₁)⎞              ⎛L - 2⋅α₁⎞              \n",
       "───────────⎟   C__{13}⋅sin⎜────────────⎟   C__{33}⋅sin⎜────────⎟   C__{33}⋅sin\n",
       "    R      ⎠              ⎝     R      ⎠              ⎝   R    ⎠              \n",
       "──────────── + ───────────────────────── + ───────────────────── - ───────────\n",
       "                           4                         4                        \n",
       "                                                                              \n",
       "                                               ⎛L - 2⋅α₁⎞                     \n",
       "                       (-C__{12} + C__{23})⋅sin⎜────────⎟                     \n",
       "                                               ⎝   R    ⎠                     \n",
       "                       ──────────────────────────────────                     \n",
       "                                       2                                      \n",
       "                                                                              \n",
       "⋅(L - 2⋅α₁)⎞              ⎛2⋅(L - 2⋅α₁)⎞              ⎛L - 2⋅α₁⎞              \n",
       "───────────⎟   C__{13}⋅sin⎜────────────⎟   C__{33}⋅sin⎜────────⎟   C__{33}⋅sin\n",
       "    R      ⎠              ⎝     R      ⎠              ⎝   R    ⎠              \n",
       "──────────── - ───────────────────────── + ───────────────────── + ───────────\n",
       "                           4                         4                        \n",
       "                                                                              \n",
       "                                                                              \n",
       "                                                                              \n",
       "                                                                              \n",
       "                                        0                                     \n",
       "                                                                              \n",
       "                                                                              \n",
       "  ⎞     ⎛L     ⎞               ⎛L     ⎞     ⎛L     ⎞               ⎛L     ⎞   \n",
       "α₁⎟     ⎜─ - α₁⎟               ⎜─ - α₁⎟     ⎜─ - α₁⎟               ⎜─ - α₁⎟   \n",
       "  ⎟    2⎜2     ⎟              2⎜2     ⎟    2⎜2     ⎟              4⎜2     ⎟   \n",
       "──⎟⋅cos ⎜──────⎟ + C__{33}⋅sin ⎜──────⎟⋅cos ⎜──────⎟ + C__{55}⋅sin ⎜──────⎟ - \n",
       "  ⎠     ⎝  R   ⎠               ⎝  R   ⎠     ⎝  R   ⎠               ⎝  R   ⎠   \n",
       "                                                                              \n",
       "                                                                              \n",
       "                                                                              \n",
       "                                                                              \n",
       "                                        0                                     \n",
       "                                                                              \n",
       "\n",
       "⎛2⋅(L - 2⋅α₁)⎞              ⎛2⋅(L - 2⋅α₁)⎞                                    \n",
       "⎜────────────⎟   C__{55}⋅sin⎜────────────⎟                                    \n",
       "⎝     R      ⎠              ⎝     R      ⎠                                    \n",
       "────────────── + ─────────────────────────                                    \n",
       " 8                           2                                                \n",
       "                                                                              \n",
       "                                                                              \n",
       "                                                                              \n",
       "                                                                              \n",
       "                                                                              \n",
       "                                                                              \n",
       "                                                                              \n",
       "⎛2⋅(L - 2⋅α₁)⎞              ⎛2⋅(L - 2⋅α₁)⎞                                    \n",
       "⎜────────────⎟   C__{55}⋅sin⎜────────────⎟                                    \n",
       "⎝     R      ⎠              ⎝     R      ⎠                                    \n",
       "────────────── - ─────────────────────────                                    \n",
       " 8                           2                                                \n",
       "                                                                              \n",
       "                                                                              \n",
       "                                                                (-C__{44} + C_\n",
       "                                                                              \n",
       "                                                                ──────────────\n",
       "                                                                              \n",
       "                                                                              \n",
       "              ⎛L     ⎞     ⎛L     ⎞               ⎛L     ⎞                    \n",
       "              ⎜─ - α₁⎟     ⎜─ - α₁⎟               ⎜─ - α₁⎟                    \n",
       "             2⎜2     ⎟    2⎜2     ⎟              4⎜2     ⎟                    \n",
       "2⋅C__{55}⋅sin ⎜──────⎟⋅cos ⎜──────⎟ + C__{55}⋅cos ⎜──────⎟                    \n",
       "              ⎝  R   ⎠     ⎝  R   ⎠               ⎝  R   ⎠                    \n",
       "                                                                              \n",
       "                                                                        ⎛L    \n",
       "                                                                        ⎜─ - α\n",
       "                                                                       2⎜2    \n",
       "                                                            C__{44}⋅sin ⎜─────\n",
       "                                                                        ⎝  R  \n",
       "\n",
       "                         ⎤\n",
       "                         ⎥\n",
       "                         ⎥\n",
       "   0                     ⎥\n",
       "                         ⎥\n",
       "                         ⎥\n",
       "                         ⎥\n",
       "                         ⎥\n",
       "                         ⎥\n",
       "   0                     ⎥\n",
       "                         ⎥\n",
       "                         ⎥\n",
       "                         ⎥\n",
       "                         ⎥\n",
       "                         ⎥\n",
       "   0                     ⎥\n",
       "                         ⎥\n",
       "                         ⎥\n",
       "          ⎛L - 2⋅α₁⎞     ⎥\n",
       "_{66})⋅sin⎜────────⎟     ⎥\n",
       "          ⎝   R    ⎠     ⎥\n",
       "────────────────────     ⎥\n",
       "  2                      ⎥\n",
       "                         ⎥\n",
       "                         ⎥\n",
       "                         ⎥\n",
       "                         ⎥\n",
       "   0                     ⎥\n",
       "                         ⎥\n",
       "                         ⎥\n",
       " ⎞               ⎛L     ⎞⎥\n",
       "₁⎟               ⎜─ - α₁⎟⎥\n",
       " ⎟              2⎜2     ⎟⎥\n",
       "─⎟ + C__{66}⋅cos ⎜──────⎟⎥\n",
       " ⎠               ⎝  R   ⎠⎦"
      ]
     },
     "execution_count": 56,
     "metadata": {},
     "output_type": "execute_result"
    }
   ],
   "source": [
    "C_orthotropic_alpha_p = MutableDenseNDimArray.zeros(3, 3, 3, 3)\n",
    "q=1+alpha3/R\n",
    "for i in range(3):\n",
    "    for j in range(3):        \n",
    "        for k in range(3):\n",
    "            for l in range(3):\n",
    "                fact = 1\n",
    "                if (i==0):\n",
    "                    fact = fact*q\n",
    "                if (j==0):\n",
    "                    fact = fact*q\n",
    "                if (k==0):\n",
    "                    fact = fact*q\n",
    "                if (l==0):\n",
    "                    fact = fact*q\n",
    "                C_orthotropic_alpha_p[i,j,k,l] = simplify(C_orthotropic_alpha[i,j,k,l]*fact)\n",
    "            \n",
    "C_orthotropic_matrix_alpha_p = zeros(6)\n",
    "\n",
    "for s in range(6):\n",
    "    for t in range(6):\n",
    "        i,j = getCIndecies(s)\n",
    "        k,l = getCIndecies(t)\n",
    "        C_orthotropic_matrix_alpha_p[s,t] = C_orthotropic_alpha_p[i,j,k,l]\n",
    "        \n",
    "C_orthotropic_matrix_alpha_p"
   ]
  },
  {
   "cell_type": "markdown",
   "metadata": {},
   "source": [
    "#### Tymoshenko"
   ]
  },
  {
   "cell_type": "code",
   "execution_count": 84,
   "metadata": {},
   "outputs": [
    {
     "data": {
      "image/png": "[encoded data removed]",
      "text/latex": [
       "$$\\left[\\begin{matrix}0 & \\frac{1}{K \\alpha_{3} + 1} & 0 & \\frac{\\alpha_{3}}{K \\alpha_{3} + 1} & \\frac{K}{K \\alpha_{3} + 1} & 0\\\\0 & 0 & 0 & 0 & 0 & 0\\\\0 & 0 & 0 & 0 & 0 & 0\\\\0 & 0 & 0 & 0 & 0 & 0\\\\- \\frac{K}{K \\alpha_{3} + 1} & 0 & \\frac{1}{K \\alpha_{3} + 1} & 0 & 0 & \\frac{1}{K \\alpha_{3} + 1}\\\\0 & 0 & 0 & 0 & 0 & 0\\end{matrix}\\right]$$"
      ],
      "text/plain": [
       "⎡             1                   α₃        K              ⎤\n",
       "⎢   0      ────────     0      ────────  ────────     0    ⎥\n",
       "⎢          K⋅α₃ + 1            K⋅α₃ + 1  K⋅α₃ + 1          ⎥\n",
       "⎢                                                          ⎥\n",
       "⎢   0         0         0         0         0         0    ⎥\n",
       "⎢                                                          ⎥\n",
       "⎢   0         0         0         0         0         0    ⎥\n",
       "⎢                                                          ⎥\n",
       "⎢   0         0         0         0         0         0    ⎥\n",
       "⎢                                                          ⎥\n",
       "⎢  -K                   1                             1    ⎥\n",
       "⎢────────     0      ────────     0         0      ────────⎥\n",
       "⎢K⋅α₃ + 1            K⋅α₃ + 1                      K⋅α₃ + 1⎥\n",
       "⎢                                                          ⎥\n",
       "⎣   0         0         0         0         0         0    ⎦"
      ]
     },
     "execution_count": 84,
     "metadata": {},
     "output_type": "execute_result"
    }
   ],
   "source": [
    "D_p_T = D_p*T\n",
    "K = Symbol('K')\n",
    "D_p_T = D_p_T.subs(R, 1/K)\n",
    "simplify(D_p_T)"
   ]
  },
  {
   "cell_type": "markdown",
   "metadata": {},
   "source": [
    "## Square of segment "
   ]
  },
  {
   "cell_type": "markdown",
   "metadata": {},
   "source": [
    "$A=\\frac {\\theta}{2} \\left( R + h_2 \\right)^2-\\frac {\\theta}{2} \\left( R + h_1 \\right)^2$"
   ]
  },
  {
   "cell_type": "code",
   "execution_count": 89,
   "metadata": {},
   "outputs": [
    {
     "data": {
      "image/png": "[encoded data removed]",
      "text/latex": [
       "$$- R h_{1} \\theta + R h_{2} \\theta - \\frac{h_{1}^{2} \\theta}{2} + \\frac{h_{2}^{2} \\theta}{2}$$"
      ],
      "text/plain": [
       "                     2       2  \n",
       "                   h₁ ⋅θ   h₂ ⋅θ\n",
       "-R⋅h₁⋅θ + R⋅h₂⋅θ - ───── + ─────\n",
       "                     2       2  "
      ]
     },
     "execution_count": 89,
     "metadata": {},
     "output_type": "execute_result"
    }
   ],
   "source": [
    "theta, h1, h2=symbols('theta h_1 h_2')\n",
    "square_geom=theta/2*(R+h2)**2-theta/2*(R+h1)**2\n",
    "expand(simplify(square_geom))"
   ]
  },
  {
   "cell_type": "markdown",
   "metadata": {},
   "source": [
    "${\\displaystyle A=\\int_{0}^{L}\\int_{h_1}^{h_2} \\left( 1+\\frac{\\alpha_3}{R} \\right) d \\alpha_1 d \\alpha_3}, L=R \\theta$"
   ]
  },
  {
   "cell_type": "code",
   "execution_count": 88,
   "metadata": {},
   "outputs": [
    {
     "data": {
      "image/png": "[encoded data removed]",
      "text/latex": [
       "$$- R h_{1} \\theta + R h_{2} \\theta - \\frac{h_{1}^{2} \\theta}{2} + \\frac{h_{2}^{2} \\theta}{2}$$"
      ],
      "text/plain": [
       "                     2       2  \n",
       "                   h₁ ⋅θ   h₂ ⋅θ\n",
       "-R⋅h₁⋅θ + R⋅h₂⋅θ - ───── + ─────\n",
       "                     2       2  "
      ]
     },
     "execution_count": 88,
     "metadata": {},
     "output_type": "execute_result"
    }
   ],
   "source": [
    "square_int=integrate(integrate(1+alpha3/R, (alpha3, h1, h2)), (alpha1, 0, theta*R))\n",
    "expand(simplify(square_int))"
   ]
  },
  {
   "cell_type": "markdown",
   "metadata": {},
   "source": [
    "## Virtual work"
   ]
  },
  {
   "cell_type": "markdown",
   "metadata": {},
   "source": [
    "### Isotropic material physical coordinates"
   ]
  },
  {
   "cell_type": "code",
   "execution_count": 58,
   "metadata": {},
   "outputs": [
    {
     "data": {
      "image/png": "[encoded data removed]",
      "text/latex": [
       "$$\\left[\\begin{array}{cccccccccccc}\\frac{\\mu}{\\left(R + \\alpha_{3}\\right)^{2}} & 0 & 0 & - \\frac{\\mu}{R + \\alpha_{3}} & 0 & 0 & 0 & 0 & 0 & - \\frac{R \\mu}{\\left(R + \\alpha_{3}\\right)^{2}} & 0 & 0\\\\0 & \\frac{R^{2} \\left(\\lambda + 2 \\mu\\right)}{\\left(R + \\alpha_{3}\\right)^{2}} & 0 & 0 & 0 & 0 & \\frac{R \\lambda}{R + \\alpha_{3}} & 0 & \\frac{R \\left(\\lambda + 2 \\mu\\right)}{\\left(R + \\alpha_{3}\\right)^{2}} & 0 & 0 & \\frac{R \\lambda}{R + \\alpha_{3}}\\\\0 & 0 & \\mu & 0 & 0 & \\frac{R \\mu}{R + \\alpha_{3}} & 0 & 0 & 0 & 0 & 0 & 0\\\\- \\frac{\\mu}{R + \\alpha_{3}} & 0 & 0 & \\mu & 0 & 0 & 0 & 0 & 0 & \\frac{R \\mu}{R + \\alpha_{3}} & 0 & 0\\\\0 & 0 & 0 & 0 & 0 & 0 & 0 & 0 & 0 & 0 & 0 & 0\\\\0 & 0 & \\frac{R \\mu}{R + \\alpha_{3}} & 0 & 0 & \\frac{R^{2} \\mu}{\\left(R + \\alpha_{3}\\right)^{2}} & 0 & 0 & 0 & 0 & 0 & 0\\\\0 & \\frac{R \\lambda}{R + \\alpha_{3}} & 0 & 0 & 0 & 0 & \\lambda + 2 \\mu & 0 & \\frac{\\lambda}{R + \\alpha_{3}} & 0 & 0 & \\lambda\\\\0 & 0 & 0 & 0 & 0 & 0 & 0 & \\mu & 0 & 0 & \\mu & 0\\\\0 & \\frac{R \\left(\\lambda + 2 \\mu\\right)}{\\left(R + \\alpha_{3}\\right)^{2}} & 0 & 0 & 0 & 0 & \\frac{\\lambda}{R + \\alpha_{3}} & 0 & \\frac{\\lambda + 2 \\mu}{\\left(R + \\alpha_{3}\\right)^{2}} & 0 & 0 & \\frac{\\lambda}{R + \\alpha_{3}}\\\\- \\frac{R \\mu}{\\left(R + \\alpha_{3}\\right)^{2}} & 0 & 0 & \\frac{R \\mu}{R + \\alpha_{3}} & 0 & 0 & 0 & 0 & 0 & \\frac{R^{2} \\mu}{\\left(R + \\alpha_{3}\\right)^{2}} & 0 & 0\\\\0 & 0 & 0 & 0 & 0 & 0 & 0 & \\mu & 0 & 0 & \\mu & 0\\\\0 & \\frac{R \\lambda}{R + \\alpha_{3}} & 0 & 0 & 0 & 0 & \\lambda & 0 & \\frac{\\lambda}{R + \\alpha_{3}} & 0 & 0 & \\lambda + 2 \\mu\\end{array}\\right]$$"
      ],
      "text/plain": [
       "⎡    μ                             -μ                                         \n",
       "⎢─────────       0          0     ──────  0      0         0     0       0    \n",
       "⎢        2                        R + α₃                                      \n",
       "⎢(R + α₃)                                                                     \n",
       "⎢                                                                             \n",
       "⎢            2                                                                \n",
       "⎢           R ⋅(λ + 2⋅μ)                                 R⋅λ        R⋅(λ + 2⋅μ\n",
       "⎢    0      ────────────    0       0     0      0      ──────   0  ──────────\n",
       "⎢                    2                                  R + α₃               2\n",
       "⎢            (R + α₃)                                                (R + α₃) \n",
       "⎢                                                                             \n",
       "⎢                                              R⋅μ                            \n",
       "⎢    0           0          μ       0     0   ──────       0     0       0    \n",
       "⎢                                             R + α₃                          \n",
       "⎢                                                                             \n",
       "⎢  -μ                                                                         \n",
       "⎢ ──────         0          0       μ     0      0         0     0       0    \n",
       "⎢ R + α₃                                                                      \n",
       "⎢                                                                             \n",
       "⎢    0           0          0       0     0      0         0     0       0    \n",
       "⎢                                                                             \n",
       "⎢                                                2                            \n",
       "⎢                          R⋅μ                  R ⋅μ                          \n",
       "⎢    0           0        ──────    0     0  ─────────     0     0       0    \n",
       "⎢                         R + α₃                     2                        \n",
       "⎢                                            (R + α₃)                         \n",
       "⎢                                                                             \n",
       "⎢               R⋅λ                                                     λ     \n",
       "⎢    0         ──────       0       0     0      0      λ + 2⋅μ  0    ──────  \n",
       "⎢              R + α₃                                                 R + α₃  \n",
       "⎢                                                                             \n",
       "⎢    0           0          0       0     0      0         0     μ       0    \n",
       "⎢                                                                             \n",
       "⎢           R⋅(λ + 2⋅μ)                                   λ           λ + 2⋅μ \n",
       "⎢    0      ───────────     0       0     0      0      ──────   0   ─────────\n",
       "⎢                    2                                  R + α₃               2\n",
       "⎢            (R + α₃)                                                (R + α₃) \n",
       "⎢                                                                             \n",
       "⎢                                                                             \n",
       "⎢  -R⋅μ                            R⋅μ                                        \n",
       "⎢─────────       0          0     ──────  0      0         0     0       0    \n",
       "⎢        2                        R + α₃                                      \n",
       "⎢(R + α₃)                                                                     \n",
       "⎢                                                                             \n",
       "⎢    0           0          0       0     0      0         0     μ       0    \n",
       "⎢                                                                             \n",
       "⎢               R⋅λ                                                     λ     \n",
       "⎢    0         ──────       0       0     0      0         λ     0    ──────  \n",
       "⎣              R + α₃                                                 R + α₃  \n",
       "\n",
       "     -R⋅μ               ⎤\n",
       "   ─────────  0     0   ⎥\n",
       "           2            ⎥\n",
       "   (R + α₃)             ⎥\n",
       "                        ⎥\n",
       "                        ⎥\n",
       ")                 R⋅λ   ⎥\n",
       "─      0      0  ────── ⎥\n",
       "                 R + α₃ ⎥\n",
       "                        ⎥\n",
       "                        ⎥\n",
       "                        ⎥\n",
       "       0      0     0   ⎥\n",
       "                        ⎥\n",
       "                        ⎥\n",
       "     R⋅μ                ⎥\n",
       "    ──────    0     0   ⎥\n",
       "    R + α₃              ⎥\n",
       "                        ⎥\n",
       "       0      0     0   ⎥\n",
       "                        ⎥\n",
       "                        ⎥\n",
       "                        ⎥\n",
       "       0      0     0   ⎥\n",
       "                        ⎥\n",
       "                        ⎥\n",
       "                        ⎥\n",
       "                        ⎥\n",
       "       0      0     λ   ⎥\n",
       "                        ⎥\n",
       "                        ⎥\n",
       "       0      μ     0   ⎥\n",
       "                        ⎥\n",
       "                   λ    ⎥\n",
       "       0      0  ────── ⎥\n",
       "                 R + α₃ ⎥\n",
       "                        ⎥\n",
       "                        ⎥\n",
       "       2                ⎥\n",
       "      R ⋅μ              ⎥\n",
       "   ─────────  0     0   ⎥\n",
       "           2            ⎥\n",
       "   (R + α₃)             ⎥\n",
       "                        ⎥\n",
       "       0      μ     0   ⎥\n",
       "                        ⎥\n",
       "                        ⎥\n",
       "       0      0  λ + 2⋅μ⎥\n",
       "                        ⎦"
      ]
     },
     "execution_count": 58,
     "metadata": {},
     "output_type": "execute_result"
    }
   ],
   "source": [
    "simplify(D_p.T*C_isotropic_matrix_alpha_p*D_p)"
   ]
  },
  {
   "cell_type": "markdown",
   "metadata": {},
   "source": [
    "### Isotropic material physical coordinates - Tymoshenko"
   ]
  },
  {
   "cell_type": "code",
   "execution_count": 95,
   "metadata": {},
   "outputs": [
    {
     "data": {
      "image/png": "[encoded data removed]",
      "text/latex": [
       "$$\\left[\\begin{matrix}K^{2} \\mu & 0 & - K \\mu & 0 & 0 & - K \\mu\\\\0 & \\lambda + 2 \\mu & 0 & \\alpha_{3} \\left(\\lambda + 2 \\mu\\right) & K \\left(\\lambda + 2 \\mu\\right) & 0\\\\- K \\mu & 0 & \\mu & 0 & 0 & \\mu\\\\0 & \\alpha_{3} \\left(\\lambda + 2 \\mu\\right) & 0 & \\alpha_{3}^{2} \\left(\\lambda + 2 \\mu\\right) & K \\alpha_{3} \\left(\\lambda + 2 \\mu\\right) & 0\\\\0 & K \\left(\\lambda + 2 \\mu\\right) & 0 & K \\alpha_{3} \\left(\\lambda + 2 \\mu\\right) & K^{2} \\left(\\lambda + 2 \\mu\\right) & 0\\\\- K \\mu & 0 & \\mu & 0 & 0 & \\mu\\end{matrix}\\right]$$"
      ],
      "text/plain": [
       "⎡ 2                                                            ⎤\n",
       "⎢K ⋅μ       0        -K⋅μ        0               0         -K⋅μ⎥\n",
       "⎢                                                              ⎥\n",
       "⎢ 0      λ + 2⋅μ      0     α₃⋅(λ + 2⋅μ)    K⋅(λ + 2⋅μ)     0  ⎥\n",
       "⎢                                                              ⎥\n",
       "⎢-K⋅μ       0         μ          0               0          μ  ⎥\n",
       "⎢                                                              ⎥\n",
       "⎢                            2                                 ⎥\n",
       "⎢ 0    α₃⋅(λ + 2⋅μ)   0    α₃ ⋅(λ + 2⋅μ)   K⋅α₃⋅(λ + 2⋅μ)   0  ⎥\n",
       "⎢                                                              ⎥\n",
       "⎢                                            2                 ⎥\n",
       "⎢ 0    K⋅(λ + 2⋅μ)    0    K⋅α₃⋅(λ + 2⋅μ)   K ⋅(λ + 2⋅μ)    0  ⎥\n",
       "⎢                                                              ⎥\n",
       "⎣-K⋅μ       0         μ          0               0          μ  ⎦"
      ]
     },
     "execution_count": 95,
     "metadata": {},
     "output_type": "execute_result"
    }
   ],
   "source": [
    "W = simplify(D_p_T.T*C_isotropic_matrix_alpha_p*D_p_T*(1+alpha3*K)**2)\n",
    "W"
   ]
  },
  {
   "cell_type": "code",
   "execution_count": 96,
   "metadata": {},
   "outputs": [
    {
     "data": {
      "image/png": "[encoded data removed]",
      "text/latex": [
       "$$\\left[\\begin{matrix}\\frac{E K^{2} h}{2 \\nu + 2} & 0 & - \\frac{E K h}{2 \\nu + 2} & 0 & 0 & - \\frac{E K h}{2 \\nu + 2}\\\\0 & h \\left(\\frac{E \\nu}{\\left(- 2 \\nu + 1\\right) \\left(\\nu + 1\\right)} + \\frac{2 E}{2 \\nu + 2}\\right) & 0 & 0 & K h \\left(\\frac{E \\nu}{\\left(- 2 \\nu + 1\\right) \\left(\\nu + 1\\right)} + \\frac{2 E}{2 \\nu + 2}\\right) & 0\\\\- \\frac{E K h}{2 \\nu + 2} & 0 & \\frac{E h}{2 \\nu + 2} & 0 & 0 & \\frac{E h}{2 \\nu + 2}\\\\0 & 0 & 0 & \\frac{h^{3}}{12} \\left(\\frac{E \\nu}{\\left(- 2 \\nu + 1\\right) \\left(\\nu + 1\\right)} + \\frac{2 E}{2 \\nu + 2}\\right) & 0 & 0\\\\0 & K h \\left(\\frac{E \\nu}{\\left(- 2 \\nu + 1\\right) \\left(\\nu + 1\\right)} + \\frac{2 E}{2 \\nu + 2}\\right) & 0 & 0 & K^{2} h \\left(\\frac{E \\nu}{\\left(- 2 \\nu + 1\\right) \\left(\\nu + 1\\right)} + \\frac{2 E}{2 \\nu + 2}\\right) & 0\\\\- \\frac{E K h}{2 \\nu + 2} & 0 & \\frac{E h}{2 \\nu + 2} & 0 & 0 & \\frac{E h}{2 \\nu + 2}\\end{matrix}\\right]$$"
      ],
      "text/plain": [
       "⎡    2                                                                        \n",
       "⎢ E⋅K ⋅h                                      -E⋅K⋅h                          \n",
       "⎢───────                  0                   ───────                  0      \n",
       "⎢2⋅ν + 2                                      2⋅ν + 2                         \n",
       "⎢                                                                             \n",
       "⎢            ⎛       E⋅ν             2⋅E  ⎞                                   \n",
       "⎢   0      h⋅⎜────────────────── + ───────⎟      0                     0      \n",
       "⎢            ⎝(-2⋅ν + 1)⋅(ν + 1)   2⋅ν + 2⎠                                   \n",
       "⎢                                                                             \n",
       "⎢-E⋅K⋅h                                         E⋅h                           \n",
       "⎢───────                  0                   ───────                  0      \n",
       "⎢2⋅ν + 2                                      2⋅ν + 2                         \n",
       "⎢                                                                             \n",
       "⎢                                                       3 ⎛       E⋅ν         \n",
       "⎢                                                      h ⋅⎜────────────────── \n",
       "⎢                                                         ⎝(-2⋅ν + 1)⋅(ν + 1) \n",
       "⎢   0                     0                      0     ───────────────────────\n",
       "⎢                                                                      12     \n",
       "⎢                                                                             \n",
       "⎢             ⎛       E⋅ν             2⋅E  ⎞                                  \n",
       "⎢   0     K⋅h⋅⎜────────────────── + ───────⎟     0                     0      \n",
       "⎢             ⎝(-2⋅ν + 1)⋅(ν + 1)   2⋅ν + 2⎠                                  \n",
       "⎢                                                                             \n",
       "⎢-E⋅K⋅h                                         E⋅h                           \n",
       "⎢───────                  0                   ───────                  0      \n",
       "⎣2⋅ν + 2                                      2⋅ν + 2                         \n",
       "\n",
       "                                                        ⎤\n",
       "                                                 -E⋅K⋅h ⎥\n",
       "                             0                   ───────⎥\n",
       "                                                 2⋅ν + 2⎥\n",
       "                                                        ⎥\n",
       "                ⎛       E⋅ν             2⋅E  ⎞          ⎥\n",
       "            K⋅h⋅⎜────────────────── + ───────⎟      0   ⎥\n",
       "                ⎝(-2⋅ν + 1)⋅(ν + 1)   2⋅ν + 2⎠          ⎥\n",
       "                                                        ⎥\n",
       "                                                   E⋅h  ⎥\n",
       "                             0                   ───────⎥\n",
       "                                                 2⋅ν + 2⎥\n",
       "                                                        ⎥\n",
       "    2⋅E  ⎞                                              ⎥\n",
       "+ ───────⎟                                              ⎥\n",
       "  2⋅ν + 2⎠                                              ⎥\n",
       "──────────                   0                      0   ⎥\n",
       "                                                        ⎥\n",
       "                                                        ⎥\n",
       "             2   ⎛       E⋅ν             2⋅E  ⎞         ⎥\n",
       "            K ⋅h⋅⎜────────────────── + ───────⎟     0   ⎥\n",
       "                 ⎝(-2⋅ν + 1)⋅(ν + 1)   2⋅ν + 2⎠         ⎥\n",
       "                                                        ⎥\n",
       "                                                   E⋅h  ⎥\n",
       "                             0                   ───────⎥\n",
       "                                                 2⋅ν + 2⎦"
      ]
     },
     "execution_count": 96,
     "metadata": {},
     "output_type": "execute_result"
    }
   ],
   "source": [
    "h=Symbol('h')\n",
    "E=Symbol('E')\n",
    "v=Symbol('nu')\n",
    "W_a3 = integrate(W, (alpha3, -h/2, h/2))\n",
    "W_a3 = simplify(W_a3)\n",
    "W_a3.subs(la, E*v/((1+v)*(1-2*v))).subs(mu, E/((1+v)*2))"
   ]
  },
  {
   "cell_type": "code",
   "execution_count": 91,
   "metadata": {},
   "outputs": [
    {
     "data": {
      "image/png": "[encoded data removed]",
      "text/latex": [
       "$$\\left[\\begin{matrix}\\frac{5 E K^{2} h}{12 \\nu + 12} & 0 & - \\frac{5 E K h}{12 \\nu + 12} & 0 & 0 & - \\frac{5 E K h}{12 \\nu + 12}\\\\0 & \\frac{E h}{- \\nu^{2} + 1} & 0 & 0 & \\frac{E K h}{- \\nu^{2} + 1} & 0\\\\- \\frac{5 E K h}{12 \\nu + 12} & 0 & \\frac{5 E h}{12 \\nu + 12} & 0 & 0 & \\frac{5 E h}{12 \\nu + 12}\\\\0 & 0 & 0 & \\frac{E h^{3}}{- 12 \\nu^{2} + 12} & 0 & 0\\\\0 & \\frac{E K h}{- \\nu^{2} + 1} & 0 & 0 & \\frac{E K^{2} h}{- \\nu^{2} + 1} & 0\\\\- \\frac{5 E K h}{12 \\nu + 12} & 0 & \\frac{5 E h}{12 \\nu + 12} & 0 & 0 & \\frac{5 E h}{12 \\nu + 12}\\end{matrix}\\right]$$"
      ],
      "text/plain": [
       "⎡      2                                                          ⎤\n",
       "⎢ 5⋅E⋅K ⋅h            -5⋅E⋅K⋅h                           -5⋅E⋅K⋅h ⎥\n",
       "⎢─────────     0      ─────────       0           0      ─────────⎥\n",
       "⎢12⋅ν + 12            12⋅ν + 12                          12⋅ν + 12⎥\n",
       "⎢                                                                 ⎥\n",
       "⎢             E⋅h                               E⋅K⋅h             ⎥\n",
       "⎢    0      ────────      0           0        ────────      0    ⎥\n",
       "⎢              2                                  2               ⎥\n",
       "⎢           - ν  + 1                           - ν  + 1           ⎥\n",
       "⎢                                                                 ⎥\n",
       "⎢-5⋅E⋅K⋅h               5⋅E⋅h                              5⋅E⋅h  ⎥\n",
       "⎢─────────     0      ─────────       0           0      ─────────⎥\n",
       "⎢12⋅ν + 12            12⋅ν + 12                          12⋅ν + 12⎥\n",
       "⎢                                                                 ⎥\n",
       "⎢                                       3                         ⎥\n",
       "⎢                                    E⋅h                          ⎥\n",
       "⎢    0         0          0      ────────────     0          0    ⎥\n",
       "⎢                                      2                          ⎥\n",
       "⎢                                - 12⋅ν  + 12                     ⎥\n",
       "⎢                                                                 ⎥\n",
       "⎢                                                  2              ⎥\n",
       "⎢            E⋅K⋅h                              E⋅K ⋅h            ⎥\n",
       "⎢    0      ────────      0           0        ────────      0    ⎥\n",
       "⎢              2                                  2               ⎥\n",
       "⎢           - ν  + 1                           - ν  + 1           ⎥\n",
       "⎢                                                                 ⎥\n",
       "⎢-5⋅E⋅K⋅h               5⋅E⋅h                              5⋅E⋅h  ⎥\n",
       "⎢─────────     0      ─────────       0           0      ─────────⎥\n",
       "⎣12⋅ν + 12            12⋅ν + 12                          12⋅ν + 12⎦"
      ]
     },
     "execution_count": 91,
     "metadata": {},
     "output_type": "execute_result"
    }
   ],
   "source": [
    "A_M = zeros(3)\n",
    "A_M[0,0] = E*h/(1-v**2)\n",
    "A_M[1,1] = 5*E*h/(12*(1+v))\n",
    "A_M[2,2] = E*h**3/(12*(1-v**2))\n",
    "Q_M = zeros(3,6)\n",
    "Q_M[0,1] = 1\n",
    "Q_M[0,4] = K\n",
    "Q_M[1,0] = -K\n",
    "Q_M[1,2] = 1\n",
    "Q_M[1,5] = 1\n",
    "Q_M[2,3] = 1\n",
    "\n",
    "W_M=Q_M.T*A_M*Q_M\n",
    "W_M"
   ]
  }
 ],
 "metadata": {
  "kernelspec": {
   "display_name": "Python 3",
   "language": "python",
   "name": "python3"
  },
  "language_info": {
   "codemirror_mode": {
    "name": "ipython",
    "version": 3
   },
   "file_extension": ".py",
   "mimetype": "text/x-python",
   "name": "python",
   "nbconvert_exporter": "python",
   "pygments_lexer": "ipython3",
   "version": "3.6.4"
  }
 },
 "nbformat": 4,
 "nbformat_minor": 2
}
