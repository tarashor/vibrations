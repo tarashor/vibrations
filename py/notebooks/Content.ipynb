{
 "cells": [
  {
   "cell_type": "markdown",
   "metadata": {},
   "source": [
    "# List of Notebooks\n",
    "\n",
    " 1. [General Matrices for orthogonal coordinates](MatricesForOrthogonalCoordinates.ipynb)\n",
    " 2. [Matrices for orthogonal coordinates (Lame coefficeints - $H_1\\neq1,H_2\\equiv1,H3\\equiv1$)](MatricesForOrthogonalCoordinatesPlane.ipynb)\n",
    " 3. [Matrices for orthogonal coordinates (Lame coefficeints - $H_1=A(1+\\alpha_3K),H_2\\equiv1,H3\\equiv1$)](MatricesForOrthogonalCoordinatesLameCoeffFromCurvature.ipynb)\n",
    " 4. Lame Coefficients for standart shells\n",
    "    - [Plates](MatricesForPlanePlates.ipynb)\n",
    "    - [Shells](MatricesForPlaneShells.ipynb)\n",
    "    - [Corrugated shells](MatricesForPlaneCorrugatedShells.ipynb)\n",
    " 5. Linear solutions using different shell theories\n",
    "    - [Mindlin–Reissner(Tymoshenko)](LinearSolShellsFEM.ipynb)\n",
    "    - [Higher-order shells](LinearSolShellsSquareFEM.ipynb)\n",
    "    - [General 3D space](LinearSol2DFEM.ipynb)\n",
    " 7. [Nonlinear Solution]"
   ]
  },
  {
   "cell_type": "code",
   "execution_count": null,
   "metadata": {},
   "outputs": [],
   "source": []
  }
 ],
 "metadata": {
  "kernelspec": {
   "display_name": "Python 3",
   "language": "python",
   "name": "python3"
  },
  "language_info": {
   "codemirror_mode": {
    "name": "ipython",
    "version": 3
   },
   "file_extension": ".py",
   "mimetype": "text/x-python",
   "name": "python",
   "nbconvert_exporter": "python",
   "pygments_lexer": "ipython3",
   "version": "3.6.1"
  }
 },
 "nbformat": 4,
 "nbformat_minor": 2
}
