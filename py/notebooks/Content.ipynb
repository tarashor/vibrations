{
 "cells": [
  {
   "cell_type": "markdown",
   "metadata": {},
   "source": [
    "# List of Notebooks\n",
    "\n",
    " 1. [General Matrices for orthogonal coordinates](MatricesForOrthogonalCoordinates.ipynb)\n",
    " 2. [Matrices for orthogonal coordinates (Plane case)](MatricesForOrthogonalCoordinatesPlane.ipynb)\n",
    " 3. [Plates](MatricesForPlanePlates.ipynb)\n",
    " 4. [Shells](MatricesForPlaneShells.ipynb)\n",
    " 5. [Corrugated shells](MatricesForPlaneCorrugatedShells.ipynb)\n",
    " 6. [Linear solution]\n",
    " 7. [Nonlinear Solution]"
   ]
  },
  {
   "cell_type": "code",
   "execution_count": null,
   "metadata": {},
   "outputs": [],
   "source": []
  }
 ],
 "metadata": {
  "kernelspec": {
   "display_name": "Python 3",
   "language": "python",
   "name": "python3"
  },
  "language_info": {
   "codemirror_mode": {
    "name": "ipython",
    "version": 3
   },
   "file_extension": ".py",
   "mimetype": "text/x-python",
   "name": "python",
   "nbconvert_exporter": "python",
   "pygments_lexer": "ipython3",
   "version": "3.6.1"
  }
 },
 "nbformat": 4,
 "nbformat_minor": 2
}
