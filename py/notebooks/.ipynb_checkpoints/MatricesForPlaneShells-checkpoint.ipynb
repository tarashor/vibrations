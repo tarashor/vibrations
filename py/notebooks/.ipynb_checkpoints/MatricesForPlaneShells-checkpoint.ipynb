{
 "cells": [
  {
   "cell_type": "markdown",
   "metadata": {},
   "source": [
    "# Matrix generation"
   ]
  },
  {
   "cell_type": "markdown",
   "metadata": {},
   "source": [
    "## Init symbols for *sympy*"
   ]
  },
  {
   "cell_type": "code",
   "execution_count": 1,
   "metadata": {},
   "outputs": [],
   "source": [
    "from sympy import *\n",
    "from geom_util import *\n",
    "from sympy.vector import CoordSys3D\n",
    "N = CoordSys3D('N')\n",
    "alpha1, alpha2, alpha3 = symbols(\"alpha_1 alpha_2 alpha_3\", real = True, positive=True)\n",
    "init_printing()\n",
    "\n",
    "%matplotlib inline\n",
    "\n",
    "%reload_ext autoreload\n",
    "%autoreload 2\n",
    "%aimport geom_util"
   ]
  },
  {
   "cell_type": "markdown",
   "metadata": {},
   "source": [
    "## Cylindrical coordinates"
   ]
  },
  {
   "cell_type": "code",
   "execution_count": 2,
   "metadata": {},
   "outputs": [],
   "source": [
    "R, L = symbols(\"R L\", real = True, positive=True)"
   ]
  },
  {
   "cell_type": "code",
   "execution_count": 3,
   "metadata": {},
   "outputs": [],
   "source": [
    "a1 = pi / 2 + (L / 2 - alpha1)/R\n",
    "\n",
    "x = (R + alpha3)* cos(a1)\n",
    "y = alpha2\n",
    "z = (R + alpha3) * sin(a1)\n",
    "\n",
    "r = x*N.i + y*N.j + z*N.k"
   ]
  },
  {
   "cell_type": "code",
   "execution_count": 4,
   "metadata": {},
   "outputs": [],
   "source": [
    "R1=r.diff(alpha1)\n",
    "R2=r.diff(alpha2)\n",
    "R3=r.diff(alpha3)"
   ]
  },
  {
   "cell_type": "code",
   "execution_count": 5,
   "metadata": {},
   "outputs": [
    {
     "data": {
      "image/png": "[encoded data removed]",
      "text/latex": [
       "$$(\\frac{1}{R} \\left(R + \\alpha_{3}\\right) \\cos{\\left (\\frac{1}{R} \\left(\\frac{L}{2} - \\alpha_{1}\\right) \\right )})\\mathbf{\\hat{i}_{N}} + (\\frac{1}{R} \\left(R + \\alpha_{3}\\right) \\sin{\\left (\\frac{1}{R} \\left(\\frac{L}{2} - \\alpha_{1}\\right) \\right )})\\mathbf{\\hat{k}_{N}}$$"
      ],
      "text/plain": [
       "⎛            ⎛L     ⎞ N_i⎞ N_i + ⎛            ⎛L     ⎞ N_k⎞ N_k\n",
       "⎜            ⎜─ - α₁⎟⎟           ⎜            ⎜─ - α₁⎟⎟        \n",
       "⎜            ⎜2     ⎟⎟           ⎜            ⎜2     ⎟⎟        \n",
       "⎜(R + α₃)⋅cos⎜──────⎟⎟           ⎜(R + α₃)⋅sin⎜──────⎟⎟        \n",
       "⎜            ⎝  R   ⎠⎟           ⎜            ⎝  R   ⎠⎟        \n",
       "⎜────────────────────⎟           ⎜────────────────────⎟        \n",
       "⎝         R          ⎠           ⎝         R          ⎠        "
      ]
     },
     "execution_count": 5,
     "metadata": {},
     "output_type": "execute_result"
    }
   ],
   "source": [
    "R1"
   ]
  },
  {
   "cell_type": "code",
   "execution_count": 6,
   "metadata": {},
   "outputs": [
    {
     "data": {
      "image/png": "[encoded data removed]",
      "text/latex": [
       "$$\\mathbf{\\hat{j}_{N}}$$"
      ],
      "text/plain": [
       "N_j"
      ]
     },
     "execution_count": 6,
     "metadata": {},
     "output_type": "execute_result"
    }
   ],
   "source": [
    "R2"
   ]
  },
  {
   "cell_type": "code",
   "execution_count": 7,
   "metadata": {},
   "outputs": [
    {
     "data": {
      "image/png": "[encoded data removed]",
      "text/latex": [
       "$$(- \\sin{\\left (\\frac{1}{R} \\left(\\frac{L}{2} - \\alpha_{1}\\right) \\right )})\\mathbf{\\hat{i}_{N}} + (\\cos{\\left (\\frac{1}{R} \\left(\\frac{L}{2} - \\alpha_{1}\\right) \\right )})\\mathbf{\\hat{k}_{N}}$$"
      ],
      "text/plain": [
       "⎛    ⎛L     ⎞ N_i⎞ N_i + ⎛   ⎛L     ⎞ N_k⎞ N_k\n",
       "⎜    ⎜─ - α₁⎟⎟           ⎜   ⎜─ - α₁⎟⎟        \n",
       "⎜    ⎜2     ⎟⎟           ⎜   ⎜2     ⎟⎟        \n",
       "⎜-sin⎜──────⎟⎟           ⎜cos⎜──────⎟⎟        \n",
       "⎝    ⎝  R   ⎠⎠           ⎝   ⎝  R   ⎠⎠        "
      ]
     },
     "execution_count": 7,
     "metadata": {},
     "output_type": "execute_result"
    }
   ],
   "source": [
    "R3"
   ]
  },
  {
   "cell_type": "markdown",
   "metadata": {},
   "source": [
    "### Draw"
   ]
  },
  {
   "cell_type": "code",
   "execution_count": 8,
   "metadata": {},
   "outputs": [
    {
     "ename": "ValueError",
     "evalue": "attempted relative import beyond top-level package",
     "output_type": "error",
     "traceback": [
      "\u001b[0;31m---------------------------------------------------------------------------\u001b[0m",
      "\u001b[0;31mValueError\u001b[0m                                Traceback (most recent call last)",
      "\u001b[0;32m<ipython-input-8-88ab29504134>\u001b[0m in \u001b[0;36m<module>\u001b[0;34m()\u001b[0m\n\u001b[1;32m      2\u001b[0m \u001b[0;34m\u001b[0m\u001b[0m\n\u001b[1;32m      3\u001b[0m \u001b[0;32mimport\u001b[0m \u001b[0mmatplotlib\u001b[0m\u001b[0;34m.\u001b[0m\u001b[0mpyplot\u001b[0m \u001b[0;32mas\u001b[0m \u001b[0mplt\u001b[0m\u001b[0;34m\u001b[0m\u001b[0m\n\u001b[0;32m----> 4\u001b[0;31m \u001b[0;32mfrom\u001b[0m \u001b[0;34m.\u001b[0m\u001b[0;34m.\u001b[0m \u001b[0;32mimport\u001b[0m \u001b[0mplot\u001b[0m\u001b[0;34m\u001b[0m\u001b[0m\n\u001b[0m\u001b[1;32m      5\u001b[0m \u001b[0;34m\u001b[0m\u001b[0m\n\u001b[1;32m      6\u001b[0m \u001b[0malpha1_x\u001b[0m \u001b[0;34m=\u001b[0m \u001b[0mlambdify\u001b[0m\u001b[0;34m(\u001b[0m\u001b[0;34m[\u001b[0m\u001b[0mR\u001b[0m\u001b[0;34m,\u001b[0m \u001b[0mL\u001b[0m\u001b[0;34m,\u001b[0m \u001b[0malpha1\u001b[0m\u001b[0;34m,\u001b[0m \u001b[0malpha3\u001b[0m\u001b[0;34m]\u001b[0m\u001b[0;34m,\u001b[0m \u001b[0mx\u001b[0m\u001b[0;34m,\u001b[0m \u001b[0;34m\"numpy\"\u001b[0m\u001b[0;34m)\u001b[0m\u001b[0;34m\u001b[0m\u001b[0m\n",
      "\u001b[0;31mValueError\u001b[0m: attempted relative import beyond top-level package"
     ]
    }
   ],
   "source": [
    "%matplotlib inline\n",
    "\n",
    "import matplotlib.pyplot as plt\n",
    "from .. import plot\n",
    "\n",
    "alpha1_x = lambdify([R, L, alpha1, alpha3], x, \"numpy\")\n",
    "alpha3_z = lambdify([R, L, alpha1, alpha3], z, \"numpy\")\n",
    "\n",
    "R_num = 1/0.8\n",
    "L_num = 2\n",
    "h_num = 0.1\n",
    "\n",
    "x1_start = 0\n",
    "x1_end = L_num\n",
    "x3_start = -h_num/2\n",
    "x3_end = h_num/2\n",
    "\n",
    "def alpha_to_x(a1, a2, a3):\n",
    "    x=alpha1_x(R_num, L_num, a1, a3)\n",
    "    z=alpha3_z(R_num, L_num, a1, a3)\n",
    "    return x, 0, z\n",
    "    \n",
    "plot.plot_init_geometry_2(x1_start, x1_end, x3_start, x3_end, alpha_to_x)"
   ]
  },
  {
   "cell_type": "markdown",
   "metadata": {},
   "source": [
    "### Lame params"
   ]
  },
  {
   "cell_type": "code",
   "execution_count": 39,
   "metadata": {},
   "outputs": [
    {
     "data": {
      "image/png": "[encoded data removed]",
      "text/latex": [
       "$$\\left[\\begin{matrix}0 & 0 & \\frac{1}{R}\\\\0 & 0 & 0\\\\0 & 0 & 0\\end{matrix}\\right]$$"
      ],
      "text/plain": [
       "⎡      1⎤\n",
       "⎢0  0  ─⎥\n",
       "⎢      R⎥\n",
       "⎢       ⎥\n",
       "⎢0  0  0⎥\n",
       "⎢       ⎥\n",
       "⎣0  0  0⎦"
      ]
     },
     "execution_count": 39,
     "metadata": {},
     "output_type": "execute_result"
    }
   ],
   "source": [
    "H1 = 1+alpha3/R\n",
    "H2=S(1)\n",
    "H3=S(1)\n",
    "\n",
    "H=[H1, H2, H3]\n",
    "DIM=3\n",
    "dH = zeros(DIM,DIM)\n",
    "for i in range(DIM):\n",
    "    dH[i,0]=H[i].diff(alpha1)\n",
    "    dH[i,1]=H[i].diff(alpha2)\n",
    "    dH[i,2]=H[i].diff(alpha3)\n",
    "\n",
    "dH\n",
    "    "
   ]
  },
  {
   "cell_type": "markdown",
   "metadata": {},
   "source": [
    "### Metric tensor"
   ]
  },
  {
   "cell_type": "markdown",
   "metadata": {},
   "source": [
    "${\\displaystyle \\hat{G}=\\sum_{i,j} g^{ij}\\vec{R}_i\\vec{R}_j}$"
   ]
  },
  {
   "cell_type": "code",
   "execution_count": 40,
   "metadata": {},
   "outputs": [],
   "source": [
    "G_up = getMetricTensorUpLame(H1, H2, H3)"
   ]
  },
  {
   "cell_type": "markdown",
   "metadata": {},
   "source": [
    "${\\displaystyle \\hat{G}=\\sum_{i,j} g_{ij}\\vec{R}^i\\vec{R}^j}$"
   ]
  },
  {
   "cell_type": "code",
   "execution_count": 41,
   "metadata": {},
   "outputs": [],
   "source": [
    "G_down = getMetricTensorDownLame(H1, H2, H3)"
   ]
  },
  {
   "cell_type": "markdown",
   "metadata": {},
   "source": [
    "### Christoffel symbols"
   ]
  },
  {
   "cell_type": "code",
   "execution_count": 42,
   "metadata": {},
   "outputs": [
    {
     "data": {
      "image/png": "[encoded data removed]",
      "text/latex": [
       "$$\\left[\\begin{matrix}\\left[\\begin{matrix}0 & 0 & - \\frac{1}{R^{2}} \\left(R + \\alpha_{3}\\right)\\\\0 & 0 & 0\\\\\\frac{1}{R + \\alpha_{3}} & 0 & 0\\end{matrix}\\right] & \\left[\\begin{matrix}0 & 0 & 0\\\\0 & 0 & 0\\\\0 & 0 & 0\\end{matrix}\\right] & \\left[\\begin{matrix}\\frac{1}{R + \\alpha_{3}} & 0 & 0\\\\0 & 0 & 0\\\\0 & 0 & 0\\end{matrix}\\right]\\end{matrix}\\right]$$"
      ],
      "text/plain": [
       "⎡⎡           -(R + α₃) ⎤                           ⎤\n",
       "⎢⎢  0     0  ──────────⎥                           ⎥\n",
       "⎢⎢                2    ⎥             ⎡  1         ⎤⎥\n",
       "⎢⎢               R     ⎥  ⎡0  0  0⎤  ⎢──────  0  0⎥⎥\n",
       "⎢⎢                     ⎥  ⎢       ⎥  ⎢R + α₃      ⎥⎥\n",
       "⎢⎢  0     0      0     ⎥  ⎢0  0  0⎥  ⎢            ⎥⎥\n",
       "⎢⎢                     ⎥  ⎢       ⎥  ⎢  0     0  0⎥⎥\n",
       "⎢⎢  1                  ⎥  ⎣0  0  0⎦  ⎢            ⎥⎥\n",
       "⎢⎢──────  0      0     ⎥             ⎣  0     0  0⎦⎥\n",
       "⎣⎣R + α₃               ⎦                           ⎦"
      ]
     },
     "execution_count": 42,
     "metadata": {},
     "output_type": "execute_result"
    }
   ],
   "source": [
    "DIM=3\n",
    "\n",
    "G_down_diff = MutableDenseNDimArray.zeros(DIM, DIM, DIM)\n",
    "for i in range(DIM):\n",
    "    for j in range(DIM):\n",
    "        for k in range(DIM):\n",
    "                \n",
    "            G_down_diff[i,i,k]=2*H[i]*dH[i,k]\n",
    "                \n",
    "\n",
    "GK = getChristoffelSymbols2(G_up, G_down_diff, (alpha1, alpha2, alpha3))\n",
    "GK"
   ]
  },
  {
   "cell_type": "markdown",
   "metadata": {},
   "source": [
    "### Gradient of vector"
   ]
  },
  {
   "cell_type": "markdown",
   "metadata": {},
   "source": [
    "$ \n",
    "\\left( \n",
    "\\begin{array}{c} \n",
    "\\nabla_1 u_1 \\\\ \\nabla_2 u_1 \\\\ \\nabla_3 u_1 \\\\\n",
    "\\nabla_1 u_2 \\\\ \\nabla_2 u_2 \\\\ \\nabla_3 u_2 \\\\\n",
    "\\nabla_1 u_3 \\\\ \\nabla_2 u_3 \\\\ \\nabla_3 u_3 \\\\\n",
    "\\end{array} \n",
    "\\right)\n",
    "=  \n",
    "B \\cdot\n",
    "\\left( \n",
    "\\begin{array}{c} \n",
    "u_1 \\\\\n",
    "\\frac { \\partial u_1 } { \\partial \\alpha_1} \\\\\n",
    "\\frac { \\partial u_1 } { \\partial \\alpha_2} \\\\\n",
    "\\frac { \\partial u_1 } { \\partial \\alpha_3} \\\\\n",
    "u_2 \\\\\n",
    "\\frac { \\partial u_2 } { \\partial \\alpha_1} \\\\\n",
    "\\frac { \\partial u_2 } { \\partial \\alpha_2} \\\\\n",
    "\\frac { \\partial u_2 } { \\partial \\alpha_3} \\\\\n",
    "u_3 \\\\\n",
    "\\frac { \\partial u_3 } { \\partial \\alpha_1} \\\\\n",
    "\\frac { \\partial u_3 } { \\partial \\alpha_2} \\\\\n",
    "\\frac { \\partial u_3 } { \\partial \\alpha_3} \\\\\n",
    "\\end{array} \n",
    "\\right) \n",
    "= B \\cdot D \\cdot\n",
    "\\left( \n",
    "\\begin{array}{c} \n",
    "u^1 \\\\\n",
    "\\frac { \\partial u^1 } { \\partial \\alpha_1} \\\\\n",
    "\\frac { \\partial u^1 } { \\partial \\alpha_2} \\\\\n",
    "\\frac { \\partial u^1 } { \\partial \\alpha_3} \\\\\n",
    "u^2 \\\\\n",
    "\\frac { \\partial u^2 } { \\partial \\alpha_1} \\\\\n",
    "\\frac { \\partial u^2 } { \\partial \\alpha_2} \\\\\n",
    "\\frac { \\partial u^2 } { \\partial \\alpha_3} \\\\\n",
    "u^3 \\\\\n",
    "\\frac { \\partial u^3 } { \\partial \\alpha_1} \\\\\n",
    "\\frac { \\partial u^3 } { \\partial \\alpha_2} \\\\\n",
    "\\frac { \\partial u^3 } { \\partial \\alpha_3} \\\\\n",
    "\\end{array} \n",
    "\\right) \n",
    "$"
   ]
  },
  {
   "cell_type": "code",
   "execution_count": 43,
   "metadata": {},
   "outputs": [
    {
     "data": {
      "image/png": "[encoded data removed]",
      "text/latex": [
       "$$\\left[\\begin{array}{cccccccccccc}0 & 1 & 0 & 0 & 0 & 0 & 0 & 0 & \\frac{1}{R^{2}} \\left(R + \\alpha_{3}\\right) & 0 & 0 & 0\\\\0 & 0 & 1 & 0 & 0 & 0 & 0 & 0 & 0 & 0 & 0 & 0\\\\- \\frac{1}{R + \\alpha_{3}} & 0 & 0 & 1 & 0 & 0 & 0 & 0 & 0 & 0 & 0 & 0\\\\0 & 0 & 0 & 0 & 0 & 1 & 0 & 0 & 0 & 0 & 0 & 0\\\\0 & 0 & 0 & 0 & 0 & 0 & 1 & 0 & 0 & 0 & 0 & 0\\\\0 & 0 & 0 & 0 & 0 & 0 & 0 & 1 & 0 & 0 & 0 & 0\\\\- \\frac{1}{R + \\alpha_{3}} & 0 & 0 & 0 & 0 & 0 & 0 & 0 & 0 & 1 & 0 & 0\\\\0 & 0 & 0 & 0 & 0 & 0 & 0 & 0 & 0 & 0 & 1 & 0\\\\0 & 0 & 0 & 0 & 0 & 0 & 0 & 0 & 0 & 0 & 0 & 1\\end{array}\\right]$$"
      ],
      "text/plain": [
       "⎡                             R + α₃         ⎤\n",
       "⎢  0     1  0  0  0  0  0  0  ──────  0  0  0⎥\n",
       "⎢                                2           ⎥\n",
       "⎢                               R            ⎥\n",
       "⎢                                            ⎥\n",
       "⎢  0     0  1  0  0  0  0  0    0     0  0  0⎥\n",
       "⎢                                            ⎥\n",
       "⎢ -1                                         ⎥\n",
       "⎢──────  0  0  1  0  0  0  0    0     0  0  0⎥\n",
       "⎢R + α₃                                      ⎥\n",
       "⎢                                            ⎥\n",
       "⎢  0     0  0  0  0  1  0  0    0     0  0  0⎥\n",
       "⎢                                            ⎥\n",
       "⎢  0     0  0  0  0  0  1  0    0     0  0  0⎥\n",
       "⎢                                            ⎥\n",
       "⎢  0     0  0  0  0  0  0  1    0     0  0  0⎥\n",
       "⎢                                            ⎥\n",
       "⎢ -1                                         ⎥\n",
       "⎢──────  0  0  0  0  0  0  0    0     1  0  0⎥\n",
       "⎢R + α₃                                      ⎥\n",
       "⎢                                            ⎥\n",
       "⎢  0     0  0  0  0  0  0  0    0     0  1  0⎥\n",
       "⎢                                            ⎥\n",
       "⎣  0     0  0  0  0  0  0  0    0     0  0  1⎦"
      ]
     },
     "execution_count": 43,
     "metadata": {},
     "output_type": "execute_result"
    }
   ],
   "source": [
    "def row_index_to_i_j_grad(i_row):\n",
    "    return i_row // 3, i_row % 3\n",
    "        \n",
    "\n",
    "B = zeros(9, 12)\n",
    "B[0,1] = S(1)\n",
    "B[1,2] = S(1)\n",
    "\n",
    "B[2,3] = S(1)\n",
    "\n",
    "B[3,5] = S(1)\n",
    "B[4,6] = S(1)\n",
    "B[5,7] = S(1)\n",
    "\n",
    "B[6,9] = S(1)\n",
    "B[7,10] = S(1)\n",
    "B[8,11] = S(1)\n",
    "\n",
    "for row_index in range(9):\n",
    "    i,j=row_index_to_i_j_grad(row_index)\n",
    "    B[row_index, 0] = -GK[i,j,0]\n",
    "    B[row_index, 4] = -GK[i,j,1]\n",
    "    B[row_index, 8] = -GK[i,j,2]\n",
    "\n",
    "B"
   ]
  },
  {
   "cell_type": "markdown",
   "metadata": {},
   "source": [
    "### Strain tensor\n",
    "\n",
    "$ \n",
    "\\left( \n",
    "\\begin{array}{c} \n",
    "\\varepsilon_{11} \\\\ \n",
    "\\varepsilon_{22} \\\\ \n",
    "\\varepsilon_{33} \\\\ \n",
    "2\\varepsilon_{12} \\\\ \n",
    "2\\varepsilon_{13} \\\\ \n",
    "2\\varepsilon_{23} \\\\ \n",
    "\\end{array} \n",
    "\\right)\n",
    "=  \n",
    "\\left(E + E_{NL} \\left( \\nabla \\vec{u} \\right) \\right) \\cdot \n",
    "\\left( \n",
    "\\begin{array}{c} \n",
    "\\nabla_1 u_1 \\\\ \\nabla_2 u_1 \\\\ \\nabla_3 u_1 \\\\\n",
    "\\nabla_1 u_2 \\\\ \\nabla_2 u_2 \\\\ \\nabla_3 u_2 \\\\\n",
    "\\nabla_1 u_3 \\\\ \\nabla_2 u_3 \\\\ \\nabla_3 u_3 \\\\\n",
    "\\end{array} \n",
    "\\right)$"
   ]
  },
  {
   "cell_type": "code",
   "execution_count": 44,
   "metadata": {},
   "outputs": [
    {
     "data": {
      "image/png": "[encoded data removed]",
      "text/latex": [
       "$$\\left[\\begin{matrix}1 & 0 & 0 & 0 & 0 & 0 & 0 & 0 & 0\\\\0 & 0 & 0 & 0 & 1 & 0 & 0 & 0 & 0\\\\0 & 0 & 0 & 0 & 0 & 0 & 0 & 0 & 1\\\\0 & 1 & 0 & 1 & 0 & 0 & 0 & 0 & 0\\\\0 & 0 & 1 & 0 & 0 & 0 & 1 & 0 & 0\\\\0 & 0 & 0 & 0 & 0 & 1 & 0 & 1 & 0\\end{matrix}\\right]$$"
      ],
      "text/plain": [
       "⎡1  0  0  0  0  0  0  0  0⎤\n",
       "⎢                         ⎥\n",
       "⎢0  0  0  0  1  0  0  0  0⎥\n",
       "⎢                         ⎥\n",
       "⎢0  0  0  0  0  0  0  0  1⎥\n",
       "⎢                         ⎥\n",
       "⎢0  1  0  1  0  0  0  0  0⎥\n",
       "⎢                         ⎥\n",
       "⎢0  0  1  0  0  0  1  0  0⎥\n",
       "⎢                         ⎥\n",
       "⎣0  0  0  0  0  1  0  1  0⎦"
      ]
     },
     "execution_count": 44,
     "metadata": {},
     "output_type": "execute_result"
    }
   ],
   "source": [
    "E=zeros(6,9)\n",
    "E[0,0]=1\n",
    "E[1,4]=1\n",
    "E[2,8]=1\n",
    "E[3,1]=1\n",
    "E[3,3]=1\n",
    "E[4,2]=1\n",
    "E[4,6]=1\n",
    "E[5,5]=1\n",
    "E[5,7]=1\n",
    "E"
   ]
  },
  {
   "cell_type": "code",
   "execution_count": 45,
   "metadata": {},
   "outputs": [
    {
     "data": {
      "image/png": "[encoded data removed]",
      "text/latex": [
       "$$\\left[\\begin{array}{cccccccccccc}- \\frac{1}{R + \\alpha_{3}} \\left(- \\frac{u_{1}}{2 \\left(R + \\alpha_{3}\\right)} + \\frac{u_{3,1}}{2}\\right) & \\frac{1}{\\left(1 + \\frac{\\alpha_{3}}{R}\\right)^{2}} \\left(\\frac{u_{1,1}}{2} + \\frac{u_{3} \\left(R + \\alpha_{3}\\right)}{2 R^{2}}\\right) & 0 & 0 & 0 & 0 & 0 & 0 & \\frac{1}{R^{2} \\left(1 + \\frac{\\alpha_{3}}{R}\\right)^{2}} \\left(R + \\alpha_{3}\\right) \\left(\\frac{u_{1,1}}{2} + \\frac{u_{3} \\left(R + \\alpha_{3}\\right)}{2 R^{2}}\\right) & - \\frac{u_{1}}{2 \\left(R + \\alpha_{3}\\right)} + \\frac{u_{3,1}}{2} & 0 & 0\\\\0 & 0 & 0 & 0 & 0 & 0 & 0 & 0 & 0 & 0 & 0 & 0\\\\- \\frac{- \\frac{u_{1}}{2 \\left(R + \\alpha_{3}\\right)} + \\frac{u_{1,3}}{2}}{\\left(1 + \\frac{\\alpha_{3}}{R}\\right)^{2} \\left(R + \\alpha_{3}\\right)} & 0 & 0 & \\frac{1}{\\left(1 + \\frac{\\alpha_{3}}{R}\\right)^{2}} \\left(- \\frac{u_{1}}{2 \\left(R + \\alpha_{3}\\right)} + \\frac{u_{1,3}}{2}\\right) & 0 & 0 & 0 & 0 & 0 & 0 & 0 & \\frac{u_{3,3}}{2}\\\\0 & 0 & \\frac{2}{\\left(1 + \\frac{\\alpha_{3}}{R}\\right)^{2}} \\left(\\frac{u_{1,1}}{2} + \\frac{u_{3} \\left(R + \\alpha_{3}\\right)}{2 R^{2}}\\right) & 0 & 0 & 0 & 0 & 0 & 0 & 0 & - \\frac{u_{1}}{R + \\alpha_{3}} + u_{3,1} & 0\\\\- \\frac{u_{3,3}}{R + \\alpha_{3}} & \\frac{2}{\\left(1 + \\frac{\\alpha_{3}}{R}\\right)^{2}} \\left(- \\frac{u_{1}}{2 \\left(R + \\alpha_{3}\\right)} + \\frac{u_{1,3}}{2}\\right) & 0 & 0 & 0 & 0 & 0 & 0 & \\frac{2}{R^{2} \\left(1 + \\frac{\\alpha_{3}}{R}\\right)^{2}} \\left(R + \\alpha_{3}\\right) \\left(- \\frac{u_{1}}{2 \\left(R + \\alpha_{3}\\right)} + \\frac{u_{1,3}}{2}\\right) & u_{3,3} & 0 & 0\\\\0 & 0 & 0 & 0 & 0 & 0 & 0 & 0 & 0 & 0 & 0 & 0\\end{array}\\right]$$"
      ],
      "text/plain": [
       "⎡                              u_{1,1}   u₃⋅(R + α₃)                          \n",
       "⎢ ⎛      u₁       u_{3,1}⎞     ─────── + ───────────                          \n",
       "⎢-⎜- ────────── + ───────⎟        2             2                             \n",
       "⎢ ⎝  2⋅(R + α₃)      2   ⎠                   2⋅R                              \n",
       "⎢──────────────────────────    ─────────────────────                 0        \n",
       "⎢          R + α₃                            2                                \n",
       "⎢                                    ⎛    α₃⎞                                 \n",
       "⎢                                    ⎜1 + ──⎟                                 \n",
       "⎢                                    ⎝    R ⎠                                 \n",
       "⎢                                                                             \n",
       "⎢            0                           0                           0        \n",
       "⎢                                                                             \n",
       "⎢ ⎛      u₁       u_{1,3}⎞                                                    \n",
       "⎢-⎜- ────────── + ───────⎟                                                    \n",
       "⎢ ⎝  2⋅(R + α₃)      2   ⎠                                                    \n",
       "⎢──────────────────────────              0                           0        \n",
       "⎢            2                                                                \n",
       "⎢    ⎛    α₃⎞                                                                 \n",
       "⎢    ⎜1 + ──⎟ ⋅(R + α₃)                                                       \n",
       "⎢    ⎝    R ⎠                                                                 \n",
       "⎢                                                                             \n",
       "⎢                                                          ⎛u_{1,1}   u₃⋅(R + \n",
       "⎢                                                        2⋅⎜─────── + ────────\n",
       "⎢                                                          ⎜   2             2\n",
       "⎢                                                          ⎝              2⋅R \n",
       "⎢            0                           0               ─────────────────────\n",
       "⎢                                                                        2    \n",
       "⎢                                                                ⎛    α₃⎞     \n",
       "⎢                                                                ⎜1 + ──⎟     \n",
       "⎢                                                                ⎝    R ⎠     \n",
       "⎢                                                                             \n",
       "⎢                              ⎛      u₁       u_{1,3}⎞                       \n",
       "⎢                            2⋅⎜- ────────── + ───────⎟                       \n",
       "⎢        -u_{3,3}              ⎝  2⋅(R + α₃)      2   ⎠                       \n",
       "⎢        ─────────           ──────────────────────────              0        \n",
       "⎢          R + α₃                            2                                \n",
       "⎢                                    ⎛    α₃⎞                                 \n",
       "⎢                                    ⎜1 + ──⎟                                 \n",
       "⎢                                    ⎝    R ⎠                                 \n",
       "⎢                                                                             \n",
       "⎣            0                           0                           0        \n",
       "\n",
       "                                                    ⎛u_{1,1}   u₃⋅(R + α₃)⎞   \n",
       "                                           (R + α₃)⋅⎜─────── + ───────────⎟   \n",
       "                                                    ⎜   2             2   ⎟   \n",
       "                                                    ⎝              2⋅R    ⎠   \n",
       "                0             0  0  0  0   ────────────────────────────────   \n",
       "                                                                2             \n",
       "                                                      2 ⎛    α₃⎞              \n",
       "                                                     R ⋅⎜1 + ──⎟              \n",
       "                                                        ⎝    R ⎠              \n",
       "                                                                              \n",
       "                0             0  0  0  0                   0                  \n",
       "                                                                              \n",
       "            u₁       u_{1,3}                                                  \n",
       "      - ────────── + ───────                                                  \n",
       "        2⋅(R + α₃)      2                                                     \n",
       "      ──────────────────────  0  0  0  0                   0                  \n",
       "                    2                                                         \n",
       "            ⎛    α₃⎞                                                          \n",
       "            ⎜1 + ──⎟                                                          \n",
       "            ⎝    R ⎠                                                          \n",
       "                                                                              \n",
       "α₃)⎞                                                                          \n",
       "───⎟                                                                          \n",
       "   ⎟                                                                          \n",
       "   ⎠                                                                          \n",
       "────            0             0  0  0  0                   0                  \n",
       "                                                                              \n",
       "                                                                              \n",
       "                                                                              \n",
       "                                                                              \n",
       "                                                                              \n",
       "                                                     ⎛      u₁       u_{1,3}⎞ \n",
       "                                          2⋅(R + α₃)⋅⎜- ────────── + ───────⎟ \n",
       "                                                     ⎝  2⋅(R + α₃)      2   ⎠ \n",
       "                0             0  0  0  0  ─────────────────────────────────── \n",
       "                                                                 2            \n",
       "                                                       2 ⎛    α₃⎞             \n",
       "                                                      R ⋅⎜1 + ──⎟             \n",
       "                                                         ⎝    R ⎠             \n",
       "                                                                              \n",
       "                0             0  0  0  0                   0                  \n",
       "\n",
       "                                                    ⎤\n",
       "                                                    ⎥\n",
       "                                                    ⎥\n",
       "       u₁       u_{3,1}                             ⎥\n",
       " - ────────── + ───────          0              0   ⎥\n",
       "   2⋅(R + α₃)      2                                ⎥\n",
       "                                                    ⎥\n",
       "                                                    ⎥\n",
       "                                                    ⎥\n",
       "                                                    ⎥\n",
       "           0                     0              0   ⎥\n",
       "                                                    ⎥\n",
       "                                                    ⎥\n",
       "                                                    ⎥\n",
       "                                             u_{3,3}⎥\n",
       "           0                     0           ───────⎥\n",
       "                                                2   ⎥\n",
       "                                                    ⎥\n",
       "                                                    ⎥\n",
       "                                                    ⎥\n",
       "                                                    ⎥\n",
       "                                                    ⎥\n",
       "                                                    ⎥\n",
       "                                                    ⎥\n",
       "                             u₁                     ⎥\n",
       "           0             - ────── + u_{3,1}     0   ⎥\n",
       "                           R + α₃                   ⎥\n",
       "                                                    ⎥\n",
       "                                                    ⎥\n",
       "                                                    ⎥\n",
       "                                                    ⎥\n",
       "                                                    ⎥\n",
       "                                                    ⎥\n",
       "                                                    ⎥\n",
       "        u_{3,3}                  0              0   ⎥\n",
       "                                                    ⎥\n",
       "                                                    ⎥\n",
       "                                                    ⎥\n",
       "                                                    ⎥\n",
       "                                                    ⎥\n",
       "           0                     0              0   ⎦"
      ]
     },
     "execution_count": 45,
     "metadata": {},
     "output_type": "execute_result"
    }
   ],
   "source": [
    "def E_NonLinear(grad_u):\n",
    "    N = 3\n",
    "\n",
    "    du = zeros(N, N)\n",
    "\n",
    "    #    print(\"===Deformations===\")\n",
    "\n",
    "    for i in range(N):\n",
    "        for j in range(N):\n",
    "            index = i*N+j\n",
    "            du[j,i] = grad_u[index]\n",
    "\n",
    "    #    print(\"========\")\n",
    "    \n",
    "    I = eye(3)\n",
    "\n",
    "    a_values = S(1)/S(2) * du * G_up\n",
    "\n",
    "\n",
    "    E_NL = zeros(6,9)\n",
    "    E_NL[0,0] = a_values[0,0]\n",
    "    E_NL[0,3] = a_values[0,1]\n",
    "    E_NL[0,6] = a_values[0,2]\n",
    "\n",
    "    E_NL[1,1] = a_values[1,0]\n",
    "    E_NL[1,4] = a_values[1,1]\n",
    "    E_NL[1,7] = a_values[1,2]\n",
    "\n",
    "    E_NL[2,2] = a_values[2,0]\n",
    "    E_NL[2,5] = a_values[2,1]\n",
    "    E_NL[2,8] = a_values[2,2]\n",
    "\n",
    "    E_NL[3,1] = 2*a_values[0,0]\n",
    "    E_NL[3,4] = 2*a_values[0,1]\n",
    "    E_NL[3,7] = 2*a_values[0,2]\n",
    "\n",
    "    E_NL[4,0] = 2*a_values[2,0]\n",
    "    E_NL[4,3] = 2*a_values[2,1]\n",
    "    E_NL[4,6] = 2*a_values[2,2]\n",
    "\n",
    "    E_NL[5,2] = 2*a_values[1,0]\n",
    "    E_NL[5,5] = 2*a_values[1,1]\n",
    "    E_NL[5,8] = 2*a_values[1,2]\n",
    "\n",
    "\n",
    "    return E_NL\n",
    "\n",
    "\n",
    "%aimport geom_util\n",
    "u=getUHat3DPlane(alpha1, alpha2, alpha3)\n",
    "\n",
    "\n",
    "# u=getUHatU3Main(alpha1, alpha2, alpha3)\n",
    "\n",
    "gradu=B*u\n",
    "\n",
    "\n",
    "E_NL = E_NonLinear(gradu)*B\n",
    "\n",
    "E_NL\n"
   ]
  },
  {
   "cell_type": "markdown",
   "metadata": {},
   "source": [
    "### Physical coordinates"
   ]
  },
  {
   "cell_type": "markdown",
   "metadata": {},
   "source": [
    "$u_i=u_{[i]} H_i$"
   ]
  },
  {
   "cell_type": "code",
   "execution_count": 46,
   "metadata": {},
   "outputs": [
    {
     "data": {
      "image/png": "[encoded data removed]",
      "text/latex": [
       "$$\\left[\\begin{array}{cccccccccccc}\\frac{1}{R} \\left(R + \\alpha_{3}\\right) & 0 & 0 & 0 & 0 & 0 & 0 & 0 & 0 & 0 & 0 & 0\\\\0 & \\frac{1}{R} \\left(R + \\alpha_{3}\\right) & 0 & 0 & 0 & 0 & 0 & 0 & 0 & 0 & 0 & 0\\\\0 & 0 & \\frac{1}{R} \\left(R + \\alpha_{3}\\right) & 0 & 0 & 0 & 0 & 0 & 0 & 0 & 0 & 0\\\\\\frac{1}{R} & 0 & 0 & \\frac{1}{R} \\left(R + \\alpha_{3}\\right) & 0 & 0 & 0 & 0 & 0 & 0 & 0 & 0\\\\0 & 0 & 0 & 0 & 1 & 0 & 0 & 0 & 0 & 0 & 0 & 0\\\\0 & 0 & 0 & 0 & 0 & 1 & 0 & 0 & 0 & 0 & 0 & 0\\\\0 & 0 & 0 & 0 & 0 & 0 & 1 & 0 & 0 & 0 & 0 & 0\\\\0 & 0 & 0 & 0 & 0 & 0 & 0 & 1 & 0 & 0 & 0 & 0\\\\0 & 0 & 0 & 0 & 0 & 0 & 0 & 0 & 1 & 0 & 0 & 0\\\\0 & 0 & 0 & 0 & 0 & 0 & 0 & 0 & 0 & 1 & 0 & 0\\\\0 & 0 & 0 & 0 & 0 & 0 & 0 & 0 & 0 & 0 & 1 & 0\\\\0 & 0 & 0 & 0 & 0 & 0 & 0 & 0 & 0 & 0 & 0 & 1\\end{array}\\right]$$"
      ],
      "text/plain": [
       "⎡R + α₃                                                ⎤\n",
       "⎢──────    0       0       0     0  0  0  0  0  0  0  0⎥\n",
       "⎢  R                                                   ⎥\n",
       "⎢                                                      ⎥\n",
       "⎢        R + α₃                                        ⎥\n",
       "⎢  0     ──────    0       0     0  0  0  0  0  0  0  0⎥\n",
       "⎢          R                                           ⎥\n",
       "⎢                                                      ⎥\n",
       "⎢                R + α₃                                ⎥\n",
       "⎢  0       0     ──────    0     0  0  0  0  0  0  0  0⎥\n",
       "⎢                  R                                   ⎥\n",
       "⎢                                                      ⎥\n",
       "⎢  1                     R + α₃                        ⎥\n",
       "⎢  ─       0       0     ──────  0  0  0  0  0  0  0  0⎥\n",
       "⎢  R                       R                           ⎥\n",
       "⎢                                                      ⎥\n",
       "⎢  0       0       0       0     1  0  0  0  0  0  0  0⎥\n",
       "⎢                                                      ⎥\n",
       "⎢  0       0       0       0     0  1  0  0  0  0  0  0⎥\n",
       "⎢                                                      ⎥\n",
       "⎢  0       0       0       0     0  0  1  0  0  0  0  0⎥\n",
       "⎢                                                      ⎥\n",
       "⎢  0       0       0       0     0  0  0  1  0  0  0  0⎥\n",
       "⎢                                                      ⎥\n",
       "⎢  0       0       0       0     0  0  0  0  1  0  0  0⎥\n",
       "⎢                                                      ⎥\n",
       "⎢  0       0       0       0     0  0  0  0  0  1  0  0⎥\n",
       "⎢                                                      ⎥\n",
       "⎢  0       0       0       0     0  0  0  0  0  0  1  0⎥\n",
       "⎢                                                      ⎥\n",
       "⎣  0       0       0       0     0  0  0  0  0  0  0  1⎦"
      ]
     },
     "execution_count": 46,
     "metadata": {},
     "output_type": "execute_result"
    }
   ],
   "source": [
    "P=zeros(12,12)\n",
    "P[0,0]=H[0]\n",
    "P[1,0]=dH[0,0]\n",
    "P[1,1]=H[0]\n",
    "P[2,0]=dH[0,1]\n",
    "P[2,2]=H[0]\n",
    "P[3,0]=dH[0,2]\n",
    "P[3,3]=H[0]\n",
    "\n",
    "P[4,4]=H[1]\n",
    "P[5,4]=dH[1,0]\n",
    "P[5,5]=H[1]\n",
    "P[6,4]=dH[1,1]\n",
    "P[6,6]=H[1]\n",
    "P[7,4]=dH[1,2]\n",
    "P[7,7]=H[1]\n",
    "\n",
    "P[8,8]=H[2]\n",
    "P[9,8]=dH[2,0]\n",
    "P[9,9]=H[2]\n",
    "P[10,8]=dH[2,1]\n",
    "P[10,10]=H[2]\n",
    "P[11,8]=dH[2,2]\n",
    "P[11,11]=H[2]\n",
    "P=simplify(P)\n",
    "P"
   ]
  },
  {
   "cell_type": "code",
   "execution_count": 47,
   "metadata": {},
   "outputs": [
    {
     "data": {
      "image/png": "[encoded data removed]",
      "text/latex": [
       "$$\\left[\\begin{array}{cccccccccccc}0 & \\frac{R}{R + \\alpha_{3}} & 0 & 0 & 0 & 0 & 0 & 0 & \\frac{1}{R + \\alpha_{3}} & 0 & 0 & 0\\\\0 & 0 & 1 & 0 & 0 & 0 & 0 & 0 & 0 & 0 & 0 & 0\\\\0 & 0 & 0 & 1 & 0 & 0 & 0 & 0 & 0 & 0 & 0 & 0\\\\0 & 0 & 0 & 0 & 0 & \\frac{R}{R + \\alpha_{3}} & 0 & 0 & 0 & 0 & 0 & 0\\\\0 & 0 & 0 & 0 & 0 & 0 & 1 & 0 & 0 & 0 & 0 & 0\\\\0 & 0 & 0 & 0 & 0 & 0 & 0 & 1 & 0 & 0 & 0 & 0\\\\- \\frac{1}{R + \\alpha_{3}} & 0 & 0 & 0 & 0 & 0 & 0 & 0 & 0 & \\frac{R}{R + \\alpha_{3}} & 0 & 0\\\\0 & 0 & 0 & 0 & 0 & 0 & 0 & 0 & 0 & 0 & 1 & 0\\\\0 & 0 & 0 & 0 & 0 & 0 & 0 & 0 & 0 & 0 & 0 & 1\\end{array}\\right]$$"
      ],
      "text/plain": [
       "⎡          R                              1                 ⎤\n",
       "⎢  0     ──────  0  0  0    0     0  0  ──────    0     0  0⎥\n",
       "⎢        R + α₃                         R + α₃              ⎥\n",
       "⎢                                                           ⎥\n",
       "⎢  0       0     1  0  0    0     0  0    0       0     0  0⎥\n",
       "⎢                                                           ⎥\n",
       "⎢  0       0     0  1  0    0     0  0    0       0     0  0⎥\n",
       "⎢                                                           ⎥\n",
       "⎢                           R                               ⎥\n",
       "⎢  0       0     0  0  0  ──────  0  0    0       0     0  0⎥\n",
       "⎢                         R + α₃                            ⎥\n",
       "⎢                                                           ⎥\n",
       "⎢  0       0     0  0  0    0     1  0    0       0     0  0⎥\n",
       "⎢                                                           ⎥\n",
       "⎢  0       0     0  0  0    0     0  1    0       0     0  0⎥\n",
       "⎢                                                           ⎥\n",
       "⎢ -1                                              R         ⎥\n",
       "⎢──────    0     0  0  0    0     0  0    0     ──────  0  0⎥\n",
       "⎢R + α₃                                         R + α₃      ⎥\n",
       "⎢                                                           ⎥\n",
       "⎢  0       0     0  0  0    0     0  0    0       0     1  0⎥\n",
       "⎢                                                           ⎥\n",
       "⎣  0       0     0  0  0    0     0  0    0       0     0  1⎦"
      ]
     },
     "execution_count": 47,
     "metadata": {},
     "output_type": "execute_result"
    }
   ],
   "source": [
    "B_P = zeros(9,9)\n",
    "\n",
    "for i in range(3):\n",
    "    for j in range(3):\n",
    "        \n",
    "        row_index = i*3+j\n",
    "        \n",
    "        B_P[row_index, row_index] = 1/(H[i]*H[j])\n",
    "        \n",
    "\n",
    "Grad_U_P = simplify(B_P*B*P)\n",
    "Grad_U_P"
   ]
  },
  {
   "cell_type": "code",
   "execution_count": 48,
   "metadata": {},
   "outputs": [
    {
     "data": {
      "image/png": "[encoded data removed]",
      "text/latex": [
       "$$\\left[\\begin{array}{cccccccccccc}0 & \\frac{R}{R + \\alpha_{3}} & 0 & 0 & 0 & 0 & 0 & 0 & \\frac{1}{R + \\alpha_{3}} & 0 & 0 & 0\\\\0 & 0 & 0 & 0 & 0 & 0 & 1 & 0 & 0 & 0 & 0 & 0\\\\0 & 0 & 0 & 0 & 0 & 0 & 0 & 0 & 0 & 0 & 0 & 1\\\\0 & 0 & 1 & 0 & 0 & \\frac{R}{R + \\alpha_{3}} & 0 & 0 & 0 & 0 & 0 & 0\\\\- \\frac{1}{R + \\alpha_{3}} & 0 & 0 & 1 & 0 & 0 & 0 & 0 & 0 & \\frac{R}{R + \\alpha_{3}} & 0 & 0\\\\0 & 0 & 0 & 0 & 0 & 0 & 0 & 1 & 0 & 0 & 1 & 0\\end{array}\\right]$$"
      ],
      "text/plain": [
       "⎡          R                              1                 ⎤\n",
       "⎢  0     ──────  0  0  0    0     0  0  ──────    0     0  0⎥\n",
       "⎢        R + α₃                         R + α₃              ⎥\n",
       "⎢                                                           ⎥\n",
       "⎢  0       0     0  0  0    0     1  0    0       0     0  0⎥\n",
       "⎢                                                           ⎥\n",
       "⎢  0       0     0  0  0    0     0  0    0       0     0  1⎥\n",
       "⎢                                                           ⎥\n",
       "⎢                           R                               ⎥\n",
       "⎢  0       0     1  0  0  ──────  0  0    0       0     0  0⎥\n",
       "⎢                         R + α₃                            ⎥\n",
       "⎢                                                           ⎥\n",
       "⎢ -1                                              R         ⎥\n",
       "⎢──────    0     0  1  0    0     0  0    0     ──────  0  0⎥\n",
       "⎢R + α₃                                         R + α₃      ⎥\n",
       "⎢                                                           ⎥\n",
       "⎣  0       0     0  0  0    0     0  1    0       0     1  0⎦"
      ]
     },
     "execution_count": 48,
     "metadata": {},
     "output_type": "execute_result"
    }
   ],
   "source": [
    "StrainL=simplify(E*Grad_U_P)\n",
    "StrainL"
   ]
  },
  {
   "cell_type": "code",
   "execution_count": 49,
   "metadata": {},
   "outputs": [
    {
     "data": {
      "image/png": "[encoded data removed]",
      "text/latex": [
       "$$\\left[\\begin{array}{cccccccccccc}\\frac{1}{2 \\left(R + \\alpha_{3}\\right)^{2}} \\left(- R \\frac{\\partial}{\\partial \\alpha_{1}} \\operatorname{u_{3}}{\\left (\\alpha_{1},\\alpha_{2},\\alpha_{3} \\right )} + \\operatorname{u_{1}}{\\left (\\alpha_{1},\\alpha_{2},\\alpha_{3} \\right )}\\right) & \\frac{R^{3} \\operatorname{u_{3}}{\\left (\\alpha_{1},\\alpha_{2},\\alpha_{3} \\right )}}{2 \\left(R + \\alpha_{3}\\right)^{4}} & 0 & 0 & 0 & 0 & 0 & 0 & \\frac{R^{2} \\operatorname{u_{3}}{\\left (\\alpha_{1},\\alpha_{2},\\alpha_{3} \\right )}}{2 \\left(R + \\alpha_{3}\\right)^{4}} & \\frac{R}{2 \\left(R + \\alpha_{3}\\right)^{2}} \\left(R \\frac{\\partial}{\\partial \\alpha_{1}} \\operatorname{u_{3}}{\\left (\\alpha_{1},\\alpha_{2},\\alpha_{3} \\right )} - \\operatorname{u_{1}}{\\left (\\alpha_{1},\\alpha_{2},\\alpha_{3} \\right )}\\right) & 0 & 0\\\\0 & 0 & 0 & 0 & 0 & 0 & 0 & 0 & 0 & 0 & \\frac{1}{2} \\frac{\\partial}{\\partial \\alpha_{2}} \\operatorname{u_{3}}{\\left (\\alpha_{1},\\alpha_{2},\\alpha_{3} \\right )} & 0\\\\0 & 0 & 0 & 0 & 0 & 0 & 0 & 0 & 0 & 0 & 0 & 0\\\\0 & 0 & \\frac{R^{2} \\operatorname{u_{3}}{\\left (\\alpha_{1},\\alpha_{2},\\alpha_{3} \\right )}}{\\left(R + \\alpha_{3}\\right)^{3}} & 0 & 0 & 0 & 0 & 0 & 0 & 0 & \\frac{1}{R + \\alpha_{3}} \\left(R \\frac{\\partial}{\\partial \\alpha_{1}} \\operatorname{u_{3}}{\\left (\\alpha_{1},\\alpha_{2},\\alpha_{3} \\right )} - \\operatorname{u_{1}}{\\left (\\alpha_{1},\\alpha_{2},\\alpha_{3} \\right )}\\right) & 0\\\\0 & 0 & 0 & 0 & 0 & 0 & 0 & 0 & 0 & 0 & 0 & 0\\\\0 & 0 & 0 & 0 & 0 & 0 & 0 & 0 & 0 & 0 & 0 & \\frac{\\partial}{\\partial \\alpha_{2}} \\operatorname{u_{3}}{\\left (\\alpha_{1},\\alpha_{2},\\alpha_{3} \\right )}\\end{array}\\right]$$"
      ],
      "text/plain": [
       "⎡     ∂                                                                       \n",
       "⎢- R⋅───(u₃(α₁, α₂, α₃)) + u₁(α₁, α₂, α₃)   3                                 \n",
       "⎢    ∂α₁                                   R ⋅u₃(α₁, α₂, α₃)                  \n",
       "⎢────────────────────────────────────────  ─────────────────          0       \n",
       "⎢                        2                              4                     \n",
       "⎢              2⋅(R + α₃)                     2⋅(R + α₃)                      \n",
       "⎢                                                                             \n",
       "⎢                                                                             \n",
       "⎢                                                                             \n",
       "⎢                                                                             \n",
       "⎢                   0                              0                  0       \n",
       "⎢                                                                             \n",
       "⎢                                                                             \n",
       "⎢                   0                              0                  0       \n",
       "⎢                                                                             \n",
       "⎢                                                                             \n",
       "⎢                                                              2              \n",
       "⎢                                                             R ⋅u₃(α₁, α₂, α₃\n",
       "⎢                   0                              0          ────────────────\n",
       "⎢                                                                         3   \n",
       "⎢                                                                 (R + α₃)    \n",
       "⎢                                                                             \n",
       "⎢                   0                              0                  0       \n",
       "⎢                                                                             \n",
       "⎢                                                                             \n",
       "⎢                   0                              0                  0       \n",
       "⎣                                                                             \n",
       "\n",
       "                                       ⎛   ∂                                  \n",
       "                   2                 R⋅⎜R⋅───(u₃(α₁, α₂, α₃)) - u₁(α₁, α₂, α₃)\n",
       "                  R ⋅u₃(α₁, α₂, α₃)    ⎝  ∂α₁                                 \n",
       "   0  0  0  0  0  ─────────────────  ─────────────────────────────────────────\n",
       "                               4                              2               \n",
       "                     2⋅(R + α₃)                     2⋅(R + α₃)                \n",
       "                                                                              \n",
       "                                                                              \n",
       "                                                                              \n",
       "                                                                              \n",
       "   0  0  0  0  0          0                              0                    \n",
       "                                                                              \n",
       "                                                                              \n",
       "   0  0  0  0  0          0                              0                    \n",
       "                                                                              \n",
       "                                                                              \n",
       "                                                                              \n",
       ")                                                                             \n",
       "─  0  0  0  0  0          0                              0                    \n",
       "                                                                              \n",
       "                                                                              \n",
       "                                                                              \n",
       "   0  0  0  0  0          0                              0                    \n",
       "                                                                              \n",
       "                                                                              \n",
       "   0  0  0  0  0          0                              0                    \n",
       "                                                                              \n",
       "\n",
       "⎞                                                             ⎤\n",
       "⎟                                                             ⎥\n",
       "⎠                                                             ⎥\n",
       "─                    0                              0         ⎥\n",
       "                                                              ⎥\n",
       "                                                              ⎥\n",
       "                                                              ⎥\n",
       "             ∂                                                ⎥\n",
       "            ───(u₃(α₁, α₂, α₃))                               ⎥\n",
       "            ∂α₂                                               ⎥\n",
       "            ───────────────────                     0         ⎥\n",
       "                     2                                        ⎥\n",
       "                                                              ⎥\n",
       "                     0                              0         ⎥\n",
       "                                                              ⎥\n",
       "      ∂                                                       ⎥\n",
       "   R⋅───(u₃(α₁, α₂, α₃)) - u₁(α₁, α₂, α₃)                     ⎥\n",
       "     ∂α₁                                                      ⎥\n",
       "   ──────────────────────────────────────           0         ⎥\n",
       "                   R + α₃                                     ⎥\n",
       "                                                              ⎥\n",
       "                                                              ⎥\n",
       "                     0                              0         ⎥\n",
       "                                                              ⎥\n",
       "                                            ∂                 ⎥\n",
       "                     0                     ───(u₃(α₁, α₂, α₃))⎥\n",
       "                                           ∂α₂                ⎦"
      ]
     },
     "execution_count": 49,
     "metadata": {},
     "output_type": "execute_result"
    }
   ],
   "source": [
    "%aimport geom_util\n",
    "\n",
    "\n",
    "u=getUHatU3Main(alpha1, alpha2, alpha3)\n",
    "\n",
    "gradup=Grad_U_P*u\n",
    "\n",
    "\n",
    "E_NLp = E_NonLinear(gradup)*Grad_U_P\n",
    "\n",
    "\n",
    "simplify(E_NLp)"
   ]
  },
  {
   "cell_type": "markdown",
   "metadata": {},
   "source": [
    "### Tymoshenko theory\n",
    "\n",
    "$u_1 \\left( \\alpha_1, \\alpha_2, \\alpha_3 \\right)=u\\left( \\alpha_1 \\right)+\\alpha_3\\gamma \\left( \\alpha_1 \\right) $\n",
    "\n",
    "$u_2 \\left( \\alpha_1, \\alpha_2, \\alpha_3 \\right)=0 $\n",
    "\n",
    "$u_3 \\left( \\alpha_1, \\alpha_2, \\alpha_3 \\right)=w\\left( \\alpha_1 \\right) $\n",
    "\n",
    "$ \\left( \n",
    "\\begin{array}{c} \n",
    "u_1 \\\\\n",
    "\\frac { \\partial u_1 } { \\partial \\alpha_1} \\\\\n",
    "\\frac { \\partial u_1 } { \\partial \\alpha_2} \\\\\n",
    "\\frac { \\partial u_1 } { \\partial \\alpha_3} \\\\\n",
    "u_2 \\\\\n",
    "\\frac { \\partial u_2 } { \\partial \\alpha_1} \\\\\n",
    "\\frac { \\partial u_2 } { \\partial \\alpha_2} \\\\\n",
    "\\frac { \\partial u_2 } { \\partial \\alpha_3} \\\\\n",
    "u_3 \\\\\n",
    "\\frac { \\partial u_3 } { \\partial \\alpha_1} \\\\\n",
    "\\frac { \\partial u_3 } { \\partial \\alpha_2} \\\\\n",
    "\\frac { \\partial u_3 } { \\partial \\alpha_3} \\\\\n",
    "\\end{array} \n",
    "\\right) = T \\cdot \n",
    "\\left( \n",
    "\\begin{array}{c} \n",
    "u \\\\\n",
    "\\frac { \\partial u } { \\partial \\alpha_1} \\\\\n",
    "\\gamma \\\\\n",
    "\\frac { \\partial \\gamma } { \\partial \\alpha_1} \\\\\n",
    "w \\\\\n",
    "\\frac { \\partial w } { \\partial \\alpha_1} \\\\\n",
    "\\end{array} \n",
    "\\right) $"
   ]
  },
  {
   "cell_type": "code",
   "execution_count": 50,
   "metadata": {},
   "outputs": [
    {
     "data": {
      "image/png": "[encoded data removed]",
      "text/latex": [
       "$$\\left[\\begin{matrix}1 & 0 & \\alpha_{3} & 0 & 0 & 0\\\\0 & 1 & 0 & \\alpha_{3} & 0 & 0\\\\0 & 0 & 0 & 0 & 0 & 0\\\\0 & 0 & 1 & 0 & 0 & 0\\\\0 & 0 & 0 & 0 & 0 & 0\\\\0 & 0 & 0 & 0 & 0 & 0\\\\0 & 0 & 0 & 0 & 0 & 0\\\\0 & 0 & 0 & 0 & 0 & 0\\\\0 & 0 & 0 & 0 & 1 & 0\\\\0 & 0 & 0 & 0 & 0 & 1\\\\0 & 0 & 0 & 0 & 0 & 0\\\\0 & 0 & 0 & 0 & 0 & 0\\end{matrix}\\right]$$"
      ],
      "text/plain": [
       "⎡1  0  α₃  0   0  0⎤\n",
       "⎢                  ⎥\n",
       "⎢0  1  0   α₃  0  0⎥\n",
       "⎢                  ⎥\n",
       "⎢0  0  0   0   0  0⎥\n",
       "⎢                  ⎥\n",
       "⎢0  0  1   0   0  0⎥\n",
       "⎢                  ⎥\n",
       "⎢0  0  0   0   0  0⎥\n",
       "⎢                  ⎥\n",
       "⎢0  0  0   0   0  0⎥\n",
       "⎢                  ⎥\n",
       "⎢0  0  0   0   0  0⎥\n",
       "⎢                  ⎥\n",
       "⎢0  0  0   0   0  0⎥\n",
       "⎢                  ⎥\n",
       "⎢0  0  0   0   1  0⎥\n",
       "⎢                  ⎥\n",
       "⎢0  0  0   0   0  1⎥\n",
       "⎢                  ⎥\n",
       "⎢0  0  0   0   0  0⎥\n",
       "⎢                  ⎥\n",
       "⎣0  0  0   0   0  0⎦"
      ]
     },
     "execution_count": 50,
     "metadata": {},
     "output_type": "execute_result"
    }
   ],
   "source": [
    "T=zeros(12,6)\n",
    "T[0,0]=1\n",
    "T[0,2]=alpha3\n",
    "T[1,1]=1\n",
    "T[1,3]=alpha3\n",
    "T[3,2]=1\n",
    "\n",
    "T[8,4]=1\n",
    "T[9,5]=1\n",
    "T"
   ]
  },
  {
   "cell_type": "code",
   "execution_count": 51,
   "metadata": {},
   "outputs": [
    {
     "data": {
      "image/png": "[encoded data removed]",
      "text/latex": [
       "$$\\left[\\begin{matrix}0 & \\frac{R}{R + \\alpha_{3}} & 0 & \\frac{R \\alpha_{3}}{R + \\alpha_{3}} & \\frac{1}{R + \\alpha_{3}} & 0\\\\0 & 0 & 0 & 0 & 0 & 0\\\\0 & 0 & 0 & 0 & 0 & 0\\\\0 & 0 & 0 & 0 & 0 & 0\\\\- \\frac{1}{R + \\alpha_{3}} & 0 & \\frac{R}{R + \\alpha_{3}} & 0 & 0 & \\frac{R}{R + \\alpha_{3}}\\\\0 & 0 & 0 & 0 & 0 & 0\\end{matrix}\\right]$$"
      ],
      "text/plain": [
       "⎡          R              R⋅α₃     1           ⎤\n",
       "⎢  0     ──────    0     ──────  ──────    0   ⎥\n",
       "⎢        R + α₃          R + α₃  R + α₃        ⎥\n",
       "⎢                                              ⎥\n",
       "⎢  0       0       0       0       0       0   ⎥\n",
       "⎢                                              ⎥\n",
       "⎢  0       0       0       0       0       0   ⎥\n",
       "⎢                                              ⎥\n",
       "⎢  0       0       0       0       0       0   ⎥\n",
       "⎢                                              ⎥\n",
       "⎢ -1               R                       R   ⎥\n",
       "⎢──────    0     ──────    0       0     ──────⎥\n",
       "⎢R + α₃          R + α₃                  R + α₃⎥\n",
       "⎢                                              ⎥\n",
       "⎣  0       0       0       0       0       0   ⎦"
      ]
     },
     "execution_count": 51,
     "metadata": {},
     "output_type": "execute_result"
    }
   ],
   "source": [
    "D_p_T = StrainL*T\n",
    "simplify(D_p_T)"
   ]
  },
  {
   "cell_type": "code",
   "execution_count": 52,
   "metadata": {},
   "outputs": [
    {
     "data": {
      "image/png": "[encoded data removed]",
      "text/latex": [
       "$$\\left[\\begin{matrix}\\frac{1}{2 \\left(R + \\alpha_{3}\\right)^{4}} \\left(R^{2} \\left(R \\left(\\alpha_{3} \\frac{d}{d \\alpha_{1}} \\theta{\\left (\\alpha_{1} \\right )} + \\frac{d}{d \\alpha_{1}} u{\\left (\\alpha_{1} \\right )}\\right) + w{\\left (\\alpha_{1} \\right )}\\right)^{2} + \\left(R + \\alpha_{3}\\right)^{2} \\left(R \\frac{d}{d \\alpha_{1}} w{\\left (\\alpha_{1} \\right )} - \\alpha_{3} \\theta{\\left (\\alpha_{1} \\right )} - u{\\left (\\alpha_{1} \\right )}\\right)^{2}\\right)\\\\0\\\\\\frac{R^{2} \\theta^{2}{\\left (\\alpha_{1} \\right )}}{2 \\left(R + \\alpha_{3}\\right)^{2}}\\\\0\\\\\\frac{R^{2} \\theta{\\left (\\alpha_{1} \\right )}}{\\left(R + \\alpha_{3}\\right)^{3}} \\left(R \\left(\\alpha_{3} \\frac{d}{d \\alpha_{1}} \\theta{\\left (\\alpha_{1} \\right )} + \\frac{d}{d \\alpha_{1}} u{\\left (\\alpha_{1} \\right )}\\right) + w{\\left (\\alpha_{1} \\right )}\\right)\\\\0\\end{matrix}\\right]$$"
      ],
      "text/plain": [
       "⎡                                           2                                 \n",
       "⎢ 2 ⎛  ⎛    d            d        ⎞        ⎞            2 ⎛   d               \n",
       "⎢R ⋅⎜R⋅⎜α₃⋅───(θ(α₁)) + ───(u(α₁))⎟ + w(α₁)⎟  + (R + α₃) ⋅⎜R⋅───(w(α₁)) - α₃⋅θ\n",
       "⎢   ⎝  ⎝   dα₁          dα₁       ⎠        ⎠              ⎝  dα₁              \n",
       "⎢─────────────────────────────────────────────────────────────────────────────\n",
       "⎢                                                  4                          \n",
       "⎢                                        2⋅(R + α₃)                           \n",
       "⎢                                                                             \n",
       "⎢                                             0                               \n",
       "⎢                                                                             \n",
       "⎢                                          2  2                               \n",
       "⎢                                         R ⋅θ (α₁)                           \n",
       "⎢                                        ───────────                          \n",
       "⎢                                                  2                          \n",
       "⎢                                        2⋅(R + α₃)                           \n",
       "⎢                                                                             \n",
       "⎢                                             0                               \n",
       "⎢                                                                             \n",
       "⎢                      2 ⎛  ⎛    d            d        ⎞        ⎞             \n",
       "⎢                     R ⋅⎜R⋅⎜α₃⋅───(θ(α₁)) + ───(u(α₁))⎟ + w(α₁)⎟⋅θ(α₁)       \n",
       "⎢                        ⎝  ⎝   dα₁          dα₁       ⎠        ⎠             \n",
       "⎢                     ─────────────────────────────────────────────────       \n",
       "⎢                                                 3                           \n",
       "⎢                                         (R + α₃)                            \n",
       "⎢                                                                             \n",
       "⎣                                             0                               \n",
       "\n",
       "             2⎤\n",
       "            ⎞ ⎥\n",
       "(α₁) - u(α₁)⎟ ⎥\n",
       "            ⎠ ⎥\n",
       "──────────────⎥\n",
       "              ⎥\n",
       "              ⎥\n",
       "              ⎥\n",
       "              ⎥\n",
       "              ⎥\n",
       "              ⎥\n",
       "              ⎥\n",
       "              ⎥\n",
       "              ⎥\n",
       "              ⎥\n",
       "              ⎥\n",
       "              ⎥\n",
       "              ⎥\n",
       "              ⎥\n",
       "              ⎥\n",
       "              ⎥\n",
       "              ⎥\n",
       "              ⎥\n",
       "              ⎥\n",
       "              ⎥\n",
       "              ⎦"
      ]
     },
     "execution_count": 52,
     "metadata": {},
     "output_type": "execute_result"
    }
   ],
   "source": [
    "u = Function(\"u\")\n",
    "t = Function(\"theta\")\n",
    "w = Function(\"w\")\n",
    "\n",
    "u1=u(alpha1)+alpha3*t(alpha1)\n",
    "u3=w(alpha1)\n",
    "\n",
    "gu = zeros(12,1) \n",
    "gu[0] = u1\n",
    "gu[1] = u1.diff(alpha1)\n",
    "gu[3] = u1.diff(alpha3)\n",
    "\n",
    "\n",
    "gu[8] = u3\n",
    "gu[9] = u3.diff(alpha1)\n",
    "\n",
    "\n",
    "gradup=Grad_U_P*gu\n",
    "\n",
    "# o20=(K*u(alpha1)-w(alpha1).diff(alpha1)+t(alpha1))/2\n",
    "# o21=K*t(alpha1)\n",
    "# O=1/2*o20*o20+alpha3*o20*o21-alpha3*K/2*o20*o20\n",
    "# O=expand(O)\n",
    "# O=collect(O,alpha3)\n",
    "# simplify(O)\n",
    "\n",
    "StrainNL = E_NonLinear(gradup)*gradup\n",
    "simplify(StrainNL)"
   ]
  },
  {
   "cell_type": "markdown",
   "metadata": {},
   "source": [
    "### Square theory\n",
    "\n",
    "$u^1 \\left( \\alpha_1, \\alpha_2, \\alpha_3 \\right)=u_{10}\\left( \\alpha_1 \\right)p_0\\left( \\alpha_3 \\right)+u_{11}\\left( \\alpha_1 \\right)p_1\\left( \\alpha_3 \\right)+u_{12}\\left( \\alpha_1 \\right)p_2\\left( \\alpha_3 \\right) $\n",
    "\n",
    "$u^2 \\left( \\alpha_1, \\alpha_2, \\alpha_3 \\right)=0 $\n",
    "\n",
    "$u^3 \\left( \\alpha_1, \\alpha_2, \\alpha_3 \\right)=u_{30}\\left( \\alpha_1 \\right)p_0\\left( \\alpha_3 \\right)+u_{31}\\left( \\alpha_1 \\right)p_1\\left( \\alpha_3 \\right)+u_{32}\\left( \\alpha_1 \\right)p_2\\left( \\alpha_3 \\right) $\n",
    "\n",
    "$ \\left( \n",
    "\\begin{array}{c} \n",
    "u^1 \\\\\n",
    "\\frac { \\partial u^1 } { \\partial \\alpha_1} \\\\\n",
    "\\frac { \\partial u^1 } { \\partial \\alpha_2} \\\\\n",
    "\\frac { \\partial u^1 } { \\partial \\alpha_3} \\\\\n",
    "u^2 \\\\\n",
    "\\frac { \\partial u^2 } { \\partial \\alpha_1} \\\\\n",
    "\\frac { \\partial u^2 } { \\partial \\alpha_2} \\\\\n",
    "\\frac { \\partial u^2 } { \\partial \\alpha_3} \\\\\n",
    "u^3 \\\\\n",
    "\\frac { \\partial u^3 } { \\partial \\alpha_1} \\\\\n",
    "\\frac { \\partial u^3 } { \\partial \\alpha_2} \\\\\n",
    "\\frac { \\partial u^3 } { \\partial \\alpha_3} \\\\\n",
    "\\end{array} \n",
    "\\right) = L \\cdot \n",
    "\\left( \n",
    "\\begin{array}{c} \n",
    "u_{10} \\\\\n",
    "\\frac { \\partial u_{10} } { \\partial \\alpha_1} \\\\\n",
    "u_{11} \\\\\n",
    "\\frac { \\partial u_{11} } { \\partial \\alpha_1} \\\\\n",
    "u_{12} \\\\\n",
    "\\frac { \\partial u_{12} } { \\partial \\alpha_1} \\\\\n",
    "u_{30} \\\\\n",
    "\\frac { \\partial u_{30} } { \\partial \\alpha_1} \\\\\n",
    "u_{31} \\\\\n",
    "\\frac { \\partial u_{31} } { \\partial \\alpha_1} \\\\\n",
    "u_{32} \\\\\n",
    "\\frac { \\partial u_{32} } { \\partial \\alpha_1} \\\\\n",
    "\\end{array} \n",
    "\\right) $"
   ]
  },
  {
   "cell_type": "code",
   "execution_count": 61,
   "metadata": {},
   "outputs": [
    {
     "data": {
      "image/png": "[encoded data removed]",
      "text/latex": [
       "$$\\left[\\begin{array}{cccccccccccc}- \\frac{\\alpha_{3}}{h} + 0.5 & 0 & \\frac{\\alpha_{3}}{h} + 0.5 & 0 & - \\frac{4 \\alpha_{3}^{2}}{h^{2}} + 1 & 0 & 0 & 0 & 0 & 0 & 0 & 0\\\\0 & - \\frac{\\alpha_{3}}{h} + 0.5 & 0 & \\frac{\\alpha_{3}}{h} + 0.5 & 0 & - \\frac{4 \\alpha_{3}^{2}}{h^{2}} + 1 & 0 & 0 & 0 & 0 & 0 & 0\\\\0 & 0 & 0 & 0 & 0 & 0 & 0 & 0 & 0 & 0 & 0 & 0\\\\- \\frac{1}{h} & 0 & \\frac{1}{h} & 0 & - \\frac{8 \\alpha_{3}}{h^{2}} & 0 & 0 & 0 & 0 & 0 & 0 & 0\\\\0 & 0 & 0 & 0 & 0 & 0 & 0 & 0 & 0 & 0 & 0 & 0\\\\0 & 0 & 0 & 0 & 0 & 0 & 0 & 0 & 0 & 0 & 0 & 0\\\\0 & 0 & 0 & 0 & 0 & 0 & 0 & 0 & 0 & 0 & 0 & 0\\\\0 & 0 & 0 & 0 & 0 & 0 & 0 & 0 & 0 & 0 & 0 & 0\\\\0 & 0 & 0 & 0 & 0 & 0 & - \\frac{\\alpha_{3}}{h} + 0.5 & 0 & \\frac{\\alpha_{3}}{h} + 0.5 & 0 & - \\frac{4 \\alpha_{3}^{2}}{h^{2}} + 1 & 0\\\\0 & 0 & 0 & 0 & 0 & 0 & 0 & - \\frac{\\alpha_{3}}{h} + 0.5 & 0 & \\frac{\\alpha_{3}}{h} + 0.5 & 0 & - \\frac{4 \\alpha_{3}^{2}}{h^{2}} + 1\\\\0 & 0 & 0 & 0 & 0 & 0 & 0 & 0 & 0 & 0 & 0 & 0\\\\0 & 0 & 0 & 0 & 0 & 0 & - \\frac{1}{h} & 0 & \\frac{1}{h} & 0 & - \\frac{8 \\alpha_{3}}{h^{2}} & 0\\end{array}\\right]$$"
      ],
      "text/plain": [
       "⎡                                                  2                          \n",
       "⎢  α₃                    α₃                    4⋅α₃                           \n",
       "⎢- ── + 0.5      0       ── + 0.5     0      - ───── + 1       0           0  \n",
       "⎢  h                     h                        2                           \n",
       "⎢                                                h                            \n",
       "⎢                                                                             \n",
       "⎢                                                               2             \n",
       "⎢              α₃                  α₃                       4⋅α₃              \n",
       "⎢    0       - ── + 0.5     0      ── + 0.5       0       - ───── + 1      0  \n",
       "⎢              h                   h                           2              \n",
       "⎢                                                             h               \n",
       "⎢                                                                             \n",
       "⎢    0           0          0         0           0            0           0  \n",
       "⎢                                                                             \n",
       "⎢   -1                      1                  -8⋅α₃                          \n",
       "⎢   ───          0          ─         0        ──────          0           0  \n",
       "⎢    h                      h                     2                           \n",
       "⎢                                                h                            \n",
       "⎢                                                                             \n",
       "⎢    0           0          0         0           0            0           0  \n",
       "⎢                                                                             \n",
       "⎢    0           0          0         0           0            0           0  \n",
       "⎢                                                                             \n",
       "⎢    0           0          0         0           0            0           0  \n",
       "⎢                                                                             \n",
       "⎢    0           0          0         0           0            0           0  \n",
       "⎢                                                                             \n",
       "⎢                                                                             \n",
       "⎢                                                                        α₃   \n",
       "⎢    0           0          0         0           0            0       - ── + \n",
       "⎢                                                                        h    \n",
       "⎢                                                                             \n",
       "⎢                                                                             \n",
       "⎢                                                                             \n",
       "⎢                                                                             \n",
       "⎢    0           0          0         0           0            0           0  \n",
       "⎢                                                                             \n",
       "⎢                                                                             \n",
       "⎢                                                                             \n",
       "⎢    0           0          0         0           0            0           0  \n",
       "⎢                                                                             \n",
       "⎢                                                                         -1  \n",
       "⎢    0           0          0         0           0            0          ─── \n",
       "⎢                                                                          h  \n",
       "⎣                                                                             \n",
       "\n",
       "                                                             ⎤\n",
       "                                                             ⎥\n",
       "         0          0         0           0            0     ⎥\n",
       "                                                             ⎥\n",
       "                                                             ⎥\n",
       "                                                             ⎥\n",
       "                                                             ⎥\n",
       "                                                             ⎥\n",
       "         0          0         0           0            0     ⎥\n",
       "                                                             ⎥\n",
       "                                                             ⎥\n",
       "                                                             ⎥\n",
       "         0          0         0           0            0     ⎥\n",
       "                                                             ⎥\n",
       "                                                             ⎥\n",
       "         0          0         0           0            0     ⎥\n",
       "                                                             ⎥\n",
       "                                                             ⎥\n",
       "                                                             ⎥\n",
       "         0          0         0           0            0     ⎥\n",
       "                                                             ⎥\n",
       "         0          0         0           0            0     ⎥\n",
       "                                                             ⎥\n",
       "         0          0         0           0            0     ⎥\n",
       "                                                             ⎥\n",
       "         0          0         0           0            0     ⎥\n",
       "                                                             ⎥\n",
       "                                           2                 ⎥\n",
       "                 α₃                    4⋅α₃                  ⎥\n",
       "0.5      0       ── + 0.5     0      - ───── + 1       0     ⎥\n",
       "                 h                        2                  ⎥\n",
       "                                         h                   ⎥\n",
       "                                                             ⎥\n",
       "                                                        2    ⎥\n",
       "       α₃                  α₃                       4⋅α₃     ⎥\n",
       "     - ── + 0.5     0      ── + 0.5       0       - ───── + 1⎥\n",
       "       h                   h                           2     ⎥\n",
       "                                                      h      ⎥\n",
       "                                                             ⎥\n",
       "         0          0         0           0            0     ⎥\n",
       "                                                             ⎥\n",
       "                    1                  -8⋅α₃                 ⎥\n",
       "         0          ─         0        ──────          0     ⎥\n",
       "                    h                     2                  ⎥\n",
       "                                         h                   ⎦"
      ]
     },
     "execution_count": 61,
     "metadata": {},
     "output_type": "execute_result"
    }
   ],
   "source": [
    "L=zeros(12,12)\n",
    "h=Symbol('h')\n",
    "p0=1/2-alpha3/h\n",
    "p1=1/2+alpha3/h\n",
    "p2=1-(2*alpha3/h)**2\n",
    "\n",
    "L[0,0]=p0\n",
    "L[0,2]=p1\n",
    "L[0,4]=p2\n",
    "\n",
    "L[1,1]=p0\n",
    "L[1,3]=p1\n",
    "L[1,5]=p2\n",
    "\n",
    "L[3,0]=p0.diff(alpha3)\n",
    "L[3,2]=p1.diff(alpha3)\n",
    "L[3,4]=p2.diff(alpha3)\n",
    "\n",
    "L[8,6]=p0\n",
    "L[8,8]=p1\n",
    "L[8,10]=p2\n",
    "\n",
    "L[9,7]=p0\n",
    "L[9,9]=p1\n",
    "L[9,11]=p2\n",
    "\n",
    "L[11,6]=p0.diff(alpha3)\n",
    "L[11,8]=p1.diff(alpha3)\n",
    "L[11,10]=p2.diff(alpha3)\n",
    "\n",
    "L"
   ]
  },
  {
   "cell_type": "code",
   "execution_count": 62,
   "metadata": {},
   "outputs": [
    {
     "data": {
      "image/png": "[encoded data removed]",
      "text/latex": [
       "$$\\left[\\begin{array}{cccccccccccc}0 & - \\frac{R \\left(\\alpha_{3} - 0.5 h\\right)}{h \\left(R + \\alpha_{3}\\right)} & 0 & \\frac{R \\left(\\alpha_{3} + 0.5 h\\right)}{h \\left(R + \\alpha_{3}\\right)} & 0 & \\frac{R \\left(- 4 \\alpha_{3}^{2} + h^{2}\\right)}{h^{2} \\left(R + \\alpha_{3}\\right)} & \\frac{- \\alpha_{3} + 0.5 h}{h \\left(R + \\alpha_{3}\\right)} & 0 & \\frac{\\alpha_{3} + 0.5 h}{h \\left(R + \\alpha_{3}\\right)} & 0 & \\frac{- 4 \\alpha_{3}^{2} + h^{2}}{h^{2} \\left(R + \\alpha_{3}\\right)} & 0\\\\0 & 0 & 0 & 0 & 0 & 0 & 0 & 0 & 0 & 0 & 0 & 0\\\\0 & 0 & 0 & 0 & 0 & 0 & - \\frac{1}{h} & 0 & \\frac{1}{h} & 0 & - \\frac{8 \\alpha_{3}}{h^{2}} & 0\\\\0 & 0 & 0 & 0 & 0 & 0 & 0 & 0 & 0 & 0 & 0 & 0\\\\- \\frac{R + 0.5 h}{h \\left(R + \\alpha_{3}\\right)} & 0 & \\frac{R - 0.5 h}{h \\left(R + \\alpha_{3}\\right)} & 0 & \\frac{1}{h^{2} \\left(R + \\alpha_{3}\\right)} \\left(4 \\alpha_{3}^{2} - 8 \\alpha_{3} \\left(R + \\alpha_{3}\\right) - h^{2}\\right) & 0 & 0 & - \\frac{R \\left(\\alpha_{3} - 0.5 h\\right)}{h \\left(R + \\alpha_{3}\\right)} & 0 & \\frac{R \\left(\\alpha_{3} + 0.5 h\\right)}{h \\left(R + \\alpha_{3}\\right)} & 0 & \\frac{R \\left(- 4 \\alpha_{3}^{2} + h^{2}\\right)}{h^{2} \\left(R + \\alpha_{3}\\right)}\\\\0 & 0 & 0 & 0 & 0 & 0 & 0 & 0 & 0 & 0 & 0 & 0\\end{array}\\right]$$"
      ],
      "text/plain": [
       "⎡                                                                             \n",
       "⎢               -R⋅(α₃ - 0.5⋅h)               R⋅(α₃ + 0.5⋅h)                  \n",
       "⎢      0        ────────────────      0       ──────────────              0   \n",
       "⎢                  h⋅(R + α₃)                   h⋅(R + α₃)                    \n",
       "⎢                                                                             \n",
       "⎢                                                                             \n",
       "⎢      0               0              0             0                     0   \n",
       "⎢                                                                             \n",
       "⎢                                                                             \n",
       "⎢      0               0              0             0                     0   \n",
       "⎢                                                                             \n",
       "⎢                                                                             \n",
       "⎢                                                                             \n",
       "⎢      0               0              0             0                     0   \n",
       "⎢                                                                             \n",
       "⎢                                                                 2           \n",
       "⎢-(R + 0.5⋅h)                     R - 0.5⋅h                   4⋅α₃  - 8⋅α₃⋅(R \n",
       "⎢─────────────         0          ──────────        0         ────────────────\n",
       "⎢  h⋅(R + α₃)                     h⋅(R + α₃)                          2       \n",
       "⎢                                                                    h ⋅(R + α\n",
       "⎢                                                                             \n",
       "⎣      0               0              0             0                     0   \n",
       "\n",
       "              ⎛      2    2⎞                                                  \n",
       "            R⋅⎝- 4⋅α₃  + h ⎠  -α₃ + 0.5⋅h                    α₃ + 0.5⋅h       \n",
       "            ────────────────  ───────────         0          ──────────       \n",
       "               2               h⋅(R + α₃)                    h⋅(R + α₃)       \n",
       "              h ⋅(R + α₃)                                                     \n",
       "                                                                              \n",
       "                   0               0              0              0            \n",
       "                                                                              \n",
       "                                  -1                             1            \n",
       "                   0              ───             0              ─            \n",
       "                                   h                             h            \n",
       "                                                                              \n",
       "                                                                              \n",
       "                   0               0              0              0            \n",
       "                                                                              \n",
       "         2                                                                    \n",
       "+ α₃) - h                                  -R⋅(α₃ - 0.5⋅h)               R⋅(α₃\n",
       "──────────         0               0       ────────────────      0       ─────\n",
       "                                              h⋅(R + α₃)                   h⋅(\n",
       "₃)                                                                            \n",
       "                                                                              \n",
       "                   0               0              0              0            \n",
       "\n",
       "                 2    2                  ⎤\n",
       "           - 4⋅α₃  + h                   ⎥\n",
       " 0         ────────────         0        ⎥\n",
       "            2                            ⎥\n",
       "           h ⋅(R + α₃)                   ⎥\n",
       "                                         ⎥\n",
       " 0              0               0        ⎥\n",
       "                                         ⎥\n",
       "              -8⋅α₃                      ⎥\n",
       " 0            ──────            0        ⎥\n",
       "                 2                       ⎥\n",
       "                h                        ⎥\n",
       "                                         ⎥\n",
       " 0              0               0        ⎥\n",
       "                                         ⎥\n",
       "                           ⎛      2    2⎞⎥\n",
       " + 0.5⋅h)                R⋅⎝- 4⋅α₃  + h ⎠⎥\n",
       "─────────       0        ────────────────⎥\n",
       "R + α₃)                     2            ⎥\n",
       "                           h ⋅(R + α₃)   ⎥\n",
       "                                         ⎥\n",
       " 0              0               0        ⎦"
      ]
     },
     "execution_count": 62,
     "metadata": {},
     "output_type": "execute_result"
    }
   ],
   "source": [
    "D_p_L = StrainL*L\n",
    "simplify(D_p_L)"
   ]
  },
  {
   "cell_type": "code",
   "execution_count": 54,
   "metadata": {},
   "outputs": [
    {
     "data": {
      "image/png": "[encoded data removed]",
      "text/latex": [
       "$$0.166666666666667$$"
      ],
      "text/plain": [
       "0.166666666666667"
      ]
     },
     "execution_count": 54,
     "metadata": {},
     "output_type": "execute_result"
    }
   ],
   "source": [
    "h = 0.5\n",
    "exp=(0.5-alpha3/h)*(1-(2*alpha3/h)**2)#/(1+alpha3*0.8)\n",
    "p02=integrate(exp, (alpha3, -h/2, h/2))\n",
    "integral = expand(simplify(p02))\n",
    "integral"
   ]
  },
  {
   "cell_type": "markdown",
   "metadata": {},
   "source": [
    "## Mass matrix"
   ]
  },
  {
   "cell_type": "code",
   "execution_count": 63,
   "metadata": {},
   "outputs": [
    {
     "data": {
      "image/png": "[encoded data removed]",
      "text/latex": [
       "$$\\left[\\begin{array}{cccccccccccc}\\rho & 0 & 0 & 0 & 0 & 0 & 0 & 0 & 0 & 0 & 0 & 0\\\\0 & 0 & 0 & 0 & 0 & 0 & 0 & 0 & 0 & 0 & 0 & 0\\\\0 & 0 & 0 & 0 & 0 & 0 & 0 & 0 & 0 & 0 & 0 & 0\\\\0 & 0 & 0 & 0 & 0 & 0 & 0 & 0 & 0 & 0 & 0 & 0\\\\0 & 0 & 0 & 0 & \\rho & 0 & 0 & 0 & 0 & 0 & 0 & 0\\\\0 & 0 & 0 & 0 & 0 & 0 & 0 & 0 & 0 & 0 & 0 & 0\\\\0 & 0 & 0 & 0 & 0 & 0 & 0 & 0 & 0 & 0 & 0 & 0\\\\0 & 0 & 0 & 0 & 0 & 0 & 0 & 0 & 0 & 0 & 0 & 0\\\\0 & 0 & 0 & 0 & 0 & 0 & 0 & 0 & \\rho & 0 & 0 & 0\\\\0 & 0 & 0 & 0 & 0 & 0 & 0 & 0 & 0 & 0 & 0 & 0\\\\0 & 0 & 0 & 0 & 0 & 0 & 0 & 0 & 0 & 0 & 0 & 0\\\\0 & 0 & 0 & 0 & 0 & 0 & 0 & 0 & 0 & 0 & 0 & 0\\end{array}\\right]$$"
      ],
      "text/plain": [
       "⎡ρ  0  0  0  0  0  0  0  0  0  0  0⎤\n",
       "⎢                                  ⎥\n",
       "⎢0  0  0  0  0  0  0  0  0  0  0  0⎥\n",
       "⎢                                  ⎥\n",
       "⎢0  0  0  0  0  0  0  0  0  0  0  0⎥\n",
       "⎢                                  ⎥\n",
       "⎢0  0  0  0  0  0  0  0  0  0  0  0⎥\n",
       "⎢                                  ⎥\n",
       "⎢0  0  0  0  ρ  0  0  0  0  0  0  0⎥\n",
       "⎢                                  ⎥\n",
       "⎢0  0  0  0  0  0  0  0  0  0  0  0⎥\n",
       "⎢                                  ⎥\n",
       "⎢0  0  0  0  0  0  0  0  0  0  0  0⎥\n",
       "⎢                                  ⎥\n",
       "⎢0  0  0  0  0  0  0  0  0  0  0  0⎥\n",
       "⎢                                  ⎥\n",
       "⎢0  0  0  0  0  0  0  0  ρ  0  0  0⎥\n",
       "⎢                                  ⎥\n",
       "⎢0  0  0  0  0  0  0  0  0  0  0  0⎥\n",
       "⎢                                  ⎥\n",
       "⎢0  0  0  0  0  0  0  0  0  0  0  0⎥\n",
       "⎢                                  ⎥\n",
       "⎣0  0  0  0  0  0  0  0  0  0  0  0⎦"
      ]
     },
     "execution_count": 63,
     "metadata": {},
     "output_type": "execute_result"
    }
   ],
   "source": [
    "rho=Symbol('rho')\n",
    "B_h=zeros(3,12)\n",
    "B_h[0,0]=1\n",
    "B_h[1,4]=1\n",
    "B_h[2,8]=1\n",
    "M=simplify(rho*P.T*B_h.T*G_up*B_h*P)\n",
    "M"
   ]
  },
  {
   "cell_type": "code",
   "execution_count": 65,
   "metadata": {},
   "outputs": [
    {
     "data": {
      "image/png": "[encoded data removed]",
      "text/latex": [
       "$$\\left[\\begin{array}{cccccccccccc}\\frac{h \\rho}{R} \\left(0.333333333333333 R - 0.0833333333333333 h\\right) & 0 & 0.166666666666667 h \\rho & 0 & \\frac{h \\rho}{R} \\left(0.333333333333333 R - 0.0333333333333333 h\\right) & 0 & 0 & 0 & 0 & 0 & 0 & 0\\\\0 & 0 & 0 & 0 & 0 & 0 & 0 & 0 & 0 & 0 & 0 & 0\\\\0.166666666666667 h \\rho & 0 & \\frac{h \\rho}{R} \\left(0.333333333333333 R + 0.0833333333333333 h\\right) & 0 & \\frac{h \\rho}{R} \\left(0.333333333333333 R + 0.0333333333333333 h\\right) & 0 & 0 & 0 & 0 & 0 & 0 & 0\\\\0 & 0 & 0 & 0 & 0 & 0 & 0 & 0 & 0 & 0 & 0 & 0\\\\\\frac{h \\rho}{R} \\left(0.333333333333333 R - 0.0333333333333333 h\\right) & 0 & \\frac{h \\rho}{R} \\left(0.333333333333333 R + 0.0333333333333333 h\\right) & 0 & \\frac{8 h}{15} \\rho & 0 & 0 & 0 & 0 & 0 & 0 & 0\\\\0 & 0 & 0 & 0 & 0 & 0 & 0 & 0 & 0 & 0 & 0 & 0\\\\0 & 0 & 0 & 0 & 0 & 0 & \\frac{h \\rho}{R} \\left(0.333333333333333 R - 0.0833333333333333 h\\right) & 0 & 0.166666666666667 h \\rho & 0 & \\frac{h \\rho}{R} \\left(0.333333333333333 R - 0.0333333333333333 h\\right) & 0\\\\0 & 0 & 0 & 0 & 0 & 0 & 0 & 0 & 0 & 0 & 0 & 0\\\\0 & 0 & 0 & 0 & 0 & 0 & 0.166666666666667 h \\rho & 0 & \\frac{h \\rho}{R} \\left(0.333333333333333 R + 0.0833333333333333 h\\right) & 0 & \\frac{h \\rho}{R} \\left(0.333333333333333 R + 0.0333333333333333 h\\right) & 0\\\\0 & 0 & 0 & 0 & 0 & 0 & 0 & 0 & 0 & 0 & 0 & 0\\\\0 & 0 & 0 & 0 & 0 & 0 & \\frac{h \\rho}{R} \\left(0.333333333333333 R - 0.0333333333333333 h\\right) & 0 & \\frac{h \\rho}{R} \\left(0.333333333333333 R + 0.0333333333333333 h\\right) & 0 & \\frac{8 h}{15} \\rho & 0\\\\0 & 0 & 0 & 0 & 0 & 0 & 0 & 0 & 0 & 0 & 0 & 0\\end{array}\\right]$$"
      ],
      "text/plain": [
       "⎡h⋅ρ⋅(0.333333333333333⋅R - 0.0833333333333333⋅h)                             \n",
       "⎢────────────────────────────────────────────────  0               0.166666666\n",
       "⎢                       R                                                     \n",
       "⎢                                                                             \n",
       "⎢                       0                          0                         0\n",
       "⎢                                                                             \n",
       "⎢                                                     h⋅ρ⋅(0.333333333333333⋅R\n",
       "⎢             0.166666666666667⋅h⋅ρ                0  ────────────────────────\n",
       "⎢                                                                            R\n",
       "⎢                                                                             \n",
       "⎢                       0                          0                         0\n",
       "⎢                                                                             \n",
       "⎢h⋅ρ⋅(0.333333333333333⋅R - 0.0333333333333333⋅h)     h⋅ρ⋅(0.333333333333333⋅R\n",
       "⎢────────────────────────────────────────────────  0  ────────────────────────\n",
       "⎢                       R                                                    R\n",
       "⎢                                                                             \n",
       "⎢                       0                          0                         0\n",
       "⎢                                                                             \n",
       "⎢                                                                             \n",
       "⎢                       0                          0                         0\n",
       "⎢                                                                             \n",
       "⎢                                                                             \n",
       "⎢                       0                          0                         0\n",
       "⎢                                                                             \n",
       "⎢                                                                             \n",
       "⎢                       0                          0                         0\n",
       "⎢                                                                             \n",
       "⎢                                                                             \n",
       "⎢                       0                          0                         0\n",
       "⎢                                                                             \n",
       "⎢                                                                             \n",
       "⎢                       0                          0                         0\n",
       "⎢                                                                             \n",
       "⎢                                                                             \n",
       "⎣                       0                          0                         0\n",
       "\n",
       "                             h⋅ρ⋅(0.333333333333333⋅R - 0.0333333333333333⋅h) \n",
       "666667⋅h⋅ρ                0  ──────────────────────────────────────────────── \n",
       "                                                    R                         \n",
       "                                                                              \n",
       "                          0                         0                         \n",
       "                                                                              \n",
       " + 0.0833333333333333⋅h)     h⋅ρ⋅(0.333333333333333⋅R + 0.0333333333333333⋅h) \n",
       "────────────────────────  0  ──────────────────────────────────────────────── \n",
       "                                                    R                         \n",
       "                                                                              \n",
       "                          0                         0                         \n",
       "                                                                              \n",
       " + 0.0333333333333333⋅h)                          8⋅h⋅ρ                       \n",
       "────────────────────────  0                       ─────                       \n",
       "                                                    15                        \n",
       "                                                                              \n",
       "                          0                         0                         \n",
       "                                                                              \n",
       "                                                                              \n",
       "                          0                         0                         \n",
       "                                                                              \n",
       "                                                                              \n",
       "                          0                         0                         \n",
       "                                                                              \n",
       "                                                                              \n",
       "                          0                         0                         \n",
       "                                                                              \n",
       "                                                                              \n",
       "                          0                         0                         \n",
       "                                                                              \n",
       "                                                                              \n",
       "                          0                         0                         \n",
       "                                                                              \n",
       "                                                                              \n",
       "                          0                         0                         \n",
       "\n",
       "                                                                              \n",
       " 0                         0                          0                       \n",
       "                                                                              \n",
       "                                                                              \n",
       " 0                         0                          0                       \n",
       "                                                                              \n",
       "                                                                              \n",
       " 0                         0                          0                       \n",
       "                                                                              \n",
       "                                                                              \n",
       " 0                         0                          0                       \n",
       "                                                                              \n",
       "                                                                              \n",
       " 0                         0                          0                       \n",
       "                                                                              \n",
       "                                                                              \n",
       " 0                         0                          0                       \n",
       "                                                                              \n",
       "    h⋅ρ⋅(0.333333333333333⋅R - 0.0833333333333333⋅h)                          \n",
       " 0  ────────────────────────────────────────────────  0               0.166666\n",
       "                           R                                                  \n",
       "                                                                              \n",
       " 0                         0                          0                       \n",
       "                                                                              \n",
       "                                                         h⋅ρ⋅(0.33333333333333\n",
       " 0               0.166666666666667⋅h⋅ρ                0  ─────────────────────\n",
       "                                                                              \n",
       "                                                                              \n",
       " 0                         0                          0                       \n",
       "                                                                              \n",
       "    h⋅ρ⋅(0.333333333333333⋅R - 0.0333333333333333⋅h)     h⋅ρ⋅(0.33333333333333\n",
       " 0  ────────────────────────────────────────────────  0  ─────────────────────\n",
       "                           R                                                  \n",
       "                                                                              \n",
       " 0                         0                          0                       \n",
       "\n",
       "                                                                              \n",
       "  0                          0                         0                      \n",
       "                                                                              \n",
       "                                                                              \n",
       "  0                          0                         0                      \n",
       "                                                                              \n",
       "                                                                              \n",
       "  0                          0                         0                      \n",
       "                                                                              \n",
       "                                                                              \n",
       "  0                          0                         0                      \n",
       "                                                                              \n",
       "                                                                              \n",
       "  0                          0                         0                      \n",
       "                                                                              \n",
       "                                                                              \n",
       "  0                          0                         0                      \n",
       "                                                                              \n",
       "                                h⋅ρ⋅(0.333333333333333⋅R - 0.0333333333333333⋅\n",
       "666666667⋅h⋅ρ                0  ──────────────────────────────────────────────\n",
       "                                                       R                      \n",
       "                                                                              \n",
       "  0                          0                         0                      \n",
       "                                                                              \n",
       "3⋅R + 0.0833333333333333⋅h)     h⋅ρ⋅(0.333333333333333⋅R + 0.0333333333333333⋅\n",
       "───────────────────────────  0  ──────────────────────────────────────────────\n",
       "  R                                                    R                      \n",
       "                                                                              \n",
       "  0                          0                         0                      \n",
       "                                                                              \n",
       "3⋅R + 0.0333333333333333⋅h)                          8⋅h⋅ρ                    \n",
       "───────────────────────────  0                       ─────                    \n",
       "  R                                                    15                     \n",
       "                                                                              \n",
       "  0                          0                         0                      \n",
       "\n",
       "     ⎤\n",
       "    0⎥\n",
       "     ⎥\n",
       "     ⎥\n",
       "    0⎥\n",
       "     ⎥\n",
       "     ⎥\n",
       "    0⎥\n",
       "     ⎥\n",
       "     ⎥\n",
       "    0⎥\n",
       "     ⎥\n",
       "     ⎥\n",
       "    0⎥\n",
       "     ⎥\n",
       "     ⎥\n",
       "    0⎥\n",
       "     ⎥\n",
       "h)   ⎥\n",
       "──  0⎥\n",
       "     ⎥\n",
       "     ⎥\n",
       "    0⎥\n",
       "     ⎥\n",
       "h)   ⎥\n",
       "──  0⎥\n",
       "     ⎥\n",
       "     ⎥\n",
       "    0⎥\n",
       "     ⎥\n",
       "     ⎥\n",
       "    0⎥\n",
       "     ⎥\n",
       "     ⎥\n",
       "    0⎦"
      ]
     },
     "execution_count": 65,
     "metadata": {},
     "output_type": "execute_result"
    }
   ],
   "source": [
    "M_p = L.T*M*L*(1+alpha3/R)\n",
    "mass_matr = simplify(integrate(M_p, (alpha3, -h/2, h/2)))\n",
    "mass_matr"
   ]
  }
 ],
 "metadata": {
  "kernelspec": {
   "display_name": "Python 3",
   "language": "python",
   "name": "python3"
  },
  "language_info": {
   "codemirror_mode": {
    "name": "ipython",
    "version": 3
   },
   "file_extension": ".py",
   "mimetype": "text/x-python",
   "name": "python",
   "nbconvert_exporter": "python",
   "pygments_lexer": "ipython3",
   "version": "3.6.4"
  }
 },
 "nbformat": 4,
 "nbformat_minor": 2
}
