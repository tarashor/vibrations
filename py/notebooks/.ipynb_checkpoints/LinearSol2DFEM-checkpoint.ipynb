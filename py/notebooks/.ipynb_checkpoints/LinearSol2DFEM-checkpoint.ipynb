{
 "cells": [
  {
   "cell_type": "markdown",
   "metadata": {},
   "source": [
    "# Linear 2D solution"
   ]
  },
  {
   "cell_type": "markdown",
   "metadata": {},
   "source": [
    "## Init symbols for *sympy*"
   ]
  },
  {
   "cell_type": "code",
   "execution_count": 1,
   "metadata": {},
   "outputs": [],
   "source": [
    "from sympy import *\n",
    "from geom_util import *\n",
    "from sympy.vector import CoordSys3D\n",
    "import matplotlib.pyplot as plt\n",
    "import sys\n",
    "sys.path.append(\"../\")\n",
    "\n",
    "%matplotlib inline\n",
    "\n",
    "%reload_ext autoreload\n",
    "%autoreload 2\n",
    "%aimport geom_util"
   ]
  },
  {
   "cell_type": "code",
   "execution_count": 2,
   "metadata": {},
   "outputs": [],
   "source": [
    "# Any tweaks that normally go in .matplotlibrc, etc., should explicitly go here\n",
    "%config InlineBackend.figure_format='retina'\n",
    "plt.rcParams['figure.figsize'] = (12, 12)\n",
    "\n",
    "plt.rc('text', usetex=True)\n",
    "    \n",
    "plt.rc('font', family='serif')\n",
    "\n",
    "init_printing()"
   ]
  },
  {
   "cell_type": "code",
   "execution_count": 3,
   "metadata": {},
   "outputs": [],
   "source": [
    "N = CoordSys3D('N')\n",
    "alpha1, alpha2, alpha3 = symbols(\"alpha_1 alpha_2 alpha_3\", real = True, positive=True)\n",
    "A,K,rho = symbols(\"A K rho\")"
   ]
  },
  {
   "cell_type": "code",
   "execution_count": 4,
   "metadata": {},
   "outputs": [
    {
     "data": {
      "image/png": "[encoded data removed]",
      "text/latex": [
       "$$\\left[\\begin{array}{cccccccccccc}0 & \\frac{1}{A \\left(K \\alpha_{3} + 1\\right)} & 0 & 0 & 0 & 0 & 0 & 0 & \\frac{K}{K \\alpha_{3} + 1} & 0 & 0 & 0\\\\0 & 0 & 1 & 0 & 0 & 0 & 0 & 0 & 0 & 0 & 0 & 0\\\\0 & 0 & 0 & 1 & 0 & 0 & 0 & 0 & 0 & 0 & 0 & 0\\\\0 & 0 & 0 & 0 & 0 & \\frac{1}{A \\left(K \\alpha_{3} + 1\\right)} & 0 & 0 & 0 & 0 & 0 & 0\\\\0 & 0 & 0 & 0 & 0 & 0 & 1 & 0 & 0 & 0 & 0 & 0\\\\0 & 0 & 0 & 0 & 0 & 0 & 0 & 1 & 0 & 0 & 0 & 0\\\\- \\frac{K}{K \\alpha_{3} + 1} & 0 & 0 & 0 & 0 & 0 & 0 & 0 & 0 & \\frac{1}{A \\left(K \\alpha_{3} + 1\\right)} & 0 & 0\\\\0 & 0 & 0 & 0 & 0 & 0 & 0 & 0 & 0 & 0 & 1 & 0\\\\0 & 0 & 0 & 0 & 0 & 0 & 0 & 0 & 0 & 0 & 0 & 1\\end{array}\\right]$$"
      ],
      "text/plain": [
       "⎡               1                                        K                    \n",
       "⎢   0      ────────────  0  0  0       0        0  0  ────────       0        \n",
       "⎢          A⋅(K⋅α₃ + 1)                               K⋅α₃ + 1                \n",
       "⎢                                                                             \n",
       "⎢   0           0        1  0  0       0        0  0     0           0        \n",
       "⎢                                                                             \n",
       "⎢   0           0        0  1  0       0        0  0     0           0        \n",
       "⎢                                                                             \n",
       "⎢                                      1                                      \n",
       "⎢   0           0        0  0  0  ────────────  0  0     0           0        \n",
       "⎢                                 A⋅(K⋅α₃ + 1)                                \n",
       "⎢                                                                             \n",
       "⎢   0           0        0  0  0       0        1  0     0           0        \n",
       "⎢                                                                             \n",
       "⎢   0           0        0  0  0       0        0  1     0           0        \n",
       "⎢                                                                             \n",
       "⎢  -K                                                                1        \n",
       "⎢────────       0        0  0  0       0        0  0     0      ────────────  \n",
       "⎢K⋅α₃ + 1                                                       A⋅(K⋅α₃ + 1)  \n",
       "⎢                                                                             \n",
       "⎢   0           0        0  0  0       0        0  0     0           0        \n",
       "⎢                                                                             \n",
       "⎣   0           0        0  0  0       0        0  0     0           0        \n",
       "\n",
       "    ⎤\n",
       "0  0⎥\n",
       "    ⎥\n",
       "    ⎥\n",
       "0  0⎥\n",
       "    ⎥\n",
       "0  0⎥\n",
       "    ⎥\n",
       "    ⎥\n",
       "0  0⎥\n",
       "    ⎥\n",
       "    ⎥\n",
       "0  0⎥\n",
       "    ⎥\n",
       "0  0⎥\n",
       "    ⎥\n",
       "    ⎥\n",
       "0  0⎥\n",
       "    ⎥\n",
       "    ⎥\n",
       "1  0⎥\n",
       "    ⎥\n",
       "0  1⎦"
      ]
     },
     "execution_count": 4,
     "metadata": {},
     "output_type": "execute_result"
    }
   ],
   "source": [
    "B=Matrix([[0, 1/(A*(K*alpha3 + 1)), 0, 0, 0, 0, 0, 0, K/(K*alpha3 + 1), 0, 0, 0], [0, 0, 1, 0, 0, 0, 0, 0, 0, 0, 0, 0], [0, 0, 0, 1, 0, 0, 0, 0, 0, 0, 0, 0], [0, 0, 0, 0, 0, 1/(A*(K*alpha3 + 1)), 0, 0, 0, 0, 0, 0], [0, 0, 0, 0, 0, 0, 1, 0, 0, 0, 0, 0], [0, 0, 0, 0, 0, 0, 0, 1, 0, 0, 0, 0], [-K/(K*alpha3 + 1), 0, 0, 0, 0, 0, 0, 0, 0, 1/(A*(K*alpha3 + 1)), 0, 0], [0, 0, 0, 0, 0, 0, 0, 0, 0, 0, 1, 0], [0, 0, 0, 0, 0, 0, 0, 0, 0, 0, 0, 1]])\n",
    "B"
   ]
  },
  {
   "cell_type": "code",
   "execution_count": 5,
   "metadata": {},
   "outputs": [
    {
     "data": {
      "image/png": "[encoded data removed]",
      "text/latex": [
       "$$\\left[\\begin{matrix}1 & 0 & 0 & 0 & 0 & 0 & 0 & 0 & 0\\\\0 & 0 & 0 & 0 & 1 & 0 & 0 & 0 & 0\\\\0 & 0 & 0 & 0 & 0 & 0 & 0 & 0 & 1\\\\0 & 1 & 0 & 1 & 0 & 0 & 0 & 0 & 0\\\\0 & 0 & 1 & 0 & 0 & 0 & 1 & 0 & 0\\\\0 & 0 & 0 & 0 & 0 & 1 & 0 & 1 & 0\\end{matrix}\\right]$$"
      ],
      "text/plain": [
       "⎡1  0  0  0  0  0  0  0  0⎤\n",
       "⎢                         ⎥\n",
       "⎢0  0  0  0  1  0  0  0  0⎥\n",
       "⎢                         ⎥\n",
       "⎢0  0  0  0  0  0  0  0  1⎥\n",
       "⎢                         ⎥\n",
       "⎢0  1  0  1  0  0  0  0  0⎥\n",
       "⎢                         ⎥\n",
       "⎢0  0  1  0  0  0  1  0  0⎥\n",
       "⎢                         ⎥\n",
       "⎣0  0  0  0  0  1  0  1  0⎦"
      ]
     },
     "execution_count": 5,
     "metadata": {},
     "output_type": "execute_result"
    }
   ],
   "source": [
    "E=zeros(6,9)\n",
    "E[0,0]=1\n",
    "E[1,4]=1\n",
    "E[2,8]=1\n",
    "E[3,1]=1\n",
    "E[3,3]=1\n",
    "E[4,2]=1\n",
    "E[4,6]=1\n",
    "E[5,5]=1\n",
    "E[5,7]=1\n",
    "E"
   ]
  },
  {
   "cell_type": "code",
   "execution_count": 6,
   "metadata": {},
   "outputs": [
    {
     "data": {
      "image/png": "[encoded data removed]",
      "text/latex": [
       "$$\\left[\\begin{matrix}\\lambda + 2 \\mu & \\lambda & \\lambda & 0 & 0 & 0\\\\\\lambda & \\lambda + 2 \\mu & \\lambda & 0 & 0 & 0\\\\\\lambda & \\lambda & \\lambda + 2 \\mu & 0 & 0 & 0\\\\0 & 0 & 0 & \\mu & 0 & 0\\\\0 & 0 & 0 & 0 & \\mu & 0\\\\0 & 0 & 0 & 0 & 0 & \\mu\\end{matrix}\\right]$$"
      ],
      "text/plain": [
       "⎡λ + 2⋅μ     λ        λ     0  0  0⎤\n",
       "⎢                                  ⎥\n",
       "⎢   λ     λ + 2⋅μ     λ     0  0  0⎥\n",
       "⎢                                  ⎥\n",
       "⎢   λ        λ     λ + 2⋅μ  0  0  0⎥\n",
       "⎢                                  ⎥\n",
       "⎢   0        0        0     μ  0  0⎥\n",
       "⎢                                  ⎥\n",
       "⎢   0        0        0     0  μ  0⎥\n",
       "⎢                                  ⎥\n",
       "⎣   0        0        0     0  0  μ⎦"
      ]
     },
     "execution_count": 6,
     "metadata": {},
     "output_type": "execute_result"
    }
   ],
   "source": [
    "mu = Symbol('mu')\n",
    "la = Symbol('lambda')\n",
    "C_tensor = getIsotropicStiffnessTensor(mu, la)\n",
    "C = convertStiffnessTensorToMatrix(C_tensor)\n",
    "C"
   ]
  },
  {
   "cell_type": "code",
   "execution_count": 7,
   "metadata": {},
   "outputs": [
    {
     "data": {
      "image/png": "[encoded data removed]",
      "text/latex": [
       "$$\\left[\\begin{array}{cccccccccccc}\\frac{A K^{2} \\mu}{\\left(K \\alpha_{3} + 1\\right)^{2}} & 0 & 0 & - \\frac{A K \\mu}{K \\alpha_{3} + 1} & 0 & 0 & 0 & 0 & 0 & - \\frac{K \\mu}{\\left(K \\alpha_{3} + 1\\right)^{2}} & 0 & 0\\\\0 & \\frac{\\lambda + 2 \\mu}{A \\left(K \\alpha_{3} + 1\\right)^{2}} & 0 & 0 & 0 & 0 & \\frac{\\lambda}{K \\alpha_{3} + 1} & 0 & \\frac{K \\left(\\lambda + 2 \\mu\\right)}{\\left(K \\alpha_{3} + 1\\right)^{2}} & 0 & 0 & \\frac{\\lambda}{K \\alpha_{3} + 1}\\\\0 & 0 & A \\mu & 0 & 0 & \\frac{\\mu}{K \\alpha_{3} + 1} & 0 & 0 & 0 & 0 & 0 & 0\\\\- \\frac{A K \\mu}{K \\alpha_{3} + 1} & 0 & 0 & A \\mu & 0 & 0 & 0 & 0 & 0 & \\frac{\\mu}{K \\alpha_{3} + 1} & 0 & 0\\\\0 & 0 & 0 & 0 & 0 & 0 & 0 & 0 & 0 & 0 & 0 & 0\\\\0 & 0 & \\frac{\\mu}{K \\alpha_{3} + 1} & 0 & 0 & \\frac{\\mu}{A \\left(K \\alpha_{3} + 1\\right)^{2}} & 0 & 0 & 0 & 0 & 0 & 0\\\\0 & \\frac{\\lambda}{K \\alpha_{3} + 1} & 0 & 0 & 0 & 0 & A \\left(\\lambda + 2 \\mu\\right) & 0 & \\frac{A K \\lambda}{K \\alpha_{3} + 1} & 0 & 0 & A \\lambda\\\\0 & 0 & 0 & 0 & 0 & 0 & 0 & A \\mu & 0 & 0 & A \\mu & 0\\\\0 & \\frac{K \\left(\\lambda + 2 \\mu\\right)}{\\left(K \\alpha_{3} + 1\\right)^{2}} & 0 & 0 & 0 & 0 & \\frac{A K \\lambda}{K \\alpha_{3} + 1} & 0 & \\frac{A K^{2} \\left(\\lambda + 2 \\mu\\right)}{\\left(K \\alpha_{3} + 1\\right)^{2}} & 0 & 0 & \\frac{A K \\lambda}{K \\alpha_{3} + 1}\\\\- \\frac{K \\mu}{\\left(K \\alpha_{3} + 1\\right)^{2}} & 0 & 0 & \\frac{\\mu}{K \\alpha_{3} + 1} & 0 & 0 & 0 & 0 & 0 & \\frac{\\mu}{A \\left(K \\alpha_{3} + 1\\right)^{2}} & 0 & 0\\\\0 & 0 & 0 & 0 & 0 & 0 & 0 & A \\mu & 0 & 0 & A \\mu & 0\\\\0 & \\frac{\\lambda}{K \\alpha_{3} + 1} & 0 & 0 & 0 & 0 & A \\lambda & 0 & \\frac{A K \\lambda}{K \\alpha_{3} + 1} & 0 & 0 & A \\left(\\lambda + 2 \\mu\\right)\\end{array}\\right]$$"
      ],
      "text/plain": [
       "⎡      2                                                                      \n",
       "⎢   A⋅K ⋅μ                             -A⋅K⋅μ                                 \n",
       "⎢───────────        0           0      ────────  0        0             0     \n",
       "⎢          2                           K⋅α₃ + 1                               \n",
       "⎢(K⋅α₃ + 1)                                                                   \n",
       "⎢                                                                             \n",
       "⎢                λ + 2⋅μ                                               λ      \n",
       "⎢     0       ─────────────     0         0      0        0         ────────  \n",
       "⎢                         2                                         K⋅α₃ + 1  \n",
       "⎢             A⋅(K⋅α₃ + 1)                                                    \n",
       "⎢                                                                             \n",
       "⎢                                                        μ                    \n",
       "⎢     0             0          A⋅μ        0      0    ────────          0     \n",
       "⎢                                                     K⋅α₃ + 1                \n",
       "⎢                                                                             \n",
       "⎢ -A⋅K⋅μ                                                                      \n",
       "⎢ ────────          0           0        A⋅μ     0        0             0     \n",
       "⎢ K⋅α₃ + 1                                                                    \n",
       "⎢                                                                             \n",
       "⎢     0             0           0         0      0        0             0     \n",
       "⎢                                                                             \n",
       "⎢                               μ                         μ                   \n",
       "⎢     0             0        ────────     0      0  ─────────────       0     \n",
       "⎢                            K⋅α₃ + 1                           2             \n",
       "⎢                                                   A⋅(K⋅α₃ + 1)              \n",
       "⎢                                                                             \n",
       "⎢                  λ                                                          \n",
       "⎢     0         ────────        0         0      0        0        A⋅(λ + 2⋅μ)\n",
       "⎢               K⋅α₃ + 1                                                      \n",
       "⎢                                                                             \n",
       "⎢     0             0           0         0      0        0             0     \n",
       "⎢                                                                             \n",
       "⎢                                                                             \n",
       "⎢              K⋅(λ + 2⋅μ)                                           A⋅K⋅λ    \n",
       "⎢     0        ───────────      0         0      0        0         ────────  \n",
       "⎢                        2                                          K⋅α₃ + 1  \n",
       "⎢              (K⋅α₃ + 1)                                                     \n",
       "⎢                                                                             \n",
       "⎢   -K⋅μ                                  μ                                   \n",
       "⎢───────────        0           0      ────────  0        0             0     \n",
       "⎢          2                           K⋅α₃ + 1                               \n",
       "⎢(K⋅α₃ + 1)                                                                   \n",
       "⎢                                                                             \n",
       "⎢     0             0           0         0      0        0             0     \n",
       "⎢                                                                             \n",
       "⎢                  λ                                                          \n",
       "⎢     0         ────────        0         0      0        0            A⋅λ    \n",
       "⎣               K⋅α₃ + 1                                                      \n",
       "\n",
       "                                                      ⎤\n",
       "                           -K⋅μ                       ⎥\n",
       "   0         0          ───────────    0        0     ⎥\n",
       "                                  2                   ⎥\n",
       "                        (K⋅α₃ + 1)                    ⎥\n",
       "                                                      ⎥\n",
       "        K⋅(λ + 2⋅μ)                            λ      ⎥\n",
       "   0    ───────────          0         0    ────────  ⎥\n",
       "                  2                         K⋅α₃ + 1  ⎥\n",
       "        (K⋅α₃ + 1)                                    ⎥\n",
       "                                                      ⎥\n",
       "                                                      ⎥\n",
       "   0         0               0         0        0     ⎥\n",
       "                                                      ⎥\n",
       "                                                      ⎥\n",
       "                            μ                         ⎥\n",
       "   0         0           ────────      0        0     ⎥\n",
       "                         K⋅α₃ + 1                     ⎥\n",
       "                                                      ⎥\n",
       "   0         0               0         0        0     ⎥\n",
       "                                                      ⎥\n",
       "                                                      ⎥\n",
       "   0         0               0         0        0     ⎥\n",
       "                                                      ⎥\n",
       "                                                      ⎥\n",
       "                                                      ⎥\n",
       "           A⋅K⋅λ                                      ⎥\n",
       "   0      ────────           0         0       A⋅λ    ⎥\n",
       "          K⋅α₃ + 1                                    ⎥\n",
       "                                                      ⎥\n",
       "  A⋅μ        0               0        A⋅μ       0     ⎥\n",
       "                                                      ⎥\n",
       "          2                                           ⎥\n",
       "       A⋅K ⋅(λ + 2⋅μ)                        A⋅K⋅λ    ⎥\n",
       "   0   ──────────────        0         0    ────────  ⎥\n",
       "                  2                         K⋅α₃ + 1  ⎥\n",
       "        (K⋅α₃ + 1)                                    ⎥\n",
       "                                                      ⎥\n",
       "                             μ                        ⎥\n",
       "   0         0         ─────────────   0        0     ⎥\n",
       "                                   2                  ⎥\n",
       "                       A⋅(K⋅α₃ + 1)                   ⎥\n",
       "                                                      ⎥\n",
       "  A⋅μ        0               0        A⋅μ       0     ⎥\n",
       "                                                      ⎥\n",
       "           A⋅K⋅λ                                      ⎥\n",
       "   0      ────────           0         0   A⋅(λ + 2⋅μ)⎥\n",
       "          K⋅α₃ + 1                                    ⎦"
      ]
     },
     "execution_count": 7,
     "metadata": {},
     "output_type": "execute_result"
    }
   ],
   "source": [
    "S=B.T*E.T*C*E*B*A#*(1+alpha3*K)\n",
    "S"
   ]
  },
  {
   "cell_type": "code",
   "execution_count": null,
   "metadata": {},
   "outputs": [
    {
     "data": {
      "image/png": "[encoded data removed]",
      "text/latex": [
       "$$\\left[\\begin{array}{cccccccccccc}A \\rho & 0 & 0 & 0 & 0 & 0 & 0 & 0 & 0 & 0 & 0 & 0\\\\0 & 0 & 0 & 0 & 0 & 0 & 0 & 0 & 0 & 0 & 0 & 0\\\\0 & 0 & 0 & 0 & 0 & 0 & 0 & 0 & 0 & 0 & 0 & 0\\\\0 & 0 & 0 & 0 & 0 & 0 & 0 & 0 & 0 & 0 & 0 & 0\\\\0 & 0 & 0 & 0 & A \\rho & 0 & 0 & 0 & 0 & 0 & 0 & 0\\\\0 & 0 & 0 & 0 & 0 & 0 & 0 & 0 & 0 & 0 & 0 & 0\\\\0 & 0 & 0 & 0 & 0 & 0 & 0 & 0 & 0 & 0 & 0 & 0\\\\0 & 0 & 0 & 0 & 0 & 0 & 0 & 0 & 0 & 0 & 0 & 0\\\\0 & 0 & 0 & 0 & 0 & 0 & 0 & 0 & A \\rho & 0 & 0 & 0\\\\0 & 0 & 0 & 0 & 0 & 0 & 0 & 0 & 0 & 0 & 0 & 0\\\\0 & 0 & 0 & 0 & 0 & 0 & 0 & 0 & 0 & 0 & 0 & 0\\\\0 & 0 & 0 & 0 & 0 & 0 & 0 & 0 & 0 & 0 & 0 & 0\\end{array}\\right]$$"
      ],
      "text/plain": [
       "⎡A⋅ρ  0  0  0   0   0  0  0   0   0  0  0⎤\n",
       "⎢                                        ⎥\n",
       "⎢ 0   0  0  0   0   0  0  0   0   0  0  0⎥\n",
       "⎢                                        ⎥\n",
       "⎢ 0   0  0  0   0   0  0  0   0   0  0  0⎥\n",
       "⎢                                        ⎥\n",
       "⎢ 0   0  0  0   0   0  0  0   0   0  0  0⎥\n",
       "⎢                                        ⎥\n",
       "⎢ 0   0  0  0  A⋅ρ  0  0  0   0   0  0  0⎥\n",
       "⎢                                        ⎥\n",
       "⎢ 0   0  0  0   0   0  0  0   0   0  0  0⎥\n",
       "⎢                                        ⎥\n",
       "⎢ 0   0  0  0   0   0  0  0   0   0  0  0⎥\n",
       "⎢                                        ⎥\n",
       "⎢ 0   0  0  0   0   0  0  0   0   0  0  0⎥\n",
       "⎢                                        ⎥\n",
       "⎢ 0   0  0  0   0   0  0  0  A⋅ρ  0  0  0⎥\n",
       "⎢                                        ⎥\n",
       "⎢ 0   0  0  0   0   0  0  0   0   0  0  0⎥\n",
       "⎢                                        ⎥\n",
       "⎢ 0   0  0  0   0   0  0  0   0   0  0  0⎥\n",
       "⎢                                        ⎥\n",
       "⎣ 0   0  0  0   0   0  0  0   0   0  0  0⎦"
      ]
     },
     "execution_count": 8,
     "metadata": {},
     "output_type": "execute_result"
    }
   ],
   "source": [
    "M=Matrix([[rho, 0, 0, 0, 0, 0, 0, 0, 0, 0, 0, 0], [0, 0, 0, 0, 0, 0, 0, 0, 0, 0, 0, 0], [0, 0, 0, 0, 0, 0, 0, 0, 0, 0, 0, 0], [0, 0, 0, 0, 0, 0, 0, 0, 0, 0, 0, 0], [0, 0, 0, 0, rho, 0, 0, 0, 0, 0, 0, 0], [0, 0, 0, 0, 0, 0, 0, 0, 0, 0, 0, 0], [0, 0, 0, 0, 0, 0, 0, 0, 0, 0, 0, 0], [0, 0, 0, 0, 0, 0, 0, 0, 0, 0, 0, 0], [0, 0, 0, 0, 0, 0, 0, 0, rho, 0, 0, 0], [0, 0, 0, 0, 0, 0, 0, 0, 0, 0, 0, 0], [0, 0, 0, 0, 0, 0, 0, 0, 0, 0, 0, 0], [0, 0, 0, 0, 0, 0, 0, 0, 0, 0, 0, 0]])\n",
    "M=M*A#*(1+alpha3*K)\n",
    "M"
   ]
  },
  {
   "cell_type": "markdown",
   "metadata": {},
   "source": [
    "## Cartesian coordinates"
   ]
  },
  {
   "cell_type": "code",
   "execution_count": null,
   "metadata": {},
   "outputs": [
    {
     "name": "stdout",
     "output_type": "stream",
     "text": [
      "[0, 100, 101, 201, 202, 302, 303, 403]\n"
     ]
    },
    {
     "name": "stderr",
     "output_type": "stream",
     "text": [
      "D:\\ProgramFiles\\Anaconda\\lib\\site-packages\\matplotlib\\figure.py:403: UserWarning: matplotlib is currently using a non-GUI backend, so cannot show the figure\n",
      "  \"matplotlib is currently using a non-GUI backend, \"\n"
     ]
    },
    {
     "name": "stdout",
     "output_type": "stream",
     "text": [
      "425.634731872\n",
      "1099.84303305\n",
      "2013.08321894\n",
      "2304.68498347\n",
      "3097.67894335\n",
      "4256.0501389\n",
      "4643.48088443\n",
      "5552.98169563\n",
      "6892.59392968\n",
      "6904.66048069\n",
      "8272.67936949\n",
      "9136.62564878\n",
      "9690.11262684\n",
      "11052.2143349\n",
      "11388.4384753\n",
      "12514.1747006\n",
      "13462.9346199\n",
      "13954.7413179\n",
      "14447.7008747\n",
      "15039.4957204\n"
     ]
    }
   ],
   "source": [
    "import fem.geometry as g\n",
    "import fem.model as m\n",
    "import fem.material as mat\n",
    "import fem.mesh as me\n",
    "import plot\n",
    "\n",
    "import fem.general2D.solverlinear as s2D\n",
    "import fem.general2D.result2D as r2D\n",
    "\n",
    "def solve2D(geometry, thickness, material, N, M):\n",
    "    layers = m.Layer.generate_layers(thickness, [material])\n",
    "    model = m.Model(geometry, layers, m.Model.FIXED_LEFT_RIGHT_EDGE)\n",
    "    mesh = me.Mesh.generate2D(geometry.width, layers, N, M, model.boundary_conditions)\n",
    "    \n",
    "    lam, vec = s2D.solve(model, mesh, stiffness_matrix, mass_matrix)\n",
    "    \n",
    "    results = r2D.Result.convert_to_results(lam, vec, mesh, geometry)\n",
    "    \n",
    "    return results\n",
    "\n",
    "stiffness_matrix_func = lambdify([A, K, mu, la, alpha3], S, \"numpy\")\n",
    "mass_matrix_func = lambdify([A, K, rho, alpha3], M, \"numpy\")\n",
    "\n",
    "\n",
    "def stiffness_matrix(material, geometry, x1, x2, x3):\n",
    "    A,K = geometry.get_A_and_K(x1,x2,x3)\n",
    "    return stiffness_matrix_func(A, K, material.mu(), material.lam(), x3)\n",
    "\n",
    "def mass_matrix(material, geometry, x1, x2, x3):\n",
    "    A,K = geometry.get_A_and_K(x1,x2,x3)\n",
    "    return mass_matrix_func(A, K, material.rho, x3)\n",
    "\n",
    "\n",
    "E3f = 1\n",
    "material = mat.IsotropicMaterial(40000000000,0.3,2000)\n",
    "material.C[2,2] *= E3f\n",
    "\n",
    "width = 1\n",
    "curvature = 0\n",
    "thickness = 0.1\n",
    "\n",
    "corrugation_amplitude = 0\n",
    "corrugation_frequency = 20\n",
    "\n",
    "geometry = g.General(width, curvature, corrugation_amplitude, corrugation_frequency)\n",
    "\n",
    "N_width = 100\n",
    "N_height = 4\n",
    "\n",
    "\n",
    "results = solve2D(geometry, thickness, material, N_width, N_height)\n",
    "\n",
    "results_index = 0\n",
    "\n",
    "plot.plot_deformed_mesh(results[results_index], width, thickness)\n",
    "    \n",
    "# plot.plot_init_and_deformed_geometry_in_cartesian(results[results_index], 0, width, -thickness / 2, thickness / 2, 0, geometry.to_cartesian_coordinates)    \n",
    "    \n",
    "to_print = 20\n",
    "if (len(results) < to_print):\n",
    "    to_print = len(results)\n",
    "\n",
    "for i in range(to_print):\n",
    "    print(results[i].freqHz())\n"
   ]
  },
  {
   "cell_type": "code",
   "execution_count": null,
   "metadata": {},
   "outputs": [],
   "source": []
  }
 ],
 "metadata": {
  "kernelspec": {
   "display_name": "Python 3",
   "language": "python",
   "name": "python3"
  },
  "language_info": {
   "codemirror_mode": {
    "name": "ipython",
    "version": 3
   },
   "file_extension": ".py",
   "mimetype": "text/x-python",
   "name": "python",
   "nbconvert_exporter": "python",
   "pygments_lexer": "ipython3",
   "version": "3.6.1"
  }
 },
 "nbformat": 4,
 "nbformat_minor": 2
}
