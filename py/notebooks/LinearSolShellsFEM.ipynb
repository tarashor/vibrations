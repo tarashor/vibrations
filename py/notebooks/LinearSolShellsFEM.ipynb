{
 "cells": [
  {
   "cell_type": "markdown",
   "metadata": {},
   "source": [
    "# Linear 2D solution"
   ]
  },
  {
   "cell_type": "markdown",
   "metadata": {},
   "source": [
    "## Init symbols for *sympy*"
   ]
  },
  {
   "cell_type": "code",
   "execution_count": 1,
   "metadata": {},
   "outputs": [],
   "source": [
    "from sympy import *\n",
    "from geom_util import *\n",
    "from sympy.vector import CoordSys3D\n",
    "import matplotlib.pyplot as plt\n",
    "import sys\n",
    "sys.path.append(\"../\")\n",
    "\n",
    "%matplotlib inline\n",
    "\n",
    "%reload_ext autoreload\n",
    "%autoreload 2\n",
    "%aimport geom_util"
   ]
  },
  {
   "cell_type": "code",
   "execution_count": 2,
   "metadata": {},
   "outputs": [],
   "source": [
    "# Any tweaks that normally go in .matplotlibrc, etc., should explicitly go here\n",
    "%config InlineBackend.figure_format='retina'\n",
    "plt.rcParams['figure.figsize'] = (12, 12)\n",
    "\n",
    "plt.rc('text', usetex=True)\n",
    "    \n",
    "plt.rc('font', family='serif')\n",
    "\n",
    "init_printing()"
   ]
  },
  {
   "cell_type": "code",
   "execution_count": 3,
   "metadata": {},
   "outputs": [],
   "source": [
    "N = CoordSys3D('N')\n",
    "alpha1, alpha2, alpha3 = symbols(\"alpha_1 alpha_2 alpha_3\", real = True, positive=True)\n",
    "A,K,rho = symbols(\"A K rho\")"
   ]
  },
  {
   "cell_type": "markdown",
   "metadata": {},
   "source": [
    "### Tymoshenko theory\n",
    "\n",
    "$u_1 \\left( \\alpha_1, \\alpha_2, \\alpha_3 \\right)=u\\left( \\alpha_1 \\right)+\\alpha_3\\gamma \\left( \\alpha_1 \\right) $\n",
    "\n",
    "$u_2 \\left( \\alpha_1, \\alpha_2, \\alpha_3 \\right)=0 $\n",
    "\n",
    "$u_3 \\left( \\alpha_1, \\alpha_2, \\alpha_3 \\right)=w\\left( \\alpha_1 \\right) $\n",
    "\n",
    "$ \\left( \n",
    "\\begin{array}{c} \n",
    "u_1 \\\\\n",
    "\\frac { \\partial u_1 } { \\partial \\alpha_1} \\\\\n",
    "\\frac { \\partial u_1 } { \\partial \\alpha_2} \\\\\n",
    "\\frac { \\partial u_1 } { \\partial \\alpha_3} \\\\\n",
    "u_2 \\\\\n",
    "\\frac { \\partial u_2 } { \\partial \\alpha_1} \\\\\n",
    "\\frac { \\partial u_2 } { \\partial \\alpha_2} \\\\\n",
    "\\frac { \\partial u_2 } { \\partial \\alpha_3} \\\\\n",
    "u_3 \\\\\n",
    "\\frac { \\partial u_3 } { \\partial \\alpha_1} \\\\\n",
    "\\frac { \\partial u_3 } { \\partial \\alpha_2} \\\\\n",
    "\\frac { \\partial u_3 } { \\partial \\alpha_3} \\\\\n",
    "\\end{array} \n",
    "\\right) = T \\cdot \n",
    "\\left( \n",
    "\\begin{array}{c} \n",
    "u \\\\\n",
    "\\frac { \\partial u } { \\partial \\alpha_1} \\\\\n",
    "\\gamma \\\\\n",
    "\\frac { \\partial \\gamma } { \\partial \\alpha_1} \\\\\n",
    "w \\\\\n",
    "\\frac { \\partial w } { \\partial \\alpha_1} \\\\\n",
    "\\end{array} \n",
    "\\right) $"
   ]
  },
  {
   "cell_type": "code",
   "execution_count": 4,
   "metadata": {},
   "outputs": [
    {
     "data": {
      "image/png": "[encoded data removed]",
      "text/latex": [
       "$$\\left[\\begin{matrix}1 & 0 & \\alpha_{3} & 0 & 0 & 0\\\\0 & 1 & 0 & \\alpha_{3} & 0 & 0\\\\0 & 0 & 0 & 0 & 0 & 0\\\\0 & 0 & 1 & 0 & 0 & 0\\\\0 & 0 & 0 & 0 & 0 & 0\\\\0 & 0 & 0 & 0 & 0 & 0\\\\0 & 0 & 0 & 0 & 0 & 0\\\\0 & 0 & 0 & 0 & 0 & 0\\\\0 & 0 & 0 & 0 & 1 & 0\\\\0 & 0 & 0 & 0 & 0 & 1\\\\0 & 0 & 0 & 0 & 0 & 0\\\\0 & 0 & 0 & 0 & 0 & 0\\end{matrix}\\right]$$"
      ],
      "text/plain": [
       "⎡1  0  α₃  0   0  0⎤\n",
       "⎢                  ⎥\n",
       "⎢0  1  0   α₃  0  0⎥\n",
       "⎢                  ⎥\n",
       "⎢0  0  0   0   0  0⎥\n",
       "⎢                  ⎥\n",
       "⎢0  0  1   0   0  0⎥\n",
       "⎢                  ⎥\n",
       "⎢0  0  0   0   0  0⎥\n",
       "⎢                  ⎥\n",
       "⎢0  0  0   0   0  0⎥\n",
       "⎢                  ⎥\n",
       "⎢0  0  0   0   0  0⎥\n",
       "⎢                  ⎥\n",
       "⎢0  0  0   0   0  0⎥\n",
       "⎢                  ⎥\n",
       "⎢0  0  0   0   1  0⎥\n",
       "⎢                  ⎥\n",
       "⎢0  0  0   0   0  1⎥\n",
       "⎢                  ⎥\n",
       "⎢0  0  0   0   0  0⎥\n",
       "⎢                  ⎥\n",
       "⎣0  0  0   0   0  0⎦"
      ]
     },
     "execution_count": 4,
     "metadata": {},
     "output_type": "execute_result"
    }
   ],
   "source": [
    "T=zeros(12,6)\n",
    "T[0,0]=1\n",
    "T[0,2]=alpha3\n",
    "T[1,1]=1\n",
    "T[1,3]=alpha3\n",
    "T[3,2]=1\n",
    "\n",
    "T[8,4]=1\n",
    "T[9,5]=1\n",
    "T"
   ]
  },
  {
   "cell_type": "code",
   "execution_count": 5,
   "metadata": {},
   "outputs": [
    {
     "data": {
      "image/png": "[encoded data removed]",
      "text/latex": [
       "$$\\left[\\begin{array}{cccccccccccc}0 & \\frac{1}{A \\left(K \\alpha_{3} + 1\\right)} & 0 & 0 & 0 & 0 & 0 & 0 & \\frac{K}{K \\alpha_{3} + 1} & 0 & 0 & 0\\\\0 & 0 & 1 & 0 & 0 & 0 & 0 & 0 & 0 & 0 & 0 & 0\\\\0 & 0 & 0 & 1 & 0 & 0 & 0 & 0 & 0 & 0 & 0 & 0\\\\0 & 0 & 0 & 0 & 0 & \\frac{1}{A \\left(K \\alpha_{3} + 1\\right)} & 0 & 0 & 0 & 0 & 0 & 0\\\\0 & 0 & 0 & 0 & 0 & 0 & 1 & 0 & 0 & 0 & 0 & 0\\\\0 & 0 & 0 & 0 & 0 & 0 & 0 & 1 & 0 & 0 & 0 & 0\\\\- \\frac{K}{K \\alpha_{3} + 1} & 0 & 0 & 0 & 0 & 0 & 0 & 0 & 0 & \\frac{1}{A \\left(K \\alpha_{3} + 1\\right)} & 0 & 0\\\\0 & 0 & 0 & 0 & 0 & 0 & 0 & 0 & 0 & 0 & 1 & 0\\\\0 & 0 & 0 & 0 & 0 & 0 & 0 & 0 & 0 & 0 & 0 & 1\\end{array}\\right]$$"
      ],
      "text/plain": [
       "⎡               1                                        K                    \n",
       "⎢   0      ────────────  0  0  0       0        0  0  ────────       0        \n",
       "⎢          A⋅(K⋅α₃ + 1)                               K⋅α₃ + 1                \n",
       "⎢                                                                             \n",
       "⎢   0           0        1  0  0       0        0  0     0           0        \n",
       "⎢                                                                             \n",
       "⎢   0           0        0  1  0       0        0  0     0           0        \n",
       "⎢                                                                             \n",
       "⎢                                      1                                      \n",
       "⎢   0           0        0  0  0  ────────────  0  0     0           0        \n",
       "⎢                                 A⋅(K⋅α₃ + 1)                                \n",
       "⎢                                                                             \n",
       "⎢   0           0        0  0  0       0        1  0     0           0        \n",
       "⎢                                                                             \n",
       "⎢   0           0        0  0  0       0        0  1     0           0        \n",
       "⎢                                                                             \n",
       "⎢  -K                                                                1        \n",
       "⎢────────       0        0  0  0       0        0  0     0      ────────────  \n",
       "⎢K⋅α₃ + 1                                                       A⋅(K⋅α₃ + 1)  \n",
       "⎢                                                                             \n",
       "⎢   0           0        0  0  0       0        0  0     0           0        \n",
       "⎢                                                                             \n",
       "⎣   0           0        0  0  0       0        0  0     0           0        \n",
       "\n",
       "    ⎤\n",
       "0  0⎥\n",
       "    ⎥\n",
       "    ⎥\n",
       "0  0⎥\n",
       "    ⎥\n",
       "0  0⎥\n",
       "    ⎥\n",
       "    ⎥\n",
       "0  0⎥\n",
       "    ⎥\n",
       "    ⎥\n",
       "0  0⎥\n",
       "    ⎥\n",
       "0  0⎥\n",
       "    ⎥\n",
       "    ⎥\n",
       "0  0⎥\n",
       "    ⎥\n",
       "    ⎥\n",
       "1  0⎥\n",
       "    ⎥\n",
       "0  1⎦"
      ]
     },
     "execution_count": 5,
     "metadata": {},
     "output_type": "execute_result"
    }
   ],
   "source": [
    "B=Matrix([[0, 1/(A*(K*alpha3 + 1)), 0, 0, 0, 0, 0, 0, K/(K*alpha3 + 1), 0, 0, 0], [0, 0, 1, 0, 0, 0, 0, 0, 0, 0, 0, 0], [0, 0, 0, 1, 0, 0, 0, 0, 0, 0, 0, 0], [0, 0, 0, 0, 0, 1/(A*(K*alpha3 + 1)), 0, 0, 0, 0, 0, 0], [0, 0, 0, 0, 0, 0, 1, 0, 0, 0, 0, 0], [0, 0, 0, 0, 0, 0, 0, 1, 0, 0, 0, 0], [-K/(K*alpha3 + 1), 0, 0, 0, 0, 0, 0, 0, 0, 1/(A*(K*alpha3 + 1)), 0, 0], [0, 0, 0, 0, 0, 0, 0, 0, 0, 0, 1, 0], [0, 0, 0, 0, 0, 0, 0, 0, 0, 0, 0, 1]])\n",
    "B"
   ]
  },
  {
   "cell_type": "code",
   "execution_count": 6,
   "metadata": {},
   "outputs": [
    {
     "data": {
      "image/png": "[encoded data removed]",
      "text/latex": [
       "$$\\left[\\begin{matrix}1 & 0 & 0 & 0 & 0 & 0 & 0 & 0 & 0\\\\0 & 0 & 0 & 0 & 1 & 0 & 0 & 0 & 0\\\\0 & 0 & 0 & 0 & 0 & 0 & 0 & 0 & 1\\\\0 & 1 & 0 & 1 & 0 & 0 & 0 & 0 & 0\\\\0 & 0 & 1 & 0 & 0 & 0 & 1 & 0 & 0\\\\0 & 0 & 0 & 0 & 0 & 1 & 0 & 1 & 0\\end{matrix}\\right]$$"
      ],
      "text/plain": [
       "⎡1  0  0  0  0  0  0  0  0⎤\n",
       "⎢                         ⎥\n",
       "⎢0  0  0  0  1  0  0  0  0⎥\n",
       "⎢                         ⎥\n",
       "⎢0  0  0  0  0  0  0  0  1⎥\n",
       "⎢                         ⎥\n",
       "⎢0  1  0  1  0  0  0  0  0⎥\n",
       "⎢                         ⎥\n",
       "⎢0  0  1  0  0  0  1  0  0⎥\n",
       "⎢                         ⎥\n",
       "⎣0  0  0  0  0  1  0  1  0⎦"
      ]
     },
     "execution_count": 6,
     "metadata": {},
     "output_type": "execute_result"
    }
   ],
   "source": [
    "E=zeros(6,9)\n",
    "E[0,0]=1\n",
    "E[1,4]=1\n",
    "E[2,8]=1\n",
    "E[3,1]=1\n",
    "E[3,3]=1\n",
    "E[4,2]=1\n",
    "E[4,6]=1\n",
    "E[5,5]=1\n",
    "E[5,7]=1\n",
    "E"
   ]
  },
  {
   "cell_type": "code",
   "execution_count": 7,
   "metadata": {},
   "outputs": [
    {
     "data": {
      "image/png": "[encoded data removed]",
      "text/latex": [
       "$$\\left[\\begin{matrix}0 & \\frac{1}{A \\left(K \\alpha_{3} + 1\\right)} & 0 & \\frac{\\alpha_{3}}{A \\left(K \\alpha_{3} + 1\\right)} & \\frac{K}{K \\alpha_{3} + 1} & 0\\\\0 & 0 & 0 & 0 & 0 & 0\\\\0 & 0 & 0 & 0 & 0 & 0\\\\0 & 0 & 0 & 0 & 0 & 0\\\\- \\frac{K}{K \\alpha_{3} + 1} & 0 & \\frac{1}{K \\alpha_{3} + 1} & 0 & 0 & \\frac{1}{A \\left(K \\alpha_{3} + 1\\right)}\\\\0 & 0 & 0 & 0 & 0 & 0\\end{matrix}\\right]$$"
      ],
      "text/plain": [
       "⎡               1                       α₃          K                  ⎤\n",
       "⎢   0      ────────────     0      ────────────  ────────       0      ⎥\n",
       "⎢          A⋅(K⋅α₃ + 1)            A⋅(K⋅α₃ + 1)  K⋅α₃ + 1              ⎥\n",
       "⎢                                                                      ⎥\n",
       "⎢   0           0           0           0           0           0      ⎥\n",
       "⎢                                                                      ⎥\n",
       "⎢   0           0           0           0           0           0      ⎥\n",
       "⎢                                                                      ⎥\n",
       "⎢   0           0           0           0           0           0      ⎥\n",
       "⎢                                                                      ⎥\n",
       "⎢  -K                       1                                   1      ⎥\n",
       "⎢────────       0        ────────       0           0      ────────────⎥\n",
       "⎢K⋅α₃ + 1                K⋅α₃ + 1                          A⋅(K⋅α₃ + 1)⎥\n",
       "⎢                                                                      ⎥\n",
       "⎣   0           0           0           0           0           0      ⎦"
      ]
     },
     "execution_count": 7,
     "metadata": {},
     "output_type": "execute_result"
    }
   ],
   "source": [
    "simplify(E*B*T)"
   ]
  },
  {
   "cell_type": "code",
   "execution_count": 8,
   "metadata": {},
   "outputs": [
    {
     "data": {
      "image/png": "[encoded data removed]",
      "text/latex": [
       "$$\\left[\\begin{matrix}\\lambda + 2 \\mu & \\lambda & \\lambda & 0 & 0 & 0\\\\\\lambda & \\lambda + 2 \\mu & \\lambda & 0 & 0 & 0\\\\\\lambda & \\lambda & \\lambda + 2 \\mu & 0 & 0 & 0\\\\0 & 0 & 0 & \\mu & 0 & 0\\\\0 & 0 & 0 & 0 & \\mu & 0\\\\0 & 0 & 0 & 0 & 0 & \\mu\\end{matrix}\\right]$$"
      ],
      "text/plain": [
       "⎡λ + 2⋅μ     λ        λ     0  0  0⎤\n",
       "⎢                                  ⎥\n",
       "⎢   λ     λ + 2⋅μ     λ     0  0  0⎥\n",
       "⎢                                  ⎥\n",
       "⎢   λ        λ     λ + 2⋅μ  0  0  0⎥\n",
       "⎢                                  ⎥\n",
       "⎢   0        0        0     μ  0  0⎥\n",
       "⎢                                  ⎥\n",
       "⎢   0        0        0     0  μ  0⎥\n",
       "⎢                                  ⎥\n",
       "⎣   0        0        0     0  0  μ⎦"
      ]
     },
     "execution_count": 8,
     "metadata": {},
     "output_type": "execute_result"
    }
   ],
   "source": [
    "mu = Symbol('mu')\n",
    "la = Symbol('lambda')\n",
    "C_tensor = getIsotropicStiffnessTensor(mu, la)\n",
    "C = convertStiffnessTensorToMatrix(C_tensor)\n",
    "C"
   ]
  },
  {
   "cell_type": "code",
   "execution_count": 9,
   "metadata": {},
   "outputs": [
    {
     "data": {
      "image/png": "[encoded data removed]",
      "text/latex": [
       "$$\\left[\\begin{matrix}A K^{2} \\mu & 0 & - A K \\mu & 0 & 0 & - K \\mu\\\\0 & \\frac{1}{A} \\left(\\lambda + 2 \\mu\\right) & 0 & \\frac{\\alpha_{3}}{A} \\left(\\lambda + 2 \\mu\\right) & K \\left(\\lambda + 2 \\mu\\right) & 0\\\\- A K \\mu & 0 & A \\mu & 0 & 0 & \\mu\\\\0 & \\frac{\\alpha_{3}}{A} \\left(\\lambda + 2 \\mu\\right) & 0 & \\frac{\\alpha_{3}^{2}}{A} \\left(\\lambda + 2 \\mu\\right) & K \\alpha_{3} \\left(\\lambda + 2 \\mu\\right) & 0\\\\0 & K \\left(\\lambda + 2 \\mu\\right) & 0 & K \\alpha_{3} \\left(\\lambda + 2 \\mu\\right) & A K^{2} \\left(\\lambda + 2 \\mu\\right) & 0\\\\- K \\mu & 0 & \\mu & 0 & 0 & \\frac{\\mu}{A}\\end{matrix}\\right]$$"
      ],
      "text/plain": [
       "⎡   2                                                              ⎤\n",
       "⎢A⋅K ⋅μ       0        -A⋅K⋅μ        0               0         -K⋅μ⎥\n",
       "⎢                                                                  ⎥\n",
       "⎢          λ + 2⋅μ              α₃⋅(λ + 2⋅μ)                       ⎥\n",
       "⎢  0       ───────       0      ────────────    K⋅(λ + 2⋅μ)     0  ⎥\n",
       "⎢             A                      A                             ⎥\n",
       "⎢                                                                  ⎥\n",
       "⎢-A⋅K⋅μ       0         A⋅μ          0               0          μ  ⎥\n",
       "⎢                                                                  ⎥\n",
       "⎢                                2                                 ⎥\n",
       "⎢        α₃⋅(λ + 2⋅μ)          α₃ ⋅(λ + 2⋅μ)                       ⎥\n",
       "⎢  0     ────────────    0     ─────────────   K⋅α₃⋅(λ + 2⋅μ)   0  ⎥\n",
       "⎢             A                      A                             ⎥\n",
       "⎢                                                                  ⎥\n",
       "⎢                                                 2                ⎥\n",
       "⎢  0     K⋅(λ + 2⋅μ)     0     K⋅α₃⋅(λ + 2⋅μ)  A⋅K ⋅(λ + 2⋅μ)   0  ⎥\n",
       "⎢                                                                  ⎥\n",
       "⎢                                                               μ  ⎥\n",
       "⎢ -K⋅μ        0          μ           0               0          ─  ⎥\n",
       "⎣                                                               A  ⎦"
      ]
     },
     "execution_count": 9,
     "metadata": {},
     "output_type": "execute_result"
    }
   ],
   "source": [
    "S=T.T*B.T*E.T*C*E*B*T*A*(1+alpha3*K)**2\n",
    "S=simplify(S)\n",
    "S"
   ]
  },
  {
   "cell_type": "code",
   "execution_count": 10,
   "metadata": {},
   "outputs": [
    {
     "data": {
      "image/png": "[encoded data removed]",
      "text/latex": [
       "$$\\left[\\begin{matrix}\\frac{E K^{2} h}{2 \\left(\\nu + 1\\right)} & 0 & - \\frac{E K h}{2 \\nu + 2} & 0 & 0 & - \\frac{E K h}{2 \\nu + 2}\\\\0 & \\frac{E h \\left(\\nu - 1\\right)}{2 \\nu^{2} + \\nu - 1} & 0 & 0 & \\frac{E K h \\left(\\nu - 1\\right)}{2 \\nu^{2} + \\nu - 1} & 0\\\\- \\frac{E K h}{2 \\nu + 2} & 0 & \\frac{E h}{2 \\left(\\nu + 1\\right)} & 0 & 0 & \\frac{E h}{2 \\left(\\nu + 1\\right)}\\\\0 & 0 & 0 & \\frac{E h^{3} \\left(\\nu - 1\\right)}{12 \\left(\\nu + 1\\right) \\left(2 \\nu - 1\\right)} & 0 & 0\\\\0 & \\frac{E K h \\left(\\nu - 1\\right)}{2 \\nu^{2} + \\nu - 1} & 0 & 0 & \\frac{E K^{2} h \\left(\\nu - 1\\right)}{2 \\nu^{2} + \\nu - 1} & 0\\\\- \\frac{E K h}{2 \\nu + 2} & 0 & \\frac{E h}{2 \\left(\\nu + 1\\right)} & 0 & 0 & \\frac{E h}{2 \\left(\\nu + 1\\right)}\\end{matrix}\\right]$$"
      ],
      "text/plain": [
       "⎡     2                                                                       \n",
       "⎢  E⋅K ⋅h                   -E⋅K⋅h                                           -\n",
       "⎢─────────        0         ───────            0                  0          ─\n",
       "⎢2⋅(ν + 1)                  2⋅ν + 2                                          2\n",
       "⎢                                                                             \n",
       "⎢           E⋅h⋅(ν - 1)                                     E⋅K⋅h⋅(ν - 1)     \n",
       "⎢    0      ────────────       0               0            ─────────────     \n",
       "⎢              2                                                2             \n",
       "⎢           2⋅ν  + ν - 1                                     2⋅ν  + ν - 1     \n",
       "⎢                                                                             \n",
       "⎢ -E⋅K⋅h                      E⋅h                                             \n",
       "⎢ ───────         0        ─────────           0                  0         ──\n",
       "⎢ 2⋅ν + 2                  2⋅(ν + 1)                                        2⋅\n",
       "⎢                                                                             \n",
       "⎢                                            3                                \n",
       "⎢                                         E⋅h ⋅(ν - 1)                        \n",
       "⎢    0            0            0      ────────────────────        0           \n",
       "⎢                                     12⋅(ν + 1)⋅(2⋅ν - 1)                    \n",
       "⎢                                                                             \n",
       "⎢                                                              2              \n",
       "⎢           E⋅K⋅h⋅(ν - 1)                                   E⋅K ⋅h⋅(ν - 1)    \n",
       "⎢    0      ─────────────      0               0            ──────────────    \n",
       "⎢               2                                               2             \n",
       "⎢            2⋅ν  + ν - 1                                    2⋅ν  + ν - 1     \n",
       "⎢                                                                             \n",
       "⎢ -E⋅K⋅h                      E⋅h                                             \n",
       "⎢ ───────         0        ─────────           0                  0         ──\n",
       "⎣ 2⋅ν + 2                  2⋅(ν + 1)                                        2⋅\n",
       "\n",
       "       ⎤\n",
       "E⋅K⋅h  ⎥\n",
       "────── ⎥\n",
       "⋅ν + 2 ⎥\n",
       "       ⎥\n",
       "       ⎥\n",
       "  0    ⎥\n",
       "       ⎥\n",
       "       ⎥\n",
       "       ⎥\n",
       " E⋅h   ⎥\n",
       "───────⎥\n",
       "(ν + 1)⎥\n",
       "       ⎥\n",
       "       ⎥\n",
       "       ⎥\n",
       "  0    ⎥\n",
       "       ⎥\n",
       "       ⎥\n",
       "       ⎥\n",
       "       ⎥\n",
       "  0    ⎥\n",
       "       ⎥\n",
       "       ⎥\n",
       "       ⎥\n",
       " E⋅h   ⎥\n",
       "───────⎥\n",
       "(ν + 1)⎦"
      ]
     },
     "execution_count": 10,
     "metadata": {},
     "output_type": "execute_result"
    }
   ],
   "source": [
    "h=Symbol('h')\n",
    "S_in = integrate(S,(alpha3, -h/2, h/2))\n",
    "E,nu=symbols('E nu')\n",
    "lambda_elastic=E*nu/((1+nu)*(1-2*nu))\n",
    "mu_elastic=E/(2*(1+nu))\n",
    "S_ins=simplify(S_in.subs(A,1).subs(la,lambda_elastic).subs(mu,mu_elastic))\n",
    "S_ins"
   ]
  },
  {
   "cell_type": "code",
   "execution_count": 11,
   "metadata": {},
   "outputs": [
    {
     "data": {
      "image/png": "[encoded data removed]",
      "text/latex": [
       "$$\\left[\\begin{matrix}\\frac{E h}{- \\nu^{2} + 1} & 0 & 0\\\\0 & - \\frac{E h^{3}}{4 \\left(3 \\nu^{2} - 3\\right)} & 0\\\\0 & 0 & \\frac{5 E h}{12 \\nu + 12}\\end{matrix}\\right]$$"
      ],
      "text/plain": [
       "⎡  E⋅h                            ⎤\n",
       "⎢────────       0            0    ⎥\n",
       "⎢   2                             ⎥\n",
       "⎢- ν  + 1                         ⎥\n",
       "⎢                                 ⎥\n",
       "⎢                 3               ⎥\n",
       "⎢             -E⋅h                ⎥\n",
       "⎢   0      ────────────      0    ⎥\n",
       "⎢            ⎛   2    ⎞           ⎥\n",
       "⎢          4⋅⎝3⋅ν  - 3⎠           ⎥\n",
       "⎢                                 ⎥\n",
       "⎢                          5⋅E⋅h  ⎥\n",
       "⎢   0           0        ─────────⎥\n",
       "⎣                        12⋅ν + 12⎦"
      ]
     },
     "execution_count": 11,
     "metadata": {},
     "output_type": "execute_result"
    }
   ],
   "source": [
    "\n",
    "a11=E/(1-nu**2)\n",
    "a44=5*E/(12*(1+nu))\n",
    "\n",
    "AM=Matrix([[a11,0],[0,a44]])\n",
    "strainT=Matrix([[1,alpha3,0],[0,0,1]])\n",
    "AT=strainT.T*AM*strainT\n",
    "integrate(AT,(alpha3, -h/2, h/2))"
   ]
  },
  {
   "cell_type": "code",
   "execution_count": 12,
   "metadata": {},
   "outputs": [
    {
     "data": {
      "image/png": "[encoded data removed]",
      "text/latex": [
       "$$\\left[\\begin{matrix}A \\rho & 0 & A \\alpha_{3} \\rho & 0 & 0 & 0\\\\0 & 0 & 0 & 0 & 0 & 0\\\\A \\alpha_{3} \\rho & 0 & A \\alpha_{3}^{2} \\rho & 0 & 0 & 0\\\\0 & 0 & 0 & 0 & 0 & 0\\\\0 & 0 & 0 & 0 & A \\rho & 0\\\\0 & 0 & 0 & 0 & 0 & 0\\end{matrix}\\right]$$"
      ],
      "text/plain": [
       "⎡ A⋅ρ    0  A⋅α₃⋅ρ   0   0   0⎤\n",
       "⎢                             ⎥\n",
       "⎢  0     0     0     0   0   0⎥\n",
       "⎢                             ⎥\n",
       "⎢               2             ⎥\n",
       "⎢A⋅α₃⋅ρ  0  A⋅α₃ ⋅ρ  0   0   0⎥\n",
       "⎢                             ⎥\n",
       "⎢  0     0     0     0   0   0⎥\n",
       "⎢                             ⎥\n",
       "⎢  0     0     0     0  A⋅ρ  0⎥\n",
       "⎢                             ⎥\n",
       "⎣  0     0     0     0   0   0⎦"
      ]
     },
     "execution_count": 12,
     "metadata": {},
     "output_type": "execute_result"
    }
   ],
   "source": [
    "M=Matrix([[rho, 0, 0, 0, 0, 0, 0, 0, 0, 0, 0, 0], [0, 0, 0, 0, 0, 0, 0, 0, 0, 0, 0, 0], [0, 0, 0, 0, 0, 0, 0, 0, 0, 0, 0, 0], [0, 0, 0, 0, 0, 0, 0, 0, 0, 0, 0, 0], [0, 0, 0, 0, rho, 0, 0, 0, 0, 0, 0, 0], [0, 0, 0, 0, 0, 0, 0, 0, 0, 0, 0, 0], [0, 0, 0, 0, 0, 0, 0, 0, 0, 0, 0, 0], [0, 0, 0, 0, 0, 0, 0, 0, 0, 0, 0, 0], [0, 0, 0, 0, 0, 0, 0, 0, rho, 0, 0, 0], [0, 0, 0, 0, 0, 0, 0, 0, 0, 0, 0, 0], [0, 0, 0, 0, 0, 0, 0, 0, 0, 0, 0, 0], [0, 0, 0, 0, 0, 0, 0, 0, 0, 0, 0, 0]])\n",
    "M=T.T*M*T*A\n",
    "M"
   ]
  },
  {
   "cell_type": "markdown",
   "metadata": {},
   "source": [
    "## Cartesian coordinates"
   ]
  },
  {
   "cell_type": "code",
   "execution_count": 31,
   "metadata": {},
   "outputs": [
    {
     "name": "stdout",
     "output_type": "stream",
     "text": [
      "{Element1D(Node1D('1 - (1.000000)'), Node1D('2 - (2.000000)')), Element1D(Node1D('0 - (0.000000)'), Node1D('1 - (1.000000)'))}\n",
      "[[  2.82692309e+11   0.00000000e+00   0.00000000e+00  -2.82692309e+11\n",
      "    0.00000000e+00   0.00000000e+00]\n",
      " [  0.00000000e+00   2.69230771e+10  -4.03846156e+10   0.00000000e+00\n",
      "    1.34615384e+10   4.03846156e+10]\n",
      " [  0.00000000e+00  -4.03846156e+10   8.07692312e+10   0.00000000e+00\n",
      "   -4.03846156e+10  -8.07692312e+10]\n",
      " [ -2.82692309e+11   0.00000000e+00   0.00000000e+00   2.82692309e+11\n",
      "    0.00000000e+00   0.00000000e+00]\n",
      " [  0.00000000e+00   1.34615384e+10  -4.03846156e+10   0.00000000e+00\n",
      "    2.69230771e+10   4.03846156e+10]\n",
      " [  0.00000000e+00   4.03846156e+10  -8.07692312e+10   0.00000000e+00\n",
      "    4.03846156e+10   8.07692312e+10]]\n",
      "[[  2.82692309e+11   0.00000000e+00   0.00000000e+00  -2.82692309e+11\n",
      "    0.00000000e+00   0.00000000e+00]\n",
      " [  0.00000000e+00   2.69230771e+10  -4.03846156e+10   0.00000000e+00\n",
      "    1.34615384e+10   4.03846156e+10]\n",
      " [  0.00000000e+00  -4.03846156e+10   8.07692312e+10   0.00000000e+00\n",
      "   -4.03846156e+10  -8.07692312e+10]\n",
      " [ -2.82692309e+11   0.00000000e+00   0.00000000e+00   2.82692309e+11\n",
      "    0.00000000e+00   0.00000000e+00]\n",
      " [  0.00000000e+00   1.34615384e+10  -4.03846156e+10   0.00000000e+00\n",
      "    2.69230771e+10   4.03846156e+10]\n",
      " [  0.00000000e+00   4.03846156e+10  -8.07692312e+10   0.00000000e+00\n",
      "    4.03846156e+10   8.07692312e+10]]\n",
      "[[ 2666.66668788     0.             0.          1333.33333212     0.             0.        ]\n",
      " [    0.             0.             0.             0.             0.             0.        ]\n",
      " [    0.             0.          2666.66668788     0.             0.\n",
      "   1333.33333212]\n",
      " [ 1333.33333212     0.             0.          2666.66668788     0.             0.        ]\n",
      " [    0.             0.             0.             0.             0.             0.        ]\n",
      " [    0.             0.          1333.33333212     0.             0.\n",
      "   2666.66668788]]\n",
      "[[ 2666.66668788     0.             0.          1333.33333212     0.             0.        ]\n",
      " [    0.             0.             0.             0.             0.             0.        ]\n",
      " [    0.             0.          2666.66668788     0.             0.\n",
      "   1333.33333212]\n",
      " [ 1333.33333212     0.             0.          2666.66668788     0.             0.        ]\n",
      " [    0.             0.             0.             0.             0.             0.        ]\n",
      " [    0.             0.          1333.33333212     0.             0.\n",
      "   2666.66668788]]\n",
      "[[ 2666.66668788     0.             0.          1333.33333212     0.             0.\n",
      "      0.             0.             0.        ]\n",
      " [    0.             0.             0.             0.             0.             0.\n",
      "      0.             0.             0.        ]\n",
      " [    0.             0.          2666.66668788     0.             0.\n",
      "   1333.33333212     0.             0.             0.        ]\n",
      " [ 1333.33333212     0.             0.          5333.33337575     0.             0.\n",
      "   1333.33333212     0.             0.        ]\n",
      " [    0.             0.             0.             0.             0.             0.\n",
      "      0.             0.             0.        ]\n",
      " [    0.             0.          1333.33333212     0.             0.\n",
      "   5333.33337575     0.             0.          1333.33333212]\n",
      " [    0.             0.             0.          1333.33333212     0.             0.\n",
      "   2666.66668788     0.             0.        ]\n",
      " [    0.             0.             0.             0.             0.             0.\n",
      "      0.             0.             0.        ]\n",
      " [    0.             0.             0.             0.             0.\n",
      "   1333.33333212     0.             0.          2666.66668788]]\n"
     ]
    },
    {
     "ename": "LinAlgError",
     "evalue": "the leading minor of order 2 of 'b' is not positive definite. The factorization of 'b' could not be completed and no eigenvalues or eigenvectors were computed.",
     "output_type": "error",
     "traceback": [
      "\u001b[1;31m---------------------------------------------------------------------------\u001b[0m",
      "\u001b[1;31mLinAlgError\u001b[0m                               Traceback (most recent call last)",
      "\u001b[1;32m<ipython-input-31-0f62e086f11d>\u001b[0m in \u001b[0;36m<module>\u001b[1;34m()\u001b[0m\n\u001b[0;32m     63\u001b[0m \u001b[1;33m\u001b[0m\u001b[0m\n\u001b[0;32m     64\u001b[0m \u001b[1;33m\u001b[0m\u001b[0m\n\u001b[1;32m---> 65\u001b[1;33m \u001b[0mlam\u001b[0m\u001b[1;33m,\u001b[0m \u001b[0mvec\u001b[0m\u001b[1;33m,\u001b[0m \u001b[0mmesh\u001b[0m\u001b[1;33m,\u001b[0m \u001b[0mgeometry\u001b[0m \u001b[1;33m=\u001b[0m \u001b[0msolve\u001b[0m\u001b[1;33m(\u001b[0m\u001b[0mgeometry\u001b[0m\u001b[1;33m,\u001b[0m \u001b[0mthickness\u001b[0m\u001b[1;33m,\u001b[0m \u001b[1;32mFalse\u001b[0m\u001b[1;33m,\u001b[0m \u001b[0mN_width\u001b[0m\u001b[1;33m,\u001b[0m \u001b[0mN_height\u001b[0m\u001b[1;33m)\u001b[0m\u001b[1;33m\u001b[0m\u001b[0m\n\u001b[0m\u001b[0;32m     66\u001b[0m \u001b[0mresults\u001b[0m \u001b[1;33m=\u001b[0m \u001b[0ms\u001b[0m\u001b[1;33m.\u001b[0m\u001b[0mconvert_to_results\u001b[0m\u001b[1;33m(\u001b[0m\u001b[0mlam\u001b[0m\u001b[1;33m,\u001b[0m \u001b[0mvec\u001b[0m\u001b[1;33m,\u001b[0m \u001b[0mmesh\u001b[0m\u001b[1;33m,\u001b[0m \u001b[0mgeometry\u001b[0m\u001b[1;33m)\u001b[0m\u001b[1;33m\u001b[0m\u001b[0m\n\u001b[0;32m     67\u001b[0m \u001b[1;33m\u001b[0m\u001b[0m\n",
      "\u001b[1;32m<ipython-input-31-0f62e086f11d>\u001b[0m in \u001b[0;36msolve\u001b[1;34m(geometry, thickness, linear, N_width, N_height)\u001b[0m\n\u001b[0;32m     36\u001b[0m     \u001b[0mprint\u001b[0m\u001b[1;33m(\u001b[0m\u001b[0mmesh\u001b[0m\u001b[1;33m.\u001b[0m\u001b[0melements\u001b[0m\u001b[1;33m)\u001b[0m\u001b[1;33m\u001b[0m\u001b[0m\n\u001b[0;32m     37\u001b[0m \u001b[1;31m#     if (linear):\u001b[0m\u001b[1;33m\u001b[0m\u001b[1;33m\u001b[0m\u001b[0m\n\u001b[1;32m---> 38\u001b[1;33m     \u001b[0mlam\u001b[0m\u001b[1;33m,\u001b[0m \u001b[0mvec\u001b[0m \u001b[1;33m=\u001b[0m \u001b[0ms\u001b[0m\u001b[1;33m.\u001b[0m\u001b[0msolve\u001b[0m\u001b[1;33m(\u001b[0m\u001b[0mmodel\u001b[0m\u001b[1;33m,\u001b[0m \u001b[0mmesh\u001b[0m\u001b[1;33m,\u001b[0m \u001b[0mstiffness_matrix\u001b[0m\u001b[1;33m,\u001b[0m \u001b[0mmass_matrix\u001b[0m\u001b[1;33m)\u001b[0m\u001b[1;33m\u001b[0m\u001b[0m\n\u001b[0m\u001b[0;32m     39\u001b[0m \u001b[1;31m#     else:\u001b[0m\u001b[1;33m\u001b[0m\u001b[1;33m\u001b[0m\u001b[0m\n\u001b[0;32m     40\u001b[0m \u001b[1;31m#         lam, vec = s.solve_nl(model, mesh, stiffness_matrix, mass_matrix, stiffness_matrix_nl)\u001b[0m\u001b[1;33m\u001b[0m\u001b[1;33m\u001b[0m\u001b[0m\n",
      "\u001b[1;32mD:\\programs\\private\\Science\\vibrations\\py\\fem\\shell\\shellsolver.py\u001b[0m in \u001b[0;36msolve\u001b[1;34m(model, mesh, s_matrix, m_matrix)\u001b[0m\n\u001b[0;32m     44\u001b[0m     \u001b[0mm\u001b[0m \u001b[1;33m=\u001b[0m \u001b[0mremove_fixed_nodes\u001b[0m\u001b[1;33m(\u001b[0m\u001b[0mm\u001b[0m\u001b[1;33m,\u001b[0m \u001b[0mfixed_nodes_indicies\u001b[0m\u001b[1;33m,\u001b[0m \u001b[0mmesh\u001b[0m\u001b[1;33m.\u001b[0m\u001b[0mnodes_count\u001b[0m\u001b[1;33m(\u001b[0m\u001b[1;33m)\u001b[0m\u001b[1;33m)\u001b[0m\u001b[1;33m\u001b[0m\u001b[0m\n\u001b[0;32m     45\u001b[0m \u001b[1;33m\u001b[0m\u001b[0m\n\u001b[1;32m---> 46\u001b[1;33m     \u001b[0mlam\u001b[0m\u001b[1;33m,\u001b[0m \u001b[0mvec\u001b[0m \u001b[1;33m=\u001b[0m \u001b[0mla\u001b[0m\u001b[1;33m.\u001b[0m\u001b[0meigh\u001b[0m\u001b[1;33m(\u001b[0m\u001b[0ms\u001b[0m\u001b[1;33m,\u001b[0m \u001b[0mm\u001b[0m\u001b[1;33m)\u001b[0m\u001b[1;33m\u001b[0m\u001b[0m\n\u001b[0m\u001b[0;32m     47\u001b[0m \u001b[1;33m\u001b[0m\u001b[0m\n\u001b[0;32m     48\u001b[0m     \u001b[0mvec\u001b[0m \u001b[1;33m=\u001b[0m \u001b[0mextend_with_fixed_nodes\u001b[0m\u001b[1;33m(\u001b[0m\u001b[0mvec\u001b[0m\u001b[1;33m,\u001b[0m \u001b[0mfixed_nodes_indicies\u001b[0m\u001b[1;33m,\u001b[0m \u001b[0mmesh\u001b[0m\u001b[1;33m.\u001b[0m\u001b[0mnodes_count\u001b[0m\u001b[1;33m(\u001b[0m\u001b[1;33m)\u001b[0m\u001b[1;33m)\u001b[0m\u001b[1;33m\u001b[0m\u001b[0m\n",
      "\u001b[1;32mD:\\ProgramFiles\\Anaconda\\lib\\site-packages\\scipy\\linalg\\decomp.py\u001b[0m in \u001b[0;36meigh\u001b[1;34m(a, b, lower, eigvals_only, overwrite_a, overwrite_b, turbo, eigvals, type, check_finite)\u001b[0m\n\u001b[0;32m    443\u001b[0m                           \u001b[1;34m\" factorization of 'b' could not be completed\"\u001b[0m\u001b[1;33m\u001b[0m\u001b[0m\n\u001b[0;32m    444\u001b[0m                           \u001b[1;34m\" and no eigenvalues or eigenvectors were\"\u001b[0m\u001b[1;33m\u001b[0m\u001b[0m\n\u001b[1;32m--> 445\u001b[1;33m                           \" computed.\" % (info-b1.shape[0]))\n\u001b[0m\u001b[0;32m    446\u001b[0m \u001b[1;33m\u001b[0m\u001b[0m\n\u001b[0;32m    447\u001b[0m \u001b[1;33m\u001b[0m\u001b[0m\n",
      "\u001b[1;31mLinAlgError\u001b[0m: the leading minor of order 2 of 'b' is not positive definite. The factorization of 'b' could not be completed and no eigenvalues or eigenvectors were computed."
     ]
    }
   ],
   "source": [
    "import fem.geometry as g\n",
    "import fem.model as m\n",
    "import fem.material as mat\n",
    "import fem.shell.shellsolver as s\n",
    "import fem.shell.mesh1D as me\n",
    "import plot\n",
    "\n",
    "stiffness_matrix_func = lambdify([A, K, mu, la, alpha3], S, \"numpy\")\n",
    "mass_matrix_func = lambdify([A, K, rho, alpha3], M, \"numpy\")\n",
    "\n",
    "\n",
    "def stiffness_matrix(material, geometry, x1, x2, x3):\n",
    "    return stiffness_matrix_func(1, curvature, material.mu(), material.lam(), x3)\n",
    "\n",
    "def mass_matrix(material, geometry, x1, x2, x3):\n",
    "    return mass_matrix_func(1, curvature, material.rho, x3)\n",
    "\n",
    "\n",
    "\n",
    "def generate_layers(thickness, layers_count, material):\n",
    "    layer_top = thickness / 2\n",
    "    layer_thickness = thickness / layers_count\n",
    "    layers = set()\n",
    "    for i in range(layers_count):\n",
    "        layer = m.Layer(layer_top - layer_thickness, layer_top, material, i)\n",
    "        layers.add(layer)\n",
    "        layer_top -= layer_thickness\n",
    "    return layers\n",
    "\n",
    "\n",
    "def solve(geometry, thickness, linear, N_width, N_height):\n",
    "    layers_count = 1\n",
    "    layers = generate_layers(thickness, layers_count, mat.IsotropicMaterial.steel())\n",
    "    model = m.Model(geometry, layers, m.Model.FIXED_BOTTOM_LEFT_RIGHT_POINTS)\n",
    "    mesh = me.Mesh1D.generate(width, layers, N_width, m.Model.FIXED_BOTTOM_LEFT_RIGHT_POINTS)\n",
    "    print(mesh.elements)\n",
    "#     if (linear):\n",
    "    lam, vec = s.solve(model, mesh, stiffness_matrix, mass_matrix)\n",
    "#     else:\n",
    "#         lam, vec = s.solve_nl(model, mesh, stiffness_matrix, mass_matrix, stiffness_matrix_nl)\n",
    "    \n",
    "    \n",
    "    return lam, vec, mesh, geometry\n",
    "\n",
    "\n",
    "# r=2\n",
    "# width = r*2*3.14\n",
    "# curvature = 1/r\n",
    "\n",
    "width = 2\n",
    "curvature = 0\n",
    "thickness = 0.05\n",
    "\n",
    "corrugation_amplitude = 0.03\n",
    "corrugation_frequency = 20\n",
    "\n",
    "# geometry = g.CorrugatedCylindricalPlate(width, curvature, corrugation_amplitude, corrugation_frequency)\n",
    "# geometry = g.CylindricalPlate(width, curvature)\n",
    "geometry = g.Plate(width)\n",
    "\n",
    "N_width = 2\n",
    "N_height = 4\n",
    "\n",
    "\n",
    "lam, vec, mesh, geometry = solve(geometry, thickness, False, N_width, N_height)\n",
    "results = s.convert_to_results(lam, vec, mesh, geometry)\n",
    "\n",
    "results_index = 0\n",
    "    \n",
    "# plot.plot_mesh(results[results_index].mesh, width, thickness)\n",
    "    \n",
    "# plot.plot_deformed_mesh(results[results_index], width, thickness)\n",
    "    \n",
    "plot.plot_init_and_deformed_geometry(results[results_index], 0, width, -thickness / 2, thickness / 2, 0)\n",
    "    \n",
    "#    plot.plot_init_geometry(results[results_index].geometry, 0, width, -thickness / 2, thickness / 2, 0)\n",
    "    \n",
    "#    for i in range(6):\n",
    "#        plot.plot_strain_2(results[results_index], N, M, 0, width, -thickness / 2, thickness / 2, 0, i)\n",
    "#        plot.plot_strain(results[results_index], 0, width, -thickness / 2, thickness / 2, 0, i)\n",
    "    \n",
    "    \n",
    "to_print = 20\n",
    "if (len(results) < to_print):\n",
    "    to_print = len(results)\n",
    "    \n",
    "for i in range(to_print):\n",
    "    print(results[i].rad_per_sec_to_Hz(results[i].freq))\n"
   ]
  }
 ],
 "metadata": {
  "kernelspec": {
   "display_name": "Python 3",
   "language": "python",
   "name": "python3"
  },
  "language_info": {
   "codemirror_mode": {
    "name": "ipython",
    "version": 3
   },
   "file_extension": ".py",
   "mimetype": "text/x-python",
   "name": "python",
   "nbconvert_exporter": "python",
   "pygments_lexer": "ipython3",
   "version": "3.6.1"
  }
 },
 "nbformat": 4,
 "nbformat_minor": 2
}
