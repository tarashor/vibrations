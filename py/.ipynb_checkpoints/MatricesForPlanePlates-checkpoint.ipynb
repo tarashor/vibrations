{
 "cells": [
  {
   "cell_type": "markdown",
   "metadata": {},
   "source": [
    "# Matrix generation"
   ]
  },
  {
   "cell_type": "markdown",
   "metadata": {},
   "source": [
    "## Init symbols for *sympy*"
   ]
  },
  {
   "cell_type": "code",
   "execution_count": 2,
   "metadata": {},
   "outputs": [],
   "source": [
    "from sympy import *\n",
    "from geom_util import *\n",
    "from sympy.vector import CoordSys3D\n",
    "N = CoordSys3D('N')\n",
    "alpha1, alpha2, alpha3 = symbols(\"alpha_1 alpha_2 alpha_3\", real = True, positive=True)\n",
    "init_printing()\n",
    "\n",
    "%matplotlib inline\n",
    "\n",
    "%reload_ext autoreload\n",
    "%autoreload 2\n",
    "%aimport geom_util"
   ]
  },
  {
   "cell_type": "markdown",
   "metadata": {},
   "source": [
    "## Cylindrical coordinates"
   ]
  },
  {
   "cell_type": "code",
   "execution_count": 3,
   "metadata": {},
   "outputs": [],
   "source": [
    "x = alpha1\n",
    "y = alpha2\n",
    "z = alpha3\n",
    "\n",
    "r = x*N.i + y*N.j + z*N.k"
   ]
  },
  {
   "cell_type": "code",
   "execution_count": 4,
   "metadata": {},
   "outputs": [],
   "source": [
    "R1=r.diff(alpha1)\n",
    "R2=r.diff(alpha2)\n",
    "R3=r.diff(alpha3)"
   ]
  },
  {
   "cell_type": "code",
   "execution_count": 5,
   "metadata": {},
   "outputs": [
    {
     "data": {
      "image/png": "[encoded data removed]",
      "text/latex": [
       "$$\\mathbf{\\hat{i}_{N}}$$"
      ],
      "text/plain": [
       "N_i"
      ]
     },
     "execution_count": 5,
     "metadata": {},
     "output_type": "execute_result"
    }
   ],
   "source": [
    "R1"
   ]
  },
  {
   "cell_type": "code",
   "execution_count": 6,
   "metadata": {},
   "outputs": [
    {
     "data": {
      "image/png": "[encoded data removed]",
      "text/latex": [
       "$$\\mathbf{\\hat{j}_{N}}$$"
      ],
      "text/plain": [
       "N_j"
      ]
     },
     "execution_count": 6,
     "metadata": {},
     "output_type": "execute_result"
    }
   ],
   "source": [
    "R2"
   ]
  },
  {
   "cell_type": "code",
   "execution_count": 7,
   "metadata": {},
   "outputs": [
    {
     "data": {
      "image/png": "[encoded data removed]",
      "text/latex": [
       "$$\\mathbf{\\hat{k}_{N}}$$"
      ],
      "text/plain": [
       "N_k"
      ]
     },
     "execution_count": 7,
     "metadata": {},
     "output_type": "execute_result"
    }
   ],
   "source": [
    "R3"
   ]
  },
  {
   "cell_type": "markdown",
   "metadata": {},
   "source": [
    "### Lame params"
   ]
  },
  {
   "cell_type": "code",
   "execution_count": 9,
   "metadata": {},
   "outputs": [
    {
     "data": {
      "image/png": "[encoded data removed]",
      "text/latex": [
       "$$\\left[\\begin{matrix}0 & 0 & 0\\\\0 & 0 & 0\\\\0 & 0 & 0\\end{matrix}\\right]$$"
      ],
      "text/plain": [
       "⎡0  0  0⎤\n",
       "⎢       ⎥\n",
       "⎢0  0  0⎥\n",
       "⎢       ⎥\n",
       "⎣0  0  0⎦"
      ]
     },
     "execution_count": 9,
     "metadata": {},
     "output_type": "execute_result"
    }
   ],
   "source": [
    "H1=S(1)\n",
    "H2=S(1)\n",
    "H3=S(1)\n",
    "\n",
    "H=[H1, H2, H3]\n",
    "DIM=3\n",
    "dH = zeros(DIM,DIM)\n",
    "for i in range(DIM):\n",
    "    dH[i,0]=H[i].diff(alpha1)\n",
    "    dH[i,1]=H[i].diff(alpha2)\n",
    "    dH[i,2]=H[i].diff(alpha3)\n",
    "\n",
    "dH\n",
    "    "
   ]
  },
  {
   "cell_type": "markdown",
   "metadata": {},
   "source": [
    "### Metric tensor"
   ]
  },
  {
   "cell_type": "markdown",
   "metadata": {},
   "source": [
    "${\\displaystyle \\hat{G}=\\sum_{i,j} g^{ij}\\vec{R}_i\\vec{R}_j}$"
   ]
  },
  {
   "cell_type": "code",
   "execution_count": 11,
   "metadata": {},
   "outputs": [],
   "source": [
    "G_up = getMetricTensorUpLame(H1, H2, H3)"
   ]
  },
  {
   "cell_type": "markdown",
   "metadata": {},
   "source": [
    "${\\displaystyle \\hat{G}=\\sum_{i,j} g_{ij}\\vec{R}^i\\vec{R}^j}$"
   ]
  },
  {
   "cell_type": "code",
   "execution_count": 12,
   "metadata": {},
   "outputs": [],
   "source": [
    "G_down = getMetricTensorDownLame(H1, H2, H3)"
   ]
  },
  {
   "cell_type": "markdown",
   "metadata": {},
   "source": [
    "### Christoffel symbols"
   ]
  },
  {
   "cell_type": "code",
   "execution_count": 13,
   "metadata": {},
   "outputs": [
    {
     "data": {
      "image/png": "[encoded data removed]",
      "text/latex": [
       "$$\\left[\\begin{matrix}\\left[\\begin{matrix}0 & 0 & 0\\\\0 & 0 & 0\\\\0 & 0 & 0\\end{matrix}\\right] & \\left[\\begin{matrix}0 & 0 & 0\\\\0 & 0 & 0\\\\0 & 0 & 0\\end{matrix}\\right] & \\left[\\begin{matrix}0 & 0 & 0\\\\0 & 0 & 0\\\\0 & 0 & 0\\end{matrix}\\right]\\end{matrix}\\right]$$"
      ],
      "text/plain": [
       "⎡⎡0  0  0⎤  ⎡0  0  0⎤  ⎡0  0  0⎤⎤\n",
       "⎢⎢       ⎥  ⎢       ⎥  ⎢       ⎥⎥\n",
       "⎢⎢0  0  0⎥  ⎢0  0  0⎥  ⎢0  0  0⎥⎥\n",
       "⎢⎢       ⎥  ⎢       ⎥  ⎢       ⎥⎥\n",
       "⎣⎣0  0  0⎦  ⎣0  0  0⎦  ⎣0  0  0⎦⎦"
      ]
     },
     "execution_count": 13,
     "metadata": {},
     "output_type": "execute_result"
    }
   ],
   "source": [
    "DIM=3\n",
    "\n",
    "G_down_diff = MutableDenseNDimArray.zeros(DIM, DIM, DIM)\n",
    "for i in range(DIM):\n",
    "    for j in range(DIM):\n",
    "        for k in range(DIM):\n",
    "                \n",
    "            G_down_diff[i,i,k]=2*H[i]*dH[i,k]\n",
    "                \n",
    "\n",
    "GK = getChristoffelSymbols2(G_up, G_down_diff, (alpha1, alpha2, alpha3))\n",
    "GK"
   ]
  },
  {
   "cell_type": "markdown",
   "metadata": {},
   "source": [
    "### Gradient of vector"
   ]
  },
  {
   "cell_type": "markdown",
   "metadata": {},
   "source": [
    "$ \n",
    "\\left( \n",
    "\\begin{array}{c} \n",
    "\\nabla_1 u_1 \\\\ \\nabla_2 u_1 \\\\ \\nabla_3 u_1 \\\\\n",
    "\\nabla_1 u_2 \\\\ \\nabla_2 u_2 \\\\ \\nabla_3 u_2 \\\\\n",
    "\\nabla_1 u_3 \\\\ \\nabla_2 u_3 \\\\ \\nabla_3 u_3 \\\\\n",
    "\\end{array} \n",
    "\\right)\n",
    "=  \n",
    "B \\cdot\n",
    "\\left( \n",
    "\\begin{array}{c} \n",
    "u_1 \\\\\n",
    "\\frac { \\partial u_1 } { \\partial \\alpha_1} \\\\\n",
    "\\frac { \\partial u_1 } { \\partial \\alpha_2} \\\\\n",
    "\\frac { \\partial u_1 } { \\partial \\alpha_3} \\\\\n",
    "u_2 \\\\\n",
    "\\frac { \\partial u_2 } { \\partial \\alpha_1} \\\\\n",
    "\\frac { \\partial u_2 } { \\partial \\alpha_2} \\\\\n",
    "\\frac { \\partial u_2 } { \\partial \\alpha_3} \\\\\n",
    "u_3 \\\\\n",
    "\\frac { \\partial u_3 } { \\partial \\alpha_1} \\\\\n",
    "\\frac { \\partial u_3 } { \\partial \\alpha_2} \\\\\n",
    "\\frac { \\partial u_3 } { \\partial \\alpha_3} \\\\\n",
    "\\end{array} \n",
    "\\right) \n",
    "= B \\cdot D \\cdot\n",
    "\\left( \n",
    "\\begin{array}{c} \n",
    "u^1 \\\\\n",
    "\\frac { \\partial u^1 } { \\partial \\alpha_1} \\\\\n",
    "\\frac { \\partial u^1 } { \\partial \\alpha_2} \\\\\n",
    "\\frac { \\partial u^1 } { \\partial \\alpha_3} \\\\\n",
    "u^2 \\\\\n",
    "\\frac { \\partial u^2 } { \\partial \\alpha_1} \\\\\n",
    "\\frac { \\partial u^2 } { \\partial \\alpha_2} \\\\\n",
    "\\frac { \\partial u^2 } { \\partial \\alpha_3} \\\\\n",
    "u^3 \\\\\n",
    "\\frac { \\partial u^3 } { \\partial \\alpha_1} \\\\\n",
    "\\frac { \\partial u^3 } { \\partial \\alpha_2} \\\\\n",
    "\\frac { \\partial u^3 } { \\partial \\alpha_3} \\\\\n",
    "\\end{array} \n",
    "\\right) \n",
    "$"
   ]
  },
  {
   "cell_type": "code",
   "execution_count": 14,
   "metadata": {},
   "outputs": [
    {
     "data": {
      "image/png": "[encoded data removed]",
      "text/latex": [
       "$$\\left[\\begin{array}{cccccccccccc}0 & 1 & 0 & 0 & 0 & 0 & 0 & 0 & 0 & 0 & 0 & 0\\\\0 & 0 & 1 & 0 & 0 & 0 & 0 & 0 & 0 & 0 & 0 & 0\\\\0 & 0 & 0 & 1 & 0 & 0 & 0 & 0 & 0 & 0 & 0 & 0\\\\0 & 0 & 0 & 0 & 0 & 1 & 0 & 0 & 0 & 0 & 0 & 0\\\\0 & 0 & 0 & 0 & 0 & 0 & 1 & 0 & 0 & 0 & 0 & 0\\\\0 & 0 & 0 & 0 & 0 & 0 & 0 & 1 & 0 & 0 & 0 & 0\\\\0 & 0 & 0 & 0 & 0 & 0 & 0 & 0 & 0 & 1 & 0 & 0\\\\0 & 0 & 0 & 0 & 0 & 0 & 0 & 0 & 0 & 0 & 1 & 0\\\\0 & 0 & 0 & 0 & 0 & 0 & 0 & 0 & 0 & 0 & 0 & 1\\end{array}\\right]$$"
      ],
      "text/plain": [
       "⎡0  1  0  0  0  0  0  0  0  0  0  0⎤\n",
       "⎢                                  ⎥\n",
       "⎢0  0  1  0  0  0  0  0  0  0  0  0⎥\n",
       "⎢                                  ⎥\n",
       "⎢0  0  0  1  0  0  0  0  0  0  0  0⎥\n",
       "⎢                                  ⎥\n",
       "⎢0  0  0  0  0  1  0  0  0  0  0  0⎥\n",
       "⎢                                  ⎥\n",
       "⎢0  0  0  0  0  0  1  0  0  0  0  0⎥\n",
       "⎢                                  ⎥\n",
       "⎢0  0  0  0  0  0  0  1  0  0  0  0⎥\n",
       "⎢                                  ⎥\n",
       "⎢0  0  0  0  0  0  0  0  0  1  0  0⎥\n",
       "⎢                                  ⎥\n",
       "⎢0  0  0  0  0  0  0  0  0  0  1  0⎥\n",
       "⎢                                  ⎥\n",
       "⎣0  0  0  0  0  0  0  0  0  0  0  1⎦"
      ]
     },
     "execution_count": 14,
     "metadata": {},
     "output_type": "execute_result"
    }
   ],
   "source": [
    "def row_index_to_i_j_grad(i_row):\n",
    "    return i_row // 3, i_row % 3\n",
    "        \n",
    "\n",
    "B = zeros(9, 12)\n",
    "B[0,1] = S(1)\n",
    "B[1,2] = S(1)\n",
    "\n",
    "B[2,3] = S(1)\n",
    "\n",
    "B[3,5] = S(1)\n",
    "B[4,6] = S(1)\n",
    "B[5,7] = S(1)\n",
    "\n",
    "B[6,9] = S(1)\n",
    "B[7,10] = S(1)\n",
    "B[8,11] = S(1)\n",
    "\n",
    "for row_index in range(9):\n",
    "    i,j=row_index_to_i_j_grad(row_index)\n",
    "    B[row_index, 0] = -GK[i,j,0]\n",
    "    B[row_index, 4] = -GK[i,j,1]\n",
    "    B[row_index, 8] = -GK[i,j,2]\n",
    "\n",
    "B"
   ]
  },
  {
   "cell_type": "markdown",
   "metadata": {},
   "source": [
    "### Strain tensor\n",
    "\n",
    "$ \n",
    "\\left( \n",
    "\\begin{array}{c} \n",
    "\\varepsilon_{11} \\\\ \n",
    "\\varepsilon_{22} \\\\ \n",
    "\\varepsilon_{33} \\\\ \n",
    "2\\varepsilon_{12} \\\\ \n",
    "2\\varepsilon_{13} \\\\ \n",
    "2\\varepsilon_{23} \\\\ \n",
    "\\end{array} \n",
    "\\right)\n",
    "=  \n",
    "\\left(E + E_{NL} \\left( \\nabla \\vec{u} \\right) \\right) \\cdot \n",
    "\\left( \n",
    "\\begin{array}{c} \n",
    "\\nabla_1 u_1 \\\\ \\nabla_2 u_1 \\\\ \\nabla_3 u_1 \\\\\n",
    "\\nabla_1 u_2 \\\\ \\nabla_2 u_2 \\\\ \\nabla_3 u_2 \\\\\n",
    "\\nabla_1 u_3 \\\\ \\nabla_2 u_3 \\\\ \\nabla_3 u_3 \\\\\n",
    "\\end{array} \n",
    "\\right)$"
   ]
  },
  {
   "cell_type": "code",
   "execution_count": 15,
   "metadata": {},
   "outputs": [
    {
     "data": {
      "image/png": "[encoded data removed]",
      "text/latex": [
       "$$\\left[\\begin{matrix}1 & 0 & 0 & 0 & 0 & 0 & 0 & 0 & 0\\\\0 & 0 & 0 & 0 & 1 & 0 & 0 & 0 & 0\\\\0 & 0 & 0 & 0 & 0 & 0 & 0 & 0 & 1\\\\0 & 1 & 0 & 1 & 0 & 0 & 0 & 0 & 0\\\\0 & 0 & 1 & 0 & 0 & 0 & 1 & 0 & 0\\\\0 & 0 & 0 & 0 & 0 & 1 & 0 & 1 & 0\\end{matrix}\\right]$$"
      ],
      "text/plain": [
       "⎡1  0  0  0  0  0  0  0  0⎤\n",
       "⎢                         ⎥\n",
       "⎢0  0  0  0  1  0  0  0  0⎥\n",
       "⎢                         ⎥\n",
       "⎢0  0  0  0  0  0  0  0  1⎥\n",
       "⎢                         ⎥\n",
       "⎢0  1  0  1  0  0  0  0  0⎥\n",
       "⎢                         ⎥\n",
       "⎢0  0  1  0  0  0  1  0  0⎥\n",
       "⎢                         ⎥\n",
       "⎣0  0  0  0  0  1  0  1  0⎦"
      ]
     },
     "execution_count": 15,
     "metadata": {},
     "output_type": "execute_result"
    }
   ],
   "source": [
    "E=zeros(6,9)\n",
    "E[0,0]=1\n",
    "E[1,4]=1\n",
    "E[2,8]=1\n",
    "E[3,1]=1\n",
    "E[3,3]=1\n",
    "E[4,2]=1\n",
    "E[4,6]=1\n",
    "E[5,5]=1\n",
    "E[5,7]=1\n",
    "E"
   ]
  },
  {
   "cell_type": "code",
   "execution_count": 16,
   "metadata": {},
   "outputs": [
    {
     "data": {
      "image/png": "[encoded data removed]",
      "text/latex": [
       "$$\\left[\\begin{array}{cccccccccccc}0 & \\frac{u_{1,1}}{2} & 0 & 0 & 0 & 0 & 0 & 0 & 0 & \\frac{u_{3,1}}{2} & 0 & 0\\\\0 & 0 & 0 & 0 & 0 & 0 & 0 & 0 & 0 & 0 & 0 & 0\\\\0 & 0 & 0 & \\frac{u_{1,3}}{2} & 0 & 0 & 0 & 0 & 0 & 0 & 0 & \\frac{u_{3,3}}{2}\\\\0 & 0 & u_{1,1} & 0 & 0 & 0 & 0 & 0 & 0 & 0 & u_{3,1} & 0\\\\0 & u_{1,3} & 0 & 0 & 0 & 0 & 0 & 0 & 0 & u_{3,3} & 0 & 0\\\\0 & 0 & 0 & 0 & 0 & 0 & 0 & 0 & 0 & 0 & 0 & 0\\end{array}\\right]$$"
      ],
      "text/plain": [
       "⎡   u_{1,1}                                   u_{3,1}                  ⎤\n",
       "⎢0  ───────     0        0     0  0  0  0  0  ───────     0        0   ⎥\n",
       "⎢      2                                         2                     ⎥\n",
       "⎢                                                                      ⎥\n",
       "⎢0     0        0        0     0  0  0  0  0     0        0        0   ⎥\n",
       "⎢                                                                      ⎥\n",
       "⎢                     u_{1,3}                                   u_{3,3}⎥\n",
       "⎢0     0        0     ───────  0  0  0  0  0     0        0     ───────⎥\n",
       "⎢                        2                                         2   ⎥\n",
       "⎢                                                                      ⎥\n",
       "⎢0     0     u_{1,1}     0     0  0  0  0  0     0     u_{3,1}     0   ⎥\n",
       "⎢                                                                      ⎥\n",
       "⎢0  u_{1,3}     0        0     0  0  0  0  0  u_{3,3}     0        0   ⎥\n",
       "⎢                                                                      ⎥\n",
       "⎣0     0        0        0     0  0  0  0  0     0        0        0   ⎦"
      ]
     },
     "execution_count": 16,
     "metadata": {},
     "output_type": "execute_result"
    }
   ],
   "source": [
    "def E_NonLinear(grad_u):\n",
    "    N = 3\n",
    "\n",
    "    du = zeros(N, N)\n",
    "\n",
    "    #    print(\"===Deformations===\")\n",
    "\n",
    "    for i in range(N):\n",
    "        for j in range(N):\n",
    "            index = i*N+j\n",
    "            du[j,i] = grad_u[index]\n",
    "\n",
    "    #    print(\"========\")\n",
    "    \n",
    "    I = eye(3)\n",
    "\n",
    "    a_values = S(1)/S(2) * du * G_up\n",
    "\n",
    "\n",
    "    E_NL = zeros(6,9)\n",
    "    E_NL[0,0] = a_values[0,0]\n",
    "    E_NL[0,3] = a_values[0,1]\n",
    "    E_NL[0,6] = a_values[0,2]\n",
    "\n",
    "    E_NL[1,1] = a_values[1,0]\n",
    "    E_NL[1,4] = a_values[1,1]\n",
    "    E_NL[1,7] = a_values[1,2]\n",
    "\n",
    "    E_NL[2,2] = a_values[2,0]\n",
    "    E_NL[2,5] = a_values[2,1]\n",
    "    E_NL[2,8] = a_values[2,2]\n",
    "\n",
    "    E_NL[3,1] = 2*a_values[0,0]\n",
    "    E_NL[3,4] = 2*a_values[0,1]\n",
    "    E_NL[3,7] = 2*a_values[0,2]\n",
    "\n",
    "    E_NL[4,0] = 2*a_values[2,0]\n",
    "    E_NL[4,3] = 2*a_values[2,1]\n",
    "    E_NL[4,6] = 2*a_values[2,2]\n",
    "\n",
    "    E_NL[5,2] = 2*a_values[1,0]\n",
    "    E_NL[5,5] = 2*a_values[1,1]\n",
    "    E_NL[5,8] = 2*a_values[1,2]\n",
    "\n",
    "\n",
    "    return E_NL\n",
    "\n",
    "\n",
    "%aimport geom_util\n",
    "u=getUHat3DPlane(alpha1, alpha2, alpha3)\n",
    "\n",
    "\n",
    "# u=getUHatU3Main(alpha1, alpha2, alpha3)\n",
    "\n",
    "gradu=B*u\n",
    "\n",
    "\n",
    "E_NL = E_NonLinear(gradu)*B\n",
    "\n",
    "E_NL\n"
   ]
  },
  {
   "cell_type": "markdown",
   "metadata": {},
   "source": [
    "### Physical coordinates"
   ]
  },
  {
   "cell_type": "markdown",
   "metadata": {},
   "source": [
    "$u_i=u_{[i]} H_i$"
   ]
  },
  {
   "cell_type": "code",
   "execution_count": 17,
   "metadata": {},
   "outputs": [
    {
     "data": {
      "image/png": "[encoded data removed]",
      "text/latex": [
       "$$\\left[\\begin{array}{cccccccccccc}1 & 0 & 0 & 0 & 0 & 0 & 0 & 0 & 0 & 0 & 0 & 0\\\\0 & 1 & 0 & 0 & 0 & 0 & 0 & 0 & 0 & 0 & 0 & 0\\\\0 & 0 & 1 & 0 & 0 & 0 & 0 & 0 & 0 & 0 & 0 & 0\\\\0 & 0 & 0 & 1 & 0 & 0 & 0 & 0 & 0 & 0 & 0 & 0\\\\0 & 0 & 0 & 0 & 1 & 0 & 0 & 0 & 0 & 0 & 0 & 0\\\\0 & 0 & 0 & 0 & 0 & 1 & 0 & 0 & 0 & 0 & 0 & 0\\\\0 & 0 & 0 & 0 & 0 & 0 & 1 & 0 & 0 & 0 & 0 & 0\\\\0 & 0 & 0 & 0 & 0 & 0 & 0 & 1 & 0 & 0 & 0 & 0\\\\0 & 0 & 0 & 0 & 0 & 0 & 0 & 0 & 1 & 0 & 0 & 0\\\\0 & 0 & 0 & 0 & 0 & 0 & 0 & 0 & 0 & 1 & 0 & 0\\\\0 & 0 & 0 & 0 & 0 & 0 & 0 & 0 & 0 & 0 & 1 & 0\\\\0 & 0 & 0 & 0 & 0 & 0 & 0 & 0 & 0 & 0 & 0 & 1\\end{array}\\right]$$"
      ],
      "text/plain": [
       "⎡1  0  0  0  0  0  0  0  0  0  0  0⎤\n",
       "⎢                                  ⎥\n",
       "⎢0  1  0  0  0  0  0  0  0  0  0  0⎥\n",
       "⎢                                  ⎥\n",
       "⎢0  0  1  0  0  0  0  0  0  0  0  0⎥\n",
       "⎢                                  ⎥\n",
       "⎢0  0  0  1  0  0  0  0  0  0  0  0⎥\n",
       "⎢                                  ⎥\n",
       "⎢0  0  0  0  1  0  0  0  0  0  0  0⎥\n",
       "⎢                                  ⎥\n",
       "⎢0  0  0  0  0  1  0  0  0  0  0  0⎥\n",
       "⎢                                  ⎥\n",
       "⎢0  0  0  0  0  0  1  0  0  0  0  0⎥\n",
       "⎢                                  ⎥\n",
       "⎢0  0  0  0  0  0  0  1  0  0  0  0⎥\n",
       "⎢                                  ⎥\n",
       "⎢0  0  0  0  0  0  0  0  1  0  0  0⎥\n",
       "⎢                                  ⎥\n",
       "⎢0  0  0  0  0  0  0  0  0  1  0  0⎥\n",
       "⎢                                  ⎥\n",
       "⎢0  0  0  0  0  0  0  0  0  0  1  0⎥\n",
       "⎢                                  ⎥\n",
       "⎣0  0  0  0  0  0  0  0  0  0  0  1⎦"
      ]
     },
     "execution_count": 17,
     "metadata": {},
     "output_type": "execute_result"
    }
   ],
   "source": [
    "P=zeros(12,12)\n",
    "P[0,0]=H[0]\n",
    "P[1,0]=dH[0,0]\n",
    "P[1,1]=H[0]\n",
    "P[2,0]=dH[0,1]\n",
    "P[2,2]=H[0]\n",
    "P[3,0]=dH[0,2]\n",
    "P[3,3]=H[0]\n",
    "\n",
    "P[4,4]=H[1]\n",
    "P[5,4]=dH[1,0]\n",
    "P[5,5]=H[1]\n",
    "P[6,4]=dH[1,1]\n",
    "P[6,6]=H[1]\n",
    "P[7,4]=dH[1,2]\n",
    "P[7,7]=H[1]\n",
    "\n",
    "P[8,8]=H[2]\n",
    "P[9,8]=dH[2,0]\n",
    "P[9,9]=H[2]\n",
    "P[10,8]=dH[2,1]\n",
    "P[10,10]=H[2]\n",
    "P[11,8]=dH[2,2]\n",
    "P[11,11]=H[2]\n",
    "P=simplify(P)\n",
    "P"
   ]
  },
  {
   "cell_type": "code",
   "execution_count": 18,
   "metadata": {},
   "outputs": [
    {
     "data": {
      "image/png": "[encoded data removed]",
      "text/latex": [
       "$$\\left[\\begin{array}{cccccccccccc}0 & 1 & 0 & 0 & 0 & 0 & 0 & 0 & 0 & 0 & 0 & 0\\\\0 & 0 & 1 & 0 & 0 & 0 & 0 & 0 & 0 & 0 & 0 & 0\\\\0 & 0 & 0 & 1 & 0 & 0 & 0 & 0 & 0 & 0 & 0 & 0\\\\0 & 0 & 0 & 0 & 0 & 1 & 0 & 0 & 0 & 0 & 0 & 0\\\\0 & 0 & 0 & 0 & 0 & 0 & 1 & 0 & 0 & 0 & 0 & 0\\\\0 & 0 & 0 & 0 & 0 & 0 & 0 & 1 & 0 & 0 & 0 & 0\\\\0 & 0 & 0 & 0 & 0 & 0 & 0 & 0 & 0 & 1 & 0 & 0\\\\0 & 0 & 0 & 0 & 0 & 0 & 0 & 0 & 0 & 0 & 1 & 0\\\\0 & 0 & 0 & 0 & 0 & 0 & 0 & 0 & 0 & 0 & 0 & 1\\end{array}\\right]$$"
      ],
      "text/plain": [
       "⎡0  1  0  0  0  0  0  0  0  0  0  0⎤\n",
       "⎢                                  ⎥\n",
       "⎢0  0  1  0  0  0  0  0  0  0  0  0⎥\n",
       "⎢                                  ⎥\n",
       "⎢0  0  0  1  0  0  0  0  0  0  0  0⎥\n",
       "⎢                                  ⎥\n",
       "⎢0  0  0  0  0  1  0  0  0  0  0  0⎥\n",
       "⎢                                  ⎥\n",
       "⎢0  0  0  0  0  0  1  0  0  0  0  0⎥\n",
       "⎢                                  ⎥\n",
       "⎢0  0  0  0  0  0  0  1  0  0  0  0⎥\n",
       "⎢                                  ⎥\n",
       "⎢0  0  0  0  0  0  0  0  0  1  0  0⎥\n",
       "⎢                                  ⎥\n",
       "⎢0  0  0  0  0  0  0  0  0  0  1  0⎥\n",
       "⎢                                  ⎥\n",
       "⎣0  0  0  0  0  0  0  0  0  0  0  1⎦"
      ]
     },
     "execution_count": 18,
     "metadata": {},
     "output_type": "execute_result"
    }
   ],
   "source": [
    "B_P = zeros(9,9)\n",
    "\n",
    "for i in range(3):\n",
    "    for j in range(3):\n",
    "        \n",
    "        row_index = i*3+j\n",
    "        \n",
    "        B_P[row_index, row_index] = 1/(H[i]*H[j])\n",
    "        \n",
    "\n",
    "Grad_U_P = simplify(B_P*B*P)\n",
    "Grad_U_P"
   ]
  },
  {
   "cell_type": "code",
   "execution_count": 19,
   "metadata": {},
   "outputs": [
    {
     "data": {
      "image/png": "[encoded data removed]",
      "text/latex": [
       "$$\\left[\\begin{array}{cccccccccccc}0 & 1 & 0 & 0 & 0 & 0 & 0 & 0 & 0 & 0 & 0 & 0\\\\0 & 0 & 0 & 0 & 0 & 0 & 1 & 0 & 0 & 0 & 0 & 0\\\\0 & 0 & 0 & 0 & 0 & 0 & 0 & 0 & 0 & 0 & 0 & 1\\\\0 & 0 & 1 & 0 & 0 & 1 & 0 & 0 & 0 & 0 & 0 & 0\\\\0 & 0 & 0 & 1 & 0 & 0 & 0 & 0 & 0 & 1 & 0 & 0\\\\0 & 0 & 0 & 0 & 0 & 0 & 0 & 1 & 0 & 0 & 1 & 0\\end{array}\\right]$$"
      ],
      "text/plain": [
       "⎡0  1  0  0  0  0  0  0  0  0  0  0⎤\n",
       "⎢                                  ⎥\n",
       "⎢0  0  0  0  0  0  1  0  0  0  0  0⎥\n",
       "⎢                                  ⎥\n",
       "⎢0  0  0  0  0  0  0  0  0  0  0  1⎥\n",
       "⎢                                  ⎥\n",
       "⎢0  0  1  0  0  1  0  0  0  0  0  0⎥\n",
       "⎢                                  ⎥\n",
       "⎢0  0  0  1  0  0  0  0  0  1  0  0⎥\n",
       "⎢                                  ⎥\n",
       "⎣0  0  0  0  0  0  0  1  0  0  1  0⎦"
      ]
     },
     "execution_count": 19,
     "metadata": {},
     "output_type": "execute_result"
    }
   ],
   "source": [
    "StrainL=simplify(E*Grad_U_P)\n",
    "StrainL"
   ]
  },
  {
   "cell_type": "code",
   "execution_count": 20,
   "metadata": {},
   "outputs": [
    {
     "data": {
      "image/png": "[encoded data removed]",
      "text/latex": [
       "$$\\left[\\begin{array}{cccccccccccc}0 & 0 & 0 & 0 & 0 & 0 & 0 & 0 & 0 & \\frac{1}{2} \\frac{\\partial}{\\partial \\alpha_{1}} \\operatorname{u_{3}}{\\left (\\alpha_{1},\\alpha_{2},\\alpha_{3} \\right )} & 0 & 0\\\\0 & 0 & 0 & 0 & 0 & 0 & 0 & 0 & 0 & 0 & \\frac{1}{2} \\frac{\\partial}{\\partial \\alpha_{2}} \\operatorname{u_{3}}{\\left (\\alpha_{1},\\alpha_{2},\\alpha_{3} \\right )} & 0\\\\0 & 0 & 0 & 0 & 0 & 0 & 0 & 0 & 0 & 0 & 0 & 0\\\\0 & 0 & 0 & 0 & 0 & 0 & 0 & 0 & 0 & 0 & \\frac{\\partial}{\\partial \\alpha_{1}} \\operatorname{u_{3}}{\\left (\\alpha_{1},\\alpha_{2},\\alpha_{3} \\right )} & 0\\\\0 & 0 & 0 & 0 & 0 & 0 & 0 & 0 & 0 & 0 & 0 & 0\\\\0 & 0 & 0 & 0 & 0 & 0 & 0 & 0 & 0 & 0 & 0 & \\frac{\\partial}{\\partial \\alpha_{2}} \\operatorname{u_{3}}{\\left (\\alpha_{1},\\alpha_{2},\\alpha_{3} \\right )}\\end{array}\\right]$$"
      ],
      "text/plain": [
       "⎡                            ∂                                                \n",
       "⎢                           ───(u₃(α₁, α₂, α₃))                               \n",
       "⎢                           ∂α₁                                               \n",
       "⎢0  0  0  0  0  0  0  0  0  ───────────────────           0                   \n",
       "⎢                                    2                                        \n",
       "⎢                                                                             \n",
       "⎢                                                 ∂                           \n",
       "⎢                                                ───(u₃(α₁, α₂, α₃))          \n",
       "⎢                                                ∂α₂                          \n",
       "⎢0  0  0  0  0  0  0  0  0           0           ───────────────────          \n",
       "⎢                                                         2                   \n",
       "⎢                                                                             \n",
       "⎢0  0  0  0  0  0  0  0  0           0                    0                   \n",
       "⎢                                                                             \n",
       "⎢                                                 ∂                           \n",
       "⎢0  0  0  0  0  0  0  0  0           0           ───(u₃(α₁, α₂, α₃))          \n",
       "⎢                                                ∂α₁                          \n",
       "⎢                                                                             \n",
       "⎢0  0  0  0  0  0  0  0  0           0                    0                   \n",
       "⎢                                                                             \n",
       "⎢                                                                      ∂      \n",
       "⎢0  0  0  0  0  0  0  0  0           0                    0           ───(u₃(α\n",
       "⎣                                                                     ∂α₂     \n",
       "\n",
       "           ⎤\n",
       "           ⎥\n",
       "           ⎥\n",
       " 0         ⎥\n",
       "           ⎥\n",
       "           ⎥\n",
       "           ⎥\n",
       "           ⎥\n",
       "           ⎥\n",
       " 0         ⎥\n",
       "           ⎥\n",
       "           ⎥\n",
       " 0         ⎥\n",
       "           ⎥\n",
       "           ⎥\n",
       " 0         ⎥\n",
       "           ⎥\n",
       "           ⎥\n",
       " 0         ⎥\n",
       "           ⎥\n",
       "           ⎥\n",
       "₁, α₂, α₃))⎥\n",
       "           ⎦"
      ]
     },
     "execution_count": 20,
     "metadata": {},
     "output_type": "execute_result"
    }
   ],
   "source": [
    "%aimport geom_util\n",
    "\n",
    "\n",
    "u=getUHatU3Main(alpha1, alpha2, alpha3)\n",
    "\n",
    "gradup=Grad_U_P*u\n",
    "\n",
    "\n",
    "E_NLp = E_NonLinear(gradup)*Grad_U_P\n",
    "\n",
    "\n",
    "simplify(E_NLp)"
   ]
  },
  {
   "cell_type": "markdown",
   "metadata": {},
   "source": [
    "### Tymoshenko theory\n",
    "\n",
    "$u_1 \\left( \\alpha_1, \\alpha_2, \\alpha_3 \\right)=u\\left( \\alpha_1 \\right)+\\alpha_3\\gamma \\left( \\alpha_1 \\right) $\n",
    "\n",
    "$u_2 \\left( \\alpha_1, \\alpha_2, \\alpha_3 \\right)=0 $\n",
    "\n",
    "$u_3 \\left( \\alpha_1, \\alpha_2, \\alpha_3 \\right)=w\\left( \\alpha_1 \\right) $\n",
    "\n",
    "$ \\left( \n",
    "\\begin{array}{c} \n",
    "u_1 \\\\\n",
    "\\frac { \\partial u_1 } { \\partial \\alpha_1} \\\\\n",
    "\\frac { \\partial u_1 } { \\partial \\alpha_2} \\\\\n",
    "\\frac { \\partial u_1 } { \\partial \\alpha_3} \\\\\n",
    "u_2 \\\\\n",
    "\\frac { \\partial u_2 } { \\partial \\alpha_1} \\\\\n",
    "\\frac { \\partial u_2 } { \\partial \\alpha_2} \\\\\n",
    "\\frac { \\partial u_2 } { \\partial \\alpha_3} \\\\\n",
    "u_3 \\\\\n",
    "\\frac { \\partial u_3 } { \\partial \\alpha_1} \\\\\n",
    "\\frac { \\partial u_3 } { \\partial \\alpha_2} \\\\\n",
    "\\frac { \\partial u_3 } { \\partial \\alpha_3} \\\\\n",
    "\\end{array} \n",
    "\\right) = T \\cdot \n",
    "\\left( \n",
    "\\begin{array}{c} \n",
    "u \\\\\n",
    "\\frac { \\partial u } { \\partial \\alpha_1} \\\\\n",
    "\\gamma \\\\\n",
    "\\frac { \\partial \\gamma } { \\partial \\alpha_1} \\\\\n",
    "w \\\\\n",
    "\\frac { \\partial w } { \\partial \\alpha_1} \\\\\n",
    "\\end{array} \n",
    "\\right) $"
   ]
  },
  {
   "cell_type": "code",
   "execution_count": 21,
   "metadata": {},
   "outputs": [
    {
     "data": {
      "image/png": "[encoded data removed]",
      "text/latex": [
       "$$\\left[\\begin{matrix}1 & 0 & \\alpha_{3} & 0 & 0 & 0\\\\0 & 1 & 0 & \\alpha_{3} & 0 & 0\\\\0 & 0 & 0 & 0 & 0 & 0\\\\0 & 0 & 1 & 0 & 0 & 0\\\\0 & 0 & 0 & 0 & 0 & 0\\\\0 & 0 & 0 & 0 & 0 & 0\\\\0 & 0 & 0 & 0 & 0 & 0\\\\0 & 0 & 0 & 0 & 0 & 0\\\\0 & 0 & 0 & 0 & 1 & 0\\\\0 & 0 & 0 & 0 & 0 & 1\\\\0 & 0 & 0 & 0 & 0 & 0\\\\0 & 0 & 0 & 0 & 0 & 0\\end{matrix}\\right]$$"
      ],
      "text/plain": [
       "⎡1  0  α₃  0   0  0⎤\n",
       "⎢                  ⎥\n",
       "⎢0  1  0   α₃  0  0⎥\n",
       "⎢                  ⎥\n",
       "⎢0  0  0   0   0  0⎥\n",
       "⎢                  ⎥\n",
       "⎢0  0  1   0   0  0⎥\n",
       "⎢                  ⎥\n",
       "⎢0  0  0   0   0  0⎥\n",
       "⎢                  ⎥\n",
       "⎢0  0  0   0   0  0⎥\n",
       "⎢                  ⎥\n",
       "⎢0  0  0   0   0  0⎥\n",
       "⎢                  ⎥\n",
       "⎢0  0  0   0   0  0⎥\n",
       "⎢                  ⎥\n",
       "⎢0  0  0   0   1  0⎥\n",
       "⎢                  ⎥\n",
       "⎢0  0  0   0   0  1⎥\n",
       "⎢                  ⎥\n",
       "⎢0  0  0   0   0  0⎥\n",
       "⎢                  ⎥\n",
       "⎣0  0  0   0   0  0⎦"
      ]
     },
     "execution_count": 21,
     "metadata": {},
     "output_type": "execute_result"
    }
   ],
   "source": [
    "T=zeros(12,6)\n",
    "T[0,0]=1\n",
    "T[0,2]=alpha3\n",
    "T[1,1]=1\n",
    "T[1,3]=alpha3\n",
    "T[3,2]=1\n",
    "\n",
    "T[8,4]=1\n",
    "T[9,5]=1\n",
    "T"
   ]
  },
  {
   "cell_type": "code",
   "execution_count": 22,
   "metadata": {},
   "outputs": [
    {
     "data": {
      "image/png": "[encoded data removed]",
      "text/latex": [
       "$$\\left[\\begin{matrix}0 & 1 & 0 & \\alpha_{3} & 0 & 0\\\\0 & 0 & 0 & 0 & 0 & 0\\\\0 & 0 & 0 & 0 & 0 & 0\\\\0 & 0 & 0 & 0 & 0 & 0\\\\0 & 0 & 1 & 0 & 0 & 1\\\\0 & 0 & 0 & 0 & 0 & 0\\end{matrix}\\right]$$"
      ],
      "text/plain": [
       "⎡0  1  0  α₃  0  0⎤\n",
       "⎢                 ⎥\n",
       "⎢0  0  0  0   0  0⎥\n",
       "⎢                 ⎥\n",
       "⎢0  0  0  0   0  0⎥\n",
       "⎢                 ⎥\n",
       "⎢0  0  0  0   0  0⎥\n",
       "⎢                 ⎥\n",
       "⎢0  0  1  0   0  1⎥\n",
       "⎢                 ⎥\n",
       "⎣0  0  0  0   0  0⎦"
      ]
     },
     "execution_count": 22,
     "metadata": {},
     "output_type": "execute_result"
    }
   ],
   "source": [
    "D_p_T = StrainL*T\n",
    "simplify(D_p_T)"
   ]
  },
  {
   "cell_type": "code",
   "execution_count": 23,
   "metadata": {},
   "outputs": [
    {
     "data": {
      "image/png": "[encoded data removed]",
      "text/latex": [
       "$$\\left[\\begin{matrix}\\frac{1}{2} \\left(\\alpha_{3} \\frac{d}{d \\alpha_{1}} \\theta{\\left (\\alpha_{1} \\right )} + \\frac{d}{d \\alpha_{1}} u{\\left (\\alpha_{1} \\right )}\\right)^{2} + \\frac{1}{2} \\left(\\frac{d}{d \\alpha_{1}} w{\\left (\\alpha_{1} \\right )}\\right)^{2}\\\\0\\\\\\frac{1}{2} \\theta^{2}{\\left (\\alpha_{1} \\right )}\\\\0\\\\\\left(\\alpha_{3} \\frac{d}{d \\alpha_{1}} \\theta{\\left (\\alpha_{1} \\right )} + \\frac{d}{d \\alpha_{1}} u{\\left (\\alpha_{1} \\right )}\\right) \\theta{\\left (\\alpha_{1} \\right )}\\\\0\\end{matrix}\\right]$$"
      ],
      "text/plain": [
       "⎡                            2               2⎤\n",
       "⎢⎛    d            d        ⎞    ⎛ d        ⎞ ⎥\n",
       "⎢⎜α₃⋅───(θ(α₁)) + ───(u(α₁))⎟    ⎜───(w(α₁))⎟ ⎥\n",
       "⎢⎝   dα₁          dα₁       ⎠    ⎝dα₁       ⎠ ⎥\n",
       "⎢───────────────────────────── + ─────────────⎥\n",
       "⎢              2                       2      ⎥\n",
       "⎢                                             ⎥\n",
       "⎢                      0                      ⎥\n",
       "⎢                                             ⎥\n",
       "⎢                    2                        ⎥\n",
       "⎢                   θ (α₁)                    ⎥\n",
       "⎢                   ──────                    ⎥\n",
       "⎢                     2                       ⎥\n",
       "⎢                                             ⎥\n",
       "⎢                      0                      ⎥\n",
       "⎢                                             ⎥\n",
       "⎢     ⎛    d            d        ⎞            ⎥\n",
       "⎢     ⎜α₃⋅───(θ(α₁)) + ───(u(α₁))⎟⋅θ(α₁)      ⎥\n",
       "⎢     ⎝   dα₁          dα₁       ⎠            ⎥\n",
       "⎢                                             ⎥\n",
       "⎣                      0                      ⎦"
      ]
     },
     "execution_count": 23,
     "metadata": {},
     "output_type": "execute_result"
    }
   ],
   "source": [
    "u = Function(\"u\")\n",
    "t = Function(\"theta\")\n",
    "w = Function(\"w\")\n",
    "\n",
    "u1=u(alpha1)+alpha3*t(alpha1)\n",
    "u3=w(alpha1)\n",
    "\n",
    "gu = zeros(12,1) \n",
    "gu[0] = u1\n",
    "gu[1] = u1.diff(alpha1)\n",
    "gu[3] = u1.diff(alpha3)\n",
    "\n",
    "\n",
    "gu[8] = u3\n",
    "gu[9] = u3.diff(alpha1)\n",
    "\n",
    "\n",
    "gradup=Grad_U_P*gu\n",
    "\n",
    "# o20=(K*u(alpha1)-w(alpha1).diff(alpha1)+t(alpha1))/2\n",
    "# o21=K*t(alpha1)\n",
    "# O=1/2*o20*o20+alpha3*o20*o21-alpha3*K/2*o20*o20\n",
    "# O=expand(O)\n",
    "# O=collect(O,alpha3)\n",
    "# simplify(O)\n",
    "\n",
    "StrainNL = E_NonLinear(gradup)*gradup\n",
    "simplify(StrainNL)"
   ]
  },
  {
   "cell_type": "markdown",
   "metadata": {},
   "source": [
    "### Square theory\n",
    "\n",
    "$u^1 \\left( \\alpha_1, \\alpha_2, \\alpha_3 \\right)=u_{10}\\left( \\alpha_1 \\right)p_0\\left( \\alpha_3 \\right)+u_{11}\\left( \\alpha_1 \\right)p_1\\left( \\alpha_3 \\right)+u_{12}\\left( \\alpha_1 \\right)p_2\\left( \\alpha_3 \\right) $\n",
    "\n",
    "$u^2 \\left( \\alpha_1, \\alpha_2, \\alpha_3 \\right)=0 $\n",
    "\n",
    "$u^3 \\left( \\alpha_1, \\alpha_2, \\alpha_3 \\right)=u_{30}\\left( \\alpha_1 \\right)p_0\\left( \\alpha_3 \\right)+u_{31}\\left( \\alpha_1 \\right)p_1\\left( \\alpha_3 \\right)+u_{32}\\left( \\alpha_1 \\right)p_2\\left( \\alpha_3 \\right) $\n",
    "\n",
    "$ \\left( \n",
    "\\begin{array}{c} \n",
    "u^1 \\\\\n",
    "\\frac { \\partial u^1 } { \\partial \\alpha_1} \\\\\n",
    "\\frac { \\partial u^1 } { \\partial \\alpha_2} \\\\\n",
    "\\frac { \\partial u^1 } { \\partial \\alpha_3} \\\\\n",
    "u^2 \\\\\n",
    "\\frac { \\partial u^2 } { \\partial \\alpha_1} \\\\\n",
    "\\frac { \\partial u^2 } { \\partial \\alpha_2} \\\\\n",
    "\\frac { \\partial u^2 } { \\partial \\alpha_3} \\\\\n",
    "u^3 \\\\\n",
    "\\frac { \\partial u^3 } { \\partial \\alpha_1} \\\\\n",
    "\\frac { \\partial u^3 } { \\partial \\alpha_2} \\\\\n",
    "\\frac { \\partial u^3 } { \\partial \\alpha_3} \\\\\n",
    "\\end{array} \n",
    "\\right) = L \\cdot \n",
    "\\left( \n",
    "\\begin{array}{c} \n",
    "u_{10} \\\\\n",
    "\\frac { \\partial u_{10} } { \\partial \\alpha_1} \\\\\n",
    "u_{11} \\\\\n",
    "\\frac { \\partial u_{11} } { \\partial \\alpha_1} \\\\\n",
    "u_{12} \\\\\n",
    "\\frac { \\partial u_{12} } { \\partial \\alpha_1} \\\\\n",
    "u_{30} \\\\\n",
    "\\frac { \\partial u_{30} } { \\partial \\alpha_1} \\\\\n",
    "u_{31} \\\\\n",
    "\\frac { \\partial u_{31} } { \\partial \\alpha_1} \\\\\n",
    "u_{32} \\\\\n",
    "\\frac { \\partial u_{32} } { \\partial \\alpha_1} \\\\\n",
    "\\end{array} \n",
    "\\right) $"
   ]
  },
  {
   "cell_type": "code",
   "execution_count": 24,
   "metadata": {},
   "outputs": [
    {
     "data": {
      "image/png": "[encoded data removed]",
      "text/latex": [
       "$$\\left[\\begin{array}{cccccccccccc}- \\frac{\\alpha_{3}}{h} + 0.5 & 0 & \\frac{\\alpha_{3}}{h} + 0.5 & 0 & - \\frac{4 \\alpha_{3}^{2}}{h^{2}} + 1 & 0 & 0 & 0 & 0 & 0 & 0 & 0\\\\0 & - \\frac{\\alpha_{3}}{h} + 0.5 & 0 & \\frac{\\alpha_{3}}{h} + 0.5 & 0 & - \\frac{4 \\alpha_{3}^{2}}{h^{2}} + 1 & 0 & 0 & 0 & 0 & 0 & 0\\\\0 & 0 & 0 & 0 & 0 & 0 & 0 & 0 & 0 & 0 & 0 & 0\\\\- \\frac{1}{h} & 0 & \\frac{1}{h} & 0 & - \\frac{8 \\alpha_{3}}{h^{2}} & 0 & 0 & 0 & 0 & 0 & 0 & 0\\\\0 & 0 & 0 & 0 & 0 & 0 & 0 & 0 & 0 & 0 & 0 & 0\\\\0 & 0 & 0 & 0 & 0 & 0 & 0 & 0 & 0 & 0 & 0 & 0\\\\0 & 0 & 0 & 0 & 0 & 0 & 0 & 0 & 0 & 0 & 0 & 0\\\\0 & 0 & 0 & 0 & 0 & 0 & 0 & 0 & 0 & 0 & 0 & 0\\\\0 & 0 & 0 & 0 & 0 & 0 & - \\frac{\\alpha_{3}}{h} + 0.5 & 0 & \\frac{\\alpha_{3}}{h} + 0.5 & 0 & - \\frac{4 \\alpha_{3}^{2}}{h^{2}} + 1 & 0\\\\0 & 0 & 0 & 0 & 0 & 0 & 0 & - \\frac{\\alpha_{3}}{h} + 0.5 & 0 & \\frac{\\alpha_{3}}{h} + 0.5 & 0 & - \\frac{4 \\alpha_{3}^{2}}{h^{2}} + 1\\\\0 & 0 & 0 & 0 & 0 & 0 & 0 & 0 & 0 & 0 & 0 & 0\\\\0 & 0 & 0 & 0 & 0 & 0 & - \\frac{1}{h} & 0 & \\frac{1}{h} & 0 & - \\frac{8 \\alpha_{3}}{h^{2}} & 0\\end{array}\\right]$$"
      ],
      "text/plain": [
       "⎡                                                  2                          \n",
       "⎢  α₃                    α₃                    4⋅α₃                           \n",
       "⎢- ── + 0.5      0       ── + 0.5     0      - ───── + 1       0           0  \n",
       "⎢  h                     h                        2                           \n",
       "⎢                                                h                            \n",
       "⎢                                                                             \n",
       "⎢                                                               2             \n",
       "⎢              α₃                  α₃                       4⋅α₃              \n",
       "⎢    0       - ── + 0.5     0      ── + 0.5       0       - ───── + 1      0  \n",
       "⎢              h                   h                           2              \n",
       "⎢                                                             h               \n",
       "⎢                                                                             \n",
       "⎢    0           0          0         0           0            0           0  \n",
       "⎢                                                                             \n",
       "⎢   -1                      1                  -8⋅α₃                          \n",
       "⎢   ───          0          ─         0        ──────          0           0  \n",
       "⎢    h                      h                     2                           \n",
       "⎢                                                h                            \n",
       "⎢                                                                             \n",
       "⎢    0           0          0         0           0            0           0  \n",
       "⎢                                                                             \n",
       "⎢    0           0          0         0           0            0           0  \n",
       "⎢                                                                             \n",
       "⎢    0           0          0         0           0            0           0  \n",
       "⎢                                                                             \n",
       "⎢    0           0          0         0           0            0           0  \n",
       "⎢                                                                             \n",
       "⎢                                                                             \n",
       "⎢                                                                        α₃   \n",
       "⎢    0           0          0         0           0            0       - ── + \n",
       "⎢                                                                        h    \n",
       "⎢                                                                             \n",
       "⎢                                                                             \n",
       "⎢                                                                             \n",
       "⎢                                                                             \n",
       "⎢    0           0          0         0           0            0           0  \n",
       "⎢                                                                             \n",
       "⎢                                                                             \n",
       "⎢                                                                             \n",
       "⎢    0           0          0         0           0            0           0  \n",
       "⎢                                                                             \n",
       "⎢                                                                         -1  \n",
       "⎢    0           0          0         0           0            0          ─── \n",
       "⎢                                                                          h  \n",
       "⎣                                                                             \n",
       "\n",
       "                                                             ⎤\n",
       "                                                             ⎥\n",
       "         0          0         0           0            0     ⎥\n",
       "                                                             ⎥\n",
       "                                                             ⎥\n",
       "                                                             ⎥\n",
       "                                                             ⎥\n",
       "                                                             ⎥\n",
       "         0          0         0           0            0     ⎥\n",
       "                                                             ⎥\n",
       "                                                             ⎥\n",
       "                                                             ⎥\n",
       "         0          0         0           0            0     ⎥\n",
       "                                                             ⎥\n",
       "                                                             ⎥\n",
       "         0          0         0           0            0     ⎥\n",
       "                                                             ⎥\n",
       "                                                             ⎥\n",
       "                                                             ⎥\n",
       "         0          0         0           0            0     ⎥\n",
       "                                                             ⎥\n",
       "         0          0         0           0            0     ⎥\n",
       "                                                             ⎥\n",
       "         0          0         0           0            0     ⎥\n",
       "                                                             ⎥\n",
       "         0          0         0           0            0     ⎥\n",
       "                                                             ⎥\n",
       "                                           2                 ⎥\n",
       "                 α₃                    4⋅α₃                  ⎥\n",
       "0.5      0       ── + 0.5     0      - ───── + 1       0     ⎥\n",
       "                 h                        2                  ⎥\n",
       "                                         h                   ⎥\n",
       "                                                             ⎥\n",
       "                                                        2    ⎥\n",
       "       α₃                  α₃                       4⋅α₃     ⎥\n",
       "     - ── + 0.5     0      ── + 0.5       0       - ───── + 1⎥\n",
       "       h                   h                           2     ⎥\n",
       "                                                      h      ⎥\n",
       "                                                             ⎥\n",
       "         0          0         0           0            0     ⎥\n",
       "                                                             ⎥\n",
       "                    1                  -8⋅α₃                 ⎥\n",
       "         0          ─         0        ──────          0     ⎥\n",
       "                    h                     2                  ⎥\n",
       "                                         h                   ⎦"
      ]
     },
     "execution_count": 24,
     "metadata": {},
     "output_type": "execute_result"
    }
   ],
   "source": [
    "L=zeros(12,12)\n",
    "h=Symbol('h')\n",
    "p0=1/2-alpha3/h\n",
    "p1=1/2+alpha3/h\n",
    "p2=1-(2*alpha3/h)**2\n",
    "\n",
    "L[0,0]=p0\n",
    "L[0,2]=p1\n",
    "L[0,4]=p2\n",
    "\n",
    "L[1,1]=p0\n",
    "L[1,3]=p1\n",
    "L[1,5]=p2\n",
    "\n",
    "L[3,0]=p0.diff(alpha3)\n",
    "L[3,2]=p1.diff(alpha3)\n",
    "L[3,4]=p2.diff(alpha3)\n",
    "\n",
    "L[8,6]=p0\n",
    "L[8,8]=p1\n",
    "L[8,10]=p2\n",
    "\n",
    "L[9,7]=p0\n",
    "L[9,9]=p1\n",
    "L[9,11]=p2\n",
    "\n",
    "L[11,6]=p0.diff(alpha3)\n",
    "L[11,8]=p1.diff(alpha3)\n",
    "L[11,10]=p2.diff(alpha3)\n",
    "\n",
    "L"
   ]
  },
  {
   "cell_type": "code",
   "execution_count": 25,
   "metadata": {},
   "outputs": [
    {
     "data": {
      "image/png": "[encoded data removed]",
      "text/latex": [
       "$$\\left[\\begin{array}{cccccccccccc}0 & - \\frac{\\alpha_{3}}{h} + 0.5 & 0 & \\frac{\\alpha_{3}}{h} + 0.5 & 0 & - \\frac{4 \\alpha_{3}^{2}}{h^{2}} + 1 & 0 & 0 & 0 & 0 & 0 & 0\\\\0 & 0 & 0 & 0 & 0 & 0 & 0 & 0 & 0 & 0 & 0 & 0\\\\0 & 0 & 0 & 0 & 0 & 0 & - \\frac{1}{h} & 0 & \\frac{1}{h} & 0 & - \\frac{8 \\alpha_{3}}{h^{2}} & 0\\\\0 & 0 & 0 & 0 & 0 & 0 & 0 & 0 & 0 & 0 & 0 & 0\\\\- \\frac{1}{h} & 0 & \\frac{1}{h} & 0 & - \\frac{8 \\alpha_{3}}{h^{2}} & 0 & 0 & - \\frac{\\alpha_{3}}{h} + 0.5 & 0 & \\frac{\\alpha_{3}}{h} + 0.5 & 0 & - \\frac{4 \\alpha_{3}^{2}}{h^{2}} + 1\\\\0 & 0 & 0 & 0 & 0 & 0 & 0 & 0 & 0 & 0 & 0 & 0\\end{array}\\right]$$"
      ],
      "text/plain": [
       "⎡                                            2                                \n",
       "⎢       α₃           α₃                  4⋅α₃                                 \n",
       "⎢ 0   - ── + 0.5  0  ── + 0.5    0     - ───── + 1   0       0       0     0  \n",
       "⎢       h            h                      2                                 \n",
       "⎢                                          h                                  \n",
       "⎢                                                                             \n",
       "⎢ 0       0       0     0        0          0        0       0       0     0  \n",
       "⎢                                                                             \n",
       "⎢                                                   -1               1        \n",
       "⎢ 0       0       0     0        0          0       ───      0       ─     0  \n",
       "⎢                                                    h               h        \n",
       "⎢                                                                             \n",
       "⎢                                                                             \n",
       "⎢ 0       0       0     0        0          0        0       0       0     0  \n",
       "⎢                                                                             \n",
       "⎢                                                                             \n",
       "⎢-1               1            -8⋅α₃                       α₃           α₃    \n",
       "⎢───      0       ─     0      ──────       0        0   - ── + 0.5  0  ── + 0\n",
       "⎢ h               h               2                        h            h     \n",
       "⎢                                h                                            \n",
       "⎢                                                                             \n",
       "⎣ 0       0       0     0        0          0        0       0       0     0  \n",
       "\n",
       "                       ⎤\n",
       "                       ⎥\n",
       "      0          0     ⎥\n",
       "                       ⎥\n",
       "                       ⎥\n",
       "                       ⎥\n",
       "      0          0     ⎥\n",
       "                       ⎥\n",
       "    -8⋅α₃              ⎥\n",
       "    ──────       0     ⎥\n",
       "       2               ⎥\n",
       "      h                ⎥\n",
       "                       ⎥\n",
       "      0          0     ⎥\n",
       "                       ⎥\n",
       "                  2    ⎥\n",
       "              4⋅α₃     ⎥\n",
       ".5    0     - ───── + 1⎥\n",
       "                 2     ⎥\n",
       "                h      ⎥\n",
       "                       ⎥\n",
       "      0          0     ⎦"
      ]
     },
     "execution_count": 25,
     "metadata": {},
     "output_type": "execute_result"
    }
   ],
   "source": [
    "D_p_L = StrainL*L\n",
    "simplify(D_p_L)"
   ]
  },
  {
   "cell_type": "code",
   "execution_count": 54,
   "metadata": {},
   "outputs": [
    {
     "data": {
      "image/png": "[encoded data removed]",
      "text/latex": [
       "$$0.166666666666667$$"
      ],
      "text/plain": [
       "0.166666666666667"
      ]
     },
     "execution_count": 54,
     "metadata": {},
     "output_type": "execute_result"
    }
   ],
   "source": [
    "h = 0.5\n",
    "exp=(0.5-alpha3/h)*(1-(2*alpha3/h)**2)#/(1+alpha3*0.8)\n",
    "p02=integrate(exp, (alpha3, -h/2, h/2))\n",
    "integral = expand(simplify(p02))\n",
    "integral"
   ]
  },
  {
   "cell_type": "markdown",
   "metadata": {},
   "source": [
    "## Mass matrix"
   ]
  },
  {
   "cell_type": "code",
   "execution_count": 26,
   "metadata": {},
   "outputs": [
    {
     "data": {
      "image/png": "[encoded data removed]",
      "text/latex": [
       "$$\\left[\\begin{array}{cccccccccccc}\\rho & 0 & 0 & 0 & 0 & 0 & 0 & 0 & 0 & 0 & 0 & 0\\\\0 & 0 & 0 & 0 & 0 & 0 & 0 & 0 & 0 & 0 & 0 & 0\\\\0 & 0 & 0 & 0 & 0 & 0 & 0 & 0 & 0 & 0 & 0 & 0\\\\0 & 0 & 0 & 0 & 0 & 0 & 0 & 0 & 0 & 0 & 0 & 0\\\\0 & 0 & 0 & 0 & \\rho & 0 & 0 & 0 & 0 & 0 & 0 & 0\\\\0 & 0 & 0 & 0 & 0 & 0 & 0 & 0 & 0 & 0 & 0 & 0\\\\0 & 0 & 0 & 0 & 0 & 0 & 0 & 0 & 0 & 0 & 0 & 0\\\\0 & 0 & 0 & 0 & 0 & 0 & 0 & 0 & 0 & 0 & 0 & 0\\\\0 & 0 & 0 & 0 & 0 & 0 & 0 & 0 & \\rho & 0 & 0 & 0\\\\0 & 0 & 0 & 0 & 0 & 0 & 0 & 0 & 0 & 0 & 0 & 0\\\\0 & 0 & 0 & 0 & 0 & 0 & 0 & 0 & 0 & 0 & 0 & 0\\\\0 & 0 & 0 & 0 & 0 & 0 & 0 & 0 & 0 & 0 & 0 & 0\\end{array}\\right]$$"
      ],
      "text/plain": [
       "⎡ρ  0  0  0  0  0  0  0  0  0  0  0⎤\n",
       "⎢                                  ⎥\n",
       "⎢0  0  0  0  0  0  0  0  0  0  0  0⎥\n",
       "⎢                                  ⎥\n",
       "⎢0  0  0  0  0  0  0  0  0  0  0  0⎥\n",
       "⎢                                  ⎥\n",
       "⎢0  0  0  0  0  0  0  0  0  0  0  0⎥\n",
       "⎢                                  ⎥\n",
       "⎢0  0  0  0  ρ  0  0  0  0  0  0  0⎥\n",
       "⎢                                  ⎥\n",
       "⎢0  0  0  0  0  0  0  0  0  0  0  0⎥\n",
       "⎢                                  ⎥\n",
       "⎢0  0  0  0  0  0  0  0  0  0  0  0⎥\n",
       "⎢                                  ⎥\n",
       "⎢0  0  0  0  0  0  0  0  0  0  0  0⎥\n",
       "⎢                                  ⎥\n",
       "⎢0  0  0  0  0  0  0  0  ρ  0  0  0⎥\n",
       "⎢                                  ⎥\n",
       "⎢0  0  0  0  0  0  0  0  0  0  0  0⎥\n",
       "⎢                                  ⎥\n",
       "⎢0  0  0  0  0  0  0  0  0  0  0  0⎥\n",
       "⎢                                  ⎥\n",
       "⎣0  0  0  0  0  0  0  0  0  0  0  0⎦"
      ]
     },
     "execution_count": 26,
     "metadata": {},
     "output_type": "execute_result"
    }
   ],
   "source": [
    "rho=Symbol('rho')\n",
    "B_h=zeros(3,12)\n",
    "B_h[0,0]=1\n",
    "B_h[1,4]=1\n",
    "B_h[2,8]=1\n",
    "M=simplify(rho*P.T*B_h.T*G_up*B_h*P)\n",
    "M"
   ]
  },
  {
   "cell_type": "code",
   "execution_count": 28,
   "metadata": {},
   "outputs": [
    {
     "data": {
      "image/png": "[encoded data removed]",
      "text/latex": [
       "$$\\left[\\begin{array}{cccccccccccc}0.333333333333333 h \\rho & 0 & 0.166666666666667 h \\rho & 0 & 0.333333333333333 h \\rho & 0 & 0 & 0 & 0 & 0 & 0 & 0\\\\0 & 0 & 0 & 0 & 0 & 0 & 0 & 0 & 0 & 0 & 0 & 0\\\\0.166666666666667 h \\rho & 0 & 0.333333333333333 h \\rho & 0 & 0.333333333333333 h \\rho & 0 & 0 & 0 & 0 & 0 & 0 & 0\\\\0 & 0 & 0 & 0 & 0 & 0 & 0 & 0 & 0 & 0 & 0 & 0\\\\0.333333333333333 h \\rho & 0 & 0.333333333333333 h \\rho & 0 & \\frac{8 h}{15} \\rho & 0 & 0 & 0 & 0 & 0 & 0 & 0\\\\0 & 0 & 0 & 0 & 0 & 0 & 0 & 0 & 0 & 0 & 0 & 0\\\\0 & 0 & 0 & 0 & 0 & 0 & 0.333333333333333 h \\rho & 0 & 0.166666666666667 h \\rho & 0 & 0.333333333333333 h \\rho & 0\\\\0 & 0 & 0 & 0 & 0 & 0 & 0 & 0 & 0 & 0 & 0 & 0\\\\0 & 0 & 0 & 0 & 0 & 0 & 0.166666666666667 h \\rho & 0 & 0.333333333333333 h \\rho & 0 & 0.333333333333333 h \\rho & 0\\\\0 & 0 & 0 & 0 & 0 & 0 & 0 & 0 & 0 & 0 & 0 & 0\\\\0 & 0 & 0 & 0 & 0 & 0 & 0.333333333333333 h \\rho & 0 & 0.333333333333333 h \\rho & 0 & \\frac{8 h}{15} \\rho & 0\\\\0 & 0 & 0 & 0 & 0 & 0 & 0 & 0 & 0 & 0 & 0 & 0\\end{array}\\right]$$"
      ],
      "text/plain": [
       "⎡0.333333333333333⋅h⋅ρ  0  0.166666666666667⋅h⋅ρ  0  0.333333333333333⋅h⋅ρ  0 \n",
       "⎢                                                                             \n",
       "⎢          0            0            0            0            0            0 \n",
       "⎢                                                                             \n",
       "⎢0.166666666666667⋅h⋅ρ  0  0.333333333333333⋅h⋅ρ  0  0.333333333333333⋅h⋅ρ  0 \n",
       "⎢                                                                             \n",
       "⎢          0            0            0            0            0            0 \n",
       "⎢                                                                             \n",
       "⎢                                                            8⋅h⋅ρ            \n",
       "⎢0.333333333333333⋅h⋅ρ  0  0.333333333333333⋅h⋅ρ  0          ─────          0 \n",
       "⎢                                                              15             \n",
       "⎢                                                                             \n",
       "⎢          0            0            0            0            0            0 \n",
       "⎢                                                                             \n",
       "⎢          0            0            0            0            0            0 \n",
       "⎢                                                                             \n",
       "⎢          0            0            0            0            0            0 \n",
       "⎢                                                                             \n",
       "⎢          0            0            0            0            0            0 \n",
       "⎢                                                                             \n",
       "⎢          0            0            0            0            0            0 \n",
       "⎢                                                                             \n",
       "⎢                                                                             \n",
       "⎢          0            0            0            0            0            0 \n",
       "⎢                                                                             \n",
       "⎢                                                                             \n",
       "⎣          0            0            0            0            0            0 \n",
       "\n",
       "           0            0            0            0            0            0⎤\n",
       "                                                                             ⎥\n",
       "           0            0            0            0            0            0⎥\n",
       "                                                                             ⎥\n",
       "           0            0            0            0            0            0⎥\n",
       "                                                                             ⎥\n",
       "           0            0            0            0            0            0⎥\n",
       "                                                                             ⎥\n",
       "                                                                             ⎥\n",
       "           0            0            0            0            0            0⎥\n",
       "                                                                             ⎥\n",
       "                                                                             ⎥\n",
       "           0            0            0            0            0            0⎥\n",
       "                                                                             ⎥\n",
       " 0.333333333333333⋅h⋅ρ  0  0.166666666666667⋅h⋅ρ  0  0.333333333333333⋅h⋅ρ  0⎥\n",
       "                                                                             ⎥\n",
       "           0            0            0            0            0            0⎥\n",
       "                                                                             ⎥\n",
       " 0.166666666666667⋅h⋅ρ  0  0.333333333333333⋅h⋅ρ  0  0.333333333333333⋅h⋅ρ  0⎥\n",
       "                                                                             ⎥\n",
       "           0            0            0            0            0            0⎥\n",
       "                                                                             ⎥\n",
       "                                                             8⋅h⋅ρ           ⎥\n",
       " 0.333333333333333⋅h⋅ρ  0  0.333333333333333⋅h⋅ρ  0          ─────          0⎥\n",
       "                                                               15            ⎥\n",
       "                                                                             ⎥\n",
       "           0            0            0            0            0            0⎦"
      ]
     },
     "execution_count": 28,
     "metadata": {},
     "output_type": "execute_result"
    }
   ],
   "source": [
    "M_p = L.T*M*L\n",
    "mass_matr = simplify(integrate(M_p, (alpha3, -h/2, h/2)))\n",
    "mass_matr"
   ]
  }
 ],
 "metadata": {
  "kernelspec": {
   "display_name": "Python 3",
   "language": "python",
   "name": "python3"
  },
  "language_info": {
   "codemirror_mode": {
    "name": "ipython",
    "version": 3
   },
   "file_extension": ".py",
   "mimetype": "text/x-python",
   "name": "python",
   "nbconvert_exporter": "python",
   "pygments_lexer": "ipython3",
   "version": "3.6.4"
  }
 },
 "nbformat": 4,
 "nbformat_minor": 2
}
